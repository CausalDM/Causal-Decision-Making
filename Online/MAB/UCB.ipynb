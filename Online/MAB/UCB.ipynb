{
 "cells": [
  {
   "cell_type": "markdown",
   "id": "b9bbf0c3",
   "metadata": {},
   "source": [
    "# UCB\n",
    "\n",
    "## Overview\n",
    "- **Advantage**: There is no need to specify any hyper-parameters. It carefully quantifies the uncertainty of the estimation to better combine exploration and exploitation. \n",
    "- **Disadvantage**: Inefficient if there is a large number of action items. \n",
    "- **Application Situation**: discrete action space, binary/Gaussian reward space\n",
    "\n",
    "## Main Idea\n",
    "As the name suggested, the UCB algorithm estimates the upper confidence bound $U_{a}^{t}$ of the mean of the potential reward of arm $a$, $R_t(a)$, based on the observations and then choose the action has the highest estimates. The class of UCB-based algorithms is firstly introduced by Auer et al. [1]. Generally, at each round $t$, $U_{a}^{t}$ is calculated as the sum of the estimated reward (exploitation) and the estimated confidence radius (exploration) of item $i$ based on previous observations. Then, $A_{t}$ is selected as \n",
    "$$\n",
    "\\begin{equation}\n",
    "    A_t = argmax_{a \\in \\mathcal{A}} U_a^t.\n",
    "\\end{equation} \n",
    "$$\n",
    "As an example, **UCB** [1] estimates the confidence radius as $\\sqrt{\\frac{2log(t)}{\\text{\\# item $i$ played so far}}}$. Doing so, either the item with a large average reward or the item with limited exploration will be selected. Note that this algorithm support cases with either binary reward or continuous reward.\n",
    "\n",
    "## Algorithms Details\n",
    "Supposed there are $K$ options, and the action space is $\\mathcal{A} = \\{0,1,\\cdots, K-1\\}$. The UCB1 algorithm start with initializing the estimated upper confidence bound $U_a^{0}$ and the count of being pulled $C_a^{0}$ for each action $a$ as 0. At each round $t$, we greedily select an action $A_t$ as \n",
    "\\begin{align}\n",
    "A_t = arg max_{a\\in \\mathcal{A}} U_{a}^{t}.\n",
    "\\end{align}\n",
    "\n",
    "After observing the rewards corresponding to the selected action $A_t$, we first update the total number of being pulled for $A_t$ accordingly. Then, we estimate the upper confidence bound for each action $a$ as\n",
    "\\begin{align}\n",
    "U_{a}^{t+1} = \\frac{1}{C_a^{t+1}}\\sum_{t'=0}^{t}R_{t'}I(A_{t'}=a) + \\sqrt{\\frac{2*log(t+1)}{C_a^{t+1}}} ,\n",
    "\\end{align}where $R_{t'}$ is the reward received at round $t'$. Intuitively, $U_{a}^{t}$ is the sum of the sample average reward of action $a$ for expolitation and a confidence radius for exploration.\n",
    "\n",
    "## Key Steps\n",
    "\n",
    "1. Initializing the $\\boldsymbol{U}^0$ and $\\boldsymbol{C}^0$ for $K$ items as 0\n",
    "2. For t = $0, 1,\\cdots, T$:\n",
    "\n",
    "    2.1. select action $A_t$ as the arm with the maximum $U_a^t$\n",
    "    \n",
    "    2.2. Received the reward R, and update $C$ and $U$ with\n",
    "    \\begin{align}\n",
    "    C_{A_{t}}^{t+1} &= C_{A_{t}}^{t} + 1 \\\\\n",
    "    U_{A_{t}}^{t+1} &= \\frac{1}{C_a^{t+1}}\\sum_{t'=0}^{t}R_{t'}I(A_{t'}=a) + \\sqrt{\\frac{2*log(t+1)}{C_a^{t+1}}} \n",
    "    \\end{align}"
   ]
  },
  {
   "cell_type": "markdown",
   "id": "b9f0330f",
   "metadata": {},
   "source": [
    "## Demo Code"
   ]
  },
  {
   "cell_type": "code",
   "execution_count": 12,
   "id": "497c1949",
   "metadata": {},
   "outputs": [],
   "source": [
    "import os\n",
    "os.getcwd()\n",
    "os.chdir('D:\\GitHub\\CausalDM')"
   ]
  },
  {
   "cell_type": "markdown",
   "id": "9c1ca0dc-a12f-487c-863c-691ebf2af9fd",
   "metadata": {},
   "source": [
    "### Import the learner."
   ]
  },
  {
   "cell_type": "code",
   "execution_count": 13,
   "id": "94066040",
   "metadata": {},
   "outputs": [],
   "source": [
    "import numpy as np\n",
    "from causaldm.learners.Online.MAB import UCB"
   ]
  },
  {
   "cell_type": "markdown",
   "id": "6c3eacd3-3684-4a74-920f-902451993f34",
   "metadata": {},
   "source": [
    "### Generate the Environment\n",
    "\n",
    "Here, we imitate an environment based on the MovieLens data."
   ]
  },
  {
   "cell_type": "code",
   "execution_count": 14,
   "id": "22b6b447-ace9-4e13-baa5-c68388f01896",
   "metadata": {},
   "outputs": [],
   "source": [
    "from causaldm.learners.Online.MAB import _env_realMAB as _env\n",
    "env = _env.Single_Gaussian_Env(seed = 42)"
   ]
  },
  {
   "cell_type": "markdown",
   "id": "ab64a1c2-894f-4cda-bc82-ddf25136834e",
   "metadata": {},
   "source": [
    "### Specify Hyperparameters\n",
    "\n",
    "- K: # of arms"
   ]
  },
  {
   "cell_type": "code",
   "execution_count": 15,
   "id": "3cb9bd5f",
   "metadata": {},
   "outputs": [],
   "source": [
    "UCB_agent = UCB.UCB1(env.K)"
   ]
  },
  {
   "cell_type": "markdown",
   "id": "54877ee5-aace-4ca2-8aee-e6bd031a28ed",
   "metadata": {},
   "source": [
    "### Recommendation and Interaction\n",
    "\n",
    "Starting from t = 0, for each step t, there are three steps:\n",
    "1. Recommend an action \n",
    "<code> A = UCB_agent.take_action() </code>\n",
    "2. Get the reward from the environment \n",
    "<code> R = env.get_reward(t,A) </code>\n",
    "3. Update the posterior distribution\n",
    "<code> UCB_agent.receive_reward(t,A,R) </code>"
   ]
  },
  {
   "cell_type": "code",
   "execution_count": 16,
   "id": "ba8b09ec",
   "metadata": {},
   "outputs": [
    {
     "data": {
      "text/plain": [
       "(0, 0, 2)"
      ]
     },
     "execution_count": 16,
     "metadata": {},
     "output_type": "execute_result"
    }
   ],
   "source": [
    "t = 0\n",
    "A = UCB_agent.take_action()\n",
    "R = env.get_reward(A)\n",
    "UCB_agent.receive_reward(t,A,R)\n",
    "t, A, R"
   ]
  },
  {
   "cell_type": "markdown",
   "id": "ea24204c",
   "metadata": {},
   "source": [
    "**Interpretation**: For step 0, the UCB agent recommend a Comedy (arm 0), and received a rate of 2 from the environment."
   ]
  },
  {
   "cell_type": "markdown",
   "id": "1b90c0eb-b1dd-4d37-a324-5b18de24fe38",
   "metadata": {},
   "source": [
    "### Demo Code for Bernoulli Bandit\n",
    "The steps are similar to those previously performed with a Gaussian Bandit."
   ]
  },
  {
   "cell_type": "code",
   "execution_count": 18,
   "id": "5ba2f16f-473d-484d-9776-1b8f0098185a",
   "metadata": {},
   "outputs": [
    {
     "data": {
      "text/plain": [
       "(0, 0, 0)"
      ]
     },
     "execution_count": 18,
     "metadata": {},
     "output_type": "execute_result"
    }
   ],
   "source": [
    "env = _env.Single_Bernoulli_Env(seed=42)\n",
    "\n",
    "UCB_agent = UCB.UCB1(env.K)\n",
    "\n",
    "t = 0\n",
    "A = UCB_agent.take_action()\n",
    "R = env.get_reward(A)\n",
    "UCB_agent.receive_reward(t,A,R)\n",
    "t, A, R"
   ]
  },
  {
   "cell_type": "markdown",
   "id": "07dc1f28-f953-4e75-ab19-13da18fca5a6",
   "metadata": {},
   "source": [
    "**Interpretation**: For step 0, the UCB agent recommend a Comedy (arm 0), and received a reward of 0 from the environment."
   ]
  },
  {
   "cell_type": "markdown",
   "id": "beeaf399",
   "metadata": {},
   "source": [
    "## References\n",
    "\n",
    "[1] Auer, P., Cesa-Bianchi, N., and Fischer, P. (2002). Finite-time analysis of the multiarmed bandit problem. Machine learning, 47(2):235–256."
   ]
  }
 ],
 "metadata": {
  "kernelspec": {
   "display_name": "Python 3 (ipykernel)",
   "language": "python",
   "name": "python3"
  },
  "language_info": {
   "codemirror_mode": {
    "name": "ipython",
    "version": 3
   },
   "file_extension": ".py",
   "mimetype": "text/x-python",
   "name": "python",
   "nbconvert_exporter": "python",
   "pygments_lexer": "ipython3",
   "version": "3.9.7"
  }
 },
 "nbformat": 4,
 "nbformat_minor": 5
}

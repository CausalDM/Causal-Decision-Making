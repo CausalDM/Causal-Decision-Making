{
 "cells": [
  {
   "cell_type": "markdown",
   "id": "154bbf56",
   "metadata": {},
   "source": [
    "# $\\epsilon$-Greedy\n",
    "\n",
    "## Overview\n",
    "- **Advantage**: Simple and easy to understand. Compared to random policy, it makes better use of observations. \n",
    "- **Disadvantage**:  It is difficult to determine an ideal $\\epsilon$: if $\\epsilon$ is large, exploration will dominate; otherwise, eploitation will dominate. To address this issue, we offer a more adaptive version—$\\epsilon_t$-greedy, where $\\epsilon_t$ decreases as $t$ increases.\n",
    "- **Application Situation**: discrete action space, binary/Gaussian reward space\n",
    "\n",
    "## Main Idea\n",
    "$\\epsilon$-Greedy is an intuitive algorithm to incorporate the exploration and exploitation. It is simple and widely used [1]. Specifically, at each round $t$, we will select a random action with probability $\\epsilon$, and select an action with the highest estimated mean potential reward, $\\theta_a$, for each arm $a$ based on the history so far with probability $1-\\epsilon$. Specifically,\n",
    "$$\n",
    "\\begin{aligned}\n",
    "\\theta_a = \\hat{E}(R_t(a)|\\{A_t, R_t\\})\n",
    "\\end{aligned}\n",
    "$$\n",
    "\n",
    "For example, in movie recommendation, the agent would either recommend a random genere of movies to the user or recommend the genere that the user watched the most in the past. Here the parameter $\\epsilon$ is pre-specified. A more adaptive variant is $\\epsilon_{t}$-greedy, where the probability of taking a random action is defined as a decreasing function of $t$. Auer et al. [2] showed that $\\epsilon_{t}$-greedy performs well in practice with $\\epsilon_{t}$ decreases to 0 at a rate of $\\frac{1}{t}$. Note that, the reward can be either binary or continuous.\n",
    "\n",
    "\n",
    "## Algorithms Details\n",
    "Supposed there are $K$ options, and the action space is $\\mathcal{A} = \\{0,1,\\cdots, K-1\\}$. The $\\epsilon$-greedy algorithm start with initializing the estimated values $\\theta_a^0$ and the count of being pulled $C_a^0$ for each action $a$ as 0. At each round $t$, we either take an action with the maximum estimated value $\\theta_a$ with probability $1-\\epsilon_{t}$ or randomly select an action with probability $\\epsilon_t$. After observing the rewards corresponding to the selected action $A_t$, we updated the total number of being pulled for $A_t$, and estimated the $\\theta_{A_{t}}$ by with the sample average for $A_t$.\n",
    "\n",
    "Remark that both the time-adaptive and the time-fixed version of $\\epsilon$-greedy algorithm are provided. By setting **decrease_eps=True**, the $\\epsilon_{t}$ in round $t$ is calculated as $\\frac{K}{T}$. Otherwise, $\\epsilon_{t}$ is a fixed value specfied by users.\n",
    "\n",
    "## Key Steps\n",
    "\n",
    "1. Initializing the $\\boldsymbol{\\theta}^0$ and $\\boldsymbol{C}^0$ for $K$ items as 0\n",
    "2. For t = $0, 1,\\cdots, T$:\n",
    "\n",
    "    2.1. select action $A_t$ as the arm with the maximum $\\theta_a^t$ with probability $1-\\epsilon_t$, or randomly select an action $A_t$ with probability $\\epsilon_t$\n",
    "    \n",
    "    2.2. Received the reward $R_t$, and update $C$ and $Q$ with\n",
    "    \\begin{align}\n",
    "    C_{A_{t}}^{t+1} &= C_{A_{t}}^{t} + 1 \\\\\n",
    "    \\theta_{A_{t}}^{t+1} &=\\theta_{A_{t}}^{t} + \\frac{1}{C_{A_{t+1}}^{t+1}}*(R_t-\\theta_{A_{t}}^{t})\n",
    "    \\end{align}"
   ]
  },
  {
   "cell_type": "markdown",
   "id": "755d09cc",
   "metadata": {},
   "source": [
    "## Demo Code"
   ]
  },
  {
   "cell_type": "code",
   "execution_count": 4,
   "id": "d7713acf",
   "metadata": {},
   "outputs": [],
   "source": [
    "# After we publish the pack age, we can directly import it\n",
    "# TODO: explore more efficient way\n",
    "# we can hide this cell later\n",
    "import os\n",
    "os.getcwd()\n",
    "os.chdir('/nas/longleaf/home/lge/CausalDM')\n",
    "# code used to import the learner"
   ]
  },
  {
   "cell_type": "code",
   "execution_count": 5,
   "id": "be69a99f",
   "metadata": {},
   "outputs": [],
   "source": [
    "from causaldm.learners.Online.Single import Epsilon_Greedy\n",
    "from causaldm.learners.Online.Single import _env\n",
    "import numpy as np"
   ]
  },
  {
   "cell_type": "code",
   "execution_count": 6,
   "id": "ab51be13",
   "metadata": {},
   "outputs": [],
   "source": [
    "T = 2000\n",
    "K = 5\n",
    "\n",
    "phi_beta = 1/4\n",
    "with_intercept = True\n",
    "p=3\n",
    "X_mu = np.zeros(p-1)\n",
    "X_sigma = np.identity(p-1)\n",
    "Sigma_theta = sigma_gamma = np.identity(p)\n",
    "mu_theta = np.zeros(p)\n",
    "seed = 0\n",
    "\n",
    "env = _env.Single_Gaussian_Env(T, K, p, phi_beta\n",
    "                         , mu_theta, Sigma_theta\n",
    "                        , seed, with_intercept = True\n",
    "                         , X_mu = X_mu, X_sigma = X_sigma)\n",
    "#time-adaptive. for time-fixed version, specifiying epsilon and setting decrease_eps=False\n",
    "greedy_agent = Epsilon_Greedy.Epsilon_Greedy(K, epsilon = None, decrease_eps = True)\n",
    "A = greedy_agent.take_action()\n",
    "t = 0\n",
    "R = env.get_reward(t,A)\n",
    "greedy_agent.receive_reward(t,A,R)"
   ]
  },
  {
   "cell_type": "code",
   "execution_count": 7,
   "id": "56253cb3",
   "metadata": {},
   "outputs": [
    {
     "data": {
      "text/plain": [
       "array([0., 0., 0., 1., 0.])"
      ]
     },
     "execution_count": 7,
     "metadata": {},
     "output_type": "execute_result"
    }
   ],
   "source": [
    "greedy_agent.cnts"
   ]
  },
  {
   "cell_type": "markdown",
   "id": "1fd5fab6",
   "metadata": {},
   "source": [
    "**Interpretation:** A sentence to include the analysis result: the estimated optimal regime is..."
   ]
  },
  {
   "cell_type": "code",
   "execution_count": 3,
   "id": "115cf328-70cf-43c9-b6cc-b761c1838b6d",
   "metadata": {},
   "outputs": [],
   "source": [
    "import os\n",
    "os.getcwd()\n",
    "os.chdir('/nas/longleaf/home/lge/CausalDM')\n",
    "# code used to import the learner\n",
    "from causaldm.learners.Online.Single import _env\n",
    "from causaldm.learners.Online.Single import _Experiment\n",
    "from causaldm.learners.Online.Single import Epsilon_Greedy\n",
    "from causaldm.learners.Online.Single import UCB1\n",
    "from causaldm.learners.Online.Single import TS\n",
    "from causaldm.learners.Online.Single import LinTS\n",
    "from causaldm.learners.Online.Single import LinUCB\n",
    "import numpy as np"
   ]
  },
  {
   "cell_type": "code",
   "execution_count": 27,
   "id": "35fc9ccd-4540-473e-8108-47e2b15f3059",
   "metadata": {},
   "outputs": [],
   "source": [
    "T = 2000\n",
    "K = 500\n",
    "\n",
    "phi_beta = sigma = 1/4\n",
    "with_intercept = True\n",
    "p=3\n",
    "X_mu = np.zeros(p-1)\n",
    "X_sigma = np.identity(p-1)\n",
    "Sigma_theta = sigma_gamma = np.identity(p)\n",
    "mu_theta = np.zeros(p)\n",
    "seed = 0\n",
    "\n",
    "exp = _Experiment.Experiment(T, K, p, sigma\n",
    "                         , mu_theta, Sigma_theta\n",
    "                        , seed, with_intercept = True\n",
    "                         , X_mu = X_mu, X_sigma = X_sigma, Gaussian = True)"
   ]
  },
  {
   "cell_type": "code",
   "execution_count": 28,
   "id": "9395a666-64f8-4943-90fb-10b944b45484",
   "metadata": {},
   "outputs": [
    {
     "name": "stderr",
     "output_type": "stream",
     "text": [
      "oracle: 100%|██████████| 2000/2000 [00:00<00:00, 601635.80it/s]\n",
      "greedy: 100%|██████████| 2000/2000 [00:00<00:00, 67258.99it/s]\n",
      "UCB: 100%|██████████| 2000/2000 [00:00<00:00, 46620.21it/s]\n",
      "TS: 100%|██████████| 2000/2000 [01:49<00:00, 18.29it/s]\n",
      "LinTS: 100%|██████████| 2000/2000 [00:00<00:00, 5183.43it/s]\n",
      "LinUCB: 100%|██████████| 2000/2000 [00:00<00:00, 3878.14it/s]\n"
     ]
    }
   ],
   "source": [
    "r = exp.env.r\n",
    "greedy_agent = Epsilon_Greedy.Epsilon_Greedy(K, epsilon = .6, decrease_eps = False)\n",
    "UCB_agent = UCB1.UCB1(K)\n",
    "TS_Bernoulli_agent = TS.TS(Reward_Type = \"Gaussian\", sigma = sigma, u_prior_mean = np.ones(K)*.5, u_prior_cov = np.identity(K), prior_phi_beta = sigma)\n",
    "LinTS_agent = LinTS.LinTS_Gaussian(sigma = sigma, prior_theta_u = np.ones(p), prior_theta_cov = np.identity(p), K = K, p = p, seed = seed)\n",
    "LinUCB_agent = LinUCB.LinUCB_Gaussian(alpha = .5, K = K, p = p, seed = seed)\n",
    "\n",
    "agents = {\"greedy\" : greedy_agent, 'UCB':UCB_agent, 'TS': TS_Bernoulli_agent, 'LinTS':LinTS_agent, 'LinUCB':LinUCB_agent}\n",
    "exp._init_agents(agents)\n",
    "exp.run()"
   ]
  },
  {
   "cell_type": "code",
   "execution_count": 29,
   "id": "ec2bd77e-d20e-4e1b-86d2-238159536874",
   "metadata": {},
   "outputs": [],
   "source": [
    "R_greedy = exp.record['R']['greedy']\n",
    "R_oracle = exp.record['R']['oracle']\n",
    "R_TS = exp.record['R']['TS']\n",
    "R_UCB = exp.record['R']['UCB']\n",
    "R_LinTS = exp.record['R']['LinTS']\n",
    "R_LinUCB = exp.record['R']['LinUCB']"
   ]
  },
  {
   "cell_type": "code",
   "execution_count": 30,
   "id": "f16de60f-d475-410e-bbea-2afdfc44f6e8",
   "metadata": {},
   "outputs": [],
   "source": [
    "opt_r = exp.env.r[exp.env.optimal_arm]\n",
    "Reward_greedy = (np.cumsum(opt_r-R_greedy))/np.arange(1, len(R_greedy)+1)\n",
    "Reward_TS = (np.cumsum(opt_r-R_TS))/np.arange(1, len(R_greedy)+1)\n",
    "Reward_UCB = (np.cumsum(opt_r-R_UCB))/np.arange(1, len(R_greedy)+1)\n",
    "Reward_LinTS = (np.cumsum(opt_r-R_LinTS))/np.arange(1, len(R_greedy)+1)\n",
    "Reward_LinUCB = (np.cumsum(opt_r-R_LinUCB))/np.arange(1, len(R_greedy)+1)\n",
    "Reward_oracle = (np.cumsum(opt_r-R_oracle))/np.arange(1, len(R_greedy)+1)"
   ]
  },
  {
   "cell_type": "code",
   "execution_count": 31,
   "id": "32909152-4917-4a77-9336-1cccc9f5a9d7",
   "metadata": {},
   "outputs": [
    {
     "data": {
      "text/plain": [
       "array([-2.2903,  1.4224,  0.9699])"
      ]
     },
     "execution_count": 31,
     "metadata": {},
     "output_type": "execute_result"
    }
   ],
   "source": [
    "LinTS_agent.u"
   ]
  },
  {
   "cell_type": "code",
   "execution_count": 32,
   "id": "11e1ee9e-9241-4b20-8bac-455fb0a1bc63",
   "metadata": {},
   "outputs": [
    {
     "data": {
      "text/plain": [
       "array([[nan, nan, nan],\n",
       "       [nan, nan, nan],\n",
       "       [nan, nan, nan]])"
      ]
     },
     "execution_count": 32,
     "metadata": {},
     "output_type": "execute_result"
    }
   ],
   "source": [
    "LinUCB_agent.Cov_inv"
   ]
  },
  {
   "cell_type": "code",
   "execution_count": 33,
   "id": "e208ee4c-6123-44b5-bce3-1ea686a5d0d8",
   "metadata": {},
   "outputs": [],
   "source": [
    "        x = exp.env.Phi[0]\n",
    "        Ax = np.matmul(LinUCB_agent.Cov_inv,x)\n",
    "        xAx = x.dot(Ax)\n",
    "        LinUCB_agent.Cov_inv -= Ax.dot(Ax.T)/(1+xAx)"
   ]
  },
  {
   "cell_type": "code",
   "execution_count": 41,
   "id": "68dde6f5-aa99-4c6a-bf60-7c1007571c99",
   "metadata": {},
   "outputs": [
    {
     "data": {
      "text/plain": [
       "array([[8.3083e+14, 1.3556e+15, 1.3801e+15],\n",
       "       [1.3556e+15, 2.2119e+15, 2.2518e+15],\n",
       "       [1.3801e+15, 2.2518e+15, 2.2925e+15]])"
      ]
     },
     "execution_count": 41,
     "metadata": {},
     "output_type": "execute_result"
    }
   ],
   "source": [
    "from numpy.linalg import norm, inv\n",
    "inv(LinUCB_agent.Cov)"
   ]
  },
  {
   "cell_type": "code",
   "execution_count": 35,
   "id": "b29ec89e-d1a5-4e45-825f-102eeea5fb17",
   "metadata": {},
   "outputs": [
    {
     "data": {
      "text/plain": [
       "array([1.7641, 0.4002, 0.9787])"
      ]
     },
     "execution_count": 35,
     "metadata": {},
     "output_type": "execute_result"
    }
   ],
   "source": [
    "exp.env.theta"
   ]
  },
  {
   "cell_type": "code",
   "execution_count": 36,
   "id": "b9065e15-0b74-4e41-85a7-c15ac6af1ee7",
   "metadata": {},
   "outputs": [
    {
     "data": {
      "text/plain": [
       "array([3.9901, 3.5788, 3.4776, ..., 1.6803, 1.6803, 1.6805])"
      ]
     },
     "execution_count": 36,
     "metadata": {},
     "output_type": "execute_result"
    }
   ],
   "source": [
    "Reward_LinUCB"
   ]
  },
  {
   "cell_type": "code",
   "execution_count": 37,
   "id": "ba399526-6038-4c55-8f04-cc2bb22327f6",
   "metadata": {},
   "outputs": [
    {
     "data": {
      "image/png": "[encoded data removed]",
      "text/plain": [
       "<Figure size 432x288 with 1 Axes>"
      ]
     },
     "metadata": {
      "needs_background": "light"
     },
     "output_type": "display_data"
    }
   ],
   "source": [
    "import matplotlib.pyplot as plt\n",
    "plt.plot(Reward_oracle,label = 'oracle')\n",
    "plt.plot(Reward_greedy,label = 'greedy')\n",
    "plt.plot(Reward_TS,label = 'TS')\n",
    "plt.plot(Reward_UCB,label = 'UCB')\n",
    "plt.plot(Reward_LinTS,label = 'LinTS')\n",
    "plt.plot(Reward_LinUCB,label = 'LinUCB')\n",
    "plt.legend()\n",
    "plt.show()"
   ]
  },
  {
   "cell_type": "markdown",
   "id": "9304145e",
   "metadata": {},
   "source": [
    "## References\n",
    "\n",
    "[1] Sutton, R. S., & Barto, A. G. (2018). Reinforcement learning: An introduction. MIT press.\n",
    "\n",
    "[2] Auer, P., Cesa-Bianchi, N., & Fischer, P. (2002). Finite-time analysis of the multiarmed bandit problem. Machine learning, 47(2), 235-256."
   ]
  },
  {
   "cell_type": "code",
   "execution_count": null,
   "id": "ff126e5a-e11c-494e-a5a2-e2a105473b7e",
   "metadata": {},
   "outputs": [],
   "source": []
  }
 ],
 "metadata": {
  "kernelspec": {
   "display_name": "Python 3 (ipykernel)",
   "language": "python",
   "name": "python3"
  },
  "language_info": {
   "codemirror_mode": {
    "name": "ipython",
    "version": 3
   },
   "file_extension": ".py",
   "mimetype": "text/x-python",
   "name": "python",
   "nbconvert_exporter": "python",
   "pygments_lexer": "ipython3",
   "version": "3.9.7"
  }
 },
 "nbformat": 4,
 "nbformat_minor": 5
}

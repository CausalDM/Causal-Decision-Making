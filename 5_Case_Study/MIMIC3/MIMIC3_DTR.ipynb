{
 "cells": [
  {
   "cell_type": "markdown",
   "id": "e30bc5b4-3d0e-4c83-bf83-ed8b2c309c98",
   "metadata": {},
   "source": [
    "## CPL: 3-Stage DTR"
   ]
  },
  {
   "cell_type": "markdown",
   "id": "5a473083-d872-4647-adc6-58fd91c9935f",
   "metadata": {},
   "source": [
    "In this notebook, we analyze the MIMIC iii data with 3-stages. At each stage, there are four confounders are measured before taking the treatment, including Glucose, paO2, PaO2_FiO2, and SOFA. IV_Input is the treatment, which is represented as a binary variable, with 0 indicating no treatment and 1 indicating that an IV input is being used. The final outcome is Died_within_48H, with -1 indicating that the patient died within 48 hours and 1 indicating that the patient is alive."
   ]
  },
  {
   "cell_type": "code",
   "execution_count": 1,
   "id": "5cc1a62d-41e2-4ac0-b79d-902ba3b9dc74",
   "metadata": {},
   "outputs": [
    {
     "data": {
      "text/html": [
       "<div>\n",
       "<style scoped>\n",
       "    .dataframe tbody tr th:only-of-type {\n",
       "        vertical-align: middle;\n",
       "    }\n",
       "\n",
       "    .dataframe tbody tr th {\n",
       "        vertical-align: top;\n",
       "    }\n",
       "\n",
       "    .dataframe thead th {\n",
       "        text-align: right;\n",
       "    }\n",
       "</style>\n",
       "<table border=\"1\" class=\"dataframe\">\n",
       "  <thead>\n",
       "    <tr style=\"text-align: right;\">\n",
       "      <th></th>\n",
       "      <th>icustayid_1</th>\n",
       "      <th>Glucose_1</th>\n",
       "      <th>paO2_1</th>\n",
       "      <th>PaO2_FiO2_1</th>\n",
       "      <th>IV_Input_1</th>\n",
       "      <th>SOFA_1</th>\n",
       "      <th>Glucose_2</th>\n",
       "      <th>paO2_2</th>\n",
       "      <th>PaO2_FiO2_2</th>\n",
       "      <th>IV_Input_2</th>\n",
       "      <th>SOFA_2</th>\n",
       "      <th>Died_within_48H</th>\n",
       "      <th>icustayid_3</th>\n",
       "      <th>bloc_3</th>\n",
       "      <th>Glucose_3</th>\n",
       "      <th>paO2_3</th>\n",
       "      <th>PaO2_FiO2_3</th>\n",
       "      <th>IV_Input_3</th>\n",
       "      <th>SOFA_3</th>\n",
       "      <th>Died_within_48H_3</th>\n",
       "    </tr>\n",
       "  </thead>\n",
       "  <tbody>\n",
       "    <tr>\n",
       "      <th>0</th>\n",
       "      <td>31005.0</td>\n",
       "      <td>116.833333</td>\n",
       "      <td>86.0</td>\n",
       "      <td>172.000000</td>\n",
       "      <td>1.0</td>\n",
       "      <td>9.0</td>\n",
       "      <td>125.666667</td>\n",
       "      <td>182.000000</td>\n",
       "      <td>364.000000</td>\n",
       "      <td>1.0</td>\n",
       "      <td>5.0</td>\n",
       "      <td>1.0</td>\n",
       "      <td>31005.0</td>\n",
       "      <td>3.0</td>\n",
       "      <td>132.200000</td>\n",
       "      <td>182.0</td>\n",
       "      <td>439.310339</td>\n",
       "      <td>1.0</td>\n",
       "      <td>0.0</td>\n",
       "      <td>1.0</td>\n",
       "    </tr>\n",
       "    <tr>\n",
       "      <th>1</th>\n",
       "      <td>10989.0</td>\n",
       "      <td>120.000000</td>\n",
       "      <td>85.0</td>\n",
       "      <td>170.000000</td>\n",
       "      <td>1.0</td>\n",
       "      <td>5.0</td>\n",
       "      <td>154.000000</td>\n",
       "      <td>81.857143</td>\n",
       "      <td>163.714286</td>\n",
       "      <td>1.0</td>\n",
       "      <td>7.0</td>\n",
       "      <td>1.0</td>\n",
       "      <td>10989.0</td>\n",
       "      <td>3.0</td>\n",
       "      <td>164.000000</td>\n",
       "      <td>87.0</td>\n",
       "      <td>174.000000</td>\n",
       "      <td>1.0</td>\n",
       "      <td>6.0</td>\n",
       "      <td>1.0</td>\n",
       "    </tr>\n",
       "    <tr>\n",
       "      <th>2</th>\n",
       "      <td>4132.0</td>\n",
       "      <td>123.200000</td>\n",
       "      <td>133.0</td>\n",
       "      <td>266.000000</td>\n",
       "      <td>1.0</td>\n",
       "      <td>8.0</td>\n",
       "      <td>126.400000</td>\n",
       "      <td>47.000000</td>\n",
       "      <td>94.000000</td>\n",
       "      <td>1.0</td>\n",
       "      <td>7.0</td>\n",
       "      <td>-1.0</td>\n",
       "      <td>4132.0</td>\n",
       "      <td>3.0</td>\n",
       "      <td>129.600000</td>\n",
       "      <td>47.0</td>\n",
       "      <td>91.388889</td>\n",
       "      <td>1.0</td>\n",
       "      <td>8.0</td>\n",
       "      <td>-1.0</td>\n",
       "    </tr>\n",
       "    <tr>\n",
       "      <th>3</th>\n",
       "      <td>37528.0</td>\n",
       "      <td>168.500000</td>\n",
       "      <td>62.6</td>\n",
       "      <td>260.833333</td>\n",
       "      <td>0.0</td>\n",
       "      <td>3.0</td>\n",
       "      <td>227.000000</td>\n",
       "      <td>66.666667</td>\n",
       "      <td>277.777778</td>\n",
       "      <td>1.0</td>\n",
       "      <td>4.0</td>\n",
       "      <td>-1.0</td>\n",
       "      <td>37528.0</td>\n",
       "      <td>3.0</td>\n",
       "      <td>257.857143</td>\n",
       "      <td>68.0</td>\n",
       "      <td>191.935482</td>\n",
       "      <td>1.0</td>\n",
       "      <td>10.0</td>\n",
       "      <td>-1.0</td>\n",
       "    </tr>\n",
       "    <tr>\n",
       "      <th>4</th>\n",
       "      <td>86428.0</td>\n",
       "      <td>115.000000</td>\n",
       "      <td>73.0</td>\n",
       "      <td>146.000000</td>\n",
       "      <td>1.0</td>\n",
       "      <td>7.0</td>\n",
       "      <td>115.000000</td>\n",
       "      <td>104.333333</td>\n",
       "      <td>208.666667</td>\n",
       "      <td>1.0</td>\n",
       "      <td>8.0</td>\n",
       "      <td>1.0</td>\n",
       "      <td>86428.0</td>\n",
       "      <td>3.0</td>\n",
       "      <td>115.000000</td>\n",
       "      <td>84.0</td>\n",
       "      <td>210.000000</td>\n",
       "      <td>1.0</td>\n",
       "      <td>10.0</td>\n",
       "      <td>1.0</td>\n",
       "    </tr>\n",
       "  </tbody>\n",
       "</table>\n",
       "</div>"
      ],
      "text/plain": [
       "   icustayid_1   Glucose_1  paO2_1  PaO2_FiO2_1  IV_Input_1  SOFA_1  \\\n",
       "0      31005.0  116.833333    86.0   172.000000         1.0     9.0   \n",
       "1      10989.0  120.000000    85.0   170.000000         1.0     5.0   \n",
       "2       4132.0  123.200000   133.0   266.000000         1.0     8.0   \n",
       "3      37528.0  168.500000    62.6   260.833333         0.0     3.0   \n",
       "4      86428.0  115.000000    73.0   146.000000         1.0     7.0   \n",
       "\n",
       "    Glucose_2      paO2_2  PaO2_FiO2_2  IV_Input_2  SOFA_2  Died_within_48H  \\\n",
       "0  125.666667  182.000000   364.000000         1.0     5.0              1.0   \n",
       "1  154.000000   81.857143   163.714286         1.0     7.0              1.0   \n",
       "2  126.400000   47.000000    94.000000         1.0     7.0             -1.0   \n",
       "3  227.000000   66.666667   277.777778         1.0     4.0             -1.0   \n",
       "4  115.000000  104.333333   208.666667         1.0     8.0              1.0   \n",
       "\n",
       "   icustayid_3  bloc_3   Glucose_3  paO2_3  PaO2_FiO2_3  IV_Input_3  SOFA_3  \\\n",
       "0      31005.0     3.0  132.200000   182.0   439.310339         1.0     0.0   \n",
       "1      10989.0     3.0  164.000000    87.0   174.000000         1.0     6.0   \n",
       "2       4132.0     3.0  129.600000    47.0    91.388889         1.0     8.0   \n",
       "3      37528.0     3.0  257.857143    68.0   191.935482         1.0    10.0   \n",
       "4      86428.0     3.0  115.000000    84.0   210.000000         1.0    10.0   \n",
       "\n",
       "   Died_within_48H_3  \n",
       "0                1.0  \n",
       "1                1.0  \n",
       "2               -1.0  \n",
       "3               -1.0  \n",
       "4                1.0  "
      ]
     },
     "execution_count": 1,
     "metadata": {},
     "output_type": "execute_result"
    }
   ],
   "source": [
    "import pandas as pd\n",
    "DTR_data = pd.read_csv('mimic3_DTR_3stage.csv')\n",
    "DTR_data.head()"
   ]
  },
  {
   "cell_type": "code",
   "execution_count": 2,
   "id": "eb292983-285d-4671-aa1e-f30c5509a717",
   "metadata": {},
   "outputs": [
    {
     "name": "stderr",
     "output_type": "stream",
     "text": [
      "/nas/longleaf/rhel8/apps/anaconda/2021.11.ood/lib/python3.9/site-packages/statsmodels/tsa/base/tsa_model.py:7: FutureWarning: pandas.Int64Index is deprecated and will be removed from pandas in a future version. Use pandas.Index with the appropriate dtype instead.\n",
      "  from pandas import (to_datetime, Int64Index, DatetimeIndex, Period,\n",
      "/nas/longleaf/rhel8/apps/anaconda/2021.11.ood/lib/python3.9/site-packages/statsmodels/tsa/base/tsa_model.py:7: FutureWarning: pandas.Float64Index is deprecated and will be removed from pandas in a future version. Use pandas.Index with the appropriate dtype instead.\n",
      "  from pandas import (to_datetime, Int64Index, DatetimeIndex, Period,\n"
     ]
    }
   ],
   "source": [
    "import os\n",
    "os.getcwd()\n",
    "os.chdir('/nas/longleaf/home/lge/CausalDM')\n",
    "from causaldm.learners import QLearning"
   ]
  },
  {
   "cell_type": "markdown",
   "id": "21d1d499-0bfb-497a-af48-0a5137d1959a",
   "metadata": {},
   "source": [
    "## Policy Evaluation"
   ]
  },
  {
   "cell_type": "markdown",
   "id": "ee54f544-b8ba-4e8e-a388-4001b1af667d",
   "metadata": {},
   "source": [
    "As an example, we use the **Q-learning** algorithm to evaluate policies based on the observed data, with the linear regression models defined as the following:\n",
    "\\begin{align}\n",
    "Q_1(s,a_1,\\boldsymbol{\\beta}) = &\\beta_{00}+\\beta_{01}*\\textrm{Glucose}_1+\\beta_{02}*\\textrm{paO2}_1+\\beta_{03}*\\textrm{PaO2_FiO2}_1+\\beta_{04}*\\textrm{SOFA}_1+\\\\\n",
    "                    &I(a_1=1)*\\{\\beta_{10}+\\beta_{11}*\\textrm{Glucose}_1+\\beta_{12}*\\textrm{paO2}_1+\\beta_{13}*\\textrm{PaO2_FiO2}_1+\\beta_{14}*\\textrm{SOFA}_1\\},\\\\\n",
    "Q_2(s,a_2,\\boldsymbol{\\mu}) = &\\mu_{00}+\\mu_{01}*\\textrm{Glucose}_1+\\mu_{02}*\\textrm{paO2}_1+\\mu_{03}*\\textrm{PaO2_FiO2}_1+\\mu_{04}*\\textrm{SOFA}_1+\\\\\n",
    "                    &\\mu_{05}*\\textrm{Glucose}_2+\\mu_{06}*\\textrm{paO2}_2+\\mu_{07}*\\textrm{PaO2_FiO2}_2+\\mu_{08}*\\textrm{SOFA}_2+\\\\\n",
    "                    &I(a_2=1)*\\{\\mu_{10}+\\mu_{11}*\\textrm{Glucose}_2+\\mu_{12}*\\textrm{paO2}_2+\\mu_{13}*\\textrm{PaO2_FiO2}_2+\\mu_{14}*\\textrm{SOFA}_2\\},\\\\\n",
    "Q_3(s,a_3,\\boldsymbol{\\theta}) = &\\theta_{00}+\\theta_{01}*\\textrm{Glucose}_1+\\theta_{02}*\\textrm{paO2}_1+\\theta_{03}*\\textrm{PaO2_FiO2}_1+\\theta_{04}*\\textrm{SOFA}_1+\\\\\n",
    "                    &\\theta_{05}*\\textrm{Glucose}_2+\\theta_{06}*\\textrm{paO2}_2+\\theta_{07}*\\textrm{PaO2_FiO2}_2+\\theta_{08}*\\textrm{SOFA}_2+\\\\\n",
    "                    &\\theta_{09}*\\textrm{Glucose}_3+\\theta_{010}*\\textrm{paO2}_3+\\theta_{011}*\\textrm{PaO2_FiO2}_3+\\theta_{012}*\\textrm{SOFA}_3+\\\\\n",
    "                    &I(a_2=1)*\\{\\theta_{10}+\\theta_{11}*\\textrm{Glucose}_3+\\theta_{12}*\\textrm{paO2}_3+\\theta_{13}*\\textrm{PaO2_FiO2}_3+\\theta_{14}*\\textrm{SOFA}_3\\}\n",
    "\\end{align}\n",
    "\n",
    "Using the code below, we evaluated two target polices (regimes). The first one is a fixed treatement regime that applies no treatment at all stages (Policy1), with an estimated value of .9211. Another is a fixed treatment regime that applies treatment at all stages (Policy2), with an estimated value of .5645. Therefore, the treatment effect of Policy2 comparing to Policy1 is -.3565, implying that receiving IV input increase the mortality rate."
   ]
  },
  {
   "cell_type": "code",
   "execution_count": 19,
   "id": "0cb24b3a-9d14-457a-9cb4-786c75dc66f2",
   "metadata": {},
   "outputs": [],
   "source": [
    "DTR_data.rename(columns = {'Died_within_48H':'R',\n",
    "                            'Glucose_1':'S1_1', 'Glucose_2':'S1_2','Glucose_3':'S1_3',\n",
    "                            'paO2_1':'S2_1', 'paO2_2':'S2_2','paO2_3':'S2_3',\n",
    "                            'PaO2_FiO2_1':'S3_1', 'PaO2_FiO2_2':'S3_2','PaO2_FiO2_3':'S3_3',\n",
    "                            'SOFA_1':'S4_1', 'SOFA_2':'S4_2', 'SOFA_3':'S4_3',\n",
    "                            'IV_Input_1':'A1','IV_Input_2':'A2', 'IV_Input_3':'A3'}, inplace = True)\n",
    "R = DTR_data['R'] #lower the better\n",
    "S = DTR_data[['S1_1','S1_2','S1_3','S2_1','S2_2','S2_3','S3_1','S3_2','S3_3','S4_1','S4_2','S4_3']]\n",
    "A = DTR_data[['A1','A2', 'A3']]\n",
    "# specify the model you would like to use\n",
    "model_info = [{\"model\": \"R~S1_1+S2_1+S3_1+S4_1+A1+S1_1*A1+S2_1*A1+S3_1*A1+S4_1*A1\",\n",
    "              'action_space':{'A1':[0,1]}},\n",
    "             {\"model\": \"R~S1_1+S2_1+S3_1+S4_1+S1_2+S2_2+S3_2+S4_2+A2+S1_2*A2+S2_2*A2+S3_2*A2+S4_2*A2\",\n",
    "              'action_space':{'A2':[0,1]}},\n",
    "             {\"model\": \"R~S1_1+S2_1+S3_1+S4_1+S1_2+S2_2+S3_2+S4_2+S1_3+S2_3+S3_3+S4_3+A3+S1_3*A3+S2_3*A3+S3_3*A3+S4_3*A3\",\n",
    "              'action_space':{'A3':[0,1]}}]"
   ]
  },
  {
   "cell_type": "code",
   "execution_count": 20,
   "id": "a193702b-d925-4e32-943e-b49e0494e67a",
   "metadata": {},
   "outputs": [
    {
     "data": {
      "text/plain": [
       "0.92108006173226"
      ]
     },
     "execution_count": 20,
     "metadata": {},
     "output_type": "execute_result"
    }
   ],
   "source": [
    "# Evaluating the policy with no treatment\n",
    "N=len(S)\n",
    "regime = pd.DataFrame({'A1':[0]*N,\n",
    "                      'A2':[0]*N,\n",
    "                     'A3':[0]*N}).set_index(S.index)\n",
    "#evaluate the regime\n",
    "QLearn = QLearning.QLearning()\n",
    "QLearn.train(S, A, R, model_info, T=3, regime = regime, evaluate = True, mimic3_clip = True)\n",
    "QLearn.predict_value(S)"
   ]
  },
  {
   "cell_type": "code",
   "execution_count": 21,
   "id": "e026c045-6e44-40da-a85a-446301388ce9",
   "metadata": {},
   "outputs": [
    {
     "data": {
      "text/plain": [
       "0.5645453516018072"
      ]
     },
     "execution_count": 21,
     "metadata": {},
     "output_type": "execute_result"
    }
   ],
   "source": [
    "# Evaluating the policy that gives IV input at both stages\n",
    "N=len(S)\n",
    "regime = pd.DataFrame({'A1':[1]*N,\n",
    "                      'A2':[1]*N,\n",
    "                     'A3':[1]*N}).set_index(S.index)\n",
    "#evaluate the regime\n",
    "QLearn = QLearning.QLearning()\n",
    "QLearn.train(S, A, R, model_info, T=3, regime = regime, evaluate = True, mimic3_clip = True)\n",
    "QLearn.predict_value(S)"
   ]
  },
  {
   "cell_type": "code",
   "execution_count": 23,
   "id": "aef0b9ef-084f-4fec-90eb-124f6e1b6646",
   "metadata": {},
   "outputs": [
    {
     "data": {
      "text/plain": [
       "0.3565347101304528"
      ]
     },
     "execution_count": 23,
     "metadata": {},
     "output_type": "execute_result"
    }
   ],
   "source": [
    "0.92108006173226-0.5645453516018072"
   ]
  },
  {
   "cell_type": "markdown",
   "id": "60aad5a0-2548-4c74-b340-300cd2cc08fe",
   "metadata": {
    "tags": []
   },
   "source": [
    "## Policy Optimization"
   ]
  },
  {
   "cell_type": "markdown",
   "id": "680e9770-201f-4933-8168-16ee6480e376",
   "metadata": {},
   "source": [
    "Further, to find an optimal policy maximizing the expected value, we use the **Q-learning** algorithm again to do policy optimization. Using the regression model we specified above and the code in the following block, the estimated optimal policy is summarized as the following regime.\n",
    "\n",
    "- At stage 1:\n",
    "    1. We would recommend $A=0$ (IV_Input = 0) if $-.0001*\\textrm{Glucose}_1-.0018*\\textrm{paO2}_1+.0011*\\textrm{PaO2_FiO2}_1+.0405*\\textrm{SOFA}_1<.2529$\n",
    "    2. Else, we would recommend $A=1$ (IV_Input = 1).\n",
    "- At stage 2:\n",
    "    1. We would recommend $A=0$ (IV_Input = 0) if $-.0001*\\textrm{Glucose}_2+.0020*\\textrm{paO2}_2+.0001*\\textrm{PaO2_FiO2}_2+.0395*\\textrm{SOFA}_2<.3912$\n",
    "    2. Else, we would recommend $A=1$ (IV_Input = 1).\n",
    "- At stage 3:\n",
    "    1. We would recommend $A=0$ (IV_Input = 0) if $-.0024*\\textrm{Glucose}_2-.0107*\\textrm{paO2}_2+.0040*\\textrm{PaO2_FiO2}_2-.0416*\\textrm{SOFA}_2<-.0181$\n",
    "    2. Else, we would recommend $A=1$ (IV_Input = 1).\n",
    "    \n",
    "Appling the estimated optimal regime to individuals in the observed data, we summarize the regime pattern for each patients in the following table:\n",
    "\n",
    "| # patients | IV_Input 1 | IV_Input 2 | IV_Input 3 |\n",
    "|------------|------------|------------|------------|\n",
    "| 16         | 1          | 1          | 0          |\n",
    "| 15         | 0          | 0          | 0          |\n",
    "| 8          | 1          | 0          | 0          |\n",
    "| 8          | 0          | 1          | 0          |\n",
    "| 3          | 0          | 1          | 1          |\n",
    "| 2          | 1          | 0          | 1          |\n",
    "| 2          | 1          | 1          | 1          |\n",
    "\n",
    "The estimated value of the estimated optimal policy is **.9997**."
   ]
  },
  {
   "cell_type": "code",
   "execution_count": 30,
   "id": "2defd159-d9a2-4557-937a-e3aff0ef8b9a",
   "metadata": {},
   "outputs": [
    {
     "name": "stdout",
     "output_type": "stream",
     "text": [
      "opt_d: A3  A2  A1\n",
      "0   1   1     16\n",
      "    0   0     15\n",
      "        1      8\n",
      "    1   0      8\n",
      "1   1   0      3\n",
      "    0   1      2\n",
      "    1   1      2\n",
      "dtype: int64\n",
      "opt value: 0.9996830260361399\n"
     ]
    }
   ],
   "source": [
    "# initialize the learner\n",
    "QLearn = QLearning.QLearning()\n",
    "# train the policy\n",
    "QLearn.train(S, A, R, model_info, T=3, mimic3_clip = True)\n",
    "# get the summary of the fitted Q models using the following code\n",
    "#print(\"fitted model Q0:\",QLearn.fitted_model[0].summary())\n",
    "#print(\"fitted model Q1:\",QLearn.fitted_model[1].summary())\n",
    "#4. recommend action\n",
    "opt_d = QLearn.recommend_action(S).value_counts()\n",
    "#5. get the estimated value of the optimal regime\n",
    "V_hat = QLearn.predict_value(S)\n",
    "print(\"opt_d:\",opt_d)\n",
    "print(\"opt value:\",V_hat)"
   ]
  },
  {
   "cell_type": "code",
   "execution_count": null,
   "id": "1297ebbd-afbd-42e3-8a4b-c6b7e47cfbc0",
   "metadata": {},
   "outputs": [],
   "source": []
  }
 ],
 "metadata": {
  "kernelspec": {
   "display_name": "Python 3 (ipykernel)",
   "language": "python",
   "name": "python3"
  },
  "language_info": {
   "codemirror_mode": {
    "name": "ipython",
    "version": 3
   },
   "file_extension": ".py",
   "mimetype": "text/x-python",
   "name": "python",
   "nbconvert_exporter": "python",
   "pygments_lexer": "ipython3",
   "version": "3.9.7"
  }
 },
 "nbformat": 4,
 "nbformat_minor": 5
}

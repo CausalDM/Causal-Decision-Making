{
 "cells": [
  {
   "cell_type": "markdown",
   "id": "db3ddf94-3c3e-43e2-93f6-56abeca09776",
   "metadata": {},
   "source": [
    "# MovieLens\n",
    "Movie Lens is a website that helps users find the movies they like and where they will rate the recommended movies. [MovieLens 1M dataset](https://grouplens.org/datasets/movielens/1m/) is a dataset including the observations collected in an online movie recommendation experiment and is widely used to generate data for online bandit simulation studies. The goal of the simulation studies below is to learn the reward distribution of different movie genres and hence to recommend the optimal movie genres to the users to optimize the cumulative user satisfaction. In other words, every time a user visits the website, the agent will recommend a movie genre ($A_t$) to the user, and then the user will give a rating ($R_t$) to the genre recommended. We assume that users' satisfaction is fully reflected through the ratings. Therefore, the ultimate goal of the bandit algorithms is to optimize the cumulative ratings received by finding and recommending the optimal movie genre that will receive the highest rating. In this tutorial, we mainly focus on the following 4 Genres, including \n",
    "\n",
    "- **Comedy**: $a=0$,\n",
    "- **Drama**: $a=1$\n",
    "- **Action**: $a=2$,\n",
    "- **Thriller**: $a=3$,\n",
    "- **Sci-Fi**: $a=4$.\n",
    "\n",
    "Therefore, $K=5$. For each user, feature information, including age, gender and occupation, are available:\n",
    "\n",
    "- **age**: numerical, from 18 to 56,\n",
    "- **gender**: binary, =1 if male,\n",
    "- **college/grad student**: binary, =1 if a college/grad student,\n",
    "- **executive/managerial**: binary, =1 if a executive/managerial,\n",
    "- **technician/engineer**: binary, =1 if a technician/engineer,\n",
    "- **other**: binary, =1 if having other occupations other than the rest of the four occupations,\n",
    "- **academic/educator**: if an academic/educator, then all the previous occupation-related variables = 0 (baseline).\n",
    "\n",
    "The realized reward $R_t$ is a numerical variable, taking the value of $\\{1,2,3,4,5\\}$,with 1 being the least satisfied and 5 being the most satisfied. In the following, we first perform causal effect learning on the logged data and output the estimated reward for each movie genre. Then, we conduct online learning to efficiently explore the optimal policy utilizing both the estimation results and new information collected through real-time online iteraction."
   ]
  },
  {
   "cell_type": "markdown",
   "id": "931b6180-ebc9-4a45-bcb3-2a993146355b",
   "metadata": {},
   "source": [
    "## Causal Effect Learning"
   ]
  },
  {
   "cell_type": "code",
   "execution_count": 48,
   "id": "2bfb5e7f",
   "metadata": {},
   "outputs": [],
   "source": [
    "import os\n",
    "os.getcwd()\n",
    "os.chdir('/Users/alinaxu/Documents/CDM/CausalDM')\n",
    "import pandas as pd\n",
    "import numpy as np\n",
    "from sklearn.linear_model import LinearRegression\n",
    "from causaldm.learners.Online.CMAB import _env_realCMAB as _env\n",
    "from causaldm.learners.Online.CMAB import LinTS\n",
    "env = _env.Single_Contextual_Env(seed = 0, Binary = False)\n",
    "logged_data, arms = env.get_logged_dat()"
   ]
  },
  {
   "cell_type": "code",
   "execution_count": 2,
   "id": "2d916f6d",
   "metadata": {},
   "outputs": [
    {
     "data": {
      "text/plain": [
       "dict_keys(['Comedy', 'Drama', 'Action', 'Thriller', 'Sci-Fi'])"
      ]
     },
     "execution_count": 2,
     "metadata": {},
     "output_type": "execute_result"
    }
   ],
   "source": [
    "logged_data.keys()"
   ]
  },
  {
   "cell_type": "code",
   "execution_count": 3,
   "id": "fad9aa26",
   "metadata": {},
   "outputs": [
    {
     "data": {
      "text/html": [
       "<div>\n",
       "<style scoped>\n",
       "    .dataframe tbody tr th:only-of-type {\n",
       "        vertical-align: middle;\n",
       "    }\n",
       "\n",
       "    .dataframe tbody tr th {\n",
       "        vertical-align: top;\n",
       "    }\n",
       "\n",
       "    .dataframe thead th {\n",
       "        text-align: right;\n",
       "    }\n",
       "</style>\n",
       "<table border=\"1\" class=\"dataframe\">\n",
       "  <thead>\n",
       "    <tr style=\"text-align: right;\">\n",
       "      <th></th>\n",
       "      <th>user_id</th>\n",
       "      <th>movie_id</th>\n",
       "      <th>rating</th>\n",
       "      <th>age</th>\n",
       "      <th>Comedy</th>\n",
       "      <th>Drama</th>\n",
       "      <th>Action</th>\n",
       "      <th>Thriller</th>\n",
       "      <th>Sci-Fi</th>\n",
       "      <th>gender_M</th>\n",
       "      <th>occupation_academic/educator</th>\n",
       "      <th>occupation_college/grad student</th>\n",
       "      <th>occupation_executive/managerial</th>\n",
       "      <th>occupation_other</th>\n",
       "      <th>occupation_technician/engineer</th>\n",
       "    </tr>\n",
       "  </thead>\n",
       "  <tbody>\n",
       "    <tr>\n",
       "      <th>685706</th>\n",
       "      <td>48</td>\n",
       "      <td>2042.0</td>\n",
       "      <td>2.0</td>\n",
       "      <td>25.0</td>\n",
       "      <td>1.0</td>\n",
       "      <td>0.0</td>\n",
       "      <td>0.0</td>\n",
       "      <td>0.0</td>\n",
       "      <td>0.0</td>\n",
       "      <td>1.0</td>\n",
       "      <td>0.0</td>\n",
       "      <td>1.0</td>\n",
       "      <td>0.0</td>\n",
       "      <td>0.0</td>\n",
       "      <td>0.0</td>\n",
       "    </tr>\n",
       "    <tr>\n",
       "      <th>499683</th>\n",
       "      <td>48</td>\n",
       "      <td>2424.0</td>\n",
       "      <td>4.0</td>\n",
       "      <td>25.0</td>\n",
       "      <td>1.0</td>\n",
       "      <td>0.0</td>\n",
       "      <td>0.0</td>\n",
       "      <td>0.0</td>\n",
       "      <td>0.0</td>\n",
       "      <td>1.0</td>\n",
       "      <td>0.0</td>\n",
       "      <td>1.0</td>\n",
       "      <td>0.0</td>\n",
       "      <td>0.0</td>\n",
       "      <td>0.0</td>\n",
       "    </tr>\n",
       "    <tr>\n",
       "      <th>694860</th>\n",
       "      <td>53</td>\n",
       "      <td>330.0</td>\n",
       "      <td>3.0</td>\n",
       "      <td>25.0</td>\n",
       "      <td>1.0</td>\n",
       "      <td>0.0</td>\n",
       "      <td>0.0</td>\n",
       "      <td>0.0</td>\n",
       "      <td>0.0</td>\n",
       "      <td>1.0</td>\n",
       "      <td>0.0</td>\n",
       "      <td>0.0</td>\n",
       "      <td>0.0</td>\n",
       "      <td>1.0</td>\n",
       "      <td>0.0</td>\n",
       "    </tr>\n",
       "    <tr>\n",
       "      <th>207691</th>\n",
       "      <td>169</td>\n",
       "      <td>3671.0</td>\n",
       "      <td>4.0</td>\n",
       "      <td>25.0</td>\n",
       "      <td>1.0</td>\n",
       "      <td>0.0</td>\n",
       "      <td>0.0</td>\n",
       "      <td>0.0</td>\n",
       "      <td>0.0</td>\n",
       "      <td>1.0</td>\n",
       "      <td>0.0</td>\n",
       "      <td>0.0</td>\n",
       "      <td>1.0</td>\n",
       "      <td>0.0</td>\n",
       "      <td>0.0</td>\n",
       "    </tr>\n",
       "    <tr>\n",
       "      <th>425839</th>\n",
       "      <td>169</td>\n",
       "      <td>3869.0</td>\n",
       "      <td>3.0</td>\n",
       "      <td>25.0</td>\n",
       "      <td>1.0</td>\n",
       "      <td>0.0</td>\n",
       "      <td>0.0</td>\n",
       "      <td>0.0</td>\n",
       "      <td>0.0</td>\n",
       "      <td>1.0</td>\n",
       "      <td>0.0</td>\n",
       "      <td>0.0</td>\n",
       "      <td>1.0</td>\n",
       "      <td>0.0</td>\n",
       "      <td>0.0</td>\n",
       "    </tr>\n",
       "    <tr>\n",
       "      <th>...</th>\n",
       "      <td>...</td>\n",
       "      <td>...</td>\n",
       "      <td>...</td>\n",
       "      <td>...</td>\n",
       "      <td>...</td>\n",
       "      <td>...</td>\n",
       "      <td>...</td>\n",
       "      <td>...</td>\n",
       "      <td>...</td>\n",
       "      <td>...</td>\n",
       "      <td>...</td>\n",
       "      <td>...</td>\n",
       "      <td>...</td>\n",
       "      <td>...</td>\n",
       "      <td>...</td>\n",
       "    </tr>\n",
       "    <tr>\n",
       "      <th>213638</th>\n",
       "      <td>4140.0</td>\n",
       "      <td>153.0</td>\n",
       "      <td>2.0</td>\n",
       "      <td>25.0</td>\n",
       "      <td>1.0</td>\n",
       "      <td>0.0</td>\n",
       "      <td>0.0</td>\n",
       "      <td>0.0</td>\n",
       "      <td>0.0</td>\n",
       "      <td>1.0</td>\n",
       "      <td>0.0</td>\n",
       "      <td>0.0</td>\n",
       "      <td>0.0</td>\n",
       "      <td>1.0</td>\n",
       "      <td>0.0</td>\n",
       "    </tr>\n",
       "    <tr>\n",
       "      <th>242271</th>\n",
       "      <td>4140.0</td>\n",
       "      <td>435.0</td>\n",
       "      <td>1.0</td>\n",
       "      <td>25.0</td>\n",
       "      <td>1.0</td>\n",
       "      <td>0.0</td>\n",
       "      <td>0.0</td>\n",
       "      <td>0.0</td>\n",
       "      <td>0.0</td>\n",
       "      <td>1.0</td>\n",
       "      <td>0.0</td>\n",
       "      <td>0.0</td>\n",
       "      <td>0.0</td>\n",
       "      <td>1.0</td>\n",
       "      <td>0.0</td>\n",
       "    </tr>\n",
       "    <tr>\n",
       "      <th>717322</th>\n",
       "      <td>4411</td>\n",
       "      <td>910.0</td>\n",
       "      <td>5.0</td>\n",
       "      <td>18.0</td>\n",
       "      <td>1.0</td>\n",
       "      <td>0.0</td>\n",
       "      <td>0.0</td>\n",
       "      <td>0.0</td>\n",
       "      <td>0.0</td>\n",
       "      <td>1.0</td>\n",
       "      <td>0.0</td>\n",
       "      <td>1.0</td>\n",
       "      <td>0.0</td>\n",
       "      <td>0.0</td>\n",
       "      <td>0.0</td>\n",
       "    </tr>\n",
       "    <tr>\n",
       "      <th>345927</th>\n",
       "      <td>4411.0</td>\n",
       "      <td>45.0</td>\n",
       "      <td>2.0</td>\n",
       "      <td>18.0</td>\n",
       "      <td>1.0</td>\n",
       "      <td>0.0</td>\n",
       "      <td>0.0</td>\n",
       "      <td>0.0</td>\n",
       "      <td>0.0</td>\n",
       "      <td>1.0</td>\n",
       "      <td>0.0</td>\n",
       "      <td>1.0</td>\n",
       "      <td>0.0</td>\n",
       "      <td>0.0</td>\n",
       "      <td>0.0</td>\n",
       "    </tr>\n",
       "    <tr>\n",
       "      <th>870113</th>\n",
       "      <td>5878</td>\n",
       "      <td>1226.0</td>\n",
       "      <td>5.0</td>\n",
       "      <td>25.0</td>\n",
       "      <td>1.0</td>\n",
       "      <td>0.0</td>\n",
       "      <td>0.0</td>\n",
       "      <td>0.0</td>\n",
       "      <td>0.0</td>\n",
       "      <td>0.0</td>\n",
       "      <td>0.0</td>\n",
       "      <td>0.0</td>\n",
       "      <td>0.0</td>\n",
       "      <td>1.0</td>\n",
       "      <td>0.0</td>\n",
       "    </tr>\n",
       "  </tbody>\n",
       "</table>\n",
       "<p>406 rows × 15 columns</p>\n",
       "</div>"
      ],
      "text/plain": [
       "       user_id  movie_id  rating   age  Comedy  Drama  Action  Thriller  \\\n",
       "685706      48    2042.0     2.0  25.0     1.0    0.0     0.0       0.0   \n",
       "499683      48    2424.0     4.0  25.0     1.0    0.0     0.0       0.0   \n",
       "694860      53     330.0     3.0  25.0     1.0    0.0     0.0       0.0   \n",
       "207691     169    3671.0     4.0  25.0     1.0    0.0     0.0       0.0   \n",
       "425839     169    3869.0     3.0  25.0     1.0    0.0     0.0       0.0   \n",
       "...        ...       ...     ...   ...     ...    ...     ...       ...   \n",
       "213638  4140.0     153.0     2.0  25.0     1.0    0.0     0.0       0.0   \n",
       "242271  4140.0     435.0     1.0  25.0     1.0    0.0     0.0       0.0   \n",
       "717322    4411     910.0     5.0  18.0     1.0    0.0     0.0       0.0   \n",
       "345927  4411.0      45.0     2.0  18.0     1.0    0.0     0.0       0.0   \n",
       "870113    5878    1226.0     5.0  25.0     1.0    0.0     0.0       0.0   \n",
       "\n",
       "        Sci-Fi  gender_M  occupation_academic/educator  \\\n",
       "685706     0.0       1.0                           0.0   \n",
       "499683     0.0       1.0                           0.0   \n",
       "694860     0.0       1.0                           0.0   \n",
       "207691     0.0       1.0                           0.0   \n",
       "425839     0.0       1.0                           0.0   \n",
       "...        ...       ...                           ...   \n",
       "213638     0.0       1.0                           0.0   \n",
       "242271     0.0       1.0                           0.0   \n",
       "717322     0.0       1.0                           0.0   \n",
       "345927     0.0       1.0                           0.0   \n",
       "870113     0.0       0.0                           0.0   \n",
       "\n",
       "        occupation_college/grad student  occupation_executive/managerial  \\\n",
       "685706                              1.0                              0.0   \n",
       "499683                              1.0                              0.0   \n",
       "694860                              0.0                              0.0   \n",
       "207691                              0.0                              1.0   \n",
       "425839                              0.0                              1.0   \n",
       "...                                 ...                              ...   \n",
       "213638                              0.0                              0.0   \n",
       "242271                              0.0                              0.0   \n",
       "717322                              1.0                              0.0   \n",
       "345927                              1.0                              0.0   \n",
       "870113                              0.0                              0.0   \n",
       "\n",
       "        occupation_other  occupation_technician/engineer  \n",
       "685706               0.0                             0.0  \n",
       "499683               0.0                             0.0  \n",
       "694860               1.0                             0.0  \n",
       "207691               0.0                             0.0  \n",
       "425839               0.0                             0.0  \n",
       "...                  ...                             ...  \n",
       "213638               1.0                             0.0  \n",
       "242271               1.0                             0.0  \n",
       "717322               0.0                             0.0  \n",
       "345927               0.0                             0.0  \n",
       "870113               1.0                             0.0  \n",
       "\n",
       "[406 rows x 15 columns]"
      ]
     },
     "execution_count": 3,
     "metadata": {},
     "output_type": "execute_result"
    }
   ],
   "source": [
    "logged_data['Comedy']"
   ]
  },
  {
   "cell_type": "code",
   "execution_count": 4,
   "id": "a0169329",
   "metadata": {},
   "outputs": [],
   "source": [
    "userinfo_index = np.array([3,9,11,12,13,14])\n",
    "movie_generes = ['Comedy', 'Drama', 'Action', 'Thriller', 'Sci-Fi']"
   ]
  },
  {
   "cell_type": "code",
   "execution_count": 5,
   "id": "5588f06b",
   "metadata": {},
   "outputs": [],
   "source": [
    "# convert the sampled dataset of interest to dataframe format\n",
    "data_CEL_sample = logged_data['Comedy']\n",
    "for movie_genere in movie_generes[1:5]:\n",
    "    data_CEL_sample = pd.concat([data_CEL_sample, logged_data[movie_genere]])"
   ]
  },
  {
   "cell_type": "code",
   "execution_count": 6,
   "id": "c015ebce",
   "metadata": {},
   "outputs": [
    {
     "data": {
      "text/plain": [
       "1286"
      ]
     },
     "execution_count": 6,
     "metadata": {},
     "output_type": "execute_result"
    }
   ],
   "source": [
    "len(data_CEL_sample) # the total sample size we selected: n=1286"
   ]
  },
  {
   "cell_type": "markdown",
   "id": "53f234b9",
   "metadata": {
    "id": "Tcwr9EQB_btu"
   },
   "source": [
    "### nonlinear model fitting"
   ]
  },
  {
   "cell_type": "code",
   "execution_count": 7,
   "id": "f44c395d",
   "metadata": {
    "id": "m_357p5PHrSi"
   },
   "outputs": [],
   "source": [
    "models_CEL = {}\n",
    " \n",
    "# initialize the models we'll fit in Causal Effect Learning\n",
    "for i in movie_generes:\n",
    "    models_CEL[i] = None   "
   ]
  },
  {
   "cell_type": "code",
   "execution_count": 8,
   "id": "9aafdf1e",
   "metadata": {
    "executionInfo": {
     "elapsed": 826,
     "status": "ok",
     "timestamp": 1676663324307,
     "user": {
      "displayName": "Yang Xu",
      "userId": "12270366590264264299"
     },
     "user_tz": 300
    },
    "id": "_VhDWaaXISxf"
   },
   "outputs": [],
   "source": [
    "from lightgbm import LGBMRegressor\n",
    "for movie_genere in movie_generes: \n",
    "    models_CEL[movie_genere] = LGBMRegressor(max_depth=3)\n",
    "    models_CEL[movie_genere].fit(data_CEL_sample.iloc[np.where(data_CEL_sample[movie_genere]==1)[0],userinfo_index],data_CEL_sample.iloc[np.where(data_CEL_sample[movie_genere]==1)[0],2] )\n"
   ]
  },
  {
   "cell_type": "code",
   "execution_count": 9,
   "id": "48350e79",
   "metadata": {
    "colab": {
     "base_uri": "https://localhost:8080/"
    },
    "executionInfo": {
     "elapsed": 420,
     "status": "ok",
     "timestamp": 1676663328624,
     "user": {
      "displayName": "Yang Xu",
      "userId": "12270366590264264299"
     },
     "user_tz": 300
    },
    "id": "t-YnO8EJKZG1",
    "outputId": "679018f4-6dc9-46eb-d2be-2aa0f8478220"
   },
   "outputs": [
    {
     "data": {
      "text/plain": [
       "16.0"
      ]
     },
     "execution_count": 9,
     "metadata": {},
     "output_type": "execute_result"
    }
   ],
   "source": [
    "min(data_CEL_sample['age'])"
   ]
  },
  {
   "cell_type": "code",
   "execution_count": 10,
   "id": "cb7a32f5",
   "metadata": {
    "colab": {
     "base_uri": "https://localhost:8080/"
    },
    "executionInfo": {
     "elapsed": 3,
     "status": "ok",
     "timestamp": 1676663329643,
     "user": {
      "displayName": "Yang Xu",
      "userId": "12270366590264264299"
     },
     "user_tz": 300
    },
    "id": "iBX-iPCQNdSP",
    "outputId": "c49a64db-d4c4-4f21-bf5f-224c75f03f3b"
   },
   "outputs": [
    {
     "data": {
      "text/plain": [
       "56.0"
      ]
     },
     "execution_count": 10,
     "metadata": {},
     "output_type": "execute_result"
    }
   ],
   "source": [
    "max(data_CEL_sample['age'])"
   ]
  },
  {
   "cell_type": "code",
   "execution_count": 11,
   "id": "f8aa7005",
   "metadata": {
    "colab": {
     "base_uri": "https://localhost:8080/"
    },
    "executionInfo": {
     "elapsed": 8,
     "status": "ok",
     "timestamp": 1676663330569,
     "user": {
      "displayName": "Yang Xu",
      "userId": "12270366590264264299"
     },
     "user_tz": 300
    },
    "id": "1LWOEFXNNiOw",
    "outputId": "bee7be34-4cab-4d87-fd24-5535c5760628"
   },
   "outputs": [
    {
     "name": "stdout",
     "output_type": "stream",
     "text": [
      "[16 17 18 19 20 21 22 23 24 25 26 27 28 29 30 31 32 33 34 35 36 37 38 39\n",
      " 40 41 42 43 44 45 46 47 48 49 50 51 52 53 54 55 56]\n"
     ]
    }
   ],
   "source": [
    "# record thev estimated expected reward for each movie genere, under each possible combination of state variable\n",
    "age_range = np.linspace(min(data_CEL_sample['age']),max(data_CEL_sample['age']),int(max(data_CEL_sample['age'])-min(data_CEL_sample['age'])+1)).astype(int)\n",
    "print(age_range)"
   ]
  },
  {
   "cell_type": "code",
   "execution_count": 12,
   "id": "c2ca9d72",
   "metadata": {
    "executionInfo": {
     "elapsed": 602,
     "status": "ok",
     "timestamp": 1676663332414,
     "user": {
      "displayName": "Yang Xu",
      "userId": "12270366590264264299"
     },
     "user_tz": 300
    },
    "id": "ZjV4BSJ717cm"
   },
   "outputs": [],
   "source": [
    "import itertools\n",
    "\n",
    "gender = np.array([0,1])\n",
    "occupation_college = np.array([0,1])\n",
    "occupation_executive = np.array([0,1])\n",
    "occupation_other  = np.array([0,1])\n",
    "occupation_technician = np.array([0,1])\n",
    "\n",
    "# result contains all possible combinations.\n",
    "combinations = pd.DataFrame(itertools.product(age_range,gender,occupation_college,\n",
    "                                              occupation_executive,occupation_other,occupation_technician))"
   ]
  },
  {
   "cell_type": "code",
   "execution_count": 13,
   "id": "83ca37c9",
   "metadata": {
    "colab": {
     "base_uri": "https://localhost:8080/",
     "height": 424
    },
    "executionInfo": {
     "elapsed": 8,
     "status": "ok",
     "timestamp": 1676663332415,
     "user": {
      "displayName": "Yang Xu",
      "userId": "12270366590264264299"
     },
     "user_tz": 300
    },
    "id": "PnZj-MdF2okg",
    "outputId": "d450af9c-c669-4261-be43-9d7a2ce81db1"
   },
   "outputs": [
    {
     "data": {
      "text/html": [
       "<div>\n",
       "<style scoped>\n",
       "    .dataframe tbody tr th:only-of-type {\n",
       "        vertical-align: middle;\n",
       "    }\n",
       "\n",
       "    .dataframe tbody tr th {\n",
       "        vertical-align: top;\n",
       "    }\n",
       "\n",
       "    .dataframe thead th {\n",
       "        text-align: right;\n",
       "    }\n",
       "</style>\n",
       "<table border=\"1\" class=\"dataframe\">\n",
       "  <thead>\n",
       "    <tr style=\"text-align: right;\">\n",
       "      <th></th>\n",
       "      <th>age</th>\n",
       "      <th>gender</th>\n",
       "      <th>occupation_college</th>\n",
       "      <th>occupation_executive</th>\n",
       "      <th>occupation_other</th>\n",
       "      <th>occupation_technician</th>\n",
       "    </tr>\n",
       "  </thead>\n",
       "  <tbody>\n",
       "    <tr>\n",
       "      <th>0</th>\n",
       "      <td>16</td>\n",
       "      <td>0</td>\n",
       "      <td>0</td>\n",
       "      <td>0</td>\n",
       "      <td>0</td>\n",
       "      <td>0</td>\n",
       "    </tr>\n",
       "    <tr>\n",
       "      <th>1</th>\n",
       "      <td>16</td>\n",
       "      <td>0</td>\n",
       "      <td>0</td>\n",
       "      <td>0</td>\n",
       "      <td>0</td>\n",
       "      <td>1</td>\n",
       "    </tr>\n",
       "    <tr>\n",
       "      <th>2</th>\n",
       "      <td>16</td>\n",
       "      <td>0</td>\n",
       "      <td>0</td>\n",
       "      <td>0</td>\n",
       "      <td>1</td>\n",
       "      <td>0</td>\n",
       "    </tr>\n",
       "    <tr>\n",
       "      <th>3</th>\n",
       "      <td>16</td>\n",
       "      <td>0</td>\n",
       "      <td>0</td>\n",
       "      <td>0</td>\n",
       "      <td>1</td>\n",
       "      <td>1</td>\n",
       "    </tr>\n",
       "    <tr>\n",
       "      <th>4</th>\n",
       "      <td>16</td>\n",
       "      <td>0</td>\n",
       "      <td>0</td>\n",
       "      <td>1</td>\n",
       "      <td>0</td>\n",
       "      <td>0</td>\n",
       "    </tr>\n",
       "    <tr>\n",
       "      <th>...</th>\n",
       "      <td>...</td>\n",
       "      <td>...</td>\n",
       "      <td>...</td>\n",
       "      <td>...</td>\n",
       "      <td>...</td>\n",
       "      <td>...</td>\n",
       "    </tr>\n",
       "    <tr>\n",
       "      <th>1307</th>\n",
       "      <td>56</td>\n",
       "      <td>1</td>\n",
       "      <td>1</td>\n",
       "      <td>0</td>\n",
       "      <td>1</td>\n",
       "      <td>1</td>\n",
       "    </tr>\n",
       "    <tr>\n",
       "      <th>1308</th>\n",
       "      <td>56</td>\n",
       "      <td>1</td>\n",
       "      <td>1</td>\n",
       "      <td>1</td>\n",
       "      <td>0</td>\n",
       "      <td>0</td>\n",
       "    </tr>\n",
       "    <tr>\n",
       "      <th>1309</th>\n",
       "      <td>56</td>\n",
       "      <td>1</td>\n",
       "      <td>1</td>\n",
       "      <td>1</td>\n",
       "      <td>0</td>\n",
       "      <td>1</td>\n",
       "    </tr>\n",
       "    <tr>\n",
       "      <th>1310</th>\n",
       "      <td>56</td>\n",
       "      <td>1</td>\n",
       "      <td>1</td>\n",
       "      <td>1</td>\n",
       "      <td>1</td>\n",
       "      <td>0</td>\n",
       "    </tr>\n",
       "    <tr>\n",
       "      <th>1311</th>\n",
       "      <td>56</td>\n",
       "      <td>1</td>\n",
       "      <td>1</td>\n",
       "      <td>1</td>\n",
       "      <td>1</td>\n",
       "      <td>1</td>\n",
       "    </tr>\n",
       "  </tbody>\n",
       "</table>\n",
       "<p>1312 rows × 6 columns</p>\n",
       "</div>"
      ],
      "text/plain": [
       "      age  gender  occupation_college  occupation_executive  occupation_other  \\\n",
       "0      16       0                   0                     0                 0   \n",
       "1      16       0                   0                     0                 0   \n",
       "2      16       0                   0                     0                 1   \n",
       "3      16       0                   0                     0                 1   \n",
       "4      16       0                   0                     1                 0   \n",
       "...   ...     ...                 ...                   ...               ...   \n",
       "1307   56       1                   1                     0                 1   \n",
       "1308   56       1                   1                     1                 0   \n",
       "1309   56       1                   1                     1                 0   \n",
       "1310   56       1                   1                     1                 1   \n",
       "1311   56       1                   1                     1                 1   \n",
       "\n",
       "      occupation_technician  \n",
       "0                         0  \n",
       "1                         1  \n",
       "2                         0  \n",
       "3                         1  \n",
       "4                         0  \n",
       "...                     ...  \n",
       "1307                      1  \n",
       "1308                      0  \n",
       "1309                      1  \n",
       "1310                      0  \n",
       "1311                      1  \n",
       "\n",
       "[1312 rows x 6 columns]"
      ]
     },
     "execution_count": 13,
     "metadata": {},
     "output_type": "execute_result"
    }
   ],
   "source": [
    "combinations.columns =['age','gender','occupation_college', 'occupation_executive','occupation_other','occupation_technician']\n",
    "combinations"
   ]
  },
  {
   "cell_type": "code",
   "execution_count": 14,
   "id": "ee1654aa",
   "metadata": {
    "colab": {
     "base_uri": "https://localhost:8080/"
    },
    "executionInfo": {
     "elapsed": 618,
     "status": "ok",
     "timestamp": 1676663334947,
     "user": {
      "displayName": "Yang Xu",
      "userId": "12270366590264264299"
     },
     "user_tz": 300
    },
    "id": "LIsjunXr2-6e",
    "outputId": "79c63273-e2e9-4c51-e31d-bc728f51f635"
   },
   "outputs": [
    {
     "data": {
      "text/plain": [
       "1312"
      ]
     },
     "execution_count": 14,
     "metadata": {},
     "output_type": "execute_result"
    }
   ],
   "source": [
    "len(models_CEL['Comedy'].predict(combinations))"
   ]
  },
  {
   "cell_type": "code",
   "execution_count": 16,
   "id": "3d7a6001",
   "metadata": {
    "colab": {
     "base_uri": "https://localhost:8080/"
    },
    "executionInfo": {
     "elapsed": 299,
     "status": "ok",
     "timestamp": 1676663347659,
     "user": {
      "displayName": "Yang Xu",
      "userId": "12270366590264264299"
     },
     "user_tz": 300
    },
    "id": "7O7Bfvmz5hB0",
    "outputId": "3e764027-e93b-4da8-f0fd-9f24a2eeb011"
   },
   "outputs": [
    {
     "data": {
      "text/plain": [
       "array([3.1224, 3.0439, 3.7664, ..., 3.5822, 3.6663, 3.6364])"
      ]
     },
     "execution_count": 16,
     "metadata": {},
     "output_type": "execute_result"
    }
   ],
   "source": [
    "models_CEL['Comedy'].predict(combinations)\n",
    "#models_CEL['Comedy'].predict(data_CEL_sample.iloc[np.where(data_CEL_sample['Comedy']==1)[0],userinfo_index])"
   ]
  },
  {
   "cell_type": "code",
   "execution_count": 17,
   "id": "c50dbb1f",
   "metadata": {
    "colab": {
     "base_uri": "https://localhost:8080/"
    },
    "executionInfo": {
     "elapsed": 484,
     "status": "ok",
     "timestamp": 1676663532795,
     "user": {
      "displayName": "Yang Xu",
      "userId": "12270366590264264299"
     },
     "user_tz": 300
    },
    "id": "sToJaW2I7JDR",
    "outputId": "dae5165b-6023-43b5-c557-19c831b649db"
   },
   "outputs": [
    {
     "name": "stdout",
     "output_type": "stream",
     "text": [
      "[[3.1224 3.0439 3.7664 ... 3.5822 3.6663 3.6364]\n",
      " [0.     0.     0.     ... 0.     0.     0.    ]\n",
      " [0.     0.     0.     ... 0.     0.     0.    ]\n",
      " [0.     0.     0.     ... 0.     0.     0.    ]\n",
      " [0.     0.     0.     ... 0.     0.     0.    ]]\n",
      "[[3.1224 3.0439 3.7664 ... 3.5822 3.6663 3.6364]\n",
      " [3.5765 3.2059 3.9103 ... 3.1657 3.2833 3.1036]\n",
      " [0.     0.     0.     ... 0.     0.     0.    ]\n",
      " [0.     0.     0.     ... 0.     0.     0.    ]\n",
      " [0.     0.     0.     ... 0.     0.     0.    ]]\n",
      "[[3.1224 3.0439 3.7664 ... 3.5822 3.6663 3.6364]\n",
      " [3.5765 3.2059 3.9103 ... 3.1657 3.2833 3.1036]\n",
      " [3.0664 3.2327 3.3366 ... 3.5529 3.1292 3.116 ]\n",
      " [0.     0.     0.     ... 0.     0.     0.    ]\n",
      " [0.     0.     0.     ... 0.     0.     0.    ]]\n",
      "[[3.1224 3.0439 3.7664 ... 3.5822 3.6663 3.6364]\n",
      " [3.5765 3.2059 3.9103 ... 3.1657 3.2833 3.1036]\n",
      " [3.0664 3.2327 3.3366 ... 3.5529 3.1292 3.116 ]\n",
      " [3.5834 3.5834 3.7176 ... 3.7408 3.7408 3.7408]\n",
      " [0.     0.     0.     ... 0.     0.     0.    ]]\n",
      "[[3.1224 3.0439 3.7664 ... 3.5822 3.6663 3.6364]\n",
      " [3.5765 3.2059 3.9103 ... 3.1657 3.2833 3.1036]\n",
      " [3.0664 3.2327 3.3366 ... 3.5529 3.1292 3.116 ]\n",
      " [3.5834 3.5834 3.7176 ... 3.7408 3.7408 3.7408]\n",
      " [3.1338 3.1338 3.1603 ... 3.1514 3.1514 3.1514]]\n"
     ]
    }
   ],
   "source": [
    "values = np.zeros((5,1312))\n",
    "i=0\n",
    "for movie_genere in movie_generes:\n",
    "    values[i,:] = models_CEL[movie_genere].predict(combinations)\n",
    "    i=i+1\n",
    "    print(values)"
   ]
  },
  {
   "cell_type": "code",
   "execution_count": 37,
   "id": "7acf8ed3",
   "metadata": {},
   "outputs": [
    {
     "data": {
      "text/plain": [
       "11"
      ]
     },
     "execution_count": 37,
     "metadata": {},
     "output_type": "execute_result"
    }
   ],
   "source": [
    "len(result_CEL.columns)"
   ]
  },
  {
   "cell_type": "code",
   "execution_count": 18,
   "id": "aa105642",
   "metadata": {
    "executionInfo": {
     "elapsed": 327,
     "status": "ok",
     "timestamp": 1676663610385,
     "user": {
      "displayName": "Yang Xu",
      "userId": "12270366590264264299"
     },
     "user_tz": 300
    },
    "id": "ftSFf4P62_A8"
   },
   "outputs": [],
   "source": [
    "result_CEL = combinations.copy()\n",
    "i=0\n",
    "for movie_genere in movie_generes:\n",
    "    #values = models_CEL[movie_genere].predict(combinations)\n",
    "    result_CEL.insert(len(result_CEL.columns), movie_genere, values[i,:])\n",
    "    i=i+1"
   ]
  },
  {
   "cell_type": "code",
   "execution_count": 19,
   "id": "22fb7206",
   "metadata": {
    "colab": {
     "base_uri": "https://localhost:8080/",
     "height": 488
    },
    "executionInfo": {
     "elapsed": 312,
     "status": "ok",
     "timestamp": 1676663615813,
     "user": {
      "displayName": "Yang Xu",
      "userId": "12270366590264264299"
     },
     "user_tz": 300
    },
    "id": "3b44q4xD8Gvh",
    "outputId": "a2846ad8-a2ef-4677-ff8f-1b0f3b87f386"
   },
   "outputs": [
    {
     "data": {
      "text/html": [
       "<div>\n",
       "<style scoped>\n",
       "    .dataframe tbody tr th:only-of-type {\n",
       "        vertical-align: middle;\n",
       "    }\n",
       "\n",
       "    .dataframe tbody tr th {\n",
       "        vertical-align: top;\n",
       "    }\n",
       "\n",
       "    .dataframe thead th {\n",
       "        text-align: right;\n",
       "    }\n",
       "</style>\n",
       "<table border=\"1\" class=\"dataframe\">\n",
       "  <thead>\n",
       "    <tr style=\"text-align: right;\">\n",
       "      <th></th>\n",
       "      <th>age</th>\n",
       "      <th>gender</th>\n",
       "      <th>occupation_college</th>\n",
       "      <th>occupation_executive</th>\n",
       "      <th>occupation_other</th>\n",
       "      <th>occupation_technician</th>\n",
       "      <th>Comedy</th>\n",
       "      <th>Drama</th>\n",
       "      <th>Action</th>\n",
       "      <th>Thriller</th>\n",
       "      <th>Sci-Fi</th>\n",
       "    </tr>\n",
       "  </thead>\n",
       "  <tbody>\n",
       "    <tr>\n",
       "      <th>0</th>\n",
       "      <td>16</td>\n",
       "      <td>0</td>\n",
       "      <td>0</td>\n",
       "      <td>0</td>\n",
       "      <td>0</td>\n",
       "      <td>0</td>\n",
       "      <td>3.122379</td>\n",
       "      <td>3.576471</td>\n",
       "      <td>3.066448</td>\n",
       "      <td>3.583382</td>\n",
       "      <td>3.133766</td>\n",
       "    </tr>\n",
       "    <tr>\n",
       "      <th>1</th>\n",
       "      <td>16</td>\n",
       "      <td>0</td>\n",
       "      <td>0</td>\n",
       "      <td>0</td>\n",
       "      <td>0</td>\n",
       "      <td>1</td>\n",
       "      <td>3.043862</td>\n",
       "      <td>3.205939</td>\n",
       "      <td>3.232727</td>\n",
       "      <td>3.583382</td>\n",
       "      <td>3.133766</td>\n",
       "    </tr>\n",
       "    <tr>\n",
       "      <th>2</th>\n",
       "      <td>16</td>\n",
       "      <td>0</td>\n",
       "      <td>0</td>\n",
       "      <td>0</td>\n",
       "      <td>1</td>\n",
       "      <td>0</td>\n",
       "      <td>3.766441</td>\n",
       "      <td>3.910281</td>\n",
       "      <td>3.336623</td>\n",
       "      <td>3.717603</td>\n",
       "      <td>3.160268</td>\n",
       "    </tr>\n",
       "    <tr>\n",
       "      <th>3</th>\n",
       "      <td>16</td>\n",
       "      <td>0</td>\n",
       "      <td>0</td>\n",
       "      <td>0</td>\n",
       "      <td>1</td>\n",
       "      <td>1</td>\n",
       "      <td>3.687924</td>\n",
       "      <td>3.331463</td>\n",
       "      <td>3.345233</td>\n",
       "      <td>3.717603</td>\n",
       "      <td>3.160268</td>\n",
       "    </tr>\n",
       "    <tr>\n",
       "      <th>4</th>\n",
       "      <td>16</td>\n",
       "      <td>0</td>\n",
       "      <td>0</td>\n",
       "      <td>1</td>\n",
       "      <td>0</td>\n",
       "      <td>0</td>\n",
       "      <td>3.377340</td>\n",
       "      <td>3.649888</td>\n",
       "      <td>3.039056</td>\n",
       "      <td>3.923635</td>\n",
       "      <td>3.133766</td>\n",
       "    </tr>\n",
       "    <tr>\n",
       "      <th>...</th>\n",
       "      <td>...</td>\n",
       "      <td>...</td>\n",
       "      <td>...</td>\n",
       "      <td>...</td>\n",
       "      <td>...</td>\n",
       "      <td>...</td>\n",
       "      <td>...</td>\n",
       "      <td>...</td>\n",
       "      <td>...</td>\n",
       "      <td>...</td>\n",
       "      <td>...</td>\n",
       "    </tr>\n",
       "    <tr>\n",
       "      <th>1307</th>\n",
       "      <td>56</td>\n",
       "      <td>1</td>\n",
       "      <td>1</td>\n",
       "      <td>0</td>\n",
       "      <td>1</td>\n",
       "      <td>1</td>\n",
       "      <td>3.297553</td>\n",
       "      <td>3.090110</td>\n",
       "      <td>3.024221</td>\n",
       "      <td>3.658442</td>\n",
       "      <td>3.151436</td>\n",
       "    </tr>\n",
       "    <tr>\n",
       "      <th>1308</th>\n",
       "      <td>56</td>\n",
       "      <td>1</td>\n",
       "      <td>1</td>\n",
       "      <td>1</td>\n",
       "      <td>0</td>\n",
       "      <td>0</td>\n",
       "      <td>3.612166</td>\n",
       "      <td>3.695911</td>\n",
       "      <td>3.608458</td>\n",
       "      <td>3.740830</td>\n",
       "      <td>3.151436</td>\n",
       "    </tr>\n",
       "    <tr>\n",
       "      <th>1309</th>\n",
       "      <td>56</td>\n",
       "      <td>1</td>\n",
       "      <td>1</td>\n",
       "      <td>1</td>\n",
       "      <td>0</td>\n",
       "      <td>1</td>\n",
       "      <td>3.582210</td>\n",
       "      <td>3.165707</td>\n",
       "      <td>3.552889</td>\n",
       "      <td>3.740830</td>\n",
       "      <td>3.151436</td>\n",
       "    </tr>\n",
       "    <tr>\n",
       "      <th>1310</th>\n",
       "      <td>56</td>\n",
       "      <td>1</td>\n",
       "      <td>1</td>\n",
       "      <td>1</td>\n",
       "      <td>1</td>\n",
       "      <td>0</td>\n",
       "      <td>3.666311</td>\n",
       "      <td>3.283311</td>\n",
       "      <td>3.129195</td>\n",
       "      <td>3.740830</td>\n",
       "      <td>3.151436</td>\n",
       "    </tr>\n",
       "    <tr>\n",
       "      <th>1311</th>\n",
       "      <td>56</td>\n",
       "      <td>1</td>\n",
       "      <td>1</td>\n",
       "      <td>1</td>\n",
       "      <td>1</td>\n",
       "      <td>1</td>\n",
       "      <td>3.636355</td>\n",
       "      <td>3.103647</td>\n",
       "      <td>3.115987</td>\n",
       "      <td>3.740830</td>\n",
       "      <td>3.151436</td>\n",
       "    </tr>\n",
       "  </tbody>\n",
       "</table>\n",
       "<p>1312 rows × 11 columns</p>\n",
       "</div>"
      ],
      "text/plain": [
       "      age  gender  occupation_college  occupation_executive  occupation_other  \\\n",
       "0      16       0                   0                     0                 0   \n",
       "1      16       0                   0                     0                 0   \n",
       "2      16       0                   0                     0                 1   \n",
       "3      16       0                   0                     0                 1   \n",
       "4      16       0                   0                     1                 0   \n",
       "...   ...     ...                 ...                   ...               ...   \n",
       "1307   56       1                   1                     0                 1   \n",
       "1308   56       1                   1                     1                 0   \n",
       "1309   56       1                   1                     1                 0   \n",
       "1310   56       1                   1                     1                 1   \n",
       "1311   56       1                   1                     1                 1   \n",
       "\n",
       "      occupation_technician    Comedy     Drama    Action  Thriller    Sci-Fi  \n",
       "0                         0  3.122379  3.576471  3.066448  3.583382  3.133766  \n",
       "1                         1  3.043862  3.205939  3.232727  3.583382  3.133766  \n",
       "2                         0  3.766441  3.910281  3.336623  3.717603  3.160268  \n",
       "3                         1  3.687924  3.331463  3.345233  3.717603  3.160268  \n",
       "4                         0  3.377340  3.649888  3.039056  3.923635  3.133766  \n",
       "...                     ...       ...       ...       ...       ...       ...  \n",
       "1307                      1  3.297553  3.090110  3.024221  3.658442  3.151436  \n",
       "1308                      0  3.612166  3.695911  3.608458  3.740830  3.151436  \n",
       "1309                      1  3.582210  3.165707  3.552889  3.740830  3.151436  \n",
       "1310                      0  3.666311  3.283311  3.129195  3.740830  3.151436  \n",
       "1311                      1  3.636355  3.103647  3.115987  3.740830  3.151436  \n",
       "\n",
       "[1312 rows x 11 columns]"
      ]
     },
     "execution_count": 19,
     "metadata": {},
     "output_type": "execute_result"
    }
   ],
   "source": [
    "result_CEL"
   ]
  },
  {
   "cell_type": "code",
   "execution_count": 20,
   "id": "3b49ef75",
   "metadata": {
    "executionInfo": {
     "elapsed": 297,
     "status": "ok",
     "timestamp": 1676663762150,
     "user": {
      "displayName": "Yang Xu",
      "userId": "12270366590264264299"
     },
     "user_tz": 300
    },
    "id": "ZPelPjli1oTF"
   },
   "outputs": [],
   "source": [
    "result_CEL.to_csv('/Users/alinaxu/Documents/CDM/Causal-Decision-Making/5_Case_Study/MovieLens/result_CEL_nonlinear.csv')"
   ]
  },
  {
   "cell_type": "code",
   "execution_count": 21,
   "id": "62a7c999",
   "metadata": {
    "colab": {
     "base_uri": "https://localhost:8080/",
     "height": 488
    },
    "executionInfo": {
     "elapsed": 18,
     "status": "ok",
     "timestamp": 1676663918591,
     "user": {
      "displayName": "Yang Xu",
      "userId": "12270366590264264299"
     },
     "user_tz": 300
    },
    "id": "alx6VRzn8v-W",
    "outputId": "6bfbeeec-1a6c-4e68-bad9-39c0853b34a7"
   },
   "outputs": [
    {
     "data": {
      "text/html": [
       "<div>\n",
       "<style scoped>\n",
       "    .dataframe tbody tr th:only-of-type {\n",
       "        vertical-align: middle;\n",
       "    }\n",
       "\n",
       "    .dataframe tbody tr th {\n",
       "        vertical-align: top;\n",
       "    }\n",
       "\n",
       "    .dataframe thead th {\n",
       "        text-align: right;\n",
       "    }\n",
       "</style>\n",
       "<table border=\"1\" class=\"dataframe\">\n",
       "  <thead>\n",
       "    <tr style=\"text-align: right;\">\n",
       "      <th></th>\n",
       "      <th>age</th>\n",
       "      <th>gender</th>\n",
       "      <th>occupation_college</th>\n",
       "      <th>occupation_executive</th>\n",
       "      <th>occupation_other</th>\n",
       "      <th>occupation_technician</th>\n",
       "      <th>Comedy</th>\n",
       "      <th>Drama</th>\n",
       "      <th>Action</th>\n",
       "      <th>Thriller</th>\n",
       "      <th>Sci-Fi</th>\n",
       "    </tr>\n",
       "  </thead>\n",
       "  <tbody>\n",
       "    <tr>\n",
       "      <th>0</th>\n",
       "      <td>16</td>\n",
       "      <td>0</td>\n",
       "      <td>0</td>\n",
       "      <td>0</td>\n",
       "      <td>0</td>\n",
       "      <td>0</td>\n",
       "      <td>3.122379</td>\n",
       "      <td>3.576471</td>\n",
       "      <td>3.066448</td>\n",
       "      <td>3.583382</td>\n",
       "      <td>3.133766</td>\n",
       "    </tr>\n",
       "    <tr>\n",
       "      <th>1</th>\n",
       "      <td>16</td>\n",
       "      <td>0</td>\n",
       "      <td>0</td>\n",
       "      <td>0</td>\n",
       "      <td>0</td>\n",
       "      <td>1</td>\n",
       "      <td>3.043862</td>\n",
       "      <td>3.205939</td>\n",
       "      <td>3.232727</td>\n",
       "      <td>3.583382</td>\n",
       "      <td>3.133766</td>\n",
       "    </tr>\n",
       "    <tr>\n",
       "      <th>2</th>\n",
       "      <td>16</td>\n",
       "      <td>0</td>\n",
       "      <td>0</td>\n",
       "      <td>0</td>\n",
       "      <td>1</td>\n",
       "      <td>0</td>\n",
       "      <td>3.766441</td>\n",
       "      <td>3.910281</td>\n",
       "      <td>3.336623</td>\n",
       "      <td>3.717603</td>\n",
       "      <td>3.160268</td>\n",
       "    </tr>\n",
       "    <tr>\n",
       "      <th>3</th>\n",
       "      <td>16</td>\n",
       "      <td>0</td>\n",
       "      <td>0</td>\n",
       "      <td>0</td>\n",
       "      <td>1</td>\n",
       "      <td>1</td>\n",
       "      <td>3.687924</td>\n",
       "      <td>3.331463</td>\n",
       "      <td>3.345233</td>\n",
       "      <td>3.717603</td>\n",
       "      <td>3.160268</td>\n",
       "    </tr>\n",
       "    <tr>\n",
       "      <th>4</th>\n",
       "      <td>16</td>\n",
       "      <td>0</td>\n",
       "      <td>0</td>\n",
       "      <td>1</td>\n",
       "      <td>0</td>\n",
       "      <td>0</td>\n",
       "      <td>3.377340</td>\n",
       "      <td>3.649888</td>\n",
       "      <td>3.039056</td>\n",
       "      <td>3.923635</td>\n",
       "      <td>3.133766</td>\n",
       "    </tr>\n",
       "    <tr>\n",
       "      <th>...</th>\n",
       "      <td>...</td>\n",
       "      <td>...</td>\n",
       "      <td>...</td>\n",
       "      <td>...</td>\n",
       "      <td>...</td>\n",
       "      <td>...</td>\n",
       "      <td>...</td>\n",
       "      <td>...</td>\n",
       "      <td>...</td>\n",
       "      <td>...</td>\n",
       "      <td>...</td>\n",
       "    </tr>\n",
       "    <tr>\n",
       "      <th>1307</th>\n",
       "      <td>56</td>\n",
       "      <td>1</td>\n",
       "      <td>1</td>\n",
       "      <td>0</td>\n",
       "      <td>1</td>\n",
       "      <td>1</td>\n",
       "      <td>3.297553</td>\n",
       "      <td>3.090110</td>\n",
       "      <td>3.024221</td>\n",
       "      <td>3.658442</td>\n",
       "      <td>3.151436</td>\n",
       "    </tr>\n",
       "    <tr>\n",
       "      <th>1308</th>\n",
       "      <td>56</td>\n",
       "      <td>1</td>\n",
       "      <td>1</td>\n",
       "      <td>1</td>\n",
       "      <td>0</td>\n",
       "      <td>0</td>\n",
       "      <td>3.612166</td>\n",
       "      <td>3.695911</td>\n",
       "      <td>3.608458</td>\n",
       "      <td>3.740830</td>\n",
       "      <td>3.151436</td>\n",
       "    </tr>\n",
       "    <tr>\n",
       "      <th>1309</th>\n",
       "      <td>56</td>\n",
       "      <td>1</td>\n",
       "      <td>1</td>\n",
       "      <td>1</td>\n",
       "      <td>0</td>\n",
       "      <td>1</td>\n",
       "      <td>3.582210</td>\n",
       "      <td>3.165707</td>\n",
       "      <td>3.552889</td>\n",
       "      <td>3.740830</td>\n",
       "      <td>3.151436</td>\n",
       "    </tr>\n",
       "    <tr>\n",
       "      <th>1310</th>\n",
       "      <td>56</td>\n",
       "      <td>1</td>\n",
       "      <td>1</td>\n",
       "      <td>1</td>\n",
       "      <td>1</td>\n",
       "      <td>0</td>\n",
       "      <td>3.666311</td>\n",
       "      <td>3.283311</td>\n",
       "      <td>3.129195</td>\n",
       "      <td>3.740830</td>\n",
       "      <td>3.151436</td>\n",
       "    </tr>\n",
       "    <tr>\n",
       "      <th>1311</th>\n",
       "      <td>56</td>\n",
       "      <td>1</td>\n",
       "      <td>1</td>\n",
       "      <td>1</td>\n",
       "      <td>1</td>\n",
       "      <td>1</td>\n",
       "      <td>3.636355</td>\n",
       "      <td>3.103647</td>\n",
       "      <td>3.115987</td>\n",
       "      <td>3.740830</td>\n",
       "      <td>3.151436</td>\n",
       "    </tr>\n",
       "  </tbody>\n",
       "</table>\n",
       "<p>1312 rows × 11 columns</p>\n",
       "</div>"
      ],
      "text/plain": [
       "      age  gender  occupation_college  occupation_executive  occupation_other  \\\n",
       "0      16       0                   0                     0                 0   \n",
       "1      16       0                   0                     0                 0   \n",
       "2      16       0                   0                     0                 1   \n",
       "3      16       0                   0                     0                 1   \n",
       "4      16       0                   0                     1                 0   \n",
       "...   ...     ...                 ...                   ...               ...   \n",
       "1307   56       1                   1                     0                 1   \n",
       "1308   56       1                   1                     1                 0   \n",
       "1309   56       1                   1                     1                 0   \n",
       "1310   56       1                   1                     1                 1   \n",
       "1311   56       1                   1                     1                 1   \n",
       "\n",
       "      occupation_technician    Comedy     Drama    Action  Thriller    Sci-Fi  \n",
       "0                         0  3.122379  3.576471  3.066448  3.583382  3.133766  \n",
       "1                         1  3.043862  3.205939  3.232727  3.583382  3.133766  \n",
       "2                         0  3.766441  3.910281  3.336623  3.717603  3.160268  \n",
       "3                         1  3.687924  3.331463  3.345233  3.717603  3.160268  \n",
       "4                         0  3.377340  3.649888  3.039056  3.923635  3.133766  \n",
       "...                     ...       ...       ...       ...       ...       ...  \n",
       "1307                      1  3.297553  3.090110  3.024221  3.658442  3.151436  \n",
       "1308                      0  3.612166  3.695911  3.608458  3.740830  3.151436  \n",
       "1309                      1  3.582210  3.165707  3.552889  3.740830  3.151436  \n",
       "1310                      0  3.666311  3.283311  3.129195  3.740830  3.151436  \n",
       "1311                      1  3.636355  3.103647  3.115987  3.740830  3.151436  \n",
       "\n",
       "[1312 rows x 11 columns]"
      ]
     },
     "execution_count": 21,
     "metadata": {},
     "output_type": "execute_result"
    }
   ],
   "source": [
    "# read the result file\n",
    "result_CEL_nonlinear = pd.read_csv('/Users/alinaxu/Documents/CDM/Causal-Decision-Making/5_Case_Study/MovieLens/result_CEL_nonlinear.csv')\n",
    "result_CEL_nonlinear = result_CEL_nonlinear.drop(result_CEL_nonlinear.columns[0], axis=1)\n",
    "result_CEL_nonlinear"
   ]
  },
  {
   "cell_type": "markdown",
   "id": "9a8a68cb",
   "metadata": {
    "id": "nhhsw-DOwxzx"
   },
   "source": [
    "#### Analysis"
   ]
  },
  {
   "cell_type": "code",
   "execution_count": 23,
   "id": "d61c44f1",
   "metadata": {
    "colab": {
     "base_uri": "https://localhost:8080/",
     "height": 424
    },
    "executionInfo": {
     "elapsed": 384,
     "status": "ok",
     "timestamp": 1676664151826,
     "user": {
      "displayName": "Yang Xu",
      "userId": "12270366590264264299"
     },
     "user_tz": 300
    },
    "id": "DdJQexQR9n44",
    "outputId": "e50438e1-8a80-4cb3-d45c-c34530d71301"
   },
   "outputs": [
    {
     "data": {
      "text/html": [
       "<div>\n",
       "<style scoped>\n",
       "    .dataframe tbody tr th:only-of-type {\n",
       "        vertical-align: middle;\n",
       "    }\n",
       "\n",
       "    .dataframe tbody tr th {\n",
       "        vertical-align: top;\n",
       "    }\n",
       "\n",
       "    .dataframe thead th {\n",
       "        text-align: right;\n",
       "    }\n",
       "</style>\n",
       "<table border=\"1\" class=\"dataframe\">\n",
       "  <thead>\n",
       "    <tr style=\"text-align: right;\">\n",
       "      <th></th>\n",
       "      <th>Comedy</th>\n",
       "      <th>Drama</th>\n",
       "      <th>Action</th>\n",
       "      <th>Thriller</th>\n",
       "      <th>Sci-Fi</th>\n",
       "    </tr>\n",
       "  </thead>\n",
       "  <tbody>\n",
       "    <tr>\n",
       "      <th>0</th>\n",
       "      <td>3.122379</td>\n",
       "      <td>3.576471</td>\n",
       "      <td>3.066448</td>\n",
       "      <td>3.583382</td>\n",
       "      <td>3.133766</td>\n",
       "    </tr>\n",
       "    <tr>\n",
       "      <th>1</th>\n",
       "      <td>3.043862</td>\n",
       "      <td>3.205939</td>\n",
       "      <td>3.232727</td>\n",
       "      <td>3.583382</td>\n",
       "      <td>3.133766</td>\n",
       "    </tr>\n",
       "    <tr>\n",
       "      <th>2</th>\n",
       "      <td>3.766441</td>\n",
       "      <td>3.910281</td>\n",
       "      <td>3.336623</td>\n",
       "      <td>3.717603</td>\n",
       "      <td>3.160268</td>\n",
       "    </tr>\n",
       "    <tr>\n",
       "      <th>3</th>\n",
       "      <td>3.687924</td>\n",
       "      <td>3.331463</td>\n",
       "      <td>3.345233</td>\n",
       "      <td>3.717603</td>\n",
       "      <td>3.160268</td>\n",
       "    </tr>\n",
       "    <tr>\n",
       "      <th>4</th>\n",
       "      <td>3.377340</td>\n",
       "      <td>3.649888</td>\n",
       "      <td>3.039056</td>\n",
       "      <td>3.923635</td>\n",
       "      <td>3.133766</td>\n",
       "    </tr>\n",
       "    <tr>\n",
       "      <th>...</th>\n",
       "      <td>...</td>\n",
       "      <td>...</td>\n",
       "      <td>...</td>\n",
       "      <td>...</td>\n",
       "      <td>...</td>\n",
       "    </tr>\n",
       "    <tr>\n",
       "      <th>1291</th>\n",
       "      <td>3.332436</td>\n",
       "      <td>2.872823</td>\n",
       "      <td>3.384179</td>\n",
       "      <td>3.570366</td>\n",
       "      <td>3.151436</td>\n",
       "    </tr>\n",
       "    <tr>\n",
       "      <th>1292</th>\n",
       "      <td>3.581828</td>\n",
       "      <td>3.681775</td>\n",
       "      <td>3.981202</td>\n",
       "      <td>3.683080</td>\n",
       "      <td>3.151436</td>\n",
       "    </tr>\n",
       "    <tr>\n",
       "      <th>1293</th>\n",
       "      <td>3.542217</td>\n",
       "      <td>3.151571</td>\n",
       "      <td>3.925634</td>\n",
       "      <td>3.683080</td>\n",
       "      <td>3.151436</td>\n",
       "    </tr>\n",
       "    <tr>\n",
       "      <th>1294</th>\n",
       "      <td>3.679223</td>\n",
       "      <td>3.269175</td>\n",
       "      <td>3.536997</td>\n",
       "      <td>3.683080</td>\n",
       "      <td>3.151436</td>\n",
       "    </tr>\n",
       "    <tr>\n",
       "      <th>1295</th>\n",
       "      <td>3.639611</td>\n",
       "      <td>3.089511</td>\n",
       "      <td>3.523789</td>\n",
       "      <td>3.683080</td>\n",
       "      <td>3.151436</td>\n",
       "    </tr>\n",
       "  </tbody>\n",
       "</table>\n",
       "<p>656 rows × 5 columns</p>\n",
       "</div>"
      ],
      "text/plain": [
       "        Comedy     Drama    Action  Thriller    Sci-Fi\n",
       "0     3.122379  3.576471  3.066448  3.583382  3.133766\n",
       "1     3.043862  3.205939  3.232727  3.583382  3.133766\n",
       "2     3.766441  3.910281  3.336623  3.717603  3.160268\n",
       "3     3.687924  3.331463  3.345233  3.717603  3.160268\n",
       "4     3.377340  3.649888  3.039056  3.923635  3.133766\n",
       "...        ...       ...       ...       ...       ...\n",
       "1291  3.332436  2.872823  3.384179  3.570366  3.151436\n",
       "1292  3.581828  3.681775  3.981202  3.683080  3.151436\n",
       "1293  3.542217  3.151571  3.925634  3.683080  3.151436\n",
       "1294  3.679223  3.269175  3.536997  3.683080  3.151436\n",
       "1295  3.639611  3.089511  3.523789  3.683080  3.151436\n",
       "\n",
       "[656 rows x 5 columns]"
      ]
     },
     "execution_count": 23,
     "metadata": {},
     "output_type": "execute_result"
    }
   ],
   "source": [
    "result_CEL_nonlinear.iloc[np.where(result_CEL_nonlinear['gender']==0)[0],6:11]"
   ]
  },
  {
   "cell_type": "code",
   "execution_count": 24,
   "id": "7e8d8c90",
   "metadata": {
    "executionInfo": {
     "elapsed": 343,
     "status": "ok",
     "timestamp": 1676664442590,
     "user": {
      "displayName": "Yang Xu",
      "userId": "12270366590264264299"
     },
     "user_tz": 300
    },
    "id": "Dk9-vMRIQCyg"
   },
   "outputs": [],
   "source": [
    "# calculate the expected reward of Comedy for female\n",
    "TE_female=result_CEL_nonlinear.iloc[np.where(result_CEL_nonlinear['gender']==0)[0],6:11]/(41*(2**4))\n",
    "TE_female=pd.DataFrame(TE_female.sum(axis=0))\n",
    "TE_female.columns =['Expected Rating']"
   ]
  },
  {
   "cell_type": "code",
   "execution_count": 25,
   "id": "06d13401",
   "metadata": {
    "colab": {
     "base_uri": "https://localhost:8080/",
     "height": 206
    },
    "executionInfo": {
     "elapsed": 17,
     "status": "ok",
     "timestamp": 1676664443598,
     "user": {
      "displayName": "Yang Xu",
      "userId": "12270366590264264299"
     },
     "user_tz": 300
    },
    "id": "KfCTrgBDSyWv",
    "outputId": "896d8116-a377-484f-e9eb-7abca4cad453"
   },
   "outputs": [
    {
     "data": {
      "text/html": [
       "<div>\n",
       "<style scoped>\n",
       "    .dataframe tbody tr th:only-of-type {\n",
       "        vertical-align: middle;\n",
       "    }\n",
       "\n",
       "    .dataframe tbody tr th {\n",
       "        vertical-align: top;\n",
       "    }\n",
       "\n",
       "    .dataframe thead th {\n",
       "        text-align: right;\n",
       "    }\n",
       "</style>\n",
       "<table border=\"1\" class=\"dataframe\">\n",
       "  <thead>\n",
       "    <tr style=\"text-align: right;\">\n",
       "      <th></th>\n",
       "      <th>Expected Rating</th>\n",
       "    </tr>\n",
       "  </thead>\n",
       "  <tbody>\n",
       "    <tr>\n",
       "      <th>Comedy</th>\n",
       "      <td>3.500268</td>\n",
       "    </tr>\n",
       "    <tr>\n",
       "      <th>Drama</th>\n",
       "      <td>3.309777</td>\n",
       "    </tr>\n",
       "    <tr>\n",
       "      <th>Action</th>\n",
       "      <td>3.562432</td>\n",
       "    </tr>\n",
       "    <tr>\n",
       "      <th>Thriller</th>\n",
       "      <td>3.605472</td>\n",
       "    </tr>\n",
       "    <tr>\n",
       "      <th>Sci-Fi</th>\n",
       "      <td>2.960134</td>\n",
       "    </tr>\n",
       "  </tbody>\n",
       "</table>\n",
       "</div>"
      ],
      "text/plain": [
       "          Expected Rating\n",
       "Comedy           3.500268\n",
       "Drama            3.309777\n",
       "Action           3.562432\n",
       "Thriller         3.605472\n",
       "Sci-Fi           2.960134"
      ]
     },
     "execution_count": 25,
     "metadata": {},
     "output_type": "execute_result"
    }
   ],
   "source": [
    "TE_female"
   ]
  },
  {
   "cell_type": "code",
   "execution_count": null,
   "id": "cfd03ec9",
   "metadata": {
    "id": "eP386jqUTTUU"
   },
   "outputs": [],
   "source": []
  },
  {
   "cell_type": "code",
   "execution_count": 26,
   "id": "428ea969",
   "metadata": {
    "executionInfo": {
     "elapsed": 310,
     "status": "ok",
     "timestamp": 1676664467325,
     "user": {
      "displayName": "Yang Xu",
      "userId": "12270366590264264299"
     },
     "user_tz": 300
    },
    "id": "xNU7ibG4_UNF"
   },
   "outputs": [],
   "source": [
    "# calculate the expected reward of Comedy for female\n",
    "TE_male=result_CEL_nonlinear.iloc[np.where(result_CEL_nonlinear['gender']==1)[0],6:11]/(41*(2**4))\n",
    "TE_male=pd.DataFrame(TE_male.sum(axis=0))\n",
    "TE_male.columns =['Expected Rating']"
   ]
  },
  {
   "cell_type": "code",
   "execution_count": 27,
   "id": "7eae7c50",
   "metadata": {
    "colab": {
     "base_uri": "https://localhost:8080/",
     "height": 206
    },
    "executionInfo": {
     "elapsed": 316,
     "status": "ok",
     "timestamp": 1676664470347,
     "user": {
      "displayName": "Yang Xu",
      "userId": "12270366590264264299"
     },
     "user_tz": 300
    },
    "id": "4YBh4ljh_UNG",
    "outputId": "f54358c5-fe05-44fc-8693-f6a33ccf204e"
   },
   "outputs": [
    {
     "data": {
      "text/html": [
       "<div>\n",
       "<style scoped>\n",
       "    .dataframe tbody tr th:only-of-type {\n",
       "        vertical-align: middle;\n",
       "    }\n",
       "\n",
       "    .dataframe tbody tr th {\n",
       "        vertical-align: top;\n",
       "    }\n",
       "\n",
       "    .dataframe thead th {\n",
       "        text-align: right;\n",
       "    }\n",
       "</style>\n",
       "<table border=\"1\" class=\"dataframe\">\n",
       "  <thead>\n",
       "    <tr style=\"text-align: right;\">\n",
       "      <th></th>\n",
       "      <th>Expected Rating</th>\n",
       "    </tr>\n",
       "  </thead>\n",
       "  <tbody>\n",
       "    <tr>\n",
       "      <th>Comedy</th>\n",
       "      <td>3.365749</td>\n",
       "    </tr>\n",
       "    <tr>\n",
       "      <th>Drama</th>\n",
       "      <td>3.321332</td>\n",
       "    </tr>\n",
       "    <tr>\n",
       "      <th>Action</th>\n",
       "      <td>3.256846</td>\n",
       "    </tr>\n",
       "    <tr>\n",
       "      <th>Thriller</th>\n",
       "      <td>3.447365</td>\n",
       "    </tr>\n",
       "    <tr>\n",
       "      <th>Sci-Fi</th>\n",
       "      <td>2.960134</td>\n",
       "    </tr>\n",
       "  </tbody>\n",
       "</table>\n",
       "</div>"
      ],
      "text/plain": [
       "          Expected Rating\n",
       "Comedy           3.365749\n",
       "Drama            3.321332\n",
       "Action           3.256846\n",
       "Thriller         3.447365\n",
       "Sci-Fi           2.960134"
      ]
     },
     "execution_count": 27,
     "metadata": {},
     "output_type": "execute_result"
    }
   ],
   "source": [
    "TE_male"
   ]
  },
  {
   "cell_type": "code",
   "execution_count": null,
   "id": "8c5c4ced",
   "metadata": {
    "id": "-OwDCcYP_XiE"
   },
   "outputs": [],
   "source": []
  },
  {
   "cell_type": "markdown",
   "id": "ff203c46",
   "metadata": {
    "id": "S6_rREHz_i8r"
   },
   "source": [
    "### linear model fitting"
   ]
  },
  {
   "cell_type": "code",
   "execution_count": 28,
   "id": "8a0b53ec",
   "metadata": {
    "executionInfo": {
     "elapsed": 301,
     "status": "ok",
     "timestamp": 1676664659108,
     "user": {
      "displayName": "Yang Xu",
      "userId": "12270366590264264299"
     },
     "user_tz": 300
    },
    "id": "RTBk0DSMADT0"
   },
   "outputs": [],
   "source": [
    "models_CEL_linear = {}\n",
    " \n",
    "# initialize the models we'll fit in Causal Effect Learning\n",
    "for i in movie_generes:\n",
    "    models_CEL_linear[i] = None   "
   ]
  },
  {
   "cell_type": "code",
   "execution_count": 29,
   "id": "95bf1656",
   "metadata": {
    "executionInfo": {
     "elapsed": 3,
     "status": "ok",
     "timestamp": 1676664660555,
     "user": {
      "displayName": "Yang Xu",
      "userId": "12270366590264264299"
     },
     "user_tz": 300
    },
    "id": "5VAlbZ_P_nSJ"
   },
   "outputs": [],
   "source": [
    "from sklearn.linear_model import LinearRegression\n",
    "for movie_genere in movie_generes: \n",
    "    models_CEL_linear[movie_genere] = LinearRegression()\n",
    "    models_CEL_linear[movie_genere].fit(data_CEL_sample.iloc[np.where(data_CEL_sample[movie_genere]==1)[0],userinfo_index],data_CEL_sample.iloc[np.where(data_CEL_sample[movie_genere]==1)[0],2] )\n"
   ]
  },
  {
   "cell_type": "code",
   "execution_count": 31,
   "id": "7db36516",
   "metadata": {
    "colab": {
     "base_uri": "https://localhost:8080/"
    },
    "executionInfo": {
     "elapsed": 392,
     "status": "ok",
     "timestamp": 1676664667487,
     "user": {
      "displayName": "Yang Xu",
      "userId": "12270366590264264299"
     },
     "user_tz": 300
    },
    "id": "etk5uOW1_nSK",
    "outputId": "a52b506c-e386-4f75-917b-945bf1dc5b43"
   },
   "outputs": [],
   "source": [
    "#models_CEL_linear['Comedy'].predict(data_CEL_sample.iloc[np.where(data_CEL_sample['Comedy']==1)[0],userinfo_index])"
   ]
  },
  {
   "cell_type": "code",
   "execution_count": 32,
   "id": "6d4c8a6a",
   "metadata": {
    "colab": {
     "base_uri": "https://localhost:8080/"
    },
    "executionInfo": {
     "elapsed": 400,
     "status": "ok",
     "timestamp": 1676664692219,
     "user": {
      "displayName": "Yang Xu",
      "userId": "12270366590264264299"
     },
     "user_tz": 300
    },
    "id": "Ny60jTRW_nSN",
    "outputId": "91334c5e-44c1-4b0d-fc98-b466fe0f9264"
   },
   "outputs": [
    {
     "name": "stdout",
     "output_type": "stream",
     "text": [
      "[16 17 18 19 20 21 22 23 24 25 26 27 28 29 30 31 32 33 34 35 36 37 38 39\n",
      " 40 41 42 43 44 45 46 47 48 49 50 51 52 53 54 55 56]\n"
     ]
    }
   ],
   "source": [
    "# record thev estimated expected reward for each movie genere, under each possible combination of state variable\n",
    "age_range = np.linspace(min(data_CEL_sample['age']),max(data_CEL_sample['age']),int(max(data_CEL_sample['age'])-min(data_CEL_sample['age'])+1)).astype(int)\n",
    "print(age_range)"
   ]
  },
  {
   "cell_type": "code",
   "execution_count": 33,
   "id": "c32620a4",
   "metadata": {
    "executionInfo": {
     "elapsed": 300,
     "status": "ok",
     "timestamp": 1676664695417,
     "user": {
      "displayName": "Yang Xu",
      "userId": "12270366590264264299"
     },
     "user_tz": 300
    },
    "id": "gvpnxYTE_nSN"
   },
   "outputs": [],
   "source": [
    "import itertools\n",
    "\n",
    "gender = np.array([0,1])\n",
    "occupation_college = np.array([0,1])\n",
    "occupation_executive = np.array([0,1])\n",
    "occupation_other  = np.array([0,1])\n",
    "occupation_technician = np.array([0,1])\n",
    "\n",
    "# result contains all possible combinations.\n",
    "combinations = pd.DataFrame(itertools.product(age_range,gender,occupation_college,\n",
    "                                              occupation_executive,occupation_other,occupation_technician))"
   ]
  },
  {
   "cell_type": "code",
   "execution_count": 34,
   "id": "8c27d331",
   "metadata": {
    "colab": {
     "base_uri": "https://localhost:8080/",
     "height": 424
    },
    "executionInfo": {
     "elapsed": 360,
     "status": "ok",
     "timestamp": 1676664699538,
     "user": {
      "displayName": "Yang Xu",
      "userId": "12270366590264264299"
     },
     "user_tz": 300
    },
    "id": "k7uSL-Ra_nSO",
    "outputId": "25ed2a1d-1180-401e-e569-8fdce0e3ff9c"
   },
   "outputs": [
    {
     "data": {
      "text/html": [
       "<div>\n",
       "<style scoped>\n",
       "    .dataframe tbody tr th:only-of-type {\n",
       "        vertical-align: middle;\n",
       "    }\n",
       "\n",
       "    .dataframe tbody tr th {\n",
       "        vertical-align: top;\n",
       "    }\n",
       "\n",
       "    .dataframe thead th {\n",
       "        text-align: right;\n",
       "    }\n",
       "</style>\n",
       "<table border=\"1\" class=\"dataframe\">\n",
       "  <thead>\n",
       "    <tr style=\"text-align: right;\">\n",
       "      <th></th>\n",
       "      <th>age</th>\n",
       "      <th>gender</th>\n",
       "      <th>occupation_college</th>\n",
       "      <th>occupation_executive</th>\n",
       "      <th>occupation_other</th>\n",
       "      <th>occupation_technician</th>\n",
       "    </tr>\n",
       "  </thead>\n",
       "  <tbody>\n",
       "    <tr>\n",
       "      <th>0</th>\n",
       "      <td>16</td>\n",
       "      <td>0</td>\n",
       "      <td>0</td>\n",
       "      <td>0</td>\n",
       "      <td>0</td>\n",
       "      <td>0</td>\n",
       "    </tr>\n",
       "    <tr>\n",
       "      <th>1</th>\n",
       "      <td>16</td>\n",
       "      <td>0</td>\n",
       "      <td>0</td>\n",
       "      <td>0</td>\n",
       "      <td>0</td>\n",
       "      <td>1</td>\n",
       "    </tr>\n",
       "    <tr>\n",
       "      <th>2</th>\n",
       "      <td>16</td>\n",
       "      <td>0</td>\n",
       "      <td>0</td>\n",
       "      <td>0</td>\n",
       "      <td>1</td>\n",
       "      <td>0</td>\n",
       "    </tr>\n",
       "    <tr>\n",
       "      <th>3</th>\n",
       "      <td>16</td>\n",
       "      <td>0</td>\n",
       "      <td>0</td>\n",
       "      <td>0</td>\n",
       "      <td>1</td>\n",
       "      <td>1</td>\n",
       "    </tr>\n",
       "    <tr>\n",
       "      <th>4</th>\n",
       "      <td>16</td>\n",
       "      <td>0</td>\n",
       "      <td>0</td>\n",
       "      <td>1</td>\n",
       "      <td>0</td>\n",
       "      <td>0</td>\n",
       "    </tr>\n",
       "    <tr>\n",
       "      <th>...</th>\n",
       "      <td>...</td>\n",
       "      <td>...</td>\n",
       "      <td>...</td>\n",
       "      <td>...</td>\n",
       "      <td>...</td>\n",
       "      <td>...</td>\n",
       "    </tr>\n",
       "    <tr>\n",
       "      <th>1307</th>\n",
       "      <td>56</td>\n",
       "      <td>1</td>\n",
       "      <td>1</td>\n",
       "      <td>0</td>\n",
       "      <td>1</td>\n",
       "      <td>1</td>\n",
       "    </tr>\n",
       "    <tr>\n",
       "      <th>1308</th>\n",
       "      <td>56</td>\n",
       "      <td>1</td>\n",
       "      <td>1</td>\n",
       "      <td>1</td>\n",
       "      <td>0</td>\n",
       "      <td>0</td>\n",
       "    </tr>\n",
       "    <tr>\n",
       "      <th>1309</th>\n",
       "      <td>56</td>\n",
       "      <td>1</td>\n",
       "      <td>1</td>\n",
       "      <td>1</td>\n",
       "      <td>0</td>\n",
       "      <td>1</td>\n",
       "    </tr>\n",
       "    <tr>\n",
       "      <th>1310</th>\n",
       "      <td>56</td>\n",
       "      <td>1</td>\n",
       "      <td>1</td>\n",
       "      <td>1</td>\n",
       "      <td>1</td>\n",
       "      <td>0</td>\n",
       "    </tr>\n",
       "    <tr>\n",
       "      <th>1311</th>\n",
       "      <td>56</td>\n",
       "      <td>1</td>\n",
       "      <td>1</td>\n",
       "      <td>1</td>\n",
       "      <td>1</td>\n",
       "      <td>1</td>\n",
       "    </tr>\n",
       "  </tbody>\n",
       "</table>\n",
       "<p>1312 rows × 6 columns</p>\n",
       "</div>"
      ],
      "text/plain": [
       "      age  gender  occupation_college  occupation_executive  occupation_other  \\\n",
       "0      16       0                   0                     0                 0   \n",
       "1      16       0                   0                     0                 0   \n",
       "2      16       0                   0                     0                 1   \n",
       "3      16       0                   0                     0                 1   \n",
       "4      16       0                   0                     1                 0   \n",
       "...   ...     ...                 ...                   ...               ...   \n",
       "1307   56       1                   1                     0                 1   \n",
       "1308   56       1                   1                     1                 0   \n",
       "1309   56       1                   1                     1                 0   \n",
       "1310   56       1                   1                     1                 1   \n",
       "1311   56       1                   1                     1                 1   \n",
       "\n",
       "      occupation_technician  \n",
       "0                         0  \n",
       "1                         1  \n",
       "2                         0  \n",
       "3                         1  \n",
       "4                         0  \n",
       "...                     ...  \n",
       "1307                      1  \n",
       "1308                      0  \n",
       "1309                      1  \n",
       "1310                      0  \n",
       "1311                      1  \n",
       "\n",
       "[1312 rows x 6 columns]"
      ]
     },
     "execution_count": 34,
     "metadata": {},
     "output_type": "execute_result"
    }
   ],
   "source": [
    "combinations.columns =['age','gender','occupation_college', 'occupation_executive','occupation_other','occupation_technician']\n",
    "combinations"
   ]
  },
  {
   "cell_type": "code",
   "execution_count": 35,
   "id": "5d38fd08",
   "metadata": {
    "colab": {
     "base_uri": "https://localhost:8080/"
    },
    "executionInfo": {
     "elapsed": 428,
     "status": "ok",
     "timestamp": 1676664715886,
     "user": {
      "displayName": "Yang Xu",
      "userId": "12270366590264264299"
     },
     "user_tz": 300
    },
    "id": "ZY9IE6Wt_nSR",
    "outputId": "b5d43244-a65c-4e69-8369-c91a26f42e7f"
   },
   "outputs": [
    {
     "name": "stdout",
     "output_type": "stream",
     "text": [
      "[[3.3232 3.3258 3.5782 ... 3.4468 3.6992 3.7018]\n",
      " [0.     0.     0.     ... 0.     0.     0.    ]\n",
      " [0.     0.     0.     ... 0.     0.     0.    ]\n",
      " [0.     0.     0.     ... 0.     0.     0.    ]\n",
      " [0.     0.     0.     ... 0.     0.     0.    ]]\n",
      "[[3.3232 3.3258 3.5782 ... 3.4468 3.6992 3.7018]\n",
      " [3.4536 3.0989 3.6662 ... 3.1601 3.7274 3.3727]\n",
      " [0.     0.     0.     ... 0.     0.     0.    ]\n",
      " [0.     0.     0.     ... 0.     0.     0.    ]\n",
      " [0.     0.     0.     ... 0.     0.     0.    ]]\n",
      "[[3.3232 3.3258 3.5782 ... 3.4468 3.6992 3.7018]\n",
      " [3.4536 3.0989 3.6662 ... 3.1601 3.7274 3.3727]\n",
      " [3.6922 3.6282 3.4642 ... 2.891  2.7271 2.6631]\n",
      " [0.     0.     0.     ... 0.     0.     0.    ]\n",
      " [0.     0.     0.     ... 0.     0.     0.    ]]\n",
      "[[3.3232 3.3258 3.5782 ... 3.4468 3.6992 3.7018]\n",
      " [3.4536 3.0989 3.6662 ... 3.1601 3.7274 3.3727]\n",
      " [3.6922 3.6282 3.4642 ... 2.891  2.7271 2.6631]\n",
      " [3.4829 3.1457 3.3927 ... 3.3556 3.6026 3.2654]\n",
      " [0.     0.     0.     ... 0.     0.     0.    ]]\n",
      "[[3.3232 3.3258 3.5782 ... 3.4468 3.6992 3.7018]\n",
      " [3.4536 3.0989 3.6662 ... 3.1601 3.7274 3.3727]\n",
      " [3.6922 3.6282 3.4642 ... 2.891  2.7271 2.6631]\n",
      " [3.4829 3.1457 3.3927 ... 3.3556 3.6026 3.2654]\n",
      " [3.3577 3.8868 3.6916 ... 2.3483 2.1532 2.6823]]\n"
     ]
    }
   ],
   "source": [
    "values = np.zeros((5,1312))\n",
    "i=0\n",
    "for movie_genere in movie_generes:\n",
    "    values[i,:] = models_CEL_linear[movie_genere].predict(combinations)\n",
    "    i=i+1\n",
    "    print(values)"
   ]
  },
  {
   "cell_type": "code",
   "execution_count": 36,
   "id": "8195a7b7",
   "metadata": {
    "executionInfo": {
     "elapsed": 463,
     "status": "ok",
     "timestamp": 1676664728008,
     "user": {
      "displayName": "Yang Xu",
      "userId": "12270366590264264299"
     },
     "user_tz": 300
    },
    "id": "PS7DNCGp_nSR"
   },
   "outputs": [],
   "source": [
    "result_CEL_linear = combinations\n",
    "i=0\n",
    "for movie_genere in movie_generes:\n",
    "    #values = models_CEL[movie_genere].predict(combinations)\n",
    "    result_CEL_linear.insert(len(result_CEL_linear.columns), movie_genere, values[i,:])\n",
    "    i=i+1"
   ]
  },
  {
   "cell_type": "code",
   "execution_count": 37,
   "id": "4ae5cde0",
   "metadata": {
    "colab": {
     "base_uri": "https://localhost:8080/",
     "height": 488
    },
    "executionInfo": {
     "elapsed": 334,
     "status": "ok",
     "timestamp": 1676664736035,
     "user": {
      "displayName": "Yang Xu",
      "userId": "12270366590264264299"
     },
     "user_tz": 300
    },
    "id": "4Fw5vhq6_nSS",
    "outputId": "2b3af613-8038-4ed0-fb58-14ae632b5728"
   },
   "outputs": [
    {
     "data": {
      "text/html": [
       "<div>\n",
       "<style scoped>\n",
       "    .dataframe tbody tr th:only-of-type {\n",
       "        vertical-align: middle;\n",
       "    }\n",
       "\n",
       "    .dataframe tbody tr th {\n",
       "        vertical-align: top;\n",
       "    }\n",
       "\n",
       "    .dataframe thead th {\n",
       "        text-align: right;\n",
       "    }\n",
       "</style>\n",
       "<table border=\"1\" class=\"dataframe\">\n",
       "  <thead>\n",
       "    <tr style=\"text-align: right;\">\n",
       "      <th></th>\n",
       "      <th>age</th>\n",
       "      <th>gender</th>\n",
       "      <th>occupation_college</th>\n",
       "      <th>occupation_executive</th>\n",
       "      <th>occupation_other</th>\n",
       "      <th>occupation_technician</th>\n",
       "      <th>Comedy</th>\n",
       "      <th>Drama</th>\n",
       "      <th>Action</th>\n",
       "      <th>Thriller</th>\n",
       "      <th>Sci-Fi</th>\n",
       "    </tr>\n",
       "  </thead>\n",
       "  <tbody>\n",
       "    <tr>\n",
       "      <th>0</th>\n",
       "      <td>16</td>\n",
       "      <td>0</td>\n",
       "      <td>0</td>\n",
       "      <td>0</td>\n",
       "      <td>0</td>\n",
       "      <td>0</td>\n",
       "      <td>3.323169</td>\n",
       "      <td>3.453650</td>\n",
       "      <td>3.692167</td>\n",
       "      <td>3.482883</td>\n",
       "      <td>3.357668</td>\n",
       "    </tr>\n",
       "    <tr>\n",
       "      <th>1</th>\n",
       "      <td>16</td>\n",
       "      <td>0</td>\n",
       "      <td>0</td>\n",
       "      <td>0</td>\n",
       "      <td>0</td>\n",
       "      <td>1</td>\n",
       "      <td>3.325782</td>\n",
       "      <td>3.098945</td>\n",
       "      <td>3.628177</td>\n",
       "      <td>3.145705</td>\n",
       "      <td>3.886814</td>\n",
       "    </tr>\n",
       "    <tr>\n",
       "      <th>2</th>\n",
       "      <td>16</td>\n",
       "      <td>0</td>\n",
       "      <td>0</td>\n",
       "      <td>0</td>\n",
       "      <td>1</td>\n",
       "      <td>0</td>\n",
       "      <td>3.578237</td>\n",
       "      <td>3.666234</td>\n",
       "      <td>3.464250</td>\n",
       "      <td>3.392727</td>\n",
       "      <td>3.691633</td>\n",
       "    </tr>\n",
       "    <tr>\n",
       "      <th>3</th>\n",
       "      <td>16</td>\n",
       "      <td>0</td>\n",
       "      <td>0</td>\n",
       "      <td>0</td>\n",
       "      <td>1</td>\n",
       "      <td>1</td>\n",
       "      <td>3.580850</td>\n",
       "      <td>3.311529</td>\n",
       "      <td>3.400261</td>\n",
       "      <td>3.055549</td>\n",
       "      <td>4.220779</td>\n",
       "    </tr>\n",
       "    <tr>\n",
       "      <th>4</th>\n",
       "      <td>16</td>\n",
       "      <td>0</td>\n",
       "      <td>0</td>\n",
       "      <td>1</td>\n",
       "      <td>0</td>\n",
       "      <td>0</td>\n",
       "      <td>3.530090</td>\n",
       "      <td>3.566701</td>\n",
       "      <td>3.455929</td>\n",
       "      <td>3.741310</td>\n",
       "      <td>3.570002</td>\n",
       "    </tr>\n",
       "    <tr>\n",
       "      <th>...</th>\n",
       "      <td>...</td>\n",
       "      <td>...</td>\n",
       "      <td>...</td>\n",
       "      <td>...</td>\n",
       "      <td>...</td>\n",
       "      <td>...</td>\n",
       "      <td>...</td>\n",
       "      <td>...</td>\n",
       "      <td>...</td>\n",
       "      <td>...</td>\n",
       "      <td>...</td>\n",
       "    </tr>\n",
       "    <tr>\n",
       "      <th>1307</th>\n",
       "      <td>56</td>\n",
       "      <td>1</td>\n",
       "      <td>1</td>\n",
       "      <td>0</td>\n",
       "      <td>1</td>\n",
       "      <td>1</td>\n",
       "      <td>3.494923</td>\n",
       "      <td>3.259652</td>\n",
       "      <td>2.899359</td>\n",
       "      <td>3.006980</td>\n",
       "      <td>2.469963</td>\n",
       "    </tr>\n",
       "    <tr>\n",
       "      <th>1308</th>\n",
       "      <td>56</td>\n",
       "      <td>1</td>\n",
       "      <td>1</td>\n",
       "      <td>1</td>\n",
       "      <td>0</td>\n",
       "      <td>0</td>\n",
       "      <td>3.444164</td>\n",
       "      <td>3.514824</td>\n",
       "      <td>2.955027</td>\n",
       "      <td>3.692742</td>\n",
       "      <td>1.819186</td>\n",
       "    </tr>\n",
       "    <tr>\n",
       "      <th>1309</th>\n",
       "      <td>56</td>\n",
       "      <td>1</td>\n",
       "      <td>1</td>\n",
       "      <td>1</td>\n",
       "      <td>0</td>\n",
       "      <td>1</td>\n",
       "      <td>3.446776</td>\n",
       "      <td>3.160120</td>\n",
       "      <td>2.891038</td>\n",
       "      <td>3.355564</td>\n",
       "      <td>2.348332</td>\n",
       "    </tr>\n",
       "    <tr>\n",
       "      <th>1310</th>\n",
       "      <td>56</td>\n",
       "      <td>1</td>\n",
       "      <td>1</td>\n",
       "      <td>1</td>\n",
       "      <td>1</td>\n",
       "      <td>0</td>\n",
       "      <td>3.699231</td>\n",
       "      <td>3.727408</td>\n",
       "      <td>2.727111</td>\n",
       "      <td>3.602585</td>\n",
       "      <td>2.153151</td>\n",
       "    </tr>\n",
       "    <tr>\n",
       "      <th>1311</th>\n",
       "      <td>56</td>\n",
       "      <td>1</td>\n",
       "      <td>1</td>\n",
       "      <td>1</td>\n",
       "      <td>1</td>\n",
       "      <td>1</td>\n",
       "      <td>3.701844</td>\n",
       "      <td>3.372704</td>\n",
       "      <td>2.663122</td>\n",
       "      <td>3.265407</td>\n",
       "      <td>2.682297</td>\n",
       "    </tr>\n",
       "  </tbody>\n",
       "</table>\n",
       "<p>1312 rows × 11 columns</p>\n",
       "</div>"
      ],
      "text/plain": [
       "      age  gender  occupation_college  occupation_executive  occupation_other  \\\n",
       "0      16       0                   0                     0                 0   \n",
       "1      16       0                   0                     0                 0   \n",
       "2      16       0                   0                     0                 1   \n",
       "3      16       0                   0                     0                 1   \n",
       "4      16       0                   0                     1                 0   \n",
       "...   ...     ...                 ...                   ...               ...   \n",
       "1307   56       1                   1                     0                 1   \n",
       "1308   56       1                   1                     1                 0   \n",
       "1309   56       1                   1                     1                 0   \n",
       "1310   56       1                   1                     1                 1   \n",
       "1311   56       1                   1                     1                 1   \n",
       "\n",
       "      occupation_technician    Comedy     Drama    Action  Thriller    Sci-Fi  \n",
       "0                         0  3.323169  3.453650  3.692167  3.482883  3.357668  \n",
       "1                         1  3.325782  3.098945  3.628177  3.145705  3.886814  \n",
       "2                         0  3.578237  3.666234  3.464250  3.392727  3.691633  \n",
       "3                         1  3.580850  3.311529  3.400261  3.055549  4.220779  \n",
       "4                         0  3.530090  3.566701  3.455929  3.741310  3.570002  \n",
       "...                     ...       ...       ...       ...       ...       ...  \n",
       "1307                      1  3.494923  3.259652  2.899359  3.006980  2.469963  \n",
       "1308                      0  3.444164  3.514824  2.955027  3.692742  1.819186  \n",
       "1309                      1  3.446776  3.160120  2.891038  3.355564  2.348332  \n",
       "1310                      0  3.699231  3.727408  2.727111  3.602585  2.153151  \n",
       "1311                      1  3.701844  3.372704  2.663122  3.265407  2.682297  \n",
       "\n",
       "[1312 rows x 11 columns]"
      ]
     },
     "execution_count": 37,
     "metadata": {},
     "output_type": "execute_result"
    }
   ],
   "source": [
    "result_CEL_linear"
   ]
  },
  {
   "cell_type": "code",
   "execution_count": null,
   "id": "39b41b0a",
   "metadata": {
    "id": "Fn1OrpHG_nSS"
   },
   "outputs": [],
   "source": []
  },
  {
   "cell_type": "code",
   "execution_count": 38,
   "id": "05449c57",
   "metadata": {
    "executionInfo": {
     "elapsed": 290,
     "status": "ok",
     "timestamp": 1676664747841,
     "user": {
      "displayName": "Yang Xu",
      "userId": "12270366590264264299"
     },
     "user_tz": 300
    },
    "id": "da-uqtdb_nSS"
   },
   "outputs": [],
   "source": [
    "result_CEL_linear.to_csv('/Users/alinaxu/Documents/CDM/Causal-Decision-Making/5_Case_Study/MovieLens/result_CEL_linear.csv')"
   ]
  },
  {
   "cell_type": "code",
   "execution_count": 39,
   "id": "32713df8",
   "metadata": {
    "colab": {
     "base_uri": "https://localhost:8080/",
     "height": 488
    },
    "executionInfo": {
     "elapsed": 297,
     "status": "ok",
     "timestamp": 1676664757858,
     "user": {
      "displayName": "Yang Xu",
      "userId": "12270366590264264299"
     },
     "user_tz": 300
    },
    "id": "-geZLYVv_nSS",
    "outputId": "e17fd598-6f3e-451d-ab1d-f6a8fda18572"
   },
   "outputs": [
    {
     "data": {
      "text/html": [
       "<div>\n",
       "<style scoped>\n",
       "    .dataframe tbody tr th:only-of-type {\n",
       "        vertical-align: middle;\n",
       "    }\n",
       "\n",
       "    .dataframe tbody tr th {\n",
       "        vertical-align: top;\n",
       "    }\n",
       "\n",
       "    .dataframe thead th {\n",
       "        text-align: right;\n",
       "    }\n",
       "</style>\n",
       "<table border=\"1\" class=\"dataframe\">\n",
       "  <thead>\n",
       "    <tr style=\"text-align: right;\">\n",
       "      <th></th>\n",
       "      <th>age</th>\n",
       "      <th>gender</th>\n",
       "      <th>occupation_college</th>\n",
       "      <th>occupation_executive</th>\n",
       "      <th>occupation_other</th>\n",
       "      <th>occupation_technician</th>\n",
       "      <th>Comedy</th>\n",
       "      <th>Drama</th>\n",
       "      <th>Action</th>\n",
       "      <th>Thriller</th>\n",
       "      <th>Sci-Fi</th>\n",
       "    </tr>\n",
       "  </thead>\n",
       "  <tbody>\n",
       "    <tr>\n",
       "      <th>0</th>\n",
       "      <td>16</td>\n",
       "      <td>0</td>\n",
       "      <td>0</td>\n",
       "      <td>0</td>\n",
       "      <td>0</td>\n",
       "      <td>0</td>\n",
       "      <td>3.323169</td>\n",
       "      <td>3.453650</td>\n",
       "      <td>3.692167</td>\n",
       "      <td>3.482883</td>\n",
       "      <td>3.357668</td>\n",
       "    </tr>\n",
       "    <tr>\n",
       "      <th>1</th>\n",
       "      <td>16</td>\n",
       "      <td>0</td>\n",
       "      <td>0</td>\n",
       "      <td>0</td>\n",
       "      <td>0</td>\n",
       "      <td>1</td>\n",
       "      <td>3.325782</td>\n",
       "      <td>3.098945</td>\n",
       "      <td>3.628177</td>\n",
       "      <td>3.145705</td>\n",
       "      <td>3.886814</td>\n",
       "    </tr>\n",
       "    <tr>\n",
       "      <th>2</th>\n",
       "      <td>16</td>\n",
       "      <td>0</td>\n",
       "      <td>0</td>\n",
       "      <td>0</td>\n",
       "      <td>1</td>\n",
       "      <td>0</td>\n",
       "      <td>3.578237</td>\n",
       "      <td>3.666234</td>\n",
       "      <td>3.464250</td>\n",
       "      <td>3.392727</td>\n",
       "      <td>3.691633</td>\n",
       "    </tr>\n",
       "    <tr>\n",
       "      <th>3</th>\n",
       "      <td>16</td>\n",
       "      <td>0</td>\n",
       "      <td>0</td>\n",
       "      <td>0</td>\n",
       "      <td>1</td>\n",
       "      <td>1</td>\n",
       "      <td>3.580850</td>\n",
       "      <td>3.311529</td>\n",
       "      <td>3.400261</td>\n",
       "      <td>3.055549</td>\n",
       "      <td>4.220779</td>\n",
       "    </tr>\n",
       "    <tr>\n",
       "      <th>4</th>\n",
       "      <td>16</td>\n",
       "      <td>0</td>\n",
       "      <td>0</td>\n",
       "      <td>1</td>\n",
       "      <td>0</td>\n",
       "      <td>0</td>\n",
       "      <td>3.530090</td>\n",
       "      <td>3.566701</td>\n",
       "      <td>3.455929</td>\n",
       "      <td>3.741310</td>\n",
       "      <td>3.570002</td>\n",
       "    </tr>\n",
       "    <tr>\n",
       "      <th>...</th>\n",
       "      <td>...</td>\n",
       "      <td>...</td>\n",
       "      <td>...</td>\n",
       "      <td>...</td>\n",
       "      <td>...</td>\n",
       "      <td>...</td>\n",
       "      <td>...</td>\n",
       "      <td>...</td>\n",
       "      <td>...</td>\n",
       "      <td>...</td>\n",
       "      <td>...</td>\n",
       "    </tr>\n",
       "    <tr>\n",
       "      <th>1307</th>\n",
       "      <td>56</td>\n",
       "      <td>1</td>\n",
       "      <td>1</td>\n",
       "      <td>0</td>\n",
       "      <td>1</td>\n",
       "      <td>1</td>\n",
       "      <td>3.494923</td>\n",
       "      <td>3.259652</td>\n",
       "      <td>2.899359</td>\n",
       "      <td>3.006980</td>\n",
       "      <td>2.469963</td>\n",
       "    </tr>\n",
       "    <tr>\n",
       "      <th>1308</th>\n",
       "      <td>56</td>\n",
       "      <td>1</td>\n",
       "      <td>1</td>\n",
       "      <td>1</td>\n",
       "      <td>0</td>\n",
       "      <td>0</td>\n",
       "      <td>3.444164</td>\n",
       "      <td>3.514824</td>\n",
       "      <td>2.955027</td>\n",
       "      <td>3.692742</td>\n",
       "      <td>1.819186</td>\n",
       "    </tr>\n",
       "    <tr>\n",
       "      <th>1309</th>\n",
       "      <td>56</td>\n",
       "      <td>1</td>\n",
       "      <td>1</td>\n",
       "      <td>1</td>\n",
       "      <td>0</td>\n",
       "      <td>1</td>\n",
       "      <td>3.446776</td>\n",
       "      <td>3.160120</td>\n",
       "      <td>2.891038</td>\n",
       "      <td>3.355564</td>\n",
       "      <td>2.348332</td>\n",
       "    </tr>\n",
       "    <tr>\n",
       "      <th>1310</th>\n",
       "      <td>56</td>\n",
       "      <td>1</td>\n",
       "      <td>1</td>\n",
       "      <td>1</td>\n",
       "      <td>1</td>\n",
       "      <td>0</td>\n",
       "      <td>3.699231</td>\n",
       "      <td>3.727408</td>\n",
       "      <td>2.727111</td>\n",
       "      <td>3.602585</td>\n",
       "      <td>2.153151</td>\n",
       "    </tr>\n",
       "    <tr>\n",
       "      <th>1311</th>\n",
       "      <td>56</td>\n",
       "      <td>1</td>\n",
       "      <td>1</td>\n",
       "      <td>1</td>\n",
       "      <td>1</td>\n",
       "      <td>1</td>\n",
       "      <td>3.701844</td>\n",
       "      <td>3.372704</td>\n",
       "      <td>2.663122</td>\n",
       "      <td>3.265407</td>\n",
       "      <td>2.682297</td>\n",
       "    </tr>\n",
       "  </tbody>\n",
       "</table>\n",
       "<p>1312 rows × 11 columns</p>\n",
       "</div>"
      ],
      "text/plain": [
       "      age  gender  occupation_college  occupation_executive  occupation_other  \\\n",
       "0      16       0                   0                     0                 0   \n",
       "1      16       0                   0                     0                 0   \n",
       "2      16       0                   0                     0                 1   \n",
       "3      16       0                   0                     0                 1   \n",
       "4      16       0                   0                     1                 0   \n",
       "...   ...     ...                 ...                   ...               ...   \n",
       "1307   56       1                   1                     0                 1   \n",
       "1308   56       1                   1                     1                 0   \n",
       "1309   56       1                   1                     1                 0   \n",
       "1310   56       1                   1                     1                 1   \n",
       "1311   56       1                   1                     1                 1   \n",
       "\n",
       "      occupation_technician    Comedy     Drama    Action  Thriller    Sci-Fi  \n",
       "0                         0  3.323169  3.453650  3.692167  3.482883  3.357668  \n",
       "1                         1  3.325782  3.098945  3.628177  3.145705  3.886814  \n",
       "2                         0  3.578237  3.666234  3.464250  3.392727  3.691633  \n",
       "3                         1  3.580850  3.311529  3.400261  3.055549  4.220779  \n",
       "4                         0  3.530090  3.566701  3.455929  3.741310  3.570002  \n",
       "...                     ...       ...       ...       ...       ...       ...  \n",
       "1307                      1  3.494923  3.259652  2.899359  3.006980  2.469963  \n",
       "1308                      0  3.444164  3.514824  2.955027  3.692742  1.819186  \n",
       "1309                      1  3.446776  3.160120  2.891038  3.355564  2.348332  \n",
       "1310                      0  3.699231  3.727408  2.727111  3.602585  2.153151  \n",
       "1311                      1  3.701844  3.372704  2.663122  3.265407  2.682297  \n",
       "\n",
       "[1312 rows x 11 columns]"
      ]
     },
     "execution_count": 39,
     "metadata": {},
     "output_type": "execute_result"
    }
   ],
   "source": [
    "# read the result file\n",
    "result_CEL_linear = pd.read_csv('/Users/alinaxu/Documents/CDM/Causal-Decision-Making/5_Case_Study/MovieLens/result_CEL_linear.csv')\n",
    "result_CEL_linear = result_CEL_linear.drop(result_CEL_linear.columns[0], axis=1)\n",
    "result_CEL_linear"
   ]
  },
  {
   "cell_type": "markdown",
   "id": "8f1058a4",
   "metadata": {
    "id": "gBUDJ7pF_nST"
   },
   "source": [
    "#### Analysis"
   ]
  },
  {
   "cell_type": "code",
   "execution_count": 40,
   "id": "b9bae6e9",
   "metadata": {
    "colab": {
     "base_uri": "https://localhost:8080/",
     "height": 424
    },
    "executionInfo": {
     "elapsed": 375,
     "status": "ok",
     "timestamp": 1676664772758,
     "user": {
      "displayName": "Yang Xu",
      "userId": "12270366590264264299"
     },
     "user_tz": 300
    },
    "id": "j558DqlZ_nSU",
    "outputId": "ef62a61b-9fac-491f-d899-2815653548a4"
   },
   "outputs": [
    {
     "data": {
      "text/html": [
       "<div>\n",
       "<style scoped>\n",
       "    .dataframe tbody tr th:only-of-type {\n",
       "        vertical-align: middle;\n",
       "    }\n",
       "\n",
       "    .dataframe tbody tr th {\n",
       "        vertical-align: top;\n",
       "    }\n",
       "\n",
       "    .dataframe thead th {\n",
       "        text-align: right;\n",
       "    }\n",
       "</style>\n",
       "<table border=\"1\" class=\"dataframe\">\n",
       "  <thead>\n",
       "    <tr style=\"text-align: right;\">\n",
       "      <th></th>\n",
       "      <th>Comedy</th>\n",
       "      <th>Drama</th>\n",
       "      <th>Action</th>\n",
       "      <th>Thriller</th>\n",
       "      <th>Sci-Fi</th>\n",
       "    </tr>\n",
       "  </thead>\n",
       "  <tbody>\n",
       "    <tr>\n",
       "      <th>0</th>\n",
       "      <td>3.323169</td>\n",
       "      <td>3.453650</td>\n",
       "      <td>3.692167</td>\n",
       "      <td>3.482883</td>\n",
       "      <td>3.357668</td>\n",
       "    </tr>\n",
       "    <tr>\n",
       "      <th>1</th>\n",
       "      <td>3.325782</td>\n",
       "      <td>3.098945</td>\n",
       "      <td>3.628177</td>\n",
       "      <td>3.145705</td>\n",
       "      <td>3.886814</td>\n",
       "    </tr>\n",
       "    <tr>\n",
       "      <th>2</th>\n",
       "      <td>3.578237</td>\n",
       "      <td>3.666234</td>\n",
       "      <td>3.464250</td>\n",
       "      <td>3.392727</td>\n",
       "      <td>3.691633</td>\n",
       "    </tr>\n",
       "    <tr>\n",
       "      <th>3</th>\n",
       "      <td>3.580850</td>\n",
       "      <td>3.311529</td>\n",
       "      <td>3.400261</td>\n",
       "      <td>3.055549</td>\n",
       "      <td>4.220779</td>\n",
       "    </tr>\n",
       "    <tr>\n",
       "      <th>4</th>\n",
       "      <td>3.530090</td>\n",
       "      <td>3.566701</td>\n",
       "      <td>3.455929</td>\n",
       "      <td>3.741310</td>\n",
       "      <td>3.570002</td>\n",
       "    </tr>\n",
       "    <tr>\n",
       "      <th>...</th>\n",
       "      <td>...</td>\n",
       "      <td>...</td>\n",
       "      <td>...</td>\n",
       "      <td>...</td>\n",
       "      <td>...</td>\n",
       "    </tr>\n",
       "    <tr>\n",
       "      <th>1291</th>\n",
       "      <td>3.629759</td>\n",
       "      <td>3.238649</td>\n",
       "      <td>3.108269</td>\n",
       "      <td>3.282668</td>\n",
       "      <td>2.594396</td>\n",
       "    </tr>\n",
       "    <tr>\n",
       "      <th>1292</th>\n",
       "      <td>3.578999</td>\n",
       "      <td>3.493821</td>\n",
       "      <td>3.163938</td>\n",
       "      <td>3.968430</td>\n",
       "      <td>1.943619</td>\n",
       "    </tr>\n",
       "    <tr>\n",
       "      <th>1293</th>\n",
       "      <td>3.581612</td>\n",
       "      <td>3.139116</td>\n",
       "      <td>3.099948</td>\n",
       "      <td>3.631252</td>\n",
       "      <td>2.472765</td>\n",
       "    </tr>\n",
       "    <tr>\n",
       "      <th>1294</th>\n",
       "      <td>3.834067</td>\n",
       "      <td>3.706405</td>\n",
       "      <td>2.936021</td>\n",
       "      <td>3.878273</td>\n",
       "      <td>2.277584</td>\n",
       "    </tr>\n",
       "    <tr>\n",
       "      <th>1295</th>\n",
       "      <td>3.836679</td>\n",
       "      <td>3.351700</td>\n",
       "      <td>2.872032</td>\n",
       "      <td>3.541095</td>\n",
       "      <td>2.806730</td>\n",
       "    </tr>\n",
       "  </tbody>\n",
       "</table>\n",
       "<p>656 rows × 5 columns</p>\n",
       "</div>"
      ],
      "text/plain": [
       "        Comedy     Drama    Action  Thriller    Sci-Fi\n",
       "0     3.323169  3.453650  3.692167  3.482883  3.357668\n",
       "1     3.325782  3.098945  3.628177  3.145705  3.886814\n",
       "2     3.578237  3.666234  3.464250  3.392727  3.691633\n",
       "3     3.580850  3.311529  3.400261  3.055549  4.220779\n",
       "4     3.530090  3.566701  3.455929  3.741310  3.570002\n",
       "...        ...       ...       ...       ...       ...\n",
       "1291  3.629759  3.238649  3.108269  3.282668  2.594396\n",
       "1292  3.578999  3.493821  3.163938  3.968430  1.943619\n",
       "1293  3.581612  3.139116  3.099948  3.631252  2.472765\n",
       "1294  3.834067  3.706405  2.936021  3.878273  2.277584\n",
       "1295  3.836679  3.351700  2.872032  3.541095  2.806730\n",
       "\n",
       "[656 rows x 5 columns]"
      ]
     },
     "execution_count": 40,
     "metadata": {},
     "output_type": "execute_result"
    }
   ],
   "source": [
    "result_CEL_linear.iloc[np.where(result_CEL_linear['gender']==0)[0],6:11]"
   ]
  },
  {
   "cell_type": "code",
   "execution_count": 41,
   "id": "44dffb75",
   "metadata": {
    "executionInfo": {
     "elapsed": 367,
     "status": "ok",
     "timestamp": 1676664791192,
     "user": {
      "displayName": "Yang Xu",
      "userId": "12270366590264264299"
     },
     "user_tz": 300
    },
    "id": "vaCTRmcg_nSU"
   },
   "outputs": [],
   "source": [
    "# calculate the expected reward of Comedy for female\n",
    "TE_female_linear=result_CEL_linear.iloc[np.where(result_CEL_linear['gender']==0)[0],6:11]/(41*(2**4))\n",
    "TE_female_linear=pd.DataFrame(TE_female_linear.sum(axis=0))\n",
    "TE_female_linear.columns =['Expected Rating']"
   ]
  },
  {
   "cell_type": "code",
   "execution_count": 42,
   "id": "6f1bc168",
   "metadata": {
    "colab": {
     "base_uri": "https://localhost:8080/",
     "height": 206
    },
    "executionInfo": {
     "elapsed": 292,
     "status": "ok",
     "timestamp": 1676664794563,
     "user": {
      "displayName": "Yang Xu",
      "userId": "12270366590264264299"
     },
     "user_tz": 300
    },
    "id": "GeRnCtDm_nSU",
    "outputId": "192e750a-4732-4342-ea20-ac0d39c4dea2"
   },
   "outputs": [
    {
     "data": {
      "text/html": [
       "<div>\n",
       "<style scoped>\n",
       "    .dataframe tbody tr th:only-of-type {\n",
       "        vertical-align: middle;\n",
       "    }\n",
       "\n",
       "    .dataframe tbody tr th {\n",
       "        vertical-align: top;\n",
       "    }\n",
       "\n",
       "    .dataframe thead th {\n",
       "        text-align: right;\n",
       "    }\n",
       "</style>\n",
       "<table border=\"1\" class=\"dataframe\">\n",
       "  <thead>\n",
       "    <tr style=\"text-align: right;\">\n",
       "      <th></th>\n",
       "      <th>Expected Rating</th>\n",
       "    </tr>\n",
       "  </thead>\n",
       "  <tbody>\n",
       "    <tr>\n",
       "      <th>Comedy</th>\n",
       "      <td>3.579924</td>\n",
       "    </tr>\n",
       "    <tr>\n",
       "      <th>Drama</th>\n",
       "      <td>3.402675</td>\n",
       "    </tr>\n",
       "    <tr>\n",
       "      <th>Action</th>\n",
       "      <td>3.282099</td>\n",
       "    </tr>\n",
       "    <tr>\n",
       "      <th>Thriller</th>\n",
       "      <td>3.511989</td>\n",
       "    </tr>\n",
       "    <tr>\n",
       "      <th>Sci-Fi</th>\n",
       "      <td>3.082199</td>\n",
       "    </tr>\n",
       "  </tbody>\n",
       "</table>\n",
       "</div>"
      ],
      "text/plain": [
       "          Expected Rating\n",
       "Comedy           3.579924\n",
       "Drama            3.402675\n",
       "Action           3.282099\n",
       "Thriller         3.511989\n",
       "Sci-Fi           3.082199"
      ]
     },
     "execution_count": 42,
     "metadata": {},
     "output_type": "execute_result"
    }
   ],
   "source": [
    "TE_female_linear"
   ]
  },
  {
   "cell_type": "code",
   "execution_count": 43,
   "id": "46297093",
   "metadata": {
    "executionInfo": {
     "elapsed": 305,
     "status": "ok",
     "timestamp": 1676664826089,
     "user": {
      "displayName": "Yang Xu",
      "userId": "12270366590264264299"
     },
     "user_tz": 300
    },
    "id": "WXe5ahtO_nSV"
   },
   "outputs": [],
   "source": [
    "# calculate the expected reward of Comedy for female\n",
    "TE_male_linear=result_CEL_linear.iloc[np.where(result_CEL_linear['gender']==1)[0],6:11]/(41*(2**4))\n",
    "TE_male_linear=pd.DataFrame(TE_male_linear.sum(axis=0))\n",
    "TE_male_linear.columns =['Expected Rating']"
   ]
  },
  {
   "cell_type": "code",
   "execution_count": 44,
   "id": "8e59b318",
   "metadata": {
    "colab": {
     "base_uri": "https://localhost:8080/",
     "height": 206
    },
    "executionInfo": {
     "elapsed": 13,
     "status": "ok",
     "timestamp": 1676664826612,
     "user": {
      "displayName": "Yang Xu",
      "userId": "12270366590264264299"
     },
     "user_tz": 300
    },
    "id": "d3cpJ3hG_nSV",
    "outputId": "30c5dd64-f5e2-4a70-e2ed-17bb8a987c68"
   },
   "outputs": [
    {
     "data": {
      "text/html": [
       "<div>\n",
       "<style scoped>\n",
       "    .dataframe tbody tr th:only-of-type {\n",
       "        vertical-align: middle;\n",
       "    }\n",
       "\n",
       "    .dataframe tbody tr th {\n",
       "        vertical-align: top;\n",
       "    }\n",
       "\n",
       "    .dataframe thead th {\n",
       "        text-align: right;\n",
       "    }\n",
       "</style>\n",
       "<table border=\"1\" class=\"dataframe\">\n",
       "  <thead>\n",
       "    <tr style=\"text-align: right;\">\n",
       "      <th></th>\n",
       "      <th>Expected Rating</th>\n",
       "    </tr>\n",
       "  </thead>\n",
       "  <tbody>\n",
       "    <tr>\n",
       "      <th>Comedy</th>\n",
       "      <td>3.445089</td>\n",
       "    </tr>\n",
       "    <tr>\n",
       "      <th>Drama</th>\n",
       "      <td>3.423679</td>\n",
       "    </tr>\n",
       "    <tr>\n",
       "      <th>Action</th>\n",
       "      <td>3.073189</td>\n",
       "    </tr>\n",
       "    <tr>\n",
       "      <th>Thriller</th>\n",
       "      <td>3.236301</td>\n",
       "    </tr>\n",
       "    <tr>\n",
       "      <th>Sci-Fi</th>\n",
       "      <td>2.957766</td>\n",
       "    </tr>\n",
       "  </tbody>\n",
       "</table>\n",
       "</div>"
      ],
      "text/plain": [
       "          Expected Rating\n",
       "Comedy           3.445089\n",
       "Drama            3.423679\n",
       "Action           3.073189\n",
       "Thriller         3.236301\n",
       "Sci-Fi           2.957766"
      ]
     },
     "execution_count": 44,
     "metadata": {},
     "output_type": "execute_result"
    }
   ],
   "source": [
    "TE_male_linear"
   ]
  },
  {
   "cell_type": "code",
   "execution_count": null,
   "id": "cbb89ad2",
   "metadata": {},
   "outputs": [],
   "source": []
  },
  {
   "cell_type": "code",
   "execution_count": null,
   "id": "9baef4db",
   "metadata": {},
   "outputs": [],
   "source": []
  },
  {
   "cell_type": "markdown",
   "id": "9bce2c09-db8c-464a-bdd3-c3ea3f97c166",
   "metadata": {},
   "source": [
    "## Online Learning\n",
    "\n",
    "In this section, we aim to implement the contextual TS to learn the optimal policy online. Specifically, we assume that, for each arm $i$, \n",
    "$$R_t(i)\\sim \\mathcal{N}(\\boldsymbol{s}_i^T \\boldsymbol{\\gamma},\\sigma^2).$$"
   ]
  },
  {
   "cell_type": "code",
   "execution_count": 49,
   "id": "220cf366-d18b-4d17-9a8a-6f934d8e07dc",
   "metadata": {},
   "outputs": [],
   "source": [
    "#import os\n",
    "#os.getcwd()\n",
    "#os.chdir('D:/Github/CausalDM')\n",
    "import pandas as pd\n",
    "import numpy as np\n",
    "from sklearn.linear_model import LinearRegression\n",
    "from causaldm.learners.Online.CMAB import _env_realCMAB as _env\n",
    "from causaldm.learners.Online.CMAB import LinTS\n",
    "env = _env.Single_Contextual_Env(seed = 0, Binary = False)\n",
    "K = env.K\n",
    "p = env.p\n",
    "logged_data, arms = env.get_logged_dat()\n",
    "CEL_results = pd.read_csv('./causaldm/learners/Online/CMAB/result_CEL_nonlinear.csv').iloc[:,1:]  "
   ]
  },
  {
   "cell_type": "markdown",
   "id": "db11b7b7-79e8-40aa-9fe3-f902f3e8e27e",
   "metadata": {},
   "source": [
    "### Estimated $\\sigma$ and $\\boldsymbol{\\gamma}$\n",
    "\n",
    "Here, we estimated the $\\sigma$ and $\\boldsymbol{\\gamma}$ based on the logged data and the estimated results obtained from the causal effect learning step."
   ]
  },
  {
   "cell_type": "code",
   "execution_count": 50,
   "id": "2d03c533-4b65-46c8-8611-e6392a83a7e4",
   "metadata": {},
   "outputs": [],
   "source": [
    "mean_error = []\n",
    "for genere in arms:\n",
    "    genere_dat = logged_data[genere][['age','gender_M',\n",
    "           'occupation_college/grad student', 'occupation_executive/managerial',\n",
    "           'occupation_other', 'occupation_technician/engineer','rating']] \n",
    "    model = LinearRegression().fit(CEL_results.iloc[:,:-5], CEL_results[genere])\n",
    "    genere_error = genere_dat.rating.to_numpy() - model.predict(np.array(genere_dat.iloc[:,:-1]))\n",
    "    mean_error += genere_error.tolist()\n",
    "sigma = np.std(mean_error,ddof=1)\n",
    "\n",
    "gamma = []\n",
    "for genere in arms:\n",
    "    model = LinearRegression().fit(CEL_results.iloc[:,:-5], CEL_results[genere])\n",
    "    gamma+=[model.intercept_] + list(model.coef_)"
   ]
  },
  {
   "cell_type": "markdown",
   "id": "a46a0843-5f72-40ff-87e8-0c6d9d807a06",
   "metadata": {},
   "source": [
    "## Run Informative TS\n",
    "\n",
    "Here, we run an informative TS with informative prior information, including the estimated $\\sigma$ and $\\gamma$. Specifically, we use $\\mathcal{N}(\\hat{\\boldsymbol{\\gamma}},.05I)$ as the prior distribution of $\\gamma$. In total, we ran 50 replicates, each with 5000 total steps, to get the expected performance of online learning."
   ]
  },
  {
   "cell_type": "code",
   "execution_count": 51,
   "id": "b70c57eb-01fc-4a4b-a068-e2ed23a67578",
   "metadata": {},
   "outputs": [],
   "source": [
    "T = 5000\n",
    "S = 50\n",
    "sigma1 = .05\n",
    "cum_reward_informative = []\n",
    "for seed in range(S):\n",
    "    env = _env.Single_Contextual_Env(seed = seed, Binary = False)\n",
    "    prior_theta_u = np.array(gamma)\n",
    "    prior_theta_cov = sigma1*np.identity(p)\n",
    "    informative_TS= LinTS.LinTS_Gaussian(sigma = sigma, prior_theta_u = prior_theta_u, \n",
    "                                                    prior_theta_cov = prior_theta_cov, \n",
    "                                                    K = K, p = p,seed = seed)\n",
    "    cum_reward_informative_t = []\n",
    "    rec_action_informative_t = []\n",
    "    for t in range(T):\n",
    "        X, feature_info= env.get_Phi(t)\n",
    "        A = informative_TS.take_action(X)\n",
    "        R = env.get_reward(t,A)\n",
    "        informative_TS.receive_reward(t,A,R,X)\n",
    "        cum_reward_informative_t.append(R)\n",
    "        rec_action_informative_t.append(A)\n",
    "    cum_reward_informative_t = np.cumsum(cum_reward_informative_t)/(np.array(range(T))+1)\n",
    "    cum_reward_informative.append(cum_reward_informative_t)"
   ]
  },
  {
   "cell_type": "markdown",
   "id": "6f3f447b-53bd-43d6-8e68-9835ff0e275a",
   "metadata": {},
   "source": [
    "## Run Uninformative TS\n",
    "\n",
    "To further show the advantages of a causal effect learning step, we run an uninformative TS with uninformative prior information. Specifically, we use $\\mathcal{N}(\\boldsymbol{0},1000I)$ as the prior distribution of $\\gamma$. In total, we ran 50 replicates, each with 5000 total steps, to get the expected performance of online learning."
   ]
  },
  {
   "cell_type": "code",
   "execution_count": 52,
   "id": "7573e604-33d5-4f28-a9e4-b4d26cfcd75e",
   "metadata": {},
   "outputs": [],
   "source": [
    "T = 5000\n",
    "S = 50\n",
    "cum_reward_uninformative = []\n",
    "for seed in range(S):\n",
    "    env = _env.Single_Contextual_Env(seed = seed, Binary = False)\n",
    "    K = env.K\n",
    "    p = env.p\n",
    "    prior_theta_u = np.zeros(p)\n",
    "    prior_theta_cov = 1000*np.identity(p)\n",
    "    uninformative_TS= LinTS.LinTS_Gaussian(sigma = sigma, prior_theta_u = prior_theta_u, \n",
    "                                                    prior_theta_cov = prior_theta_cov, \n",
    "                                                    K = K, p = p,seed = seed)\n",
    "    cum_reward_uninformative_t = []\n",
    "    rec_action_uninformative_t = []\n",
    "    for t in range(T):\n",
    "        X, feature_info = env.get_Phi(t)\n",
    "        A = uninformative_TS.take_action(X)\n",
    "        R = env.get_reward(t,A)\n",
    "        uninformative_TS.receive_reward(t,A,R,X)\n",
    "        cum_reward_uninformative_t.append(R)\n",
    "        rec_action_uninformative_t.append(A)\n",
    "    cum_reward_uninformative_t = np.cumsum(cum_reward_uninformative_t)/(np.array(range(T))+1)\n",
    "    cum_reward_uninformative.append(cum_reward_uninformative_t)"
   ]
  },
  {
   "cell_type": "markdown",
   "id": "5c377ca8-53db-4018-b3bd-ee008e4c9db4",
   "metadata": {},
   "source": [
    "## Results\n",
    "\n",
    "Comparing the results of the uninformative TS to the results of the informative TS, it is evident that the TS algorithm with an informative prior performs significantly better than the uninformative TS. Furthermore, based on the result of the last replicate of the informative TS, the mean of the final estimation of the posterior distribution of $\\boldsymbol{\\gamma}$ is summarized as follows (it can be retrieved by `informative_TS.u`):\n",
    "\n",
    "|          | intercept | age   | gender | college/grad student | executive/managerial | other | technician/engineer |\n",
    "|----------|:---------:|-------|--------|----------------------|----------------------|-------|---------------------|\n",
    "|  Comedy  |   3.954   | -.001 |  -.120 | -.173                | -.080                | -.003 | -.135               |\n",
    "| Drama    |     3.872 | -.435 | -.082  | .030                 | -.047                | -.138 | -.335               |\n",
    "| Action   | 3.159     | -.263 | -.143  | -.034                | -.005                | -.084 | -.409               |\n",
    "| Thriller | 3.976     | -.477 | -.398  | -.366                | -.151                | -.113 | 0                   |\n",
    "| Sci-Fi   | 3.468     | -.219 | -.009  | -.165                | 0                    | -.127 | 0                   |\n",
    "\n",
    "To use the estimated results greedily, we can calculate the mean reward of each movie genre using the estimated $\\boldsymbol{\\gamma}$ and the incoming user's information, and then recommend the genre with the highest estimated mean reward."
   ]
  },
  {
   "cell_type": "code",
   "execution_count": 53,
   "id": "78ed7c82",
   "metadata": {},
   "outputs": [
    {
     "data": {
      "text/plain": [
       "<AxesSubplot:xlabel='t', ylabel='Reward'>"
      ]
     },
     "execution_count": 53,
     "metadata": {},
     "output_type": "execute_result"
    },
    {
     "data": {
      "image/png": "[encoded data removed]",
      "text/plain": [
       "<Figure size 640x480 with 1 Axes>"
      ]
     },
     "metadata": {},
     "output_type": "display_data"
    }
   ],
   "source": [
    "import seaborn as sns\n",
    "result = pd.DataFrame({'rep':np.concatenate([np.ones(T)*rep for rep in range(S)]*2),\n",
    "                       't':np.concatenate([range(T)]*2*S),\n",
    "                       'Reward':np.concatenate(cum_reward_informative+cum_reward_uninformative),\n",
    "                       'Algo':['informative']*T*S+['uninformative']*T*S})\n",
    "sns.lineplot(data=result[result.t>20], x='t', y=\"Reward\", hue=\"Algo\", ci = 95,\n",
    "             n_boot = 20, linewidth = 1.0, markers = False)"
   ]
  },
  {
   "cell_type": "code",
   "execution_count": null,
   "id": "df304ae3",
   "metadata": {},
   "outputs": [],
   "source": []
  }
 ],
 "metadata": {
  "kernelspec": {
   "display_name": "Python 3 (ipykernel)",
   "language": "python",
   "name": "python3"
  },
  "language_info": {
   "codemirror_mode": {
    "name": "ipython",
    "version": 3
   },
   "file_extension": ".py",
   "mimetype": "text/x-python",
   "name": "python",
   "nbconvert_exporter": "python",
   "pygments_lexer": "ipython3",
   "version": "3.9.13"
  }
 },
 "nbformat": 4,
 "nbformat_minor": 5
}

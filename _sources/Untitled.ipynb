{
 "cells": [
  {
   "cell_type": "code",
   "execution_count": 4,
   "id": "26582117",
   "metadata": {},
   "outputs": [
    {
     "name": "stdout",
     "output_type": "stream",
     "text": [
      "Looking in indexes: https://test.pypi.org/simple/\n",
      "Requirement already satisfied: causaldm in /Users/alinaxu/opt/anaconda3/lib/python3.9/site-packages (0.0.1)\n",
      "Note: you may need to restart the kernel to use updated packages.\n"
     ]
    }
   ],
   "source": [
    "pip install -i https://test.pypi.org/simple/ causaldm"
   ]
  },
  {
   "cell_type": "code",
   "execution_count": 16,
   "id": "7d70ba78",
   "metadata": {},
   "outputs": [
    {
     "name": "stdout",
     "output_type": "stream",
     "text": [
      "Looking in indexes: https://test.pypi.org/simple/\n",
      "Collecting causaldm==0.0.9\n",
      "  Downloading https://test-files.pythonhosted.org/packages/99/18/b2c7548456502fcae869365ad885c538ea7424c330948a68c9b62ea9e9cf/causaldm-0.0.9-py3-none-any.whl (10.6 MB)\n",
      "\u001b[2K     \u001b[90m━━━━━━━━━━━━━━━━━━━━━━━━━━━━━━━━━━━━━━━━\u001b[0m \u001b[32m10.6/10.6 MB\u001b[0m \u001b[31m8.2 MB/s\u001b[0m eta \u001b[36m0:00:00\u001b[0m00:01\u001b[0m00:01\u001b[0m\n",
      "\u001b[?25hInstalling collected packages: causaldm\n",
      "  Attempting uninstall: causaldm\n",
      "    Found existing installation: causaldm 0.0.4\n",
      "    Uninstalling causaldm-0.0.4:\n",
      "      Successfully uninstalled causaldm-0.0.4\n",
      "Successfully installed causaldm-0.0.9\n",
      "Note: you may need to restart the kernel to use updated packages.\n"
     ]
    }
   ],
   "source": [
    "pip install -i https://test.pypi.org/simple/ causaldm==0.0.9"
   ]
  },
  {
   "cell_type": "code",
   "execution_count": 17,
   "id": "e7362981",
   "metadata": {},
   "outputs": [],
   "source": [
    "from causaldm.learners.CEL.Single_Stage import DRlearner"
   ]
  },
  {
   "cell_type": "code",
   "execution_count": 18,
   "id": "c90efb90",
   "metadata": {},
   "outputs": [],
   "source": [
    "import causaldm.learners"
   ]
  },
  {
   "cell_type": "code",
   "execution_count": 20,
   "id": "a93716f9",
   "metadata": {},
   "outputs": [],
   "source": [
    "import causaldm.data"
   ]
  },
  {
   "cell_type": "code",
   "execution_count": null,
   "id": "63e690d8",
   "metadata": {},
   "outputs": [],
   "source": []
  }
 ],
 "metadata": {
  "kernelspec": {
   "display_name": "Python 3 (ipykernel)",
   "language": "python",
   "name": "python3"
  },
  "language_info": {
   "codemirror_mode": {
    "name": "ipython",
    "version": 3
   },
   "file_extension": ".py",
   "mimetype": "text/x-python",
   "name": "python",
   "nbconvert_exporter": "python",
   "pygments_lexer": "ipython3",
   "version": "3.9.13"
  }
 },
 "nbformat": 4,
 "nbformat_minor": 5
}

{
 "cells": [
  {
   "cell_type": "markdown",
   "id": "9912c1a6-4e22-4295-9332-1750111ced59",
   "metadata": {},
   "source": [
    "## Test"
   ]
  },
  {
   "cell_type": "code",
   "execution_count": 1,
   "id": "ba6dbfa2-6eda-447d-b316-ad0185c055e4",
   "metadata": {},
   "outputs": [],
   "source": [
    "# from _util import *"
   ]
  },
  {
   "cell_type": "code",
   "execution_count": null,
   "id": "a25348c9-aa8c-43e0-90d3-144b31bc9c0e",
   "metadata": {},
   "outputs": [],
   "source": [
    "print(1)"
   ]
  }
 ],
 "metadata": {
  "kernelspec": {
   "display_name": "Python 3",
   "language": "python",
   "name": "python3"
  },
  "language_info": {
   "codemirror_mode": {
    "name": "ipython",
    "version": 3
   },
   "file_extension": ".py",
   "mimetype": "text/x-python",
   "name": "python",
   "nbconvert_exporter": "python",
   "pygments_lexer": "ipython3",
   "version": "3.8.8"
  }
 },
 "nbformat": 4,
 "nbformat_minor": 5
}

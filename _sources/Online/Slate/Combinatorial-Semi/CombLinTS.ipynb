{
 "cells": [
  {
   "cell_type": "markdown",
   "id": "3c50dd25",
   "metadata": {},
   "source": [
    "# CombLinTS\n",
    "\n",
    "## Overview\n",
    "- **Advantage**: It is scalable when the features are used. It outperforms algorithms based on other frameworks, such as UCB, in practice.\n",
    "- **Disadvantage**: It is susceptible to model misspecification.\n",
    "- **Application Situation**: Useful when presenting a list of items, each of which will generate a partial outcome (reward). The outcome is continuous.\n",
    "\n",
    "## Main Idea\n",
    "Noticing that feature information are common in practice, Wen et al. (2015) considers a generalization across items to reach a lower regret bound independent of $N$, by assuming a linear generalization model for $\\boldsymbol{\\theta}$. Specifically, we assume that\n",
    "\\begin{equation}\n",
    "\\theta_{i} = \\boldsymbol{s}_{i,t}^{T}\\boldsymbol{\\gamma}.\n",
    "\\end{equation}\n",
    "At each round $t$, **CombLinTS** samples $\\tilde{\\boldsymbol{\\gamma}}_{t}$ from the updated posterior distribution $N(\\hat{\\boldsymbol{\\gamma}}_{t},\\hat{\\Sigma}_{t})$ and get the $\\tilde{\\theta}_{i}^{t}$ as $\\boldsymbol{s}_{i,t}^{T}\\tilde{\\boldsymbol{\\gamma}}_{t}$, where $\\hat{\\boldsymbol{\\gamma}}_{t}$ and $\\hat{\\Sigma}_{t}$ are updated by the Kalman Filtering algorithm[1]. Note that when the outcome distribution $\\mathcal{P}$ is Gaussian, the updated posterior distribution is the exact posterior distribution of $\\boldsymbol{\\gamma}$ as **CombLinTS** assumes a Gaussian Prior. \n",
    "\n",
    "It's also important to note that, if necessary, the posterior updating step can be simply changed to accommodate various prior/reward distribution specifications. Further, for simplicity, we consider the most basic size constraint such that the action space includes all the possible subsets with size $K$. Therefore, the optimization process to find the optimal subset $A_{t}$ is equal to selecting a list of $K$ items with the highest attractiveness factors. Of course, users are welcome to modify the **optimization** function to satisfy more complex constraints.\n",
    "\n",
    "## Key Steps\n",
    "For round $t = 1,2,\\cdots$:\n",
    "1. Approximate $P(\\boldsymbol{\\gamma}|\\mathcal{H}_{t})$ with a Gaussian prior;\n",
    "2. Sample $\\tilde{\\boldsymbol{\\gamma}} \\sim P(\\boldsymbol{\\gamma}|\\mathcal{H}_{t})$;\n",
    "3. Update $\\tilde{\\boldsymbol{\\theta}}$ as $\\boldsymbol{s}_{i,t}^T \\tilde{\\boldsymbol{\\gamma}}$;\n",
    "5. Take the action $A_{t}$ w.r.t $\\tilde{\\boldsymbol{\\theta}}$ such that $A_t = arg max_{a \\in \\mathcal{A}} E(R_t(a) \\mid \\tilde{\\boldsymbol{\\theta}})$;\n",
    "6. Receive reward $R_{t}$.\n",
    "\n",
    "*Notations can be found in either the inroduction of the chapter \"Structured Bandits\" or the introduction of the combinatorial Semi-Bandit problems."
   ]
  },
  {
   "cell_type": "markdown",
   "id": "6aa0d14b",
   "metadata": {},
   "source": [
    "## Demo Code"
   ]
  },
  {
   "cell_type": "code",
   "execution_count": 1,
   "id": "728a9324",
   "metadata": {},
   "outputs": [],
   "source": [
    "# After we publish the pack age, we can directly import it\n",
    "# TODO: explore more efficient way\n",
    "# we can hide this cell later\n",
    "import os\n",
    "os.getcwd()\n",
    "os.chdir('/nas/longleaf/home/lge/CausalDM')\n",
    "# code used to import the learner"
   ]
  },
  {
   "cell_type": "code",
   "execution_count": 2,
   "id": "074a9ca0",
   "metadata": {},
   "outputs": [],
   "source": [
    "from causaldm.learners.Online.Slate.Combinatorial_Semi import MTSS_Comb\n",
    "from causaldm.learners.Online.Slate.Combinatorial_Semi import _env_SemiBandit\n",
    "import numpy as np"
   ]
  },
  {
   "cell_type": "code",
   "execution_count": 5,
   "id": "14c2ed83",
   "metadata": {},
   "outputs": [],
   "source": [
    "L, T, K, p = 300, 1000, 5, 3\n",
    "mu_gamma = np.zeros(p)\n",
    "sigma_gamma = np.identity(p)\n",
    "X_mu = np.zeros(p-1)\n",
    "X_sigma = np.identity(p-1)\n",
    "with_intercept = True\n",
    "seed = 0\n",
    "sigma_1 = .5\n",
    "sigma_2 = 1\n",
    "\n",
    "env = _env_SemiBandit.Semi_env(L, K, T, p, sigma_1, sigma_2\n",
    "                               , mu_gamma, sigma_gamma, seed = seed\n",
    "                               , with_intercept = with_intercept\n",
    "                               , X_mu = X_mu, X_sigma = X_sigma)\n",
    "MTSS_agent = MTSS_Comb.MTSS_Semi(sigma_2 = 1, L=L, T = T\n",
    "                                 , gamma_prior_mean = np.zeros(p), gamma_prior_cov = np.identity(p)\n",
    "                                 , sigma_1 = sigma_1\n",
    "                                 , K = K\n",
    "                                 , Xs = env.Phi# [L, p]\n",
    "                                 , update_freq = 1)\n",
    "S = MTSS_agent.take_action(env.Phi)\n",
    "t = 1\n",
    "obs_R, exp_R, R = env.get_reward(S, t)\n",
    "MTSS_agent.receive_reward(t, S, obs_R, X = env.Phi)"
   ]
  },
  {
   "cell_type": "markdown",
   "id": "54cf743e",
   "metadata": {},
   "source": [
    "**Interpretation:** A sentence to include the analysis result: the estimated optimal regime is..."
   ]
  },
  {
   "cell_type": "markdown",
   "id": "c7723d78",
   "metadata": {},
   "source": [
    "## References\n",
    "[1] Wen, Z., Kveton, B., & Ashkan, A. (2015, June). Efficient learning in large-scale combinatorial semi-bandits. In International Conference on Machine Learning (pp. 1113-1122). PMLR."
   ]
  },
  {
   "cell_type": "code",
   "execution_count": null,
   "id": "4fa918a4",
   "metadata": {},
   "outputs": [],
   "source": []
  }
 ],
 "metadata": {
  "kernelspec": {
   "display_name": "Python 3 (ipykernel)",
   "language": "python",
   "name": "python3"
  },
  "language_info": {
   "codemirror_mode": {
    "name": "ipython",
    "version": 3
   },
   "file_extension": ".py",
   "mimetype": "text/x-python",
   "name": "python",
   "nbconvert_exporter": "python",
   "pygments_lexer": "ipython3",
   "version": "3.9.7"
  }
 },
 "nbformat": 4,
 "nbformat_minor": 5
}

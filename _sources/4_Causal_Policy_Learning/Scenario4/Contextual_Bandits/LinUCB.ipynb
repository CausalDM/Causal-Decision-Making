{
 "cells": [
  {
   "cell_type": "markdown",
   "id": "d3ca32e0",
   "metadata": {},
   "source": [
    "# LinUCB\n",
    "\n",
    "## Overview\n",
    "- **Advantage**: It is more scalable and efficient than **UCB** by utilizing features.\n",
    "- **Disadvantage**:  \n",
    "- **Application Situation**: discrete action space, Gaussian reward space\n",
    "\n",
    "## Main Idea\n",
    "Supposed there are $K$ options, and the action space is $\\mathcal{A} = \\{0,1,\\cdots, K-1\\}$. **LinUCB**[1] uses feature information to guide exploration by assuming a linear model between the expected potential reward and the features. Specifcially, for the Gaussain bandits, we assume that \n",
    "\\begin{align}\n",
    "E(R_{t}(a)) = \\theta_a = \\boldsymbol{s}_a^T \\boldsymbol{\\gamma}.\n",
    "\\end{align} Solving a linear gression model, at each round $t$, the corresponding estimated upper confidence interval of the mean potential reward is then updated as\n",
    "\\begin{align}\n",
    "U_a^t = \\boldsymbol{s}_a^T \\hat{\\boldsymbol{\\gamma}} + \\alpha\\sqrt{\\boldsymbol{s}_a^T \\boldsymbol{V}^{-1}  \\boldsymbol{s}_a},\n",
    "\\end{align} where $\\alpha$ is a tuning parameter that controls the rate of exploration, $\\boldsymbol{V}^{-1} = \\sum_{j=0}^{t-1}\\boldsymbol{s}_{a_j}\\boldsymbol{s}_{a_j}^T$, and $\\hat{\\boldsymbol{\\gamma}} = \\boldsymbol{V}^{-1}\\sum_{j=0}^{t-1}\\boldsymbol{s}_{a_j}R_j$.\n",
    "\n",
    "As for the Bernoulli bandits, we assume that \n",
    "\\begin{align}\n",
    "\\theta_{a} = logistic(\\boldsymbol{s}_a^T \\boldsymbol{\\gamma}),\n",
    "\\end{align}where $logistic(c) \\equiv 1 / (1 + exp^{-1}(c))$. At each round $t$, by fitting a generalized linear model to all historical observations, we obtain the maximum likelihood estimator of $\\boldsymbol{\\gamma}$. The corresponding estimated confidence upper bound is then calculated in the same way as for Gaussian bandits, such that\n",
    "\\begin{align}\n",
    "U_a^t = \\boldsymbol{s}_a^T \\hat{\\boldsymbol{\\gamma}} + \\alpha\\sqrt{\\boldsymbol{s}_a^T \\boldsymbol{V}^{-1}  \\boldsymbol{s}_a},\n",
    "\\end{align}where $\\alpha$ and $\\boldsymbol{V}$ are defined in the same way as before. \n",
    "\n",
    "Finally, using the estimated upper confidence bounds, $A_t = \\arg \\max_{a \\in \\mathcal{A}} U_a^t$ would be selected.\n",
    "\n",
    "\n",
    "## Key Steps\n",
    "\n",
    "1. Initializing $\\hat{\\boldsymbol{\\gamma}}=\\boldsymbol{0}$ and $\\boldsymbol{V} = I$, and specifying $\\alpha$;\n",
    "2. For t = $0, 1,\\cdots, T$:\n",
    "    - Calculate the upper confidence bound $U_a^t$;\n",
    "    - Select action $A_t$ as the arm with the maximum $U_a^t$;\n",
    "    - Receive the reward R, and update $\\hat{\\boldsymbol{\\gamma}}$, $V$."
   ]
  },
  {
   "cell_type": "markdown",
   "id": "2ea1be59",
   "metadata": {},
   "source": [
    "## Demo Code"
   ]
  },
  {
   "cell_type": "code",
   "execution_count": 1,
   "id": "f3b02f48",
   "metadata": {},
   "outputs": [],
   "source": [
    "import os\n",
    "os.getcwd()\n",
    "os.chdir('D:\\GitHub\\CausalDM')"
   ]
  },
  {
   "cell_type": "markdown",
   "id": "bbd7dbaf-2ee9-443b-94a2-aa1ee984bd4a",
   "metadata": {},
   "source": [
    "### Import the learner."
   ]
  },
  {
   "cell_type": "code",
   "execution_count": 2,
   "id": "291f88a2",
   "metadata": {},
   "outputs": [],
   "source": [
    "import numpy as np\n",
    "from causaldm.learners.Online.CMAB import LinUCB"
   ]
  },
  {
   "cell_type": "markdown",
   "id": "fb597375-41f0-4ed6-b20b-4589ce044178",
   "metadata": {},
   "source": [
    "### Generate the Environment\n",
    "\n",
    "Here, we imitate an environment based on the MovieLens data."
   ]
  },
  {
   "cell_type": "code",
   "execution_count": 3,
   "id": "c9c17056",
   "metadata": {},
   "outputs": [],
   "source": [
    "from causaldm.learners.Online.CMAB import _env_realCMAB as _env\n",
    "env = _env.Single_Contextual_Env(seed = 0, Binary = False)"
   ]
  },
  {
   "cell_type": "markdown",
   "id": "054854bf-79c3-4e11-a729-3f84d9c5fc96",
   "metadata": {},
   "source": [
    "### Specify Hyperparameters\n",
    "\n",
    "- K: number of arms\n",
    "- p: number of features per arm\n",
    "- alpha: rate of exploration\n",
    "- seed: random seed\n",
    "- exploration_T: number of rounds to do random exploration at the beginning"
   ]
  },
  {
   "cell_type": "code",
   "execution_count": 4,
   "id": "fc79fede",
   "metadata": {},
   "outputs": [],
   "source": [
    "alpha = .1\n",
    "K = env.K\n",
    "p = env.p\n",
    "seed = 42\n",
    "exploration_T = 10\n",
    "LinUCB_Gaussian_agent = LinUCB.LinUCB_Gaussian(alpha = .1, K = K, p = p, seed = seed, exploration_T = exploration_T)"
   ]
  },
  {
   "cell_type": "markdown",
   "id": "0435f837-3189-455e-b430-2b081b59c6e0",
   "metadata": {},
   "source": [
    "### Recommendation and Interaction\n",
    "\n",
    "Starting from t = 0, for each step t, there are three steps:\n",
    "1. Observe the feature information\n",
    "<code> X = env.get_Phi(t) </code>\n",
    "2. Recommend an action \n",
    "<code> A = LinUCB_Gaussian_agent.take_action(X) </code>\n",
    "3. Get the reward from the environment \n",
    "<code> R = env.get_reward(t,A) </code>\n",
    "4. Update the posterior distribution\n",
    "<code> LinUCB_Gaussian_agent.receive_reward(t,A,R,X) </code>"
   ]
  },
  {
   "cell_type": "code",
   "execution_count": 5,
   "id": "8c8a8d30-eeaf-4990-bc61-0e4e6a253d03",
   "metadata": {},
   "outputs": [
    {
     "data": {
      "text/plain": [
       "(0, 4, 4.0, (25.0, 1.0, 'college/grad student'))"
      ]
     },
     "execution_count": 5,
     "metadata": {},
     "output_type": "execute_result"
    }
   ],
   "source": [
    "t = 0\n",
    "X, feature_info = env.get_Phi(t)\n",
    "A = LinUCB_Gaussian_agent.take_action(X)\n",
    "R = env.get_reward(t,A)\n",
    "LinUCB_Gaussian_agent.receive_reward(t,A,R,X)\n",
    "t,A,R,feature_info"
   ]
  },
  {
   "cell_type": "markdown",
   "id": "3aefb9c5-1fac-456b-84b5-160d804a1534",
   "metadata": {},
   "source": [
    "**Interpretation**: For step 0, the TS agent encounter a male user who is a 25-year-old college/grad student. Given the information, the agent recommend a Sci-Fi (arm 4), and receive a rate of 4 from the user."
   ]
  },
  {
   "cell_type": "markdown",
   "id": "056fa1ee-35f0-4b84-bbf8-cc9931b94ba9",
   "metadata": {},
   "source": [
    "### Demo Code for Bernoulli Bandit\n",
    "The steps are similar to those previously performed with a Gaussian Bandit. "
   ]
  },
  {
   "cell_type": "code",
   "execution_count": 6,
   "id": "f4c039a8-b99a-493d-9eb1-aaab7edd929c",
   "metadata": {},
   "outputs": [
    {
     "data": {
      "text/plain": [
       "(0, 3, 0, (25.0, 1.0, 'college/grad student'))"
      ]
     },
     "execution_count": 6,
     "metadata": {},
     "output_type": "execute_result"
    }
   ],
   "source": [
    "env = _env.Single_Contextual_Env(seed = 0, Binary = True)\n",
    "K = env.K\n",
    "p = env.p\n",
    "seed = 42\n",
    "alpha = 1 # exploration rate\n",
    "retrain_freq = 1 #frequency to train the GLM model\n",
    "exploration_T = 10\n",
    "LinUCB_GLM_agent = LinUCB.LinUCB_GLM(K = K, p = p , alpha = alpha, retrain_freq = retrain_freq, \n",
    "                                     seed = seed, exploration_T = exploration_T)\n",
    "t = 0\n",
    "X, feature_info = env.get_Phi(t)\n",
    "A = LinUCB_GLM_agent.take_action(X)\n",
    "R = env.get_reward(t,A)\n",
    "LinUCB_GLM_agent.receive_reward(t,A,R,X)\n",
    "t,A,R,feature_info"
   ]
  },
  {
   "cell_type": "markdown",
   "id": "5486b3d6-29af-4c4f-8ae7-d943d8d812e4",
   "metadata": {},
   "source": [
    "**Interpretation**: For step 0, the TS agent encounter a male user who is a 25-year-old college/grad student. Given the information, the agent recommend a Thriller (arm 3), and receive a rate of 0 from the user."
   ]
  },
  {
   "cell_type": "markdown",
   "id": "81ee7a2a",
   "metadata": {},
   "source": [
    "## References\n",
    "\n",
    "[1] Chu, W., Li, L., Reyzin, L., & Schapire, R. (2011, June). Contextual bandits with linear payoff functions. In Proceedings of the Fourteenth International Conference on Artificial Intelligence and Statistics (pp. 208-214). JMLR Workshop and Conference Proceedings."
   ]
  },
  {
   "cell_type": "code",
   "execution_count": null,
   "id": "32ec41cc-5469-4c5b-95dc-f44e1ed5b14d",
   "metadata": {},
   "outputs": [],
   "source": []
  }
 ],
 "metadata": {
  "kernelspec": {
   "display_name": "Python 3 (ipykernel)",
   "language": "python",
   "name": "python3"
  },
  "language_info": {
   "codemirror_mode": {
    "name": "ipython",
    "version": 3
   },
   "file_extension": ".py",
   "mimetype": "text/x-python",
   "name": "python",
   "nbconvert_exporter": "python",
   "pygments_lexer": "ipython3",
   "version": "3.9.7"
  }
 },
 "nbformat": 4,
 "nbformat_minor": 5
}

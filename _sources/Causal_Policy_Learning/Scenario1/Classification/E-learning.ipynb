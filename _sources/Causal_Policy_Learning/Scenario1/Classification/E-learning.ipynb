{
 "cells": [
  {
   "cell_type": "markdown",
   "id": "de3f2105-8e18-433b-be08-7d33d2541033",
   "metadata": {},
   "source": [
    "# Entropy learning"
   ]
  },
  {
   "cell_type": "code",
   "execution_count": null,
   "id": "5c1788d9-f058-4d53-a71b-7872894af46d",
   "metadata": {},
   "outputs": [],
   "source": []
  }
 ],
 "metadata": {
  "kernelspec": {
   "display_name": "Python 3",
   "language": "python",
   "name": "python3"
  },
  "language_info": {
   "codemirror_mode": {
    "name": "ipython",
    "version": 3
   },
   "file_extension": ".py",
   "mimetype": "text/x-python",
   "name": "python",
   "nbconvert_exporter": "python",
   "pygments_lexer": "ipython3",
   "version": "3.8.8"
  }
 },
 "nbformat": 4,
 "nbformat_minor": 5
}

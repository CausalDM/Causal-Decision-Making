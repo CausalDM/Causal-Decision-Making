{
 "cells": [
  {
   "cell_type": "markdown",
   "id": "99b219d1-2f7b-4ca3-8a20-1adeec8fab31",
   "metadata": {},
   "source": [
    "## MIMIC III (Single-Stage)\n",
    "\n",
    "In this notebook, we conducted analysis on the MIMIC III data with a single stage. We first analyzed the mediation effect and then evaluate the policy of interest and calculated the optimal policy. As informed by the causal structure learning, here we consider Glucose and PaO2_FiO2 as confounders/states, IV_Input as the action, SOFA as the mediator. "
   ]
  },
  {
   "cell_type": "code",
   "execution_count": 19,
   "id": "51a5e576-f6f2-47c0-a96d-3935d0ee6ca8",
   "metadata": {},
   "outputs": [
    {
     "data": {
      "text/html": [
       "<div>\n",
       "<style scoped>\n",
       "    .dataframe tbody tr th:only-of-type {\n",
       "        vertical-align: middle;\n",
       "    }\n",
       "\n",
       "    .dataframe tbody tr th {\n",
       "        vertical-align: top;\n",
       "    }\n",
       "\n",
       "    .dataframe thead th {\n",
       "        text-align: right;\n",
       "    }\n",
       "</style>\n",
       "<table border=\"1\" class=\"dataframe\">\n",
       "  <thead>\n",
       "    <tr style=\"text-align: right;\">\n",
       "      <th></th>\n",
       "      <th>icustayid</th>\n",
       "      <th>Glucose</th>\n",
       "      <th>PaO2_FiO2</th>\n",
       "      <th>IV Input</th>\n",
       "      <th>SOFA</th>\n",
       "      <th>Died within 48H</th>\n",
       "    </tr>\n",
       "  </thead>\n",
       "  <tbody>\n",
       "    <tr>\n",
       "      <th>0</th>\n",
       "      <td>1006</td>\n",
       "      <td>141.833333</td>\n",
       "      <td>148.567991</td>\n",
       "      <td>1.0</td>\n",
       "      <td>8.333333</td>\n",
       "      <td>0.0</td>\n",
       "    </tr>\n",
       "    <tr>\n",
       "      <th>1</th>\n",
       "      <td>1204</td>\n",
       "      <td>138.794872</td>\n",
       "      <td>430.668956</td>\n",
       "      <td>1.0</td>\n",
       "      <td>5.692308</td>\n",
       "      <td>1.0</td>\n",
       "    </tr>\n",
       "    <tr>\n",
       "      <th>2</th>\n",
       "      <td>4132</td>\n",
       "      <td>129.364286</td>\n",
       "      <td>252.883864</td>\n",
       "      <td>1.0</td>\n",
       "      <td>4.800000</td>\n",
       "      <td>0.0</td>\n",
       "    </tr>\n",
       "    <tr>\n",
       "      <th>3</th>\n",
       "      <td>4201</td>\n",
       "      <td>145.580087</td>\n",
       "      <td>539.065657</td>\n",
       "      <td>1.0</td>\n",
       "      <td>5.636364</td>\n",
       "      <td>1.0</td>\n",
       "    </tr>\n",
       "    <tr>\n",
       "      <th>4</th>\n",
       "      <td>5170</td>\n",
       "      <td>174.525000</td>\n",
       "      <td>394.616727</td>\n",
       "      <td>1.0</td>\n",
       "      <td>3.625000</td>\n",
       "      <td>1.0</td>\n",
       "    </tr>\n",
       "    <tr>\n",
       "      <th>5</th>\n",
       "      <td>6504</td>\n",
       "      <td>106.081169</td>\n",
       "      <td>423.030303</td>\n",
       "      <td>0.0</td>\n",
       "      <td>6.000000</td>\n",
       "      <td>1.0</td>\n",
       "    </tr>\n",
       "  </tbody>\n",
       "</table>\n",
       "</div>"
      ],
      "text/plain": [
       "   icustayid     Glucose   PaO2_FiO2  IV Input      SOFA  Died within 48H\n",
       "0       1006  141.833333  148.567991       1.0  8.333333              0.0\n",
       "1       1204  138.794872  430.668956       1.0  5.692308              1.0\n",
       "2       4132  129.364286  252.883864       1.0  4.800000              0.0\n",
       "3       4201  145.580087  539.065657       1.0  5.636364              1.0\n",
       "4       5170  174.525000  394.616727       1.0  3.625000              1.0\n",
       "5       6504  106.081169  423.030303       0.0  6.000000              1.0"
      ]
     },
     "execution_count": 19,
     "metadata": {},
     "output_type": "execute_result"
    }
   ],
   "source": [
    "import pandas as pd\n",
    "import numpy as np\n",
    "single_data = pd.read_csv('mimic3_single_stage.csv')\n",
    "single_data.iloc[np.where(single_data['IV Input']<1)[0],3]=0 # change the discrete action to binary\n",
    "single_data.iloc[np.where(single_data['IV Input']>=1)[0],3]=1 # change the discrete action to binary\n",
    "single_data.iloc[np.where(single_data['Died within 48H']==-1)[0],-1]=0 # change the discrete action to binary\n",
    "single_data.head(6)"
   ]
  },
  {
   "cell_type": "code",
   "execution_count": 20,
   "id": "0a9e4d2a",
   "metadata": {},
   "outputs": [
    {
     "data": {
      "text/plain": [
       "(57, 6)"
      ]
     },
     "execution_count": 20,
     "metadata": {},
     "output_type": "execute_result"
    }
   ],
   "source": [
    "single_data.shape"
   ]
  },
  {
   "cell_type": "code",
   "execution_count": 21,
   "id": "8d02f71b-f28b-459f-8029-6231ce90f7f8",
   "metadata": {},
   "outputs": [],
   "source": [
    "state = np.array(single_data[['Glucose','PaO2_FiO2']])\n",
    "action = np.array(single_data[['IV Input']])\n",
    "mediator = np.array(single_data[['SOFA']])\n",
    "reward = np.array(single_data[['Died within 48H']])\n",
    "single_dataset = {'state':state,'action':action,'mediator':mediator,'reward':reward}"
   ]
  },
  {
   "cell_type": "markdown",
   "id": "c6b03650-db06-4e91-ac8b-bcc870187f00",
   "metadata": {
    "tags": []
   },
   "source": [
    "# CEL: Single-Stage Mediation Analysis"
   ]
  },
  {
   "cell_type": "markdown",
   "id": "c6de86b4-574a-4f15-a346-0a0122464ae7",
   "metadata": {},
   "source": [
    "Under the single-stage setting, we are interested in analyzing the treatment effect on the final outcome Died_within_48H observed at the end of the study by comparing the target treatment regime that provides IV input for all patients and the control treatment regime that does not provide any treatment. Using the direct estimator proposed in [1], IPW estimator proposed in [2], and robust estimator proposed in [3], we examine the natural direct and indirect effects of the target treatment regime based on observational data. With the code in the following blocks, the estimated effect components are summarized in the following:\n",
    "\n",
    "|                  |   NDE   | NIE     | TE     |\n",
    "|------------------|:------:|--------|--------|\n",
    "| Direct Estimator | -.2132 |  .0030 | -.2103 |\n",
    "| IPW              | -.2332 | 0      | -.2332 |\n",
    "| Robust           | -.2274 | -.0163 | -.2438 |\n",
    "\n",
    "Specifically, when compared to no treatment, always giving IV input has a negative impact on the survival rate, among which the effect directly from actions to the final outcome dominates."
   ]
  },
  {
   "cell_type": "code",
   "execution_count": 22,
   "id": "681ab834-086a-438b-becc-0e101a17bde8",
   "metadata": {},
   "outputs": [],
   "source": [
    "from causaldm.learners.CEL.MA.ME_Single import ME_Single"
   ]
  },
  {
   "cell_type": "code",
   "execution_count": 23,
   "id": "a6bafbfd-2dd6-47cc-8d76-a0100406fabe",
   "metadata": {},
   "outputs": [],
   "source": [
    "# Control Policy\n",
    "def control_policy(state = None, dim_state=None, action=None, get_a = False):\n",
    "    if get_a:\n",
    "        action_value = np.array([0])\n",
    "    else:\n",
    "        state = np.copy(state).reshape(-1,dim_state)\n",
    "        NT = state.shape[0]\n",
    "        if action is None:\n",
    "            action_value = np.array([0]*NT)\n",
    "        else:\n",
    "            action = np.copy(action).flatten()\n",
    "            if len(action) == 1 and NT>1:\n",
    "                action = action * np.ones(NT)\n",
    "            action_value = 1-action\n",
    "    return action_value\n",
    "\n",
    "def target_policy(state, dim_state = 1, action=None):\n",
    "    state = np.copy(state).reshape((-1, dim_state))\n",
    "    NT = state.shape[0]\n",
    "    pa = 1 * np.ones(NT)\n",
    "    if action is None:\n",
    "        if NT == 1:\n",
    "            pa = pa[0]\n",
    "            prob_arr = np.array([1-pa, pa])\n",
    "            action_value = np.random.choice([0, 1], 1, p=prob_arr)\n",
    "        else:\n",
    "            raise ValueError('No random for matrix input')\n",
    "    else:\n",
    "        action = np.copy(action).flatten()\n",
    "        action_value = pa * action + (1-pa) * (1-action)\n",
    "    return action_value"
   ]
  },
  {
   "cell_type": "code",
   "execution_count": 24,
   "id": "7113c82f-4488-4781-a62d-9eb23c216282",
   "metadata": {},
   "outputs": [
    {
     "data": {
      "text/plain": [
       "(-0.2132360890518064, 0.0029724096241138995, -0.2102636794276925)"
      ]
     },
     "execution_count": 24,
     "metadata": {},
     "output_type": "execute_result"
    }
   ],
   "source": [
    "problearner_parameters = {\"splitter\":[\"best\",\"random\"], \"max_depth\" : range(1,50)},\n",
    "Direct_est = ME_Single(single_dataset, r_model = 'OLS',\n",
    "                     problearner_parameters = problearner_parameters,\n",
    "                     truncate = 50, \n",
    "                     target_policy=target_policy, control_policy = control_policy, \n",
    "                     dim_state = 2, dim_mediator = 1, \n",
    "                     MCMC = 50,\n",
    "                     nature_decomp = True,\n",
    "                     seed = 10,\n",
    "                     method = 'Direct')\n",
    "\n",
    "Direct_est.estimate_DE_ME()\n",
    "Direct_est.est_DE, Direct_est.est_ME, Direct_est.est_TE,"
   ]
  },
  {
   "cell_type": "code",
   "execution_count": 25,
   "id": "9ffac3b7-30ec-4280-a4c0-0fbfdfdeb2b3",
   "metadata": {},
   "outputs": [
    {
     "data": {
      "text/plain": [
       "(-0.23320671819000469, 0.0, -0.23320671819000469)"
      ]
     },
     "execution_count": 25,
     "metadata": {},
     "output_type": "execute_result"
    }
   ],
   "source": [
    "IPW_est = ME_Single(single_dataset, r_model = 'OLS',\n",
    "                     problearner_parameters = problearner_parameters,\n",
    "                     truncate = 50, \n",
    "                     target_policy=target_policy, control_policy = control_policy, \n",
    "                     dim_state = 2, dim_mediator = 1, \n",
    "                     MCMC = 50,\n",
    "                     nature_decomp = True,\n",
    "                     seed = 10,\n",
    "                     method = 'IPW')\n",
    "\n",
    "IPW_est.estimate_DE_ME()\n",
    "IPW_est.est_DE, IPW_est.est_ME, IPW_est.est_TE,"
   ]
  },
  {
   "cell_type": "code",
   "execution_count": 26,
   "id": "4a5b2ab6-5f8f-4f0a-9696-981b3f661cb9",
   "metadata": {},
   "outputs": [
    {
     "data": {
      "text/plain": [
       "(-0.22743187935855116, -0.01633182578287201, -0.24376370514142318)"
      ]
     },
     "execution_count": 26,
     "metadata": {},
     "output_type": "execute_result"
    }
   ],
   "source": [
    "Robust_est = ME_Single(single_dataset, r_model = 'OLS',\n",
    "                     problearner_parameters = problearner_parameters,\n",
    "                     truncate = 50, \n",
    "                     target_policy=target_policy, control_policy = control_policy, \n",
    "                     dim_state = 2, dim_mediator = 1, \n",
    "                     MCMC = 50,\n",
    "                     nature_decomp = True,\n",
    "                     seed = 10,\n",
    "                     method = 'Robust')\n",
    "\n",
    "Robust_est.estimate_DE_ME()\n",
    "Robust_est.est_DE, Robust_est.est_ME, Robust_est.est_TE,"
   ]
  },
  {
   "cell_type": "markdown",
   "id": "c2b3bb90-76b4-4005-b626-574ad2759383",
   "metadata": {},
   "source": [
    "## CPL: Single-Stage Policy Evaluation"
   ]
  },
  {
   "cell_type": "code",
   "execution_count": 27,
   "id": "92cc85ce-d2b7-445b-9950-e2a87ca7d2ad",
   "metadata": {},
   "outputs": [],
   "source": [
    "from causaldm.learners.CPL13.disc import QLearning"
   ]
  },
  {
   "cell_type": "markdown",
   "id": "903e7f10-ce3d-4124-9d8f-4e1ab719e4b0",
   "metadata": {},
   "source": [
    "As an example, we use the **Q-learning** algorithm to evaluate policies based on the observed data, with the linear regression models defined as the following:\n",
    "\\begin{align}\n",
    "Q(s,a,\\boldsymbol{\\beta}) = &\\beta_{00}+\\beta_{01}*\\textrm{Glucose}+\\beta_{02}*\\textrm{PaO2_FiO2}\\\\\n",
    "                    &I(a_1=1)*\\{\\beta_{10}+\\beta_{11}*\\textrm{Glucose}+\\beta_{12}*\\textrm{PaO2_FiO2}\\},\n",
    "\\end{align}\n",
    "\n",
    "Using the code below, we evaluated two target polices (regimes). The first one is a fixed treatement regime that applies no treatment (Policy1), with an estimated value of .9999. Another is a fixed treatment regime that applies treatment all the time (Policy2), with an estimated value of .7646. Therefore, the treatment effect of Policy2 comparing to Policy1 is -.2353, implying that receiving IV input increase the mortality rate."
   ]
  },
  {
   "cell_type": "code",
   "execution_count": 28,
   "id": "88152436-d5eb-4ffd-ac45-d40fe19bdcda",
   "metadata": {},
   "outputs": [],
   "source": [
    "single_data.rename(columns = {'Died within 48H':'R', 'Glucose':'S1', 'PaO2_FiO2':'S2', 'IV Input':'A'}, inplace = True)\n",
    "R = single_data['R'] #lower the better\n",
    "S = single_data[['S1','S2']]\n",
    "A = single_data[['A']]\n",
    "# specify the model you would like to use\n",
    "model_info = [{\"model\": \"R~S1+S2+A+S1*A+S2*A\",\n",
    "              'action_space':{'A':[0,1]}}]"
   ]
  },
  {
   "cell_type": "code",
   "execution_count": 29,
   "id": "566b8bb8-80b1-4c29-8d92-3f273484094d",
   "metadata": {},
   "outputs": [
    {
     "data": {
      "text/plain": [
       "0.9999999999999976"
      ]
     },
     "execution_count": 29,
     "metadata": {},
     "output_type": "execute_result"
    }
   ],
   "source": [
    "# Evaluating the policy with no treatment\n",
    "N=len(S)\n",
    "regime = pd.DataFrame({'A':[0]*N}).set_index(S.index)\n",
    "#evaluate the regime\n",
    "QLearn = QLearning.QLearning()\n",
    "QLearn.train(S, A, R, model_info, T=1, regime = regime, evaluate = True, mimic3_clip = True)\n",
    "QLearn.predict_value(S)"
   ]
  },
  {
   "cell_type": "code",
   "execution_count": 30,
   "id": "10f6441a-273c-4022-802d-e8d2df2336f6",
   "metadata": {},
   "outputs": [
    {
     "data": {
      "text/plain": [
       "0.7647336090193217"
      ]
     },
     "execution_count": 30,
     "metadata": {},
     "output_type": "execute_result"
    }
   ],
   "source": [
    "# Evaluating the policy that gives IV input at both stages\n",
    "N=len(S)\n",
    "regime = pd.DataFrame({'A':[1]*N}).set_index(S.index)\n",
    "#evaluate the regime\n",
    "QLearn = QLearning.QLearning()\n",
    "QLearn.train(S, A, R, model_info, T=1, regime = regime, evaluate = True, mimic3_clip = True)\n",
    "QLearn.predict_value(S)"
   ]
  },
  {
   "cell_type": "markdown",
   "id": "e54de121-0b8b-4412-9678-3941846423c0",
   "metadata": {},
   "source": [
    "## CPL: Single-Stage Policy Optimization"
   ]
  },
  {
   "cell_type": "markdown",
   "id": "e49f86ca-4a31-470d-b3b2-837b4c7dbcbf",
   "metadata": {},
   "source": [
    "Further, to find an optimal policy maximizing the expected value, we use the **Q-learning** algorithm again to do policy optimization. Using the regression model we specified above and the code in the following block, the estimated optimal policy is summarized as the following regime.\n",
    "\n",
    "1. We would recommend $A=0$ (IV_Input = 0) if $-.0003*\\textrm{Glucose}+.0012*\\textrm{PaO2_FiO2}<.5633$\n",
    "2. Else, we would recommend $A=1$ (IV_Input = 1).\n",
    "    \n",
    "Appling the estimated optimal regime to individuals in the observed data, we summarize the regime pattern for each patients in the following table:\n",
    "\n",
    "| # patients | IV_Input | \n",
    "|------------|----------|\n",
    "| 51         | 0        |\n",
    "| 6          | 1        |\n",
    "The estimated value of the estimated optimal policy is **.9999**."
   ]
  },
  {
   "cell_type": "code",
   "execution_count": 33,
   "id": "6a5a82ac-ef51-4899-b626-02cbee491120",
   "metadata": {},
   "outputs": [
    {
     "name": "stdout",
     "output_type": "stream",
     "text": [
      "fitted model Q0:                             OLS Regression Results                            \n",
      "==============================================================================\n",
      "Dep. Variable:                      R   R-squared:                       0.182\n",
      "Model:                            OLS   Adj. R-squared:                  0.102\n",
      "Method:                 Least Squares   F-statistic:                     2.276\n",
      "Date:                Sun, 29 Sep 2024   Prob (F-statistic):             0.0607\n",
      "Time:                        14:43:10   Log-Likelihood:                -17.634\n",
      "No. Observations:                  57   AIC:                             47.27\n",
      "Df Residuals:                      51   BIC:                             59.53\n",
      "Df Model:                           5                                         \n",
      "Covariance Type:            nonrobust                                         \n",
      "==============================================================================\n",
      "                 coef    std err          t      P>|t|      [0.025      0.975]\n",
      "------------------------------------------------------------------------------\n",
      "Intercept      1.0000      0.318      3.141      0.003       0.361       1.639\n",
      "S1          2.342e-17      0.002   1.42e-14      1.000      -0.003       0.003\n",
      "S2         -3.442e-17      0.001  -6.81e-14      1.000      -0.001       0.001\n",
      "A             -0.5633      0.416     -1.354      0.182      -1.398       0.272\n",
      "S1:A          -0.0003      0.002     -0.136      0.892      -0.005       0.004\n",
      "S2:A           0.0012      0.001      1.716      0.092      -0.000       0.003\n",
      "==============================================================================\n",
      "Omnibus:                       16.164   Durbin-Watson:                   1.728\n",
      "Prob(Omnibus):                  0.000   Jarque-Bera (JB):               18.591\n",
      "Skew:                          -1.320   Prob(JB):                     9.19e-05\n",
      "Kurtosis:                       3.927   Cond. No.                     5.13e+03\n",
      "==============================================================================\n",
      "\n",
      "Notes:\n",
      "[1] Standard Errors assume that the covariance matrix of the errors is correctly specified.\n",
      "[2] The condition number is large, 5.13e+03. This might indicate that there are\n",
      "strong multicollinearity or other numerical problems.\n",
      "opt_d: A\n",
      "0    51\n",
      "1     6\n",
      "dtype: int64\n",
      "opt value: 0.9999999999999988\n"
     ]
    }
   ],
   "source": [
    "# initialize the learner\n",
    "QLearn = QLearning.QLearning()\n",
    "# train the policy\n",
    "QLearn.train(S, A, R, model_info, T=1, mimic3_clip = True)\n",
    "# get the summary of the fitted Q models using the following code\n",
    "print(\"fitted model Q0:\",QLearn.fitted_model[0].summary())\n",
    "#4. recommend action\n",
    "opt_d = QLearn.recommend_action(S).value_counts()\n",
    "#5. get the estimated value of the optimal regime\n",
    "V_hat = QLearn.predict_value(S)\n",
    "print(\"opt_d:\",opt_d)\n",
    "print(\"opt value:\",V_hat)"
   ]
  },
  {
   "cell_type": "markdown",
   "id": "87dcd03a-13db-4924-8340-3df258236487",
   "metadata": {},
   "source": [
    "## Reference\n",
    "\n",
    "[1]Robins, J. M. and Greenland, S. Identifiability and exchangeability for direct and indirect effects. Epidemiology, pp. 143–155, 1992.\n",
    "\n",
    "[2]Hong, G. (2010). Ratio of mediator probability weighting for estimating natural direct and indirect effects. In Proceedings of the American Statistical Association, biometrics section (pp. 2401-2415).\n",
    "\n",
    "[3] Tchetgen, E. J. T., & Shpitser, I. (2012). Semiparametric theory for causal mediation analysis: efficiency bounds, multiple robustness, and sensitivity analysis. Annals of statistics, 40(3), 1816."
   ]
  },
  {
   "cell_type": "code",
   "execution_count": null,
   "id": "47817224",
   "metadata": {},
   "outputs": [],
   "source": []
  }
 ],
 "metadata": {
  "kernelspec": {
   "display_name": "Python 3 (ipykernel)",
   "language": "python",
   "name": "python3"
  },
  "language_info": {
   "codemirror_mode": {
    "name": "ipython",
    "version": 3
   },
   "file_extension": ".py",
   "mimetype": "text/x-python",
   "name": "python",
   "nbconvert_exporter": "python",
   "pygments_lexer": "ipython3",
   "version": "3.9.12"
  }
 },
 "nbformat": 4,
 "nbformat_minor": 5
}

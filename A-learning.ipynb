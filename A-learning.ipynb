{
 "cells": [
  {
   "cell_type": "markdown",
   "id": "01fafddb-c4f1-4a12-b7f4-5ef4083a5261",
   "metadata": {},
   "source": [
    "# Advantage learning"
   ]
  }
 ],
 "metadata": {
  "kernelspec": {
   "display_name": "Python 3",
   "language": "python",
   "name": "python3"
  },
  "language_info": {
   "codemirror_mode": {
    "name": "ipython",
    "version": 3
   },
   "file_extension": ".py",
   "mimetype": "text/x-python",
   "name": "python",
   "nbconvert_exporter": "python",
   "pygments_lexer": "ipython3",
   "version": "3.8.8"
  }
 },
 "nbformat": 4,
 "nbformat_minor": 5
}

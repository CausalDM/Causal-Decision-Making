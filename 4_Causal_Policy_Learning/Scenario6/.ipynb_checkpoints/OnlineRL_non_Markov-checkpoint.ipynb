{
 "cells": [
  {
   "cell_type": "markdown",
   "id": "7fef41c9",
   "metadata": {},
   "source": [
    "# Ooline Policy Learning in Non-Markovian Environments \n",
    "\n",
    "An important extension of the [Markov assumption-based RL](section:online_RL) is to the non-Markovian environment. \n",
    "\n",
    "## Model\n",
    "\n",
    "\n",
    "\n",
    "\n",
    "```{image} POMDP_comparison.png\n",
    ":alt: d2ope\n",
    ":width: 800px\n",
    ":align: center\n",
    "```\n",
    "\n",
    "No unmeasured confounder issue. \n",
    "\n",
    "shi2022off\n",
    "\n",
    "\n",
    "```{image} POMDP.png\n",
    ":alt: d2ope\n",
    ":width: 500px\n",
    ":align: center\n",
    "```\n",
    "\n",
    "## Policy learning\n",
    "\n",
    "When the horizon is short (e.g., 2 or 3), it is still feasible to learn a time-dependent policy that directly utilizes the vector of all historical information for decision making. This is the online version of the DTR problem and was recently studied in {cite:t}`hu2020dtr`. \n",
    "However, when the horiozn is longer, such an approach quickly becomes computationally infeasible and certain dimension reduction method is then needed. \n",
    "In POMDP, a classic approach is to infer the underlying "
   ]
  },
  {
   "cell_type": "markdown",
   "id": "d4871ef2-de01-4755-bd15-b8353e8f0dda",
   "metadata": {
    "jp-MarkdownHeadingCollapsed": true,
    "tags": []
   },
   "source": [
    "## References\n",
    "\n",
    "```{bibliography}\n",
    ":filter: docname in docnames\n",
    "```"
   ]
  }
 ],
 "metadata": {
  "kernelspec": {
   "display_name": "Python 3 (ipykernel)",
   "language": "python",
   "name": "python3"
  },
  "language_info": {
   "codemirror_mode": {
    "name": "ipython",
    "version": 3
   },
   "file_extension": ".py",
   "mimetype": "text/x-python",
   "name": "python",
   "nbconvert_exporter": "python",
   "pygments_lexer": "ipython3",
   "version": "3.9.12"
  }
 },
 "nbformat": 4,
 "nbformat_minor": 5
}

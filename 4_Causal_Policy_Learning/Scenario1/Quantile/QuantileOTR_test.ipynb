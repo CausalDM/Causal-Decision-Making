{
 "cells": [
  {
   "cell_type": "markdown",
   "metadata": {
    "id": "mHcFPAA_l4xE"
   },
   "source": [
    "# Quantile Optimal Treatment Regime\n",
    "\n",
    "\n",
    "##   Motivation\n",
    "\n",
    "Aside from evaluating the performance of a target policy or finding the optimal treatment regimes with respect to the **mean outcome**, it is natural to extendour goal to exploring the whole reward distribution. The easiest way to conduct policy evaluation and optimization is to estimate the quantiles with respect to some quantile levels in $[0,1]$. There are some cases when it is not satisfactory to only evaluate the mean outcome:\n",
    "\n",
    "\n",
    "\n",
    "1.   **The problem of our interest may not be limited to the mean reward**: For example, when evaluating the performance of a certain policy in prolonging customers watching time on a video platform, one may be interested in how well the policy is in stimulating the customers at the lower 25% tail, so as to improve the overall prevalence of this platform and attract more potential customers.\n",
    "\n",
    "2.   **Heavy tails**: In the case when the reward distribution is naturally heavy-tailed, the performance of directly estimating the mean outcome (or doing optimization) may be very unstable. In this case, we may want to know the whole picture of the outcome distribution in order to do further statistical inferences.\n",
    "3.   **Skewed distribution**: For example, in the cases when we would like to evaluate the survival time of patients, it may be desirable to consider the treatment regime that maximizes the median of the distribution of the potential outcome.\n",
    "\n",
    "\n",
    "Note: the recent work on discrete Q-learning in [Moodie et al. (2014) [2]](https://link.springer.com/article/10.1007/s12561-013-9103-z) can be applied to first estimate the probabilities and then invert them to estimate quantiles, but simply taking the inverse to the cummulative density function may cause a lot of potential problems to the qunatile estimation and optimization. \n",
    "\n",
    "\n",
    "\n",
    "\n"
   ]
  },
  {
   "cell_type": "markdown",
   "metadata": {},
   "source": [
    "\n",
    "## Main Idea\n",
    "\n",
    "In recent years, there are more work focusing on quantile estimating the optimal treatment regime in order to maximize the qunatile at level $\\tau$ given a class of feasible treatment regimes $\\mathbb{D}=\\{I(X^T\\beta>0:\\beta\\in \\mathbb{B})\\}$. That is, the objective function is to maximize\n",
    "   $$\\arg\\max_{d\\in \\mathbb{D}}Q_{\\tau}(Y^*(d)),$$\n",
    "where $Q_{\\tau}$ denotes the quantile value at level $\\tau$. \n",
    "\n",
    "\n",
    "There are multiple ways to estimate the quantile value at a given level $\\tau$: direct method, inverse probability estimator, and doubly robust estimator. Among all of the three methods, doubly robust estimator (or AIPW estimator) is the one that combines the advantages of both direct method and IPW estimator, which allows some part of the model to be misspecified while pretaining the consistency of the estimation. For an AIPW estimator, the quantile can be estimated by\n",
    "$$\n",
    "\\hat{Q}_{\\tau}(\\beta)=\\frac{1}{n}\\sum_{i=1}^n \\left[\\frac{C_i(\\beta)}{\\hat{\\pi}(X_i,\\beta)}\\rho_{\\tau}(Y_i-a)+\\left(1-\\frac{C_i(\\beta)}{\\hat{\\pi}(X_i,\\beta)}\\right)\\rho_{\\tau}(\\hat{Y}_i^{**}-a)\\right],\n",
    "$$\n",
    "where $\\hat{Y}_i^{**}$ is the pseudo outcome generated from the fitted model when following some policy $d(X_i,\\beta)$.\n",
    "Thus, the optimal policy to maximize a specific quantile of the outcome distribution can be obtained by\n",
    "$$\n",
    "\\arg\\max_{\\beta\\in\\mathbb{B}}\\hat{Q}_{\\tau}(\\beta)\n",
    "$$\n",
    "\n"
   ]
  },
  {
   "cell_type": "markdown",
   "metadata": {},
   "source": [
    "\n",
    "\n",
    "##  Algorithm\n",
    "\n",
    "The main steps of this algorithm can be summarized as follows:\n",
    "\n",
    "* **Step 1.**   Fit the following functions with any appropriate models you want: \n",
    "\n",
    "    (a). Propensity score $\\pi(X_i,\\beta)$. Usually the simplest way is to use Logistic regression.\n",
    "    \n",
    "    (b). Outcome regression model when treatment $A=1$. We estimate the conditional quantile $Q_{\\tau}(Y^*(1)|X)=g(X,\\beta_1(\\tau))$, for $\\tau$ in a fine grid of $(0,1)$. This yields $\\hat{\\beta}_1(\\tau)$, $\\tau\\in(0,1)$.\n",
    "    \n",
    "    (c). Outcome regression model when treatment $A=0$. We estimate the conditional quantile $Q_{\\tau}(Y^*(0)|X)=g(X,\\beta_0(\\tau))$, for $\\tau$ in a fine grid of $(0,1)$. This yields $\\hat{\\beta}_0(\\tau)$, $\\tau\\in(0,1)$.\n",
    "    \n",
    "* **Step 2.** Generate two independent random samples from the uniform distribution on the interval $(0,1)$: $\\{u_{11},\\dots,u_{1n}\\}$ and $\\{u_{01},\\dots,u_{0n}\\}$.\n",
    "\n",
    "* **Step 3.** Calculate $\\hat{Y}^{**}_i=g(X_i,\\hat{\\beta}_1(u_{1i}))d(X_i,\\beta)+g(X_i,\\hat{\\beta}_0(u_{0i}))(1-d(X_i,\\beta))$, $i=1,\\dots,n$.\n",
    "\n",
    "* **Step 4.** Using proper methods to find the optimal $\\beta$ for $\\hat{Q}_{\\tau}(\\beta)$. Nelder-mead method was implemented in the following algorithm.\n",
    "\n",
    "\n",
    "\n",
    "\n",
    "Next, we will use both simulation and real dataset to illustrate the performance of Quantile Optimal Treatment Regime in [Wang et al. (2018) [1]](https://www.ncbi.nlm.nih.gov/pmc/articles/PMC6223317/pdf/nihms915733.pdf).\n",
    "\n"
   ]
  },
  {
   "cell_type": "markdown",
   "metadata": {
    "id": "az8TSUUwViFa"
   },
   "source": [
    "\n",
    "## Demo on Simulation Data"
   ]
  },
  {
   "cell_type": "markdown",
   "metadata": {},
   "source": [
    "### Data Processing"
   ]
  },
  {
   "cell_type": "code",
   "execution_count": 1,
   "metadata": {
    "scrolled": false
   },
   "outputs": [
    {
     "data": {
      "text/html": [
       "<div>\n",
       "<style scoped>\n",
       "    .dataframe tbody tr th:only-of-type {\n",
       "        vertical-align: middle;\n",
       "    }\n",
       "\n",
       "    .dataframe tbody tr th {\n",
       "        vertical-align: top;\n",
       "    }\n",
       "\n",
       "    .dataframe thead th {\n",
       "        text-align: right;\n",
       "    }\n",
       "</style>\n",
       "<table border=\"1\" class=\"dataframe\">\n",
       "  <thead>\n",
       "    <tr style=\"text-align: right;\">\n",
       "      <th></th>\n",
       "      <th>S1</th>\n",
       "      <th>S2</th>\n",
       "      <th>A</th>\n",
       "      <th>R</th>\n",
       "    </tr>\n",
       "  </thead>\n",
       "  <tbody>\n",
       "    <tr>\n",
       "      <th>0</th>\n",
       "      <td>0.034775</td>\n",
       "      <td>2.453145</td>\n",
       "      <td>1</td>\n",
       "      <td>6.025941</td>\n",
       "    </tr>\n",
       "    <tr>\n",
       "      <th>1</th>\n",
       "      <td>0.084880</td>\n",
       "      <td>-1.234459</td>\n",
       "      <td>0</td>\n",
       "      <td>-1.121537</td>\n",
       "    </tr>\n",
       "    <tr>\n",
       "      <th>2</th>\n",
       "      <td>-0.144626</td>\n",
       "      <td>2.040543</td>\n",
       "      <td>1</td>\n",
       "      <td>4.806875</td>\n",
       "    </tr>\n",
       "    <tr>\n",
       "      <th>3</th>\n",
       "      <td>0.148426</td>\n",
       "      <td>-0.021139</td>\n",
       "      <td>1</td>\n",
       "      <td>1.637488</td>\n",
       "    </tr>\n",
       "    <tr>\n",
       "      <th>4</th>\n",
       "      <td>-0.120852</td>\n",
       "      <td>1.377594</td>\n",
       "      <td>1</td>\n",
       "      <td>3.363393</td>\n",
       "    </tr>\n",
       "    <tr>\n",
       "      <th>...</th>\n",
       "      <td>...</td>\n",
       "      <td>...</td>\n",
       "      <td>...</td>\n",
       "      <td>...</td>\n",
       "    </tr>\n",
       "    <tr>\n",
       "      <th>995</th>\n",
       "      <td>-2.022440</td>\n",
       "      <td>1.887551</td>\n",
       "      <td>0</td>\n",
       "      <td>6.641093</td>\n",
       "    </tr>\n",
       "    <tr>\n",
       "      <th>996</th>\n",
       "      <td>0.411179</td>\n",
       "      <td>-1.655833</td>\n",
       "      <td>0</td>\n",
       "      <td>-2.525509</td>\n",
       "    </tr>\n",
       "    <tr>\n",
       "      <th>997</th>\n",
       "      <td>0.155706</td>\n",
       "      <td>-0.992197</td>\n",
       "      <td>0</td>\n",
       "      <td>-1.381373</td>\n",
       "    </tr>\n",
       "    <tr>\n",
       "      <th>998</th>\n",
       "      <td>-1.510241</td>\n",
       "      <td>0.828438</td>\n",
       "      <td>0</td>\n",
       "      <td>3.342528</td>\n",
       "    </tr>\n",
       "    <tr>\n",
       "      <th>999</th>\n",
       "      <td>-1.744187</td>\n",
       "      <td>0.857147</td>\n",
       "      <td>0</td>\n",
       "      <td>3.780761</td>\n",
       "    </tr>\n",
       "  </tbody>\n",
       "</table>\n",
       "<p>1000 rows × 4 columns</p>\n",
       "</div>"
      ],
      "text/plain": [
       "           S1        S2  A         R\n",
       "0    0.034775  2.453145  1  6.025941\n",
       "1    0.084880 -1.234459  0 -1.121537\n",
       "2   -0.144626  2.040543  1  4.806875\n",
       "3    0.148426 -0.021139  1  1.637488\n",
       "4   -0.120852  1.377594  1  3.363393\n",
       "..        ...       ... ..       ...\n",
       "995 -2.022440  1.887551  0  6.641093\n",
       "996  0.411179 -1.655833  0 -2.525509\n",
       "997  0.155706 -0.992197  0 -1.381373\n",
       "998 -1.510241  0.828438  0  3.342528\n",
       "999 -1.744187  0.857147  0  3.780761\n",
       "\n",
       "[1000 rows x 4 columns]"
      ]
     },
     "execution_count": 1,
     "metadata": {},
     "output_type": "execute_result"
    }
   ],
   "source": [
    "import warnings\n",
    "warnings.filterwarnings('ignore')\n",
    "from causaldm._util_causaldm import *\n",
    "\n",
    "n0 = (10**3)  # the number of samples used to estimate the true reward distribution by MC\n",
    "data_sim = get_data_simulation(n0 = n0, seed = 223, policy = \"behavior\")\n",
    "data_sim"
   ]
  },
  {
   "cell_type": "markdown",
   "metadata": {
    "id": "vq4Bm0fcQSwP"
   },
   "source": [
    "### Calculating the Quantile Optimal Treatment Regime"
   ]
  },
  {
   "cell_type": "code",
   "execution_count": 4,
   "metadata": {},
   "outputs": [],
   "source": [
    "# initialize the learner\n",
    "from causaldm.learners.CPL13.disc.DR_QuantileOTR import *\n",
    "# import os\n",
    "# os.chdir('/Users/alinaxu/Documents/CDM/CausalDM')\n",
    "\n",
    "Quantile_OTR=QuantileOTR()\n",
    "\n",
    "# when a=1, Y ~ 1+x1+2.5*x2\n",
    "# when a=0, Y ~ 1-x1+2*x2\n",
    "moCondQuant_0 = ['S1', 'S2']\n",
    "moCondQuant_1 = ['S1', 'S2']"
   ]
  },
  {
   "cell_type": "code",
   "execution_count": 14,
   "metadata": {},
   "outputs": [
    {
     "name": "stdout",
     "output_type": "stream",
     "text": [
      "Optimization terminated successfully.\n",
      "         Current function value: 0.129150\n",
      "         Iterations: 17\n",
      "         Function evaluations: 18\n",
      "         Gradient evaluations: 18\n",
      " final_simplex: (array([[ 3.0401e-04, -2.0062e-04, -5.3241e-05],\n",
      "       [ 2.9385e-04, -1.9699e-04, -4.9649e-05],\n",
      "       [ 2.9516e-04, -2.0098e-04, -4.7645e-05],\n",
      "       [ 2.9178e-04, -1.9988e-04, -4.6791e-05]]), array([-3.1197, -3.1197, -3.1197, -3.1197]))\n",
      "           fun: -3.119701027689532\n",
      "       message: 'Optimization terminated successfully.'\n",
      "          nfev: 53\n",
      "           nit: 21\n",
      "        status: 0\n",
      "       success: True\n",
      "             x: array([ 3.0401e-04, -2.0062e-04, -5.3241e-05])\n"
     ]
    }
   ],
   "source": [
    "coefficient, coef_original_scale, Q_est=Quantile_OTR.DR_Qopt(data=data_sim, tau=0.5, moCondQuant_0=moCondQuant_0, moCondQuant_1=moCondQuant_1,moPropen = \"NotBinaryRandom\")"
   ]
  },
  {
   "cell_type": "code",
   "execution_count": 15,
   "metadata": {
    "colab": {
     "base_uri": "https://localhost:8080/"
    },
    "executionInfo": {
     "elapsed": 379,
     "status": "ok",
     "timestamp": 1646881835902,
     "user": {
      "displayName": "Yang Xu",
      "photoUrl": "https://lh3.googleusercontent.com/a-/AOh14GiwmFvGwaija8HCAZKtLkFQJjRWaWko5tV_i1Zd=s64",
      "userId": "12270366590264264299"
     },
     "user_tz": 300
    },
    "id": "mbsVGvdVBtZP",
    "outputId": "4eb0e274-725c-452a-b57d-a2032c326c7f"
   },
   "outputs": [
    {
     "data": {
      "text/plain": [
       "array([ 0.0000e+00, -3.3468e-05, -7.7854e-06])"
      ]
     },
     "execution_count": 15,
     "metadata": {},
     "output_type": "execute_result"
    }
   ],
   "source": [
    "# the coefficient that maximize the quantile\n",
    "coef_original_scale"
   ]
  },
  {
   "cell_type": "code",
   "execution_count": 16,
   "metadata": {
    "colab": {
     "base_uri": "https://localhost:8080/"
    },
    "executionInfo": {
     "elapsed": 375,
     "status": "ok",
     "timestamp": 1646881843303,
     "user": {
      "displayName": "Yang Xu",
      "photoUrl": "https://lh3.googleusercontent.com/a-/AOh14GiwmFvGwaija8HCAZKtLkFQJjRWaWko5tV_i1Zd=s64",
      "userId": "12270366590264264299"
     },
     "user_tz": 300
    },
    "id": "haB3XPvrBugS",
    "outputId": "95e61ea4-2760-47f3-b190-415adc2327cc"
   },
   "outputs": [
    {
     "data": {
      "text/plain": [
       "3.119701027689532"
      ]
     },
     "execution_count": 16,
     "metadata": {},
     "output_type": "execute_result"
    }
   ],
   "source": [
    "# the estimated quantile that corresponds to the optimized coefficient\n",
    "Q_est"
   ]
  },
  {
   "cell_type": "markdown",
   "metadata": {
    "id": "tpiNRm0SFQfF"
   },
   "source": [
    "## Demo on Real dataset"
   ]
  },
  {
   "cell_type": "markdown",
   "metadata": {},
   "source": [
    "### Data Processing"
   ]
  },
  {
   "cell_type": "code",
   "execution_count": 10,
   "metadata": {
    "colab": {
     "base_uri": "https://localhost:8080/",
     "height": 49,
     "referenced_widgets": [
      "35d0b153a5724fac90b55ae561522410",
      "544c78f58a0c4099b7e0af8da82deac0",
      "0ecfa549f36048d29e15fa4ce5d1b6cb",
      "e23e3e20b7e24122b964e36a01292084",
      "038042491a644f518f4cd915ab69cf2a",
      "a58962c48e25465d9285f976ca1c558b",
      "460c5d27180c41d798a26b054752b0ff",
      "13fe448f6fe94de3bf898a3997004adb",
      "23bf1d3a28db44508546297d43989910",
      "539cf871c1634058a21429d073d82ed3",
      "689013bf883a4b7ab34287987a2d63f5"
     ]
    },
    "executionInfo": {
     "elapsed": 1534,
     "status": "ok",
     "timestamp": 1646881938253,
     "user": {
      "displayName": "Yang Xu",
      "photoUrl": "https://lh3.googleusercontent.com/a-/AOh14GiwmFvGwaija8HCAZKtLkFQJjRWaWko5tV_i1Zd=s64",
      "userId": "12270366590264264299"
     },
     "user_tz": 300
    },
    "id": "usmkNSUXL84D",
    "outputId": "a1bba740-8322-4683-fb27-7bd1be0cb766"
   },
   "outputs": [
    {
     "data": {
      "text/html": [
       "<div>\n",
       "<style scoped>\n",
       "    .dataframe tbody tr th:only-of-type {\n",
       "        vertical-align: middle;\n",
       "    }\n",
       "\n",
       "    .dataframe tbody tr th {\n",
       "        vertical-align: top;\n",
       "    }\n",
       "\n",
       "    .dataframe thead th {\n",
       "        text-align: right;\n",
       "    }\n",
       "</style>\n",
       "<table border=\"1\" class=\"dataframe\">\n",
       "  <thead>\n",
       "    <tr style=\"text-align: right;\">\n",
       "      <th></th>\n",
       "      <th>recency</th>\n",
       "      <th>history_segment</th>\n",
       "      <th>history</th>\n",
       "      <th>mens</th>\n",
       "      <th>womens</th>\n",
       "      <th>zip_code</th>\n",
       "      <th>newbie</th>\n",
       "      <th>channel</th>\n",
       "    </tr>\n",
       "  </thead>\n",
       "  <tbody>\n",
       "    <tr>\n",
       "      <th>0</th>\n",
       "      <td>10</td>\n",
       "      <td>2) $100 - $200</td>\n",
       "      <td>142.44</td>\n",
       "      <td>1</td>\n",
       "      <td>0</td>\n",
       "      <td>Surburban</td>\n",
       "      <td>0</td>\n",
       "      <td>Phone</td>\n",
       "    </tr>\n",
       "    <tr>\n",
       "      <th>1</th>\n",
       "      <td>6</td>\n",
       "      <td>3) $200 - $350</td>\n",
       "      <td>329.08</td>\n",
       "      <td>1</td>\n",
       "      <td>1</td>\n",
       "      <td>Rural</td>\n",
       "      <td>1</td>\n",
       "      <td>Web</td>\n",
       "    </tr>\n",
       "    <tr>\n",
       "      <th>2</th>\n",
       "      <td>7</td>\n",
       "      <td>2) $100 - $200</td>\n",
       "      <td>180.65</td>\n",
       "      <td>0</td>\n",
       "      <td>1</td>\n",
       "      <td>Surburban</td>\n",
       "      <td>1</td>\n",
       "      <td>Web</td>\n",
       "    </tr>\n",
       "    <tr>\n",
       "      <th>3</th>\n",
       "      <td>9</td>\n",
       "      <td>5) $500 - $750</td>\n",
       "      <td>675.83</td>\n",
       "      <td>1</td>\n",
       "      <td>0</td>\n",
       "      <td>Rural</td>\n",
       "      <td>1</td>\n",
       "      <td>Web</td>\n",
       "    </tr>\n",
       "    <tr>\n",
       "      <th>4</th>\n",
       "      <td>2</td>\n",
       "      <td>1) $0 - $100</td>\n",
       "      <td>45.34</td>\n",
       "      <td>1</td>\n",
       "      <td>0</td>\n",
       "      <td>Urban</td>\n",
       "      <td>0</td>\n",
       "      <td>Web</td>\n",
       "    </tr>\n",
       "    <tr>\n",
       "      <th>...</th>\n",
       "      <td>...</td>\n",
       "      <td>...</td>\n",
       "      <td>...</td>\n",
       "      <td>...</td>\n",
       "      <td>...</td>\n",
       "      <td>...</td>\n",
       "      <td>...</td>\n",
       "      <td>...</td>\n",
       "    </tr>\n",
       "    <tr>\n",
       "      <th>63995</th>\n",
       "      <td>10</td>\n",
       "      <td>2) $100 - $200</td>\n",
       "      <td>105.54</td>\n",
       "      <td>1</td>\n",
       "      <td>0</td>\n",
       "      <td>Urban</td>\n",
       "      <td>0</td>\n",
       "      <td>Web</td>\n",
       "    </tr>\n",
       "    <tr>\n",
       "      <th>63996</th>\n",
       "      <td>5</td>\n",
       "      <td>1) $0 - $100</td>\n",
       "      <td>38.91</td>\n",
       "      <td>0</td>\n",
       "      <td>1</td>\n",
       "      <td>Urban</td>\n",
       "      <td>1</td>\n",
       "      <td>Phone</td>\n",
       "    </tr>\n",
       "    <tr>\n",
       "      <th>63997</th>\n",
       "      <td>6</td>\n",
       "      <td>1) $0 - $100</td>\n",
       "      <td>29.99</td>\n",
       "      <td>1</td>\n",
       "      <td>0</td>\n",
       "      <td>Urban</td>\n",
       "      <td>1</td>\n",
       "      <td>Phone</td>\n",
       "    </tr>\n",
       "    <tr>\n",
       "      <th>63998</th>\n",
       "      <td>1</td>\n",
       "      <td>5) $500 - $750</td>\n",
       "      <td>552.94</td>\n",
       "      <td>1</td>\n",
       "      <td>0</td>\n",
       "      <td>Surburban</td>\n",
       "      <td>1</td>\n",
       "      <td>Multichannel</td>\n",
       "    </tr>\n",
       "    <tr>\n",
       "      <th>63999</th>\n",
       "      <td>1</td>\n",
       "      <td>4) $350 - $500</td>\n",
       "      <td>472.82</td>\n",
       "      <td>0</td>\n",
       "      <td>1</td>\n",
       "      <td>Surburban</td>\n",
       "      <td>0</td>\n",
       "      <td>Web</td>\n",
       "    </tr>\n",
       "  </tbody>\n",
       "</table>\n",
       "<p>64000 rows × 8 columns</p>\n",
       "</div>"
      ],
      "text/plain": [
       "       recency history_segment  history  mens  womens   zip_code  newbie  \\\n",
       "0           10  2) $100 - $200   142.44     1       0  Surburban       0   \n",
       "1            6  3) $200 - $350   329.08     1       1      Rural       1   \n",
       "2            7  2) $100 - $200   180.65     0       1  Surburban       1   \n",
       "3            9  5) $500 - $750   675.83     1       0      Rural       1   \n",
       "4            2    1) $0 - $100    45.34     1       0      Urban       0   \n",
       "...        ...             ...      ...   ...     ...        ...     ...   \n",
       "63995       10  2) $100 - $200   105.54     1       0      Urban       0   \n",
       "63996        5    1) $0 - $100    38.91     0       1      Urban       1   \n",
       "63997        6    1) $0 - $100    29.99     1       0      Urban       1   \n",
       "63998        1  5) $500 - $750   552.94     1       0  Surburban       1   \n",
       "63999        1  4) $350 - $500   472.82     0       1  Surburban       0   \n",
       "\n",
       "            channel  \n",
       "0             Phone  \n",
       "1               Web  \n",
       "2               Web  \n",
       "3               Web  \n",
       "4               Web  \n",
       "...             ...  \n",
       "63995           Web  \n",
       "63996         Phone  \n",
       "63997         Phone  \n",
       "63998  Multichannel  \n",
       "63999           Web  \n",
       "\n",
       "[64000 rows x 8 columns]"
      ]
     },
     "execution_count": 10,
     "metadata": {},
     "output_type": "execute_result"
    }
   ],
   "source": [
    "# !pip install scikit-uplift\n",
    "from sklift.datasets import fetch_hillstrom\n",
    "# continuous Y\n",
    "data, target, treatment = fetch_hillstrom(target_col='spend', return_X_y_t=True)\n",
    "data # the raw data"
   ]
  },
  {
   "cell_type": "code",
   "execution_count": 11,
   "metadata": {
    "colab": {
     "base_uri": "https://localhost:8080/"
    },
    "executionInfo": {
     "elapsed": 4,
     "status": "ok",
     "timestamp": 1646881942382,
     "user": {
      "displayName": "Yang Xu",
      "photoUrl": "https://lh3.googleusercontent.com/a-/AOh14GiwmFvGwaija8HCAZKtLkFQJjRWaWko5tV_i1Zd=s64",
      "userId": "12270366590264264299"
     },
     "user_tz": 300
    },
    "id": "tZ7FM7IUOBwy",
    "outputId": "f08b9049-6584-4193-82e0-3cab5da79b9b"
   },
   "outputs": [
    {
     "data": {
      "text/plain": [
       "578"
      ]
     },
     "execution_count": 11,
     "metadata": {},
     "output_type": "execute_result"
    }
   ],
   "source": [
    "np.sum(target!=0) # only 578 samples among a total of 64000 have non-zero spend"
   ]
  },
  {
   "cell_type": "code",
   "execution_count": 12,
   "metadata": {
    "colab": {
     "base_uri": "https://localhost:8080/",
     "height": 70
    },
    "executionInfo": {
     "elapsed": 481,
     "status": "ok",
     "timestamp": 1646881945324,
     "user": {
      "displayName": "Yang Xu",
      "photoUrl": "https://lh3.googleusercontent.com/a-/AOh14GiwmFvGwaija8HCAZKtLkFQJjRWaWko5tV_i1Zd=s64",
      "userId": "12270366590264264299"
     },
     "user_tz": 300
    },
    "id": "08owpE7_FVU6",
    "outputId": "255fcb34-e9b8-4481-8710-2b516abdb77e"
   },
   "outputs": [
    {
     "data": {
      "text/html": [
       "<div>\n",
       "<style scoped>\n",
       "    .dataframe tbody tr th:only-of-type {\n",
       "        vertical-align: middle;\n",
       "    }\n",
       "\n",
       "    .dataframe tbody tr th {\n",
       "        vertical-align: top;\n",
       "    }\n",
       "\n",
       "    .dataframe thead th {\n",
       "        text-align: right;\n",
       "    }\n",
       "</style>\n",
       "<table border=\"1\" class=\"dataframe\">\n",
       "  <thead>\n",
       "    <tr style=\"text-align: right;\">\n",
       "      <th></th>\n",
       "      <th>recency</th>\n",
       "      <th>history</th>\n",
       "      <th>mens</th>\n",
       "      <th>womens</th>\n",
       "      <th>newbie</th>\n",
       "      <th>zip_code_Surburban</th>\n",
       "      <th>zip_code_Urban</th>\n",
       "      <th>channel_Phone</th>\n",
       "      <th>channel_Web</th>\n",
       "      <th>A</th>\n",
       "      <th>R</th>\n",
       "    </tr>\n",
       "  </thead>\n",
       "  <tbody>\n",
       "    <tr>\n",
       "      <th>217</th>\n",
       "      <td>10</td>\n",
       "      <td>88.37</td>\n",
       "      <td>0</td>\n",
       "      <td>1</td>\n",
       "      <td>0</td>\n",
       "      <td>0</td>\n",
       "      <td>1</td>\n",
       "      <td>1</td>\n",
       "      <td>0</td>\n",
       "      <td>1</td>\n",
       "      <td>29.99</td>\n",
       "    </tr>\n",
       "    <tr>\n",
       "      <th>267</th>\n",
       "      <td>4</td>\n",
       "      <td>297.80</td>\n",
       "      <td>1</td>\n",
       "      <td>1</td>\n",
       "      <td>0</td>\n",
       "      <td>0</td>\n",
       "      <td>1</td>\n",
       "      <td>1</td>\n",
       "      <td>0</td>\n",
       "      <td>1</td>\n",
       "      <td>264.66</td>\n",
       "    </tr>\n",
       "    <tr>\n",
       "      <th>332</th>\n",
       "      <td>10</td>\n",
       "      <td>29.99</td>\n",
       "      <td>0</td>\n",
       "      <td>1</td>\n",
       "      <td>0</td>\n",
       "      <td>1</td>\n",
       "      <td>0</td>\n",
       "      <td>0</td>\n",
       "      <td>1</td>\n",
       "      <td>0</td>\n",
       "      <td>149.28</td>\n",
       "    </tr>\n",
       "    <tr>\n",
       "      <th>451</th>\n",
       "      <td>6</td>\n",
       "      <td>265.61</td>\n",
       "      <td>0</td>\n",
       "      <td>1</td>\n",
       "      <td>1</td>\n",
       "      <td>1</td>\n",
       "      <td>0</td>\n",
       "      <td>0</td>\n",
       "      <td>0</td>\n",
       "      <td>1</td>\n",
       "      <td>42.66</td>\n",
       "    </tr>\n",
       "    <tr>\n",
       "      <th>459</th>\n",
       "      <td>1</td>\n",
       "      <td>101.99</td>\n",
       "      <td>0</td>\n",
       "      <td>1</td>\n",
       "      <td>0</td>\n",
       "      <td>1</td>\n",
       "      <td>0</td>\n",
       "      <td>0</td>\n",
       "      <td>1</td>\n",
       "      <td>1</td>\n",
       "      <td>29.99</td>\n",
       "    </tr>\n",
       "    <tr>\n",
       "      <th>...</th>\n",
       "      <td>...</td>\n",
       "      <td>...</td>\n",
       "      <td>...</td>\n",
       "      <td>...</td>\n",
       "      <td>...</td>\n",
       "      <td>...</td>\n",
       "      <td>...</td>\n",
       "      <td>...</td>\n",
       "      <td>...</td>\n",
       "      <td>...</td>\n",
       "      <td>...</td>\n",
       "    </tr>\n",
       "    <tr>\n",
       "      <th>63466</th>\n",
       "      <td>9</td>\n",
       "      <td>536.80</td>\n",
       "      <td>1</td>\n",
       "      <td>1</td>\n",
       "      <td>1</td>\n",
       "      <td>0</td>\n",
       "      <td>0</td>\n",
       "      <td>0</td>\n",
       "      <td>1</td>\n",
       "      <td>0</td>\n",
       "      <td>117.84</td>\n",
       "    </tr>\n",
       "    <tr>\n",
       "      <th>63552</th>\n",
       "      <td>2</td>\n",
       "      <td>980.39</td>\n",
       "      <td>1</td>\n",
       "      <td>0</td>\n",
       "      <td>1</td>\n",
       "      <td>0</td>\n",
       "      <td>1</td>\n",
       "      <td>1</td>\n",
       "      <td>0</td>\n",
       "      <td>0</td>\n",
       "      <td>90.57</td>\n",
       "    </tr>\n",
       "    <tr>\n",
       "      <th>63743</th>\n",
       "      <td>5</td>\n",
       "      <td>210.12</td>\n",
       "      <td>0</td>\n",
       "      <td>1</td>\n",
       "      <td>0</td>\n",
       "      <td>1</td>\n",
       "      <td>0</td>\n",
       "      <td>1</td>\n",
       "      <td>0</td>\n",
       "      <td>1</td>\n",
       "      <td>113.44</td>\n",
       "    </tr>\n",
       "    <tr>\n",
       "      <th>63876</th>\n",
       "      <td>2</td>\n",
       "      <td>215.61</td>\n",
       "      <td>1</td>\n",
       "      <td>0</td>\n",
       "      <td>0</td>\n",
       "      <td>0</td>\n",
       "      <td>0</td>\n",
       "      <td>0</td>\n",
       "      <td>1</td>\n",
       "      <td>1</td>\n",
       "      <td>99.49</td>\n",
       "    </tr>\n",
       "    <tr>\n",
       "      <th>63883</th>\n",
       "      <td>1</td>\n",
       "      <td>239.70</td>\n",
       "      <td>1</td>\n",
       "      <td>1</td>\n",
       "      <td>1</td>\n",
       "      <td>0</td>\n",
       "      <td>1</td>\n",
       "      <td>0</td>\n",
       "      <td>1</td>\n",
       "      <td>1</td>\n",
       "      <td>154.20</td>\n",
       "    </tr>\n",
       "  </tbody>\n",
       "</table>\n",
       "<p>578 rows × 11 columns</p>\n",
       "</div>"
      ],
      "text/plain": [
       "       recency  history  mens  womens  newbie  zip_code_Surburban  \\\n",
       "217         10    88.37     0       1       0                   0   \n",
       "267          4   297.80     1       1       0                   0   \n",
       "332         10    29.99     0       1       0                   1   \n",
       "451          6   265.61     0       1       1                   1   \n",
       "459          1   101.99     0       1       0                   1   \n",
       "...        ...      ...   ...     ...     ...                 ...   \n",
       "63466        9   536.80     1       1       1                   0   \n",
       "63552        2   980.39     1       0       1                   0   \n",
       "63743        5   210.12     0       1       0                   1   \n",
       "63876        2   215.61     1       0       0                   0   \n",
       "63883        1   239.70     1       1       1                   0   \n",
       "\n",
       "       zip_code_Urban  channel_Phone  channel_Web  A       R  \n",
       "217                 1              1            0  1   29.99  \n",
       "267                 1              1            0  1  264.66  \n",
       "332                 0              0            1  0  149.28  \n",
       "451                 0              0            0  1   42.66  \n",
       "459                 0              0            1  1   29.99  \n",
       "...               ...            ...          ... ..     ...  \n",
       "63466               0              0            1  0  117.84  \n",
       "63552               1              1            0  0   90.57  \n",
       "63743               0              1            0  1  113.44  \n",
       "63876               0              0            1  1   99.49  \n",
       "63883               1              0            1  1  154.20  \n",
       "\n",
       "[578 rows x 11 columns]"
      ]
     },
     "execution_count": 12,
     "metadata": {},
     "output_type": "execute_result"
    }
   ],
   "source": [
    "treatment.replace(['Womens E-Mail', 'No E-Mail', 'Mens E-Mail'],[1, 0, 1], inplace=True) \n",
    "# use pd.concat to join the new columns with your original dataframe\n",
    "data = pd.concat([data,pd.get_dummies(data['zip_code'], prefix='zip_code')],axis=1)\n",
    "data = pd.concat([data,pd.get_dummies(data['channel'], prefix='channel')],axis=1)\n",
    "# now drop the original 'country' column (you don't need it anymore)\n",
    "data.drop(['zip_code'],axis=1, inplace=True)\n",
    "data.drop(['channel'],axis=1, inplace=True)\n",
    "data.drop(['history_segment'],axis=1, inplace=True)\n",
    "data.drop(['zip_code_Rural'],axis=1, inplace=True) # Rural as the reference group\n",
    "data.drop(['channel_Multichannel'],axis=1, inplace=True) # Multichannel as the reference group \n",
    "\n",
    "data_real=data[target>0].copy()\n",
    "#X['Intercept']=np.ones((len(data),1))\n",
    "data_real['A']=treatment[target>0]\n",
    "data_real['R']=target[target>0]\n",
    "\n",
    "# The final data we will use\n",
    "data_real"
   ]
  },
  {
   "cell_type": "markdown",
   "metadata": {
    "id": "vq4Bm0fcQSwP"
   },
   "source": [
    "### Calculating the Quantile Optimal Treatment Regime"
   ]
  },
  {
   "cell_type": "code",
   "execution_count": 20,
   "metadata": {},
   "outputs": [
    {
     "name": "stdout",
     "output_type": "stream",
     "text": [
      "Warning: Maximum number of iterations has been exceeded.\n",
      "         Current function value: 0.502953\n",
      "         Iterations: 35\n",
      "         Function evaluations: 44\n",
      "         Gradient evaluations: 39\n",
      " final_simplex: (array([[-1.6030e-04,  1.4421e-04,  1.4993e-04, -2.3665e-05,  1.3960e-04,\n",
      "        -1.4896e-04, -1.7105e-05,  1.7022e-04, -3.1808e-05, -4.7639e-05],\n",
      "       [-1.6023e-04,  1.4452e-04,  1.5004e-04, -2.3869e-05,  1.3954e-04,\n",
      "        -1.4917e-04, -1.7135e-05,  1.7018e-04, -3.1694e-05, -4.7577e-05],\n",
      "       [-1.6011e-04,  1.4439e-04,  1.5006e-04, -2.3797e-05,  1.3962e-04,\n",
      "        -1.4904e-04, -1.7309e-05,  1.7019e-04, -3.1724e-05, -4.7681e-05],\n",
      "       [-1.6011e-04,  1.4452e-04,  1.4997e-04, -2.3741e-05,  1.3956e-04,\n",
      "        -1.4910e-04, -1.7230e-05,  1.6997e-04, -3.1711e-05, -4.7590e-05],\n",
      "       [-1.5996e-04,  1.4419e-04,  1.5000e-04, -2.3787e-05,  1.3965e-04,\n",
      "        -1.4909e-04, -1.7180e-05,  1.7024e-04, -3.1827e-05, -4.7586e-05],\n",
      "       [-1.6015e-04,  1.4431e-04,  1.5006e-04, -2.3793e-05,  1.3960e-04,\n",
      "        -1.4907e-04, -1.7191e-05,  1.7016e-04, -3.1705e-05, -4.7622e-05],\n",
      "       [-1.6004e-04,  1.4441e-04,  1.4998e-04, -2.3839e-05,  1.3954e-04,\n",
      "        -1.4904e-04, -1.7254e-05,  1.7002e-04, -3.1724e-05, -4.7586e-05],\n",
      "       [-1.6015e-04,  1.4443e-04,  1.4999e-04, -2.3810e-05,  1.3956e-04,\n",
      "        -1.4902e-04, -1.7239e-05,  1.7018e-04, -3.1761e-05, -4.7565e-05],\n",
      "       [-1.6011e-04,  1.4438e-04,  1.5001e-04, -2.3824e-05,  1.3959e-04,\n",
      "        -1.4903e-04, -1.7140e-05,  1.7004e-04, -3.1754e-05, -4.7614e-05],\n",
      "       [-1.6021e-04,  1.4444e-04,  1.4994e-04, -2.3840e-05,  1.3955e-04,\n",
      "        -1.4907e-04, -1.7195e-05,  1.7017e-04, -3.1613e-05, -4.7616e-05],\n",
      "       [-1.5992e-04,  1.4450e-04,  1.4997e-04, -2.3838e-05,  1.3960e-04,\n",
      "        -1.4908e-04, -1.7125e-05,  1.7013e-04, -3.1732e-05, -4.7662e-05]]), array([-100.7475, -100.7475, -100.7475, -100.7475, -100.7475, -100.7475,\n",
      "       -100.7475, -100.7475, -100.7475, -100.7475, -100.7475]))\n",
      "           fun: -100.74748816774957\n",
      "       message: 'Optimization terminated successfully.'\n",
      "          nfev: 207\n",
      "           nit: 74\n",
      "        status: 0\n",
      "       success: True\n",
      "             x: array([-1.6030e-04,  1.4421e-04,  1.4993e-04, -2.3665e-05,  1.3960e-04,\n",
      "       -1.4896e-04, -1.7105e-05,  1.7022e-04, -3.1808e-05, -4.7639e-05])\n"
     ]
    }
   ],
   "source": [
    "# initialize the learner\n",
    "Quantile_OTR=QuantileOTR()\n",
    "\n",
    "moCondQuant_0 = ['recency',\t'history',\t'mens',\t'womens',\t'newbie',\t'zip_code_Surburban',\t'zip_code_Urban',\t'channel_Phone',\t'channel_Web']\n",
    "moCondQuant_1 = ['recency',\t'history',\t'mens',\t'womens',\t'newbie',\t'zip_code_Surburban',\t'zip_code_Urban',\t'channel_Phone',\t'channel_Web']\n",
    "\n",
    "coefficient, coef_original_scale, Q_est=Quantile_OTR.DR_Qopt(data=data_real, tau=0.5, moCondQuant_0=moCondQuant_0, moCondQuant_1=moCondQuant_1,moPropen = \"NotBinaryRandom\")"
   ]
  },
  {
   "cell_type": "code",
   "execution_count": 21,
   "metadata": {
    "colab": {
     "base_uri": "https://localhost:8080/"
    },
    "executionInfo": {
     "elapsed": 390,
     "status": "ok",
     "timestamp": 1646882014437,
     "user": {
      "displayName": "Yang Xu",
      "photoUrl": "https://lh3.googleusercontent.com/a-/AOh14GiwmFvGwaija8HCAZKtLkFQJjRWaWko5tV_i1Zd=s64",
      "userId": "12270366590264264299"
     },
     "user_tz": 300
    },
    "id": "WCjvgzk8x_A-",
    "outputId": "dca49e8e-a7a1-4316-85a8-e8ca17441b84"
   },
   "outputs": [
    {
     "data": {
      "text/plain": [
       "array([ 0.0000e+00,  1.3110e-05,  7.1020e-08, -2.3665e-05,  1.3960e-04,\n",
       "       -1.4896e-04, -1.7105e-05,  1.7022e-04, -3.1808e-05, -4.7639e-05])"
      ]
     },
     "execution_count": 21,
     "metadata": {},
     "output_type": "execute_result"
    }
   ],
   "source": [
    "# the coefficient that maximize the quantile\n",
    "coef_original_scale"
   ]
  },
  {
   "cell_type": "code",
   "execution_count": 22,
   "metadata": {
    "colab": {
     "base_uri": "https://localhost:8080/"
    },
    "executionInfo": {
     "elapsed": 379,
     "status": "ok",
     "timestamp": 1646882019124,
     "user": {
      "displayName": "Yang Xu",
      "photoUrl": "https://lh3.googleusercontent.com/a-/AOh14GiwmFvGwaija8HCAZKtLkFQJjRWaWko5tV_i1Zd=s64",
      "userId": "12270366590264264299"
     },
     "user_tz": 300
    },
    "id": "QSt1XIQpzFLd",
    "outputId": "c2c8b481-0f06-4148-9d95-e92227a0d0fa"
   },
   "outputs": [
    {
     "data": {
      "text/plain": [
       "100.74748816774957"
      ]
     },
     "execution_count": 22,
     "metadata": {},
     "output_type": "execute_result"
    }
   ],
   "source": [
    "# the estimated quantile that corresponds to the optimized coefficient\n",
    "Q_est"
   ]
  },
  {
   "cell_type": "code",
   "execution_count": 25,
   "metadata": {
    "colab": {
     "base_uri": "https://localhost:8080/",
     "height": 295
    },
    "executionInfo": {
     "elapsed": 502,
     "status": "ok",
     "timestamp": 1646882029528,
     "user": {
      "displayName": "Yang Xu",
      "photoUrl": "https://lh3.googleusercontent.com/a-/AOh14GiwmFvGwaija8HCAZKtLkFQJjRWaWko5tV_i1Zd=s64",
      "userId": "12270366590264264299"
     },
     "user_tz": 300
    },
    "id": "UEGQMb8xzH6M",
    "outputId": "3583da90-14a0-41e8-bcf7-f7a557d4f97c"
   },
   "outputs": [
    {
     "data": {
      "image/png": "[encoded data removed]",
      "text/plain": [
       "<Figure size 640x480 with 1 Axes>"
      ]
     },
     "metadata": {},
     "output_type": "display_data"
    }
   ],
   "source": [
    "n, bins, patches = plt.hist(data_real['R'], bins=100,density=True, facecolor = \"blue\",alpha=0.75)\n",
    "\n",
    "\n",
    "plt.xlabel('R1')\n",
    "plt.ylabel('Probability')\n",
    "plt.title('Histogram of Target')\n",
    "plt.xlim(np.min(data_real['R']-2), np.max(data_real['R']))\n",
    "plt.ylim(0, 0.2)\n",
    "plt.grid(True)\n",
    "plt.show()"
   ]
  },
  {
   "cell_type": "markdown",
   "metadata": {
    "id": "YPP9ck3kD5Tp"
   },
   "source": [
    "#  Quantile Off Policy Evaluation\n",
    "\n",
    "When facing sequential decision-making problems, it is of particular interest to evaluate the performance of applying a given policy on the agent. In real settings, we are interested in evaluating the outcome of some fixed policy $\\pi$, i.e. the target policy, while the data we have is often offline and collected from another potentially different policy $b$, i.e. the behavior policy. \n",
    "\n",
    "[Xu et al. 2022 [3]](https://arxiv.org/abs/2212.14466) proposed a doubly-robust inference procedure for quantile off-policy evaluation (OPE) in sequential decision making and study its asymptotic properties. In particular, the state-of-the-art deep conditional generative learning methods were conducted to handle parameter-dependent nuisance function estimation. \n",
    "\n"
   ]
  },
  {
   "cell_type": "markdown",
   "metadata": {},
   "source": [
    "##  Main idea\n",
    "The doubly robust estimator of quantile estimation is\n",
    "\\begin{equation}\n",
    "    \\hat{\\eta}_n=\\arg\\min_{\\eta} \\frac{1}{n}\\sum_{i=1}^n\\left[\\frac{C(A_i,X_i)}{\\hat{K}_C(X_i)}\\rho_{\\tau}(Y_i-\\eta)+\\left(1-\\frac{C(A_i,X_i)}{\\hat{K}_C(X_i)}\\right)\\hat{\\mathbb{E}}[\\rho_{\\tau}(\\hat{Y}-\\eta)|X=X_i,A=\\pi(X_i)]\\right],\n",
    "\\end{equation}\n",
    "where $\\hat{K}_C(X)=\\hat{b}(X)\\pi(X)+(1-\\hat{b}(X))(1-\\pi(X))$, and \n",
    "\\begin{equation*}\n",
    "    \\hat{\\mathbb{E}}[\\rho_{\\tau}(\\hat{Y}-\\eta)|A=\\pi(X_i),X=X_i]=\\frac{1}{M}\\sum_{j=1}^M \\rho(\\hat{Y}_j-\\eta),\n",
    "\\end{equation*}\n",
    "in which $\\{\\hat{Y}_j\\}_{j=1}^M$ are the random outcomes we generated from some estimated data generating model given $X_i$ and policy $\\pi$.\n",
    "\n",
    "In function QDR_QOPE(), $\\hat{Y}$ is estimated by Mixture Density Network (MDN), and the propensity score is estimated by Gradient Boosting Decision Tree (GBDT). To futher reduce the bias of the quanatile estimator, 5-folds cross fitting was also implemented by default.\n",
    "\n"
   ]
  },
  {
   "cell_type": "markdown",
   "metadata": {},
   "source": [
    "\n",
    "Next, we will use both the simulation data and a real dataset to illustrate the performance of Quantile Off Policy Evaluation.\n",
    "\n"
   ]
  },
  {
   "cell_type": "markdown",
   "metadata": {
    "id": "fg1qgLinBO_w"
   },
   "source": [
    "## Demo on Simulation data"
   ]
  },
  {
   "cell_type": "code",
   "execution_count": null,
   "metadata": {
    "colab": {
     "base_uri": "https://localhost:8080/"
    },
    "executionInfo": {
     "elapsed": 27088,
     "status": "ok",
     "timestamp": 1647473123986,
     "user": {
      "displayName": "Yang Xu",
      "photoUrl": "https://lh3.googleusercontent.com/a-/AOh14GiwmFvGwaija8HCAZKtLkFQJjRWaWko5tV_i1Zd=s64",
      "userId": "12270366590264264299"
     },
     "user_tz": 240
    },
    "id": "MEVBN5vFBoR9",
    "outputId": "ee2c1a3d-19fe-4165-f67e-04658b86e754"
   },
   "outputs": [
    {
     "name": "stdout",
     "output_type": "stream",
     "text": [
      "fold:  0\n",
      "fold:  1\n",
      "fold:  2\n",
      "fold:  3\n",
      "fold:  4\n"
     ]
    }
   ],
   "source": [
    "from causaldm.learners.CPL13.disc.DR_QuantileOPE import *\n",
    "def pi(X):\n",
    "    return 1 # all-1 policy\n",
    "Quantile_OTR=QuantileOPE()\n",
    "QOPE_est=Quantile_OTR.QDR_QOPE(data=data_sim, pi = pi,tau=0.5)"
   ]
  },
  {
   "cell_type": "code",
   "execution_count": null,
   "metadata": {
    "colab": {
     "base_uri": "https://localhost:8080/"
    },
    "executionInfo": {
     "elapsed": 20,
     "status": "ok",
     "timestamp": 1647473123988,
     "user": {
      "displayName": "Yang Xu",
      "photoUrl": "https://lh3.googleusercontent.com/a-/AOh14GiwmFvGwaija8HCAZKtLkFQJjRWaWko5tV_i1Zd=s64",
      "userId": "12270366590264264299"
     },
     "user_tz": 240
    },
    "id": "_d1BPed1BoR-",
    "outputId": "abbd2785-3ed2-40bb-e167-9ea754b4a4a8"
   },
   "outputs": [
    {
     "data": {
      "text/plain": [
       "2.927600463556344"
      ]
     },
     "execution_count": 243,
     "metadata": {},
     "output_type": "execute_result"
    }
   ],
   "source": [
    "QOPE_est # estimated quantile value at level tau for a given target policy pi"
   ]
  },
  {
   "cell_type": "markdown",
   "metadata": {
    "id": "5fCiYcfeBO_1"
   },
   "source": [
    "## Demo on Real dataset"
   ]
  },
  {
   "cell_type": "code",
   "execution_count": null,
   "metadata": {},
   "outputs": [],
   "source": [
    "# initialize the learner\n",
    "Quantile_OTR=QuantileOPE()\n",
    "def pi(X):\n",
    "    return 1 # all-1 policy\n",
    "\n",
    "QOPE_est=Quantile_OTR.QDR_QOPE(data=data_real, pi = pi, tau=0.5)"
   ]
  },
  {
   "cell_type": "code",
   "execution_count": null,
   "metadata": {
    "colab": {
     "base_uri": "https://localhost:8080/"
    },
    "executionInfo": {
     "elapsed": 29,
     "status": "ok",
     "timestamp": 1647473269596,
     "user": {
      "displayName": "Yang Xu",
      "photoUrl": "https://lh3.googleusercontent.com/a-/AOh14GiwmFvGwaija8HCAZKtLkFQJjRWaWko5tV_i1Zd=s64",
      "userId": "12270366590264264299"
     },
     "user_tz": 240
    },
    "id": "vEIlAGZFByMQ",
    "outputId": "4567b667-2329-43b8-d726-8501ecc92fef",
    "scrolled": true
   },
   "outputs": [
    {
     "data": {
      "text/plain": [
       "77.5961404868027"
      ]
     },
     "execution_count": 245,
     "metadata": {},
     "output_type": "execute_result"
    }
   ],
   "source": [
    "QOPE_est # estimated quantile value at level tau for a given target policy $\\pi$"
   ]
  },
  {
   "cell_type": "markdown",
   "metadata": {
    "id": "Imj47BToIycE"
   },
   "source": [
    "### Reference\n",
    "\n",
    "\n",
    "    [1] Lan Wang, Yu Zhou, Rui Song and Ben Sherwood. \"Quantile-Optimal Treatment Regimes.\" Journal of the American Statistical Association 2018; 113(523): 1243–1254.\n",
    "\n",
    "    [2] Moodie, Erica EM, Nema Dean, and Yue Ru Sun. \"Q-learning: Flexible learning about useful utilities.\" Statistics in Biosciences 6 (2014): 223-243.\n",
    "    \n",
    "    [3] Xu, Y., Shi, C., Luo, S., Wang, L., & Song, R. (2022). Quantile Off-Policy Evaluation via Deep Conditional Generative Learning. arXiv preprint arXiv:2212.14466.\n"
   ]
  },
  {
   "cell_type": "code",
   "execution_count": null,
   "metadata": {},
   "outputs": [],
   "source": []
  }
 ],
 "metadata": {
  "colab": {
   "authorship_tag": "ABX9TyPuy68o4GS6+fRQY9Q3sc6V",
   "collapsed_sections": [
    "fg1qgLinBO_w"
   ],
   "name": "QuantileOTR_test.ipynb",
   "provenance": []
  },
  "kernelspec": {
   "display_name": "Python 3 (ipykernel)",
   "language": "python",
   "name": "python3"
  },
  "language_info": {
   "codemirror_mode": {
    "name": "ipython",
    "version": 3
   },
   "file_extension": ".py",
   "mimetype": "text/x-python",
   "name": "python",
   "nbconvert_exporter": "python",
   "pygments_lexer": "ipython3",
   "version": "3.9.13"
  }
 },
 "nbformat": 4,
 "nbformat_minor": 1
}

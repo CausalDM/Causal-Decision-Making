{
 "cells": [
  {
   "cell_type": "markdown",
   "id": "XUdcqLkabYny",
   "metadata": {
    "id": "XUdcqLkabYny"
   },
   "source": [
    "## **Difference in Difference**\n",
    "\n",
    "### Background and Definition \n",
    "The difference-in-difference approach, or DiD, has been widely researched in economics and statistics during the past few decades. It serves as a quasi-experimental method to measure the changes of the outcome over time in panel data between the treatment and control.\n",
    "\n",
    "\n",
    "\n",
    "### Assumptions \n",
    "\n",
    "\n",
    "\n",
    "### Identification \n",
    "\n",
    "\n",
    "### Estimation\n",
    "\n",
    "\n",
    "### Extensions\n",
    "\n",
    "The difference of average outcomes for the $m$ treated units after and before the treatment time point is given by\n",
    "\\begin{equation}\n",
    "D_{\\text{tr}} = \\frac{1}{m} \\sum_{i=1}^m\\Big[\\frac{1}{T_1}\\sum_{t=T_0+1}^{T_0+T_1} Y_{i,t}-\\frac{1}{T_0} \\sum_{t=1}^{T_0} Y_{i,t}\\Big]\n",
    "\\end{equation}\n",
    "\n",
    "\n",
    "Similarly, the difference of average outcomes for the $n$ control units after and before the treatment time point is given by\n",
    "\\begin{equation}\n",
    "D_{\\text{co}} = \\frac{1}{n} \\sum_{i=m+1}^{m+n}\\Big[\\frac{1}{T_1}\\sum_{t=T_0+1}^{T_0+T_1} Y_{i,t}-\\frac{1}{T_0}\\sum_{t=1}^{T_0} Y_{i,t}\\Big]\n",
    "\\end{equation}\n",
    "\n",
    "Under the parallel trend assumption, we are able to subtract the effect that's not caused by treatment intervention:\n",
    "\\begin{equation}\n",
    "\\hat{\\Delta} = D_{\\text{tr}} - D_{\\text{co}} = \\frac{1}{m} \\sum_{i=1}^m\\Big[\\frac{1}{T_1}\\sum_{t=T_0+1}^{T_0+T_1} Y_{i,t}-\\frac{1}{T_0} \\sum_{t=1}^{T_0} Y_{i,t}\\Big] - \\frac{1}{n} \\sum_{i=m+1}^{m+n}\\Big[\\frac{1}{T_1}\\sum_{t=T_0+1}^{T_0+T_1} Y_{i,t}-\\frac{1}{T_0}\\sum_{t=1}^{T_0} Y_{i,t}\\Big].\n",
    "\\end{equation}"
   ]
  },
  {
   "cell_type": "code",
   "execution_count": null,
   "id": "LAtbTkgLbcZU",
   "metadata": {
    "id": "LAtbTkgLbcZU"
   },
   "outputs": [],
   "source": []
  },
  {
   "cell_type": "markdown",
   "id": "1098b550",
   "metadata": {
    "id": "1098b550"
   },
   "source": [
    "## References\n",
    "\n",
    "8. Susan Athey, Julie Tibshirani, and Stefan Wager. Generalized random forests. The Annals of Statistics, 47(2):1148–1178, 2019."
   ]
  },
  {
   "cell_type": "code",
   "execution_count": null,
   "id": "a12dcfc1",
   "metadata": {},
   "outputs": [],
   "source": []
  }
 ],
 "metadata": {
  "colab": {
   "collapsed_sections": [
    "1098b550"
   ],
   "provenance": []
  },
  "kernelspec": {
   "display_name": "Python 3 (ipykernel)",
   "language": "python",
   "name": "python3"
  },
  "language_info": {
   "codemirror_mode": {
    "name": "ipython",
    "version": 3
   },
   "file_extension": ".py",
   "mimetype": "text/x-python",
   "name": "python",
   "nbconvert_exporter": "python",
   "pygments_lexer": "ipython3",
   "version": "3.9.13"
  }
 },
 "nbformat": 4,
 "nbformat_minor": 5
}

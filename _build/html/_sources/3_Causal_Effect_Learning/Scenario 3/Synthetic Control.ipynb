{
 "cells": [
  {
   "cell_type": "markdown",
   "id": "XUdcqLkabYny",
   "metadata": {
    "id": "XUdcqLkabYny"
   },
   "source": [
    "### **Synthetic Control**\n",
    "\n",
    "Unlike the Difference-in-Differences (DiD) method, synthetic control is a frequently employed technique when dealing with datasets where there is a significant imbalance between the number of control units and treated units. DiD methods typically demand a high degree of comparability between the treated and control groups to establish the critical \"parallel trend\" assumption. However, this assumption becomes challenging to fulfill when the dataset contains only a limited number, or even just a single, treated unit, often due to issues related to data collection or funding constraints. In this situation, synthetic control aims to reweight the substantial information in control group to provide another perspective to learn the conterfactuals for treated unit(s).\n",
    "\n",
    "To illustrate the basic idea of synthetic control, we suppose that there are $N$ units and $T$ time periods in total, and denote $Y_{it}$ as the outcome for unit $i$ in period $t$. Without the loss of generality, e suppose the first $N_{\\text{co}}$ units are in the control group, who have no possibility to be exposed to treatment at any time. The rest $N_{\\text{tr}} := N-N_{\\text{co}}$ units belong to the treated group, and will receive treatment starting from period $T_0 +1$.\n",
    "\n",
    "\n",
    "There are two main steps in synthetic control methods: \n",
    "\n",
    "**Step 1:** Calculate the weights $\\hat{\\omega}_i^{\\text{sdid}}$ that align pre-exposure trends in the outcome of control units for treated units；\\\n",
    "\n",
    "\\begin{equation}\n",
    "    \\hat{Y}_{it} = \\hat{\\omega}_{i0} + \\sum_{j=1}^{N_{\\text{co}}}\\hat{\\omega}_{ij} Y_{jt}, \\qquad \\forall i\\in\\{N_{\\text{co}+1},\\dots, N\\}, \\forall t\\in \\{1,\\dots,T\\},\n",
    "\\end{equation}\n",
    "where \n",
    "\\begin{equation}\n",
    "\\hat{\\omega}_i = \\arg\\min_{\\omega} \\sum_{1\\leq t\\leq T_0} \\bigg(Y_{it} - \\omega_{i0} -\\sum_{j=1}^{N_{\\text{co}}} \\omega_{ij} Y_{jt}\\bigg)^2\n",
    "\\end{equation}\n",
    "\n",
    "\n",
    "**Step 2:** Use the weights to estimate the post-exposure conterfactuals in causal effect estimation.\n",
    "\n",
    "\n"
   ]
  },
  {
   "cell_type": "code",
   "execution_count": null,
   "id": "q5rFuX3UZt2l",
   "metadata": {
    "id": "q5rFuX3UZt2l"
   },
   "outputs": [],
   "source": [
    "# "
   ]
  },
  {
   "cell_type": "code",
   "execution_count": null,
   "id": "LAtbTkgLbcZU",
   "metadata": {
    "id": "LAtbTkgLbcZU"
   },
   "outputs": [],
   "source": []
  },
  {
   "cell_type": "markdown",
   "id": "1098b550",
   "metadata": {
    "id": "1098b550"
   },
   "source": [
    "## References\n",
    "\n",
    "1. Abadie, A., Diamond, A., and Hainmueller, J. (2010), “Synthetic Control Methods for Comparative Case Studies: Estimating the Effect of California’s Tobacco Control Program,” Journal of the American Statistical Association, 105, 493–505. [2068,2069,2070,2071]\n",
    "\n",
    "2. Li, K. T. (2020), “Statistical Inference for Average Treatment Effects Esti-mated by Synthetic Control Methods,”Journal of the American StatisticalAssociation, 115, 2068–2083. [1716]"
   ]
  },
  {
   "cell_type": "code",
   "execution_count": null,
   "id": "fc5ed54c",
   "metadata": {},
   "outputs": [],
   "source": []
  }
 ],
 "metadata": {
  "colab": {
   "collapsed_sections": [
    "1098b550"
   ],
   "provenance": []
  },
  "kernelspec": {
   "display_name": "Python 3 (ipykernel)",
   "language": "python",
   "name": "python3"
  },
  "language_info": {
   "codemirror_mode": {
    "name": "ipython",
    "version": 3
   },
   "file_extension": ".py",
   "mimetype": "text/x-python",
   "name": "python",
   "nbconvert_exporter": "python",
   "pygments_lexer": "ipython3",
   "version": "3.9.13"
  }
 },
 "nbformat": 4,
 "nbformat_minor": 5
}

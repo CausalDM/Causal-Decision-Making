{
 "cells": [
  {
   "cell_type": "markdown",
   "id": "c4b115ac-4e61-4c5d-a5a8-a849fd9b46b6",
   "metadata": {},
   "source": [
    "# Meta Thompson Sampling\n",
    "\n",
    "## Overview\n",
    "- **Advantage**: When task instances are sampled from the same unknown instance prior (i.e., the tasks are similar), it shares information across tasks to efficiently learn the common prior distribution of the mean rewards.\n",
    "- **Disadvantage**: When there is a large number of different tasks, the algorithm is not scalable and inefficient.\n",
    "- **Application Situation**: Useful when there are multiple **similar** multi-armed bandit tasks, each with the same action space. The reward space can be either binary or continuous.\n",
    "\n",
    "## Main Idea\n",
    "The **Meta-TS**[1] assumes that the mean reward for each task $j$ are i.i.d sampled from some distribution parameterized by $\\boldsymbol{\\gamma})$. Specifically, it assumes that\n",
    "\\begin{equation}\n",
    "  \\begin{alignedat}{2}\n",
    "&\\text{(meta-Prior)} \\quad\n",
    "\\quad\\quad\\quad    \\boldsymbol{\\gamma} &&\\sim Q(\\boldsymbol{\\gamma}), \\\\\n",
    "&\\text{(Prior)} \\quad\n",
    "\\; \\quad\\quad\\quad   \\boldsymbol{\\mu}_j | \\boldsymbol{x}_j, \\boldsymbol{\\gamma} &&\\sim g(\\boldsymbol{\\mu}_j | \\boldsymbol{\\gamma})\\\\\n",
    "&\\text{(Reward)} \\quad\n",
    "\\;    R_{j,t}(a) = Y_{j,t}(a) &&\\sim f(Y_{j,t}(a)|\\mu_{j,a}), \n",
    "      \\end{alignedat}\n",
    "\\end{equation}. \n",
    "\n",
    "**Gaussian**\n",
    "\n",
    "**Bernoulli**\n",
    "\n",
    "\n",
    "While the original algorithm only support the sequential interaction (i.e, a new task will be interacted with until the previous task is finished), we modified the algorithm slightly to adapt to different recommending schedules. \n",
    "\n",
    "## Key Steps\n",
    "For $(j,t) = (1,1),(1,2),\\cdots$:\n",
    "1. Approximate $P(\\boldsymbol{\\gamma}|\\mathcal{H})$ either by implementing **Pymc3** or by calculating the explicit form of the posterior distribution;\n",
    "2. Sample $\\tilde{\\boldsymbol{\\gamma}} \\sim P(\\boldsymbol{\\gamma}|\\mathcal{H})$;\n",
    "3. Update $P(\\boldsymbol{\\mu}|\\tilde{\\boldsymbol{\\gamma}},\\mathcal{H})$ and sample $\\tilde{\\boldsymbol{\\mu}} \\sim P(\\boldsymbol{\\mu}|\\tilde{\\boldsymbol{\\gamma}},\\mathcal{H})$;\n",
    "4. Take the action $A_{j,t}$ such that $A_{j,t} = argmax_{a \\in \\mathcal{A}} \\tilde\\mu_{j,a}$;\n",
    "6. Receive reward $R_{j,t}$."
   ]
  },
  {
   "cell_type": "markdown",
   "id": "e15d2146-d82c-4c02-a2a5-a1c3ad605cad",
   "metadata": {},
   "source": [
    "## References\n",
    "\n",
    "[1] Kveton, B., Konobeev, M., Zaheer, M., Hsu, C. W., Mladenov, M., Boutilier, C., & Szepesvari, C. (2021, July). Meta-thompson sampling. In International Conference on Machine Learning (pp. 5884-5893). PMLR.\n",
    "\n",
    "[2] Basu, S., Kveton, B., Zaheer, M., & Szepesvári, C. (2021). No regrets for learning the prior in bandits. Advances in Neural Information Processing Systems, 34, 28029-28041.\n"
   ]
  }
 ],
 "metadata": {
  "kernelspec": {
   "display_name": "Python 3 (ipykernel)",
   "language": "python",
   "name": "python3"
  },
  "language_info": {
   "codemirror_mode": {
    "name": "ipython",
    "version": 3
   },
   "file_extension": ".py",
   "mimetype": "text/x-python",
   "name": "python",
   "nbconvert_exporter": "python",
   "pygments_lexer": "ipython3",
   "version": "3.9.7"
  }
 },
 "nbformat": 4,
 "nbformat_minor": 5
}

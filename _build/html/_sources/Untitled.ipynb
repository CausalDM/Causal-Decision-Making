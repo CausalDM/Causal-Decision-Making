{
 "cells": [
  {
   "cell_type": "code",
   "execution_count": 4,
   "id": "26582117",
   "metadata": {},
   "outputs": [
    {
     "name": "stdout",
     "output_type": "stream",
     "text": [
      "Looking in indexes: https://test.pypi.org/simple/\n",
      "Requirement already satisfied: causaldm in /Users/alinaxu/opt/anaconda3/lib/python3.9/site-packages (0.0.1)\n",
      "Note: you may need to restart the kernel to use updated packages.\n"
     ]
    }
   ],
   "source": [
    "pip install -i https://test.pypi.org/simple/ causaldm"
   ]
  },
  {
   "cell_type": "code",
   "execution_count": 4,
   "id": "32fa9196",
   "metadata": {},
   "outputs": [
    {
     "name": "stdout",
     "output_type": "stream",
     "text": [
      "Looking in indexes: https://test.pypi.org/simple/\n",
      "Collecting causaldm==0.0.4\n",
      "  Downloading https://test-files.pythonhosted.org/packages/19/7e/0a9d671ce0370a9cba3ddd11d8088ecff7add8e0e0903b090639625ff076/causaldm-0.0.4-py3-none-any.whl (158 kB)\n",
      "\u001b[2K     \u001b[90m━━━━━━━━━━━━━━━━━━━━━━━━━━━━━━━━━━━━━━━\u001b[0m \u001b[32m158.2/158.2 kB\u001b[0m \u001b[31m3.6 MB/s\u001b[0m eta \u001b[36m0:00:00\u001b[0ma \u001b[36m0:00:01\u001b[0m\n",
      "\u001b[?25hInstalling collected packages: causaldm\n",
      "  Attempting uninstall: causaldm\n",
      "    Found existing installation: causaldm 0.0.1\n",
      "    Uninstalling causaldm-0.0.1:\n",
      "      Successfully uninstalled causaldm-0.0.1\n",
      "Successfully installed causaldm-0.0.4\n",
      "Note: you may need to restart the kernel to use updated packages.\n"
     ]
    }
   ],
   "source": [
    "pip install -i https://test.pypi.org/simple/ causaldm==0.0.4"
   ]
  },
  {
   "cell_type": "code",
   "execution_count": 5,
   "id": "e7362981",
   "metadata": {},
   "outputs": [],
   "source": [
    "from causaldm.learners.CEL.Single_Stage import DRlearner"
   ]
  },
  {
   "cell_type": "code",
   "execution_count": 7,
   "id": "c90efb90",
   "metadata": {},
   "outputs": [],
   "source": [
    "import causaldm.learners"
   ]
  },
  {
   "cell_type": "code",
   "execution_count": 8,
   "id": "a93716f9",
   "metadata": {},
   "outputs": [
    {
     "ename": "ModuleNotFoundError",
     "evalue": "No module named 'causaldm.data'",
     "output_type": "error",
     "traceback": [
      "\u001b[0;31m---------------------------------------------------------------------------\u001b[0m",
      "\u001b[0;31mModuleNotFoundError\u001b[0m                       Traceback (most recent call last)",
      "\u001b[0;32m/var/folders/9j/vb5nb4rd5bx0gr1q5ytx9q600000gn/T/ipykernel_2322/1816449200.py\u001b[0m in \u001b[0;36m<module>\u001b[0;34m\u001b[0m\n\u001b[0;32m----> 1\u001b[0;31m \u001b[0;32mimport\u001b[0m \u001b[0mcausaldm\u001b[0m\u001b[0;34m.\u001b[0m\u001b[0mdata\u001b[0m\u001b[0;34m\u001b[0m\u001b[0;34m\u001b[0m\u001b[0m\n\u001b[0m",
      "\u001b[0;31mModuleNotFoundError\u001b[0m: No module named 'causaldm.data'"
     ]
    }
   ],
   "source": [
    "import causaldm.data"
   ]
  },
  {
   "cell_type": "code",
   "execution_count": null,
   "id": "6fd01623",
   "metadata": {},
   "outputs": [],
   "source": []
  }
 ],
 "metadata": {
  "kernelspec": {
   "display_name": "Python 3 (ipykernel)",
   "language": "python",
   "name": "python3"
  },
  "language_info": {
   "codemirror_mode": {
    "name": "ipython",
    "version": 3
   },
   "file_extension": ".py",
   "mimetype": "text/x-python",
   "name": "python",
   "nbconvert_exporter": "python",
   "pygments_lexer": "ipython3",
   "version": "3.9.13"
  }
 },
 "nbformat": 4,
 "nbformat_minor": 5
}

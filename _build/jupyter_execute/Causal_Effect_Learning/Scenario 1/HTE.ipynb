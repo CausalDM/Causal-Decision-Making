{
 "cells": [
  {
   "cell_type": "markdown",
   "id": "112864aa",
   "metadata": {
    "id": "112864aa"
   },
   "source": [
    "# Heterogeneous Treatment Effect Estimation (Single Stage)\n",
    "In the previous section, we've introduced the estimation of average treatment effect, where we aims to estimate the difference of potential outcomes by executing action $A=1$ v.s. $A=0$. That is, \n",
    "\\begin{equation*}\n",
    "\\text{ATE}=\\mathbb{E}[R(1)-R(0)].\n",
    "\\end{equation*}\n",
    "\n",
    "In this section, we will focus on the estimation of heterogeneous treatment effect (HTE), which is also one of the main focuses in causal inference.\n",
    "\n",
    "\n",
    "\n",
    "## Main Idea\n",
    "Let's first consider the single stage setup, where the observed data can be written as a state-action-reward triplet $\\{S_i,A_i,R_i\\}_{i=1}^n$ with a total of $n$ trajectories. Heterogeneous treatment effect, as we can imagine from its terminology, aims to measure the heterogeneity of the treatment effect for different subjects. Specifically, we define HTE as $\\tau(s)$, where\n",
    "\\begin{equation*}\n",
    "\\tau(s)=\\mathbb{E}[R(1)-R(0)|S=s],\n",
    "\\end{equation*}\n",
    "\n",
    "where $S=s$ denotes the state information of a subject. \n",
    "\n",
    "The estimation of HTE is widely used in a lot of real cases such as precision medicine, advertising, recommendation systems, etc. For example, in adversiting system, the company would like to know the impact (such as annual income) of exposing an ad to a group of customers. In this case, $S$ contains all of the information of a specific customer, $A$ denotes the status of ads exposure ($A=1$ means exposed and $A=0$ means not), and $R$ denotes the reward one can observe when assigned to policy $A$. \n",
    "\n",
    "Suppose the ad is a picture of a dress that can lead the customers to a detail page on a shopping website. In this case, females are more likely to be interested to click the picture and look at the detail page of a dress, resulting in a higher conversion rate than males. The difference of customers preference in clothes can be regarded as the heterogeneity of the treatment effect. By looking at the HTE for each customer, we can clearly estimate the reward of ads exposure from a granular level. \n",
    "\n",
    "Another related concept is conditional averge treatment effect, which is defined as\n",
    "\\begin{equation*}\n",
    "\\text{CATE}=\\mathbb{E}[R(1)-R(0)|Z],\n",
    "\\end{equation*}\n",
    "\n",
    "where $Z$ is a collection of states with some specific characsteristics. For example, if the company is interested in the treatment effect of exposing the dress to female customers, $Z$ can be defined as ``female\", and the problem can be addressed under the structure CATE estimation.\n",
    "\n",
    "\n",
    "\n",
    "## Different approaches in single-stage HTE estimation\n",
    "Next, let's briefly summarize some state-of-the-art approaches in estimating the heterogeneous treatment effect. \n"
   ]
  },
  {
   "cell_type": "markdown",
   "id": "yfiI-lSZRuOP",
   "metadata": {
    "id": "yfiI-lSZRuOP"
   },
   "source": [
    "### **1. S-learner**\n",
    "\n",
    "\n",
    "The first estimator we would like to introduce is the S-learner, also known as a ``single learner\". This is one of the most foundamental learners in HTE esitmation, and is very easy to implement.\n",
    "\n",
    "Under three common assumptions in causal inference, i.e. (1) consistency, (2) no unmeasured confounders (NUC), (3) positivity assumption, the heterogeneous treatment effect can be identified by the observed data, where\n",
    "\\begin{equation*}\n",
    "\\tau(s)=\\mathbb{E}[R|S,A=1]-\\mathbb{E}[R|S,A=0].\n",
    "\\end{equation*}\n",
    "\n",
    "The basic idea of S-learner is to fit a model for $\\mathbb{E}[R|S,A]$, and then construct a plug-in estimator based on the expression above. Specifically, the algorithm can be summarized as below:\n",
    "\n",
    "**Step 1:**  Estimate the combined response function $\\mu(s,a):=\\mathbb{E}[R|S=s,A=a]$ with any regression algorithm or supervised machine learning methods;\n",
    "\n",
    "**Step 2:**  Estimate HTE by \n",
    "\\begin{equation*}\n",
    "\\hat{\\tau}_{\\text{S-learner}}(s)=\\hat\\mu(s,1)-\\hat\\mu(s,0).\n",
    "\\end{equation*}\n",
    "\n",
    "\n"
   ]
  },
  {
   "cell_type": "code",
   "execution_count": 1,
   "id": "eRpP5k9MBtzO",
   "metadata": {
    "id": "eRpP5k9MBtzO"
   },
   "outputs": [
    {
     "ename": "SyntaxError",
     "evalue": "invalid syntax (<ipython-input-1-7e6ad6907f91>, line 4)",
     "output_type": "error",
     "traceback": [
      "\u001b[1;36m  File \u001b[1;32m\"<ipython-input-1-7e6ad6907f91>\"\u001b[1;36m, line \u001b[1;32m4\u001b[0m\n\u001b[1;33m    ];\u001b[0m\n\u001b[1;37m     ^\u001b[0m\n\u001b[1;31mSyntaxError\u001b[0m\u001b[1;31m:\u001b[0m invalid syntax\n"
     ]
    }
   ],
   "source": [
    "{\n",
    "    \"tags\": [\n",
    "        \"hide-cell\"\n",
    "    ];\n",
    "    # import related packages\n",
    "    from matplotlib import pyplot as plt;\n",
    "    from lightgbm import LGBMRegressor;\n",
    "    from causaldm._util_causaldm import *;\n",
    "}"
   ]
  },
  {
   "cell_type": "code",
   "execution_count": null,
   "id": "JhfJntzcVVy2",
   "metadata": {
    "colab": {
     "base_uri": "https://localhost:8080/"
    },
    "executionInfo": {
     "elapsed": 21,
     "status": "ok",
     "timestamp": 1673119917682,
     "user": {
      "displayName": "Yang Xu",
      "userId": "12270366590264264299"
     },
     "user_tz": 300
    },
    "id": "JhfJntzcVVy2",
    "outputId": "f77b7e96-28a7-4dfa-f32e-e048c7850183"
   },
   "outputs": [
    {
     "data": {
      "text/plain": [
       "LGBMRegressor(max_depth=3)"
      ]
     },
     "execution_count": 107,
     "metadata": {},
     "output_type": "execute_result"
    }
   ],
   "source": [
    "# Get data\n",
    "S,A,R = get_data(target_col = 'spend', binary_trt = True)\n",
    "# S-learner\n",
    "np.random.seed(1)\n",
    "S_learner = LGBMRegressor(max_depth=3)\n",
    "SandA = np.hstack((S.to_numpy(),A.to_numpy().reshape(-1,1)))\n",
    "S_learner.fit(SandA, R)"
   ]
  },
  {
   "cell_type": "code",
   "execution_count": null,
   "id": "Vqsb5wLTaR0q",
   "metadata": {
    "colab": {
     "base_uri": "https://localhost:8080/"
    },
    "executionInfo": {
     "elapsed": 331,
     "status": "ok",
     "timestamp": 1673119875921,
     "user": {
      "displayName": "Yang Xu",
      "userId": "12270366590264264299"
     },
     "user_tz": 300
    },
    "id": "Vqsb5wLTaR0q",
    "outputId": "f01b429c-64bc-46c2-bf36-b3a06cb8c45b"
   },
   "outputs": [
    {
     "name": "stdout",
     "output_type": "stream",
     "text": [
      "[-12.5194  11.441  -28.8643  -8.5545  -4.3408  14.5518  15.424    0.2232]\n"
     ]
    }
   ],
   "source": [
    "S_learner_HTE = S_learner.predict(np.hstack((S.to_numpy(),np.ones(len(A)).reshape(-1,1)))) - S_learner.predict(np.hstack((S.to_numpy(),np.zeros(len(A)).reshape(-1,1))))\n",
    "\n",
    "print(S_learner_HTE[0:8])\n"
   ]
  },
  {
   "cell_type": "code",
   "execution_count": null,
   "id": "q1NIbBSItmXO",
   "metadata": {
    "colab": {
     "base_uri": "https://localhost:8080/"
    },
    "executionInfo": {
     "elapsed": 349,
     "status": "ok",
     "timestamp": 1673119838654,
     "user": {
      "displayName": "Yang Xu",
      "userId": "12270366590264264299"
     },
     "user_tz": 300
    },
    "id": "q1NIbBSItmXO",
    "outputId": "7a21b5b4-e18c-4e24-e172-7225e1cfc7b2"
   },
   "outputs": [
    {
     "data": {
      "text/plain": [
       "-1.1239195081318032"
      ]
     },
     "execution_count": 103,
     "metadata": {},
     "output_type": "execute_result"
    }
   ],
   "source": [
    "np.sum(S_learner_HTE)/578"
   ]
  },
  {
   "cell_type": "markdown",
   "id": "cMny8Ri7RvqC",
   "metadata": {
    "id": "cMny8Ri7RvqC"
   },
   "source": [
    "\n",
    "### **2. T-learner**\n",
    "The second learner is called T-learner, which denotes ``two learners\". Instead of fitting a single model to estimate the potential outcomes under both treatment and control groups, T-learner aims to learn different models for $\\mathbb{E}[R(1)|S]$ and $\\mathbb{E}[R(0)|S]$ separately, and finally combines them to obtain a final HTE estimtor.\n",
    "\n",
    "Define the control response function as $\\mu_0(s)=\\mathbb{E}[R(0)|S=s]$, and the treatment response function as $\\mu_1(s)=\\mathbb{E}[R(1)|S=s]$. The algorithm of T-learner is summarized below:\n",
    "\n",
    "**Step 1:**  Estimate $\\mu_0(s)$ and $\\mu_1(s)$ separately with any regression algorithms or supervised machine learning methods;\n",
    "\n",
    "**Step 2:**  Estimate HTE by \n",
    "\\begin{equation*}\n",
    "\\hat{\\tau}_{\\text{T-learner}}(s)=\\hat\\mu_1(s)-\\hat\\mu_0(s).\n",
    "\\end{equation*}\n",
    "\n"
   ]
  },
  {
   "cell_type": "code",
   "execution_count": null,
   "id": "X1VmlNjstdsN",
   "metadata": {
    "id": "X1VmlNjstdsN"
   },
   "outputs": [],
   "source": []
  },
  {
   "cell_type": "markdown",
   "id": "8lwheJQ8RxAw",
   "metadata": {
    "id": "8lwheJQ8RxAw"
   },
   "source": [
    "### **3. X-learner**\n",
    "Next, let's introduce the X-learner. As a combination of S-learner and T-learner, the X-learner can use information from the control(treatment) group to derive better estimators for the treatment(control) group, which is provably more efficient than the above two.\n",
    "\n",
    "The basic\n",
    "\n",
    "\n",
    "**Step 1:**  Estimate $\\mu_0(s)$ and $\\mu_1(s)$ separately with any regression algorithms or supervised machine learning methods (same as T-learner);\n",
    "\n",
    "\n",
    "**Step 2:**  Obtain the imputed treatment effects for individuals\n",
    "\\begin{equation*}\n",
    "\\tilde{\\Delta}_i^1:=R_i^1-\\hat\\mu_0(S_i^1), \\quad \\tilde{\\Delta}_i^0:=R_i^0-\\hat\\mu_0(S_i^0).\n",
    "\\end{equation*}\n",
    "\n",
    "**Step 3:**  Fit the imputed treatment effects to obtain $\\hat\\tau_1(s):=\\mathbb{E}[\\tilde{\\Delta}_i^1|S=s]$ and $\\hat\\tau_0(s):=\\mathbb{E}[\\tilde{\\Delta}_i^0|S=s]$;\n",
    "\n",
    "**Step 4:**  The final HTE estimator is given by\n",
    "\\begin{equation*}\n",
    "\\hat{\\tau}_{\\text{X-learner}}(s)=g(s)\\hat\\tau_0(s)+(1-g(s))\\hat\\tau_1(s),\n",
    "\\end{equation*}\n",
    "\n",
    "where $g(s)$ is a weight function."
   ]
  },
  {
   "cell_type": "markdown",
   "id": "32szzPY4RyWO",
   "metadata": {
    "id": "32szzPY4RyWO"
   },
   "source": [
    "### **4. R learner**\n",
    "\n",
    "\n"
   ]
  },
  {
   "cell_type": "markdown",
   "id": "J2z2JRumRzdo",
   "metadata": {
    "id": "J2z2JRumRzdo"
   },
   "source": [
    "### **5. DR-learner**\n",
    "\n",
    "\n",
    "\n"
   ]
  },
  {
   "cell_type": "markdown",
   "id": "YgKc3F0cR0Y4",
   "metadata": {
    "id": "YgKc3F0cR0Y4"
   },
   "source": [
    "### **6. Lp-R-learner**\n",
    "\n"
   ]
  },
  {
   "cell_type": "markdown",
   "id": "SgWh47pKR1XR",
   "metadata": {
    "id": "SgWh47pKR1XR"
   },
   "source": [
    "### **7. Causal Forest**\n",
    "\n",
    "\n",
    "\n"
   ]
  },
  {
   "cell_type": "markdown",
   "id": "I6Z2one4R3Aq",
   "metadata": {
    "id": "I6Z2one4R3Aq"
   },
   "source": [
    "## Demo Code\n",
    "In the following, we exhibit how to apply the learner on real data to do policy learning and policy evaluation, respectively."
   ]
  },
  {
   "cell_type": "markdown",
   "id": "e3559b08",
   "metadata": {
    "id": "e3559b08"
   },
   "source": [
    "### 1. Meta-Leaners"
   ]
  },
  {
   "cell_type": "markdown",
   "id": "46e83e1f",
   "metadata": {
    "id": "46e83e1f"
   },
   "source": [
    "By specifing the model_info, we assume a regression model that:\n",
    "\\begin{align}\n",
    "Q(s,a,\\beta) &= \\beta_{00}+\\beta_{01}*recency+\\beta_{02}*history\\\\\n",
    "&+I(a=1)*\\{\\beta_{10}+\\beta_{11}*recency+\\beta_{12}*history\\} \\\\\n",
    "&+I(a=2)*\\{\\beta_{20}+\\beta_{21}*recency+\\beta_{22}*history\\} \n",
    "\\end{align}"
   ]
  },
  {
   "cell_type": "markdown",
   "id": "c6111442",
   "metadata": {
    "id": "c6111442"
   },
   "source": [
    "####**Result Interpretation:** "
   ]
  },
  {
   "cell_type": "markdown",
   "id": "1098b550",
   "metadata": {
    "id": "1098b550"
   },
   "source": [
    "## References\n",
    "1. Kunzel, S. R., Sekhon, J. S., Bickel, P. J., and Yu, B. (2019). Metalearners for estimating heterogeneous treatment effects using machine learning. Proceedings of the national academy of sciences 116, 4156–4165."
   ]
  },
  {
   "cell_type": "code",
   "execution_count": null,
   "id": "tMdDc0xhDov5",
   "metadata": {
    "id": "tMdDc0xhDov5"
   },
   "outputs": [],
   "source": []
  }
 ],
 "metadata": {
  "colab": {
   "collapsed_sections": [
    "yfiI-lSZRuOP",
    "cMny8Ri7RvqC",
    "8lwheJQ8RxAw",
    "32szzPY4RyWO",
    "J2z2JRumRzdo",
    "YgKc3F0cR0Y4",
    "SgWh47pKR1XR",
    "I6Z2one4R3Aq",
    "e3559b08",
    "c6111442"
   ],
   "provenance": []
  },
  "kernelspec": {
   "display_name": "Python 3 (ipykernel)",
   "language": "python",
   "name": "python3"
  },
  "language_info": {
   "codemirror_mode": {
    "name": "ipython",
    "version": 3
   },
   "file_extension": ".py",
   "mimetype": "text/x-python",
   "name": "python",
   "nbconvert_exporter": "python",
   "pygments_lexer": "ipython3",
   "version": "3.7.4"
  }
 },
 "nbformat": 4,
 "nbformat_minor": 5
}
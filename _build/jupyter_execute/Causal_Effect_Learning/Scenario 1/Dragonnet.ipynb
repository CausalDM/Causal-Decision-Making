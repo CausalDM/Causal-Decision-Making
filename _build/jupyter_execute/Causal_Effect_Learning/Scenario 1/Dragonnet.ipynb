{
 "cells": [
  {
   "cell_type": "markdown",
   "id": "XUdcqLkabYny",
   "metadata": {
    "id": "XUdcqLkabYny"
   },
   "source": [
    "### **8. Dragon Net**\n",
    "\n",
    "\n",
    "\n"
   ]
  },
  {
   "cell_type": "code",
   "execution_count": 1,
   "id": "q5rFuX3UZt2l",
   "metadata": {
    "id": "q5rFuX3UZt2l"
   },
   "outputs": [],
   "source": [
    "# The code is available at https://github.com/claudiashi57/dragonnet"
   ]
  },
  {
   "cell_type": "code",
   "execution_count": 2,
   "id": "YAVk_ctHZsDK",
   "metadata": {
    "colab": {
     "base_uri": "https://localhost:8080/"
    },
    "executionInfo": {
     "elapsed": 4826,
     "status": "ok",
     "timestamp": 1675479965923,
     "user": {
      "displayName": "Yang Xu",
      "userId": "12270366590264264299"
     },
     "user_tz": 300
    },
    "id": "YAVk_ctHZsDK",
    "outputId": "7f2cb5c6-26e0-4d5a-9033-608d15f576e7"
   },
   "outputs": [
    {
     "name": "stdout",
     "output_type": "stream",
     "text": [
      "Requirement already satisfied: scikit-uplift in c:\\faked\\anaconda\\lib\\site-packages (0.5.1)\n",
      "Requirement already satisfied: matplotlib in c:\\faked\\anaconda\\lib\\site-packages (from scikit-uplift) (3.1.1)\n",
      "Requirement already satisfied: numpy>=1.16 in c:\\faked\\anaconda\\lib\\site-packages (from scikit-uplift) (1.16.5)\n",
      "Requirement already satisfied: scikit-learn>=0.21.0 in c:\\faked\\anaconda\\lib\\site-packages (from scikit-uplift) (0.21.3)\n",
      "Requirement already satisfied: requests in c:\\faked\\anaconda\\lib\\site-packages (from scikit-uplift) (2.22.0)\n",
      "Requirement already satisfied: tqdm in c:\\faked\\anaconda\\lib\\site-packages (from scikit-uplift) (4.36.1)\n",
      "Requirement already satisfied: pandas in c:\\faked\\anaconda\\lib\\site-packages (from scikit-uplift) (0.25.1)\n",
      "Requirement already satisfied: joblib>=0.11 in c:\\faked\\anaconda\\lib\\site-packages (from scikit-learn>=0.21.0->scikit-uplift) (0.13.2)\n",
      "Requirement already satisfied: scipy>=0.17.0 in c:\\faked\\anaconda\\lib\\site-packages (from scikit-learn>=0.21.0->scikit-uplift) (1.3.1)\n",
      "Requirement already satisfied: cycler>=0.10 in c:\\faked\\anaconda\\lib\\site-packages (from matplotlib->scikit-uplift) (0.10.0)\n",
      "Requirement already satisfied: kiwisolver>=1.0.1 in c:\\faked\\anaconda\\lib\\site-packages (from matplotlib->scikit-uplift) (1.1.0)\n",
      "Requirement already satisfied: pyparsing!=2.0.4,!=2.1.2,!=2.1.6,>=2.0.1 in c:\\faked\\anaconda\\lib\\site-packages (from matplotlib->scikit-uplift) (2.4.2)\n",
      "Requirement already satisfied: python-dateutil>=2.1 in c:\\users\\yang xu\\appdata\\roaming\\python\\python37\\site-packages (from matplotlib->scikit-uplift) (2.8.2)\n",
      "Requirement already satisfied: pytz>=2017.2 in c:\\faked\\anaconda\\lib\\site-packages (from pandas->scikit-uplift) (2019.3)\n",
      "Requirement already satisfied: certifi>=2017.4.17 in c:\\faked\\anaconda\\lib\\site-packages (from requests->scikit-uplift) (2019.9.11)\n",
      "Requirement already satisfied: chardet<3.1.0,>=3.0.2 in c:\\faked\\anaconda\\lib\\site-packages (from requests->scikit-uplift) (3.0.4)\n",
      "Requirement already satisfied: urllib3!=1.25.0,!=1.25.1,<1.26,>=1.21.1 in c:\\faked\\anaconda\\lib\\site-packages (from requests->scikit-uplift) (1.24.2)\n",
      "Requirement already satisfied: idna<2.9,>=2.5 in c:\\faked\\anaconda\\lib\\site-packages (from requests->scikit-uplift) (2.8)\n",
      "Requirement already satisfied: six in c:\\faked\\anaconda\\lib\\site-packages (from cycler>=0.10->matplotlib->scikit-uplift) (1.12.0)\n",
      "Requirement already satisfied: setuptools in c:\\faked\\anaconda\\lib\\site-packages (from kiwisolver>=1.0.1->matplotlib->scikit-uplift) (41.4.0)\n"
     ]
    },
    {
     "name": "stderr",
     "output_type": "stream",
     "text": [
      "\n",
      "[notice] A new release of pip available: 22.3.1 -> 23.0\n",
      "[notice] To update, run: python.exe -m pip install --upgrade pip\n"
     ]
    }
   ],
   "source": [
    "import sys\n",
    "!{sys.executable} -m pip install scikit-uplift"
   ]
  },
  {
   "cell_type": "code",
   "execution_count": 3,
   "id": "w0_Dz_6ZZsDN",
   "metadata": {
    "id": "w0_Dz_6ZZsDN"
   },
   "outputs": [
    {
     "ename": "ModuleNotFoundError",
     "evalue": "No module named 'causaldm'",
     "output_type": "error",
     "traceback": [
      "\u001b[1;31m---------------------------------------------------------------------------\u001b[0m",
      "\u001b[1;31mModuleNotFoundError\u001b[0m                       Traceback (most recent call last)",
      "\u001b[1;32m<ipython-input-3-2255a889dce7>\u001b[0m in \u001b[0;36m<module>\u001b[1;34m\u001b[0m\n\u001b[0;32m      1\u001b[0m \u001b[1;31m# import related packages\u001b[0m\u001b[1;33m\u001b[0m\u001b[1;33m\u001b[0m\u001b[1;33m\u001b[0m\u001b[0m\n\u001b[1;32m----> 2\u001b[1;33m \u001b[1;32mfrom\u001b[0m \u001b[0mcausaldm\u001b[0m\u001b[1;33m.\u001b[0m\u001b[0m_util_causaldm\u001b[0m \u001b[1;32mimport\u001b[0m \u001b[1;33m*\u001b[0m\u001b[1;33m\u001b[0m\u001b[1;33m\u001b[0m\u001b[0m\n\u001b[0m",
      "\u001b[1;31mModuleNotFoundError\u001b[0m: No module named 'causaldm'"
     ]
    }
   ],
   "source": [
    "# import related packages\n",
    "from causaldm._util_causaldm import *"
   ]
  },
  {
   "cell_type": "code",
   "execution_count": null,
   "id": "w7llBSLvZsDN",
   "metadata": {
    "id": "w7llBSLvZsDN"
   },
   "outputs": [],
   "source": [
    "n = 10**3  # sample size in observed data\n",
    "n0 = 10**5 # the number of samples used to estimate the true reward distribution by MC\n",
    "seed=223"
   ]
  },
  {
   "cell_type": "code",
   "execution_count": null,
   "id": "gpZPieaBZsDN",
   "metadata": {
    "id": "gpZPieaBZsDN"
   },
   "outputs": [],
   "source": [
    "# Get data\n",
    "data_behavior = get_data_simulation(n, seed, policy=\"behavior\")\n",
    "#data_target = get_data_simulation(n0, seed, policy=\"target\")\n",
    "\n",
    "# The true expected heterogeneous treatment effect\n",
    "HTE_true = get_data_simulation(n, seed, policy=\"1\")['R']-get_data_simulation(n, seed, policy=\"0\")['R']\n",
    "\n"
   ]
  },
  {
   "cell_type": "code",
   "execution_count": null,
   "id": "LAtbTkgLbcZU",
   "metadata": {
    "id": "LAtbTkgLbcZU"
   },
   "outputs": [],
   "source": []
  },
  {
   "cell_type": "markdown",
   "id": "1098b550",
   "metadata": {
    "id": "1098b550"
   },
   "source": [
    "## References\n",
    "\n",
    "8. Susan Athey, Julie Tibshirani, and Stefan Wager. Generalized random forests. The Annals of Statistics, 47(2):1148–1178, 2019."
   ]
  }
 ],
 "metadata": {
  "colab": {
   "collapsed_sections": [
    "1098b550"
   ],
   "provenance": []
  },
  "kernelspec": {
   "display_name": "Python 3 (ipykernel)",
   "language": "python",
   "name": "python3"
  },
  "language_info": {
   "codemirror_mode": {
    "name": "ipython",
    "version": 3
   },
   "file_extension": ".py",
   "mimetype": "text/x-python",
   "name": "python",
   "nbconvert_exporter": "python",
   "pygments_lexer": "ipython3",
   "version": "3.7.4"
  }
 },
 "nbformat": 4,
 "nbformat_minor": 5
}
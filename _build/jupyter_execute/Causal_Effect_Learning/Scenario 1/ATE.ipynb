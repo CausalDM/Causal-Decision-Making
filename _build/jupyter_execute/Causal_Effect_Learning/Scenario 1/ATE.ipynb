{
 "cells": [
  {
   "cell_type": "markdown",
   "id": "112864aa",
   "metadata": {
    "id": "112864aa"
   },
   "source": [
    "# ATE estimation (Single Stage)\n",
    "\n",
    "## Main Idea\n",
    "In the preliminary section, we introduced three categories of methods that have been widely used in ATE estimation, which are direct method (DM), importance sampling estimator (IS), and doubly robust estimator (DR).\n",
    "\n",
    "\n",
    "\n",
    "## Algorithm Details\n",
    "\n",
    "\n",
    "## Key Steps\n",
    "\n",
    "\n",
    "## Demo Code\n",
    "In the following, we exhibit how to apply the learner on real data to do policy learning and policy evaluation, respectively."
   ]
  },
  {
   "cell_type": "markdown",
   "id": "e3559b08",
   "metadata": {
    "id": "e3559b08"
   },
   "source": [
    "### 1. Direct Method"
   ]
  },
  {
   "cell_type": "code",
   "execution_count": 1,
   "id": "KQPNsu9BpWy5",
   "metadata": {
    "id": "KQPNsu9BpWy5"
   },
   "outputs": [],
   "source": [
    "# import data\n"
   ]
  },
  {
   "cell_type": "markdown",
   "id": "c6111442",
   "metadata": {
    "id": "c6111442"
   },
   "source": [
    "**Interpretation:**"
   ]
  },
  {
   "cell_type": "markdown",
   "id": "3dh4NnOWvtDS",
   "metadata": {
    "id": "3dh4NnOWvtDS"
   },
   "source": [
    "### 2. Importance Sampling Estimator"
   ]
  },
  {
   "cell_type": "code",
   "execution_count": null,
   "id": "PKKkPwH6paU_",
   "metadata": {
    "id": "PKKkPwH6paU_"
   },
   "outputs": [],
   "source": []
  },
  {
   "cell_type": "markdown",
   "id": "Js_WHjzbvpfG",
   "metadata": {
    "id": "Js_WHjzbvpfG"
   },
   "source": [
    "### 3. Doubly Robust Estimator"
   ]
  },
  {
   "cell_type": "code",
   "execution_count": null,
   "id": "1sAlhG0ppa0p",
   "metadata": {
    "id": "1sAlhG0ppa0p"
   },
   "outputs": [],
   "source": []
  },
  {
   "cell_type": "markdown",
   "id": "1098b550",
   "metadata": {
    "id": "1098b550"
   },
   "source": [
    "## References\n",
    "1. Murphy, S. A. (2005). A generalization error for Q-learning.\n",
    "2. Song, R., Wang, W., Zeng, D., & Kosorok, M. R. (2015). Penalized q-learning for dynamic treatment regimens. Statistica Sinica, 25(3), 901."
   ]
  }
 ],
 "metadata": {
  "colab": {
   "provenance": []
  },
  "kernelspec": {
   "display_name": "Python 3 (ipykernel)",
   "language": "python",
   "name": "python3"
  },
  "language_info": {
   "codemirror_mode": {
    "name": "ipython",
    "version": 3
   },
   "file_extension": ".py",
   "mimetype": "text/x-python",
   "name": "python",
   "nbconvert_exporter": "python",
   "pygments_lexer": "ipython3",
   "version": "3.9.13"
  }
 },
 "nbformat": 4,
 "nbformat_minor": 5
}
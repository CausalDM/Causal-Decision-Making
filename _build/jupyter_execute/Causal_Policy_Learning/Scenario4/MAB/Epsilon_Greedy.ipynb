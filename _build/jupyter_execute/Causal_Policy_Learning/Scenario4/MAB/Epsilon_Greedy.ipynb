{
 "cells": [
  {
   "cell_type": "markdown",
   "id": "154bbf56",
   "metadata": {},
   "source": [
    "# $\\epsilon$-Greedy\n",
    "\n",
    "## Overview\n",
    "- **Advantage**: Simple and easy to understand. Compared to random policy, it makes better use of observations. \n",
    "- **Disadvantage**:  It is difficult to determine an ideal $\\epsilon$: if $\\epsilon$ is large, exploration will dominate; otherwise, eploitation will dominate. To address this issue, we offer a more adaptive version—$\\epsilon_t$-greedy, where $\\epsilon_t$ decreases as $t$ increases.\n",
    "- **Application Situation**: discrete action space, binary/Gaussian reward space\n",
    "\n",
    "## Main Idea\n",
    "$\\epsilon$-Greedy is an intuitive algorithm to incorporate the exploration and exploitation. It is simple and widely used [1]. Specifically, at each round $t$, we will select a random action with probability $\\epsilon$, and select an action with the highest estimated mean potential reward, $\\theta_a$, for each arm $a$ based on the history so far with probability $1-\\epsilon$. Specifically,\n",
    "$$\n",
    "\\begin{aligned}\n",
    "\\theta_a = \\hat{E}(R_t(a)|\\{A_t, R_t\\})\n",
    "\\end{aligned}\n",
    "$$\n",
    "\n",
    "For example, in movie recommendation, the agent would either recommend a random genere of movies to the user or recommend the genere that the user watched the most in the past. Here the parameter $\\epsilon$ is pre-specified. A more adaptive variant is $\\epsilon_{t}$-greedy, where the probability of taking a random action is defined as a decreasing function of $t$. Auer et al. [2] showed that $\\epsilon_{t}$-greedy performs well in practice with $\\epsilon_{t}$ decreases to 0 at a rate of $\\frac{1}{t}$. Note that, the reward can be either binary or continuous.\n",
    "\n",
    "\n",
    "## Algorithms Details\n",
    "Supposed there are $K$ options, and the action space is $\\mathcal{A} = \\{0,1,\\cdots, K-1\\}$. The $\\epsilon$-greedy algorithm start with initializing the estimated values $\\theta_a^0$ and the count of being pulled $C_a^0$ for each action $a$ as 0. At each round $t$, we either take an action with the maximum estimated value $\\theta_a$ with probability $1-\\epsilon_{t}$ or randomly select an action with probability $\\epsilon_t$. After observing the rewards corresponding to the selected action $A_t$, we updated the total number of being pulled for $A_t$, and estimated the $\\theta_{A_{t}}$ by with the sample average for $A_t$.\n",
    "\n",
    "Remark that both the time-adaptive and the time-fixed version of $\\epsilon$-greedy algorithm are provided. By setting **decrease_eps=True**, the $\\epsilon_{t}$ in round $t$ is calculated as $\\frac{K}{T}$. Otherwise, $\\epsilon_{t}$ is a fixed value specfied by users.\n",
    "\n",
    "## Key Steps\n",
    "\n",
    "1. Initializing the $\\boldsymbol{\\theta}^0$ and $\\boldsymbol{C}^0$ for $K$ items as 0\n",
    "2. For t = $0, 1,\\cdots, T$:\n",
    "\n",
    "    2.1. select action $A_t$ as the arm with the maximum $\\theta_a^t$ with probability $1-\\epsilon_t$, or randomly select an action $A_t$ with probability $\\epsilon_t$\n",
    "    \n",
    "    2.2. Received the reward $R_t$, and update $C$ and $Q$ with\n",
    "    \\begin{align}\n",
    "    C_{A_{t}}^{t+1} &= C_{A_{t}}^{t} + 1 \\\\\n",
    "    \\theta_{A_{t}}^{t+1} &=\\theta_{A_{t}}^{t} + \\frac{1}{C_{A_{t+1}}^{t+1}}*(R_t-\\theta_{A_{t}}^{t})\n",
    "    \\end{align}"
   ]
  },
  {
   "cell_type": "markdown",
   "id": "755d09cc",
   "metadata": {},
   "source": [
    "## Demo Code"
   ]
  },
  {
   "cell_type": "code",
   "execution_count": 1,
   "id": "3e561540-4977-4d62-acb2-599d512e652a",
   "metadata": {},
   "outputs": [
    {
     "ename": "FileNotFoundError",
     "evalue": "[Errno 2] No such file or directory: 'D:\\\\GitHub\\\\CausalDM'",
     "output_type": "error",
     "traceback": [
      "\u001b[0;31m---------------------------------------------------------------------------\u001b[0m",
      "\u001b[0;31mFileNotFoundError\u001b[0m                         Traceback (most recent call last)",
      "\u001b[0;32m<ipython-input-1-a4f395ec17bc>\u001b[0m in \u001b[0;36m<module>\u001b[0;34m\u001b[0m\n\u001b[1;32m      1\u001b[0m \u001b[0;32mimport\u001b[0m \u001b[0mos\u001b[0m\u001b[0;34m\u001b[0m\u001b[0;34m\u001b[0m\u001b[0m\n\u001b[1;32m      2\u001b[0m \u001b[0mos\u001b[0m\u001b[0;34m.\u001b[0m\u001b[0mgetcwd\u001b[0m\u001b[0;34m(\u001b[0m\u001b[0;34m)\u001b[0m\u001b[0;34m\u001b[0m\u001b[0;34m\u001b[0m\u001b[0m\n\u001b[0;32m----> 3\u001b[0;31m \u001b[0mos\u001b[0m\u001b[0;34m.\u001b[0m\u001b[0mchdir\u001b[0m\u001b[0;34m(\u001b[0m\u001b[0;34m'D:\\GitHub\\CausalDM'\u001b[0m\u001b[0;34m)\u001b[0m\u001b[0;34m\u001b[0m\u001b[0;34m\u001b[0m\u001b[0m\n\u001b[0m",
      "\u001b[0;31mFileNotFoundError\u001b[0m: [Errno 2] No such file or directory: 'D:\\\\GitHub\\\\CausalDM'"
     ]
    }
   ],
   "source": [
    "import os\n",
    "os.getcwd()\n",
    "os.chdir('D:\\GitHub\\CausalDM')"
   ]
  },
  {
   "cell_type": "markdown",
   "id": "54d56b53-7d0c-41cb-9f01-c187f0588e40",
   "metadata": {},
   "source": [
    "### Import the learner."
   ]
  },
  {
   "cell_type": "code",
   "execution_count": 2,
   "id": "be69a99f",
   "metadata": {},
   "outputs": [],
   "source": [
    "import numpy as np\n",
    "from causaldm.learners.Online.MAB import Epsilon_Greedy"
   ]
  },
  {
   "cell_type": "markdown",
   "id": "09f430d5-555a-40ef-b523-03721ff124d6",
   "metadata": {},
   "source": [
    "### Generate the Environment\n",
    "\n",
    "Here, we imitate an environment based on the MovieLens data."
   ]
  },
  {
   "cell_type": "code",
   "execution_count": 3,
   "id": "fa35b307-55b2-4d7c-8712-d0010ee6367e",
   "metadata": {},
   "outputs": [],
   "source": [
    "from causaldm.learners.Online.MAB import _env_realMAB as _env\n",
    "env = _env.Single_Gaussian_Env(seed = 42)"
   ]
  },
  {
   "cell_type": "markdown",
   "id": "578c0ed6-cf1b-4371-835d-91ef1740b759",
   "metadata": {},
   "source": [
    "### Specify Hyperparameters\n",
    "\n",
    "- K: # of arms\n",
    "- epsilon: fixed $\\epsilon$ for time-fixed version of $\\epsilon$-greedy algorithm\n",
    "- decrease_eps: indicate if a time-adaptive $\\epsilon_t = min(1,\\frac{K}{t})$ employed."
   ]
  },
  {
   "cell_type": "code",
   "execution_count": 4,
   "id": "5f6af03c-8b0f-4a99-9655-a6a8ec51f51a",
   "metadata": {},
   "outputs": [],
   "source": [
    "K = env.K\n",
    "greedy_agent = Epsilon_Greedy.Epsilon_Greedy(K, epsilon = None, decrease_eps = True, seed = 0)"
   ]
  },
  {
   "cell_type": "markdown",
   "id": "c1913901-18ff-47ef-94db-88ebe2d4ed07",
   "metadata": {},
   "source": [
    "### Recommendation and Interaction\n",
    "\n",
    "Starting from t = 0, for each step t, there are three steps:\n",
    "1. Recommend an action \n",
    "<code> A = greedy_agent.take_action() </code>\n",
    "2. Get the reward from the environment \n",
    "<code> R = env.get_reward(t,A) </code>\n",
    "3. Update the posterior distribution\n",
    "<code> greedy_agent.receive_reward(t,A,R) </code>"
   ]
  },
  {
   "cell_type": "code",
   "execution_count": 5,
   "id": "e0a25499-4a62-42c9-b877-3c1f22a39c13",
   "metadata": {},
   "outputs": [
    {
     "data": {
      "text/plain": [
       "(0, 3, 4)"
      ]
     },
     "execution_count": 5,
     "metadata": {},
     "output_type": "execute_result"
    }
   ],
   "source": [
    "t = 0\n",
    "A = greedy_agent.take_action()\n",
    "R = env.get_reward(A)\n",
    "greedy_agent.receive_reward(t,A,R)\n",
    "t, A, R"
   ]
  },
  {
   "cell_type": "markdown",
   "id": "5367247d-4e7c-4aa0-b187-8fc149023d7f",
   "metadata": {},
   "source": [
    "**Interpretation**: For step 0, the $\\epsilon-$greedy agent recommend a Thriller (arm 3), and received a rate of 4 from the environment."
   ]
  },
  {
   "cell_type": "markdown",
   "id": "debb450e-4dd2-4c38-88d9-35c41502b95d",
   "metadata": {},
   "source": [
    "### Demo Code for Bernoulli Bandit\n",
    "The steps are similar to those previously performed with a Gaussian Bandit."
   ]
  },
  {
   "cell_type": "code",
   "execution_count": 6,
   "id": "5bf81158-9ea9-4355-991b-acbf5eb7eb54",
   "metadata": {},
   "outputs": [
    {
     "data": {
      "text/plain": [
       "(0, 0, 1)"
      ]
     },
     "execution_count": 6,
     "metadata": {},
     "output_type": "execute_result"
    }
   ],
   "source": [
    "env = _env.Single_Bernoulli_Env(seed=42)\n",
    "\n",
    "K = env.K\n",
    "greedy_agent = Epsilon_Greedy.Epsilon_Greedy(K, epsilon = None, decrease_eps = True, seed = 42)\n",
    "\n",
    "t = 0\n",
    "A = greedy_agent.take_action()\n",
    "R = env.get_reward(A)\n",
    "greedy_agent.receive_reward(t,A,R)\n",
    "t, A, R"
   ]
  },
  {
   "cell_type": "markdown",
   "id": "1bd892f4-c030-4ad8-a87c-94f000193ea1",
   "metadata": {},
   "source": [
    "**Interpretation**: For step 0, the $\\epsilon-$greedy agent recommend a Comedy (arm 0), and received a reward of 1 from the environment."
   ]
  },
  {
   "cell_type": "markdown",
   "id": "9304145e",
   "metadata": {},
   "source": [
    "## References\n",
    "\n",
    "[1] Sutton, R. S., & Barto, A. G. (2018). Reinforcement learning: An introduction. MIT press.\n",
    "\n",
    "[2] Auer, P., Cesa-Bianchi, N., & Fischer, P. (2002). Finite-time analysis of the multiarmed bandit problem. Machine learning, 47(2), 235-256."
   ]
  }
 ],
 "metadata": {
  "kernelspec": {
   "display_name": "Python 3 (ipykernel)",
   "language": "python",
   "name": "python3"
  },
  "language_info": {
   "codemirror_mode": {
    "name": "ipython",
    "version": 3
   },
   "file_extension": ".py",
   "mimetype": "text/x-python",
   "name": "python",
   "nbconvert_exporter": "python",
   "pygments_lexer": "ipython3",
   "version": "3.8.3"
  }
 },
 "nbformat": 4,
 "nbformat_minor": 5
}
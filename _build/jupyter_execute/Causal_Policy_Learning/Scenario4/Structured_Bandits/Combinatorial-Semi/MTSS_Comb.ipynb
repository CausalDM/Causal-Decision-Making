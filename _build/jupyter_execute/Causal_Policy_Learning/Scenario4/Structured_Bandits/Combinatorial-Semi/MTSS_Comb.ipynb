{
 "cells": [
  {
   "cell_type": "markdown",
   "id": "dd4f7e27",
   "metadata": {},
   "source": [
    "# MTSS_Comb\n",
    "\n",
    "## Overview\n",
    "- **Advantage**: It is both scalable and robust. Furthermore, it also accounts for the iter-item heterogeneity.\n",
    "- **Disadvantage**:\n",
    "- **Application Situation**: Useful when presenting a list of items, each of which will generate a partial outcome (reward). The outcome is continuous. Static feature information.\n",
    "\n",
    "## Main Idea\n",
    "MTSS_Comb is an example of the general Thompson Sampling(TS)-based framework, MTSS [1], to deal with online combinatorial optimization problems.\n",
    "\n",
    "**Review of MTSS:** MTSS[1] is a meta-learning framework designed for large-scale structured bandit problems [2]. Mainly, it is a TS-based algorithm that learns the information-sharing structure while minimizing the cumulative regrets. Adapting the TS framework to a problem-specific Bayesian hierarchical model, MTSS simultaneously enables information sharing among items via their features and models the inter-item heterogeneity. Specifically, it assumes that the item-specific parameter $\\theta_i = E[Y_{t}(i)]$ is sampled from a distribution $g(\\theta_i|\\boldsymbol{s}_i, \\boldsymbol{\\gamma})$ instead of being entirely determined by $\\boldsymbol{s}_i$ via a deterministic function. Here, $g$ is a model parameterized by an **unknown** vector $\\boldsymbol{\\gamma}$. The following is the general feature-based hierarchical model MTSS considered. \n",
    "\\begin{equation}\\label{eqn:general_hierachical}\n",
    "  \\begin{alignedat}{2}\n",
    "&\\text{(Prior)} \\quad\n",
    "\\quad\\quad\\quad\\quad\\quad\\quad\\quad\\quad\\quad\n",
    "\\boldsymbol{\\gamma} &&\\sim Q(\\boldsymbol{\\gamma}),\\\\\n",
    "&\\text{(Generalization function)} \\;\n",
    "\\;    \\theta_i| \\boldsymbol{s}_i, \\boldsymbol{\\gamma}  &&\\sim g(\\theta_i|\\boldsymbol{s}_i, \\boldsymbol{\\gamma}), \\forall i \\in [N],\\\\ \n",
    "&\\text{(Observations)} \\quad\\quad\\quad\\quad\\quad\\quad\\;\n",
    "\\;    \\boldsymbol{Y}_t(a) &&\\sim f(\\boldsymbol{Y}_t(a)|\\boldsymbol{\\theta}),\\\\\n",
    "&\\text{(Reward)} \\quad\\quad\\quad\\quad\\quad\\quad\\quad\\quad\\;\n",
    "\\;   R_t(a) &&= f_r(\\boldsymbol{Y}_t(a) ; \\boldsymbol{\\eta}), \n",
    "      \\end{alignedat}\n",
    "\\end{equation}\n",
    "where $Q(\\boldsymbol{\\gamma})$ is the prior distribution for $\\boldsymbol{\\gamma}$. \n",
    "Overall, MTTS is a **general** framework that subsumes a wide class of practical problems, **scalable** to large systems, and **robust** to the specification of the generalization model.\n",
    "\n",
    "**Review of MTSS_Comb:** In this tutorial, as an example, we focus on the combinatorial semi-bandits with Gaussian outcome, $Y_{i, t}$, and consider using a linear mixed model (LMM) as the generalization model to share information. Specifically, the full model is as follows: \n",
    "\\begin{equation}\\label{eqn:LMM}\n",
    "    \\begin{split}\n",
    "     \\theta_i &\\sim \\mathcal{N}(\\boldsymbol{s}_i^T \\boldsymbol{\\gamma}, \\sigma_1^2), \\forall i \\in [N],\\\\\n",
    "    Y_{i, t}(a) &\\sim \\mathcal{N}(\\theta_i, \\sigma_2^2), \\forall i \\in a,\\\\\n",
    "    R_t(a) &= \\sum_{i \\in a} Y_{i,t}(a), \n",
    "    \\end{split}\n",
    "\\end{equation}\n",
    "where it is typically assumed that $\\sigma_1$ and $\\sigma_2$ are known. We choose the prior $\\boldsymbol{\\gamma} \\sim \\mathcal{N}(\\boldsymbol{\\mu}_{\\boldsymbol{\\gamma}}, {\\boldsymbol{\\Sigma}}_{\\boldsymbol{\\gamma}})$ with parameters as known. It is worth noting that many other outcome distributions (e.g., Bernoulli) and model assumptions (e.g., Gaussian process) can be formulated similarly, depending on the applications. Users can directly modify the code for posterior updating to adapt different model assumptions. Further, for simplicity, we consider the most basic size constraint such that the action space includes all the possible subsets with size $K$. Therefore, the optimization process to find the optimal subset $A_{t}$ is equal to selecting a list of $K$ items with the highest attractiveness factors. Of course, users are welcome to modify the **optimization** function to satisfy more complex constraints.\n",
    "\n",
    "## Algorithm Details\n",
    "Under the assumption of a LMM, the posteriors can be derived explicitly, following the Bayes' theorem. At each round $t$, given the feedback $\\mathcal{H}_{t}$ received from previous rounds, there are two major steps including posterior sampling and combinatorial optimization. Specifically, the posterior sampling step is decomposed into four steps: 1. updating the posterior distribution of $\\boldsymbol{\\gamma}$, $P(\\boldsymbol{\\gamma}|\\mathcal{H}_{t})$; 2. sampling a $\\tilde{\\boldsymbol{\\gamma}}$ from $P(\\boldsymbol{\\gamma}|\\mathcal{H}_{t})$; 3. updating the posterior distribution of $\\boldsymbol{\\theta}$ conditional on $\\tilde{\\boldsymbol{\\gamma}}$, $P(\\boldsymbol{\\theta}|\\tilde{\\boldsymbol{\\gamma}},\\mathcal{H}_{t})$; 4. sampling $\\tilde{\\boldsymbol{\\theta}}$ from $P(\\boldsymbol{\\theta}|\\tilde{\\boldsymbol{\\gamma}},\\mathcal{H}_{t})$. Then, the action $A_{t}$ is selected greedily as $A_t = arg max_{a \\in \\mathcal{A}} E(R_t(a) \\mid \\tilde{\\boldsymbol{\\theta}})$. Considering the simple size constraint, $A_{t}$ is the list of $K$ items with the highest $\\tilde{\\theta}_{i}$. Note that $\\tilde{\\boldsymbol{\\gamma}}$ can be sampled in a batch mode to further facilitate computationally efficient online deployment.\n",
    "\n",
    "## Key Steps\n",
    "For round $t = 1,2,\\cdots$:\n",
    "1. Update $P(\\boldsymbol{\\gamma}|\\mathcal{H}_{t})$;\n",
    "2. Sample $\\tilde{\\boldsymbol{\\gamma}} \\sim P(\\boldsymbol{\\gamma}|\\mathcal{H}_{t})$;\n",
    "3. Update $P(\\boldsymbol{\\theta}|\\tilde{\\boldsymbol{\\gamma}},\\mathcal{H}_{t})$;\n",
    "4. Sample $\\tilde{\\boldsymbol{\\theta}} \\sim P(\\boldsymbol{\\theta}|\\tilde{\\boldsymbol{\\gamma}},\\mathcal{H}_{t})$;\n",
    "5. Take the action $A_{t}$ w.r.t $\\tilde{\\boldsymbol{\\theta}}$ such that $A_t = arg max_{a \\in \\mathcal{A}} E(R_t(a) \\mid \\tilde{\\boldsymbol{\\theta}})$;\n",
    "6. Receive reward $R_{t}$.\n",
    "\n",
    "*Notations can be found in either the inroduction of the chapter \"Structured Bandits\" or the introduction of the combinatorial Semi-Bandit problems."
   ]
  },
  {
   "cell_type": "markdown",
   "id": "2f94a940",
   "metadata": {},
   "source": [
    "## Demo Code"
   ]
  },
  {
   "cell_type": "code",
   "execution_count": 1,
   "id": "2f8db32a",
   "metadata": {},
   "outputs": [],
   "source": [
    "import os\n",
    "os.getcwd()\n",
    "os.chdir('D:\\GitHub\\CausalDM')"
   ]
  },
  {
   "cell_type": "markdown",
   "id": "13309f96-cd47-400b-b621-db04000014e3",
   "metadata": {},
   "source": [
    "### Import the learner."
   ]
  },
  {
   "cell_type": "code",
   "execution_count": 2,
   "id": "29527f70",
   "metadata": {},
   "outputs": [
    {
     "name": "stderr",
     "output_type": "stream",
     "text": [
      "WARNING (theano.tensor.blas): Using NumPy C-API based implementation for BLAS functions.\n"
     ]
    }
   ],
   "source": [
    "import numpy as np\n",
    "from causaldm.learners.Online.Structured_Bandits.Combinatorial_Semi import MTSS_Comb"
   ]
  },
  {
   "cell_type": "markdown",
   "id": "35ee468b-e401-41b8-9059-c4d6524c00fd",
   "metadata": {},
   "source": [
    "### Generate the Environment\n",
    "\n",
    "Here, we imitate an environment based on the Adult dataset. The length of horizon, $T$, is specified as $500$."
   ]
  },
  {
   "cell_type": "code",
   "execution_count": 3,
   "id": "479c02f1-0c6a-4796-812f-4d40f5dc0c8a",
   "metadata": {},
   "outputs": [],
   "source": [
    "from causaldm.learners.Online.Structured_Bandits.Combinatorial_Semi import _env_realComb as _env\n",
    "env = _env.CombSemi_env(T = 500, seed = 0)"
   ]
  },
  {
   "cell_type": "markdown",
   "id": "42f4d9fc-457f-433b-90f6-e9ed1cb1a9c0",
   "metadata": {},
   "source": [
    "### Specify Hyperparameters\n",
    "- K: number of itmes to be recommended at each round\n",
    "- L: total number of candidate items\n",
    "- p: number of features (If the intercept is considerd, p includes the intercept as well.)\n",
    "- sigma_1: $\\sigma_1$\n",
    "- sigma_2: $\\sigma_2$\n",
    "- prior_gamma_mean: mean of the Gaussian prior of the $\\boldsymbol{\\gamma}$\n",
    "- prior_gamma_cov: the covariance matrix of the Gaussian prior of $\\boldsymbol{\\gamma}$\n",
    "- Xs: feature informations (Note: if an intercept is considered, the X should include a column of ones)\n",
    "- update_freq: frequency to update the posterior distribution of $\\boldsymbol{\\gamma}$ (i.e., update every update_freq steps)\n",
    "- seed: random seed"
   ]
  },
  {
   "cell_type": "code",
   "execution_count": 4,
   "id": "06795008",
   "metadata": {},
   "outputs": [
    {
     "ename": "MemoryError",
     "evalue": "Unable to allocate 45.8 MiB for an array with shape (3000, 2000) and data type float64",
     "output_type": "error",
     "traceback": [
      "\u001b[1;31m---------------------------------------------------------------------------\u001b[0m",
      "\u001b[1;31mMemoryError\u001b[0m                               Traceback (most recent call last)",
      "Input \u001b[1;32mIn [4]\u001b[0m, in \u001b[0;36m<cell line: 12>\u001b[1;34m()\u001b[0m\n\u001b[0;32m     10\u001b[0m update_freq \u001b[38;5;241m=\u001b[39m \u001b[38;5;241m1\u001b[39m\n\u001b[0;32m     11\u001b[0m seed \u001b[38;5;241m=\u001b[39m \u001b[38;5;241m0\u001b[39m\n\u001b[1;32m---> 12\u001b[0m MTSS_agent \u001b[38;5;241m=\u001b[39m \u001b[43mMTSS_Comb\u001b[49m\u001b[38;5;241;43m.\u001b[39;49m\u001b[43mMTSS_Semi\u001b[49m\u001b[43m(\u001b[49m\u001b[43msigma_1\u001b[49m\u001b[43m \u001b[49m\u001b[38;5;241;43m=\u001b[39;49m\u001b[43m \u001b[49m\u001b[43msigma_1\u001b[49m\u001b[43m,\u001b[49m\u001b[43m \u001b[49m\u001b[43msigma_2\u001b[49m\u001b[43m \u001b[49m\u001b[38;5;241;43m=\u001b[39;49m\u001b[43m \u001b[49m\u001b[43msigma_2\u001b[49m\u001b[43m,\u001b[49m\u001b[43m \u001b[49m\u001b[43mL\u001b[49m\u001b[38;5;241;43m=\u001b[39;49m\u001b[43mL\u001b[49m\u001b[43m,\u001b[49m\u001b[43m \u001b[49m\u001b[43mT\u001b[49m\u001b[43m \u001b[49m\u001b[38;5;241;43m=\u001b[39;49m\u001b[43m \u001b[49m\u001b[43mT\u001b[49m\u001b[43m,\u001b[49m\u001b[43m \u001b[49m\u001b[43mK\u001b[49m\u001b[43m \u001b[49m\u001b[38;5;241;43m=\u001b[39;49m\u001b[43m \u001b[49m\u001b[43mK\u001b[49m\u001b[43m,\u001b[49m\n\u001b[0;32m     13\u001b[0m \u001b[43m                                 \u001b[49m\u001b[43mgamma_prior_mean\u001b[49m\u001b[43m \u001b[49m\u001b[38;5;241;43m=\u001b[39;49m\u001b[43m \u001b[49m\u001b[43mgamma_prior_mean\u001b[49m\u001b[43m,\u001b[49m\u001b[43m \u001b[49m\u001b[43mgamma_prior_cov\u001b[49m\u001b[43m \u001b[49m\u001b[38;5;241;43m=\u001b[39;49m\u001b[43m \u001b[49m\u001b[43mgamma_prior_cov\u001b[49m\u001b[43m,\u001b[49m\n\u001b[0;32m     14\u001b[0m \u001b[43m                                 \u001b[49m\u001b[43mXs\u001b[49m\u001b[43m \u001b[49m\u001b[38;5;241;43m=\u001b[39;49m\u001b[43m \u001b[49m\u001b[43mXs\u001b[49m\u001b[43m,\u001b[49m\u001b[43m \u001b[49m\u001b[43mupdate_freq\u001b[49m\u001b[43m \u001b[49m\u001b[38;5;241;43m=\u001b[39;49m\u001b[43m \u001b[49m\u001b[43mupdate_freq\u001b[49m\u001b[43m,\u001b[49m\u001b[43m \u001b[49m\u001b[43mseed\u001b[49m\u001b[43m \u001b[49m\u001b[38;5;241;43m=\u001b[39;49m\u001b[43m \u001b[49m\u001b[43mseed\u001b[49m\u001b[43m)\u001b[49m\n",
      "File \u001b[1;32mD:\\GitHub\\CausalDM\\causaldm\\learners\\Online\\_util_online.py:223\u001b[0m, in \u001b[0;36mautoargs.<locals>._autoargs.<locals>.wrapper\u001b[1;34m(self, *args, **kwargs)\u001b[0m\n\u001b[0;32m    221\u001b[0m         \u001b[38;5;28;01mif\u001b[39;00m sieve(attr):\n\u001b[0;32m    222\u001b[0m             \u001b[38;5;28msetattr\u001b[39m(\u001b[38;5;28mself\u001b[39m, attr, val)\n\u001b[1;32m--> 223\u001b[0m \u001b[38;5;28;01mreturn\u001b[39;00m func(\u001b[38;5;28mself\u001b[39m, \u001b[38;5;241m*\u001b[39margs, \u001b[38;5;241m*\u001b[39m\u001b[38;5;241m*\u001b[39mkwargs)\n",
      "File \u001b[1;32mD:\\GitHub\\CausalDM\\causaldm\\learners\\Online\\Structured_Bandits\\Combinatorial_Semi\\MTSS_Comb.py:32\u001b[0m, in \u001b[0;36mMTSS_Semi.__init__\u001b[1;34m(self, sigma_1, sigma_2, L, T, K, gamma_prior_mean, gamma_prior_cov, Xs, update_freq, seed)\u001b[0m\n\u001b[0;32m     29\u001b[0m \u001b[38;5;28mself\u001b[39m\u001b[38;5;241m.\u001b[39mPhi \u001b[38;5;241m=\u001b[39m Xs \u001b[38;5;66;03m# [L, p]\u001b[39;00m\n\u001b[0;32m     30\u001b[0m \u001b[38;5;28mself\u001b[39m\u001b[38;5;241m.\u001b[39mPhi_Simga \u001b[38;5;241m=\u001b[39m \u001b[38;5;28mself\u001b[39m\u001b[38;5;241m.\u001b[39mPhi\u001b[38;5;241m.\u001b[39mdot(gamma_prior_cov)        \n\u001b[1;32m---> 32\u001b[0m \u001b[38;5;28;43mself\u001b[39;49m\u001b[38;5;241;43m.\u001b[39;49m\u001b[43m_init_data_storate\u001b[49m\u001b[43m(\u001b[49m\u001b[38;5;28;43mself\u001b[39;49m\u001b[38;5;241;43m.\u001b[39;49m\u001b[43mL_tot\u001b[49m\u001b[43m,\u001b[49m\u001b[43m \u001b[49m\u001b[43mp\u001b[49m\u001b[43m)\u001b[49m\n\u001b[0;32m     33\u001b[0m \u001b[38;5;28mself\u001b[39m\u001b[38;5;241m.\u001b[39m_init_else(\u001b[38;5;28mself\u001b[39m\u001b[38;5;241m.\u001b[39mL_tot, p)\n\u001b[0;32m     34\u001b[0m \u001b[38;5;28mself\u001b[39m\u001b[38;5;241m.\u001b[39m_init_Sigma_12_part()\n",
      "File \u001b[1;32mD:\\GitHub\\CausalDM\\causaldm\\learners\\Online\\Structured_Bandits\\Combinatorial_Semi\\MTSS_Comb.py:86\u001b[0m, in \u001b[0;36mMTSS_Semi._init_data_storate\u001b[1;34m(self, L_tot, p)\u001b[0m\n\u001b[0;32m     84\u001b[0m \u001b[38;5;28mself\u001b[39m\u001b[38;5;241m.\u001b[39mSigma12 \u001b[38;5;241m=\u001b[39m \u001b[38;5;28mself\u001b[39m\u001b[38;5;241m.\u001b[39m_init_empty(\u001b[38;5;124m\"\u001b[39m\u001b[38;5;124mcol\u001b[39m\u001b[38;5;124m\"\u001b[39m) \u001b[38;5;66;03m#np.zeros((L, 0)) \u001b[39;00m\n\u001b[0;32m     85\u001b[0m \u001b[38;5;66;03m# each i has a list, which stores the M_ij part for each j\u001b[39;00m\n\u001b[1;32m---> 86\u001b[0m \u001b[38;5;28mself\u001b[39m\u001b[38;5;241m.\u001b[39mSigma12_data \u001b[38;5;241m=\u001b[39m [np\u001b[38;5;241m.\u001b[39mzeros((L_tot, \u001b[38;5;28mself\u001b[39m\u001b[38;5;241m.\u001b[39mT)) \u001b[38;5;28;01mfor\u001b[39;00m a \u001b[38;5;129;01min\u001b[39;00m \u001b[38;5;28mrange\u001b[39m(L_tot)]\n\u001b[0;32m     87\u001b[0m \u001b[38;5;28mself\u001b[39m\u001b[38;5;241m.\u001b[39mSigma_idx \u001b[38;5;241m=\u001b[39m np\u001b[38;5;241m.\u001b[39marray(\u001b[38;5;28mself\u001b[39m\u001b[38;5;241m.\u001b[39m_init_empty(\u001b[38;5;124m\"\u001b[39m\u001b[38;5;124mnum\u001b[39m\u001b[38;5;124m\"\u001b[39m)) \u001b[38;5;66;03m#[0 for a in range(L)] \u001b[39;00m\n\u001b[0;32m     88\u001b[0m \u001b[38;5;66;03m### inverse part\u001b[39;00m\n",
      "File \u001b[1;32mD:\\GitHub\\CausalDM\\causaldm\\learners\\Online\\Structured_Bandits\\Combinatorial_Semi\\MTSS_Comb.py:86\u001b[0m, in \u001b[0;36m<listcomp>\u001b[1;34m(.0)\u001b[0m\n\u001b[0;32m     84\u001b[0m \u001b[38;5;28mself\u001b[39m\u001b[38;5;241m.\u001b[39mSigma12 \u001b[38;5;241m=\u001b[39m \u001b[38;5;28mself\u001b[39m\u001b[38;5;241m.\u001b[39m_init_empty(\u001b[38;5;124m\"\u001b[39m\u001b[38;5;124mcol\u001b[39m\u001b[38;5;124m\"\u001b[39m) \u001b[38;5;66;03m#np.zeros((L, 0)) \u001b[39;00m\n\u001b[0;32m     85\u001b[0m \u001b[38;5;66;03m# each i has a list, which stores the M_ij part for each j\u001b[39;00m\n\u001b[1;32m---> 86\u001b[0m \u001b[38;5;28mself\u001b[39m\u001b[38;5;241m.\u001b[39mSigma12_data \u001b[38;5;241m=\u001b[39m [\u001b[43mnp\u001b[49m\u001b[38;5;241;43m.\u001b[39;49m\u001b[43mzeros\u001b[49m\u001b[43m(\u001b[49m\u001b[43m(\u001b[49m\u001b[43mL_tot\u001b[49m\u001b[43m,\u001b[49m\u001b[43m \u001b[49m\u001b[38;5;28;43mself\u001b[39;49m\u001b[38;5;241;43m.\u001b[39;49m\u001b[43mT\u001b[49m\u001b[43m)\u001b[49m\u001b[43m)\u001b[49m \u001b[38;5;28;01mfor\u001b[39;00m a \u001b[38;5;129;01min\u001b[39;00m \u001b[38;5;28mrange\u001b[39m(L_tot)]\n\u001b[0;32m     87\u001b[0m \u001b[38;5;28mself\u001b[39m\u001b[38;5;241m.\u001b[39mSigma_idx \u001b[38;5;241m=\u001b[39m np\u001b[38;5;241m.\u001b[39marray(\u001b[38;5;28mself\u001b[39m\u001b[38;5;241m.\u001b[39m_init_empty(\u001b[38;5;124m\"\u001b[39m\u001b[38;5;124mnum\u001b[39m\u001b[38;5;124m\"\u001b[39m)) \u001b[38;5;66;03m#[0 for a in range(L)] \u001b[39;00m\n\u001b[0;32m     88\u001b[0m \u001b[38;5;66;03m### inverse part\u001b[39;00m\n",
      "\u001b[1;31mMemoryError\u001b[0m: Unable to allocate 45.8 MiB for an array with shape (3000, 2000) and data type float64"
     ]
    }
   ],
   "source": [
    "sigma_1 = 1\n",
    "sigma_2 = 1\n",
    "L = env.L\n",
    "T = 2000\n",
    "K = 10\n",
    "p = env.p\n",
    "gamma_prior_mean = np.zeros(env.p)\n",
    "gamma_prior_cov = np.identity(env.p)\n",
    "Xs = env.Phi\n",
    "update_freq = 1\n",
    "seed = 0\n",
    "MTSS_agent = MTSS_Comb.MTSS_Semi(sigma_1 = sigma_1, sigma_2 = sigma_2, L=L, T = T, K = K,\n",
    "                                 gamma_prior_mean = gamma_prior_mean, gamma_prior_cov = gamma_prior_cov,\n",
    "                                 Xs = Xs, update_freq = update_freq, seed = seed)"
   ]
  },
  {
   "cell_type": "markdown",
   "id": "5b9f740a-5476-4255-908c-d123a968fcf9",
   "metadata": {},
   "source": [
    "### Recommendation and Interaction\n",
    "We fisrt observe the feature information $X$ by\n",
    "<code> X = env.Phi </code>. (Note: if an intercept is considered, the X should include a column of ones).\n",
    "Starting from t = 0, for each step t, there are three steps:\n",
    "1. Recommend an action (a set of ordered restaturants)\n",
    "<code> A = MTSS_agent.take_action(X) </code>\n",
    "2. Get the reward of each item recommended from the environment\n",
    "<code> R, _, tot_R = env.get_reward(A, t) </code>\n",
    "3. Update the posterior distribution\n",
    "<code> MTSS_agent.receive_reward(t, A, R, X) </code>"
   ]
  },
  {
   "cell_type": "code",
   "execution_count": 5,
   "id": "1bd24bd3-fee7-45b0-8a9b-cd3fd8a06048",
   "metadata": {},
   "outputs": [
    {
     "data": {
      "text/plain": [
       "(0,\n",
       " array([ 686, 2132, 1114,  689, 1523, 1645, 1733, 2671, 1611, 2099]),\n",
       " array([2.1668, 1.9462, 2.5764, 2.4307, 1.9444, 1.9867, 1.846 , 1.504 ,\n",
       "        2.3613, 1.6928]),\n",
       " 20.45535406270607)"
      ]
     },
     "execution_count": 5,
     "metadata": {},
     "output_type": "execute_result"
    }
   ],
   "source": [
    "X = env.Phi\n",
    "t = 0\n",
    "A = MTSS_agent.take_action(X)\n",
    "R, _, tot_R = env.get_reward(A, t)\n",
    "MTSS_agent.receive_reward(t, A, R, X)\n",
    "t, A, R, tot_R"
   ]
  },
  {
   "cell_type": "markdown",
   "id": "26c6b8ae",
   "metadata": {},
   "source": [
    "**Interpretation**: For step 0, the agent decides to send the advertisement to 10 potential customers (686, 2132, 1114,  689, 1523, 1645, 1733, 2671, 1611, 2099), and then receives a total reward of $20.46$."
   ]
  },
  {
   "cell_type": "markdown",
   "id": "3a0fa6ea",
   "metadata": {},
   "source": [
    "## References\n",
    "[1] Wan, R., Ge, L., & Song, R. (2022). Towards Scalable and Robust Structured Bandits: A Meta-Learning Framework. arXiv preprint arXiv:2202.13227.\n",
    "[2] Van Parys, B., & Golrezaei, N. (2020). Optimal learning for structured bandits. Available at SSRN 3651397."
   ]
  }
 ],
 "metadata": {
  "kernelspec": {
   "display_name": "Python 3 (ipykernel)",
   "language": "python",
   "name": "python3"
  },
  "language_info": {
   "codemirror_mode": {
    "name": "ipython",
    "version": 3
   },
   "file_extension": ".py",
   "mimetype": "text/x-python",
   "name": "python",
   "nbconvert_exporter": "python",
   "pygments_lexer": "ipython3",
   "version": "3.9.12"
  }
 },
 "nbformat": 4,
 "nbformat_minor": 5
}
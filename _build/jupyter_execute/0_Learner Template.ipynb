{
 "cells": [
  {
   "cell_type": "markdown",
   "id": "c665511c",
   "metadata": {},
   "source": [
    "# Learner Name (Single/Multiple Stages/Infinite Horizon)\n",
    "\n",
    "## Main Idea\n",
    "An overview of the learner include:\n",
    "1. a brief introduction of the learner \n",
    "2. evolution of the learner (i.e. when it is first developed, any alternative extensions?)\n",
    "3. Application situations: Describe the data structure that can be analyzed, and make a connection between the real application situations (mentioned in the Motivating Examples) and the learner (i.e., when can we use the learner) \n",
    "4. the advantage of the learner\n",
    "\n",
    "## Algorithm Details\n",
    "a detailed description of the learner with clear definitions of key concepts.\n",
    "\n",
    "## Key Steps\n",
    "an abstract pseudo-code for policy learning and policy evaluation\n",
    "\n",
    "## Demo Code\n",
    "In the following, we exhibit how to apply the learner on real data to do policy learning and policy evaluation, respectively."
   ]
  },
  {
   "cell_type": "markdown",
   "id": "1613996e",
   "metadata": {},
   "source": [
    "### 1. Policy Learning"
   ]
  },
  {
   "cell_type": "code",
   "execution_count": 1,
   "id": "e580f50d",
   "metadata": {},
   "outputs": [
    {
     "ename": "ImportError",
     "evalue": "cannot import name 'ALearning' from 'causaldm.learners' (/Users/alinaxu/opt/anaconda3/lib/python3.9/site-packages/causaldm/learners/__init__.py)",
     "output_type": "error",
     "traceback": [
      "\u001b[0;31m---------------------------------------------------------------------------\u001b[0m",
      "\u001b[0;31mImportError\u001b[0m                               Traceback (most recent call last)",
      "\u001b[0;32m/var/folders/9j/vb5nb4rd5bx0gr1q5ytx9q600000gn/T/ipykernel_50596/261550316.py\u001b[0m in \u001b[0;36m<module>\u001b[0;34m\u001b[0m\n\u001b[1;32m      1\u001b[0m \u001b[0;31m# code used to import the learner\u001b[0m\u001b[0;34m\u001b[0m\u001b[0;34m\u001b[0m\u001b[0m\n\u001b[0;32m----> 2\u001b[0;31m \u001b[0;32mfrom\u001b[0m \u001b[0mcausaldm\u001b[0m\u001b[0;34m.\u001b[0m\u001b[0mlearners\u001b[0m \u001b[0;32mimport\u001b[0m \u001b[0mALearning\u001b[0m\u001b[0;34m\u001b[0m\u001b[0;34m\u001b[0m\u001b[0m\n\u001b[0m\u001b[1;32m      3\u001b[0m \u001b[0;32mfrom\u001b[0m \u001b[0mcausaldm\u001b[0m\u001b[0;34m.\u001b[0m\u001b[0mtest\u001b[0m \u001b[0;32mimport\u001b[0m \u001b[0mshared_simulation\u001b[0m\u001b[0;34m\u001b[0m\u001b[0;34m\u001b[0m\u001b[0m\n\u001b[1;32m      4\u001b[0m \u001b[0;32mimport\u001b[0m \u001b[0mnumpy\u001b[0m \u001b[0;32mas\u001b[0m \u001b[0mnp\u001b[0m\u001b[0;34m\u001b[0m\u001b[0;34m\u001b[0m\u001b[0m\n",
      "\u001b[0;31mImportError\u001b[0m: cannot import name 'ALearning' from 'causaldm.learners' (/Users/alinaxu/opt/anaconda3/lib/python3.9/site-packages/causaldm/learners/__init__.py)"
     ]
    }
   ],
   "source": [
    "# code used to import the learner\n",
    "from causaldm.learners import ALearning\n",
    "from causaldm.test import shared_simulation\n",
    "import numpy as np"
   ]
  },
  {
   "cell_type": "code",
   "execution_count": 1,
   "id": "efeaa91a",
   "metadata": {},
   "outputs": [],
   "source": [
    "#Demo code to find an optimal regime, \n",
    "#using the appropriate real data described in the motivating examples"
   ]
  },
  {
   "cell_type": "markdown",
   "id": "914d7669",
   "metadata": {},
   "source": [
    "**Interpretation:** A sentence to include the analysis result: the estimated optimal regime is..."
   ]
  },
  {
   "cell_type": "markdown",
   "id": "c25cbdd1",
   "metadata": {},
   "source": [
    "### 2. Policy Evaluation"
   ]
  },
  {
   "cell_type": "code",
   "execution_count": 2,
   "id": "94c098d1",
   "metadata": {},
   "outputs": [],
   "source": [
    "#Demo code to evaluate a fixed policy,\n",
    "#using the appropriate real data described in the motivating examples"
   ]
  },
  {
   "cell_type": "markdown",
   "id": "0852fcdb",
   "metadata": {},
   "source": [
    "**Interpretation:** A sentence to include the analysis result: the estimated value of the policy ... is ..."
   ]
  },
  {
   "cell_type": "markdown",
   "id": "19e318f4",
   "metadata": {},
   "source": [
    "## References"
   ]
  }
 ],
 "metadata": {
  "kernelspec": {
   "display_name": "Python 3",
   "language": "python",
   "name": "python3"
  },
  "language_info": {
   "codemirror_mode": {
    "name": "ipython",
    "version": 3
   },
   "file_extension": ".py",
   "mimetype": "text/x-python",
   "name": "python",
   "nbconvert_exporter": "python",
   "pygments_lexer": "ipython3",
   "version": "3.9.13"
  }
 },
 "nbformat": 4,
 "nbformat_minor": 5
}
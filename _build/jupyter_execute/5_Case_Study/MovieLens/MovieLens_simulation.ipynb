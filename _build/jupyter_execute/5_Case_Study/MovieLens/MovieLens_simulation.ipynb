{
 "cells": [
  {
   "cell_type": "markdown",
   "id": "7554675a-7126-4a35-924f-408b19e36d24",
   "metadata": {},
   "source": [
    "## Specifying the Simulation Environments"
   ]
  },
  {
   "cell_type": "code",
   "execution_count": 1,
   "id": "d65043c3-a228-407c-abc1-94b31db3d3ad",
   "metadata": {},
   "outputs": [
    {
     "ename": "FileNotFoundError",
     "evalue": "[WinError 3] 系统找不到指定的路径。: '/nas/longleaf/home/lge/CausalDM'",
     "output_type": "error",
     "traceback": [
      "\u001b[1;31m---------------------------------------------------------------------------\u001b[0m",
      "\u001b[1;31mFileNotFoundError\u001b[0m                         Traceback (most recent call last)",
      "Input \u001b[1;32mIn [1]\u001b[0m, in \u001b[0;36m<cell line: 3>\u001b[1;34m()\u001b[0m\n\u001b[0;32m      1\u001b[0m \u001b[38;5;28;01mimport\u001b[39;00m \u001b[38;5;21;01mos\u001b[39;00m\n\u001b[0;32m      2\u001b[0m os\u001b[38;5;241m.\u001b[39mgetcwd()\n\u001b[1;32m----> 3\u001b[0m \u001b[43mos\u001b[49m\u001b[38;5;241;43m.\u001b[39;49m\u001b[43mchdir\u001b[49m\u001b[43m(\u001b[49m\u001b[38;5;124;43m'\u001b[39;49m\u001b[38;5;124;43m/nas/longleaf/home/lge/CausalDM\u001b[39;49m\u001b[38;5;124;43m'\u001b[39;49m\u001b[43m)\u001b[49m\n\u001b[0;32m      4\u001b[0m \u001b[38;5;66;03m# import learner\u001b[39;00m\n\u001b[0;32m      5\u001b[0m \u001b[38;5;28;01mfrom\u001b[39;00m \u001b[38;5;21;01mcausaldm\u001b[39;00m\u001b[38;5;21;01m.\u001b[39;00m\u001b[38;5;21;01m_util_causaldm\u001b[39;00m \u001b[38;5;28;01mimport\u001b[39;00m \u001b[38;5;241m*\u001b[39m\n",
      "\u001b[1;31mFileNotFoundError\u001b[0m: [WinError 3] 系统找不到指定的路径。: '/nas/longleaf/home/lge/CausalDM'"
     ]
    }
   ],
   "source": [
    "import os\n",
    "os.getcwd()\n",
    "os.chdir('/nas/longleaf/home/lge/CausalDM')\n",
    "# import learner\n",
    "from causaldm._util_causaldm import *\n",
    "from scipy.linalg import block_diag\n",
    "class Single_Gaussian_Env():\n",
    "    @autoargs()\n",
    "    def __init__(self, true_model, sigma, seed = 42, with_intercept = True, logged_dat = False):\n",
    "        self.setting = locals()\n",
    "        self.setting['self'] = None\n",
    "        self.seed = seed\n",
    "        np.random.seed(self.seed)\n",
    "        \n",
    "        self.true_model = true_model\n",
    "        self.sigma = sigma\n",
    "        \n",
    "        if logged_dat:\n",
    "            self.get_logged_dat()\n",
    "            \n",
    "        \n",
    "    def get_Phi(self):\n",
    "        \"\"\" consider the simple case now \n",
    "        [K, p]\n",
    "        \"\"\"\n",
    "        occup = np.random.multinomial(1, [1/5, 1/5, 1/5, 1/5, 1/5], size=1)\n",
    "        gender = np.random.binomial(1, 1/2, size=1)\n",
    "        age = np.random.randint(low=20, high=60, size = 1)\n",
    "        user_info = age.tolist()+gender.tolist()+occup.tolist()[0][:-1]\n",
    "        if self.with_intercept:\n",
    "            user_info = [1] + user_info\n",
    "        self.Phi = block_diag(*([np.array(user_info)] * 5))   \n",
    "        return self.Phi\n",
    "    \n",
    "    def get_reward(self, a):\n",
    "        self.r_mean = self.Phi.dot(self.true_model)\n",
    "        self.r = self.r_mean\n",
    "        return self.r[a] + abs(np.random.randn(1)[0])*self.sigma\n",
    "    \n",
    "    def optimal_action_reward(self):\n",
    "        a = np.argmax(self.r)\n",
    "        return a\n",
    "    \n",
    "    def get_logged_dat(self):\n",
    "        true_model = self.true_model.reshape((5,-1))\n",
    "        occup = np.random.multinomial(1, [2/5, 3/5, 0, 0, 0], size=100)\n",
    "        gender = np.random.binomial(1, 1/20, size=100).reshape(-1,1)\n",
    "        age = np.random.randint(low=20, high=25, size = 100).reshape(-1,1)\n",
    "        rec_genre = np.random.randint(low=0, high=5, size = 100).reshape(-1,1)\n",
    "        user_info = pd.DataFrame(np.concatenate((age, gender, occup, rec_genre), axis=1))\n",
    "        user_info.columns = ['age', 'gender', 'educator', 'student', 'executive', 'technician', 'others','rec_genre']\n",
    "        user_info['reward'] = user_info.apply(lambda row : np.dot(true_model[row['rec_genre']],\n",
    "                                                          np.array([1]+row.iloc[:-2].tolist()))+\n",
    "                                              self.sigma*abs(np.random.randn(1)[0]), axis = 1)\n",
    "        self.user_info = user_info"
   ]
  },
  {
   "cell_type": "markdown",
   "id": "7ae909ac-b098-4970-9b72-76c3e80b5333",
   "metadata": {},
   "source": [
    "### True Model"
   ]
  },
  {
   "cell_type": "code",
   "execution_count": 37,
   "id": "c81b8d5c-7f21-40c6-88cd-6793e012a80a",
   "metadata": {},
   "outputs": [
    {
     "name": "stdout",
     "output_type": "stream",
     "text": [
      "|          |   inercept |    age |   gender |   educator |   student |   executive |   technician |\n",
      "|:---------|-----------:|-------:|---------:|-----------:|----------:|------------:|-------------:|\n",
      "| comedy   |        1   |  0.01  |     -0.5 |        3.3 |      -0.8 |        -0.5 |          4   |\n",
      "| drama    |        1.5 |  0.03  |     -0.6 |        1.4 |       3.3 |        -1   |         -0.8 |\n",
      "| action   |        1.3 |  0.015 |      1.5 |       -1.2 |       2.6 |         1.5 |         -1   |\n",
      "| thriller |        1.8 | -0.03  |      2.1 |       -1.3 |       2.5 |         3.5 |          1.3 |\n",
      "| scifi    |        1.9 | -0.02  |      1.2 |        1.5 |      -1.1 |         2   |         -0.6 |\n"
     ]
    }
   ],
   "source": [
    "true_model = np.array([ 1.  ,  0.01, -0.5 ,  3.3 , -0.8 , -0.5 ,  4 ,  \n",
    "                        1.5 ,  0.03,  -0.6 ,  1.4 ,  3.3 , -1 , -0.8 ,  \n",
    "                        1.3 ,  0.015,  1.5 , -1.2 ,   2.6 ,  1.5 , -1 ,  \n",
    "                        1.8 , -0.03,  2.1 , -1.3 ,  2.5 , 3.5, 1.3 ,  \n",
    "                        1.9 , -0.02,  1.2 ,  1.5 , -1.1 ,  2 , -.6 ])\n",
    "sigma = 1\n",
    "true_model_1 = pd.DataFrame(true_model.reshape((5,-1)))\n",
    "true_model_1.index = ['comedy', 'drama','action','thriller','scifi']\n",
    "true_model_1.columns = ['inercept', 'age', 'gender', 'educator', 'student', 'executive', 'technician']\n",
    "print(true_model_1.to_markdown())"
   ]
  },
  {
   "cell_type": "markdown",
   "id": "f094ded3-8893-408a-a749-22c43c804003",
   "metadata": {},
   "source": [
    "## Offline Policy Optimization"
   ]
  },
  {
   "cell_type": "code",
   "execution_count": 16,
   "id": "0f621505-70af-4628-9c58-6f4a256e9243",
   "metadata": {},
   "outputs": [],
   "source": [
    "from causaldm.learners import QLearning\n",
    "seed = 0\n",
    "user_info = Single_Gaussian_Env(true_model, sigma, seed = seed, with_intercept = True, logged_dat = True)\n",
    "user_info = user_info.user_info\n",
    "S = user_info[['age', 'gender', 'educator', 'student', 'executive', 'technician']]\n",
    "A = user_info['rec_genre']\n",
    "R = user_info['reward']"
   ]
  },
  {
   "cell_type": "code",
   "execution_count": 17,
   "id": "bf1d89e0-e8fc-470a-b9c6-e66ef5d09351",
   "metadata": {},
   "outputs": [
    {
     "data": {
      "text/plain": [
       "array([[4.45, 0.35, 0.65, 5.15, 1.15],\n",
       "       [3.8 , 5.7 , 1.4 , 1.6 , 2.4 ],\n",
       "       [1.45, 5.25, 4.15, 1.65, 2.65],\n",
       "       [0.35, 4.15, 5.15, 2.95, 1.65],\n",
       "       [3.2 , 0.6 , 3.7 , 1.1 , 1.7 ]])"
      ]
     },
     "execution_count": 17,
     "metadata": {},
     "output_type": "execute_result"
    }
   ],
   "source": [
    "r_mean = block_diag(*([np.array([1,40,.5,1,0,0,0])] * 5)).dot(true_model).tolist()+ block_diag(\n",
    "    *([np.array([1,40,.5,0,1,0,0])] * 5)).dot(true_model).tolist()+ block_diag(\n",
    "    *([np.array([1,40,.5,0,0,1,0])] * 5)).dot(true_model).tolist()+ block_diag(\n",
    "    *([np.array([1,40,.5,0,0,0,1])] * 5)).dot(true_model).tolist()+ block_diag(\n",
    "    *([np.array([1,40,.5,0,0,0,0])] * 5)).dot(true_model).tolist() \n",
    "r_mean = np.array(r_mean).reshape((5,-1))\n",
    "r_mean.T"
   ]
  },
  {
   "cell_type": "code",
   "execution_count": 18,
   "id": "da9528af-b8d5-4391-a467-84c0a67867ae",
   "metadata": {},
   "outputs": [
    {
     "name": "stdout",
     "output_type": "stream",
     "text": [
      "fitted model: Intercept                       1.338373e+00\n",
      "C(rec_genre)[T.1]               2.553173e+00\n",
      "C(rec_genre)[T.2]               1.916054e+00\n",
      "C(rec_genre)[T.3]               2.419341e-01\n",
      "C(rec_genre)[T.4]              -4.574240e-01\n",
      "age                             5.646757e-02\n",
      "C(rec_genre)[T.1]:age          -7.578371e-02\n",
      "C(rec_genre)[T.2]:age          -1.303934e-01\n",
      "C(rec_genre)[T.3]:age          -4.339018e-02\n",
      "C(rec_genre)[T.4]:age          -6.560132e-03\n",
      "gender                          3.625256e-01\n",
      "C(rec_genre)[T.1]:gender        3.893010e-16\n",
      "C(rec_genre)[T.2]:gender        2.984154e-16\n",
      "C(rec_genre)[T.3]:gender        3.818640e-16\n",
      "C(rec_genre)[T.4]:gender        5.184398e-01\n",
      "educator                        2.816416e+00\n",
      "C(rec_genre)[T.1]:educator     -1.784788e+00\n",
      "C(rec_genre)[T.2]:educator     -3.145633e+00\n",
      "C(rec_genre)[T.3]:educator     -4.053477e+00\n",
      "C(rec_genre)[T.4]:educator     -9.396107e-01\n",
      "student                        -1.478043e+00\n",
      "C(rec_genre)[T.1]:student       4.337961e+00\n",
      "C(rec_genre)[T.2]:student       5.061687e+00\n",
      "C(rec_genre)[T.3]:student       4.295411e+00\n",
      "C(rec_genre)[T.4]:student       4.821867e-01\n",
      "executive                       0.000000e+00\n",
      "C(rec_genre)[T.1]:executive     0.000000e+00\n",
      "C(rec_genre)[T.2]:executive     0.000000e+00\n",
      "C(rec_genre)[T.3]:executive     0.000000e+00\n",
      "C(rec_genre)[T.4]:executive     0.000000e+00\n",
      "technician                      0.000000e+00\n",
      "C(rec_genre)[T.1]:technician    0.000000e+00\n",
      "C(rec_genre)[T.2]:technician    0.000000e+00\n",
      "C(rec_genre)[T.3]:technician    0.000000e+00\n",
      "C(rec_genre)[T.4]:technician    0.000000e+00\n",
      "dtype: float64\n",
      "opt regime: rec_genre\n",
      "1            65\n",
      "0            35\n",
      "dtype: int64\n",
      "opt value: 6.0039255479596445\n"
     ]
    }
   ],
   "source": [
    "model_info = [{\"model\": \"reward~C(rec_genre)*(age+gender+educator+student+executive+technician)\", #default is add an intercept!!!\n",
    "              'action_space':{'rec_genre':[0,1,2,3,4]}}]\n",
    "#2. initialize the learner\n",
    "QLearn = QLearning.QLearning()\n",
    "#3. train the policy\n",
    "QLearn.train(S, A, R, model_info, T=1)\n",
    "#4. recommend action\n",
    "opt_d = QLearn.recommend_action(S).value_counts()\n",
    "#5. get the estimated value of the optimal regime\n",
    "V_hat = QLearn.predict_value(S)\n",
    "print(\"fitted model:\",QLearn.fitted_model[0].params)\n",
    "print(\"opt regime:\",opt_d)\n",
    "print(\"opt value:\",V_hat)"
   ]
  },
  {
   "cell_type": "code",
   "execution_count": 19,
   "id": "eba14300-6407-4577-b0d5-48ee51237d43",
   "metadata": {},
   "outputs": [
    {
     "name": "stdout",
     "output_type": "stream",
     "text": [
      "|          |   inercept |        age |   gender |   educator |   student |   executive |   technician |\n",
      "|:---------|-----------:|-----------:|---------:|-----------:|----------:|------------:|-------------:|\n",
      "| comedy   |   1.33837  |  0.0564676 | 0.362526 |   2.81642  | -1.47804  |           0 |            0 |\n",
      "| drama    |   3.89155  | -0.0193161 | 0.362526 |   1.03163  |  2.85992  |           0 |            0 |\n",
      "| action   |   3.25443  | -0.0739259 | 0.362526 |  -0.329217 |  3.58364  |           0 |            0 |\n",
      "| thriller |   1.58031  |  0.0130774 | 0.362526 |  -1.23706  |  2.81737  |           0 |            0 |\n",
      "| scifi    |   0.880949 |  0.0499074 | 0.880965 |   1.87681  | -0.995856 |           0 |            0 |\n"
     ]
    }
   ],
   "source": [
    "fitted_model = np.array(QLearn.fitted_model[0].params).reshape((7,-1)).T\n",
    "fitted_model[1:,:] += fitted_model[0,:]\n",
    "fitted_model = pd.DataFrame(fitted_model)\n",
    "fitted_model.index = ['comedy', 'drama','action','thriller','scifi']\n",
    "fitted_model.columns = ['inercept', 'age', 'gender', 'educator', 'student', 'executive', 'technician']\n",
    "print(fitted_model.to_markdown())"
   ]
  },
  {
   "cell_type": "markdown",
   "id": "f8fa33c4-33d7-4b73-a9a2-ca551ebd5a12",
   "metadata": {},
   "source": [
    "## Online MAB"
   ]
  },
  {
   "cell_type": "code",
   "execution_count": 21,
   "id": "0750f895-3e18-4897-94e8-4565103019c7",
   "metadata": {},
   "outputs": [],
   "source": [
    "T = 1000\n",
    "S = 100\n",
    "p = len(true_model)\n",
    "K = 5\n",
    "sigma = 1\n",
    "estimated_gamma = np.array(fitted_model).reshape(-1)\n",
    "alpha = .1\n",
    "exploration_T = 10*K\n",
    "Reward_Type = \"Gaussian\"\n",
    "u_prior_mean = np.zeros(K)\n",
    "u_prior_cov = 1000*np.identity(K)"
   ]
  },
  {
   "cell_type": "code",
   "execution_count": 26,
   "id": "ab049c62-7631-4dff-83f9-db3d28e1c497",
   "metadata": {},
   "outputs": [],
   "source": [
    "#LINTS-informative\n",
    "from causaldm.learners.Online.CMAB import LinTS, LinUCB\n",
    "from causaldm.learners.Online.MAB import TS, UCB\n",
    "sigma1 = 3\n",
    "cum_reward_greedy = []\n",
    "cum_reward_infoLinTS = []\n",
    "cum_reward_uninfoLinTS = []\n",
    "cum_reward_uninfoLinUCB = []\n",
    "cum_reward_TS = []\n",
    "cum_reward_UCB = []\n",
    "for seed in range(S):\n",
    "    ##Greedy\n",
    "    env = Single_Gaussian_Env(true_model, sigma, seed = seed, with_intercept = True, logged_dat = False)\n",
    "    cum_reward_greedy_t = []\n",
    "    for t in range(T):\n",
    "        X = env.get_Phi()\n",
    "        A = np.argmax(X.dot(estimated_gamma))\n",
    "        R = env.get_reward(A)\n",
    "        cum_reward_greedy_t.append(R)\n",
    "    cum_reward_greedy_t = np.cumsum(cum_reward_greedy_t)/(np.array(range(T))+1)\n",
    "    cum_reward_greedy.append(cum_reward_greedy_t)\n",
    "    \n",
    "    ##info_LINTS\n",
    "    env = Single_Gaussian_Env(true_model, sigma, seed = seed, with_intercept = True, logged_dat = False)\n",
    "    prior_theta_u = np.array(estimated_gamma)\n",
    "    prior_theta_cov = sigma1*np.identity(p)\n",
    "    info_LinTS= LinTS.LinTS_Gaussian(sigma = sigma, prior_theta_u = prior_theta_u, \n",
    "                                                    prior_theta_cov = prior_theta_cov, \n",
    "                                                    K = K, p = p,seed = seed)\n",
    "    cum_reward_infoLinTS_t = []\n",
    "    for t in range(T):\n",
    "        X = env.get_Phi()\n",
    "        A = info_LinTS.take_action(X)\n",
    "        R = env.get_reward(A)\n",
    "        info_LinTS.receive_reward(t,A,R,X)\n",
    "        cum_reward_infoLinTS_t.append(R)\n",
    "    cum_reward_infoLinTS_t = np.cumsum(cum_reward_infoLinTS_t)/(np.array(range(T))+1)\n",
    "    cum_reward_infoLinTS.append(cum_reward_infoLinTS_t)\n",
    "    \n",
    "    \n",
    "    ##uninfo_LINTS\n",
    "    env = Single_Gaussian_Env(true_model, sigma, seed = seed, with_intercept = True, logged_dat = False)\n",
    "    prior_theta_u = np.zeros(p)\n",
    "    prior_theta_cov = 1000*np.identity(p)\n",
    "    uninfo_LinTS= LinTS.LinTS_Gaussian(sigma = sigma, prior_theta_u = prior_theta_u, \n",
    "                                                    prior_theta_cov = prior_theta_cov, \n",
    "                                                    K = K, p = p,seed = seed)\n",
    "    cum_reward_uninfoLinTS_t = []\n",
    "    for t in range(T):\n",
    "        X = env.get_Phi()\n",
    "        A = uninfo_LinTS.take_action(X)\n",
    "        R = env.get_reward(A)\n",
    "        uninfo_LinTS.receive_reward(t,A,R,X)\n",
    "        cum_reward_uninfoLinTS_t.append(R)\n",
    "    cum_reward_uninfoLinTS_t = np.cumsum(cum_reward_uninfoLinTS_t)/(np.array(range(T))+1)\n",
    "    cum_reward_uninfoLinTS.append(cum_reward_uninfoLinTS_t)\n",
    "    \n",
    "    ##uninfo_LINUCB\n",
    "    env = Single_Gaussian_Env(true_model, sigma, seed = seed, with_intercept = True, logged_dat = False)\n",
    "    uninfo_LinUCB= LinUCB.LinUCB_Gaussian(alpha = alpha, K = K, p = p, seed = seed, \n",
    "                                                                 exploration_T = exploration_T)\n",
    "    cum_reward_uninfoLinUCB_t = []\n",
    "    for t in range(T):\n",
    "        X = env.get_Phi()\n",
    "        A = uninfo_LinUCB.take_action(X)\n",
    "        R = env.get_reward(A)\n",
    "        uninfo_LinUCB.receive_reward(t,A,R,X)\n",
    "        cum_reward_uninfoLinUCB_t.append(R)\n",
    "    cum_reward_uninfoLinUCB_t = np.cumsum(cum_reward_uninfoLinUCB_t)/(np.array(range(T))+1)\n",
    "    cum_reward_uninfoLinUCB.append(cum_reward_uninfoLinUCB_t)\n",
    "    \n",
    "    \n",
    "    ##TS\n",
    "    env = Single_Gaussian_Env(true_model, sigma, seed = seed, with_intercept = True, logged_dat = False)\n",
    "    uninfo_TS= TS.TS(Reward_Type = Reward_Type, sigma = sigma, \n",
    "                          u_prior_mean = u_prior_mean, u_prior_cov = u_prior_cov, \n",
    "                          seed = seed)\n",
    "    cum_reward_TS_t = []\n",
    "    for t in range(T):\n",
    "        X = env.get_Phi()\n",
    "        A = uninfo_TS.take_action()\n",
    "        R = env.get_reward(A)\n",
    "        uninfo_TS.receive_reward(t,A,R)\n",
    "        cum_reward_TS_t.append(R)\n",
    "    cum_reward_TS_t = np.cumsum(cum_reward_TS_t)/(np.array(range(T))+1)\n",
    "    cum_reward_TS.append(cum_reward_TS_t)\n",
    "    \n",
    "    ##UCB\n",
    "    env = Single_Gaussian_Env(true_model, sigma, seed = seed, with_intercept = True, logged_dat = False)\n",
    "    uninfo_UCB= UCB.UCB1(K)\n",
    "    cum_reward_UCB_t = []\n",
    "    for t in range(T):\n",
    "        X = env.get_Phi()\n",
    "        A = uninfo_UCB.take_action()\n",
    "        R = env.get_reward(A)\n",
    "        uninfo_UCB.receive_reward(t,A,R)\n",
    "        cum_reward_UCB_t.append(R)\n",
    "    cum_reward_UCB_t = np.cumsum(cum_reward_UCB_t)/(np.array(range(T))+1)\n",
    "    cum_reward_UCB.append(cum_reward_UCB_t)\n",
    "    \n",
    "    "
   ]
  },
  {
   "cell_type": "code",
   "execution_count": 36,
   "id": "36a0415a-057c-4257-bd92-b6f3eaddabeb",
   "metadata": {},
   "outputs": [
    {
     "data": {
      "image/png": "[encoded data removed]",
      "text/plain": [
       "<Figure size 432x288 with 1 Axes>"
      ]
     },
     "metadata": {
      "filenames": {
       "image/png": "D:\\GitHub\\Causal-Decision-Making\\_build\\jupyter_execute\\5_Case_Study\\MovieLens\\MovieLens_simulation_12_0.png"
      },
      "needs_background": "light"
     },
     "output_type": "display_data"
    }
   ],
   "source": [
    "import seaborn as sns\n",
    "result = pd.DataFrame({'rep':np.concatenate([np.ones(T)*rep for rep in range(S)]*6),\n",
    "                       't':np.concatenate([range(T)]*6*S),\n",
    "                       'Reward':np.concatenate(cum_reward_greedy+\n",
    "                                               cum_reward_infoLinTS+\n",
    "                                               cum_reward_uninfoLinTS+\n",
    "                                               cum_reward_uninfoLinUCB+\n",
    "                                               cum_reward_TS+\n",
    "                                               cum_reward_UCB),\n",
    "                       'Algo':['greedy']*T*S+['info_LinTS']*T*S+['uninfo_LinTS']*T*S+['uninfo_LinUCB']*T*S+['TS']*T*S+['UCB']*T*S})\n",
    "sns.lineplot(data=result[result.t>0], x='t', y=\"Reward\", hue=\"Algo\", ci = 95,\n",
    "             n_boot = 20, linewidth = 1.0, markers = False)\n",
    "plt.legend(bbox_to_anchor=(1.02, 1), loc='upper left', borderaxespad=0)\n",
    "plt.ylabel('Average Reward')\n",
    "plt.savefig('MovieLens_Contextual.png')"
   ]
  },
  {
   "cell_type": "code",
   "execution_count": null,
   "id": "f1406a7f-8a14-44af-a328-6e010b580633",
   "metadata": {},
   "outputs": [],
   "source": []
  }
 ],
 "metadata": {
  "kernelspec": {
   "display_name": "Python 3 (ipykernel)",
   "language": "python",
   "name": "python3"
  },
  "language_info": {
   "codemirror_mode": {
    "name": "ipython",
    "version": 3
   },
   "file_extension": ".py",
   "mimetype": "text/x-python",
   "name": "python",
   "nbconvert_exporter": "python",
   "pygments_lexer": "ipython3",
   "version": "3.9.12"
  }
 },
 "nbformat": 4,
 "nbformat_minor": 5
}
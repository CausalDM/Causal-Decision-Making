{
 "cells": [
  {
   "cell_type": "markdown",
   "metadata": {
    "id": "eIsUfYIUgymO"
   },
   "source": [
    "## Causal Effect Learning"
   ]
  },
  {
   "cell_type": "code",
   "execution_count": 1,
   "metadata": {
    "executionInfo": {
     "elapsed": 1315,
     "status": "ok",
     "timestamp": 1676658868260,
     "user": {
      "displayName": "Yang Xu",
      "userId": "12270366590264264299"
     },
     "user_tz": 300
    },
    "id": "sChm330Qg0SB"
   },
   "outputs": [
    {
     "name": "stderr",
     "output_type": "stream",
     "text": [
      "WARNING (theano.configdefaults): g++ not detected ! Theano will be unable to execute optimized C-implementations (for both CPU and GPU) and will default to Python implementations. Performance will be severely degraded. To remove this warning, set Theano flags cxx to an empty string.\n"
     ]
    },
    {
     "name": "stderr",
     "output_type": "stream",
     "text": [
      "WARNING (theano.tensor.blas): Using NumPy C-API based implementation for BLAS functions.\n"
     ]
    },
    {
     "ename": "FileNotFoundError",
     "evalue": "[Errno 2] No such file or directory: './causaldm/learners/Online/MovieLens_MTTS_1M.txt'",
     "output_type": "error",
     "traceback": [
      "\u001b[0;31m---------------------------------------------------------------------------\u001b[0m",
      "\u001b[0;31mFileNotFoundError\u001b[0m                         Traceback (most recent call last)",
      "\u001b[0;32m/var/folders/9j/vb5nb4rd5bx0gr1q5ytx9q600000gn/T/ipykernel_31970/3560118741.py\u001b[0m in \u001b[0;36m<module>\u001b[0;34m\u001b[0m\n\u001b[1;32m      1\u001b[0m \u001b[0;32mimport\u001b[0m \u001b[0mnumpy\u001b[0m \u001b[0;32mas\u001b[0m \u001b[0mnp\u001b[0m\u001b[0;34m\u001b[0m\u001b[0;34m\u001b[0m\u001b[0m\n\u001b[1;32m      2\u001b[0m \u001b[0;32mimport\u001b[0m \u001b[0mcausaldm\u001b[0m\u001b[0;34m.\u001b[0m\u001b[0mcausaldm\u001b[0m\u001b[0;34m.\u001b[0m\u001b[0mlearners\u001b[0m\u001b[0;34m.\u001b[0m\u001b[0mOnline\u001b[0m\u001b[0;34m.\u001b[0m\u001b[0mCMAB\u001b[0m\u001b[0;34m.\u001b[0m\u001b[0m_env_realCMAB\u001b[0m \u001b[0;32mas\u001b[0m \u001b[0menv\u001b[0m\u001b[0;34m\u001b[0m\u001b[0;34m\u001b[0m\u001b[0m\n\u001b[0;32m----> 3\u001b[0;31m \u001b[0mdata\u001b[0m \u001b[0;34m=\u001b[0m \u001b[0menv\u001b[0m\u001b[0;34m.\u001b[0m\u001b[0mget_movielens\u001b[0m\u001b[0;34m(\u001b[0m\u001b[0;34m)\u001b[0m\u001b[0;34m\u001b[0m\u001b[0;34m\u001b[0m\u001b[0m\n\u001b[0m",
      "\u001b[0;32m~/opt/anaconda3/lib/python3.9/site-packages/causaldm/causaldm/learners/Online/CMAB/_env_realCMAB.py\u001b[0m in \u001b[0;36mget_movielens\u001b[0;34m()\u001b[0m\n\u001b[1;32m     63\u001b[0m \u001b[0;34m\u001b[0m\u001b[0m\n\u001b[1;32m     64\u001b[0m \u001b[0;32mdef\u001b[0m \u001b[0mget_movielens\u001b[0m\u001b[0;34m(\u001b[0m\u001b[0;34m)\u001b[0m\u001b[0;34m:\u001b[0m\u001b[0;34m\u001b[0m\u001b[0;34m\u001b[0m\u001b[0m\n\u001b[0;32m---> 65\u001b[0;31m     \u001b[0;32mwith\u001b[0m \u001b[0mopen\u001b[0m\u001b[0;34m(\u001b[0m\u001b[0;34m\"./causaldm/learners/Online/MovieLens_MTTS_1M.txt\"\u001b[0m\u001b[0;34m,\u001b[0m \u001b[0;34m\"rb\"\u001b[0m\u001b[0;34m)\u001b[0m \u001b[0;32mas\u001b[0m \u001b[0mfp\u001b[0m\u001b[0;34m:\u001b[0m\u001b[0;34m\u001b[0m\u001b[0;34m\u001b[0m\u001b[0m\n\u001b[0m\u001b[1;32m     66\u001b[0m         \u001b[0mMovieLens\u001b[0m \u001b[0;34m=\u001b[0m \u001b[0mpickle\u001b[0m\u001b[0;34m.\u001b[0m\u001b[0mload\u001b[0m\u001b[0;34m(\u001b[0m\u001b[0mfp\u001b[0m\u001b[0;34m)\u001b[0m\u001b[0;34m\u001b[0m\u001b[0;34m\u001b[0m\u001b[0m\n\u001b[1;32m     67\u001b[0m     \u001b[0;32mreturn\u001b[0m \u001b[0mMovieLens\u001b[0m\u001b[0;34m\u001b[0m\u001b[0;34m\u001b[0m\u001b[0m\n",
      "\u001b[0;31mFileNotFoundError\u001b[0m: [Errno 2] No such file or directory: './causaldm/learners/Online/MovieLens_MTTS_1M.txt'"
     ]
    }
   ],
   "source": [
    "import numpy as np\n",
    "import causaldm.causaldm.learners.Online.CMAB._env_realCMAB as env\n",
    "data = env.get_movielens()"
   ]
  },
  {
   "cell_type": "code",
   "execution_count": 2,
   "metadata": {
    "colab": {
     "base_uri": "https://localhost:8080/"
    },
    "executionInfo": {
     "elapsed": 311,
     "status": "ok",
     "timestamp": 1676658886497,
     "user": {
      "displayName": "Yang Xu",
      "userId": "12270366590264264299"
     },
     "user_tz": 300
    },
    "id": "ojZ70sT9yhLU",
    "outputId": "c802146a-7905-4912-f0c5-c9df3bf87c1b"
   },
   "outputs": [
    {
     "data": {
      "text/plain": [
       "dict_keys(['Individual', 'Xs', 'mean_ri', 'standardized_Xs'])"
      ]
     },
     "execution_count": 2,
     "metadata": {},
     "output_type": "execute_result"
    }
   ],
   "source": [
    "data.keys()"
   ]
  },
  {
   "cell_type": "code",
   "execution_count": 4,
   "metadata": {
    "executionInfo": {
     "elapsed": 2,
     "status": "ok",
     "timestamp": 1676658887901,
     "user": {
      "displayName": "Yang Xu",
      "userId": "12270366590264264299"
     },
     "user_tz": 300
    },
    "id": "Nn-836gl3WK9"
   },
   "outputs": [],
   "source": [
    "data_ML = data['Individual']"
   ]
  },
  {
   "cell_type": "code",
   "execution_count": 5,
   "metadata": {
    "colab": {
     "base_uri": "https://localhost:8080/"
    },
    "executionInfo": {
     "elapsed": 15,
     "status": "ok",
     "timestamp": 1676658888461,
     "user": {
      "displayName": "Yang Xu",
      "userId": "12270366590264264299"
     },
     "user_tz": 300
    },
    "id": "UWsTWL2T4UMV",
    "outputId": "4aafbfcd-a845-4137-9dea-c4934b56c19f"
   },
   "outputs": [
    {
     "data": {
      "text/plain": [
       "dict_keys([48, 53, 169, 202, 329, 331, 352, 411, 424, 524, 692, 699, 770, 839, 1010, 1019, 1051, 1068, 1120, 1137, 1181, 1203, 1242, 1244, 1246, 1264, 1266, 1274, 1285, 1317, 1340, 1383, 1422, 1447, 1470, 1579, 1639, 1671, 1676, 1741, 1748, 1780, 1880, 1912, 1920, 1926, 1941, 1943, 1980, 1988, 2010, 2015, 2063, 2073, 2092, 2105, 2181, 2453, 2507, 2544, 2793, 2820, 2857, 2909, 3029, 3067, 3272, 3280, 3285, 3336, 3389, 3391, 3410, 3462, 3483, 3507, 3539, 3589, 3618, 3626, 3648, 3650, 3681, 3705, 3778, 3808, 3824, 3884, 3934, 3942, 3999, 4016, 4048, 4064, 4089, 4169, 4186, 4305, 4344, 4425, 4482, 4510, 4578, 4682, 4802, 5074, 5107, 5220, 5317, 5367, 5387, 5394, 5433, 5504, 5511, 5614, 5627, 5636, 5643, 5682, 5759, 5763, 5795, 5812, 5831, 5880, 6016, 148, 149, 528, 678, 970, 1050, 1125, 1194, 1605, 1958, 2077, 2116, 2419, 2777, 2986, 3312, 3471, 3768, 3829, 4579, 5026, 5306, 5312, 5333, 5530, 5837, 5996, 302, 877, 1207, 1635, 1778, 2124, 3018, 3032, 3311, 3401, 3675, 4028, 4387, 4808, 5788, 1764, 2012, 3823, 4140, 4411, 5878])"
      ]
     },
     "execution_count": 5,
     "metadata": {},
     "output_type": "execute_result"
    }
   ],
   "source": [
    "data_ML.keys()"
   ]
  },
  {
   "cell_type": "code",
   "execution_count": 6,
   "metadata": {
    "colab": {
     "base_uri": "https://localhost:8080/"
    },
    "executionInfo": {
     "elapsed": 4,
     "status": "ok",
     "timestamp": 1676658888764,
     "user": {
      "displayName": "Yang Xu",
      "userId": "12270366590264264299"
     },
     "user_tz": 300
    },
    "id": "zDkL593R39us",
    "outputId": "9bb632bb-329c-45cc-eb68-ccd1788f3f7c"
   },
   "outputs": [
    {
     "data": {
      "text/plain": [
       "dict_keys(['Phi', 'Comedy', 'Drama', 'Action', 'Thriller', 'Sci-Fi'])"
      ]
     },
     "execution_count": 6,
     "metadata": {},
     "output_type": "execute_result"
    }
   ],
   "source": [
    "data_ML[48].keys()"
   ]
  },
  {
   "cell_type": "code",
   "execution_count": 7,
   "metadata": {
    "colab": {
     "base_uri": "https://localhost:8080/"
    },
    "executionInfo": {
     "elapsed": 16,
     "status": "ok",
     "timestamp": 1676658889734,
     "user": {
      "displayName": "Yang Xu",
      "userId": "12270366590264264299"
     },
     "user_tz": 300
    },
    "id": "Up6CYlwa4K8o",
    "outputId": "a593ed8d-e350-44d1-deba-352bd8bab9ff"
   },
   "outputs": [
    {
     "data": {
      "text/plain": [
       "{'complete':        user_id  movie_id  rating   age  Comedy  Drama  Action  Thriller  \\\n",
       " 4220        48    2355.0     4.0  25.0     1.0    0.0     0.0       0.0   \n",
       " 14400       48    2918.0     4.0  25.0     1.0    0.0     0.0       0.0   \n",
       " 16752       48    2791.0     4.0  25.0     1.0    0.0     0.0       0.0   \n",
       " 20195       48    2797.0     4.0  25.0     1.0    0.0     0.0       0.0   \n",
       " 21689       48    2321.0     3.0  25.0     1.0    0.0     0.0       0.0   \n",
       " ...        ...       ...     ...   ...     ...    ...     ...       ...   \n",
       " 355916    48.0     450.0     3.0  25.0     1.0    0.0     0.0       0.0   \n",
       " 361546    48.0    2926.0     2.0  25.0     1.0    0.0     0.0       0.0   \n",
       " 379684    48.0    3477.0     3.0  25.0     1.0    0.0     0.0       0.0   \n",
       " 380838    48.0     360.0     2.0  25.0     1.0    0.0     0.0       0.0   \n",
       " 380966    48.0     516.0     3.0  25.0     1.0    0.0     0.0       0.0   \n",
       " \n",
       "         Sci-Fi  gender_M  occupation_academic/educator  \\\n",
       " 4220       0.0       1.0                           0.0   \n",
       " 14400      0.0       1.0                           0.0   \n",
       " 16752      0.0       1.0                           0.0   \n",
       " 20195      0.0       1.0                           0.0   \n",
       " 21689      0.0       1.0                           0.0   \n",
       " ...        ...       ...                           ...   \n",
       " 355916     0.0       1.0                           0.0   \n",
       " 361546     0.0       1.0                           0.0   \n",
       " 379684     0.0       1.0                           0.0   \n",
       " 380838     0.0       1.0                           0.0   \n",
       " 380966     0.0       1.0                           0.0   \n",
       " \n",
       "         occupation_college/grad student  occupation_executive/managerial  \\\n",
       " 4220                                1.0                              0.0   \n",
       " 14400                               1.0                              0.0   \n",
       " 16752                               1.0                              0.0   \n",
       " 20195                               1.0                              0.0   \n",
       " 21689                               1.0                              0.0   \n",
       " ...                                 ...                              ...   \n",
       " 355916                              1.0                              0.0   \n",
       " 361546                              1.0                              0.0   \n",
       " 379684                              1.0                              0.0   \n",
       " 380838                              1.0                              0.0   \n",
       " 380966                              1.0                              0.0   \n",
       " \n",
       "         occupation_other  occupation_technician/engineer  \n",
       " 4220                 0.0                             0.0  \n",
       " 14400                0.0                             0.0  \n",
       " 16752                0.0                             0.0  \n",
       " 20195                0.0                             0.0  \n",
       " 21689                0.0                             0.0  \n",
       " ...                  ...                             ...  \n",
       " 355916               0.0                             0.0  \n",
       " 361546               0.0                             0.0  \n",
       " 379684               0.0                             0.0  \n",
       " 380838               0.0                             0.0  \n",
       " 380966               0.0                             0.0  \n",
       " \n",
       " [240 rows x 15 columns],\n",
       " 'Reward': [[3.0, 2.0, 4.0, 1.0, 5.0], [126, 67, 36, 6, 5]]}"
      ]
     },
     "execution_count": 7,
     "metadata": {},
     "output_type": "execute_result"
    }
   ],
   "source": [
    "data_ML[48]['Comedy']"
   ]
  },
  {
   "cell_type": "code",
   "execution_count": 8,
   "metadata": {
    "colab": {
     "base_uri": "https://localhost:8080/",
     "height": 505
    },
    "executionInfo": {
     "elapsed": 14,
     "status": "ok",
     "timestamp": 1676658891361,
     "user": {
      "displayName": "Yang Xu",
      "userId": "12270366590264264299"
     },
     "user_tz": 300
    },
    "id": "svoBuw1t4e3-",
    "outputId": "a43e0fbc-8dcc-44e4-84bd-a30f0ad3dca5"
   },
   "outputs": [
    {
     "data": {
      "text/html": [
       "<div>\n",
       "<style scoped>\n",
       "    .dataframe tbody tr th:only-of-type {\n",
       "        vertical-align: middle;\n",
       "    }\n",
       "\n",
       "    .dataframe tbody tr th {\n",
       "        vertical-align: top;\n",
       "    }\n",
       "\n",
       "    .dataframe thead th {\n",
       "        text-align: right;\n",
       "    }\n",
       "</style>\n",
       "<table border=\"1\" class=\"dataframe\">\n",
       "  <thead>\n",
       "    <tr style=\"text-align: right;\">\n",
       "      <th></th>\n",
       "      <th>user_id</th>\n",
       "      <th>movie_id</th>\n",
       "      <th>rating</th>\n",
       "      <th>age</th>\n",
       "      <th>Comedy</th>\n",
       "      <th>Drama</th>\n",
       "      <th>Action</th>\n",
       "      <th>Thriller</th>\n",
       "      <th>Sci-Fi</th>\n",
       "      <th>gender_M</th>\n",
       "      <th>occupation_academic/educator</th>\n",
       "      <th>occupation_college/grad student</th>\n",
       "      <th>occupation_executive/managerial</th>\n",
       "      <th>occupation_other</th>\n",
       "      <th>occupation_technician/engineer</th>\n",
       "    </tr>\n",
       "  </thead>\n",
       "  <tbody>\n",
       "    <tr>\n",
       "      <th>14</th>\n",
       "      <td>48</td>\n",
       "      <td>1193.0</td>\n",
       "      <td>4.0</td>\n",
       "      <td>25.0</td>\n",
       "      <td>0.0</td>\n",
       "      <td>1.0</td>\n",
       "      <td>0.0</td>\n",
       "      <td>0.0</td>\n",
       "      <td>0.0</td>\n",
       "      <td>1.0</td>\n",
       "      <td>0.0</td>\n",
       "      <td>1.0</td>\n",
       "      <td>0.0</td>\n",
       "      <td>0.0</td>\n",
       "      <td>0.0</td>\n",
       "    </tr>\n",
       "    <tr>\n",
       "      <th>11057</th>\n",
       "      <td>48</td>\n",
       "      <td>919.0</td>\n",
       "      <td>4.0</td>\n",
       "      <td>25.0</td>\n",
       "      <td>0.0</td>\n",
       "      <td>1.0</td>\n",
       "      <td>0.0</td>\n",
       "      <td>0.0</td>\n",
       "      <td>0.0</td>\n",
       "      <td>1.0</td>\n",
       "      <td>0.0</td>\n",
       "      <td>1.0</td>\n",
       "      <td>0.0</td>\n",
       "      <td>0.0</td>\n",
       "      <td>0.0</td>\n",
       "    </tr>\n",
       "    <tr>\n",
       "      <th>25871</th>\n",
       "      <td>48</td>\n",
       "      <td>527.0</td>\n",
       "      <td>5.0</td>\n",
       "      <td>25.0</td>\n",
       "      <td>0.0</td>\n",
       "      <td>1.0</td>\n",
       "      <td>0.0</td>\n",
       "      <td>0.0</td>\n",
       "      <td>0.0</td>\n",
       "      <td>1.0</td>\n",
       "      <td>0.0</td>\n",
       "      <td>1.0</td>\n",
       "      <td>0.0</td>\n",
       "      <td>0.0</td>\n",
       "      <td>0.0</td>\n",
       "    </tr>\n",
       "    <tr>\n",
       "      <th>31166</th>\n",
       "      <td>48</td>\n",
       "      <td>1721.0</td>\n",
       "      <td>4.0</td>\n",
       "      <td>25.0</td>\n",
       "      <td>0.0</td>\n",
       "      <td>1.0</td>\n",
       "      <td>0.0</td>\n",
       "      <td>0.0</td>\n",
       "      <td>0.0</td>\n",
       "      <td>1.0</td>\n",
       "      <td>0.0</td>\n",
       "      <td>1.0</td>\n",
       "      <td>0.0</td>\n",
       "      <td>0.0</td>\n",
       "      <td>0.0</td>\n",
       "    </tr>\n",
       "    <tr>\n",
       "      <th>40383</th>\n",
       "      <td>48</td>\n",
       "      <td>150.0</td>\n",
       "      <td>4.0</td>\n",
       "      <td>25.0</td>\n",
       "      <td>0.0</td>\n",
       "      <td>1.0</td>\n",
       "      <td>0.0</td>\n",
       "      <td>0.0</td>\n",
       "      <td>0.0</td>\n",
       "      <td>1.0</td>\n",
       "      <td>0.0</td>\n",
       "      <td>1.0</td>\n",
       "      <td>0.0</td>\n",
       "      <td>0.0</td>\n",
       "      <td>0.0</td>\n",
       "    </tr>\n",
       "    <tr>\n",
       "      <th>...</th>\n",
       "      <td>...</td>\n",
       "      <td>...</td>\n",
       "      <td>...</td>\n",
       "      <td>...</td>\n",
       "      <td>...</td>\n",
       "      <td>...</td>\n",
       "      <td>...</td>\n",
       "      <td>...</td>\n",
       "      <td>...</td>\n",
       "      <td>...</td>\n",
       "      <td>...</td>\n",
       "      <td>...</td>\n",
       "      <td>...</td>\n",
       "      <td>...</td>\n",
       "      <td>...</td>\n",
       "    </tr>\n",
       "    <tr>\n",
       "      <th>377598</th>\n",
       "      <td>48.0</td>\n",
       "      <td>3404.0</td>\n",
       "      <td>5.0</td>\n",
       "      <td>25.0</td>\n",
       "      <td>0.0</td>\n",
       "      <td>1.0</td>\n",
       "      <td>0.0</td>\n",
       "      <td>0.0</td>\n",
       "      <td>0.0</td>\n",
       "      <td>1.0</td>\n",
       "      <td>0.0</td>\n",
       "      <td>1.0</td>\n",
       "      <td>0.0</td>\n",
       "      <td>0.0</td>\n",
       "      <td>0.0</td>\n",
       "    </tr>\n",
       "    <tr>\n",
       "      <th>378510</th>\n",
       "      <td>48.0</td>\n",
       "      <td>996.0</td>\n",
       "      <td>3.0</td>\n",
       "      <td>25.0</td>\n",
       "      <td>0.0</td>\n",
       "      <td>1.0</td>\n",
       "      <td>0.0</td>\n",
       "      <td>0.0</td>\n",
       "      <td>0.0</td>\n",
       "      <td>1.0</td>\n",
       "      <td>0.0</td>\n",
       "      <td>1.0</td>\n",
       "      <td>0.0</td>\n",
       "      <td>0.0</td>\n",
       "      <td>0.0</td>\n",
       "    </tr>\n",
       "    <tr>\n",
       "      <th>379685</th>\n",
       "      <td>48.0</td>\n",
       "      <td>3477.0</td>\n",
       "      <td>3.0</td>\n",
       "      <td>25.0</td>\n",
       "      <td>0.0</td>\n",
       "      <td>1.0</td>\n",
       "      <td>0.0</td>\n",
       "      <td>0.0</td>\n",
       "      <td>0.0</td>\n",
       "      <td>1.0</td>\n",
       "      <td>0.0</td>\n",
       "      <td>1.0</td>\n",
       "      <td>0.0</td>\n",
       "      <td>0.0</td>\n",
       "      <td>0.0</td>\n",
       "    </tr>\n",
       "    <tr>\n",
       "      <th>380598</th>\n",
       "      <td>48.0</td>\n",
       "      <td>280.0</td>\n",
       "      <td>3.0</td>\n",
       "      <td>25.0</td>\n",
       "      <td>0.0</td>\n",
       "      <td>1.0</td>\n",
       "      <td>0.0</td>\n",
       "      <td>0.0</td>\n",
       "      <td>0.0</td>\n",
       "      <td>1.0</td>\n",
       "      <td>0.0</td>\n",
       "      <td>1.0</td>\n",
       "      <td>0.0</td>\n",
       "      <td>0.0</td>\n",
       "      <td>0.0</td>\n",
       "    </tr>\n",
       "    <tr>\n",
       "      <th>380967</th>\n",
       "      <td>48.0</td>\n",
       "      <td>516.0</td>\n",
       "      <td>3.0</td>\n",
       "      <td>25.0</td>\n",
       "      <td>0.0</td>\n",
       "      <td>1.0</td>\n",
       "      <td>0.0</td>\n",
       "      <td>0.0</td>\n",
       "      <td>0.0</td>\n",
       "      <td>1.0</td>\n",
       "      <td>0.0</td>\n",
       "      <td>1.0</td>\n",
       "      <td>0.0</td>\n",
       "      <td>0.0</td>\n",
       "      <td>0.0</td>\n",
       "    </tr>\n",
       "  </tbody>\n",
       "</table>\n",
       "<p>152 rows × 15 columns</p>\n",
       "</div>"
      ],
      "text/plain": [
       "       user_id  movie_id  rating   age  Comedy  Drama  Action  Thriller  \\\n",
       "14          48    1193.0     4.0  25.0     0.0    1.0     0.0       0.0   \n",
       "11057       48     919.0     4.0  25.0     0.0    1.0     0.0       0.0   \n",
       "25871       48     527.0     5.0  25.0     0.0    1.0     0.0       0.0   \n",
       "31166       48    1721.0     4.0  25.0     0.0    1.0     0.0       0.0   \n",
       "40383       48     150.0     4.0  25.0     0.0    1.0     0.0       0.0   \n",
       "...        ...       ...     ...   ...     ...    ...     ...       ...   \n",
       "377598    48.0    3404.0     5.0  25.0     0.0    1.0     0.0       0.0   \n",
       "378510    48.0     996.0     3.0  25.0     0.0    1.0     0.0       0.0   \n",
       "379685    48.0    3477.0     3.0  25.0     0.0    1.0     0.0       0.0   \n",
       "380598    48.0     280.0     3.0  25.0     0.0    1.0     0.0       0.0   \n",
       "380967    48.0     516.0     3.0  25.0     0.0    1.0     0.0       0.0   \n",
       "\n",
       "        Sci-Fi  gender_M  occupation_academic/educator  \\\n",
       "14         0.0       1.0                           0.0   \n",
       "11057      0.0       1.0                           0.0   \n",
       "25871      0.0       1.0                           0.0   \n",
       "31166      0.0       1.0                           0.0   \n",
       "40383      0.0       1.0                           0.0   \n",
       "...        ...       ...                           ...   \n",
       "377598     0.0       1.0                           0.0   \n",
       "378510     0.0       1.0                           0.0   \n",
       "379685     0.0       1.0                           0.0   \n",
       "380598     0.0       1.0                           0.0   \n",
       "380967     0.0       1.0                           0.0   \n",
       "\n",
       "        occupation_college/grad student  occupation_executive/managerial  \\\n",
       "14                                  1.0                              0.0   \n",
       "11057                               1.0                              0.0   \n",
       "25871                               1.0                              0.0   \n",
       "31166                               1.0                              0.0   \n",
       "40383                               1.0                              0.0   \n",
       "...                                 ...                              ...   \n",
       "377598                              1.0                              0.0   \n",
       "378510                              1.0                              0.0   \n",
       "379685                              1.0                              0.0   \n",
       "380598                              1.0                              0.0   \n",
       "380967                              1.0                              0.0   \n",
       "\n",
       "        occupation_other  occupation_technician/engineer  \n",
       "14                   0.0                             0.0  \n",
       "11057                0.0                             0.0  \n",
       "25871                0.0                             0.0  \n",
       "31166                0.0                             0.0  \n",
       "40383                0.0                             0.0  \n",
       "...                  ...                             ...  \n",
       "377598               0.0                             0.0  \n",
       "378510               0.0                             0.0  \n",
       "379685               0.0                             0.0  \n",
       "380598               0.0                             0.0  \n",
       "380967               0.0                             0.0  \n",
       "\n",
       "[152 rows x 15 columns]"
      ]
     },
     "execution_count": 8,
     "metadata": {},
     "output_type": "execute_result"
    }
   ],
   "source": [
    "data_ML[48]['Drama']['complete']"
   ]
  },
  {
   "cell_type": "code",
   "execution_count": 118,
   "metadata": {
    "colab": {
     "base_uri": "https://localhost:8080/"
    },
    "executionInfo": {
     "elapsed": 303,
     "status": "ok",
     "timestamp": 1676662475080,
     "user": {
      "displayName": "Yang Xu",
      "userId": "12270366590264264299"
     },
     "user_tz": 300
    },
    "id": "827G9oEH6R6D",
    "outputId": "e8fa55d5-5bce-4e09-bc09-6ef6030603a6"
   },
   "outputs": [
    {
     "data": {
      "text/plain": [
       "age                                25.0\n",
       "gender_M                            1.0\n",
       "occupation_college/grad student     1.0\n",
       "occupation_executive/managerial     0.0\n",
       "occupation_other                    0.0\n",
       "occupation_technician/engineer      0.0\n",
       "Name: 14, dtype: object"
      ]
     },
     "execution_count": 118,
     "metadata": {},
     "output_type": "execute_result"
    }
   ],
   "source": [
    "userinfo_index = np.array([3,9,11,12,13,14])\n",
    "data_ML[48]['Drama']['complete'].iloc[0,userinfo_index]"
   ]
  },
  {
   "cell_type": "code",
   "execution_count": 119,
   "metadata": {
    "colab": {
     "base_uri": "https://localhost:8080/"
    },
    "executionInfo": {
     "elapsed": 284,
     "status": "ok",
     "timestamp": 1676662477602,
     "user": {
      "displayName": "Yang Xu",
      "userId": "12270366590264264299"
     },
     "user_tz": 300
    },
    "id": "bzBfpAiM6hFJ",
    "outputId": "54d14184-dc6c-4dbe-825f-35b345a91597"
   },
   "outputs": [
    {
     "data": {
      "text/plain": [
       "[[3.0, 4.0, 2.0, 5.0], [82, 45, 15, 10]]"
      ]
     },
     "execution_count": 119,
     "metadata": {},
     "output_type": "execute_result"
    }
   ],
   "source": [
    "data_ML[48]['Drama']['Reward']"
   ]
  },
  {
   "cell_type": "code",
   "execution_count": 120,
   "metadata": {
    "executionInfo": {
     "elapsed": 324,
     "status": "ok",
     "timestamp": 1676662479527,
     "user": {
      "displayName": "Yang Xu",
      "userId": "12270366590264264299"
     },
     "user_tz": 300
    },
    "id": "LnLlPkvq6aBv"
   },
   "outputs": [],
   "source": [
    "users_index = data_ML.keys()\n",
    "movie_generes = ['Comedy', 'Drama', 'Action', 'Thriller', 'Sci-Fi']"
   ]
  },
  {
   "cell_type": "code",
   "execution_count": 121,
   "metadata": {
    "executionInfo": {
     "elapsed": 3,
     "status": "ok",
     "timestamp": 1676662480650,
     "user": {
      "displayName": "Yang Xu",
      "userId": "12270366590264264299"
     },
     "user_tz": 300
    },
    "id": "RA2YZOsM8lg3"
   },
   "outputs": [],
   "source": [
    "data_CEL = {}\n",
    " \n",
    "# initialize the final data we'll use in Causal Effect Learning\n",
    "for i in movie_generes:\n",
    "    data_CEL[i] = None   "
   ]
  },
  {
   "cell_type": "code",
   "execution_count": 122,
   "metadata": {
    "executionInfo": {
     "elapsed": 1386,
     "status": "ok",
     "timestamp": 1676662485938,
     "user": {
      "displayName": "Yang Xu",
      "userId": "12270366590264264299"
     },
     "user_tz": 300
    },
    "id": "su0h-qYu8mI3"
   },
   "outputs": [],
   "source": [
    "import pandas as pd\n",
    "for movie_genere in movie_generes:\n",
    "    for user in users_index:\n",
    "        data_CEL[movie_genere] = pd.concat([data_CEL[movie_genere] , data_ML[user][movie_genere]['complete']])"
   ]
  },
  {
   "cell_type": "code",
   "execution_count": 123,
   "metadata": {
    "colab": {
     "base_uri": "https://localhost:8080/"
    },
    "executionInfo": {
     "elapsed": 411,
     "status": "ok",
     "timestamp": 1676662487416,
     "user": {
      "displayName": "Yang Xu",
      "userId": "12270366590264264299"
     },
     "user_tz": 300
    },
    "id": "3pxEcUL7FHai",
    "outputId": "474430d6-2c24-4b64-9acf-25a1b49964cd",
    "scrolled": true
   },
   "outputs": [
    {
     "data": {
      "text/plain": [
       "49563"
      ]
     },
     "execution_count": 123,
     "metadata": {},
     "output_type": "execute_result"
    }
   ],
   "source": [
    "len(data_CEL['Comedy'])"
   ]
  },
  {
   "cell_type": "code",
   "execution_count": 66,
   "metadata": {},
   "outputs": [
    {
     "data": {
      "text/plain": [
       "48235"
      ]
     },
     "execution_count": 66,
     "metadata": {},
     "output_type": "execute_result"
    }
   ],
   "source": [
    "len(data_CEL['Drama'])"
   ]
  },
  {
   "cell_type": "code",
   "execution_count": 67,
   "metadata": {
    "colab": {
     "base_uri": "https://localhost:8080/"
    },
    "executionInfo": {
     "elapsed": 338,
     "status": "ok",
     "timestamp": 1676662492229,
     "user": {
      "displayName": "Yang Xu",
      "userId": "12270366590264264299"
     },
     "user_tz": 300
    },
    "id": "SCODEFJoF0Nt",
    "outputId": "dd9fe546-7cde-4289-a55e-54259f4dbd5f"
   },
   "outputs": [
    {
     "data": {
      "text/plain": [
       "32375"
      ]
     },
     "execution_count": 67,
     "metadata": {},
     "output_type": "execute_result"
    }
   ],
   "source": [
    "len(data_CEL['Action'])"
   ]
  },
  {
   "cell_type": "code",
   "execution_count": 68,
   "metadata": {
    "colab": {
     "base_uri": "https://localhost:8080/"
    },
    "executionInfo": {
     "elapsed": 4,
     "status": "ok",
     "timestamp": 1676662492651,
     "user": {
      "displayName": "Yang Xu",
      "userId": "12270366590264264299"
     },
     "user_tz": 300
    },
    "id": "vDw1YkUjF4fw",
    "outputId": "935ba7ee-261d-46d4-fdae-5d82a45c5dfc"
   },
   "outputs": [
    {
     "data": {
      "text/plain": [
       "25583"
      ]
     },
     "execution_count": 68,
     "metadata": {},
     "output_type": "execute_result"
    }
   ],
   "source": [
    "len(data_CEL['Thriller'])"
   ]
  },
  {
   "cell_type": "code",
   "execution_count": 69,
   "metadata": {
    "colab": {
     "base_uri": "https://localhost:8080/"
    },
    "executionInfo": {
     "elapsed": 9,
     "status": "ok",
     "timestamp": 1676662493618,
     "user": {
      "displayName": "Yang Xu",
      "userId": "12270366590264264299"
     },
     "user_tz": 300
    },
    "id": "4sjsXRToF6tE",
    "outputId": "cb52d546-bc16-4e08-f8ab-147650911733"
   },
   "outputs": [
    {
     "data": {
      "text/plain": [
       "17407"
      ]
     },
     "execution_count": 69,
     "metadata": {},
     "output_type": "execute_result"
    }
   ],
   "source": [
    "len(data_CEL['Sci-Fi'])"
   ]
  },
  {
   "cell_type": "code",
   "execution_count": 70,
   "metadata": {
    "colab": {
     "base_uri": "https://localhost:8080/"
    },
    "executionInfo": {
     "elapsed": 7,
     "status": "ok",
     "timestamp": 1676662494762,
     "user": {
      "displayName": "Yang Xu",
      "userId": "12270366590264264299"
     },
     "user_tz": 300
    },
    "id": "PNVLLZJ3F-VE",
    "outputId": "d87d74e8-3e46-4aef-c853-94c7d2162aef"
   },
   "outputs": [
    {
     "data": {
      "text/plain": [
       "175"
      ]
     },
     "execution_count": 70,
     "metadata": {},
     "output_type": "execute_result"
    }
   ],
   "source": [
    "len(np.unique(data_CEL['Comedy']['user_id'])) # the total number of users"
   ]
  },
  {
   "cell_type": "code",
   "execution_count": 71,
   "metadata": {},
   "outputs": [
    {
     "data": {
      "text/plain": [
       "dict_keys([48, 53, 169, 202, 329, 331, 352, 411, 424, 524, 692, 699, 770, 839, 1010, 1019, 1051, 1068, 1120, 1137, 1181, 1203, 1242, 1244, 1246, 1264, 1266, 1274, 1285, 1317, 1340, 1383, 1422, 1447, 1470, 1579, 1639, 1671, 1676, 1741, 1748, 1780, 1880, 1912, 1920, 1926, 1941, 1943, 1980, 1988, 2010, 2015, 2063, 2073, 2092, 2105, 2181, 2453, 2507, 2544, 2793, 2820, 2857, 2909, 3029, 3067, 3272, 3280, 3285, 3336, 3389, 3391, 3410, 3462, 3483, 3507, 3539, 3589, 3618, 3626, 3648, 3650, 3681, 3705, 3778, 3808, 3824, 3884, 3934, 3942, 3999, 4016, 4048, 4064, 4089, 4169, 4186, 4305, 4344, 4425, 4482, 4510, 4578, 4682, 4802, 5074, 5107, 5220, 5317, 5367, 5387, 5394, 5433, 5504, 5511, 5614, 5627, 5636, 5643, 5682, 5759, 5763, 5795, 5812, 5831, 5880, 6016, 148, 149, 528, 678, 970, 1050, 1125, 1194, 1605, 1958, 2077, 2116, 2419, 2777, 2986, 3312, 3471, 3768, 3829, 4579, 5026, 5306, 5312, 5333, 5530, 5837, 5996, 302, 877, 1207, 1635, 1778, 2124, 3018, 3032, 3311, 3401, 3675, 4028, 4387, 4808, 5788, 1764, 2012, 3823, 4140, 4411, 5878])"
      ]
     },
     "execution_count": 71,
     "metadata": {},
     "output_type": "execute_result"
    }
   ],
   "source": [
    "users_index"
   ]
  },
  {
   "cell_type": "code",
   "execution_count": 124,
   "metadata": {
    "colab": {
     "base_uri": "https://localhost:8080/",
     "height": 505
    },
    "executionInfo": {
     "elapsed": 322,
     "status": "ok",
     "timestamp": 1676662496825,
     "user": {
      "displayName": "Yang Xu",
      "userId": "12270366590264264299"
     },
     "user_tz": 300
    },
    "id": "yDoNuoJeGLJN",
    "outputId": "1c2fb619-450b-4e3d-dcec-33a1e7a59988",
    "scrolled": true
   },
   "outputs": [
    {
     "data": {
      "text/html": [
       "<div>\n",
       "<style scoped>\n",
       "    .dataframe tbody tr th:only-of-type {\n",
       "        vertical-align: middle;\n",
       "    }\n",
       "\n",
       "    .dataframe tbody tr th {\n",
       "        vertical-align: top;\n",
       "    }\n",
       "\n",
       "    .dataframe thead th {\n",
       "        text-align: right;\n",
       "    }\n",
       "</style>\n",
       "<table border=\"1\" class=\"dataframe\">\n",
       "  <thead>\n",
       "    <tr style=\"text-align: right;\">\n",
       "      <th></th>\n",
       "      <th>user_id</th>\n",
       "      <th>movie_id</th>\n",
       "      <th>rating</th>\n",
       "      <th>age</th>\n",
       "      <th>Comedy</th>\n",
       "      <th>Drama</th>\n",
       "      <th>Action</th>\n",
       "      <th>Thriller</th>\n",
       "      <th>Sci-Fi</th>\n",
       "      <th>gender_M</th>\n",
       "      <th>occupation_academic/educator</th>\n",
       "      <th>occupation_college/grad student</th>\n",
       "      <th>occupation_executive/managerial</th>\n",
       "      <th>occupation_other</th>\n",
       "      <th>occupation_technician/engineer</th>\n",
       "    </tr>\n",
       "  </thead>\n",
       "  <tbody>\n",
       "    <tr>\n",
       "      <th>4220</th>\n",
       "      <td>48</td>\n",
       "      <td>2355.0</td>\n",
       "      <td>4.0</td>\n",
       "      <td>25.0</td>\n",
       "      <td>1.0</td>\n",
       "      <td>0.0</td>\n",
       "      <td>0.0</td>\n",
       "      <td>0.0</td>\n",
       "      <td>0.0</td>\n",
       "      <td>1.0</td>\n",
       "      <td>0.0</td>\n",
       "      <td>1.0</td>\n",
       "      <td>0.0</td>\n",
       "      <td>0.0</td>\n",
       "      <td>0.0</td>\n",
       "    </tr>\n",
       "    <tr>\n",
       "      <th>14400</th>\n",
       "      <td>48</td>\n",
       "      <td>2918.0</td>\n",
       "      <td>4.0</td>\n",
       "      <td>25.0</td>\n",
       "      <td>1.0</td>\n",
       "      <td>0.0</td>\n",
       "      <td>0.0</td>\n",
       "      <td>0.0</td>\n",
       "      <td>0.0</td>\n",
       "      <td>1.0</td>\n",
       "      <td>0.0</td>\n",
       "      <td>1.0</td>\n",
       "      <td>0.0</td>\n",
       "      <td>0.0</td>\n",
       "      <td>0.0</td>\n",
       "    </tr>\n",
       "    <tr>\n",
       "      <th>16752</th>\n",
       "      <td>48</td>\n",
       "      <td>2791.0</td>\n",
       "      <td>4.0</td>\n",
       "      <td>25.0</td>\n",
       "      <td>1.0</td>\n",
       "      <td>0.0</td>\n",
       "      <td>0.0</td>\n",
       "      <td>0.0</td>\n",
       "      <td>0.0</td>\n",
       "      <td>1.0</td>\n",
       "      <td>0.0</td>\n",
       "      <td>1.0</td>\n",
       "      <td>0.0</td>\n",
       "      <td>0.0</td>\n",
       "      <td>0.0</td>\n",
       "    </tr>\n",
       "    <tr>\n",
       "      <th>20195</th>\n",
       "      <td>48</td>\n",
       "      <td>2797.0</td>\n",
       "      <td>4.0</td>\n",
       "      <td>25.0</td>\n",
       "      <td>1.0</td>\n",
       "      <td>0.0</td>\n",
       "      <td>0.0</td>\n",
       "      <td>0.0</td>\n",
       "      <td>0.0</td>\n",
       "      <td>1.0</td>\n",
       "      <td>0.0</td>\n",
       "      <td>1.0</td>\n",
       "      <td>0.0</td>\n",
       "      <td>0.0</td>\n",
       "      <td>0.0</td>\n",
       "    </tr>\n",
       "    <tr>\n",
       "      <th>21689</th>\n",
       "      <td>48</td>\n",
       "      <td>2321.0</td>\n",
       "      <td>3.0</td>\n",
       "      <td>25.0</td>\n",
       "      <td>1.0</td>\n",
       "      <td>0.0</td>\n",
       "      <td>0.0</td>\n",
       "      <td>0.0</td>\n",
       "      <td>0.0</td>\n",
       "      <td>1.0</td>\n",
       "      <td>0.0</td>\n",
       "      <td>1.0</td>\n",
       "      <td>0.0</td>\n",
       "      <td>0.0</td>\n",
       "      <td>0.0</td>\n",
       "    </tr>\n",
       "    <tr>\n",
       "      <th>...</th>\n",
       "      <td>...</td>\n",
       "      <td>...</td>\n",
       "      <td>...</td>\n",
       "      <td>...</td>\n",
       "      <td>...</td>\n",
       "      <td>...</td>\n",
       "      <td>...</td>\n",
       "      <td>...</td>\n",
       "      <td>...</td>\n",
       "      <td>...</td>\n",
       "      <td>...</td>\n",
       "      <td>...</td>\n",
       "      <td>...</td>\n",
       "      <td>...</td>\n",
       "      <td>...</td>\n",
       "    </tr>\n",
       "    <tr>\n",
       "      <th>393463</th>\n",
       "      <td>5878.0</td>\n",
       "      <td>3299.0</td>\n",
       "      <td>3.0</td>\n",
       "      <td>25.0</td>\n",
       "      <td>1.0</td>\n",
       "      <td>0.0</td>\n",
       "      <td>0.0</td>\n",
       "      <td>0.0</td>\n",
       "      <td>0.0</td>\n",
       "      <td>0.0</td>\n",
       "      <td>0.0</td>\n",
       "      <td>0.0</td>\n",
       "      <td>0.0</td>\n",
       "      <td>1.0</td>\n",
       "      <td>0.0</td>\n",
       "    </tr>\n",
       "    <tr>\n",
       "      <th>395410</th>\n",
       "      <td>5878.0</td>\n",
       "      <td>892.0</td>\n",
       "      <td>5.0</td>\n",
       "      <td>25.0</td>\n",
       "      <td>1.0</td>\n",
       "      <td>0.0</td>\n",
       "      <td>0.0</td>\n",
       "      <td>0.0</td>\n",
       "      <td>0.0</td>\n",
       "      <td>0.0</td>\n",
       "      <td>0.0</td>\n",
       "      <td>0.0</td>\n",
       "      <td>0.0</td>\n",
       "      <td>1.0</td>\n",
       "      <td>0.0</td>\n",
       "    </tr>\n",
       "    <tr>\n",
       "      <th>396058</th>\n",
       "      <td>5878.0</td>\n",
       "      <td>574.0</td>\n",
       "      <td>1.0</td>\n",
       "      <td>25.0</td>\n",
       "      <td>1.0</td>\n",
       "      <td>0.0</td>\n",
       "      <td>0.0</td>\n",
       "      <td>0.0</td>\n",
       "      <td>0.0</td>\n",
       "      <td>0.0</td>\n",
       "      <td>0.0</td>\n",
       "      <td>0.0</td>\n",
       "      <td>0.0</td>\n",
       "      <td>1.0</td>\n",
       "      <td>0.0</td>\n",
       "    </tr>\n",
       "    <tr>\n",
       "      <th>397794</th>\n",
       "      <td>5878.0</td>\n",
       "      <td>1812.0</td>\n",
       "      <td>5.0</td>\n",
       "      <td>25.0</td>\n",
       "      <td>1.0</td>\n",
       "      <td>0.0</td>\n",
       "      <td>0.0</td>\n",
       "      <td>0.0</td>\n",
       "      <td>0.0</td>\n",
       "      <td>0.0</td>\n",
       "      <td>0.0</td>\n",
       "      <td>0.0</td>\n",
       "      <td>0.0</td>\n",
       "      <td>1.0</td>\n",
       "      <td>0.0</td>\n",
       "    </tr>\n",
       "    <tr>\n",
       "      <th>400719</th>\n",
       "      <td>5878.0</td>\n",
       "      <td>3830.0</td>\n",
       "      <td>1.0</td>\n",
       "      <td>25.0</td>\n",
       "      <td>1.0</td>\n",
       "      <td>0.0</td>\n",
       "      <td>0.0</td>\n",
       "      <td>0.0</td>\n",
       "      <td>0.0</td>\n",
       "      <td>0.0</td>\n",
       "      <td>0.0</td>\n",
       "      <td>0.0</td>\n",
       "      <td>0.0</td>\n",
       "      <td>1.0</td>\n",
       "      <td>0.0</td>\n",
       "    </tr>\n",
       "  </tbody>\n",
       "</table>\n",
       "<p>49563 rows × 15 columns</p>\n",
       "</div>"
      ],
      "text/plain": [
       "       user_id  movie_id  rating   age  Comedy  Drama  Action  Thriller  \\\n",
       "4220        48    2355.0     4.0  25.0     1.0    0.0     0.0       0.0   \n",
       "14400       48    2918.0     4.0  25.0     1.0    0.0     0.0       0.0   \n",
       "16752       48    2791.0     4.0  25.0     1.0    0.0     0.0       0.0   \n",
       "20195       48    2797.0     4.0  25.0     1.0    0.0     0.0       0.0   \n",
       "21689       48    2321.0     3.0  25.0     1.0    0.0     0.0       0.0   \n",
       "...        ...       ...     ...   ...     ...    ...     ...       ...   \n",
       "393463  5878.0    3299.0     3.0  25.0     1.0    0.0     0.0       0.0   \n",
       "395410  5878.0     892.0     5.0  25.0     1.0    0.0     0.0       0.0   \n",
       "396058  5878.0     574.0     1.0  25.0     1.0    0.0     0.0       0.0   \n",
       "397794  5878.0    1812.0     5.0  25.0     1.0    0.0     0.0       0.0   \n",
       "400719  5878.0    3830.0     1.0  25.0     1.0    0.0     0.0       0.0   \n",
       "\n",
       "        Sci-Fi  gender_M  occupation_academic/educator  \\\n",
       "4220       0.0       1.0                           0.0   \n",
       "14400      0.0       1.0                           0.0   \n",
       "16752      0.0       1.0                           0.0   \n",
       "20195      0.0       1.0                           0.0   \n",
       "21689      0.0       1.0                           0.0   \n",
       "...        ...       ...                           ...   \n",
       "393463     0.0       0.0                           0.0   \n",
       "395410     0.0       0.0                           0.0   \n",
       "396058     0.0       0.0                           0.0   \n",
       "397794     0.0       0.0                           0.0   \n",
       "400719     0.0       0.0                           0.0   \n",
       "\n",
       "        occupation_college/grad student  occupation_executive/managerial  \\\n",
       "4220                                1.0                              0.0   \n",
       "14400                               1.0                              0.0   \n",
       "16752                               1.0                              0.0   \n",
       "20195                               1.0                              0.0   \n",
       "21689                               1.0                              0.0   \n",
       "...                                 ...                              ...   \n",
       "393463                              0.0                              0.0   \n",
       "395410                              0.0                              0.0   \n",
       "396058                              0.0                              0.0   \n",
       "397794                              0.0                              0.0   \n",
       "400719                              0.0                              0.0   \n",
       "\n",
       "        occupation_other  occupation_technician/engineer  \n",
       "4220                 0.0                             0.0  \n",
       "14400                0.0                             0.0  \n",
       "16752                0.0                             0.0  \n",
       "20195                0.0                             0.0  \n",
       "21689                0.0                             0.0  \n",
       "...                  ...                             ...  \n",
       "393463               1.0                             0.0  \n",
       "395410               1.0                             0.0  \n",
       "396058               1.0                             0.0  \n",
       "397794               1.0                             0.0  \n",
       "400719               1.0                             0.0  \n",
       "\n",
       "[49563 rows x 15 columns]"
      ]
     },
     "execution_count": 124,
     "metadata": {},
     "output_type": "execute_result"
    }
   ],
   "source": [
    "data_CEL['Comedy']"
   ]
  },
  {
   "cell_type": "markdown",
   "metadata": {},
   "source": [
    "### the entire dataset of interst"
   ]
  },
  {
   "cell_type": "code",
   "execution_count": 125,
   "metadata": {
    "executionInfo": {
     "elapsed": 375,
     "status": "ok",
     "timestamp": 1676662507427,
     "user": {
      "displayName": "Yang Xu",
      "userId": "12270366590264264299"
     },
     "user_tz": 300
    },
    "id": "-RszednuIh6g"
   },
   "outputs": [],
   "source": [
    "data_CEL_all = data_CEL['Comedy']\n",
    "for movie_genere in movie_generes[1:5]:\n",
    "    data_CEL_all = pd.concat([data_CEL_all, data_CEL[movie_genere]])"
   ]
  },
  {
   "cell_type": "code",
   "execution_count": 126,
   "metadata": {
    "colab": {
     "base_uri": "https://localhost:8080/"
    },
    "executionInfo": {
     "elapsed": 357,
     "status": "ok",
     "timestamp": 1676662508965,
     "user": {
      "displayName": "Yang Xu",
      "userId": "12270366590264264299"
     },
     "user_tz": 300
    },
    "id": "pzyIgxH5JG0T",
    "outputId": "313afeb1-8b02-47de-be2b-2823af3e7d9b"
   },
   "outputs": [
    {
     "data": {
      "text/plain": [
       "173163"
      ]
     },
     "execution_count": 126,
     "metadata": {},
     "output_type": "execute_result"
    }
   ],
   "source": [
    "len(data_CEL_all)"
   ]
  },
  {
   "cell_type": "code",
   "execution_count": null,
   "metadata": {},
   "outputs": [],
   "source": []
  },
  {
   "cell_type": "code",
   "execution_count": 127,
   "metadata": {
    "colab": {
     "base_uri": "https://localhost:8080/",
     "height": 505
    },
    "executionInfo": {
     "elapsed": 396,
     "status": "ok",
     "timestamp": 1676662515760,
     "user": {
      "displayName": "Yang Xu",
      "userId": "12270366590264264299"
     },
     "user_tz": 300
    },
    "id": "075jDrJoJnYj",
    "outputId": "07b59124-7542-4849-bffe-ab5e34ed0972"
   },
   "outputs": [
    {
     "data": {
      "text/html": [
       "<div>\n",
       "<style scoped>\n",
       "    .dataframe tbody tr th:only-of-type {\n",
       "        vertical-align: middle;\n",
       "    }\n",
       "\n",
       "    .dataframe tbody tr th {\n",
       "        vertical-align: top;\n",
       "    }\n",
       "\n",
       "    .dataframe thead th {\n",
       "        text-align: right;\n",
       "    }\n",
       "</style>\n",
       "<table border=\"1\" class=\"dataframe\">\n",
       "  <thead>\n",
       "    <tr style=\"text-align: right;\">\n",
       "      <th></th>\n",
       "      <th>age</th>\n",
       "      <th>gender_M</th>\n",
       "      <th>occupation_college/grad student</th>\n",
       "      <th>occupation_executive/managerial</th>\n",
       "      <th>occupation_other</th>\n",
       "      <th>occupation_technician/engineer</th>\n",
       "    </tr>\n",
       "  </thead>\n",
       "  <tbody>\n",
       "    <tr>\n",
       "      <th>4220</th>\n",
       "      <td>25.0</td>\n",
       "      <td>1.0</td>\n",
       "      <td>1.0</td>\n",
       "      <td>0.0</td>\n",
       "      <td>0.0</td>\n",
       "      <td>0.0</td>\n",
       "    </tr>\n",
       "    <tr>\n",
       "      <th>14400</th>\n",
       "      <td>25.0</td>\n",
       "      <td>1.0</td>\n",
       "      <td>1.0</td>\n",
       "      <td>0.0</td>\n",
       "      <td>0.0</td>\n",
       "      <td>0.0</td>\n",
       "    </tr>\n",
       "    <tr>\n",
       "      <th>16752</th>\n",
       "      <td>25.0</td>\n",
       "      <td>1.0</td>\n",
       "      <td>1.0</td>\n",
       "      <td>0.0</td>\n",
       "      <td>0.0</td>\n",
       "      <td>0.0</td>\n",
       "    </tr>\n",
       "    <tr>\n",
       "      <th>20195</th>\n",
       "      <td>25.0</td>\n",
       "      <td>1.0</td>\n",
       "      <td>1.0</td>\n",
       "      <td>0.0</td>\n",
       "      <td>0.0</td>\n",
       "      <td>0.0</td>\n",
       "    </tr>\n",
       "    <tr>\n",
       "      <th>21689</th>\n",
       "      <td>25.0</td>\n",
       "      <td>1.0</td>\n",
       "      <td>1.0</td>\n",
       "      <td>0.0</td>\n",
       "      <td>0.0</td>\n",
       "      <td>0.0</td>\n",
       "    </tr>\n",
       "    <tr>\n",
       "      <th>...</th>\n",
       "      <td>...</td>\n",
       "      <td>...</td>\n",
       "      <td>...</td>\n",
       "      <td>...</td>\n",
       "      <td>...</td>\n",
       "      <td>...</td>\n",
       "    </tr>\n",
       "    <tr>\n",
       "      <th>393463</th>\n",
       "      <td>25.0</td>\n",
       "      <td>0.0</td>\n",
       "      <td>0.0</td>\n",
       "      <td>0.0</td>\n",
       "      <td>1.0</td>\n",
       "      <td>0.0</td>\n",
       "    </tr>\n",
       "    <tr>\n",
       "      <th>395410</th>\n",
       "      <td>25.0</td>\n",
       "      <td>0.0</td>\n",
       "      <td>0.0</td>\n",
       "      <td>0.0</td>\n",
       "      <td>1.0</td>\n",
       "      <td>0.0</td>\n",
       "    </tr>\n",
       "    <tr>\n",
       "      <th>396058</th>\n",
       "      <td>25.0</td>\n",
       "      <td>0.0</td>\n",
       "      <td>0.0</td>\n",
       "      <td>0.0</td>\n",
       "      <td>1.0</td>\n",
       "      <td>0.0</td>\n",
       "    </tr>\n",
       "    <tr>\n",
       "      <th>397794</th>\n",
       "      <td>25.0</td>\n",
       "      <td>0.0</td>\n",
       "      <td>0.0</td>\n",
       "      <td>0.0</td>\n",
       "      <td>1.0</td>\n",
       "      <td>0.0</td>\n",
       "    </tr>\n",
       "    <tr>\n",
       "      <th>400719</th>\n",
       "      <td>25.0</td>\n",
       "      <td>0.0</td>\n",
       "      <td>0.0</td>\n",
       "      <td>0.0</td>\n",
       "      <td>1.0</td>\n",
       "      <td>0.0</td>\n",
       "    </tr>\n",
       "  </tbody>\n",
       "</table>\n",
       "<p>49563 rows × 6 columns</p>\n",
       "</div>"
      ],
      "text/plain": [
       "         age  gender_M  occupation_college/grad student  \\\n",
       "4220    25.0       1.0                              1.0   \n",
       "14400   25.0       1.0                              1.0   \n",
       "16752   25.0       1.0                              1.0   \n",
       "20195   25.0       1.0                              1.0   \n",
       "21689   25.0       1.0                              1.0   \n",
       "...      ...       ...                              ...   \n",
       "393463  25.0       0.0                              0.0   \n",
       "395410  25.0       0.0                              0.0   \n",
       "396058  25.0       0.0                              0.0   \n",
       "397794  25.0       0.0                              0.0   \n",
       "400719  25.0       0.0                              0.0   \n",
       "\n",
       "        occupation_executive/managerial  occupation_other  \\\n",
       "4220                                0.0               0.0   \n",
       "14400                               0.0               0.0   \n",
       "16752                               0.0               0.0   \n",
       "20195                               0.0               0.0   \n",
       "21689                               0.0               0.0   \n",
       "...                                 ...               ...   \n",
       "393463                              0.0               1.0   \n",
       "395410                              0.0               1.0   \n",
       "396058                              0.0               1.0   \n",
       "397794                              0.0               1.0   \n",
       "400719                              0.0               1.0   \n",
       "\n",
       "        occupation_technician/engineer  \n",
       "4220                               0.0  \n",
       "14400                              0.0  \n",
       "16752                              0.0  \n",
       "20195                              0.0  \n",
       "21689                              0.0  \n",
       "...                                ...  \n",
       "393463                             0.0  \n",
       "395410                             0.0  \n",
       "396058                             0.0  \n",
       "397794                             0.0  \n",
       "400719                             0.0  \n",
       "\n",
       "[49563 rows x 6 columns]"
      ]
     },
     "execution_count": 127,
     "metadata": {},
     "output_type": "execute_result"
    }
   ],
   "source": [
    "data_CEL_all.iloc[np.where(data_CEL_all['Comedy']==1)[0],userinfo_index]"
   ]
  },
  {
   "cell_type": "code",
   "execution_count": null,
   "metadata": {},
   "outputs": [],
   "source": []
  },
  {
   "cell_type": "markdown",
   "metadata": {},
   "source": [
    "### sample 1% of the data by users"
   ]
  },
  {
   "cell_type": "code",
   "execution_count": 108,
   "metadata": {},
   "outputs": [
    {
     "data": {
      "text/plain": [
       "25583"
      ]
     },
     "execution_count": 108,
     "metadata": {},
     "output_type": "execute_result"
    }
   ],
   "source": [
    "len(data_CEL['Comedy'])"
   ]
  },
  {
   "cell_type": "code",
   "execution_count": 128,
   "metadata": {},
   "outputs": [
    {
     "data": {
      "text/plain": [
       "array([32285, 32286, 32287, 32288, 32289, 32290, 32291, 32292, 32293,\n",
       "       32294, 32295, 32296, 32297, 32298, 32299, 32300, 32301, 32302,\n",
       "       32303, 32304, 32305, 32306, 32307, 32308, 32309, 32310, 32311,\n",
       "       32312, 32313, 32314, 32315, 32316, 32317, 32318, 32319, 32320,\n",
       "       32321, 32322, 32323, 32324, 32325, 32326, 32327, 32328, 32329,\n",
       "       32330, 32331, 32332, 32333, 32334, 32335, 32336, 32337, 32338,\n",
       "       32339, 32340, 32341, 32342, 32343, 32344, 32345, 32346, 32347,\n",
       "       32348, 32349, 32350, 32351, 32352, 32353, 32354, 32355, 32356,\n",
       "       32357, 32358, 32359, 32360, 32361, 32362, 32363, 32364, 32365,\n",
       "       32366, 32367, 32368, 32369, 32370, 32371, 32372, 32373, 32374])"
      ]
     },
     "execution_count": 128,
     "metadata": {},
     "output_type": "execute_result"
    }
   ],
   "source": [
    "np.where(data_CEL['Action']['user_id'] == user)[0]"
   ]
  },
  {
   "cell_type": "code",
   "execution_count": 135,
   "metadata": {},
   "outputs": [
    {
     "data": {
      "text/plain": [
       "11"
      ]
     },
     "execution_count": 135,
     "metadata": {},
     "output_type": "execute_result"
    }
   ],
   "source": [
    "int(np.ceil(10.5))"
   ]
  },
  {
   "cell_type": "code",
   "execution_count": 139,
   "metadata": {},
   "outputs": [
    {
     "ename": "TypeError",
     "evalue": "Population must be a sequence.  For dicts or sets, use sorted(d).",
     "output_type": "error",
     "traceback": [
      "\u001b[0;31m---------------------------------------------------------------------------\u001b[0m",
      "\u001b[0;31mTypeError\u001b[0m                                 Traceback (most recent call last)",
      "\u001b[0;32m/var/folders/9j/vb5nb4rd5bx0gr1q5ytx9q600000gn/T/ipykernel_29676/1759006568.py\u001b[0m in \u001b[0;36m<module>\u001b[0;34m\u001b[0m\n\u001b[0;32m----> 1\u001b[0;31m \u001b[0mrandom\u001b[0m\u001b[0;34m.\u001b[0m\u001b[0msample\u001b[0m\u001b[0;34m(\u001b[0m\u001b[0mnp\u001b[0m\u001b[0;34m.\u001b[0m\u001b[0marray\u001b[0m\u001b[0;34m(\u001b[0m\u001b[0;34m[\u001b[0m\u001b[0;36m1\u001b[0m\u001b[0;34m,\u001b[0m\u001b[0;36m2\u001b[0m\u001b[0;34m,\u001b[0m\u001b[0;36m3\u001b[0m\u001b[0;34m]\u001b[0m\u001b[0;34m)\u001b[0m\u001b[0;34m,\u001b[0m\u001b[0;36m2\u001b[0m\u001b[0;34m)\u001b[0m\u001b[0;34m\u001b[0m\u001b[0;34m\u001b[0m\u001b[0m\n\u001b[0m",
      "\u001b[0;32m~/opt/anaconda3/lib/python3.9/random.py\u001b[0m in \u001b[0;36msample\u001b[0;34m(self, population, k, counts)\u001b[0m\n\u001b[1;32m    431\u001b[0m             \u001b[0mpopulation\u001b[0m \u001b[0;34m=\u001b[0m \u001b[0mtuple\u001b[0m\u001b[0;34m(\u001b[0m\u001b[0mpopulation\u001b[0m\u001b[0;34m)\u001b[0m\u001b[0;34m\u001b[0m\u001b[0;34m\u001b[0m\u001b[0m\n\u001b[1;32m    432\u001b[0m         \u001b[0;32mif\u001b[0m \u001b[0;32mnot\u001b[0m \u001b[0misinstance\u001b[0m\u001b[0;34m(\u001b[0m\u001b[0mpopulation\u001b[0m\u001b[0;34m,\u001b[0m \u001b[0m_Sequence\u001b[0m\u001b[0;34m)\u001b[0m\u001b[0;34m:\u001b[0m\u001b[0;34m\u001b[0m\u001b[0;34m\u001b[0m\u001b[0m\n\u001b[0;32m--> 433\u001b[0;31m             \u001b[0;32mraise\u001b[0m \u001b[0mTypeError\u001b[0m\u001b[0;34m(\u001b[0m\u001b[0;34m\"Population must be a sequence.  For dicts or sets, use sorted(d).\"\u001b[0m\u001b[0;34m)\u001b[0m\u001b[0;34m\u001b[0m\u001b[0;34m\u001b[0m\u001b[0m\n\u001b[0m\u001b[1;32m    434\u001b[0m         \u001b[0mn\u001b[0m \u001b[0;34m=\u001b[0m \u001b[0mlen\u001b[0m\u001b[0;34m(\u001b[0m\u001b[0mpopulation\u001b[0m\u001b[0;34m)\u001b[0m\u001b[0;34m\u001b[0m\u001b[0;34m\u001b[0m\u001b[0m\n\u001b[1;32m    435\u001b[0m         \u001b[0;32mif\u001b[0m \u001b[0mcounts\u001b[0m \u001b[0;32mis\u001b[0m \u001b[0;32mnot\u001b[0m \u001b[0;32mNone\u001b[0m\u001b[0;34m:\u001b[0m\u001b[0;34m\u001b[0m\u001b[0;34m\u001b[0m\u001b[0m\n",
      "\u001b[0;31mTypeError\u001b[0m: Population must be a sequence.  For dicts or sets, use sorted(d)."
     ]
    }
   ],
   "source": [
    "random.sample(np.array([1,2,3]),2)"
   ]
  },
  {
   "cell_type": "code",
   "execution_count": 137,
   "metadata": {},
   "outputs": [
    {
     "ename": "TypeError",
     "evalue": "Population must be a sequence.  For dicts or sets, use sorted(d).",
     "output_type": "error",
     "traceback": [
      "\u001b[0;31m---------------------------------------------------------------------------\u001b[0m",
      "\u001b[0;31mTypeError\u001b[0m                                 Traceback (most recent call last)",
      "\u001b[0;32m/var/folders/9j/vb5nb4rd5bx0gr1q5ytx9q600000gn/T/ipykernel_29676/1974279358.py\u001b[0m in \u001b[0;36m<module>\u001b[0;34m\u001b[0m\n\u001b[1;32m      1\u001b[0m \u001b[0;32mimport\u001b[0m \u001b[0mrandom\u001b[0m\u001b[0;34m\u001b[0m\u001b[0;34m\u001b[0m\u001b[0m\n\u001b[0;32m----> 2\u001b[0;31m \u001b[0mrandom\u001b[0m\u001b[0;34m.\u001b[0m\u001b[0msample\u001b[0m\u001b[0;34m(\u001b[0m\u001b[0mnp\u001b[0m\u001b[0;34m.\u001b[0m\u001b[0mwhere\u001b[0m\u001b[0;34m(\u001b[0m\u001b[0mdata_CEL\u001b[0m\u001b[0;34m[\u001b[0m\u001b[0;34m'Action'\u001b[0m\u001b[0;34m]\u001b[0m\u001b[0;34m[\u001b[0m\u001b[0;34m'user_id'\u001b[0m\u001b[0;34m]\u001b[0m \u001b[0;34m==\u001b[0m \u001b[0muser\u001b[0m\u001b[0;34m)\u001b[0m\u001b[0;34m[\u001b[0m\u001b[0;36m0\u001b[0m\u001b[0;34m]\u001b[0m\u001b[0;34m,\u001b[0m \u001b[0mint\u001b[0m\u001b[0;34m(\u001b[0m\u001b[0mnp\u001b[0m\u001b[0;34m.\u001b[0m\u001b[0mceil\u001b[0m\u001b[0;34m(\u001b[0m\u001b[0mlen\u001b[0m\u001b[0;34m(\u001b[0m\u001b[0mnp\u001b[0m\u001b[0;34m.\u001b[0m\u001b[0mwhere\u001b[0m\u001b[0;34m(\u001b[0m\u001b[0mdata_CEL\u001b[0m\u001b[0;34m[\u001b[0m\u001b[0;34m'Action'\u001b[0m\u001b[0;34m]\u001b[0m\u001b[0;34m[\u001b[0m\u001b[0;34m'user_id'\u001b[0m\u001b[0;34m]\u001b[0m \u001b[0;34m==\u001b[0m \u001b[0muser\u001b[0m\u001b[0;34m)\u001b[0m\u001b[0;34m[\u001b[0m\u001b[0;36m0\u001b[0m\u001b[0;34m]\u001b[0m\u001b[0;34m)\u001b[0m\u001b[0;34m)\u001b[0m\u001b[0;34m)\u001b[0m\u001b[0;34m)\u001b[0m\u001b[0;34m\u001b[0m\u001b[0;34m\u001b[0m\u001b[0m\n\u001b[0m",
      "\u001b[0;32m~/opt/anaconda3/lib/python3.9/random.py\u001b[0m in \u001b[0;36msample\u001b[0;34m(self, population, k, counts)\u001b[0m\n\u001b[1;32m    431\u001b[0m             \u001b[0mpopulation\u001b[0m \u001b[0;34m=\u001b[0m \u001b[0mtuple\u001b[0m\u001b[0;34m(\u001b[0m\u001b[0mpopulation\u001b[0m\u001b[0;34m)\u001b[0m\u001b[0;34m\u001b[0m\u001b[0;34m\u001b[0m\u001b[0m\n\u001b[1;32m    432\u001b[0m         \u001b[0;32mif\u001b[0m \u001b[0;32mnot\u001b[0m \u001b[0misinstance\u001b[0m\u001b[0;34m(\u001b[0m\u001b[0mpopulation\u001b[0m\u001b[0;34m,\u001b[0m \u001b[0m_Sequence\u001b[0m\u001b[0;34m)\u001b[0m\u001b[0;34m:\u001b[0m\u001b[0;34m\u001b[0m\u001b[0;34m\u001b[0m\u001b[0m\n\u001b[0;32m--> 433\u001b[0;31m             \u001b[0;32mraise\u001b[0m \u001b[0mTypeError\u001b[0m\u001b[0;34m(\u001b[0m\u001b[0;34m\"Population must be a sequence.  For dicts or sets, use sorted(d).\"\u001b[0m\u001b[0;34m)\u001b[0m\u001b[0;34m\u001b[0m\u001b[0;34m\u001b[0m\u001b[0m\n\u001b[0m\u001b[1;32m    434\u001b[0m         \u001b[0mn\u001b[0m \u001b[0;34m=\u001b[0m \u001b[0mlen\u001b[0m\u001b[0;34m(\u001b[0m\u001b[0mpopulation\u001b[0m\u001b[0;34m)\u001b[0m\u001b[0;34m\u001b[0m\u001b[0;34m\u001b[0m\u001b[0m\n\u001b[1;32m    435\u001b[0m         \u001b[0;32mif\u001b[0m \u001b[0mcounts\u001b[0m \u001b[0;32mis\u001b[0m \u001b[0;32mnot\u001b[0m \u001b[0;32mNone\u001b[0m\u001b[0;34m:\u001b[0m\u001b[0;34m\u001b[0m\u001b[0;34m\u001b[0m\u001b[0m\n",
      "\u001b[0;31mTypeError\u001b[0m: Population must be a sequence.  For dicts or sets, use sorted(d)."
     ]
    }
   ],
   "source": [
    "import random\n",
    "random.sample(np.where(data_CEL['Action']['user_id'] == user)[0], int(np.ceil(len(np.where(data_CEL['Action']['user_id'] == user)[0]))))\n"
   ]
  },
  {
   "cell_type": "raw",
   "metadata": {},
   "source": []
  },
  {
   "cell_type": "code",
   "execution_count": 116,
   "metadata": {},
   "outputs": [],
   "source": [
    "# randomly select 1% of samples from all users\n",
    "data_CEL_sample = data_CEL['Comedy']\n",
    "for movie_genere in movie_generes[1:5]:\n",
    "\n",
    "    data_CEL_sample = pd.concat([data_CEL_sample, data_CEL[movie_genere]])\n",
    "\n",
    "\n",
    "for user in users_index:       \n",
    "    len(np.where(data_CEL['Action']['user_id'] == user)[0])\n",
    "    \n"
   ]
  },
  {
   "cell_type": "code",
   "execution_count": 115,
   "metadata": {},
   "outputs": [
    {
     "name": "stdout",
     "output_type": "stream",
     "text": [
      "48\n",
      "53\n",
      "169\n",
      "202\n",
      "329\n",
      "331\n",
      "352\n",
      "411\n",
      "424\n",
      "524\n",
      "692\n",
      "699\n",
      "770\n",
      "839\n",
      "1010\n",
      "1019\n",
      "1051\n",
      "1068\n",
      "1120\n",
      "1137\n",
      "1181\n",
      "1203\n",
      "1242\n",
      "1244\n",
      "1246\n",
      "1264\n",
      "1266\n",
      "1274\n",
      "1285\n",
      "1317\n",
      "1340\n",
      "1383\n",
      "1422\n",
      "1447\n",
      "1470\n",
      "1579\n",
      "1639\n",
      "1671\n",
      "1676\n",
      "1741\n",
      "1748\n",
      "1780\n",
      "1880\n",
      "1912\n",
      "1920\n",
      "1926\n",
      "1941\n",
      "1943\n",
      "1980\n",
      "1988\n",
      "2010\n",
      "2015\n",
      "2063\n",
      "2073\n",
      "2092\n",
      "2105\n",
      "2181\n",
      "2453\n",
      "2507\n",
      "2544\n",
      "2793\n",
      "2820\n",
      "2857\n",
      "2909\n",
      "3029\n",
      "3067\n",
      "3272\n",
      "3280\n",
      "3285\n",
      "3336\n",
      "3389\n",
      "3391\n",
      "3410\n",
      "3462\n",
      "3483\n",
      "3507\n",
      "3539\n",
      "3589\n",
      "3618\n",
      "3626\n",
      "3648\n",
      "3650\n",
      "3681\n",
      "3705\n",
      "3778\n",
      "3808\n",
      "3824\n",
      "3884\n",
      "3934\n",
      "3942\n",
      "3999\n",
      "4016\n",
      "4048\n",
      "4064\n",
      "4089\n",
      "4169\n",
      "4186\n",
      "4305\n",
      "4344\n",
      "4425\n",
      "4482\n",
      "4510\n",
      "4578\n",
      "4682\n",
      "4802\n",
      "5074\n",
      "5107\n",
      "5220\n",
      "5317\n",
      "5367\n",
      "5387\n",
      "5394\n",
      "5433\n",
      "5504\n",
      "5511\n",
      "5614\n",
      "5627\n",
      "5636\n",
      "5643\n",
      "5682\n",
      "5759\n",
      "5763\n",
      "5795\n",
      "5812\n",
      "5831\n",
      "5880\n",
      "6016\n",
      "148\n",
      "149\n",
      "528\n",
      "678\n",
      "970\n",
      "1050\n",
      "1125\n",
      "1194\n",
      "1605\n",
      "1958\n",
      "2077\n",
      "2116\n",
      "2419\n",
      "2777\n",
      "2986\n",
      "3312\n",
      "3471\n",
      "3768\n",
      "3829\n",
      "4579\n",
      "5026\n",
      "5306\n",
      "5312\n",
      "5333\n",
      "5530\n",
      "5837\n",
      "5996\n",
      "302\n",
      "877\n",
      "1207\n",
      "1635\n",
      "1778\n",
      "2124\n",
      "3018\n",
      "3032\n",
      "3311\n",
      "3401\n",
      "3675\n",
      "4028\n",
      "4387\n",
      "4808\n",
      "5788\n",
      "1764\n",
      "2012\n",
      "3823\n",
      "4140\n",
      "4411\n",
      "5878\n"
     ]
    }
   ],
   "source": [
    "for user in users_index:\n",
    "    print(user)"
   ]
  },
  {
   "cell_type": "markdown",
   "metadata": {
    "id": "Tcwr9EQB_btu"
   },
   "source": [
    "### nonlinear model fitting"
   ]
  },
  {
   "cell_type": "code",
   "execution_count": 76,
   "metadata": {
    "id": "m_357p5PHrSi"
   },
   "outputs": [],
   "source": [
    "\n",
    "models_CEL = {}\n",
    " \n",
    "# initialize the models we'll fit in Causal Effect Learning\n",
    "for i in movie_generes:\n",
    "    models_CEL[i] = None   \n",
    "\n"
   ]
  },
  {
   "cell_type": "code",
   "execution_count": 77,
   "metadata": {
    "executionInfo": {
     "elapsed": 826,
     "status": "ok",
     "timestamp": 1676663324307,
     "user": {
      "displayName": "Yang Xu",
      "userId": "12270366590264264299"
     },
     "user_tz": 300
    },
    "id": "_VhDWaaXISxf"
   },
   "outputs": [],
   "source": [
    "from lightgbm import LGBMRegressor\n",
    "for movie_genere in movie_generes: \n",
    "    models_CEL[movie_genere] = LGBMRegressor(max_depth=3)\n",
    "    models_CEL[movie_genere].fit(data_CEL_all.iloc[np.where(data_CEL_all[movie_genere]==1)[0],userinfo_index],data_CEL_all.iloc[np.where(data_CEL_all[movie_genere]==1)[0],2] )\n"
   ]
  },
  {
   "cell_type": "code",
   "execution_count": 78,
   "metadata": {
    "colab": {
     "base_uri": "https://localhost:8080/"
    },
    "executionInfo": {
     "elapsed": 277,
     "status": "ok",
     "timestamp": 1676663326846,
     "user": {
      "displayName": "Yang Xu",
      "userId": "12270366590264264299"
     },
     "user_tz": 300
    },
    "id": "bBavWU14KGtI",
    "outputId": "7975cdbc-4099-49d8-eb36-3363ca8ef30c"
   },
   "outputs": [
    {
     "data": {
      "text/plain": [
       "array([3.1721, 3.1721, 3.1721, ..., 3.5565, 3.5565, 3.5565])"
      ]
     },
     "execution_count": 78,
     "metadata": {},
     "output_type": "execute_result"
    }
   ],
   "source": [
    "models_CEL['Comedy'].predict(data_CEL_all.iloc[np.where(data_CEL_all['Comedy']==1)[0],userinfo_index])"
   ]
  },
  {
   "cell_type": "code",
   "execution_count": 79,
   "metadata": {
    "colab": {
     "base_uri": "https://localhost:8080/"
    },
    "executionInfo": {
     "elapsed": 420,
     "status": "ok",
     "timestamp": 1676663328624,
     "user": {
      "displayName": "Yang Xu",
      "userId": "12270366590264264299"
     },
     "user_tz": 300
    },
    "id": "t-YnO8EJKZG1",
    "outputId": "679018f4-6dc9-46eb-d2be-2aa0f8478220"
   },
   "outputs": [
    {
     "data": {
      "text/plain": [
       "16.0"
      ]
     },
     "execution_count": 79,
     "metadata": {},
     "output_type": "execute_result"
    }
   ],
   "source": [
    "min(data_CEL_all['age'])"
   ]
  },
  {
   "cell_type": "code",
   "execution_count": 80,
   "metadata": {
    "colab": {
     "base_uri": "https://localhost:8080/"
    },
    "executionInfo": {
     "elapsed": 3,
     "status": "ok",
     "timestamp": 1676663329643,
     "user": {
      "displayName": "Yang Xu",
      "userId": "12270366590264264299"
     },
     "user_tz": 300
    },
    "id": "iBX-iPCQNdSP",
    "outputId": "c49a64db-d4c4-4f21-bf5f-224c75f03f3b"
   },
   "outputs": [
    {
     "data": {
      "text/plain": [
       "56.0"
      ]
     },
     "execution_count": 80,
     "metadata": {},
     "output_type": "execute_result"
    }
   ],
   "source": [
    "max(data_CEL_all['age'])"
   ]
  },
  {
   "cell_type": "code",
   "execution_count": 81,
   "metadata": {
    "colab": {
     "base_uri": "https://localhost:8080/"
    },
    "executionInfo": {
     "elapsed": 8,
     "status": "ok",
     "timestamp": 1676663330569,
     "user": {
      "displayName": "Yang Xu",
      "userId": "12270366590264264299"
     },
     "user_tz": 300
    },
    "id": "1LWOEFXNNiOw",
    "outputId": "bee7be34-4cab-4d87-fd24-5535c5760628"
   },
   "outputs": [
    {
     "name": "stdout",
     "output_type": "stream",
     "text": [
      "[16 17 18 19 20 21 22 23 24 25 26 27 28 29 30 31 32 33 34 35 36 37 38 39\n",
      " 40 41 42 43 44 45 46 47 48 49 50 51 52 53 54 55 56]\n"
     ]
    }
   ],
   "source": [
    "# record thev estimated expected reward for each movie genere, under each possible combination of state variable\n",
    "age_range = np.linspace(min(data_CEL_all['age']),max(data_CEL_all['age']),int(max(data_CEL_all['age'])-min(data_CEL_all['age'])+1)).astype(int)\n",
    "print(age_range)"
   ]
  },
  {
   "cell_type": "code",
   "execution_count": 82,
   "metadata": {
    "executionInfo": {
     "elapsed": 602,
     "status": "ok",
     "timestamp": 1676663332414,
     "user": {
      "displayName": "Yang Xu",
      "userId": "12270366590264264299"
     },
     "user_tz": 300
    },
    "id": "ZjV4BSJ717cm"
   },
   "outputs": [],
   "source": [
    "import itertools\n",
    "\n",
    "gender = np.array([0,1])\n",
    "occupation_college = np.array([0,1])\n",
    "occupation_executive = np.array([0,1])\n",
    "occupation_other  = np.array([0,1])\n",
    "occupation_technician = np.array([0,1])\n",
    "\n",
    "# result contains all possible combinations.\n",
    "combinations = pd.DataFrame(itertools.product(age_range,gender,occupation_college,\n",
    "                                              occupation_executive,occupation_other,occupation_technician))"
   ]
  },
  {
   "cell_type": "code",
   "execution_count": 83,
   "metadata": {
    "colab": {
     "base_uri": "https://localhost:8080/",
     "height": 424
    },
    "executionInfo": {
     "elapsed": 8,
     "status": "ok",
     "timestamp": 1676663332415,
     "user": {
      "displayName": "Yang Xu",
      "userId": "12270366590264264299"
     },
     "user_tz": 300
    },
    "id": "PnZj-MdF2okg",
    "outputId": "d450af9c-c669-4261-be43-9d7a2ce81db1"
   },
   "outputs": [
    {
     "data": {
      "text/html": [
       "<div>\n",
       "<style scoped>\n",
       "    .dataframe tbody tr th:only-of-type {\n",
       "        vertical-align: middle;\n",
       "    }\n",
       "\n",
       "    .dataframe tbody tr th {\n",
       "        vertical-align: top;\n",
       "    }\n",
       "\n",
       "    .dataframe thead th {\n",
       "        text-align: right;\n",
       "    }\n",
       "</style>\n",
       "<table border=\"1\" class=\"dataframe\">\n",
       "  <thead>\n",
       "    <tr style=\"text-align: right;\">\n",
       "      <th></th>\n",
       "      <th>age</th>\n",
       "      <th>gender</th>\n",
       "      <th>occupation_college</th>\n",
       "      <th>occupation_executive</th>\n",
       "      <th>occupation_other</th>\n",
       "      <th>occupation_technician</th>\n",
       "    </tr>\n",
       "  </thead>\n",
       "  <tbody>\n",
       "    <tr>\n",
       "      <th>0</th>\n",
       "      <td>16</td>\n",
       "      <td>0</td>\n",
       "      <td>0</td>\n",
       "      <td>0</td>\n",
       "      <td>0</td>\n",
       "      <td>0</td>\n",
       "    </tr>\n",
       "    <tr>\n",
       "      <th>1</th>\n",
       "      <td>16</td>\n",
       "      <td>0</td>\n",
       "      <td>0</td>\n",
       "      <td>0</td>\n",
       "      <td>0</td>\n",
       "      <td>1</td>\n",
       "    </tr>\n",
       "    <tr>\n",
       "      <th>2</th>\n",
       "      <td>16</td>\n",
       "      <td>0</td>\n",
       "      <td>0</td>\n",
       "      <td>0</td>\n",
       "      <td>1</td>\n",
       "      <td>0</td>\n",
       "    </tr>\n",
       "    <tr>\n",
       "      <th>3</th>\n",
       "      <td>16</td>\n",
       "      <td>0</td>\n",
       "      <td>0</td>\n",
       "      <td>0</td>\n",
       "      <td>1</td>\n",
       "      <td>1</td>\n",
       "    </tr>\n",
       "    <tr>\n",
       "      <th>4</th>\n",
       "      <td>16</td>\n",
       "      <td>0</td>\n",
       "      <td>0</td>\n",
       "      <td>1</td>\n",
       "      <td>0</td>\n",
       "      <td>0</td>\n",
       "    </tr>\n",
       "    <tr>\n",
       "      <th>...</th>\n",
       "      <td>...</td>\n",
       "      <td>...</td>\n",
       "      <td>...</td>\n",
       "      <td>...</td>\n",
       "      <td>...</td>\n",
       "      <td>...</td>\n",
       "    </tr>\n",
       "    <tr>\n",
       "      <th>1307</th>\n",
       "      <td>56</td>\n",
       "      <td>1</td>\n",
       "      <td>1</td>\n",
       "      <td>0</td>\n",
       "      <td>1</td>\n",
       "      <td>1</td>\n",
       "    </tr>\n",
       "    <tr>\n",
       "      <th>1308</th>\n",
       "      <td>56</td>\n",
       "      <td>1</td>\n",
       "      <td>1</td>\n",
       "      <td>1</td>\n",
       "      <td>0</td>\n",
       "      <td>0</td>\n",
       "    </tr>\n",
       "    <tr>\n",
       "      <th>1309</th>\n",
       "      <td>56</td>\n",
       "      <td>1</td>\n",
       "      <td>1</td>\n",
       "      <td>1</td>\n",
       "      <td>0</td>\n",
       "      <td>1</td>\n",
       "    </tr>\n",
       "    <tr>\n",
       "      <th>1310</th>\n",
       "      <td>56</td>\n",
       "      <td>1</td>\n",
       "      <td>1</td>\n",
       "      <td>1</td>\n",
       "      <td>1</td>\n",
       "      <td>0</td>\n",
       "    </tr>\n",
       "    <tr>\n",
       "      <th>1311</th>\n",
       "      <td>56</td>\n",
       "      <td>1</td>\n",
       "      <td>1</td>\n",
       "      <td>1</td>\n",
       "      <td>1</td>\n",
       "      <td>1</td>\n",
       "    </tr>\n",
       "  </tbody>\n",
       "</table>\n",
       "<p>1312 rows × 6 columns</p>\n",
       "</div>"
      ],
      "text/plain": [
       "      age  gender  occupation_college  occupation_executive  occupation_other  \\\n",
       "0      16       0                   0                     0                 0   \n",
       "1      16       0                   0                     0                 0   \n",
       "2      16       0                   0                     0                 1   \n",
       "3      16       0                   0                     0                 1   \n",
       "4      16       0                   0                     1                 0   \n",
       "...   ...     ...                 ...                   ...               ...   \n",
       "1307   56       1                   1                     0                 1   \n",
       "1308   56       1                   1                     1                 0   \n",
       "1309   56       1                   1                     1                 0   \n",
       "1310   56       1                   1                     1                 1   \n",
       "1311   56       1                   1                     1                 1   \n",
       "\n",
       "      occupation_technician  \n",
       "0                         0  \n",
       "1                         1  \n",
       "2                         0  \n",
       "3                         1  \n",
       "4                         0  \n",
       "...                     ...  \n",
       "1307                      1  \n",
       "1308                      0  \n",
       "1309                      1  \n",
       "1310                      0  \n",
       "1311                      1  \n",
       "\n",
       "[1312 rows x 6 columns]"
      ]
     },
     "execution_count": 83,
     "metadata": {},
     "output_type": "execute_result"
    }
   ],
   "source": [
    "combinations.columns =['age','gender','occupation_college', 'occupation_executive','occupation_other','occupation_technician']\n",
    "combinations"
   ]
  },
  {
   "cell_type": "code",
   "execution_count": 84,
   "metadata": {
    "colab": {
     "base_uri": "https://localhost:8080/"
    },
    "executionInfo": {
     "elapsed": 618,
     "status": "ok",
     "timestamp": 1676663334947,
     "user": {
      "displayName": "Yang Xu",
      "userId": "12270366590264264299"
     },
     "user_tz": 300
    },
    "id": "LIsjunXr2-6e",
    "outputId": "79c63273-e2e9-4c51-e31d-bc728f51f635"
   },
   "outputs": [
    {
     "data": {
      "text/plain": [
       "1312"
      ]
     },
     "execution_count": 84,
     "metadata": {},
     "output_type": "execute_result"
    }
   ],
   "source": [
    "len(models_CEL['Comedy'].predict(combinations))"
   ]
  },
  {
   "cell_type": "code",
   "execution_count": 85,
   "metadata": {
    "colab": {
     "base_uri": "https://localhost:8080/",
     "height": 35
    },
    "executionInfo": {
     "elapsed": 322,
     "status": "ok",
     "timestamp": 1676663340271,
     "user": {
      "displayName": "Yang Xu",
      "userId": "12270366590264264299"
     },
     "user_tz": 300
    },
    "id": "sTNo7yz97DeC",
    "outputId": "cf645d2b-e273-4bda-f9ea-a6ad78d1bbf4"
   },
   "outputs": [
    {
     "data": {
      "text/plain": [
       "'Sci-Fi'"
      ]
     },
     "execution_count": 85,
     "metadata": {},
     "output_type": "execute_result"
    }
   ],
   "source": [
    "movie_genere"
   ]
  },
  {
   "cell_type": "code",
   "execution_count": 86,
   "metadata": {
    "colab": {
     "base_uri": "https://localhost:8080/"
    },
    "executionInfo": {
     "elapsed": 299,
     "status": "ok",
     "timestamp": 1676663347659,
     "user": {
      "displayName": "Yang Xu",
      "userId": "12270366590264264299"
     },
     "user_tz": 300
    },
    "id": "7O7Bfvmz5hB0",
    "outputId": "3e764027-e93b-4da8-f0fd-9f24a2eeb011"
   },
   "outputs": [
    {
     "data": {
      "text/plain": [
       "array([3.6671, 3.3669, 3.7403, ..., 3.1545, 3.7169, 2.7921])"
      ]
     },
     "execution_count": 86,
     "metadata": {},
     "output_type": "execute_result"
    }
   ],
   "source": [
    "models_CEL['Comedy'].predict(combinations)"
   ]
  },
  {
   "cell_type": "code",
   "execution_count": 87,
   "metadata": {
    "colab": {
     "base_uri": "https://localhost:8080/"
    },
    "executionInfo": {
     "elapsed": 484,
     "status": "ok",
     "timestamp": 1676663532795,
     "user": {
      "displayName": "Yang Xu",
      "userId": "12270366590264264299"
     },
     "user_tz": 300
    },
    "id": "sToJaW2I7JDR",
    "outputId": "dae5165b-6023-43b5-c557-19c831b649db"
   },
   "outputs": [
    {
     "name": "stdout",
     "output_type": "stream",
     "text": [
      "[[3.6671 3.3669 3.7403 ... 3.1545 3.7169 2.7921]\n",
      " [0.     0.     0.     ... 0.     0.     0.    ]\n",
      " [0.     0.     0.     ... 0.     0.     0.    ]\n",
      " [0.     0.     0.     ... 0.     0.     0.    ]\n",
      " [0.     0.     0.     ... 0.     0.     0.    ]]\n",
      "[[3.6671 3.3669 3.7403 ... 3.1545 3.7169 2.7921]\n",
      " [4.1591 3.8884 4.323  ... 3.617  4.1462 3.623 ]\n",
      " [0.     0.     0.     ... 0.     0.     0.    ]\n",
      " [0.     0.     0.     ... 0.     0.     0.    ]\n",
      " [0.     0.     0.     ... 0.     0.     0.    ]]\n",
      "[[3.6671 3.3669 3.7403 ... 3.1545 3.7169 2.7921]\n",
      " [4.1591 3.8884 4.323  ... 3.617  4.1462 3.623 ]\n",
      " [3.621  3.6609 3.7536 ... 3.8367 3.9265 3.7139]\n",
      " [0.     0.     0.     ... 0.     0.     0.    ]\n",
      " [0.     0.     0.     ... 0.     0.     0.    ]]\n",
      "[[3.6671 3.3669 3.7403 ... 3.1545 3.7169 2.7921]\n",
      " [4.1591 3.8884 4.323  ... 3.617  4.1462 3.623 ]\n",
      " [3.621  3.6609 3.7536 ... 3.8367 3.9265 3.7139]\n",
      " [3.8914 3.8843 3.931  ... 3.6474 4.428  3.5516]\n",
      " [0.     0.     0.     ... 0.     0.     0.    ]]\n",
      "[[3.6671 3.3669 3.7403 ... 3.1545 3.7169 2.7921]\n",
      " [4.1591 3.8884 4.323  ... 3.617  4.1462 3.623 ]\n",
      " [3.621  3.6609 3.7536 ... 3.8367 3.9265 3.7139]\n",
      " [3.8914 3.8843 3.931  ... 3.6474 4.428  3.5516]\n",
      " [3.5793 3.4066 3.621  ... 3.0967 4.1025 2.9624]]\n"
     ]
    }
   ],
   "source": [
    "values = np.zeros((5,1312))\n",
    "i=0\n",
    "for movie_genere in movie_generes:\n",
    "    values[i,:] = models_CEL[movie_genere].predict(combinations)\n",
    "    i=i+1\n",
    "    print(values)"
   ]
  },
  {
   "cell_type": "code",
   "execution_count": 88,
   "metadata": {
    "executionInfo": {
     "elapsed": 327,
     "status": "ok",
     "timestamp": 1676663610385,
     "user": {
      "displayName": "Yang Xu",
      "userId": "12270366590264264299"
     },
     "user_tz": 300
    },
    "id": "ftSFf4P62_A8"
   },
   "outputs": [],
   "source": [
    "result_CEL = combinations\n",
    "i=0\n",
    "for movie_genere in movie_generes:\n",
    "  #values = models_CEL[movie_genere].predict(combinations)\n",
    "  result_CEL.insert(len(result_CEL.columns), movie_genere, values[i,:])\n",
    "  i=i+1"
   ]
  },
  {
   "cell_type": "code",
   "execution_count": 89,
   "metadata": {
    "colab": {
     "base_uri": "https://localhost:8080/",
     "height": 488
    },
    "executionInfo": {
     "elapsed": 312,
     "status": "ok",
     "timestamp": 1676663615813,
     "user": {
      "displayName": "Yang Xu",
      "userId": "12270366590264264299"
     },
     "user_tz": 300
    },
    "id": "3b44q4xD8Gvh",
    "outputId": "a2846ad8-a2ef-4677-ff8f-1b0f3b87f386"
   },
   "outputs": [
    {
     "data": {
      "text/html": [
       "<div>\n",
       "<style scoped>\n",
       "    .dataframe tbody tr th:only-of-type {\n",
       "        vertical-align: middle;\n",
       "    }\n",
       "\n",
       "    .dataframe tbody tr th {\n",
       "        vertical-align: top;\n",
       "    }\n",
       "\n",
       "    .dataframe thead th {\n",
       "        text-align: right;\n",
       "    }\n",
       "</style>\n",
       "<table border=\"1\" class=\"dataframe\">\n",
       "  <thead>\n",
       "    <tr style=\"text-align: right;\">\n",
       "      <th></th>\n",
       "      <th>age</th>\n",
       "      <th>gender</th>\n",
       "      <th>occupation_college</th>\n",
       "      <th>occupation_executive</th>\n",
       "      <th>occupation_other</th>\n",
       "      <th>occupation_technician</th>\n",
       "      <th>Comedy</th>\n",
       "      <th>Drama</th>\n",
       "      <th>Action</th>\n",
       "      <th>Thriller</th>\n",
       "      <th>Sci-Fi</th>\n",
       "    </tr>\n",
       "  </thead>\n",
       "  <tbody>\n",
       "    <tr>\n",
       "      <th>0</th>\n",
       "      <td>16</td>\n",
       "      <td>0</td>\n",
       "      <td>0</td>\n",
       "      <td>0</td>\n",
       "      <td>0</td>\n",
       "      <td>0</td>\n",
       "      <td>3.667108</td>\n",
       "      <td>4.159101</td>\n",
       "      <td>3.621042</td>\n",
       "      <td>3.891404</td>\n",
       "      <td>3.579256</td>\n",
       "    </tr>\n",
       "    <tr>\n",
       "      <th>1</th>\n",
       "      <td>16</td>\n",
       "      <td>0</td>\n",
       "      <td>0</td>\n",
       "      <td>0</td>\n",
       "      <td>0</td>\n",
       "      <td>1</td>\n",
       "      <td>3.366861</td>\n",
       "      <td>3.888376</td>\n",
       "      <td>3.660929</td>\n",
       "      <td>3.884298</td>\n",
       "      <td>3.406647</td>\n",
       "    </tr>\n",
       "    <tr>\n",
       "      <th>2</th>\n",
       "      <td>16</td>\n",
       "      <td>0</td>\n",
       "      <td>0</td>\n",
       "      <td>0</td>\n",
       "      <td>1</td>\n",
       "      <td>0</td>\n",
       "      <td>3.740314</td>\n",
       "      <td>4.323008</td>\n",
       "      <td>3.753576</td>\n",
       "      <td>3.930968</td>\n",
       "      <td>3.621002</td>\n",
       "    </tr>\n",
       "    <tr>\n",
       "      <th>3</th>\n",
       "      <td>16</td>\n",
       "      <td>0</td>\n",
       "      <td>0</td>\n",
       "      <td>0</td>\n",
       "      <td>1</td>\n",
       "      <td>1</td>\n",
       "      <td>3.432508</td>\n",
       "      <td>4.036827</td>\n",
       "      <td>3.793464</td>\n",
       "      <td>3.923861</td>\n",
       "      <td>3.460696</td>\n",
       "    </tr>\n",
       "    <tr>\n",
       "      <th>4</th>\n",
       "      <td>16</td>\n",
       "      <td>0</td>\n",
       "      <td>0</td>\n",
       "      <td>1</td>\n",
       "      <td>0</td>\n",
       "      <td>0</td>\n",
       "      <td>3.654633</td>\n",
       "      <td>4.138223</td>\n",
       "      <td>3.807868</td>\n",
       "      <td>3.984900</td>\n",
       "      <td>3.545622</td>\n",
       "    </tr>\n",
       "    <tr>\n",
       "      <th>...</th>\n",
       "      <td>...</td>\n",
       "      <td>...</td>\n",
       "      <td>...</td>\n",
       "      <td>...</td>\n",
       "      <td>...</td>\n",
       "      <td>...</td>\n",
       "      <td>...</td>\n",
       "      <td>...</td>\n",
       "      <td>...</td>\n",
       "      <td>...</td>\n",
       "      <td>...</td>\n",
       "    </tr>\n",
       "    <tr>\n",
       "      <th>1307</th>\n",
       "      <td>56</td>\n",
       "      <td>1</td>\n",
       "      <td>1</td>\n",
       "      <td>0</td>\n",
       "      <td>1</td>\n",
       "      <td>1</td>\n",
       "      <td>2.783766</td>\n",
       "      <td>3.636899</td>\n",
       "      <td>3.261385</td>\n",
       "      <td>3.142084</td>\n",
       "      <td>2.852911</td>\n",
       "    </tr>\n",
       "    <tr>\n",
       "      <th>1308</th>\n",
       "      <td>56</td>\n",
       "      <td>1</td>\n",
       "      <td>1</td>\n",
       "      <td>1</td>\n",
       "      <td>0</td>\n",
       "      <td>0</td>\n",
       "      <td>4.108480</td>\n",
       "      <td>4.215949</td>\n",
       "      <td>4.049312</td>\n",
       "      <td>4.523752</td>\n",
       "      <td>4.236776</td>\n",
       "    </tr>\n",
       "    <tr>\n",
       "      <th>1309</th>\n",
       "      <td>56</td>\n",
       "      <td>1</td>\n",
       "      <td>1</td>\n",
       "      <td>1</td>\n",
       "      <td>0</td>\n",
       "      <td>1</td>\n",
       "      <td>3.154513</td>\n",
       "      <td>3.617045</td>\n",
       "      <td>3.836742</td>\n",
       "      <td>3.647366</td>\n",
       "      <td>3.096732</td>\n",
       "    </tr>\n",
       "    <tr>\n",
       "      <th>1310</th>\n",
       "      <td>56</td>\n",
       "      <td>1</td>\n",
       "      <td>1</td>\n",
       "      <td>1</td>\n",
       "      <td>1</td>\n",
       "      <td>0</td>\n",
       "      <td>3.716872</td>\n",
       "      <td>4.146200</td>\n",
       "      <td>3.926512</td>\n",
       "      <td>4.428002</td>\n",
       "      <td>4.102457</td>\n",
       "    </tr>\n",
       "    <tr>\n",
       "      <th>1311</th>\n",
       "      <td>56</td>\n",
       "      <td>1</td>\n",
       "      <td>1</td>\n",
       "      <td>1</td>\n",
       "      <td>1</td>\n",
       "      <td>1</td>\n",
       "      <td>2.792068</td>\n",
       "      <td>3.623021</td>\n",
       "      <td>3.713942</td>\n",
       "      <td>3.551617</td>\n",
       "      <td>2.962412</td>\n",
       "    </tr>\n",
       "  </tbody>\n",
       "</table>\n",
       "<p>1312 rows × 11 columns</p>\n",
       "</div>"
      ],
      "text/plain": [
       "      age  gender  occupation_college  occupation_executive  occupation_other  \\\n",
       "0      16       0                   0                     0                 0   \n",
       "1      16       0                   0                     0                 0   \n",
       "2      16       0                   0                     0                 1   \n",
       "3      16       0                   0                     0                 1   \n",
       "4      16       0                   0                     1                 0   \n",
       "...   ...     ...                 ...                   ...               ...   \n",
       "1307   56       1                   1                     0                 1   \n",
       "1308   56       1                   1                     1                 0   \n",
       "1309   56       1                   1                     1                 0   \n",
       "1310   56       1                   1                     1                 1   \n",
       "1311   56       1                   1                     1                 1   \n",
       "\n",
       "      occupation_technician    Comedy     Drama    Action  Thriller    Sci-Fi  \n",
       "0                         0  3.667108  4.159101  3.621042  3.891404  3.579256  \n",
       "1                         1  3.366861  3.888376  3.660929  3.884298  3.406647  \n",
       "2                         0  3.740314  4.323008  3.753576  3.930968  3.621002  \n",
       "3                         1  3.432508  4.036827  3.793464  3.923861  3.460696  \n",
       "4                         0  3.654633  4.138223  3.807868  3.984900  3.545622  \n",
       "...                     ...       ...       ...       ...       ...       ...  \n",
       "1307                      1  2.783766  3.636899  3.261385  3.142084  2.852911  \n",
       "1308                      0  4.108480  4.215949  4.049312  4.523752  4.236776  \n",
       "1309                      1  3.154513  3.617045  3.836742  3.647366  3.096732  \n",
       "1310                      0  3.716872  4.146200  3.926512  4.428002  4.102457  \n",
       "1311                      1  2.792068  3.623021  3.713942  3.551617  2.962412  \n",
       "\n",
       "[1312 rows x 11 columns]"
      ]
     },
     "execution_count": 89,
     "metadata": {},
     "output_type": "execute_result"
    }
   ],
   "source": [
    "result_CEL"
   ]
  },
  {
   "cell_type": "code",
   "execution_count": null,
   "metadata": {
    "id": "fevtquup1oQV"
   },
   "outputs": [],
   "source": []
  },
  {
   "cell_type": "code",
   "execution_count": 90,
   "metadata": {
    "executionInfo": {
     "elapsed": 297,
     "status": "ok",
     "timestamp": 1676663762150,
     "user": {
      "displayName": "Yang Xu",
      "userId": "12270366590264264299"
     },
     "user_tz": 300
    },
    "id": "ZPelPjli1oTF"
   },
   "outputs": [],
   "source": [
    "result_CEL.to_csv('/Users/alinaxu/Documents/CDM/Causal-Decision-Making/5_Case_Study/MovieLens/result_CEL_nonlinear.csv')"
   ]
  },
  {
   "cell_type": "code",
   "execution_count": 91,
   "metadata": {
    "colab": {
     "base_uri": "https://localhost:8080/",
     "height": 488
    },
    "executionInfo": {
     "elapsed": 18,
     "status": "ok",
     "timestamp": 1676663918591,
     "user": {
      "displayName": "Yang Xu",
      "userId": "12270366590264264299"
     },
     "user_tz": 300
    },
    "id": "alx6VRzn8v-W",
    "outputId": "6bfbeeec-1a6c-4e68-bad9-39c0853b34a7"
   },
   "outputs": [
    {
     "data": {
      "text/html": [
       "<div>\n",
       "<style scoped>\n",
       "    .dataframe tbody tr th:only-of-type {\n",
       "        vertical-align: middle;\n",
       "    }\n",
       "\n",
       "    .dataframe tbody tr th {\n",
       "        vertical-align: top;\n",
       "    }\n",
       "\n",
       "    .dataframe thead th {\n",
       "        text-align: right;\n",
       "    }\n",
       "</style>\n",
       "<table border=\"1\" class=\"dataframe\">\n",
       "  <thead>\n",
       "    <tr style=\"text-align: right;\">\n",
       "      <th></th>\n",
       "      <th>age</th>\n",
       "      <th>gender</th>\n",
       "      <th>occupation_college</th>\n",
       "      <th>occupation_executive</th>\n",
       "      <th>occupation_other</th>\n",
       "      <th>occupation_technician</th>\n",
       "      <th>Comedy</th>\n",
       "      <th>Drama</th>\n",
       "      <th>Action</th>\n",
       "      <th>Thriller</th>\n",
       "      <th>Sci-Fi</th>\n",
       "    </tr>\n",
       "  </thead>\n",
       "  <tbody>\n",
       "    <tr>\n",
       "      <th>0</th>\n",
       "      <td>16</td>\n",
       "      <td>0</td>\n",
       "      <td>0</td>\n",
       "      <td>0</td>\n",
       "      <td>0</td>\n",
       "      <td>0</td>\n",
       "      <td>3.667108</td>\n",
       "      <td>4.159101</td>\n",
       "      <td>3.621042</td>\n",
       "      <td>3.891404</td>\n",
       "      <td>3.579256</td>\n",
       "    </tr>\n",
       "    <tr>\n",
       "      <th>1</th>\n",
       "      <td>16</td>\n",
       "      <td>0</td>\n",
       "      <td>0</td>\n",
       "      <td>0</td>\n",
       "      <td>0</td>\n",
       "      <td>1</td>\n",
       "      <td>3.366861</td>\n",
       "      <td>3.888376</td>\n",
       "      <td>3.660929</td>\n",
       "      <td>3.884298</td>\n",
       "      <td>3.406647</td>\n",
       "    </tr>\n",
       "    <tr>\n",
       "      <th>2</th>\n",
       "      <td>16</td>\n",
       "      <td>0</td>\n",
       "      <td>0</td>\n",
       "      <td>0</td>\n",
       "      <td>1</td>\n",
       "      <td>0</td>\n",
       "      <td>3.740314</td>\n",
       "      <td>4.323008</td>\n",
       "      <td>3.753576</td>\n",
       "      <td>3.930968</td>\n",
       "      <td>3.621002</td>\n",
       "    </tr>\n",
       "    <tr>\n",
       "      <th>3</th>\n",
       "      <td>16</td>\n",
       "      <td>0</td>\n",
       "      <td>0</td>\n",
       "      <td>0</td>\n",
       "      <td>1</td>\n",
       "      <td>1</td>\n",
       "      <td>3.432508</td>\n",
       "      <td>4.036827</td>\n",
       "      <td>3.793464</td>\n",
       "      <td>3.923861</td>\n",
       "      <td>3.460696</td>\n",
       "    </tr>\n",
       "    <tr>\n",
       "      <th>4</th>\n",
       "      <td>16</td>\n",
       "      <td>0</td>\n",
       "      <td>0</td>\n",
       "      <td>1</td>\n",
       "      <td>0</td>\n",
       "      <td>0</td>\n",
       "      <td>3.654633</td>\n",
       "      <td>4.138223</td>\n",
       "      <td>3.807868</td>\n",
       "      <td>3.984900</td>\n",
       "      <td>3.545622</td>\n",
       "    </tr>\n",
       "    <tr>\n",
       "      <th>...</th>\n",
       "      <td>...</td>\n",
       "      <td>...</td>\n",
       "      <td>...</td>\n",
       "      <td>...</td>\n",
       "      <td>...</td>\n",
       "      <td>...</td>\n",
       "      <td>...</td>\n",
       "      <td>...</td>\n",
       "      <td>...</td>\n",
       "      <td>...</td>\n",
       "      <td>...</td>\n",
       "    </tr>\n",
       "    <tr>\n",
       "      <th>1307</th>\n",
       "      <td>56</td>\n",
       "      <td>1</td>\n",
       "      <td>1</td>\n",
       "      <td>0</td>\n",
       "      <td>1</td>\n",
       "      <td>1</td>\n",
       "      <td>2.783766</td>\n",
       "      <td>3.636899</td>\n",
       "      <td>3.261385</td>\n",
       "      <td>3.142084</td>\n",
       "      <td>2.852911</td>\n",
       "    </tr>\n",
       "    <tr>\n",
       "      <th>1308</th>\n",
       "      <td>56</td>\n",
       "      <td>1</td>\n",
       "      <td>1</td>\n",
       "      <td>1</td>\n",
       "      <td>0</td>\n",
       "      <td>0</td>\n",
       "      <td>4.108480</td>\n",
       "      <td>4.215949</td>\n",
       "      <td>4.049312</td>\n",
       "      <td>4.523752</td>\n",
       "      <td>4.236776</td>\n",
       "    </tr>\n",
       "    <tr>\n",
       "      <th>1309</th>\n",
       "      <td>56</td>\n",
       "      <td>1</td>\n",
       "      <td>1</td>\n",
       "      <td>1</td>\n",
       "      <td>0</td>\n",
       "      <td>1</td>\n",
       "      <td>3.154513</td>\n",
       "      <td>3.617045</td>\n",
       "      <td>3.836742</td>\n",
       "      <td>3.647366</td>\n",
       "      <td>3.096732</td>\n",
       "    </tr>\n",
       "    <tr>\n",
       "      <th>1310</th>\n",
       "      <td>56</td>\n",
       "      <td>1</td>\n",
       "      <td>1</td>\n",
       "      <td>1</td>\n",
       "      <td>1</td>\n",
       "      <td>0</td>\n",
       "      <td>3.716872</td>\n",
       "      <td>4.146200</td>\n",
       "      <td>3.926512</td>\n",
       "      <td>4.428002</td>\n",
       "      <td>4.102457</td>\n",
       "    </tr>\n",
       "    <tr>\n",
       "      <th>1311</th>\n",
       "      <td>56</td>\n",
       "      <td>1</td>\n",
       "      <td>1</td>\n",
       "      <td>1</td>\n",
       "      <td>1</td>\n",
       "      <td>1</td>\n",
       "      <td>2.792068</td>\n",
       "      <td>3.623021</td>\n",
       "      <td>3.713942</td>\n",
       "      <td>3.551617</td>\n",
       "      <td>2.962412</td>\n",
       "    </tr>\n",
       "  </tbody>\n",
       "</table>\n",
       "<p>1312 rows × 11 columns</p>\n",
       "</div>"
      ],
      "text/plain": [
       "      age  gender  occupation_college  occupation_executive  occupation_other  \\\n",
       "0      16       0                   0                     0                 0   \n",
       "1      16       0                   0                     0                 0   \n",
       "2      16       0                   0                     0                 1   \n",
       "3      16       0                   0                     0                 1   \n",
       "4      16       0                   0                     1                 0   \n",
       "...   ...     ...                 ...                   ...               ...   \n",
       "1307   56       1                   1                     0                 1   \n",
       "1308   56       1                   1                     1                 0   \n",
       "1309   56       1                   1                     1                 0   \n",
       "1310   56       1                   1                     1                 1   \n",
       "1311   56       1                   1                     1                 1   \n",
       "\n",
       "      occupation_technician    Comedy     Drama    Action  Thriller    Sci-Fi  \n",
       "0                         0  3.667108  4.159101  3.621042  3.891404  3.579256  \n",
       "1                         1  3.366861  3.888376  3.660929  3.884298  3.406647  \n",
       "2                         0  3.740314  4.323008  3.753576  3.930968  3.621002  \n",
       "3                         1  3.432508  4.036827  3.793464  3.923861  3.460696  \n",
       "4                         0  3.654633  4.138223  3.807868  3.984900  3.545622  \n",
       "...                     ...       ...       ...       ...       ...       ...  \n",
       "1307                      1  2.783766  3.636899  3.261385  3.142084  2.852911  \n",
       "1308                      0  4.108480  4.215949  4.049312  4.523752  4.236776  \n",
       "1309                      1  3.154513  3.617045  3.836742  3.647366  3.096732  \n",
       "1310                      0  3.716872  4.146200  3.926512  4.428002  4.102457  \n",
       "1311                      1  2.792068  3.623021  3.713942  3.551617  2.962412  \n",
       "\n",
       "[1312 rows x 11 columns]"
      ]
     },
     "execution_count": 91,
     "metadata": {},
     "output_type": "execute_result"
    }
   ],
   "source": [
    "# read the result file\n",
    "result_CEL_nonlinear = pd.read_csv('/Users/alinaxu/Documents/CDM/Causal-Decision-Making/5_Case_Study/MovieLens/result_CEL_nonlinear.csv')\n",
    "result_CEL_nonlinear = result_CEL_nonlinear.drop(result_CEL_nonlinear.columns[0], axis=1)\n",
    "result_CEL_nonlinear"
   ]
  },
  {
   "cell_type": "markdown",
   "metadata": {
    "id": "nhhsw-DOwxzx"
   },
   "source": [
    "#### Analysis"
   ]
  },
  {
   "cell_type": "code",
   "execution_count": 92,
   "metadata": {
    "colab": {
     "base_uri": "https://localhost:8080/"
    },
    "executionInfo": {
     "elapsed": 305,
     "status": "ok",
     "timestamp": 1676664133780,
     "user": {
      "displayName": "Yang Xu",
      "userId": "12270366590264264299"
     },
     "user_tz": 300
    },
    "id": "f1KUTvYl98x6",
    "outputId": "b36cbe31-7383-4577-8758-9e4d2c4530b1"
   },
   "outputs": [
    {
     "data": {
      "text/plain": [
       "array([   0,    1,    2,    3,    4,    5,    6,    7,    8,    9,   10,\n",
       "         11,   12,   13,   14,   15,   32,   33,   34,   35,   36,   37,\n",
       "         38,   39,   40,   41,   42,   43,   44,   45,   46,   47,   64,\n",
       "         65,   66,   67,   68,   69,   70,   71,   72,   73,   74,   75,\n",
       "         76,   77,   78,   79,   96,   97,   98,   99,  100,  101,  102,\n",
       "        103,  104,  105,  106,  107,  108,  109,  110,  111,  128,  129,\n",
       "        130,  131,  132,  133,  134,  135,  136,  137,  138,  139,  140,\n",
       "        141,  142,  143,  160,  161,  162,  163,  164,  165,  166,  167,\n",
       "        168,  169,  170,  171,  172,  173,  174,  175,  192,  193,  194,\n",
       "        195,  196,  197,  198,  199,  200,  201,  202,  203,  204,  205,\n",
       "        206,  207,  224,  225,  226,  227,  228,  229,  230,  231,  232,\n",
       "        233,  234,  235,  236,  237,  238,  239,  256,  257,  258,  259,\n",
       "        260,  261,  262,  263,  264,  265,  266,  267,  268,  269,  270,\n",
       "        271,  288,  289,  290,  291,  292,  293,  294,  295,  296,  297,\n",
       "        298,  299,  300,  301,  302,  303,  320,  321,  322,  323,  324,\n",
       "        325,  326,  327,  328,  329,  330,  331,  332,  333,  334,  335,\n",
       "        352,  353,  354,  355,  356,  357,  358,  359,  360,  361,  362,\n",
       "        363,  364,  365,  366,  367,  384,  385,  386,  387,  388,  389,\n",
       "        390,  391,  392,  393,  394,  395,  396,  397,  398,  399,  416,\n",
       "        417,  418,  419,  420,  421,  422,  423,  424,  425,  426,  427,\n",
       "        428,  429,  430,  431,  448,  449,  450,  451,  452,  453,  454,\n",
       "        455,  456,  457,  458,  459,  460,  461,  462,  463,  480,  481,\n",
       "        482,  483,  484,  485,  486,  487,  488,  489,  490,  491,  492,\n",
       "        493,  494,  495,  512,  513,  514,  515,  516,  517,  518,  519,\n",
       "        520,  521,  522,  523,  524,  525,  526,  527,  544,  545,  546,\n",
       "        547,  548,  549,  550,  551,  552,  553,  554,  555,  556,  557,\n",
       "        558,  559,  576,  577,  578,  579,  580,  581,  582,  583,  584,\n",
       "        585,  586,  587,  588,  589,  590,  591,  608,  609,  610,  611,\n",
       "        612,  613,  614,  615,  616,  617,  618,  619,  620,  621,  622,\n",
       "        623,  640,  641,  642,  643,  644,  645,  646,  647,  648,  649,\n",
       "        650,  651,  652,  653,  654,  655,  672,  673,  674,  675,  676,\n",
       "        677,  678,  679,  680,  681,  682,  683,  684,  685,  686,  687,\n",
       "        704,  705,  706,  707,  708,  709,  710,  711,  712,  713,  714,\n",
       "        715,  716,  717,  718,  719,  736,  737,  738,  739,  740,  741,\n",
       "        742,  743,  744,  745,  746,  747,  748,  749,  750,  751,  768,\n",
       "        769,  770,  771,  772,  773,  774,  775,  776,  777,  778,  779,\n",
       "        780,  781,  782,  783,  800,  801,  802,  803,  804,  805,  806,\n",
       "        807,  808,  809,  810,  811,  812,  813,  814,  815,  832,  833,\n",
       "        834,  835,  836,  837,  838,  839,  840,  841,  842,  843,  844,\n",
       "        845,  846,  847,  864,  865,  866,  867,  868,  869,  870,  871,\n",
       "        872,  873,  874,  875,  876,  877,  878,  879,  896,  897,  898,\n",
       "        899,  900,  901,  902,  903,  904,  905,  906,  907,  908,  909,\n",
       "        910,  911,  928,  929,  930,  931,  932,  933,  934,  935,  936,\n",
       "        937,  938,  939,  940,  941,  942,  943,  960,  961,  962,  963,\n",
       "        964,  965,  966,  967,  968,  969,  970,  971,  972,  973,  974,\n",
       "        975,  992,  993,  994,  995,  996,  997,  998,  999, 1000, 1001,\n",
       "       1002, 1003, 1004, 1005, 1006, 1007, 1024, 1025, 1026, 1027, 1028,\n",
       "       1029, 1030, 1031, 1032, 1033, 1034, 1035, 1036, 1037, 1038, 1039,\n",
       "       1056, 1057, 1058, 1059, 1060, 1061, 1062, 1063, 1064, 1065, 1066,\n",
       "       1067, 1068, 1069, 1070, 1071, 1088, 1089, 1090, 1091, 1092, 1093,\n",
       "       1094, 1095, 1096, 1097, 1098, 1099, 1100, 1101, 1102, 1103, 1120,\n",
       "       1121, 1122, 1123, 1124, 1125, 1126, 1127, 1128, 1129, 1130, 1131,\n",
       "       1132, 1133, 1134, 1135, 1152, 1153, 1154, 1155, 1156, 1157, 1158,\n",
       "       1159, 1160, 1161, 1162, 1163, 1164, 1165, 1166, 1167, 1184, 1185,\n",
       "       1186, 1187, 1188, 1189, 1190, 1191, 1192, 1193, 1194, 1195, 1196,\n",
       "       1197, 1198, 1199, 1216, 1217, 1218, 1219, 1220, 1221, 1222, 1223,\n",
       "       1224, 1225, 1226, 1227, 1228, 1229, 1230, 1231, 1248, 1249, 1250,\n",
       "       1251, 1252, 1253, 1254, 1255, 1256, 1257, 1258, 1259, 1260, 1261,\n",
       "       1262, 1263, 1280, 1281, 1282, 1283, 1284, 1285, 1286, 1287, 1288,\n",
       "       1289, 1290, 1291, 1292, 1293, 1294, 1295])"
      ]
     },
     "execution_count": 92,
     "metadata": {},
     "output_type": "execute_result"
    }
   ],
   "source": [
    "np.where(result_CEL_nonlinear['gender']==0)[0]"
   ]
  },
  {
   "cell_type": "code",
   "execution_count": 93,
   "metadata": {
    "colab": {
     "base_uri": "https://localhost:8080/",
     "height": 424
    },
    "executionInfo": {
     "elapsed": 384,
     "status": "ok",
     "timestamp": 1676664151826,
     "user": {
      "displayName": "Yang Xu",
      "userId": "12270366590264264299"
     },
     "user_tz": 300
    },
    "id": "DdJQexQR9n44",
    "outputId": "e50438e1-8a80-4cb3-d45c-c34530d71301"
   },
   "outputs": [
    {
     "data": {
      "text/html": [
       "<div>\n",
       "<style scoped>\n",
       "    .dataframe tbody tr th:only-of-type {\n",
       "        vertical-align: middle;\n",
       "    }\n",
       "\n",
       "    .dataframe tbody tr th {\n",
       "        vertical-align: top;\n",
       "    }\n",
       "\n",
       "    .dataframe thead th {\n",
       "        text-align: right;\n",
       "    }\n",
       "</style>\n",
       "<table border=\"1\" class=\"dataframe\">\n",
       "  <thead>\n",
       "    <tr style=\"text-align: right;\">\n",
       "      <th></th>\n",
       "      <th>Comedy</th>\n",
       "      <th>Drama</th>\n",
       "      <th>Action</th>\n",
       "      <th>Thriller</th>\n",
       "      <th>Sci-Fi</th>\n",
       "    </tr>\n",
       "  </thead>\n",
       "  <tbody>\n",
       "    <tr>\n",
       "      <th>0</th>\n",
       "      <td>3.667108</td>\n",
       "      <td>4.159101</td>\n",
       "      <td>3.621042</td>\n",
       "      <td>3.891404</td>\n",
       "      <td>3.579256</td>\n",
       "    </tr>\n",
       "    <tr>\n",
       "      <th>1</th>\n",
       "      <td>3.366861</td>\n",
       "      <td>3.888376</td>\n",
       "      <td>3.660929</td>\n",
       "      <td>3.884298</td>\n",
       "      <td>3.406647</td>\n",
       "    </tr>\n",
       "    <tr>\n",
       "      <th>2</th>\n",
       "      <td>3.740314</td>\n",
       "      <td>4.323008</td>\n",
       "      <td>3.753576</td>\n",
       "      <td>3.930968</td>\n",
       "      <td>3.621002</td>\n",
       "    </tr>\n",
       "    <tr>\n",
       "      <th>3</th>\n",
       "      <td>3.432508</td>\n",
       "      <td>4.036827</td>\n",
       "      <td>3.793464</td>\n",
       "      <td>3.923861</td>\n",
       "      <td>3.460696</td>\n",
       "    </tr>\n",
       "    <tr>\n",
       "      <th>4</th>\n",
       "      <td>3.654633</td>\n",
       "      <td>4.138223</td>\n",
       "      <td>3.807868</td>\n",
       "      <td>3.984900</td>\n",
       "      <td>3.545622</td>\n",
       "    </tr>\n",
       "    <tr>\n",
       "      <th>...</th>\n",
       "      <td>...</td>\n",
       "      <td>...</td>\n",
       "      <td>...</td>\n",
       "      <td>...</td>\n",
       "      <td>...</td>\n",
       "    </tr>\n",
       "    <tr>\n",
       "      <th>1291</th>\n",
       "      <td>2.794232</td>\n",
       "      <td>3.697612</td>\n",
       "      <td>3.391132</td>\n",
       "      <td>3.328777</td>\n",
       "      <td>2.938607</td>\n",
       "    </tr>\n",
       "    <tr>\n",
       "      <th>1292</th>\n",
       "      <td>4.212522</td>\n",
       "      <td>4.417237</td>\n",
       "      <td>4.849207</td>\n",
       "      <td>4.435471</td>\n",
       "      <td>4.563120</td>\n",
       "    </tr>\n",
       "    <tr>\n",
       "      <th>1293</th>\n",
       "      <td>3.317231</td>\n",
       "      <td>3.961143</td>\n",
       "      <td>4.636637</td>\n",
       "      <td>4.194262</td>\n",
       "      <td>3.491331</td>\n",
       "    </tr>\n",
       "    <tr>\n",
       "      <th>1294</th>\n",
       "      <td>3.722974</td>\n",
       "      <td>4.234974</td>\n",
       "      <td>4.241653</td>\n",
       "      <td>3.736452</td>\n",
       "      <td>4.258903</td>\n",
       "    </tr>\n",
       "    <tr>\n",
       "      <th>1295</th>\n",
       "      <td>2.856846</td>\n",
       "      <td>3.854605</td>\n",
       "      <td>4.029084</td>\n",
       "      <td>3.495243</td>\n",
       "      <td>3.199417</td>\n",
       "    </tr>\n",
       "  </tbody>\n",
       "</table>\n",
       "<p>656 rows × 5 columns</p>\n",
       "</div>"
      ],
      "text/plain": [
       "        Comedy     Drama    Action  Thriller    Sci-Fi\n",
       "0     3.667108  4.159101  3.621042  3.891404  3.579256\n",
       "1     3.366861  3.888376  3.660929  3.884298  3.406647\n",
       "2     3.740314  4.323008  3.753576  3.930968  3.621002\n",
       "3     3.432508  4.036827  3.793464  3.923861  3.460696\n",
       "4     3.654633  4.138223  3.807868  3.984900  3.545622\n",
       "...        ...       ...       ...       ...       ...\n",
       "1291  2.794232  3.697612  3.391132  3.328777  2.938607\n",
       "1292  4.212522  4.417237  4.849207  4.435471  4.563120\n",
       "1293  3.317231  3.961143  4.636637  4.194262  3.491331\n",
       "1294  3.722974  4.234974  4.241653  3.736452  4.258903\n",
       "1295  2.856846  3.854605  4.029084  3.495243  3.199417\n",
       "\n",
       "[656 rows x 5 columns]"
      ]
     },
     "execution_count": 93,
     "metadata": {},
     "output_type": "execute_result"
    }
   ],
   "source": [
    "result_CEL_nonlinear.iloc[np.where(result_CEL_nonlinear['gender']==0)[0],6:11]"
   ]
  },
  {
   "cell_type": "code",
   "execution_count": 94,
   "metadata": {
    "executionInfo": {
     "elapsed": 343,
     "status": "ok",
     "timestamp": 1676664442590,
     "user": {
      "displayName": "Yang Xu",
      "userId": "12270366590264264299"
     },
     "user_tz": 300
    },
    "id": "Dk9-vMRIQCyg"
   },
   "outputs": [],
   "source": [
    "# calculate the expected reward of Comedy for female\n",
    "TE_female=result_CEL_nonlinear.iloc[np.where(result_CEL_nonlinear['gender']==0)[0],6:11]/(41*(2**4))\n",
    "TE_female=pd.DataFrame(TE_female.sum(axis=0))\n",
    "TE_female.columns =['Expected Rating']"
   ]
  },
  {
   "cell_type": "code",
   "execution_count": 95,
   "metadata": {
    "colab": {
     "base_uri": "https://localhost:8080/",
     "height": 206
    },
    "executionInfo": {
     "elapsed": 17,
     "status": "ok",
     "timestamp": 1676664443598,
     "user": {
      "displayName": "Yang Xu",
      "userId": "12270366590264264299"
     },
     "user_tz": 300
    },
    "id": "KfCTrgBDSyWv",
    "outputId": "896d8116-a377-484f-e9eb-7abca4cad453"
   },
   "outputs": [
    {
     "data": {
      "text/html": [
       "<div>\n",
       "<style scoped>\n",
       "    .dataframe tbody tr th:only-of-type {\n",
       "        vertical-align: middle;\n",
       "    }\n",
       "\n",
       "    .dataframe tbody tr th {\n",
       "        vertical-align: top;\n",
       "    }\n",
       "\n",
       "    .dataframe thead th {\n",
       "        text-align: right;\n",
       "    }\n",
       "</style>\n",
       "<table border=\"1\" class=\"dataframe\">\n",
       "  <thead>\n",
       "    <tr style=\"text-align: right;\">\n",
       "      <th></th>\n",
       "      <th>Expected Rating</th>\n",
       "    </tr>\n",
       "  </thead>\n",
       "  <tbody>\n",
       "    <tr>\n",
       "      <th>Comedy</th>\n",
       "      <td>3.474339</td>\n",
       "    </tr>\n",
       "    <tr>\n",
       "      <th>Drama</th>\n",
       "      <td>3.830191</td>\n",
       "    </tr>\n",
       "    <tr>\n",
       "      <th>Action</th>\n",
       "      <td>3.666765</td>\n",
       "    </tr>\n",
       "    <tr>\n",
       "      <th>Thriller</th>\n",
       "      <td>3.599922</td>\n",
       "    </tr>\n",
       "    <tr>\n",
       "      <th>Sci-Fi</th>\n",
       "      <td>3.379801</td>\n",
       "    </tr>\n",
       "  </tbody>\n",
       "</table>\n",
       "</div>"
      ],
      "text/plain": [
       "          Expected Rating\n",
       "Comedy           3.474339\n",
       "Drama            3.830191\n",
       "Action           3.666765\n",
       "Thriller         3.599922\n",
       "Sci-Fi           3.379801"
      ]
     },
     "execution_count": 95,
     "metadata": {},
     "output_type": "execute_result"
    }
   ],
   "source": [
    "TE_female"
   ]
  },
  {
   "cell_type": "code",
   "execution_count": null,
   "metadata": {
    "id": "eP386jqUTTUU"
   },
   "outputs": [],
   "source": []
  },
  {
   "cell_type": "code",
   "execution_count": 96,
   "metadata": {
    "executionInfo": {
     "elapsed": 310,
     "status": "ok",
     "timestamp": 1676664467325,
     "user": {
      "displayName": "Yang Xu",
      "userId": "12270366590264264299"
     },
     "user_tz": 300
    },
    "id": "xNU7ibG4_UNF"
   },
   "outputs": [],
   "source": [
    "# calculate the expected reward of Comedy for female\n",
    "TE_male=result_CEL_nonlinear.iloc[np.where(result_CEL_nonlinear['gender']==1)[0],6:11]/(41*(2**4))\n",
    "TE_male=pd.DataFrame(TE_male.sum(axis=0))\n",
    "TE_male.columns =['Expected Rating']"
   ]
  },
  {
   "cell_type": "code",
   "execution_count": 97,
   "metadata": {
    "colab": {
     "base_uri": "https://localhost:8080/",
     "height": 206
    },
    "executionInfo": {
     "elapsed": 316,
     "status": "ok",
     "timestamp": 1676664470347,
     "user": {
      "displayName": "Yang Xu",
      "userId": "12270366590264264299"
     },
     "user_tz": 300
    },
    "id": "4YBh4ljh_UNG",
    "outputId": "f54358c5-fe05-44fc-8693-f6a33ccf204e"
   },
   "outputs": [
    {
     "data": {
      "text/html": [
       "<div>\n",
       "<style scoped>\n",
       "    .dataframe tbody tr th:only-of-type {\n",
       "        vertical-align: middle;\n",
       "    }\n",
       "\n",
       "    .dataframe tbody tr th {\n",
       "        vertical-align: top;\n",
       "    }\n",
       "\n",
       "    .dataframe thead th {\n",
       "        text-align: right;\n",
       "    }\n",
       "</style>\n",
       "<table border=\"1\" class=\"dataframe\">\n",
       "  <thead>\n",
       "    <tr style=\"text-align: right;\">\n",
       "      <th></th>\n",
       "      <th>Expected Rating</th>\n",
       "    </tr>\n",
       "  </thead>\n",
       "  <tbody>\n",
       "    <tr>\n",
       "      <th>Comedy</th>\n",
       "      <td>3.337232</td>\n",
       "    </tr>\n",
       "    <tr>\n",
       "      <th>Drama</th>\n",
       "      <td>3.707185</td>\n",
       "    </tr>\n",
       "    <tr>\n",
       "      <th>Action</th>\n",
       "      <td>3.387759</td>\n",
       "    </tr>\n",
       "    <tr>\n",
       "      <th>Thriller</th>\n",
       "      <td>3.441026</td>\n",
       "    </tr>\n",
       "    <tr>\n",
       "      <th>Sci-Fi</th>\n",
       "      <td>3.325087</td>\n",
       "    </tr>\n",
       "  </tbody>\n",
       "</table>\n",
       "</div>"
      ],
      "text/plain": [
       "          Expected Rating\n",
       "Comedy           3.337232\n",
       "Drama            3.707185\n",
       "Action           3.387759\n",
       "Thriller         3.441026\n",
       "Sci-Fi           3.325087"
      ]
     },
     "execution_count": 97,
     "metadata": {},
     "output_type": "execute_result"
    }
   ],
   "source": [
    "TE_male"
   ]
  },
  {
   "cell_type": "code",
   "execution_count": null,
   "metadata": {
    "id": "-OwDCcYP_XiE"
   },
   "outputs": [],
   "source": []
  },
  {
   "cell_type": "markdown",
   "metadata": {
    "id": "S6_rREHz_i8r"
   },
   "source": [
    "### linear model fitting"
   ]
  },
  {
   "cell_type": "code",
   "execution_count": 308,
   "metadata": {
    "executionInfo": {
     "elapsed": 301,
     "status": "ok",
     "timestamp": 1676664659108,
     "user": {
      "displayName": "Yang Xu",
      "userId": "12270366590264264299"
     },
     "user_tz": 300
    },
    "id": "RTBk0DSMADT0"
   },
   "outputs": [],
   "source": [
    "\n",
    "models_CEL_linear = {}\n",
    " \n",
    "# initialize the models we'll fit in Causal Effect Learning\n",
    "for i in movie_generes:\n",
    "    models_CEL_linear[i] = None   \n",
    "\n"
   ]
  },
  {
   "cell_type": "code",
   "execution_count": 309,
   "metadata": {
    "executionInfo": {
     "elapsed": 3,
     "status": "ok",
     "timestamp": 1676664660555,
     "user": {
      "displayName": "Yang Xu",
      "userId": "12270366590264264299"
     },
     "user_tz": 300
    },
    "id": "5VAlbZ_P_nSJ"
   },
   "outputs": [],
   "source": [
    "from sklearn.linear_model import LinearRegression\n",
    "for movie_genere in movie_generes: \n",
    "    models_CEL_linear[movie_genere] = LinearRegression()\n",
    "    models_CEL_linear[movie_genere].fit(data_CEL_all.iloc[np.where(data_CEL_all[movie_genere]==1)[0],userinfo_index],data_CEL_all.iloc[np.where(data_CEL_all[movie_genere]==1)[0],2] )\n"
   ]
  },
  {
   "cell_type": "code",
   "execution_count": 310,
   "metadata": {
    "colab": {
     "base_uri": "https://localhost:8080/"
    },
    "executionInfo": {
     "elapsed": 392,
     "status": "ok",
     "timestamp": 1676664667487,
     "user": {
      "displayName": "Yang Xu",
      "userId": "12270366590264264299"
     },
     "user_tz": 300
    },
    "id": "etk5uOW1_nSK",
    "outputId": "a52b506c-e386-4f75-917b-945bf1dc5b43"
   },
   "outputs": [
    {
     "data": {
      "text/plain": [
       "array([3.243 , 3.243 , 3.243 , ..., 3.4266, 3.4266, 3.4266])"
      ]
     },
     "execution_count": 310,
     "metadata": {},
     "output_type": "execute_result"
    }
   ],
   "source": [
    "models_CEL_linear['Comedy'].predict(data_CEL_all.iloc[np.where(data_CEL_all['Comedy']==1)[0],userinfo_index])"
   ]
  },
  {
   "cell_type": "code",
   "execution_count": 313,
   "metadata": {
    "colab": {
     "base_uri": "https://localhost:8080/"
    },
    "executionInfo": {
     "elapsed": 400,
     "status": "ok",
     "timestamp": 1676664692219,
     "user": {
      "displayName": "Yang Xu",
      "userId": "12270366590264264299"
     },
     "user_tz": 300
    },
    "id": "Ny60jTRW_nSN",
    "outputId": "91334c5e-44c1-4b0d-fc98-b466fe0f9264"
   },
   "outputs": [
    {
     "name": "stdout",
     "output_type": "stream",
     "text": [
      "[16 17 18 19 20 21 22 23 24 25 26 27 28 29 30 31 32 33 34 35 36 37 38 39\n",
      " 40 41 42 43 44 45 46 47 48 49 50 51 52 53 54 55 56]\n"
     ]
    }
   ],
   "source": [
    "# record thev estimated expected reward for each movie genere, under each possible combination of state variable\n",
    "age_range = np.linspace(min(data_CEL_all['age']),max(data_CEL_all['age']),int(max(data_CEL_all['age'])-min(data_CEL_all['age'])+1)).astype(int)\n",
    "print(age_range)"
   ]
  },
  {
   "cell_type": "code",
   "execution_count": 314,
   "metadata": {
    "executionInfo": {
     "elapsed": 300,
     "status": "ok",
     "timestamp": 1676664695417,
     "user": {
      "displayName": "Yang Xu",
      "userId": "12270366590264264299"
     },
     "user_tz": 300
    },
    "id": "gvpnxYTE_nSN"
   },
   "outputs": [],
   "source": [
    "import itertools\n",
    "\n",
    "gender = np.array([0,1])\n",
    "occupation_college = np.array([0,1])\n",
    "occupation_executive = np.array([0,1])\n",
    "occupation_other  = np.array([0,1])\n",
    "occupation_technician = np.array([0,1])\n",
    "\n",
    "# result contains all possible combinations.\n",
    "combinations = pd.DataFrame(itertools.product(age_range,gender,occupation_college,\n",
    "                                              occupation_executive,occupation_other,occupation_technician))"
   ]
  },
  {
   "cell_type": "code",
   "execution_count": 315,
   "metadata": {
    "colab": {
     "base_uri": "https://localhost:8080/",
     "height": 424
    },
    "executionInfo": {
     "elapsed": 360,
     "status": "ok",
     "timestamp": 1676664699538,
     "user": {
      "displayName": "Yang Xu",
      "userId": "12270366590264264299"
     },
     "user_tz": 300
    },
    "id": "k7uSL-Ra_nSO",
    "outputId": "25ed2a1d-1180-401e-e569-8fdce0e3ff9c"
   },
   "outputs": [
    {
     "data": {
      "text/html": [
       "\n",
       "  <div id=\"df-b03671c7-bf53-4fc1-af42-bd0ea4d08062\">\n",
       "    <div class=\"colab-df-container\">\n",
       "      <div>\n",
       "<style scoped>\n",
       "    .dataframe tbody tr th:only-of-type {\n",
       "        vertical-align: middle;\n",
       "    }\n",
       "\n",
       "    .dataframe tbody tr th {\n",
       "        vertical-align: top;\n",
       "    }\n",
       "\n",
       "    .dataframe thead th {\n",
       "        text-align: right;\n",
       "    }\n",
       "</style>\n",
       "<table border=\"1\" class=\"dataframe\">\n",
       "  <thead>\n",
       "    <tr style=\"text-align: right;\">\n",
       "      <th></th>\n",
       "      <th>age</th>\n",
       "      <th>gender</th>\n",
       "      <th>occupation_college</th>\n",
       "      <th>occupation_executive</th>\n",
       "      <th>occupation_other</th>\n",
       "      <th>occupation_technician</th>\n",
       "    </tr>\n",
       "  </thead>\n",
       "  <tbody>\n",
       "    <tr>\n",
       "      <th>0</th>\n",
       "      <td>16</td>\n",
       "      <td>0</td>\n",
       "      <td>0</td>\n",
       "      <td>0</td>\n",
       "      <td>0</td>\n",
       "      <td>0</td>\n",
       "    </tr>\n",
       "    <tr>\n",
       "      <th>1</th>\n",
       "      <td>16</td>\n",
       "      <td>0</td>\n",
       "      <td>0</td>\n",
       "      <td>0</td>\n",
       "      <td>0</td>\n",
       "      <td>1</td>\n",
       "    </tr>\n",
       "    <tr>\n",
       "      <th>2</th>\n",
       "      <td>16</td>\n",
       "      <td>0</td>\n",
       "      <td>0</td>\n",
       "      <td>0</td>\n",
       "      <td>1</td>\n",
       "      <td>0</td>\n",
       "    </tr>\n",
       "    <tr>\n",
       "      <th>3</th>\n",
       "      <td>16</td>\n",
       "      <td>0</td>\n",
       "      <td>0</td>\n",
       "      <td>0</td>\n",
       "      <td>1</td>\n",
       "      <td>1</td>\n",
       "    </tr>\n",
       "    <tr>\n",
       "      <th>4</th>\n",
       "      <td>16</td>\n",
       "      <td>0</td>\n",
       "      <td>0</td>\n",
       "      <td>1</td>\n",
       "      <td>0</td>\n",
       "      <td>0</td>\n",
       "    </tr>\n",
       "    <tr>\n",
       "      <th>...</th>\n",
       "      <td>...</td>\n",
       "      <td>...</td>\n",
       "      <td>...</td>\n",
       "      <td>...</td>\n",
       "      <td>...</td>\n",
       "      <td>...</td>\n",
       "    </tr>\n",
       "    <tr>\n",
       "      <th>1307</th>\n",
       "      <td>56</td>\n",
       "      <td>1</td>\n",
       "      <td>1</td>\n",
       "      <td>0</td>\n",
       "      <td>1</td>\n",
       "      <td>1</td>\n",
       "    </tr>\n",
       "    <tr>\n",
       "      <th>1308</th>\n",
       "      <td>56</td>\n",
       "      <td>1</td>\n",
       "      <td>1</td>\n",
       "      <td>1</td>\n",
       "      <td>0</td>\n",
       "      <td>0</td>\n",
       "    </tr>\n",
       "    <tr>\n",
       "      <th>1309</th>\n",
       "      <td>56</td>\n",
       "      <td>1</td>\n",
       "      <td>1</td>\n",
       "      <td>1</td>\n",
       "      <td>0</td>\n",
       "      <td>1</td>\n",
       "    </tr>\n",
       "    <tr>\n",
       "      <th>1310</th>\n",
       "      <td>56</td>\n",
       "      <td>1</td>\n",
       "      <td>1</td>\n",
       "      <td>1</td>\n",
       "      <td>1</td>\n",
       "      <td>0</td>\n",
       "    </tr>\n",
       "    <tr>\n",
       "      <th>1311</th>\n",
       "      <td>56</td>\n",
       "      <td>1</td>\n",
       "      <td>1</td>\n",
       "      <td>1</td>\n",
       "      <td>1</td>\n",
       "      <td>1</td>\n",
       "    </tr>\n",
       "  </tbody>\n",
       "</table>\n",
       "<p>1312 rows × 6 columns</p>\n",
       "</div>\n",
       "      <button class=\"colab-df-convert\" onclick=\"convertToInteractive('df-b03671c7-bf53-4fc1-af42-bd0ea4d08062')\"\n",
       "              title=\"Convert this dataframe to an interactive table.\"\n",
       "              style=\"display:none;\">\n",
       "        \n",
       "  <svg xmlns=\"http://www.w3.org/2000/svg\" height=\"24px\"viewBox=\"0 0 24 24\"\n",
       "       width=\"24px\">\n",
       "    <path d=\"M0 0h24v24H0V0z\" fill=\"none\"/>\n",
       "    <path d=\"M18.56 5.44l.94 2.06.94-2.06 2.06-.94-2.06-.94-.94-2.06-.94 2.06-2.06.94zm-11 1L8.5 8.5l.94-2.06 2.06-.94-2.06-.94L8.5 2.5l-.94 2.06-2.06.94zm10 10l.94 2.06.94-2.06 2.06-.94-2.06-.94-.94-2.06-.94 2.06-2.06.94z\"/><path d=\"M17.41 7.96l-1.37-1.37c-.4-.4-.92-.59-1.43-.59-.52 0-1.04.2-1.43.59L10.3 9.45l-7.72 7.72c-.78.78-.78 2.05 0 2.83L4 21.41c.39.39.9.59 1.41.59.51 0 1.02-.2 1.41-.59l7.78-7.78 2.81-2.81c.8-.78.8-2.07 0-2.86zM5.41 20L4 18.59l7.72-7.72 1.47 1.35L5.41 20z\"/>\n",
       "  </svg>\n",
       "      </button>\n",
       "      \n",
       "  <style>\n",
       "    .colab-df-container {\n",
       "      display:flex;\n",
       "      flex-wrap:wrap;\n",
       "      gap: 12px;\n",
       "    }\n",
       "\n",
       "    .colab-df-convert {\n",
       "      background-color: #E8F0FE;\n",
       "      border: none;\n",
       "      border-radius: 50%;\n",
       "      cursor: pointer;\n",
       "      display: none;\n",
       "      fill: #1967D2;\n",
       "      height: 32px;\n",
       "      padding: 0 0 0 0;\n",
       "      width: 32px;\n",
       "    }\n",
       "\n",
       "    .colab-df-convert:hover {\n",
       "      background-color: #E2EBFA;\n",
       "      box-shadow: 0px 1px 2px rgba(60, 64, 67, 0.3), 0px 1px 3px 1px rgba(60, 64, 67, 0.15);\n",
       "      fill: #174EA6;\n",
       "    }\n",
       "\n",
       "    [theme=dark] .colab-df-convert {\n",
       "      background-color: #3B4455;\n",
       "      fill: #D2E3FC;\n",
       "    }\n",
       "\n",
       "    [theme=dark] .colab-df-convert:hover {\n",
       "      background-color: #434B5C;\n",
       "      box-shadow: 0px 1px 3px 1px rgba(0, 0, 0, 0.15);\n",
       "      filter: drop-shadow(0px 1px 2px rgba(0, 0, 0, 0.3));\n",
       "      fill: #FFFFFF;\n",
       "    }\n",
       "  </style>\n",
       "\n",
       "      <script>\n",
       "        const buttonEl =\n",
       "          document.querySelector('#df-b03671c7-bf53-4fc1-af42-bd0ea4d08062 button.colab-df-convert');\n",
       "        buttonEl.style.display =\n",
       "          google.colab.kernel.accessAllowed ? 'block' : 'none';\n",
       "\n",
       "        async function convertToInteractive(key) {\n",
       "          const element = document.querySelector('#df-b03671c7-bf53-4fc1-af42-bd0ea4d08062');\n",
       "          const dataTable =\n",
       "            await google.colab.kernel.invokeFunction('convertToInteractive',\n",
       "                                                     [key], {});\n",
       "          if (!dataTable) return;\n",
       "\n",
       "          const docLinkHtml = 'Like what you see? Visit the ' +\n",
       "            '<a target=\"_blank\" href=https://colab.research.google.com/notebooks/data_table.ipynb>data table notebook</a>'\n",
       "            + ' to learn more about interactive tables.';\n",
       "          element.innerHTML = '';\n",
       "          dataTable['output_type'] = 'display_data';\n",
       "          await google.colab.output.renderOutput(dataTable, element);\n",
       "          const docLink = document.createElement('div');\n",
       "          docLink.innerHTML = docLinkHtml;\n",
       "          element.appendChild(docLink);\n",
       "        }\n",
       "      </script>\n",
       "    </div>\n",
       "  </div>\n",
       "  "
      ],
      "text/plain": [
       "      age  gender  occupation_college  occupation_executive  occupation_other  \\\n",
       "0      16       0                   0                     0                 0   \n",
       "1      16       0                   0                     0                 0   \n",
       "2      16       0                   0                     0                 1   \n",
       "3      16       0                   0                     0                 1   \n",
       "4      16       0                   0                     1                 0   \n",
       "...   ...     ...                 ...                   ...               ...   \n",
       "1307   56       1                   1                     0                 1   \n",
       "1308   56       1                   1                     1                 0   \n",
       "1309   56       1                   1                     1                 0   \n",
       "1310   56       1                   1                     1                 1   \n",
       "1311   56       1                   1                     1                 1   \n",
       "\n",
       "      occupation_technician  \n",
       "0                         0  \n",
       "1                         1  \n",
       "2                         0  \n",
       "3                         1  \n",
       "4                         0  \n",
       "...                     ...  \n",
       "1307                      1  \n",
       "1308                      0  \n",
       "1309                      1  \n",
       "1310                      0  \n",
       "1311                      1  \n",
       "\n",
       "[1312 rows x 6 columns]"
      ]
     },
     "execution_count": 315,
     "metadata": {},
     "output_type": "execute_result"
    }
   ],
   "source": [
    "combinations.columns =['age','gender','occupation_college', 'occupation_executive','occupation_other','occupation_technician']\n",
    "combinations"
   ]
  },
  {
   "cell_type": "code",
   "execution_count": 316,
   "metadata": {
    "colab": {
     "base_uri": "https://localhost:8080/"
    },
    "executionInfo": {
     "elapsed": 428,
     "status": "ok",
     "timestamp": 1676664715886,
     "user": {
      "displayName": "Yang Xu",
      "userId": "12270366590264264299"
     },
     "user_tz": 300
    },
    "id": "ZY9IE6Wt_nSR",
    "outputId": "b5d43244-a65c-4e69-8369-c91a26f42e7f"
   },
   "outputs": [
    {
     "name": "stdout",
     "output_type": "stream",
     "text": [
      "[[3.4122 3.2197 3.4156 ... 3.0353 3.2311 3.0386]\n",
      " [0.     0.     0.     ... 0.     0.     0.    ]\n",
      " [0.     0.     0.     ... 0.     0.     0.    ]\n",
      " [0.     0.     0.     ... 0.     0.     0.    ]\n",
      " [0.     0.     0.     ... 0.     0.     0.    ]]\n",
      "[[3.4122 3.2197 3.4156 ... 3.0353 3.2311 3.0386]\n",
      " [3.6734 3.5095 3.703  ... 3.2655 3.459  3.2951]\n",
      " [0.     0.     0.     ... 0.     0.     0.    ]\n",
      " [0.     0.     0.     ... 0.     0.     0.    ]\n",
      " [0.     0.     0.     ... 0.     0.     0.    ]]\n",
      "[[3.4122 3.2197 3.4156 ... 3.0353 3.2311 3.0386]\n",
      " [3.6734 3.5095 3.703  ... 3.2655 3.459  3.2951]\n",
      " [3.2971 3.2555 3.3067 ... 3.1897 3.2409 3.1992]\n",
      " [0.     0.     0.     ... 0.     0.     0.    ]\n",
      " [0.     0.     0.     ... 0.     0.     0.    ]]\n",
      "[[3.4122 3.2197 3.4156 ... 3.0353 3.2311 3.0386]\n",
      " [3.6734 3.5095 3.703  ... 3.2655 3.459  3.2951]\n",
      " [3.2971 3.2555 3.3067 ... 3.1897 3.2409 3.1992]\n",
      " [3.4948 3.4161 3.4481 ... 3.155  3.187  3.1083]\n",
      " [0.     0.     0.     ... 0.     0.     0.    ]]\n",
      "[[3.4122 3.2197 3.4156 ... 3.0353 3.2311 3.0386]\n",
      " [3.6734 3.5095 3.703  ... 3.2655 3.459  3.2951]\n",
      " [3.2971 3.2555 3.3067 ... 3.1897 3.2409 3.1992]\n",
      " [3.4948 3.4161 3.4481 ... 3.155  3.187  3.1083]\n",
      " [3.2862 3.1283 3.2593 ... 2.9672 3.0982 2.9404]]\n"
     ]
    }
   ],
   "source": [
    "values = np.zeros((5,1312))\n",
    "i=0\n",
    "for movie_genere in movie_generes:\n",
    "  values[i,:] = models_CEL_linear[movie_genere].predict(combinations)\n",
    "  i=i+1\n",
    "  print(values)"
   ]
  },
  {
   "cell_type": "code",
   "execution_count": 317,
   "metadata": {
    "executionInfo": {
     "elapsed": 463,
     "status": "ok",
     "timestamp": 1676664728008,
     "user": {
      "displayName": "Yang Xu",
      "userId": "12270366590264264299"
     },
     "user_tz": 300
    },
    "id": "PS7DNCGp_nSR"
   },
   "outputs": [],
   "source": [
    "result_CEL_linear = combinations\n",
    "i=0\n",
    "for movie_genere in movie_generes:\n",
    "  #values = models_CEL[movie_genere].predict(combinations)\n",
    "  result_CEL_linear.insert(len(result_CEL_linear.columns), movie_genere, values[i,:])\n",
    "  i=i+1"
   ]
  },
  {
   "cell_type": "code",
   "execution_count": 318,
   "metadata": {
    "colab": {
     "base_uri": "https://localhost:8080/",
     "height": 488
    },
    "executionInfo": {
     "elapsed": 334,
     "status": "ok",
     "timestamp": 1676664736035,
     "user": {
      "displayName": "Yang Xu",
      "userId": "12270366590264264299"
     },
     "user_tz": 300
    },
    "id": "4Fw5vhq6_nSS",
    "outputId": "2b3af613-8038-4ed0-fb58-14ae632b5728"
   },
   "outputs": [
    {
     "data": {
      "text/html": [
       "\n",
       "  <div id=\"df-579dea81-1561-4edf-854f-7e50707d4484\">\n",
       "    <div class=\"colab-df-container\">\n",
       "      <div>\n",
       "<style scoped>\n",
       "    .dataframe tbody tr th:only-of-type {\n",
       "        vertical-align: middle;\n",
       "    }\n",
       "\n",
       "    .dataframe tbody tr th {\n",
       "        vertical-align: top;\n",
       "    }\n",
       "\n",
       "    .dataframe thead th {\n",
       "        text-align: right;\n",
       "    }\n",
       "</style>\n",
       "<table border=\"1\" class=\"dataframe\">\n",
       "  <thead>\n",
       "    <tr style=\"text-align: right;\">\n",
       "      <th></th>\n",
       "      <th>age</th>\n",
       "      <th>gender</th>\n",
       "      <th>occupation_college</th>\n",
       "      <th>occupation_executive</th>\n",
       "      <th>occupation_other</th>\n",
       "      <th>occupation_technician</th>\n",
       "      <th>Comedy</th>\n",
       "      <th>Drama</th>\n",
       "      <th>Action</th>\n",
       "      <th>Thriller</th>\n",
       "      <th>Sci-Fi</th>\n",
       "    </tr>\n",
       "  </thead>\n",
       "  <tbody>\n",
       "    <tr>\n",
       "      <th>0</th>\n",
       "      <td>16</td>\n",
       "      <td>0</td>\n",
       "      <td>0</td>\n",
       "      <td>0</td>\n",
       "      <td>0</td>\n",
       "      <td>0</td>\n",
       "      <td>3.412203</td>\n",
       "      <td>3.673359</td>\n",
       "      <td>3.297117</td>\n",
       "      <td>3.494783</td>\n",
       "      <td>3.286167</td>\n",
       "    </tr>\n",
       "    <tr>\n",
       "      <th>1</th>\n",
       "      <td>16</td>\n",
       "      <td>0</td>\n",
       "      <td>0</td>\n",
       "      <td>0</td>\n",
       "      <td>0</td>\n",
       "      <td>1</td>\n",
       "      <td>3.219698</td>\n",
       "      <td>3.509493</td>\n",
       "      <td>3.255487</td>\n",
       "      <td>3.416131</td>\n",
       "      <td>3.128323</td>\n",
       "    </tr>\n",
       "    <tr>\n",
       "      <th>2</th>\n",
       "      <td>16</td>\n",
       "      <td>0</td>\n",
       "      <td>0</td>\n",
       "      <td>0</td>\n",
       "      <td>1</td>\n",
       "      <td>0</td>\n",
       "      <td>3.415576</td>\n",
       "      <td>3.703012</td>\n",
       "      <td>3.306670</td>\n",
       "      <td>3.448094</td>\n",
       "      <td>3.259327</td>\n",
       "    </tr>\n",
       "    <tr>\n",
       "      <th>3</th>\n",
       "      <td>16</td>\n",
       "      <td>0</td>\n",
       "      <td>0</td>\n",
       "      <td>0</td>\n",
       "      <td>1</td>\n",
       "      <td>1</td>\n",
       "      <td>3.223072</td>\n",
       "      <td>3.539146</td>\n",
       "      <td>3.265040</td>\n",
       "      <td>3.369442</td>\n",
       "      <td>3.101483</td>\n",
       "    </tr>\n",
       "    <tr>\n",
       "      <th>4</th>\n",
       "      <td>16</td>\n",
       "      <td>0</td>\n",
       "      <td>0</td>\n",
       "      <td>1</td>\n",
       "      <td>0</td>\n",
       "      <td>0</td>\n",
       "      <td>3.359126</td>\n",
       "      <td>3.665731</td>\n",
       "      <td>3.404304</td>\n",
       "      <td>3.538511</td>\n",
       "      <td>3.253674</td>\n",
       "    </tr>\n",
       "    <tr>\n",
       "      <th>...</th>\n",
       "      <td>...</td>\n",
       "      <td>...</td>\n",
       "      <td>...</td>\n",
       "      <td>...</td>\n",
       "      <td>...</td>\n",
       "      <td>...</td>\n",
       "      <td>...</td>\n",
       "      <td>...</td>\n",
       "      <td>...</td>\n",
       "      <td>...</td>\n",
       "      <td>...</td>\n",
       "    </tr>\n",
       "    <tr>\n",
       "      <th>1307</th>\n",
       "      <td>56</td>\n",
       "      <td>1</td>\n",
       "      <td>1</td>\n",
       "      <td>0</td>\n",
       "      <td>1</td>\n",
       "      <td>1</td>\n",
       "      <td>3.091722</td>\n",
       "      <td>3.302749</td>\n",
       "      <td>3.092034</td>\n",
       "      <td>3.064599</td>\n",
       "      <td>2.972893</td>\n",
       "    </tr>\n",
       "    <tr>\n",
       "      <th>1308</th>\n",
       "      <td>56</td>\n",
       "      <td>1</td>\n",
       "      <td>1</td>\n",
       "      <td>1</td>\n",
       "      <td>0</td>\n",
       "      <td>0</td>\n",
       "      <td>3.227776</td>\n",
       "      <td>3.429334</td>\n",
       "      <td>3.231298</td>\n",
       "      <td>3.233668</td>\n",
       "      <td>3.125085</td>\n",
       "    </tr>\n",
       "    <tr>\n",
       "      <th>1309</th>\n",
       "      <td>56</td>\n",
       "      <td>1</td>\n",
       "      <td>1</td>\n",
       "      <td>1</td>\n",
       "      <td>0</td>\n",
       "      <td>1</td>\n",
       "      <td>3.035271</td>\n",
       "      <td>3.265468</td>\n",
       "      <td>3.189667</td>\n",
       "      <td>3.155016</td>\n",
       "      <td>2.967241</td>\n",
       "    </tr>\n",
       "    <tr>\n",
       "      <th>1310</th>\n",
       "      <td>56</td>\n",
       "      <td>1</td>\n",
       "      <td>1</td>\n",
       "      <td>1</td>\n",
       "      <td>1</td>\n",
       "      <td>0</td>\n",
       "      <td>3.231149</td>\n",
       "      <td>3.458987</td>\n",
       "      <td>3.240851</td>\n",
       "      <td>3.186979</td>\n",
       "      <td>3.098245</td>\n",
       "    </tr>\n",
       "    <tr>\n",
       "      <th>1311</th>\n",
       "      <td>56</td>\n",
       "      <td>1</td>\n",
       "      <td>1</td>\n",
       "      <td>1</td>\n",
       "      <td>1</td>\n",
       "      <td>1</td>\n",
       "      <td>3.038645</td>\n",
       "      <td>3.295121</td>\n",
       "      <td>3.199220</td>\n",
       "      <td>3.108327</td>\n",
       "      <td>2.940401</td>\n",
       "    </tr>\n",
       "  </tbody>\n",
       "</table>\n",
       "<p>1312 rows × 11 columns</p>\n",
       "</div>\n",
       "      <button class=\"colab-df-convert\" onclick=\"convertToInteractive('df-579dea81-1561-4edf-854f-7e50707d4484')\"\n",
       "              title=\"Convert this dataframe to an interactive table.\"\n",
       "              style=\"display:none;\">\n",
       "        \n",
       "  <svg xmlns=\"http://www.w3.org/2000/svg\" height=\"24px\"viewBox=\"0 0 24 24\"\n",
       "       width=\"24px\">\n",
       "    <path d=\"M0 0h24v24H0V0z\" fill=\"none\"/>\n",
       "    <path d=\"M18.56 5.44l.94 2.06.94-2.06 2.06-.94-2.06-.94-.94-2.06-.94 2.06-2.06.94zm-11 1L8.5 8.5l.94-2.06 2.06-.94-2.06-.94L8.5 2.5l-.94 2.06-2.06.94zm10 10l.94 2.06.94-2.06 2.06-.94-2.06-.94-.94-2.06-.94 2.06-2.06.94z\"/><path d=\"M17.41 7.96l-1.37-1.37c-.4-.4-.92-.59-1.43-.59-.52 0-1.04.2-1.43.59L10.3 9.45l-7.72 7.72c-.78.78-.78 2.05 0 2.83L4 21.41c.39.39.9.59 1.41.59.51 0 1.02-.2 1.41-.59l7.78-7.78 2.81-2.81c.8-.78.8-2.07 0-2.86zM5.41 20L4 18.59l7.72-7.72 1.47 1.35L5.41 20z\"/>\n",
       "  </svg>\n",
       "      </button>\n",
       "      \n",
       "  <style>\n",
       "    .colab-df-container {\n",
       "      display:flex;\n",
       "      flex-wrap:wrap;\n",
       "      gap: 12px;\n",
       "    }\n",
       "\n",
       "    .colab-df-convert {\n",
       "      background-color: #E8F0FE;\n",
       "      border: none;\n",
       "      border-radius: 50%;\n",
       "      cursor: pointer;\n",
       "      display: none;\n",
       "      fill: #1967D2;\n",
       "      height: 32px;\n",
       "      padding: 0 0 0 0;\n",
       "      width: 32px;\n",
       "    }\n",
       "\n",
       "    .colab-df-convert:hover {\n",
       "      background-color: #E2EBFA;\n",
       "      box-shadow: 0px 1px 2px rgba(60, 64, 67, 0.3), 0px 1px 3px 1px rgba(60, 64, 67, 0.15);\n",
       "      fill: #174EA6;\n",
       "    }\n",
       "\n",
       "    [theme=dark] .colab-df-convert {\n",
       "      background-color: #3B4455;\n",
       "      fill: #D2E3FC;\n",
       "    }\n",
       "\n",
       "    [theme=dark] .colab-df-convert:hover {\n",
       "      background-color: #434B5C;\n",
       "      box-shadow: 0px 1px 3px 1px rgba(0, 0, 0, 0.15);\n",
       "      filter: drop-shadow(0px 1px 2px rgba(0, 0, 0, 0.3));\n",
       "      fill: #FFFFFF;\n",
       "    }\n",
       "  </style>\n",
       "\n",
       "      <script>\n",
       "        const buttonEl =\n",
       "          document.querySelector('#df-579dea81-1561-4edf-854f-7e50707d4484 button.colab-df-convert');\n",
       "        buttonEl.style.display =\n",
       "          google.colab.kernel.accessAllowed ? 'block' : 'none';\n",
       "\n",
       "        async function convertToInteractive(key) {\n",
       "          const element = document.querySelector('#df-579dea81-1561-4edf-854f-7e50707d4484');\n",
       "          const dataTable =\n",
       "            await google.colab.kernel.invokeFunction('convertToInteractive',\n",
       "                                                     [key], {});\n",
       "          if (!dataTable) return;\n",
       "\n",
       "          const docLinkHtml = 'Like what you see? Visit the ' +\n",
       "            '<a target=\"_blank\" href=https://colab.research.google.com/notebooks/data_table.ipynb>data table notebook</a>'\n",
       "            + ' to learn more about interactive tables.';\n",
       "          element.innerHTML = '';\n",
       "          dataTable['output_type'] = 'display_data';\n",
       "          await google.colab.output.renderOutput(dataTable, element);\n",
       "          const docLink = document.createElement('div');\n",
       "          docLink.innerHTML = docLinkHtml;\n",
       "          element.appendChild(docLink);\n",
       "        }\n",
       "      </script>\n",
       "    </div>\n",
       "  </div>\n",
       "  "
      ],
      "text/plain": [
       "      age  gender  occupation_college  occupation_executive  occupation_other  \\\n",
       "0      16       0                   0                     0                 0   \n",
       "1      16       0                   0                     0                 0   \n",
       "2      16       0                   0                     0                 1   \n",
       "3      16       0                   0                     0                 1   \n",
       "4      16       0                   0                     1                 0   \n",
       "...   ...     ...                 ...                   ...               ...   \n",
       "1307   56       1                   1                     0                 1   \n",
       "1308   56       1                   1                     1                 0   \n",
       "1309   56       1                   1                     1                 0   \n",
       "1310   56       1                   1                     1                 1   \n",
       "1311   56       1                   1                     1                 1   \n",
       "\n",
       "      occupation_technician    Comedy     Drama    Action  Thriller    Sci-Fi  \n",
       "0                         0  3.412203  3.673359  3.297117  3.494783  3.286167  \n",
       "1                         1  3.219698  3.509493  3.255487  3.416131  3.128323  \n",
       "2                         0  3.415576  3.703012  3.306670  3.448094  3.259327  \n",
       "3                         1  3.223072  3.539146  3.265040  3.369442  3.101483  \n",
       "4                         0  3.359126  3.665731  3.404304  3.538511  3.253674  \n",
       "...                     ...       ...       ...       ...       ...       ...  \n",
       "1307                      1  3.091722  3.302749  3.092034  3.064599  2.972893  \n",
       "1308                      0  3.227776  3.429334  3.231298  3.233668  3.125085  \n",
       "1309                      1  3.035271  3.265468  3.189667  3.155016  2.967241  \n",
       "1310                      0  3.231149  3.458987  3.240851  3.186979  3.098245  \n",
       "1311                      1  3.038645  3.295121  3.199220  3.108327  2.940401  \n",
       "\n",
       "[1312 rows x 11 columns]"
      ]
     },
     "execution_count": 318,
     "metadata": {},
     "output_type": "execute_result"
    }
   ],
   "source": [
    "result_CEL_linear"
   ]
  },
  {
   "cell_type": "code",
   "execution_count": null,
   "metadata": {
    "id": "Fn1OrpHG_nSS"
   },
   "outputs": [],
   "source": []
  },
  {
   "cell_type": "code",
   "execution_count": 319,
   "metadata": {
    "executionInfo": {
     "elapsed": 290,
     "status": "ok",
     "timestamp": 1676664747841,
     "user": {
      "displayName": "Yang Xu",
      "userId": "12270366590264264299"
     },
     "user_tz": 300
    },
    "id": "da-uqtdb_nSS"
   },
   "outputs": [],
   "source": [
    "result_CEL_linear.to_csv('drive/MyDrive/Causal-Decision-Making/Data-Demo/result_CEL_linear.csv')"
   ]
  },
  {
   "cell_type": "code",
   "execution_count": 320,
   "metadata": {
    "colab": {
     "base_uri": "https://localhost:8080/",
     "height": 488
    },
    "executionInfo": {
     "elapsed": 297,
     "status": "ok",
     "timestamp": 1676664757858,
     "user": {
      "displayName": "Yang Xu",
      "userId": "12270366590264264299"
     },
     "user_tz": 300
    },
    "id": "-geZLYVv_nSS",
    "outputId": "e17fd598-6f3e-451d-ab1d-f6a8fda18572"
   },
   "outputs": [
    {
     "data": {
      "text/html": [
       "\n",
       "  <div id=\"df-d73bf6e1-2b41-473a-b7e2-6aa1e110f17f\">\n",
       "    <div class=\"colab-df-container\">\n",
       "      <div>\n",
       "<style scoped>\n",
       "    .dataframe tbody tr th:only-of-type {\n",
       "        vertical-align: middle;\n",
       "    }\n",
       "\n",
       "    .dataframe tbody tr th {\n",
       "        vertical-align: top;\n",
       "    }\n",
       "\n",
       "    .dataframe thead th {\n",
       "        text-align: right;\n",
       "    }\n",
       "</style>\n",
       "<table border=\"1\" class=\"dataframe\">\n",
       "  <thead>\n",
       "    <tr style=\"text-align: right;\">\n",
       "      <th></th>\n",
       "      <th>age</th>\n",
       "      <th>gender</th>\n",
       "      <th>occupation_college</th>\n",
       "      <th>occupation_executive</th>\n",
       "      <th>occupation_other</th>\n",
       "      <th>occupation_technician</th>\n",
       "      <th>Comedy</th>\n",
       "      <th>Drama</th>\n",
       "      <th>Action</th>\n",
       "      <th>Thriller</th>\n",
       "      <th>Sci-Fi</th>\n",
       "    </tr>\n",
       "  </thead>\n",
       "  <tbody>\n",
       "    <tr>\n",
       "      <th>0</th>\n",
       "      <td>16</td>\n",
       "      <td>0</td>\n",
       "      <td>0</td>\n",
       "      <td>0</td>\n",
       "      <td>0</td>\n",
       "      <td>0</td>\n",
       "      <td>3.412203</td>\n",
       "      <td>3.673359</td>\n",
       "      <td>3.297117</td>\n",
       "      <td>3.494783</td>\n",
       "      <td>3.286167</td>\n",
       "    </tr>\n",
       "    <tr>\n",
       "      <th>1</th>\n",
       "      <td>16</td>\n",
       "      <td>0</td>\n",
       "      <td>0</td>\n",
       "      <td>0</td>\n",
       "      <td>0</td>\n",
       "      <td>1</td>\n",
       "      <td>3.219698</td>\n",
       "      <td>3.509493</td>\n",
       "      <td>3.255487</td>\n",
       "      <td>3.416131</td>\n",
       "      <td>3.128323</td>\n",
       "    </tr>\n",
       "    <tr>\n",
       "      <th>2</th>\n",
       "      <td>16</td>\n",
       "      <td>0</td>\n",
       "      <td>0</td>\n",
       "      <td>0</td>\n",
       "      <td>1</td>\n",
       "      <td>0</td>\n",
       "      <td>3.415576</td>\n",
       "      <td>3.703012</td>\n",
       "      <td>3.306670</td>\n",
       "      <td>3.448094</td>\n",
       "      <td>3.259327</td>\n",
       "    </tr>\n",
       "    <tr>\n",
       "      <th>3</th>\n",
       "      <td>16</td>\n",
       "      <td>0</td>\n",
       "      <td>0</td>\n",
       "      <td>0</td>\n",
       "      <td>1</td>\n",
       "      <td>1</td>\n",
       "      <td>3.223072</td>\n",
       "      <td>3.539146</td>\n",
       "      <td>3.265040</td>\n",
       "      <td>3.369442</td>\n",
       "      <td>3.101483</td>\n",
       "    </tr>\n",
       "    <tr>\n",
       "      <th>4</th>\n",
       "      <td>16</td>\n",
       "      <td>0</td>\n",
       "      <td>0</td>\n",
       "      <td>1</td>\n",
       "      <td>0</td>\n",
       "      <td>0</td>\n",
       "      <td>3.359126</td>\n",
       "      <td>3.665731</td>\n",
       "      <td>3.404304</td>\n",
       "      <td>3.538511</td>\n",
       "      <td>3.253674</td>\n",
       "    </tr>\n",
       "    <tr>\n",
       "      <th>...</th>\n",
       "      <td>...</td>\n",
       "      <td>...</td>\n",
       "      <td>...</td>\n",
       "      <td>...</td>\n",
       "      <td>...</td>\n",
       "      <td>...</td>\n",
       "      <td>...</td>\n",
       "      <td>...</td>\n",
       "      <td>...</td>\n",
       "      <td>...</td>\n",
       "      <td>...</td>\n",
       "    </tr>\n",
       "    <tr>\n",
       "      <th>1307</th>\n",
       "      <td>56</td>\n",
       "      <td>1</td>\n",
       "      <td>1</td>\n",
       "      <td>0</td>\n",
       "      <td>1</td>\n",
       "      <td>1</td>\n",
       "      <td>3.091722</td>\n",
       "      <td>3.302749</td>\n",
       "      <td>3.092034</td>\n",
       "      <td>3.064599</td>\n",
       "      <td>2.972893</td>\n",
       "    </tr>\n",
       "    <tr>\n",
       "      <th>1308</th>\n",
       "      <td>56</td>\n",
       "      <td>1</td>\n",
       "      <td>1</td>\n",
       "      <td>1</td>\n",
       "      <td>0</td>\n",
       "      <td>0</td>\n",
       "      <td>3.227776</td>\n",
       "      <td>3.429334</td>\n",
       "      <td>3.231298</td>\n",
       "      <td>3.233668</td>\n",
       "      <td>3.125085</td>\n",
       "    </tr>\n",
       "    <tr>\n",
       "      <th>1309</th>\n",
       "      <td>56</td>\n",
       "      <td>1</td>\n",
       "      <td>1</td>\n",
       "      <td>1</td>\n",
       "      <td>0</td>\n",
       "      <td>1</td>\n",
       "      <td>3.035271</td>\n",
       "      <td>3.265468</td>\n",
       "      <td>3.189667</td>\n",
       "      <td>3.155016</td>\n",
       "      <td>2.967241</td>\n",
       "    </tr>\n",
       "    <tr>\n",
       "      <th>1310</th>\n",
       "      <td>56</td>\n",
       "      <td>1</td>\n",
       "      <td>1</td>\n",
       "      <td>1</td>\n",
       "      <td>1</td>\n",
       "      <td>0</td>\n",
       "      <td>3.231149</td>\n",
       "      <td>3.458987</td>\n",
       "      <td>3.240851</td>\n",
       "      <td>3.186979</td>\n",
       "      <td>3.098245</td>\n",
       "    </tr>\n",
       "    <tr>\n",
       "      <th>1311</th>\n",
       "      <td>56</td>\n",
       "      <td>1</td>\n",
       "      <td>1</td>\n",
       "      <td>1</td>\n",
       "      <td>1</td>\n",
       "      <td>1</td>\n",
       "      <td>3.038645</td>\n",
       "      <td>3.295121</td>\n",
       "      <td>3.199220</td>\n",
       "      <td>3.108327</td>\n",
       "      <td>2.940401</td>\n",
       "    </tr>\n",
       "  </tbody>\n",
       "</table>\n",
       "<p>1312 rows × 11 columns</p>\n",
       "</div>\n",
       "      <button class=\"colab-df-convert\" onclick=\"convertToInteractive('df-d73bf6e1-2b41-473a-b7e2-6aa1e110f17f')\"\n",
       "              title=\"Convert this dataframe to an interactive table.\"\n",
       "              style=\"display:none;\">\n",
       "        \n",
       "  <svg xmlns=\"http://www.w3.org/2000/svg\" height=\"24px\"viewBox=\"0 0 24 24\"\n",
       "       width=\"24px\">\n",
       "    <path d=\"M0 0h24v24H0V0z\" fill=\"none\"/>\n",
       "    <path d=\"M18.56 5.44l.94 2.06.94-2.06 2.06-.94-2.06-.94-.94-2.06-.94 2.06-2.06.94zm-11 1L8.5 8.5l.94-2.06 2.06-.94-2.06-.94L8.5 2.5l-.94 2.06-2.06.94zm10 10l.94 2.06.94-2.06 2.06-.94-2.06-.94-.94-2.06-.94 2.06-2.06.94z\"/><path d=\"M17.41 7.96l-1.37-1.37c-.4-.4-.92-.59-1.43-.59-.52 0-1.04.2-1.43.59L10.3 9.45l-7.72 7.72c-.78.78-.78 2.05 0 2.83L4 21.41c.39.39.9.59 1.41.59.51 0 1.02-.2 1.41-.59l7.78-7.78 2.81-2.81c.8-.78.8-2.07 0-2.86zM5.41 20L4 18.59l7.72-7.72 1.47 1.35L5.41 20z\"/>\n",
       "  </svg>\n",
       "      </button>\n",
       "      \n",
       "  <style>\n",
       "    .colab-df-container {\n",
       "      display:flex;\n",
       "      flex-wrap:wrap;\n",
       "      gap: 12px;\n",
       "    }\n",
       "\n",
       "    .colab-df-convert {\n",
       "      background-color: #E8F0FE;\n",
       "      border: none;\n",
       "      border-radius: 50%;\n",
       "      cursor: pointer;\n",
       "      display: none;\n",
       "      fill: #1967D2;\n",
       "      height: 32px;\n",
       "      padding: 0 0 0 0;\n",
       "      width: 32px;\n",
       "    }\n",
       "\n",
       "    .colab-df-convert:hover {\n",
       "      background-color: #E2EBFA;\n",
       "      box-shadow: 0px 1px 2px rgba(60, 64, 67, 0.3), 0px 1px 3px 1px rgba(60, 64, 67, 0.15);\n",
       "      fill: #174EA6;\n",
       "    }\n",
       "\n",
       "    [theme=dark] .colab-df-convert {\n",
       "      background-color: #3B4455;\n",
       "      fill: #D2E3FC;\n",
       "    }\n",
       "\n",
       "    [theme=dark] .colab-df-convert:hover {\n",
       "      background-color: #434B5C;\n",
       "      box-shadow: 0px 1px 3px 1px rgba(0, 0, 0, 0.15);\n",
       "      filter: drop-shadow(0px 1px 2px rgba(0, 0, 0, 0.3));\n",
       "      fill: #FFFFFF;\n",
       "    }\n",
       "  </style>\n",
       "\n",
       "      <script>\n",
       "        const buttonEl =\n",
       "          document.querySelector('#df-d73bf6e1-2b41-473a-b7e2-6aa1e110f17f button.colab-df-convert');\n",
       "        buttonEl.style.display =\n",
       "          google.colab.kernel.accessAllowed ? 'block' : 'none';\n",
       "\n",
       "        async function convertToInteractive(key) {\n",
       "          const element = document.querySelector('#df-d73bf6e1-2b41-473a-b7e2-6aa1e110f17f');\n",
       "          const dataTable =\n",
       "            await google.colab.kernel.invokeFunction('convertToInteractive',\n",
       "                                                     [key], {});\n",
       "          if (!dataTable) return;\n",
       "\n",
       "          const docLinkHtml = 'Like what you see? Visit the ' +\n",
       "            '<a target=\"_blank\" href=https://colab.research.google.com/notebooks/data_table.ipynb>data table notebook</a>'\n",
       "            + ' to learn more about interactive tables.';\n",
       "          element.innerHTML = '';\n",
       "          dataTable['output_type'] = 'display_data';\n",
       "          await google.colab.output.renderOutput(dataTable, element);\n",
       "          const docLink = document.createElement('div');\n",
       "          docLink.innerHTML = docLinkHtml;\n",
       "          element.appendChild(docLink);\n",
       "        }\n",
       "      </script>\n",
       "    </div>\n",
       "  </div>\n",
       "  "
      ],
      "text/plain": [
       "      age  gender  occupation_college  occupation_executive  occupation_other  \\\n",
       "0      16       0                   0                     0                 0   \n",
       "1      16       0                   0                     0                 0   \n",
       "2      16       0                   0                     0                 1   \n",
       "3      16       0                   0                     0                 1   \n",
       "4      16       0                   0                     1                 0   \n",
       "...   ...     ...                 ...                   ...               ...   \n",
       "1307   56       1                   1                     0                 1   \n",
       "1308   56       1                   1                     1                 0   \n",
       "1309   56       1                   1                     1                 0   \n",
       "1310   56       1                   1                     1                 1   \n",
       "1311   56       1                   1                     1                 1   \n",
       "\n",
       "      occupation_technician    Comedy     Drama    Action  Thriller    Sci-Fi  \n",
       "0                         0  3.412203  3.673359  3.297117  3.494783  3.286167  \n",
       "1                         1  3.219698  3.509493  3.255487  3.416131  3.128323  \n",
       "2                         0  3.415576  3.703012  3.306670  3.448094  3.259327  \n",
       "3                         1  3.223072  3.539146  3.265040  3.369442  3.101483  \n",
       "4                         0  3.359126  3.665731  3.404304  3.538511  3.253674  \n",
       "...                     ...       ...       ...       ...       ...       ...  \n",
       "1307                      1  3.091722  3.302749  3.092034  3.064599  2.972893  \n",
       "1308                      0  3.227776  3.429334  3.231298  3.233668  3.125085  \n",
       "1309                      1  3.035271  3.265468  3.189667  3.155016  2.967241  \n",
       "1310                      0  3.231149  3.458987  3.240851  3.186979  3.098245  \n",
       "1311                      1  3.038645  3.295121  3.199220  3.108327  2.940401  \n",
       "\n",
       "[1312 rows x 11 columns]"
      ]
     },
     "execution_count": 320,
     "metadata": {},
     "output_type": "execute_result"
    }
   ],
   "source": [
    "# read the result file\n",
    "result_CEL_linear = pd.read_csv('drive/MyDrive/Causal-Decision-Making/Data-Demo/result_CEL_linear.csv')\n",
    "result_CEL_linear = result_CEL_linear.drop(result_CEL_linear.columns[0], axis=1)\n",
    "result_CEL_linear"
   ]
  },
  {
   "cell_type": "markdown",
   "metadata": {
    "id": "gBUDJ7pF_nST"
   },
   "source": [
    "#### Analysis"
   ]
  },
  {
   "cell_type": "code",
   "execution_count": 322,
   "metadata": {
    "colab": {
     "base_uri": "https://localhost:8080/",
     "height": 424
    },
    "executionInfo": {
     "elapsed": 375,
     "status": "ok",
     "timestamp": 1676664772758,
     "user": {
      "displayName": "Yang Xu",
      "userId": "12270366590264264299"
     },
     "user_tz": 300
    },
    "id": "j558DqlZ_nSU",
    "outputId": "ef62a61b-9fac-491f-d899-2815653548a4"
   },
   "outputs": [
    {
     "data": {
      "text/html": [
       "\n",
       "  <div id=\"df-4e7722c5-b9ca-423d-95d8-eb6dd7c76147\">\n",
       "    <div class=\"colab-df-container\">\n",
       "      <div>\n",
       "<style scoped>\n",
       "    .dataframe tbody tr th:only-of-type {\n",
       "        vertical-align: middle;\n",
       "    }\n",
       "\n",
       "    .dataframe tbody tr th {\n",
       "        vertical-align: top;\n",
       "    }\n",
       "\n",
       "    .dataframe thead th {\n",
       "        text-align: right;\n",
       "    }\n",
       "</style>\n",
       "<table border=\"1\" class=\"dataframe\">\n",
       "  <thead>\n",
       "    <tr style=\"text-align: right;\">\n",
       "      <th></th>\n",
       "      <th>Comedy</th>\n",
       "      <th>Drama</th>\n",
       "      <th>Action</th>\n",
       "      <th>Thriller</th>\n",
       "      <th>Sci-Fi</th>\n",
       "    </tr>\n",
       "  </thead>\n",
       "  <tbody>\n",
       "    <tr>\n",
       "      <th>0</th>\n",
       "      <td>3.412203</td>\n",
       "      <td>3.673359</td>\n",
       "      <td>3.297117</td>\n",
       "      <td>3.494783</td>\n",
       "      <td>3.286167</td>\n",
       "    </tr>\n",
       "    <tr>\n",
       "      <th>1</th>\n",
       "      <td>3.219698</td>\n",
       "      <td>3.509493</td>\n",
       "      <td>3.255487</td>\n",
       "      <td>3.416131</td>\n",
       "      <td>3.128323</td>\n",
       "    </tr>\n",
       "    <tr>\n",
       "      <th>2</th>\n",
       "      <td>3.415576</td>\n",
       "      <td>3.703012</td>\n",
       "      <td>3.306670</td>\n",
       "      <td>3.448094</td>\n",
       "      <td>3.259327</td>\n",
       "    </tr>\n",
       "    <tr>\n",
       "      <th>3</th>\n",
       "      <td>3.223072</td>\n",
       "      <td>3.539146</td>\n",
       "      <td>3.265040</td>\n",
       "      <td>3.369442</td>\n",
       "      <td>3.101483</td>\n",
       "    </tr>\n",
       "    <tr>\n",
       "      <th>4</th>\n",
       "      <td>3.359126</td>\n",
       "      <td>3.665731</td>\n",
       "      <td>3.404304</td>\n",
       "      <td>3.538511</td>\n",
       "      <td>3.253674</td>\n",
       "    </tr>\n",
       "    <tr>\n",
       "      <th>...</th>\n",
       "      <td>...</td>\n",
       "      <td>...</td>\n",
       "      <td>...</td>\n",
       "      <td>...</td>\n",
       "      <td>...</td>\n",
       "    </tr>\n",
       "    <tr>\n",
       "      <th>1291</th>\n",
       "      <td>3.205060</td>\n",
       "      <td>3.347510</td>\n",
       "      <td>3.158682</td>\n",
       "      <td>3.172299</td>\n",
       "      <td>2.983469</td>\n",
       "    </tr>\n",
       "    <tr>\n",
       "      <th>1292</th>\n",
       "      <td>3.341114</td>\n",
       "      <td>3.474094</td>\n",
       "      <td>3.297946</td>\n",
       "      <td>3.341368</td>\n",
       "      <td>3.135660</td>\n",
       "    </tr>\n",
       "    <tr>\n",
       "      <th>1293</th>\n",
       "      <td>3.148609</td>\n",
       "      <td>3.310228</td>\n",
       "      <td>3.256316</td>\n",
       "      <td>3.262715</td>\n",
       "      <td>2.977817</td>\n",
       "    </tr>\n",
       "    <tr>\n",
       "      <th>1294</th>\n",
       "      <td>3.344487</td>\n",
       "      <td>3.503747</td>\n",
       "      <td>3.307499</td>\n",
       "      <td>3.294679</td>\n",
       "      <td>3.108820</td>\n",
       "    </tr>\n",
       "    <tr>\n",
       "      <th>1295</th>\n",
       "      <td>3.151983</td>\n",
       "      <td>3.339881</td>\n",
       "      <td>3.265868</td>\n",
       "      <td>3.216027</td>\n",
       "      <td>2.950977</td>\n",
       "    </tr>\n",
       "  </tbody>\n",
       "</table>\n",
       "<p>656 rows × 5 columns</p>\n",
       "</div>\n",
       "      <button class=\"colab-df-convert\" onclick=\"convertToInteractive('df-4e7722c5-b9ca-423d-95d8-eb6dd7c76147')\"\n",
       "              title=\"Convert this dataframe to an interactive table.\"\n",
       "              style=\"display:none;\">\n",
       "        \n",
       "  <svg xmlns=\"http://www.w3.org/2000/svg\" height=\"24px\"viewBox=\"0 0 24 24\"\n",
       "       width=\"24px\">\n",
       "    <path d=\"M0 0h24v24H0V0z\" fill=\"none\"/>\n",
       "    <path d=\"M18.56 5.44l.94 2.06.94-2.06 2.06-.94-2.06-.94-.94-2.06-.94 2.06-2.06.94zm-11 1L8.5 8.5l.94-2.06 2.06-.94-2.06-.94L8.5 2.5l-.94 2.06-2.06.94zm10 10l.94 2.06.94-2.06 2.06-.94-2.06-.94-.94-2.06-.94 2.06-2.06.94z\"/><path d=\"M17.41 7.96l-1.37-1.37c-.4-.4-.92-.59-1.43-.59-.52 0-1.04.2-1.43.59L10.3 9.45l-7.72 7.72c-.78.78-.78 2.05 0 2.83L4 21.41c.39.39.9.59 1.41.59.51 0 1.02-.2 1.41-.59l7.78-7.78 2.81-2.81c.8-.78.8-2.07 0-2.86zM5.41 20L4 18.59l7.72-7.72 1.47 1.35L5.41 20z\"/>\n",
       "  </svg>\n",
       "      </button>\n",
       "      \n",
       "  <style>\n",
       "    .colab-df-container {\n",
       "      display:flex;\n",
       "      flex-wrap:wrap;\n",
       "      gap: 12px;\n",
       "    }\n",
       "\n",
       "    .colab-df-convert {\n",
       "      background-color: #E8F0FE;\n",
       "      border: none;\n",
       "      border-radius: 50%;\n",
       "      cursor: pointer;\n",
       "      display: none;\n",
       "      fill: #1967D2;\n",
       "      height: 32px;\n",
       "      padding: 0 0 0 0;\n",
       "      width: 32px;\n",
       "    }\n",
       "\n",
       "    .colab-df-convert:hover {\n",
       "      background-color: #E2EBFA;\n",
       "      box-shadow: 0px 1px 2px rgba(60, 64, 67, 0.3), 0px 1px 3px 1px rgba(60, 64, 67, 0.15);\n",
       "      fill: #174EA6;\n",
       "    }\n",
       "\n",
       "    [theme=dark] .colab-df-convert {\n",
       "      background-color: #3B4455;\n",
       "      fill: #D2E3FC;\n",
       "    }\n",
       "\n",
       "    [theme=dark] .colab-df-convert:hover {\n",
       "      background-color: #434B5C;\n",
       "      box-shadow: 0px 1px 3px 1px rgba(0, 0, 0, 0.15);\n",
       "      filter: drop-shadow(0px 1px 2px rgba(0, 0, 0, 0.3));\n",
       "      fill: #FFFFFF;\n",
       "    }\n",
       "  </style>\n",
       "\n",
       "      <script>\n",
       "        const buttonEl =\n",
       "          document.querySelector('#df-4e7722c5-b9ca-423d-95d8-eb6dd7c76147 button.colab-df-convert');\n",
       "        buttonEl.style.display =\n",
       "          google.colab.kernel.accessAllowed ? 'block' : 'none';\n",
       "\n",
       "        async function convertToInteractive(key) {\n",
       "          const element = document.querySelector('#df-4e7722c5-b9ca-423d-95d8-eb6dd7c76147');\n",
       "          const dataTable =\n",
       "            await google.colab.kernel.invokeFunction('convertToInteractive',\n",
       "                                                     [key], {});\n",
       "          if (!dataTable) return;\n",
       "\n",
       "          const docLinkHtml = 'Like what you see? Visit the ' +\n",
       "            '<a target=\"_blank\" href=https://colab.research.google.com/notebooks/data_table.ipynb>data table notebook</a>'\n",
       "            + ' to learn more about interactive tables.';\n",
       "          element.innerHTML = '';\n",
       "          dataTable['output_type'] = 'display_data';\n",
       "          await google.colab.output.renderOutput(dataTable, element);\n",
       "          const docLink = document.createElement('div');\n",
       "          docLink.innerHTML = docLinkHtml;\n",
       "          element.appendChild(docLink);\n",
       "        }\n",
       "      </script>\n",
       "    </div>\n",
       "  </div>\n",
       "  "
      ],
      "text/plain": [
       "        Comedy     Drama    Action  Thriller    Sci-Fi\n",
       "0     3.412203  3.673359  3.297117  3.494783  3.286167\n",
       "1     3.219698  3.509493  3.255487  3.416131  3.128323\n",
       "2     3.415576  3.703012  3.306670  3.448094  3.259327\n",
       "3     3.223072  3.539146  3.265040  3.369442  3.101483\n",
       "4     3.359126  3.665731  3.404304  3.538511  3.253674\n",
       "...        ...       ...       ...       ...       ...\n",
       "1291  3.205060  3.347510  3.158682  3.172299  2.983469\n",
       "1292  3.341114  3.474094  3.297946  3.341368  3.135660\n",
       "1293  3.148609  3.310228  3.256316  3.262715  2.977817\n",
       "1294  3.344487  3.503747  3.307499  3.294679  3.108820\n",
       "1295  3.151983  3.339881  3.265868  3.216027  2.950977\n",
       "\n",
       "[656 rows x 5 columns]"
      ]
     },
     "execution_count": 322,
     "metadata": {},
     "output_type": "execute_result"
    }
   ],
   "source": [
    "result_CEL_linear.iloc[np.where(result_CEL_linear['gender']==0)[0],6:11]"
   ]
  },
  {
   "cell_type": "code",
   "execution_count": 323,
   "metadata": {
    "executionInfo": {
     "elapsed": 367,
     "status": "ok",
     "timestamp": 1676664791192,
     "user": {
      "displayName": "Yang Xu",
      "userId": "12270366590264264299"
     },
     "user_tz": 300
    },
    "id": "vaCTRmcg_nSU"
   },
   "outputs": [],
   "source": [
    "# calculate the expected reward of Comedy for female\n",
    "TE_female_linear=result_CEL_linear.iloc[np.where(result_CEL_linear['gender']==0)[0],6:11]/(41*(2**4))\n",
    "TE_female_linear=pd.DataFrame(TE_female_linear.sum(axis=0))\n",
    "TE_female_linear.columns =['Expected Rating']"
   ]
  },
  {
   "cell_type": "code",
   "execution_count": 324,
   "metadata": {
    "colab": {
     "base_uri": "https://localhost:8080/",
     "height": 206
    },
    "executionInfo": {
     "elapsed": 292,
     "status": "ok",
     "timestamp": 1676664794563,
     "user": {
      "displayName": "Yang Xu",
      "userId": "12270366590264264299"
     },
     "user_tz": 300
    },
    "id": "GeRnCtDm_nSU",
    "outputId": "192e750a-4732-4342-ea20-ac0d39c4dea2"
   },
   "outputs": [
    {
     "data": {
      "text/html": [
       "\n",
       "  <div id=\"df-63ce0d4e-b96d-4b69-9f98-1b71122f844f\">\n",
       "    <div class=\"colab-df-container\">\n",
       "      <div>\n",
       "<style scoped>\n",
       "    .dataframe tbody tr th:only-of-type {\n",
       "        vertical-align: middle;\n",
       "    }\n",
       "\n",
       "    .dataframe tbody tr th {\n",
       "        vertical-align: top;\n",
       "    }\n",
       "\n",
       "    .dataframe thead th {\n",
       "        text-align: right;\n",
       "    }\n",
       "</style>\n",
       "<table border=\"1\" class=\"dataframe\">\n",
       "  <thead>\n",
       "    <tr style=\"text-align: right;\">\n",
       "      <th></th>\n",
       "      <th>Expected Rating</th>\n",
       "    </tr>\n",
       "  </thead>\n",
       "  <tbody>\n",
       "    <tr>\n",
       "      <th>Comedy</th>\n",
       "      <td>3.282093</td>\n",
       "    </tr>\n",
       "    <tr>\n",
       "      <th>Drama</th>\n",
       "      <td>3.506620</td>\n",
       "    </tr>\n",
       "    <tr>\n",
       "      <th>Action</th>\n",
       "      <td>3.281493</td>\n",
       "    </tr>\n",
       "    <tr>\n",
       "      <th>Thriller</th>\n",
       "      <td>3.355405</td>\n",
       "    </tr>\n",
       "    <tr>\n",
       "      <th>Sci-Fi</th>\n",
       "      <td>3.118572</td>\n",
       "    </tr>\n",
       "  </tbody>\n",
       "</table>\n",
       "</div>\n",
       "      <button class=\"colab-df-convert\" onclick=\"convertToInteractive('df-63ce0d4e-b96d-4b69-9f98-1b71122f844f')\"\n",
       "              title=\"Convert this dataframe to an interactive table.\"\n",
       "              style=\"display:none;\">\n",
       "        \n",
       "  <svg xmlns=\"http://www.w3.org/2000/svg\" height=\"24px\"viewBox=\"0 0 24 24\"\n",
       "       width=\"24px\">\n",
       "    <path d=\"M0 0h24v24H0V0z\" fill=\"none\"/>\n",
       "    <path d=\"M18.56 5.44l.94 2.06.94-2.06 2.06-.94-2.06-.94-.94-2.06-.94 2.06-2.06.94zm-11 1L8.5 8.5l.94-2.06 2.06-.94-2.06-.94L8.5 2.5l-.94 2.06-2.06.94zm10 10l.94 2.06.94-2.06 2.06-.94-2.06-.94-.94-2.06-.94 2.06-2.06.94z\"/><path d=\"M17.41 7.96l-1.37-1.37c-.4-.4-.92-.59-1.43-.59-.52 0-1.04.2-1.43.59L10.3 9.45l-7.72 7.72c-.78.78-.78 2.05 0 2.83L4 21.41c.39.39.9.59 1.41.59.51 0 1.02-.2 1.41-.59l7.78-7.78 2.81-2.81c.8-.78.8-2.07 0-2.86zM5.41 20L4 18.59l7.72-7.72 1.47 1.35L5.41 20z\"/>\n",
       "  </svg>\n",
       "      </button>\n",
       "      \n",
       "  <style>\n",
       "    .colab-df-container {\n",
       "      display:flex;\n",
       "      flex-wrap:wrap;\n",
       "      gap: 12px;\n",
       "    }\n",
       "\n",
       "    .colab-df-convert {\n",
       "      background-color: #E8F0FE;\n",
       "      border: none;\n",
       "      border-radius: 50%;\n",
       "      cursor: pointer;\n",
       "      display: none;\n",
       "      fill: #1967D2;\n",
       "      height: 32px;\n",
       "      padding: 0 0 0 0;\n",
       "      width: 32px;\n",
       "    }\n",
       "\n",
       "    .colab-df-convert:hover {\n",
       "      background-color: #E2EBFA;\n",
       "      box-shadow: 0px 1px 2px rgba(60, 64, 67, 0.3), 0px 1px 3px 1px rgba(60, 64, 67, 0.15);\n",
       "      fill: #174EA6;\n",
       "    }\n",
       "\n",
       "    [theme=dark] .colab-df-convert {\n",
       "      background-color: #3B4455;\n",
       "      fill: #D2E3FC;\n",
       "    }\n",
       "\n",
       "    [theme=dark] .colab-df-convert:hover {\n",
       "      background-color: #434B5C;\n",
       "      box-shadow: 0px 1px 3px 1px rgba(0, 0, 0, 0.15);\n",
       "      filter: drop-shadow(0px 1px 2px rgba(0, 0, 0, 0.3));\n",
       "      fill: #FFFFFF;\n",
       "    }\n",
       "  </style>\n",
       "\n",
       "      <script>\n",
       "        const buttonEl =\n",
       "          document.querySelector('#df-63ce0d4e-b96d-4b69-9f98-1b71122f844f button.colab-df-convert');\n",
       "        buttonEl.style.display =\n",
       "          google.colab.kernel.accessAllowed ? 'block' : 'none';\n",
       "\n",
       "        async function convertToInteractive(key) {\n",
       "          const element = document.querySelector('#df-63ce0d4e-b96d-4b69-9f98-1b71122f844f');\n",
       "          const dataTable =\n",
       "            await google.colab.kernel.invokeFunction('convertToInteractive',\n",
       "                                                     [key], {});\n",
       "          if (!dataTable) return;\n",
       "\n",
       "          const docLinkHtml = 'Like what you see? Visit the ' +\n",
       "            '<a target=\"_blank\" href=https://colab.research.google.com/notebooks/data_table.ipynb>data table notebook</a>'\n",
       "            + ' to learn more about interactive tables.';\n",
       "          element.innerHTML = '';\n",
       "          dataTable['output_type'] = 'display_data';\n",
       "          await google.colab.output.renderOutput(dataTable, element);\n",
       "          const docLink = document.createElement('div');\n",
       "          docLink.innerHTML = docLinkHtml;\n",
       "          element.appendChild(docLink);\n",
       "        }\n",
       "      </script>\n",
       "    </div>\n",
       "  </div>\n",
       "  "
      ],
      "text/plain": [
       "          Expected Rating\n",
       "Comedy           3.282093\n",
       "Drama            3.506620\n",
       "Action           3.281493\n",
       "Thriller         3.355405\n",
       "Sci-Fi           3.118572"
      ]
     },
     "execution_count": 324,
     "metadata": {},
     "output_type": "execute_result"
    }
   ],
   "source": [
    "TE_female_linear"
   ]
  },
  {
   "cell_type": "code",
   "execution_count": 326,
   "metadata": {
    "executionInfo": {
     "elapsed": 305,
     "status": "ok",
     "timestamp": 1676664826089,
     "user": {
      "displayName": "Yang Xu",
      "userId": "12270366590264264299"
     },
     "user_tz": 300
    },
    "id": "WXe5ahtO_nSV"
   },
   "outputs": [],
   "source": [
    "# calculate the expected reward of Comedy for female\n",
    "TE_male_linear=result_CEL_linear.iloc[np.where(result_CEL_linear['gender']==1)[0],6:11]/(41*(2**4))\n",
    "TE_male_linear=pd.DataFrame(TE_male_linear.sum(axis=0))\n",
    "TE_male_linear.columns =['Expected Rating']"
   ]
  },
  {
   "cell_type": "code",
   "execution_count": 327,
   "metadata": {
    "colab": {
     "base_uri": "https://localhost:8080/",
     "height": 206
    },
    "executionInfo": {
     "elapsed": 13,
     "status": "ok",
     "timestamp": 1676664826612,
     "user": {
      "displayName": "Yang Xu",
      "userId": "12270366590264264299"
     },
     "user_tz": 300
    },
    "id": "d3cpJ3hG_nSV",
    "outputId": "30c5dd64-f5e2-4a70-e2ed-17bb8a987c68"
   },
   "outputs": [
    {
     "data": {
      "text/html": [
       "\n",
       "  <div id=\"df-0d504a63-373b-4ef9-9d76-86aa729d169d\">\n",
       "    <div class=\"colab-df-container\">\n",
       "      <div>\n",
       "<style scoped>\n",
       "    .dataframe tbody tr th:only-of-type {\n",
       "        vertical-align: middle;\n",
       "    }\n",
       "\n",
       "    .dataframe tbody tr th {\n",
       "        vertical-align: top;\n",
       "    }\n",
       "\n",
       "    .dataframe thead th {\n",
       "        text-align: right;\n",
       "    }\n",
       "</style>\n",
       "<table border=\"1\" class=\"dataframe\">\n",
       "  <thead>\n",
       "    <tr style=\"text-align: right;\">\n",
       "      <th></th>\n",
       "      <th>Expected Rating</th>\n",
       "    </tr>\n",
       "  </thead>\n",
       "  <tbody>\n",
       "    <tr>\n",
       "      <th>Comedy</th>\n",
       "      <td>3.168755</td>\n",
       "    </tr>\n",
       "    <tr>\n",
       "      <th>Drama</th>\n",
       "      <td>3.461860</td>\n",
       "    </tr>\n",
       "    <tr>\n",
       "      <th>Action</th>\n",
       "      <td>3.214845</td>\n",
       "    </tr>\n",
       "    <tr>\n",
       "      <th>Thriller</th>\n",
       "      <td>3.247705</td>\n",
       "    </tr>\n",
       "    <tr>\n",
       "      <th>Sci-Fi</th>\n",
       "      <td>3.107996</td>\n",
       "    </tr>\n",
       "  </tbody>\n",
       "</table>\n",
       "</div>\n",
       "      <button class=\"colab-df-convert\" onclick=\"convertToInteractive('df-0d504a63-373b-4ef9-9d76-86aa729d169d')\"\n",
       "              title=\"Convert this dataframe to an interactive table.\"\n",
       "              style=\"display:none;\">\n",
       "        \n",
       "  <svg xmlns=\"http://www.w3.org/2000/svg\" height=\"24px\"viewBox=\"0 0 24 24\"\n",
       "       width=\"24px\">\n",
       "    <path d=\"M0 0h24v24H0V0z\" fill=\"none\"/>\n",
       "    <path d=\"M18.56 5.44l.94 2.06.94-2.06 2.06-.94-2.06-.94-.94-2.06-.94 2.06-2.06.94zm-11 1L8.5 8.5l.94-2.06 2.06-.94-2.06-.94L8.5 2.5l-.94 2.06-2.06.94zm10 10l.94 2.06.94-2.06 2.06-.94-2.06-.94-.94-2.06-.94 2.06-2.06.94z\"/><path d=\"M17.41 7.96l-1.37-1.37c-.4-.4-.92-.59-1.43-.59-.52 0-1.04.2-1.43.59L10.3 9.45l-7.72 7.72c-.78.78-.78 2.05 0 2.83L4 21.41c.39.39.9.59 1.41.59.51 0 1.02-.2 1.41-.59l7.78-7.78 2.81-2.81c.8-.78.8-2.07 0-2.86zM5.41 20L4 18.59l7.72-7.72 1.47 1.35L5.41 20z\"/>\n",
       "  </svg>\n",
       "      </button>\n",
       "      \n",
       "  <style>\n",
       "    .colab-df-container {\n",
       "      display:flex;\n",
       "      flex-wrap:wrap;\n",
       "      gap: 12px;\n",
       "    }\n",
       "\n",
       "    .colab-df-convert {\n",
       "      background-color: #E8F0FE;\n",
       "      border: none;\n",
       "      border-radius: 50%;\n",
       "      cursor: pointer;\n",
       "      display: none;\n",
       "      fill: #1967D2;\n",
       "      height: 32px;\n",
       "      padding: 0 0 0 0;\n",
       "      width: 32px;\n",
       "    }\n",
       "\n",
       "    .colab-df-convert:hover {\n",
       "      background-color: #E2EBFA;\n",
       "      box-shadow: 0px 1px 2px rgba(60, 64, 67, 0.3), 0px 1px 3px 1px rgba(60, 64, 67, 0.15);\n",
       "      fill: #174EA6;\n",
       "    }\n",
       "\n",
       "    [theme=dark] .colab-df-convert {\n",
       "      background-color: #3B4455;\n",
       "      fill: #D2E3FC;\n",
       "    }\n",
       "\n",
       "    [theme=dark] .colab-df-convert:hover {\n",
       "      background-color: #434B5C;\n",
       "      box-shadow: 0px 1px 3px 1px rgba(0, 0, 0, 0.15);\n",
       "      filter: drop-shadow(0px 1px 2px rgba(0, 0, 0, 0.3));\n",
       "      fill: #FFFFFF;\n",
       "    }\n",
       "  </style>\n",
       "\n",
       "      <script>\n",
       "        const buttonEl =\n",
       "          document.querySelector('#df-0d504a63-373b-4ef9-9d76-86aa729d169d button.colab-df-convert');\n",
       "        buttonEl.style.display =\n",
       "          google.colab.kernel.accessAllowed ? 'block' : 'none';\n",
       "\n",
       "        async function convertToInteractive(key) {\n",
       "          const element = document.querySelector('#df-0d504a63-373b-4ef9-9d76-86aa729d169d');\n",
       "          const dataTable =\n",
       "            await google.colab.kernel.invokeFunction('convertToInteractive',\n",
       "                                                     [key], {});\n",
       "          if (!dataTable) return;\n",
       "\n",
       "          const docLinkHtml = 'Like what you see? Visit the ' +\n",
       "            '<a target=\"_blank\" href=https://colab.research.google.com/notebooks/data_table.ipynb>data table notebook</a>'\n",
       "            + ' to learn more about interactive tables.';\n",
       "          element.innerHTML = '';\n",
       "          dataTable['output_type'] = 'display_data';\n",
       "          await google.colab.output.renderOutput(dataTable, element);\n",
       "          const docLink = document.createElement('div');\n",
       "          docLink.innerHTML = docLinkHtml;\n",
       "          element.appendChild(docLink);\n",
       "        }\n",
       "      </script>\n",
       "    </div>\n",
       "  </div>\n",
       "  "
      ],
      "text/plain": [
       "          Expected Rating\n",
       "Comedy           3.168755\n",
       "Drama            3.461860\n",
       "Action           3.214845\n",
       "Thriller         3.247705\n",
       "Sci-Fi           3.107996"
      ]
     },
     "execution_count": 327,
     "metadata": {},
     "output_type": "execute_result"
    }
   ],
   "source": [
    "TE_male_linear"
   ]
  },
  {
   "cell_type": "code",
   "execution_count": null,
   "metadata": {
    "id": "Tamt8c-F_nSW"
   },
   "outputs": [],
   "source": []
  }
 ],
 "metadata": {
  "colab": {
   "collapsed_sections": [
    "nhhsw-DOwxzx"
   ],
   "provenance": []
  },
  "kernelspec": {
   "display_name": "Python 3 (ipykernel)",
   "language": "python",
   "name": "python3"
  },
  "language_info": {
   "codemirror_mode": {
    "name": "ipython",
    "version": 3
   },
   "file_extension": ".py",
   "mimetype": "text/x-python",
   "name": "python",
   "nbconvert_exporter": "python",
   "pygments_lexer": "ipython3",
   "version": "3.9.13"
  }
 },
 "nbformat": 4,
 "nbformat_minor": 1
}
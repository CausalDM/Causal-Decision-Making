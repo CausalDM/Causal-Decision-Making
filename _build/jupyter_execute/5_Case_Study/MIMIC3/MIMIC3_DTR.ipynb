{
 "cells": [
  {
   "cell_type": "markdown",
   "id": "e30bc5b4-3d0e-4c83-bf83-ed8b2c309c98",
   "metadata": {},
   "source": [
    "## CPL: 2-Stage DTR"
   ]
  },
  {
   "cell_type": "code",
   "execution_count": 1,
   "id": "5cc1a62d-41e2-4ac0-b79d-902ba3b9dc74",
   "metadata": {},
   "outputs": [
    {
     "ename": "FileNotFoundError",
     "evalue": "[Errno 2] No such file or directory: 'mimic3_DTR.csv'",
     "output_type": "error",
     "traceback": [
      "\u001b[0;31m---------------------------------------------------------------------------\u001b[0m",
      "\u001b[0;31mFileNotFoundError\u001b[0m                         Traceback (most recent call last)",
      "\u001b[0;32m/var/folders/9j/vb5nb4rd5bx0gr1q5ytx9q600000gn/T/ipykernel_43265/2830355469.py\u001b[0m in \u001b[0;36m<module>\u001b[0;34m\u001b[0m\n\u001b[1;32m      1\u001b[0m \u001b[0;32mimport\u001b[0m \u001b[0mpandas\u001b[0m \u001b[0;32mas\u001b[0m \u001b[0mpd\u001b[0m\u001b[0;34m\u001b[0m\u001b[0;34m\u001b[0m\u001b[0m\n\u001b[0;32m----> 2\u001b[0;31m \u001b[0mDTR_data\u001b[0m \u001b[0;34m=\u001b[0m \u001b[0mpd\u001b[0m\u001b[0;34m.\u001b[0m\u001b[0mread_csv\u001b[0m\u001b[0;34m(\u001b[0m\u001b[0;34m'mimic3_DTR.csv'\u001b[0m\u001b[0;34m)\u001b[0m\u001b[0;34m\u001b[0m\u001b[0;34m\u001b[0m\u001b[0m\n\u001b[0m",
      "\u001b[0;32m~/opt/anaconda3/lib/python3.9/site-packages/pandas/util/_decorators.py\u001b[0m in \u001b[0;36mwrapper\u001b[0;34m(*args, **kwargs)\u001b[0m\n\u001b[1;32m    309\u001b[0m                     \u001b[0mstacklevel\u001b[0m\u001b[0;34m=\u001b[0m\u001b[0mstacklevel\u001b[0m\u001b[0;34m,\u001b[0m\u001b[0;34m\u001b[0m\u001b[0;34m\u001b[0m\u001b[0m\n\u001b[1;32m    310\u001b[0m                 )\n\u001b[0;32m--> 311\u001b[0;31m             \u001b[0;32mreturn\u001b[0m \u001b[0mfunc\u001b[0m\u001b[0;34m(\u001b[0m\u001b[0;34m*\u001b[0m\u001b[0margs\u001b[0m\u001b[0;34m,\u001b[0m \u001b[0;34m**\u001b[0m\u001b[0mkwargs\u001b[0m\u001b[0;34m)\u001b[0m\u001b[0;34m\u001b[0m\u001b[0;34m\u001b[0m\u001b[0m\n\u001b[0m\u001b[1;32m    312\u001b[0m \u001b[0;34m\u001b[0m\u001b[0m\n\u001b[1;32m    313\u001b[0m         \u001b[0;32mreturn\u001b[0m \u001b[0mwrapper\u001b[0m\u001b[0;34m\u001b[0m\u001b[0;34m\u001b[0m\u001b[0m\n",
      "\u001b[0;32m~/opt/anaconda3/lib/python3.9/site-packages/pandas/io/parsers/readers.py\u001b[0m in \u001b[0;36mread_csv\u001b[0;34m(filepath_or_buffer, sep, delimiter, header, names, index_col, usecols, squeeze, prefix, mangle_dupe_cols, dtype, engine, converters, true_values, false_values, skipinitialspace, skiprows, skipfooter, nrows, na_values, keep_default_na, na_filter, verbose, skip_blank_lines, parse_dates, infer_datetime_format, keep_date_col, date_parser, dayfirst, cache_dates, iterator, chunksize, compression, thousands, decimal, lineterminator, quotechar, quoting, doublequote, escapechar, comment, encoding, encoding_errors, dialect, error_bad_lines, warn_bad_lines, on_bad_lines, delim_whitespace, low_memory, memory_map, float_precision, storage_options)\u001b[0m\n\u001b[1;32m    676\u001b[0m     \u001b[0mkwds\u001b[0m\u001b[0;34m.\u001b[0m\u001b[0mupdate\u001b[0m\u001b[0;34m(\u001b[0m\u001b[0mkwds_defaults\u001b[0m\u001b[0;34m)\u001b[0m\u001b[0;34m\u001b[0m\u001b[0;34m\u001b[0m\u001b[0m\n\u001b[1;32m    677\u001b[0m \u001b[0;34m\u001b[0m\u001b[0m\n\u001b[0;32m--> 678\u001b[0;31m     \u001b[0;32mreturn\u001b[0m \u001b[0m_read\u001b[0m\u001b[0;34m(\u001b[0m\u001b[0mfilepath_or_buffer\u001b[0m\u001b[0;34m,\u001b[0m \u001b[0mkwds\u001b[0m\u001b[0;34m)\u001b[0m\u001b[0;34m\u001b[0m\u001b[0;34m\u001b[0m\u001b[0m\n\u001b[0m\u001b[1;32m    679\u001b[0m \u001b[0;34m\u001b[0m\u001b[0m\n\u001b[1;32m    680\u001b[0m \u001b[0;34m\u001b[0m\u001b[0m\n",
      "\u001b[0;32m~/opt/anaconda3/lib/python3.9/site-packages/pandas/io/parsers/readers.py\u001b[0m in \u001b[0;36m_read\u001b[0;34m(filepath_or_buffer, kwds)\u001b[0m\n\u001b[1;32m    573\u001b[0m \u001b[0;34m\u001b[0m\u001b[0m\n\u001b[1;32m    574\u001b[0m     \u001b[0;31m# Create the parser.\u001b[0m\u001b[0;34m\u001b[0m\u001b[0;34m\u001b[0m\u001b[0m\n\u001b[0;32m--> 575\u001b[0;31m     \u001b[0mparser\u001b[0m \u001b[0;34m=\u001b[0m \u001b[0mTextFileReader\u001b[0m\u001b[0;34m(\u001b[0m\u001b[0mfilepath_or_buffer\u001b[0m\u001b[0;34m,\u001b[0m \u001b[0;34m**\u001b[0m\u001b[0mkwds\u001b[0m\u001b[0;34m)\u001b[0m\u001b[0;34m\u001b[0m\u001b[0;34m\u001b[0m\u001b[0m\n\u001b[0m\u001b[1;32m    576\u001b[0m \u001b[0;34m\u001b[0m\u001b[0m\n\u001b[1;32m    577\u001b[0m     \u001b[0;32mif\u001b[0m \u001b[0mchunksize\u001b[0m \u001b[0;32mor\u001b[0m \u001b[0miterator\u001b[0m\u001b[0;34m:\u001b[0m\u001b[0;34m\u001b[0m\u001b[0;34m\u001b[0m\u001b[0m\n",
      "\u001b[0;32m~/opt/anaconda3/lib/python3.9/site-packages/pandas/io/parsers/readers.py\u001b[0m in \u001b[0;36m__init__\u001b[0;34m(self, f, engine, **kwds)\u001b[0m\n\u001b[1;32m    930\u001b[0m \u001b[0;34m\u001b[0m\u001b[0m\n\u001b[1;32m    931\u001b[0m         \u001b[0mself\u001b[0m\u001b[0;34m.\u001b[0m\u001b[0mhandles\u001b[0m\u001b[0;34m:\u001b[0m \u001b[0mIOHandles\u001b[0m \u001b[0;34m|\u001b[0m \u001b[0;32mNone\u001b[0m \u001b[0;34m=\u001b[0m \u001b[0;32mNone\u001b[0m\u001b[0;34m\u001b[0m\u001b[0;34m\u001b[0m\u001b[0m\n\u001b[0;32m--> 932\u001b[0;31m         \u001b[0mself\u001b[0m\u001b[0;34m.\u001b[0m\u001b[0m_engine\u001b[0m \u001b[0;34m=\u001b[0m \u001b[0mself\u001b[0m\u001b[0;34m.\u001b[0m\u001b[0m_make_engine\u001b[0m\u001b[0;34m(\u001b[0m\u001b[0mf\u001b[0m\u001b[0;34m,\u001b[0m \u001b[0mself\u001b[0m\u001b[0;34m.\u001b[0m\u001b[0mengine\u001b[0m\u001b[0;34m)\u001b[0m\u001b[0;34m\u001b[0m\u001b[0;34m\u001b[0m\u001b[0m\n\u001b[0m\u001b[1;32m    933\u001b[0m \u001b[0;34m\u001b[0m\u001b[0m\n\u001b[1;32m    934\u001b[0m     \u001b[0;32mdef\u001b[0m \u001b[0mclose\u001b[0m\u001b[0;34m(\u001b[0m\u001b[0mself\u001b[0m\u001b[0;34m)\u001b[0m\u001b[0;34m:\u001b[0m\u001b[0;34m\u001b[0m\u001b[0;34m\u001b[0m\u001b[0m\n",
      "\u001b[0;32m~/opt/anaconda3/lib/python3.9/site-packages/pandas/io/parsers/readers.py\u001b[0m in \u001b[0;36m_make_engine\u001b[0;34m(self, f, engine)\u001b[0m\n\u001b[1;32m   1214\u001b[0m             \u001b[0;31m# \"Union[str, PathLike[str], ReadCsvBuffer[bytes], ReadCsvBuffer[str]]\"\u001b[0m\u001b[0;34m\u001b[0m\u001b[0;34m\u001b[0m\u001b[0m\n\u001b[1;32m   1215\u001b[0m             \u001b[0;31m# , \"str\", \"bool\", \"Any\", \"Any\", \"Any\", \"Any\", \"Any\"\u001b[0m\u001b[0;34m\u001b[0m\u001b[0;34m\u001b[0m\u001b[0m\n\u001b[0;32m-> 1216\u001b[0;31m             self.handles = get_handle(  # type: ignore[call-overload]\n\u001b[0m\u001b[1;32m   1217\u001b[0m                 \u001b[0mf\u001b[0m\u001b[0;34m,\u001b[0m\u001b[0;34m\u001b[0m\u001b[0;34m\u001b[0m\u001b[0m\n\u001b[1;32m   1218\u001b[0m                 \u001b[0mmode\u001b[0m\u001b[0;34m,\u001b[0m\u001b[0;34m\u001b[0m\u001b[0;34m\u001b[0m\u001b[0m\n",
      "\u001b[0;32m~/opt/anaconda3/lib/python3.9/site-packages/pandas/io/common.py\u001b[0m in \u001b[0;36mget_handle\u001b[0;34m(path_or_buf, mode, encoding, compression, memory_map, is_text, errors, storage_options)\u001b[0m\n\u001b[1;32m    784\u001b[0m         \u001b[0;32mif\u001b[0m \u001b[0mioargs\u001b[0m\u001b[0;34m.\u001b[0m\u001b[0mencoding\u001b[0m \u001b[0;32mand\u001b[0m \u001b[0;34m\"b\"\u001b[0m \u001b[0;32mnot\u001b[0m \u001b[0;32min\u001b[0m \u001b[0mioargs\u001b[0m\u001b[0;34m.\u001b[0m\u001b[0mmode\u001b[0m\u001b[0;34m:\u001b[0m\u001b[0;34m\u001b[0m\u001b[0;34m\u001b[0m\u001b[0m\n\u001b[1;32m    785\u001b[0m             \u001b[0;31m# Encoding\u001b[0m\u001b[0;34m\u001b[0m\u001b[0;34m\u001b[0m\u001b[0m\n\u001b[0;32m--> 786\u001b[0;31m             handle = open(\n\u001b[0m\u001b[1;32m    787\u001b[0m                 \u001b[0mhandle\u001b[0m\u001b[0;34m,\u001b[0m\u001b[0;34m\u001b[0m\u001b[0;34m\u001b[0m\u001b[0m\n\u001b[1;32m    788\u001b[0m                 \u001b[0mioargs\u001b[0m\u001b[0;34m.\u001b[0m\u001b[0mmode\u001b[0m\u001b[0;34m,\u001b[0m\u001b[0;34m\u001b[0m\u001b[0;34m\u001b[0m\u001b[0m\n",
      "\u001b[0;31mFileNotFoundError\u001b[0m: [Errno 2] No such file or directory: 'mimic3_DTR.csv'"
     ]
    }
   ],
   "source": [
    "import pandas as pd\n",
    "DTR_data = pd.read_csv('mimic3_DTR.csv')"
   ]
  },
  {
   "cell_type": "code",
   "execution_count": 2,
   "id": "380f9051-71d0-42b3-9fb8-e5a84b8173e3",
   "metadata": {},
   "outputs": [
    {
     "data": {
      "text/html": [
       "<div>\n",
       "<style scoped>\n",
       "    .dataframe tbody tr th:only-of-type {\n",
       "        vertical-align: middle;\n",
       "    }\n",
       "\n",
       "    .dataframe tbody tr th {\n",
       "        vertical-align: top;\n",
       "    }\n",
       "\n",
       "    .dataframe thead th {\n",
       "        text-align: right;\n",
       "    }\n",
       "</style>\n",
       "<table border=\"1\" class=\"dataframe\">\n",
       "  <thead>\n",
       "    <tr style=\"text-align: right;\">\n",
       "      <th></th>\n",
       "      <th>icustayid_1</th>\n",
       "      <th>Glucose_1</th>\n",
       "      <th>paO2_1</th>\n",
       "      <th>PaO2_FiO2_1</th>\n",
       "      <th>IV_Input_1</th>\n",
       "      <th>SOFA_1</th>\n",
       "      <th>Glucose_2</th>\n",
       "      <th>paO2_2</th>\n",
       "      <th>PaO2_FiO2_2</th>\n",
       "      <th>IV_Input_2</th>\n",
       "      <th>SOFA_2</th>\n",
       "      <th>Died_within_48H</th>\n",
       "    </tr>\n",
       "  </thead>\n",
       "  <tbody>\n",
       "    <tr>\n",
       "      <th>0</th>\n",
       "      <td>31005.0</td>\n",
       "      <td>116.833333</td>\n",
       "      <td>86.0</td>\n",
       "      <td>172.000000</td>\n",
       "      <td>1.0</td>\n",
       "      <td>9.0</td>\n",
       "      <td>125.666667</td>\n",
       "      <td>182.000000</td>\n",
       "      <td>364.000000</td>\n",
       "      <td>1.0</td>\n",
       "      <td>5.0</td>\n",
       "      <td>1.0</td>\n",
       "    </tr>\n",
       "    <tr>\n",
       "      <th>1</th>\n",
       "      <td>10989.0</td>\n",
       "      <td>120.000000</td>\n",
       "      <td>85.0</td>\n",
       "      <td>170.000000</td>\n",
       "      <td>1.0</td>\n",
       "      <td>5.0</td>\n",
       "      <td>154.000000</td>\n",
       "      <td>81.857143</td>\n",
       "      <td>163.714286</td>\n",
       "      <td>1.0</td>\n",
       "      <td>7.0</td>\n",
       "      <td>1.0</td>\n",
       "    </tr>\n",
       "    <tr>\n",
       "      <th>2</th>\n",
       "      <td>4132.0</td>\n",
       "      <td>123.200000</td>\n",
       "      <td>133.0</td>\n",
       "      <td>266.000000</td>\n",
       "      <td>1.0</td>\n",
       "      <td>8.0</td>\n",
       "      <td>126.400000</td>\n",
       "      <td>47.000000</td>\n",
       "      <td>94.000000</td>\n",
       "      <td>1.0</td>\n",
       "      <td>7.0</td>\n",
       "      <td>-1.0</td>\n",
       "    </tr>\n",
       "    <tr>\n",
       "      <th>3</th>\n",
       "      <td>37528.0</td>\n",
       "      <td>168.500000</td>\n",
       "      <td>62.6</td>\n",
       "      <td>260.833333</td>\n",
       "      <td>0.0</td>\n",
       "      <td>3.0</td>\n",
       "      <td>227.000000</td>\n",
       "      <td>66.666667</td>\n",
       "      <td>277.777778</td>\n",
       "      <td>1.0</td>\n",
       "      <td>4.0</td>\n",
       "      <td>-1.0</td>\n",
       "    </tr>\n",
       "    <tr>\n",
       "      <th>4</th>\n",
       "      <td>86428.0</td>\n",
       "      <td>115.000000</td>\n",
       "      <td>73.0</td>\n",
       "      <td>146.000000</td>\n",
       "      <td>1.0</td>\n",
       "      <td>7.0</td>\n",
       "      <td>115.000000</td>\n",
       "      <td>104.333333</td>\n",
       "      <td>208.666667</td>\n",
       "      <td>1.0</td>\n",
       "      <td>8.0</td>\n",
       "      <td>1.0</td>\n",
       "    </tr>\n",
       "  </tbody>\n",
       "</table>\n",
       "</div>"
      ],
      "text/plain": [
       "   icustayid_1   Glucose_1  paO2_1  PaO2_FiO2_1  IV_Input_1  SOFA_1  \\\n",
       "0      31005.0  116.833333    86.0   172.000000         1.0     9.0   \n",
       "1      10989.0  120.000000    85.0   170.000000         1.0     5.0   \n",
       "2       4132.0  123.200000   133.0   266.000000         1.0     8.0   \n",
       "3      37528.0  168.500000    62.6   260.833333         0.0     3.0   \n",
       "4      86428.0  115.000000    73.0   146.000000         1.0     7.0   \n",
       "\n",
       "    Glucose_2      paO2_2  PaO2_FiO2_2  IV_Input_2  SOFA_2  Died_within_48H  \n",
       "0  125.666667  182.000000   364.000000         1.0     5.0              1.0  \n",
       "1  154.000000   81.857143   163.714286         1.0     7.0              1.0  \n",
       "2  126.400000   47.000000    94.000000         1.0     7.0             -1.0  \n",
       "3  227.000000   66.666667   277.777778         1.0     4.0             -1.0  \n",
       "4  115.000000  104.333333   208.666667         1.0     8.0              1.0  "
      ]
     },
     "execution_count": 2,
     "metadata": {},
     "output_type": "execute_result"
    }
   ],
   "source": [
    "DTR_data.head()"
   ]
  },
  {
   "cell_type": "code",
   "execution_count": 3,
   "id": "eb292983-285d-4671-aa1e-f30c5509a717",
   "metadata": {},
   "outputs": [
    {
     "name": "stderr",
     "output_type": "stream",
     "text": [
      "/nas/longleaf/rhel8/apps/anaconda/2021.11.ood/lib/python3.9/site-packages/statsmodels/tsa/base/tsa_model.py:7: FutureWarning: pandas.Int64Index is deprecated and will be removed from pandas in a future version. Use pandas.Index with the appropriate dtype instead.\n",
      "  from pandas import (to_datetime, Int64Index, DatetimeIndex, Period,\n",
      "/nas/longleaf/rhel8/apps/anaconda/2021.11.ood/lib/python3.9/site-packages/statsmodels/tsa/base/tsa_model.py:7: FutureWarning: pandas.Float64Index is deprecated and will be removed from pandas in a future version. Use pandas.Index with the appropriate dtype instead.\n",
      "  from pandas import (to_datetime, Int64Index, DatetimeIndex, Period,\n"
     ]
    }
   ],
   "source": [
    "import os\n",
    "os.getcwd()\n",
    "os.chdir('/nas/longleaf/home/lge/CausalDM')\n",
    "from causaldm.learners import QLearning"
   ]
  },
  {
   "cell_type": "markdown",
   "id": "21d1d499-0bfb-497a-af48-0a5137d1959a",
   "metadata": {},
   "source": [
    "## Binary IV_Input"
   ]
  },
  {
   "cell_type": "markdown",
   "id": "ee54f544-b8ba-4e8e-a388-4001b1af667d",
   "metadata": {},
   "source": [
    "As an example, we use the **Q-learning** algorithm to optimize and evaluate policy. We begin by training the Q models on the observed data.  By assuming linear regression models and using the code in the following block, we have that A = B.\n",
    "\\begin{align}\n",
    "Q_1(s,a_1) = &.7725+.0016*\\textrm{Glucose}_1-.0015*\\textrm{paO2}_1+.0003*\\textrm{PaO2_FiO2}_1-.0089*\\textrm{SOFA}_1+\\\\\n",
    "                    &I(a_1=1)*\\{-.1308-.0021*\\textrm{Glucose}_1-.0054*\\textrm{paO2}_1+.0021*\\textrm{PaO2_FiO2}_1+.0973*\\textrm{SOFA}_1\\},\\\\\n",
    "Q_2(s,a_2) = &2.4362+.0008*\\textrm{Glucose}_1-.0008*\\textrm{paO2}_1+.0004*\\textrm{PaO2_FiO2}_1+.0363*\\textrm{SOFA}_1+\\\\\n",
    "                    &.0022*\\textrm{Glucose}_2-.0144*\\textrm{paO2}_2-.0003*\\textrm{PaO2_FiO2}_2-.1306*\\textrm{SOFA}_2+\\\\\n",
    "                    &I(a_2=1)*\\{-1.5796-.0044*\\textrm{Glucose}_2+.0145*\\textrm{paO2}_2+.0007*\\textrm{PaO2_FiO2}_2+.0649*\\textrm{SOFA}_2\\}.\n",
    "\\end{align}\n",
    "\n"
   ]
  },
  {
   "cell_type": "code",
   "execution_count": 4,
   "id": "0cb24b3a-9d14-457a-9cb4-786c75dc66f2",
   "metadata": {},
   "outputs": [
    {
     "data": {
      "text/plain": [
       "{1: <statsmodels.regression.linear_model.RegressionResultsWrapper at 0x7fe8e45dd3a0>,\n",
       " 0: <statsmodels.regression.linear_model.RegressionResultsWrapper at 0x7fe8b7cb6400>}"
      ]
     },
     "execution_count": 4,
     "metadata": {},
     "output_type": "execute_result"
    }
   ],
   "source": [
    "DTR_data.rename(columns = {'Died_within_48H':'R',\n",
    "                            'Glucose_1':'S1_1', 'Glucose_2':'S1_2',\n",
    "                            'paO2_1':'S2_1', 'paO2_2':'S2_2',\n",
    "                            'PaO2_FiO2_1':'S3_1', 'PaO2_FiO2_2':'S3_2',\n",
    "                            'SOFA_1':'S4_1', 'SOFA_2':'S4_2',\n",
    "                            'IV_Input_1':'A1','IV_Input_2':'A2'}, inplace = True)\n",
    "R = DTR_data['R'] #lower the better\n",
    "S = DTR_data[['S1_1','S1_2','S2_1','S2_2','S3_1','S3_2','S4_1','S4_2']]\n",
    "A = DTR_data[['A1','A2']]\n",
    "# initialize the learner\n",
    "QLearn = QLearning.QLearning()\n",
    "# specify the model you would like to use\n",
    "model_info = [{\"model\": \"R~S1_1+S2_1+S3_1+S4_1+A1+S1_1*A1+S2_1*A1+S3_1*A1+S4_1*A1\",\n",
    "              'action_space':{'A1':[0,1]}},\n",
    "             {\"model\": \"R~S1_1+S2_1+S3_1+S4_1+S1_2+S2_2+S3_2+S4_2+A2+S1_2*A2+S2_2*A2+S3_2*A2+S4_2*A2\",\n",
    "              'action_space':{'A2':[0,1]}}]\n",
    "# train the policy\n",
    "QLearn.train(S, A, R, model_info, T=2, mimic3_clip = True)\n",
    "# get the summary of the fitted Q models using the following code\n",
    "#print(\"fitted model Q0:\",QLearn.fitted_model[0].summary())\n",
    "#print(\"fitted model Q1:\",QLearn.fitted_model[1].summary())"
   ]
  },
  {
   "cell_type": "markdown",
   "id": "680e9770-201f-4933-8168-16ee6480e376",
   "metadata": {},
   "source": [
    "**Policy Optimization:** Based on the fitted Q models, an optimal treatment regime can be defined as\n",
    "- At stage 1:\n",
    "    1. We would recommend $A=0$ (IV_Input = 0) if $-.0021*\\textrm{Glucose}_1-.0054*\\textrm{paO2}_1+.0021*\\textrm{PaO2_FiO2}_1+.0973*\\textrm{SOFA}_1<.1308$\n",
    "    2. Else, we would recommend $A=1$ (IV_Input = 1).\n",
    "- At stage 2:\n",
    "    1. We would recommend $A=0$ (IV_Input = 0) if $-.0044*\\textrm{Glucose}_2+.0145*\\textrm{paO2}_2+.0007*\\textrm{PaO2_FiO2}_2+.0649*\\textrm{SOFA}_2<1.5796$\n",
    "    2. Else, we would recommend $A=1$ (IV_Input = 1).\n",
    "    \n",
    "In the block that follows, we apply the estimated optimal regime to individuals in the observed data and estimate the corresponding policy value. Following the estimated optimal policy, \n",
    "- 20 patients are recommended to be treated with IV input at both stages, \n",
    "- nine patients are recommended not to be treated at both stages, \n",
    "- 19 patients are recommended to be treated with IV input at the first stage and not to be treated at the second stage,\n",
    "- seven patients are recommended not to be treated at the first stage but to be treated with IV input at the second stage.\n",
    "\n",
    "The estimated value of the estimated optimal policy is **.9357**."
   ]
  },
  {
   "cell_type": "code",
   "execution_count": 5,
   "id": "2defd159-d9a2-4557-937a-e3aff0ef8b9a",
   "metadata": {},
   "outputs": [
    {
     "name": "stdout",
     "output_type": "stream",
     "text": [
      "opt_d: A2  A1\n",
      "1   1     20\n",
      "0   1     19\n",
      "    0      9\n",
      "1   0      7\n",
      "dtype: int64\n",
      "opt value: 0.9357210192715425\n"
     ]
    }
   ],
   "source": [
    "#4. recommend action\n",
    "opt_d = QLearn.recommend_action(S).value_counts()\n",
    "#5. get the estimated value of the optimal regime\n",
    "V_hat = QLearn.predict_value(S)\n",
    "print(\"opt_d:\",opt_d)\n",
    "print(\"opt value:\",V_hat)"
   ]
  },
  {
   "cell_type": "markdown",
   "id": "fb3e8a3d-7d24-46b8-98d9-093927098a4e",
   "metadata": {},
   "source": [
    "**Policy Evaluation:** Now, we are interested in evaluating a fixed policy that never gives IV input to patients. Under the specified model, the estimated value of the fixed policy that always does not give IV input is .4107."
   ]
  },
  {
   "cell_type": "code",
   "execution_count": 6,
   "id": "c368d54c-2436-48b9-953b-aae8351428e6",
   "metadata": {},
   "outputs": [
    {
     "data": {
      "text/plain": [
       "0.4107373306703053"
      ]
     },
     "execution_count": 6,
     "metadata": {},
     "output_type": "execute_result"
    }
   ],
   "source": [
    "#specify the fixed regime to be tested\n",
    "# For example, regime d = 1 for all subjects at all decision points\\\n",
    "N=len(S)\n",
    "# !! IMPORTANT: INDEX SHOULD BE THE SAME AS THAT OF THE S,R,A\n",
    "regime = pd.DataFrame({'A1':[0]*N,\n",
    "                      'A2':[0]*N}).set_index(S.index)\n",
    "#evaluate the regime\n",
    "QLearn = QLearning.QLearning()\n",
    "QLearn.train(S, A, R, model_info, T=2, regime = regime, evaluate = True, mimic3_clip = True)\n",
    "QLearn.predict_value(S)"
   ]
  },
  {
   "cell_type": "code",
   "execution_count": null,
   "id": "638498a0-4129-4d0d-8ff5-20a4cd1d9426",
   "metadata": {},
   "outputs": [],
   "source": []
  },
  {
   "cell_type": "code",
   "execution_count": null,
   "id": "1b1d0698-4eb0-45c5-a87d-e58b5b1ec27d",
   "metadata": {},
   "outputs": [],
   "source": []
  }
 ],
 "metadata": {
  "kernelspec": {
   "display_name": "Python 3 (ipykernel)",
   "language": "python",
   "name": "python3"
  },
  "language_info": {
   "codemirror_mode": {
    "name": "ipython",
    "version": 3
   },
   "file_extension": ".py",
   "mimetype": "text/x-python",
   "name": "python",
   "nbconvert_exporter": "python",
   "pygments_lexer": "ipython3",
   "version": "3.9.13"
  }
 },
 "nbformat": 4,
 "nbformat_minor": 5
}
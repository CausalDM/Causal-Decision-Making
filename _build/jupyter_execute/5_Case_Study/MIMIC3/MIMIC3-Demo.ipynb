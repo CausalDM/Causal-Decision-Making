{
 "cells": [
  {
   "cell_type": "markdown",
   "metadata": {
    "id": "Jt3jRwwKIRVQ"
   },
   "source": [
    "## Mimic3 Demo\n",
    "\n",
    "[Mimic3](https://www.kaggle.com/datasets/asjad99/mimiciii) is a large open-access anonymized single-center database which consists of comprehensive clinical data of 61,532 critical care admissions from 2001–2012 collected at a Boston teaching hospital. Dataset consists of 47 features (including demographics, vitals, and lab test results) on a cohort of sepsis patients who meet the sepsis-3 definition criteria.\n",
    "\n",
    "Due to the privacy concerns, we utilized a subset of he original Mimic3 data that is publicly available on Kaggle. For illustration purpose, we selected several representative features for the following analysis:\n",
    "\n",
    "*   **Glucose**: glucose values of patients\n",
    "*   **paO2**: The partial pressure of oxygen\n",
    "*   **PaO2_FiO2**: The partial pressure of oxygen (PaO2)/fraction of oxygen delivered (FIO2) ratio.\n",
    "*   **SOFA**: Sepsis-related Organ Failure Assessment score to describe organ dysfunction/failure.\n",
    "*   **iv-input**: the volumn of fluids that have been administered to the patient.\n",
    "*   **died_within_48h_of_out_time**:  the mortality status of the patient after 48 hours of being administered.\n",
    "\n",
    "In the next sections, we will start from causal discovery learning to learn significant causal diagram from the data, and then quantify the effect of treatment ('iv_input') on the outcome (mortality status, denoted by 'died_within_48h_of_out_time' variable in the data) through causal effect learning."
   ]
  },
  {
   "cell_type": "markdown",
   "metadata": {
    "id": "tP21VWVtg2Q_"
   },
   "source": [
    "## Causal Discovery Learning"
   ]
  },
  {
   "cell_type": "code",
   "execution_count": 1,
   "metadata": {},
   "outputs": [],
   "source": [
    "%load_ext autoreload\n",
    "%autoreload 2\n",
    "\n",
    "##### Import Packages \n",
    "from utils import *\n",
    "from notear import *\n",
    "  \n",
    "from numpy.random import randn\n",
    "from random import seed as rseed\n",
    "from numpy.random import seed as npseed\n",
    "\n",
    "import numpy as np\n",
    "import pandas as pd\n",
    "import os\n",
    "import pickle\n",
    "import random\n",
    "import math\n",
    "import time \n",
    "\n",
    "from datetime import datetime\n",
    "\n",
    "import matplotlib.pyplot as plt\n",
    "\n",
    "from multiprocessing import Pool\n",
    " \n",
    "from tqdm import tqdm\n",
    "from functools import partial \n",
    "\n",
    "os.environ[\"OMP_NUM_THREADS\"] = \"1\""
   ]
  },
  {
   "cell_type": "code",
   "execution_count": 2,
   "metadata": {},
   "outputs": [],
   "source": [
    "mimic3 = pd.read_csv(\"subset_rl_data_final_cont.csv\")"
   ]
  },
  {
   "cell_type": "code",
   "execution_count": 3,
   "metadata": {},
   "outputs": [
    {
     "name": "stderr",
     "output_type": "stream",
     "text": [
      "/var/folders/9j/vb5nb4rd5bx0gr1q5ytx9q600000gn/T/ipykernel_14958/3276196379.py:3: SettingWithCopyWarning: \n",
      "A value is trying to be set on a copy of a slice from a DataFrame.\n",
      "Try using .loc[row_indexer,col_indexer] = value instead\n",
      "\n",
      "See the caveats in the documentation: https://pandas.pydata.org/pandas-docs/stable/user_guide/indexing.html#returning-a-view-versus-a-copy\n",
      "  mimic3_base['died_within_48h_of_out_time'] = - 2 * np.array(mimic3_base['died_within_48h_of_out_time']) + 1\n"
     ]
    },
    {
     "data": {
      "text/html": [
       "<div>\n",
       "<style scoped>\n",
       "    .dataframe tbody tr th:only-of-type {\n",
       "        vertical-align: middle;\n",
       "    }\n",
       "\n",
       "    .dataframe tbody tr th {\n",
       "        vertical-align: top;\n",
       "    }\n",
       "\n",
       "    .dataframe thead th {\n",
       "        text-align: right;\n",
       "    }\n",
       "</style>\n",
       "<table border=\"1\" class=\"dataframe\">\n",
       "  <thead>\n",
       "    <tr style=\"text-align: right;\">\n",
       "      <th></th>\n",
       "      <th>icustayid</th>\n",
       "      <th>Glucose</th>\n",
       "      <th>paO2</th>\n",
       "      <th>PaO2_FiO2</th>\n",
       "      <th>IV Input</th>\n",
       "      <th>SOFA</th>\n",
       "      <th>Died within 48H</th>\n",
       "    </tr>\n",
       "  </thead>\n",
       "  <tbody>\n",
       "    <tr>\n",
       "      <th>0</th>\n",
       "      <td>1006</td>\n",
       "      <td>91.000</td>\n",
       "      <td>103.000000</td>\n",
       "      <td>206.000000</td>\n",
       "      <td>0.0</td>\n",
       "      <td>8</td>\n",
       "      <td>-1</td>\n",
       "    </tr>\n",
       "    <tr>\n",
       "      <th>1</th>\n",
       "      <td>1006</td>\n",
       "      <td>91.000</td>\n",
       "      <td>103.000000</td>\n",
       "      <td>206.000000</td>\n",
       "      <td>0.0</td>\n",
       "      <td>8</td>\n",
       "      <td>-1</td>\n",
       "    </tr>\n",
       "    <tr>\n",
       "      <th>2</th>\n",
       "      <td>1006</td>\n",
       "      <td>175.000</td>\n",
       "      <td>96.000000</td>\n",
       "      <td>100.173913</td>\n",
       "      <td>3.0</td>\n",
       "      <td>3</td>\n",
       "      <td>-1</td>\n",
       "    </tr>\n",
       "    <tr>\n",
       "      <th>3</th>\n",
       "      <td>1006</td>\n",
       "      <td>175.000</td>\n",
       "      <td>96.000000</td>\n",
       "      <td>96.000000</td>\n",
       "      <td>3.0</td>\n",
       "      <td>10</td>\n",
       "      <td>-1</td>\n",
       "    </tr>\n",
       "    <tr>\n",
       "      <th>4</th>\n",
       "      <td>1006</td>\n",
       "      <td>175.000</td>\n",
       "      <td>96.000000</td>\n",
       "      <td>96.000000</td>\n",
       "      <td>4.0</td>\n",
       "      <td>9</td>\n",
       "      <td>-1</td>\n",
       "    </tr>\n",
       "    <tr>\n",
       "      <th>5</th>\n",
       "      <td>1006</td>\n",
       "      <td>136.625</td>\n",
       "      <td>113.428571</td>\n",
       "      <td>148.758782</td>\n",
       "      <td>3.0</td>\n",
       "      <td>14</td>\n",
       "      <td>-1</td>\n",
       "    </tr>\n",
       "  </tbody>\n",
       "</table>\n",
       "</div>"
      ],
      "text/plain": [
       "   icustayid  Glucose        paO2   PaO2_FiO2  IV Input  SOFA  Died within 48H\n",
       "0       1006   91.000  103.000000  206.000000       0.0     8               -1\n",
       "1       1006   91.000  103.000000  206.000000       0.0     8               -1\n",
       "2       1006  175.000   96.000000  100.173913       3.0     3               -1\n",
       "3       1006  175.000   96.000000   96.000000       3.0    10               -1\n",
       "4       1006  175.000   96.000000   96.000000       4.0     9               -1\n",
       "5       1006  136.625  113.428571  148.758782       3.0    14               -1"
      ]
     },
     "execution_count": 3,
     "metadata": {},
     "output_type": "execute_result"
    }
   ],
   "source": [
    "mimic3_base = mimic3[['icustayid', 'Glucose','paO2','PaO2_FiO2',\n",
    "                           'iv_input', 'SOFA','died_within_48h_of_out_time']]\n",
    "mimic3_base['died_within_48h_of_out_time'] = - 2 * np.array(mimic3_base['died_within_48h_of_out_time']) + 1\n",
    "mimic3_base.columns = ['icustayid', 'Glucose','paO2','PaO2_FiO2',\n",
    "                           'IV Input', 'SOFA','Died within 48H'] \n",
    "mimic3_base.head(6)"
   ]
  },
  {
   "cell_type": "code",
   "execution_count": 4,
   "metadata": {},
   "outputs": [
    {
     "data": {
      "text/plain": [
       "(array([ 59., 120., 172., 140., 110.,  69.,  37.,  20.,  16.,  10.]),\n",
       " array([ 0. ,  1.9,  3.8,  5.7,  7.6,  9.5, 11.4, 13.3, 15.2, 17.1, 19. ]),\n",
       " <BarContainer object of 10 artists>)"
      ]
     },
     "execution_count": 4,
     "metadata": {},
     "output_type": "execute_result"
    },
    {
     "data": {
      "image/png": "[encoded data removed]",
      "text/plain": [
       "<Figure size 640x480 with 1 Axes>"
      ]
     },
     "metadata": {},
     "output_type": "display_data"
    }
   ],
   "source": [
    "plt.hist(mimic3_base['SOFA'])"
   ]
  },
  {
   "cell_type": "code",
   "execution_count": 5,
   "metadata": {},
   "outputs": [
    {
     "data": {
      "text/plain": [
       "(array([ 59.,  44.,  76.,  97.,  75., 140.,  66.,  44.,  47.,  44.]),\n",
       " array([ 0. ,  1.2,  2.4,  3.6,  4.8,  6. ,  7.2,  8.4,  9.6, 10.8, 12. ]),\n",
       " <BarContainer object of 10 artists>)"
      ]
     },
     "execution_count": 5,
     "metadata": {},
     "output_type": "execute_result"
    },
    {
     "data": {
      "image/png": "[encoded data removed]",
      "text/plain": [
       "<Figure size 640x480 with 1 Axes>"
      ]
     },
     "metadata": {},
     "output_type": "display_data"
    }
   ],
   "source": [
    "mimic_final = mimic3_base[mimic3_base['SOFA']<=12]\n",
    "plt.hist(mimic_final['SOFA'])"
   ]
  },
  {
   "cell_type": "code",
   "execution_count": 6,
   "metadata": {},
   "outputs": [
    {
     "data": {
      "text/html": [
       "<div>\n",
       "<style scoped>\n",
       "    .dataframe tbody tr th:only-of-type {\n",
       "        vertical-align: middle;\n",
       "    }\n",
       "\n",
       "    .dataframe tbody tr th {\n",
       "        vertical-align: top;\n",
       "    }\n",
       "\n",
       "    .dataframe thead th {\n",
       "        text-align: right;\n",
       "    }\n",
       "</style>\n",
       "<table border=\"1\" class=\"dataframe\">\n",
       "  <thead>\n",
       "    <tr style=\"text-align: right;\">\n",
       "      <th></th>\n",
       "      <th>icustayid</th>\n",
       "      <th>Glucose</th>\n",
       "      <th>paO2</th>\n",
       "      <th>PaO2_FiO2</th>\n",
       "      <th>IV Input</th>\n",
       "      <th>SOFA</th>\n",
       "      <th>Died within 48H</th>\n",
       "    </tr>\n",
       "  </thead>\n",
       "  <tbody>\n",
       "    <tr>\n",
       "      <th>0</th>\n",
       "      <td>1006</td>\n",
       "      <td>91.000000</td>\n",
       "      <td>103.000000</td>\n",
       "      <td>206.000000</td>\n",
       "      <td>0.0</td>\n",
       "      <td>8</td>\n",
       "      <td>-1</td>\n",
       "    </tr>\n",
       "    <tr>\n",
       "      <th>1</th>\n",
       "      <td>1006</td>\n",
       "      <td>91.000000</td>\n",
       "      <td>103.000000</td>\n",
       "      <td>206.000000</td>\n",
       "      <td>0.0</td>\n",
       "      <td>8</td>\n",
       "      <td>-1</td>\n",
       "    </tr>\n",
       "    <tr>\n",
       "      <th>2</th>\n",
       "      <td>1006</td>\n",
       "      <td>175.000000</td>\n",
       "      <td>96.000000</td>\n",
       "      <td>100.173913</td>\n",
       "      <td>3.0</td>\n",
       "      <td>3</td>\n",
       "      <td>-1</td>\n",
       "    </tr>\n",
       "    <tr>\n",
       "      <th>3</th>\n",
       "      <td>1006</td>\n",
       "      <td>175.000000</td>\n",
       "      <td>96.000000</td>\n",
       "      <td>96.000000</td>\n",
       "      <td>3.0</td>\n",
       "      <td>10</td>\n",
       "      <td>-1</td>\n",
       "    </tr>\n",
       "    <tr>\n",
       "      <th>4</th>\n",
       "      <td>1006</td>\n",
       "      <td>175.000000</td>\n",
       "      <td>96.000000</td>\n",
       "      <td>96.000000</td>\n",
       "      <td>4.0</td>\n",
       "      <td>9</td>\n",
       "      <td>-1</td>\n",
       "    </tr>\n",
       "    <tr>\n",
       "      <th>...</th>\n",
       "      <td>...</td>\n",
       "      <td>...</td>\n",
       "      <td>...</td>\n",
       "      <td>...</td>\n",
       "      <td>...</td>\n",
       "      <td>...</td>\n",
       "      <td>...</td>\n",
       "    </tr>\n",
       "    <tr>\n",
       "      <th>748</th>\n",
       "      <td>98685</td>\n",
       "      <td>120.142857</td>\n",
       "      <td>71.000000</td>\n",
       "      <td>142.000000</td>\n",
       "      <td>3.0</td>\n",
       "      <td>9</td>\n",
       "      <td>-1</td>\n",
       "    </tr>\n",
       "    <tr>\n",
       "      <th>749</th>\n",
       "      <td>98685</td>\n",
       "      <td>168.200000</td>\n",
       "      <td>71.000000</td>\n",
       "      <td>142.000000</td>\n",
       "      <td>2.0</td>\n",
       "      <td>7</td>\n",
       "      <td>-1</td>\n",
       "    </tr>\n",
       "    <tr>\n",
       "      <th>750</th>\n",
       "      <td>98685</td>\n",
       "      <td>182.000000</td>\n",
       "      <td>73.500000</td>\n",
       "      <td>105.000000</td>\n",
       "      <td>4.0</td>\n",
       "      <td>11</td>\n",
       "      <td>-1</td>\n",
       "    </tr>\n",
       "    <tr>\n",
       "      <th>751</th>\n",
       "      <td>98685</td>\n",
       "      <td>190.545455</td>\n",
       "      <td>79.818182</td>\n",
       "      <td>133.030303</td>\n",
       "      <td>1.0</td>\n",
       "      <td>6</td>\n",
       "      <td>-1</td>\n",
       "    </tr>\n",
       "    <tr>\n",
       "      <th>752</th>\n",
       "      <td>98685</td>\n",
       "      <td>190.000000</td>\n",
       "      <td>118.000000</td>\n",
       "      <td>196.666667</td>\n",
       "      <td>4.0</td>\n",
       "      <td>6</td>\n",
       "      <td>-1</td>\n",
       "    </tr>\n",
       "  </tbody>\n",
       "</table>\n",
       "<p>692 rows × 7 columns</p>\n",
       "</div>"
      ],
      "text/plain": [
       "     icustayid     Glucose        paO2   PaO2_FiO2  IV Input  SOFA  \\\n",
       "0         1006   91.000000  103.000000  206.000000       0.0     8   \n",
       "1         1006   91.000000  103.000000  206.000000       0.0     8   \n",
       "2         1006  175.000000   96.000000  100.173913       3.0     3   \n",
       "3         1006  175.000000   96.000000   96.000000       3.0    10   \n",
       "4         1006  175.000000   96.000000   96.000000       4.0     9   \n",
       "..         ...         ...         ...         ...       ...   ...   \n",
       "748      98685  120.142857   71.000000  142.000000       3.0     9   \n",
       "749      98685  168.200000   71.000000  142.000000       2.0     7   \n",
       "750      98685  182.000000   73.500000  105.000000       4.0    11   \n",
       "751      98685  190.545455   79.818182  133.030303       1.0     6   \n",
       "752      98685  190.000000  118.000000  196.666667       4.0     6   \n",
       "\n",
       "     Died within 48H  \n",
       "0                 -1  \n",
       "1                 -1  \n",
       "2                 -1  \n",
       "3                 -1  \n",
       "4                 -1  \n",
       "..               ...  \n",
       "748               -1  \n",
       "749               -1  \n",
       "750               -1  \n",
       "751               -1  \n",
       "752               -1  \n",
       "\n",
       "[692 rows x 7 columns]"
      ]
     },
     "execution_count": 6,
     "metadata": {},
     "output_type": "execute_result"
    }
   ],
   "source": [
    "with open('mimic3_multi_stages.pickle', 'wb') as handle:\n",
    "    pickle.dump(mimic_final, handle)\n",
    "    \n",
    "mimic_final.to_csv (r'mimic3_multi_stages.csv', index = False, header=True)\n",
    "\n",
    "mimic_final"
   ]
  },
  {
   "cell_type": "code",
   "execution_count": 7,
   "metadata": {},
   "outputs": [
    {
     "name": "stderr",
     "output_type": "stream",
     "text": [
      "/var/folders/9j/vb5nb4rd5bx0gr1q5ytx9q600000gn/T/ipykernel_14958/1767327135.py:8: SettingWithCopyWarning: \n",
      "A value is trying to be set on a copy of a slice from a DataFrame.\n",
      "Try using .loc[row_indexer,col_indexer] = value instead\n",
      "\n",
      "See the caveats in the documentation: https://pandas.pydata.org/pandas-docs/stable/user_guide/indexing.html#returning-a-view-versus-a-copy\n",
      "  mimic3_sample['SOFA'] = new_sofa\n"
     ]
    }
   ],
   "source": [
    "# ----------- Set lag data\n",
    "lag_k = 1\n",
    "    \n",
    "#     new_sofa = list(np.array(mimic_final['SOFA'][lag_k:]) - np.array(mimic_final['SOFA'][:-lag_k]))\n",
    "\n",
    "new_sofa = np.array(mimic_final['SOFA'][:-lag_k])\n",
    "mimic3_sample = mimic_final.iloc[lag_k:]\n",
    "mimic3_sample['SOFA'] = new_sofa\n",
    "mimic3_data = mimic3_sample.groupby('icustayid').mean().reset_index() \n",
    " "
   ]
  },
  {
   "cell_type": "code",
   "execution_count": 8,
   "metadata": {},
   "outputs": [
    {
     "data": {
      "text/html": [
       "<div>\n",
       "<style scoped>\n",
       "    .dataframe tbody tr th:only-of-type {\n",
       "        vertical-align: middle;\n",
       "    }\n",
       "\n",
       "    .dataframe tbody tr th {\n",
       "        vertical-align: top;\n",
       "    }\n",
       "\n",
       "    .dataframe thead th {\n",
       "        text-align: right;\n",
       "    }\n",
       "</style>\n",
       "<table border=\"1\" class=\"dataframe\">\n",
       "  <thead>\n",
       "    <tr style=\"text-align: right;\">\n",
       "      <th></th>\n",
       "      <th>icustayid</th>\n",
       "      <th>Glucose</th>\n",
       "      <th>paO2</th>\n",
       "      <th>PaO2_FiO2</th>\n",
       "      <th>IV Input</th>\n",
       "      <th>SOFA</th>\n",
       "      <th>Died within 48H</th>\n",
       "    </tr>\n",
       "  </thead>\n",
       "  <tbody>\n",
       "    <tr>\n",
       "      <th>0</th>\n",
       "      <td>1006</td>\n",
       "      <td>152.000000</td>\n",
       "      <td>100.200000</td>\n",
       "      <td>137.081590</td>\n",
       "      <td>2.800000</td>\n",
       "      <td>7.600000</td>\n",
       "      <td>-1.0</td>\n",
       "    </tr>\n",
       "    <tr>\n",
       "      <th>1</th>\n",
       "      <td>1204</td>\n",
       "      <td>138.794872</td>\n",
       "      <td>127.782051</td>\n",
       "      <td>430.668956</td>\n",
       "      <td>1.153846</td>\n",
       "      <td>6.153846</td>\n",
       "      <td>1.0</td>\n",
       "    </tr>\n",
       "    <tr>\n",
       "      <th>2</th>\n",
       "      <td>4132</td>\n",
       "      <td>129.364286</td>\n",
       "      <td>123.956461</td>\n",
       "      <td>252.883864</td>\n",
       "      <td>3.000000</td>\n",
       "      <td>4.600000</td>\n",
       "      <td>-1.0</td>\n",
       "    </tr>\n",
       "    <tr>\n",
       "      <th>3</th>\n",
       "      <td>4201</td>\n",
       "      <td>145.580087</td>\n",
       "      <td>118.083333</td>\n",
       "      <td>539.065657</td>\n",
       "      <td>1.363636</td>\n",
       "      <td>5.818182</td>\n",
       "      <td>1.0</td>\n",
       "    </tr>\n",
       "    <tr>\n",
       "      <th>4</th>\n",
       "      <td>5170</td>\n",
       "      <td>174.525000</td>\n",
       "      <td>147.350198</td>\n",
       "      <td>394.616727</td>\n",
       "      <td>2.437500</td>\n",
       "      <td>4.125000</td>\n",
       "      <td>1.0</td>\n",
       "    </tr>\n",
       "    <tr>\n",
       "      <th>5</th>\n",
       "      <td>6504</td>\n",
       "      <td>106.081169</td>\n",
       "      <td>88.836364</td>\n",
       "      <td>423.030303</td>\n",
       "      <td>0.363636</td>\n",
       "      <td>5.090909</td>\n",
       "      <td>1.0</td>\n",
       "    </tr>\n",
       "  </tbody>\n",
       "</table>\n",
       "</div>"
      ],
      "text/plain": [
       "   icustayid     Glucose        paO2   PaO2_FiO2  IV Input      SOFA  \\\n",
       "0       1006  152.000000  100.200000  137.081590  2.800000  7.600000   \n",
       "1       1204  138.794872  127.782051  430.668956  1.153846  6.153846   \n",
       "2       4132  129.364286  123.956461  252.883864  3.000000  4.600000   \n",
       "3       4201  145.580087  118.083333  539.065657  1.363636  5.818182   \n",
       "4       5170  174.525000  147.350198  394.616727  2.437500  4.125000   \n",
       "5       6504  106.081169   88.836364  423.030303  0.363636  5.090909   \n",
       "\n",
       "   Died within 48H  \n",
       "0             -1.0  \n",
       "1              1.0  \n",
       "2             -1.0  \n",
       "3              1.0  \n",
       "4              1.0  \n",
       "5              1.0  "
      ]
     },
     "execution_count": 8,
     "metadata": {},
     "output_type": "execute_result"
    }
   ],
   "source": [
    "with open('mimic3_single_stage.pickle', 'wb') as handle:\n",
    "    pickle.dump(mimic3_data, handle)\n",
    "    \n",
    "mimic3_data.to_csv (r'mimic3_single_stage.csv', index = False, header=True)\n",
    " \n",
    "mimic3_data.head(6)"
   ]
  },
  {
   "cell_type": "code",
   "execution_count": 9,
   "metadata": {},
   "outputs": [
    {
     "data": {
      "image/png": "[encoded data removed]",
      "text/plain": [
       "<Figure size 600x600 with 2 Axes>"
      ]
     },
     "metadata": {},
     "output_type": "display_data"
    }
   ],
   "source": [
    "# ----------- Estimated DAG based on NOTEARS\n",
    "\n",
    "mimic3_data_final = mimic3_data  \n",
    "\n",
    "selected = ['Glucose','paO2','PaO2_FiO2', 'IV Input', 'SOFA','Died within 48H']\n",
    "\n",
    "smaple_demo = mimic3_data_final[selected]\n",
    "est_mt = notears_linear(np.array(smaple_demo), lambda1=0, loss_type='l2',w_threshold=0.1)\n",
    "\n",
    "# ----------- Plot Associated Matrix for the Estimated DAG based on NOTEARS\n",
    "\n",
    "plot_mt(est_mt, labels_name=selected, file_name='demo_res_mt')\n",
    "\n",
    "# calculate_effect(est_mt)"
   ]
  },
  {
   "cell_type": "code",
   "execution_count": 10,
   "metadata": {},
   "outputs": [
    {
     "data": {
      "image/png": "[encoded data removed]",
      "text/plain": [
       "<Figure size 640x480 with 1 Axes>"
      ]
     },
     "metadata": {},
     "output_type": "display_data"
    }
   ],
   "source": [
    "plot_net(est_mt, labels_name=selected, file_name='demo_res_net')\n",
    "\n"
   ]
  },
  {
   "cell_type": "code",
   "execution_count": 11,
   "metadata": {},
   "outputs": [
    {
     "name": "stdout",
     "output_type": "stream",
     "text": [
      "The total effect (FSTE): [-0.81464196 -1.7182284  36.79568369 -0.35571593 -0.70458444]\n",
      "The natural direct effect (FSDE): [ 0.49979442 -2.25446085 33.25575045 -0.35571593 -0.70458444]\n",
      "The natural indirect effect (FSIE): [-1.31443638  0.53623245  3.53993324  0.          0.        ]\n"
     ]
    },
    {
     "data": {
      "text/plain": [
       "(array([-0.81464196, -1.7182284 , 36.79568369, -0.35571593, -0.70458444]),\n",
       " array([ 0.49979442, -2.25446085, 33.25575045, -0.35571593, -0.70458444]),\n",
       " array([-1.31443638,  0.53623245,  3.53993324,  0.        ,  0.        ]))"
      ]
     },
     "execution_count": 11,
     "metadata": {},
     "output_type": "execute_result"
    }
   ],
   "source": [
    "calculate_effect(est_mt)"
   ]
  },
  {
   "cell_type": "markdown",
   "metadata": {
    "id": "eIsUfYIUgymO"
   },
   "source": [
    "## Causal Effect Learning"
   ]
  },
  {
   "cell_type": "code",
   "execution_count": 12,
   "metadata": {
    "colab": {
     "base_uri": "https://localhost:8080/"
    },
    "executionInfo": {
     "elapsed": 323,
     "status": "ok",
     "timestamp": 1677269829499,
     "user": {
      "displayName": "Yang Xu",
      "userId": "12270366590264264299"
     },
     "user_tz": 300
    },
    "id": "ojZ70sT9yhLU",
    "outputId": "6575f091-2674-4e70-9e56-bf43d73005b8"
   },
   "outputs": [
    {
     "data": {
      "text/plain": [
       "Index(['icustayid', 'Glucose', 'paO2', 'PaO2_FiO2', 'IV Input', 'SOFA',\n",
       "       'Died within 48H'],\n",
       "      dtype='object')"
      ]
     },
     "execution_count": 12,
     "metadata": {},
     "output_type": "execute_result"
    }
   ],
   "source": [
    "mimic3_data.columns"
   ]
  },
  {
   "cell_type": "code",
   "execution_count": 13,
   "metadata": {},
   "outputs": [
    {
     "data": {
      "text/html": [
       "<div>\n",
       "<style scoped>\n",
       "    .dataframe tbody tr th:only-of-type {\n",
       "        vertical-align: middle;\n",
       "    }\n",
       "\n",
       "    .dataframe tbody tr th {\n",
       "        vertical-align: top;\n",
       "    }\n",
       "\n",
       "    .dataframe thead th {\n",
       "        text-align: right;\n",
       "    }\n",
       "</style>\n",
       "<table border=\"1\" class=\"dataframe\">\n",
       "  <thead>\n",
       "    <tr style=\"text-align: right;\">\n",
       "      <th></th>\n",
       "      <th>icustayid</th>\n",
       "      <th>Glucose</th>\n",
       "      <th>paO2</th>\n",
       "      <th>PaO2_FiO2</th>\n",
       "      <th>IV Input</th>\n",
       "      <th>SOFA</th>\n",
       "      <th>Died within 48H</th>\n",
       "    </tr>\n",
       "  </thead>\n",
       "  <tbody>\n",
       "    <tr>\n",
       "      <th>0</th>\n",
       "      <td>1006</td>\n",
       "      <td>152.000000</td>\n",
       "      <td>100.200000</td>\n",
       "      <td>137.081590</td>\n",
       "      <td>2.800000</td>\n",
       "      <td>7.600000</td>\n",
       "      <td>-1.0</td>\n",
       "    </tr>\n",
       "    <tr>\n",
       "      <th>1</th>\n",
       "      <td>1204</td>\n",
       "      <td>138.794872</td>\n",
       "      <td>127.782051</td>\n",
       "      <td>430.668956</td>\n",
       "      <td>1.153846</td>\n",
       "      <td>6.153846</td>\n",
       "      <td>1.0</td>\n",
       "    </tr>\n",
       "    <tr>\n",
       "      <th>2</th>\n",
       "      <td>4132</td>\n",
       "      <td>129.364286</td>\n",
       "      <td>123.956461</td>\n",
       "      <td>252.883864</td>\n",
       "      <td>3.000000</td>\n",
       "      <td>4.600000</td>\n",
       "      <td>-1.0</td>\n",
       "    </tr>\n",
       "    <tr>\n",
       "      <th>3</th>\n",
       "      <td>4201</td>\n",
       "      <td>145.580087</td>\n",
       "      <td>118.083333</td>\n",
       "      <td>539.065657</td>\n",
       "      <td>1.363636</td>\n",
       "      <td>5.818182</td>\n",
       "      <td>1.0</td>\n",
       "    </tr>\n",
       "    <tr>\n",
       "      <th>4</th>\n",
       "      <td>5170</td>\n",
       "      <td>174.525000</td>\n",
       "      <td>147.350198</td>\n",
       "      <td>394.616727</td>\n",
       "      <td>2.437500</td>\n",
       "      <td>4.125000</td>\n",
       "      <td>1.0</td>\n",
       "    </tr>\n",
       "    <tr>\n",
       "      <th>5</th>\n",
       "      <td>6504</td>\n",
       "      <td>106.081169</td>\n",
       "      <td>88.836364</td>\n",
       "      <td>423.030303</td>\n",
       "      <td>0.363636</td>\n",
       "      <td>5.090909</td>\n",
       "      <td>1.0</td>\n",
       "    </tr>\n",
       "  </tbody>\n",
       "</table>\n",
       "</div>"
      ],
      "text/plain": [
       "   icustayid     Glucose        paO2   PaO2_FiO2  IV Input      SOFA  \\\n",
       "0       1006  152.000000  100.200000  137.081590  2.800000  7.600000   \n",
       "1       1204  138.794872  127.782051  430.668956  1.153846  6.153846   \n",
       "2       4132  129.364286  123.956461  252.883864  3.000000  4.600000   \n",
       "3       4201  145.580087  118.083333  539.065657  1.363636  5.818182   \n",
       "4       5170  174.525000  147.350198  394.616727  2.437500  4.125000   \n",
       "5       6504  106.081169   88.836364  423.030303  0.363636  5.090909   \n",
       "\n",
       "   Died within 48H  \n",
       "0             -1.0  \n",
       "1              1.0  \n",
       "2             -1.0  \n",
       "3              1.0  \n",
       "4              1.0  \n",
       "5              1.0  "
      ]
     },
     "execution_count": 13,
     "metadata": {},
     "output_type": "execute_result"
    }
   ],
   "source": [
    "mimic3_data.head(6)"
   ]
  },
  {
   "cell_type": "markdown",
   "metadata": {},
   "source": [
    "According to the amount of fluid administraition throughout the entire treatment period, we plot the average IV input for each patient as below:"
   ]
  },
  {
   "cell_type": "code",
   "execution_count": 14,
   "metadata": {},
   "outputs": [
    {
     "data": {
      "text/plain": [
       "(array([9., 2., 7., 7., 1., 9., 8., 5., 4., 5.]),\n",
       " array([0.        , 0.35384615, 0.70769231, 1.06153846, 1.41538462,\n",
       "        1.76923077, 2.12307692, 2.47692308, 2.83076923, 3.18461538,\n",
       "        3.53846154]),\n",
       " <BarContainer object of 10 artists>)"
      ]
     },
     "execution_count": 14,
     "metadata": {},
     "output_type": "execute_result"
    },
    {
     "data": {
      "image/png": "[encoded data removed]",
      "text/plain": [
       "<Figure size 640x480 with 1 Axes>"
      ]
     },
     "metadata": {},
     "output_type": "display_data"
    }
   ],
   "source": [
    "plt.hist(mimic3_data['IV Input'])"
   ]
  },
  {
   "cell_type": "markdown",
   "metadata": {},
   "source": [
    "As we can see from the histogram above, there is a small gap when the average IV Input is around $1.5$. This gap naturally split the data into two treatment groups: \"High-IV-Input\" group and \"Low-IV-Input\" group. We are interested in whether the highe level fluid intake treatment is able to decrease the SOFA score and the death rate of patients within 48 hours of administration.\n",
    "\n",
    "Motivated by this problem, we set the \"High-IV-Input\" group as the treatment group with $A=1$, and set the \"Low-IV-Input\" group as the control group with $A=0$. "
   ]
  },
  {
   "cell_type": "code",
   "execution_count": 15,
   "metadata": {
    "colab": {
     "base_uri": "https://localhost:8080/",
     "height": 1000
    },
    "executionInfo": {
     "elapsed": 513,
     "status": "ok",
     "timestamp": 1677270163549,
     "user": {
      "displayName": "Yang Xu",
      "userId": "12270366590264264299"
     },
     "user_tz": 300
    },
    "id": "y7j14bbBY7nL",
    "outputId": "6f100577-4b1e-4bc9-d1d3-09aaf7cf3220"
   },
   "outputs": [
    {
     "data": {
      "text/html": [
       "<div>\n",
       "<style scoped>\n",
       "    .dataframe tbody tr th:only-of-type {\n",
       "        vertical-align: middle;\n",
       "    }\n",
       "\n",
       "    .dataframe tbody tr th {\n",
       "        vertical-align: top;\n",
       "    }\n",
       "\n",
       "    .dataframe thead th {\n",
       "        text-align: right;\n",
       "    }\n",
       "</style>\n",
       "<table border=\"1\" class=\"dataframe\">\n",
       "  <thead>\n",
       "    <tr style=\"text-align: right;\">\n",
       "      <th></th>\n",
       "      <th>icustayid</th>\n",
       "      <th>Glucose</th>\n",
       "      <th>paO2</th>\n",
       "      <th>PaO2_FiO2</th>\n",
       "      <th>IV Input</th>\n",
       "      <th>SOFA</th>\n",
       "      <th>Died within 48H</th>\n",
       "    </tr>\n",
       "  </thead>\n",
       "  <tbody>\n",
       "    <tr>\n",
       "      <th>0</th>\n",
       "      <td>1006</td>\n",
       "      <td>152.000000</td>\n",
       "      <td>100.200000</td>\n",
       "      <td>137.081590</td>\n",
       "      <td>1.0</td>\n",
       "      <td>7.600000</td>\n",
       "      <td>-1.0</td>\n",
       "    </tr>\n",
       "    <tr>\n",
       "      <th>1</th>\n",
       "      <td>1204</td>\n",
       "      <td>138.794872</td>\n",
       "      <td>127.782051</td>\n",
       "      <td>430.668956</td>\n",
       "      <td>0.0</td>\n",
       "      <td>6.153846</td>\n",
       "      <td>1.0</td>\n",
       "    </tr>\n",
       "    <tr>\n",
       "      <th>2</th>\n",
       "      <td>4132</td>\n",
       "      <td>129.364286</td>\n",
       "      <td>123.956461</td>\n",
       "      <td>252.883864</td>\n",
       "      <td>1.0</td>\n",
       "      <td>4.600000</td>\n",
       "      <td>-1.0</td>\n",
       "    </tr>\n",
       "    <tr>\n",
       "      <th>3</th>\n",
       "      <td>4201</td>\n",
       "      <td>145.580087</td>\n",
       "      <td>118.083333</td>\n",
       "      <td>539.065657</td>\n",
       "      <td>0.0</td>\n",
       "      <td>5.818182</td>\n",
       "      <td>1.0</td>\n",
       "    </tr>\n",
       "    <tr>\n",
       "      <th>4</th>\n",
       "      <td>5170</td>\n",
       "      <td>174.525000</td>\n",
       "      <td>147.350198</td>\n",
       "      <td>394.616727</td>\n",
       "      <td>1.0</td>\n",
       "      <td>4.125000</td>\n",
       "      <td>1.0</td>\n",
       "    </tr>\n",
       "    <tr>\n",
       "      <th>5</th>\n",
       "      <td>6504</td>\n",
       "      <td>106.081169</td>\n",
       "      <td>88.836364</td>\n",
       "      <td>423.030303</td>\n",
       "      <td>0.0</td>\n",
       "      <td>5.090909</td>\n",
       "      <td>1.0</td>\n",
       "    </tr>\n",
       "  </tbody>\n",
       "</table>\n",
       "</div>"
      ],
      "text/plain": [
       "   icustayid     Glucose        paO2   PaO2_FiO2  IV Input      SOFA  \\\n",
       "0       1006  152.000000  100.200000  137.081590       1.0  7.600000   \n",
       "1       1204  138.794872  127.782051  430.668956       0.0  6.153846   \n",
       "2       4132  129.364286  123.956461  252.883864       1.0  4.600000   \n",
       "3       4201  145.580087  118.083333  539.065657       0.0  5.818182   \n",
       "4       5170  174.525000  147.350198  394.616727       1.0  4.125000   \n",
       "5       6504  106.081169   88.836364  423.030303       0.0  5.090909   \n",
       "\n",
       "   Died within 48H  \n",
       "0             -1.0  \n",
       "1              1.0  \n",
       "2             -1.0  \n",
       "3              1.0  \n",
       "4              1.0  \n",
       "5              1.0  "
      ]
     },
     "execution_count": 15,
     "metadata": {},
     "output_type": "execute_result"
    }
   ],
   "source": [
    "data_CEL_selected = mimic3_data.copy()\n",
    "data_CEL_selected.iloc[np.where(data_CEL_selected['IV Input']<=1.5)[0],4]=0 # change the discrete action to binary\n",
    "data_CEL_selected.iloc[np.where(data_CEL_selected['IV Input']>1.5)[0],4]=1 # change the discrete action to binary\n",
    "\n",
    "data_CEL_selected.head(6)"
   ]
  },
  {
   "cell_type": "code",
   "execution_count": 16,
   "metadata": {},
   "outputs": [
    {
     "name": "stdout",
     "output_type": "stream",
     "text": [
      "The number of patients in treatment group is  32 ;\n",
      " The number of patients in control group is  25 .\n"
     ]
    }
   ],
   "source": [
    "print( \"The number of patients in treatment group is \", len(np.where(mimic3_data['IV Input']>1.5)[0]), \";\\n\", \"The number of patients in control group is \", len(np.where(mimic3_data['IV Input']<=1.5)[0]),\".\")"
   ]
  },
  {
   "cell_type": "markdown",
   "metadata": {},
   "source": [
    "### Regard 'Died_Within_48H' as the outcome variable"
   ]
  },
  {
   "cell_type": "code",
   "execution_count": 17,
   "metadata": {
    "id": "3Mc2lnW22r03"
   },
   "outputs": [],
   "source": [
    "userinfo_index = np.array([1,2,3])\n",
    "# outcome: Died within 48H (binary)\n",
    "# treatment: IV Input (binary)\n",
    "# Glucose, paO2, PaO2_FiO2: covariates"
   ]
  },
  {
   "cell_type": "code",
   "execution_count": 18,
   "metadata": {
    "id": "adpxOHEt2sxV"
   },
   "outputs": [],
   "source": [
    "#from lightgbm import LGBMRegressor\n",
    "from sklearn.ensemble import GradientBoostingClassifier\n",
    "from sklearn.linear_model import LogisticRegression\n",
    "\n",
    "#mu0 = GradientBoostingClassifier(max_depth=2)\n",
    "#mu1 = GradientBoostingClassifier(max_depth=2)\n",
    "\n",
    "mu0 = LogisticRegression()\n",
    "mu1 = LogisticRegression()\n",
    "\n",
    "mu0.fit(data_CEL_selected.iloc[np.where(data_CEL_selected['IV Input']==0)[0],userinfo_index],data_CEL_selected.iloc[np.where(data_CEL_selected['IV Input']==0)[0],6] )\n",
    "mu1.fit(data_CEL_selected.iloc[np.where(data_CEL_selected['IV Input']==1)[0],userinfo_index],data_CEL_selected.iloc[np.where(data_CEL_selected['IV Input']==1)[0],6] )\n",
    "\n",
    "\n",
    "# estimate the HTE by T-learner\n",
    "HTE_T_learner = (mu1.predict_proba(data_CEL_selected.iloc[:,userinfo_index]) - mu0.predict_proba(data_CEL_selected.iloc[:,userinfo_index]))[:,1]"
   ]
  },
  {
   "cell_type": "code",
   "execution_count": 19,
   "metadata": {
    "colab": {
     "base_uri": "https://localhost:8080/"
    },
    "executionInfo": {
     "elapsed": 9,
     "status": "ok",
     "timestamp": 1677272143737,
     "user": {
      "displayName": "Yang Xu",
      "userId": "12270366590264264299"
     },
     "user_tz": 300
    },
    "id": "ISd7y7yMfxaj",
    "outputId": "c2fc923c-a17b-454b-8b73-197974975938"
   },
   "outputs": [
    {
     "data": {
      "text/plain": [
       "array([-0.42850795, -0.04122985, -0.37054069, -0.0055272 , -0.10384686,\n",
       "       -0.01457029, -0.16909439, -0.28221447, -0.05764574, -0.008193  ,\n",
       "       -0.30211856, -0.0551675 , -0.01006845, -0.09689565, -0.10600407,\n",
       "       -0.18238777, -0.44978522, -0.19716563, -0.289073  , -0.03827421,\n",
       "       -0.22619666, -0.1875545 , -0.23778146, -0.20841167,  0.73958005,\n",
       "       -0.11909299, -0.09661241, -0.15624675, -0.3466977 , -0.42682439,\n",
       "       -0.353852  , -0.12244475, -0.53581201, -0.38763738, -0.00624024,\n",
       "       -0.02708992, -0.08227609, -0.09644005, -0.19550407, -0.30207966,\n",
       "       -0.03525717, -0.34339108, -0.30668368, -0.11740263, -0.23538089,\n",
       "       -0.41147115, -0.46029296, -0.10346963, -0.51161134, -0.04498817,\n",
       "       -0.18302802, -0.21907476, -0.54002382, -0.23518752, -0.06635588,\n",
       "       -0.83090637, -0.3999141 ])"
      ]
     },
     "execution_count": 19,
     "metadata": {},
     "output_type": "execute_result"
    }
   ],
   "source": [
    "HTE_T_learner"
   ]
  },
  {
   "cell_type": "markdown",
   "metadata": {},
   "source": [
    "As we can see from the estimated treatment effect of each patient, a higher volumn of fluid intake is inclined to cause negative impact on patients' health status. This may seem counterintuitive to us, which may indicates some selection bias within this small dataset. Despite so, this result also remind us to pay attention to the potentially unnecessary fluid intake that may increase the death rate of patients."
   ]
  },
  {
   "cell_type": "code",
   "execution_count": 20,
   "metadata": {
    "colab": {
     "base_uri": "https://localhost:8080/"
    },
    "executionInfo": {
     "elapsed": 316,
     "status": "ok",
     "timestamp": 1677272249975,
     "user": {
      "displayName": "Yang Xu",
      "userId": "12270366590264264299"
     },
     "user_tz": 300
    },
    "id": "Ocg3mO6FNt5r",
    "outputId": "bac18519-05d1-4762-d68e-715e5e4fd380"
   },
   "outputs": [
    {
     "data": {
      "text/plain": [
       "array([ 0, 32, 48, 52, 55])"
      ]
     },
     "execution_count": 20,
     "metadata": {},
     "output_type": "execute_result"
    }
   ],
   "source": [
    "np.where(mu1.predict(data_CEL_selected.iloc[:,userinfo_index])-mu0.predict(data_CEL_selected.iloc[:,userinfo_index])==-2)[0]"
   ]
  },
  {
   "cell_type": "markdown",
   "metadata": {},
   "source": [
    "Patient # {0, 32, 48, 52, 55} might be the sufferer of the over intake of fluid."
   ]
  },
  {
   "cell_type": "code",
   "execution_count": 21,
   "metadata": {
    "colab": {
     "base_uri": "https://localhost:8080/"
    },
    "executionInfo": {
     "elapsed": 154,
     "status": "ok",
     "timestamp": 1677273527549,
     "user": {
      "displayName": "Yang Xu",
      "userId": "12270366590264264299"
     },
     "user_tz": 300
    },
    "id": "RJy5OzfySqNs",
    "outputId": "98357963-dd0b-4d24-bd24-a4f10af25a46"
   },
   "outputs": [
    {
     "data": {
      "text/plain": [
       "-0.20399937380848096"
      ]
     },
     "execution_count": 21,
     "metadata": {},
     "output_type": "execute_result"
    }
   ],
   "source": [
    "sum(HTE_T_learner)/len(data_CEL_selected)"
   ]
  },
  {
   "cell_type": "markdown",
   "metadata": {
    "id": "ioQiappWTgS_"
   },
   "source": [
    "Overall, IV Input is expected to increase the death-within-48-hours rate of all patients by 20.40%."
   ]
  },
  {
   "cell_type": "markdown",
   "metadata": {
    "id": "SHO2G3M-il9b"
   },
   "source": [
    "### Regard 'SOFA' as the outcome variable"
   ]
  },
  {
   "cell_type": "code",
   "execution_count": 22,
   "metadata": {
    "id": "yPRDCMu5jOKZ"
   },
   "outputs": [
    {
     "data": {
      "text/html": [
       "<div>\n",
       "<style scoped>\n",
       "    .dataframe tbody tr th:only-of-type {\n",
       "        vertical-align: middle;\n",
       "    }\n",
       "\n",
       "    .dataframe tbody tr th {\n",
       "        vertical-align: top;\n",
       "    }\n",
       "\n",
       "    .dataframe thead th {\n",
       "        text-align: right;\n",
       "    }\n",
       "</style>\n",
       "<table border=\"1\" class=\"dataframe\">\n",
       "  <thead>\n",
       "    <tr style=\"text-align: right;\">\n",
       "      <th></th>\n",
       "      <th>icustayid</th>\n",
       "      <th>Glucose</th>\n",
       "      <th>paO2</th>\n",
       "      <th>PaO2_FiO2</th>\n",
       "      <th>IV Input</th>\n",
       "      <th>SOFA</th>\n",
       "      <th>Died within 48H</th>\n",
       "    </tr>\n",
       "  </thead>\n",
       "  <tbody>\n",
       "    <tr>\n",
       "      <th>0</th>\n",
       "      <td>1006</td>\n",
       "      <td>152.000000</td>\n",
       "      <td>100.200000</td>\n",
       "      <td>137.081590</td>\n",
       "      <td>1.0</td>\n",
       "      <td>7.600000</td>\n",
       "      <td>-1.0</td>\n",
       "    </tr>\n",
       "    <tr>\n",
       "      <th>1</th>\n",
       "      <td>1204</td>\n",
       "      <td>138.794872</td>\n",
       "      <td>127.782051</td>\n",
       "      <td>430.668956</td>\n",
       "      <td>0.0</td>\n",
       "      <td>6.153846</td>\n",
       "      <td>1.0</td>\n",
       "    </tr>\n",
       "    <tr>\n",
       "      <th>2</th>\n",
       "      <td>4132</td>\n",
       "      <td>129.364286</td>\n",
       "      <td>123.956461</td>\n",
       "      <td>252.883864</td>\n",
       "      <td>1.0</td>\n",
       "      <td>4.600000</td>\n",
       "      <td>-1.0</td>\n",
       "    </tr>\n",
       "    <tr>\n",
       "      <th>3</th>\n",
       "      <td>4201</td>\n",
       "      <td>145.580087</td>\n",
       "      <td>118.083333</td>\n",
       "      <td>539.065657</td>\n",
       "      <td>0.0</td>\n",
       "      <td>5.818182</td>\n",
       "      <td>1.0</td>\n",
       "    </tr>\n",
       "    <tr>\n",
       "      <th>4</th>\n",
       "      <td>5170</td>\n",
       "      <td>174.525000</td>\n",
       "      <td>147.350198</td>\n",
       "      <td>394.616727</td>\n",
       "      <td>1.0</td>\n",
       "      <td>4.125000</td>\n",
       "      <td>1.0</td>\n",
       "    </tr>\n",
       "    <tr>\n",
       "      <th>5</th>\n",
       "      <td>6504</td>\n",
       "      <td>106.081169</td>\n",
       "      <td>88.836364</td>\n",
       "      <td>423.030303</td>\n",
       "      <td>0.0</td>\n",
       "      <td>5.090909</td>\n",
       "      <td>1.0</td>\n",
       "    </tr>\n",
       "  </tbody>\n",
       "</table>\n",
       "</div>"
      ],
      "text/plain": [
       "   icustayid     Glucose        paO2   PaO2_FiO2  IV Input      SOFA  \\\n",
       "0       1006  152.000000  100.200000  137.081590       1.0  7.600000   \n",
       "1       1204  138.794872  127.782051  430.668956       0.0  6.153846   \n",
       "2       4132  129.364286  123.956461  252.883864       1.0  4.600000   \n",
       "3       4201  145.580087  118.083333  539.065657       0.0  5.818182   \n",
       "4       5170  174.525000  147.350198  394.616727       1.0  4.125000   \n",
       "5       6504  106.081169   88.836364  423.030303       0.0  5.090909   \n",
       "\n",
       "   Died within 48H  \n",
       "0             -1.0  \n",
       "1              1.0  \n",
       "2             -1.0  \n",
       "3              1.0  \n",
       "4              1.0  \n",
       "5              1.0  "
      ]
     },
     "execution_count": 22,
     "metadata": {},
     "output_type": "execute_result"
    }
   ],
   "source": [
    "userinfo_index = np.array([1,2,3])\n",
    "# outcome: SOFA score (treated as continuous). The smaller, the better\n",
    "# treatment: iv_input (binary)\n",
    "# Glucose, paO2, PaO2_FiO2: covariates\n",
    "data_CEL_selected.head(6)"
   ]
  },
  {
   "cell_type": "markdown",
   "metadata": {},
   "source": [
    "Similarly, we estimate the causal effect of fluid administration on the average SOFA score of patients to see if higher IV input is able to decrease the SOFA score."
   ]
  },
  {
   "cell_type": "code",
   "execution_count": 23,
   "metadata": {
    "id": "oMw5d9fAjOKa"
   },
   "outputs": [],
   "source": [
    "#from lightgbm import LGBMRegressor\n",
    "from sklearn.ensemble import GradientBoostingClassifier\n",
    "from sklearn.linear_model import LogisticRegression\n",
    "from sklearn.linear_model import LinearRegression\n",
    "\n",
    "#mu0 = LGBMRegressor(max_depth=2)\n",
    "#mu1 = LGBMRegressor(max_depth=2)\n",
    "\n",
    "mu0 = LinearRegression()\n",
    "mu1 = LinearRegression()\n",
    "\n",
    "mu0.fit(data_CEL_selected.iloc[np.where(data_CEL_selected['IV Input']==0)[0],userinfo_index],data_CEL_selected.iloc[np.where(data_CEL_selected['IV Input']==0)[0],5] )\n",
    "mu1.fit(data_CEL_selected.iloc[np.where(data_CEL_selected['IV Input']==1)[0],userinfo_index],data_CEL_selected.iloc[np.where(data_CEL_selected['IV Input']==1)[0],5] )\n",
    "\n",
    "\n",
    "# estimate the HTE by T-learner\n",
    "HTE_T_learner = (mu1.predict(data_CEL_selected.iloc[:,userinfo_index]) - mu0.predict(data_CEL_selected.iloc[:,userinfo_index]))"
   ]
  },
  {
   "cell_type": "code",
   "execution_count": 24,
   "metadata": {
    "colab": {
     "base_uri": "https://localhost:8080/"
    },
    "executionInfo": {
     "elapsed": 344,
     "status": "ok",
     "timestamp": 1677278820994,
     "user": {
      "displayName": "Yang Xu",
      "userId": "12270366590264264299"
     },
     "user_tz": 300
    },
    "id": "vFcnzHj3jOKa",
    "outputId": "912cfb36-2001-4d63-9e9d-50cf44e8e252"
   },
   "outputs": [
    {
     "data": {
      "text/plain": [
       "array([-0.49003107,  0.50057977,  0.20914573,  0.66345884, -0.23977303,\n",
       "        1.0794276 , -0.34455499, -1.36109094,  1.19848057,  0.58006391,\n",
       "       -1.11359767, -3.23537098, -0.18899855,  0.64967052,  0.63723815,\n",
       "        0.05042186, -0.26366224,  0.00872736, -0.32914701,  0.51474347,\n",
       "        0.41667122,  0.54158338,  0.71321121,  1.26489405, -1.0774718 ,\n",
       "        0.52229178,  0.61766863,  0.57557176,  0.94774448,  0.55186488,\n",
       "       -0.29666119,  0.35960446,  0.20136832,  0.77408578,  1.19227108,\n",
       "        0.11463203, -2.35932623, -0.29545405, -1.86337085,  0.95171379,\n",
       "        0.61272862,  0.00475441,  0.06064992, -0.64206127,  0.75432718,\n",
       "        0.20535944,  0.37009124,  0.35431129,  0.78816905, -0.76940612,\n",
       "        0.68175408,  0.74628053,  1.10881984,  0.17531085, -0.07151351,\n",
       "       -1.82140618, -0.01038676])"
      ]
     },
     "execution_count": 24,
     "metadata": {},
     "output_type": "execute_result"
    }
   ],
   "source": [
    "HTE_T_learner"
   ]
  },
  {
   "cell_type": "markdown",
   "metadata": {},
   "source": [
    "Although for some patients, higher volumn of fluid intake is able to decrease their overall SOFA score, most of the rest of the patients suffered some bad effects from it."
   ]
  },
  {
   "cell_type": "code",
   "execution_count": 25,
   "metadata": {
    "colab": {
     "base_uri": "https://localhost:8080/"
    },
    "executionInfo": {
     "elapsed": 379,
     "status": "ok",
     "timestamp": 1677278839329,
     "user": {
      "displayName": "Yang Xu",
      "userId": "12270366590264264299"
     },
     "user_tz": 300
    },
    "id": "G5ciq2MAjOKb",
    "outputId": "c66937e4-57f4-4174-d039-9b08a0da075e"
   },
   "outputs": [
    {
     "data": {
      "text/plain": [
       "0.08642818615808806"
      ]
     },
     "execution_count": 25,
     "metadata": {},
     "output_type": "execute_result"
    }
   ],
   "source": [
    "sum(HTE_T_learner)/len(data_CEL_selected)"
   ]
  },
  {
   "cell_type": "markdown",
   "metadata": {
    "id": "sQn-PhBajOKb"
   },
   "source": [
    "**Conclusion**: IV Input is expected to increase the SOFA score by 0.086."
   ]
  },
  {
   "cell_type": "code",
   "execution_count": null,
   "metadata": {
    "id": "zUeCHyJPiqQk"
   },
   "outputs": [],
   "source": []
  }
 ],
 "metadata": {
  "colab": {
   "collapsed_sections": [
    "CJs3rd3oHnsq"
   ],
   "provenance": []
  },
  "kernelspec": {
   "display_name": "Python 3",
   "language": "python",
   "name": "python3"
  },
  "language_info": {
   "codemirror_mode": {
    "name": "ipython",
    "version": 3
   },
   "file_extension": ".py",
   "mimetype": "text/x-python",
   "name": "python",
   "nbconvert_exporter": "python",
   "pygments_lexer": "ipython3",
   "version": "3.9.13"
  }
 },
 "nbformat": 4,
 "nbformat_minor": 1
}
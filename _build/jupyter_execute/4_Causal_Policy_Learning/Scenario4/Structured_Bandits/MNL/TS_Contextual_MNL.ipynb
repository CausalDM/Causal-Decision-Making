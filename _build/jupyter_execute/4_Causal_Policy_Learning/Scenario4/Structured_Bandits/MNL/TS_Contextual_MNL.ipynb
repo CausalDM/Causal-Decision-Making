{
 "cells": [
  {
   "cell_type": "markdown",
   "metadata": {},
   "source": [
    "# TS_Contextual_MNL\n",
    "\n",
    "## Overview\n",
    "- **Advantage**: It is scalable when the features are used. It outperforms algorithms based on other frameworks, such as UCB, in practice.\n",
    "- **Disadvantage**: It is susceptible to model misspecification.\n",
    "- **Application Situation**: Useful when a list of items is presented, each with a matching price or income, and only one is chosen for each interaction. Binary responses from users include click/don't-click and buy/don't-buy.\n",
    "\n",
    "\n",
    "## Main Idea\n",
    "Feature-determined approaches have been developed recently to provide a more feasible approach for large-scale problems, by adapting either the UCB framwork or the TS framework. While all of them [1,2,3] are under the standard offering structure, here we modify the TS-type algorithm in [3] by adapting to the epoch-type offering framework and assuming a linear realtionship between the utility and the item features as \n",
    "\\begin{equation}\n",
    "\\theta_i = \\frac{logistic(\\boldsymbol{s}_{i,t}^T \\boldsymbol{\\gamma})+ 1}{2},\n",
    "\\end{equation} to tackle the challenge of a large item space. We named the proposed algorithm as **TS_Contextual_MNL**. At each decision round $t$, **TS_Contextual_MNL** samples $\\tilde{\\boldsymbol{\\gamma}}_{t}$ from the posterior distribution, which is updated by **Pymc3**, and get the $\\tilde{\\theta}_{i}^{t}$ as $\\frac{logistic(\\boldsymbol{s}_{i,t}^T \\text{ }\\tilde{\\boldsymbol{\\gamma}})+ 1}{2}$ and $\\tilde{v}_{i}^{l}$ as $1/\\tilde{\\theta}_{i}^{l}-1$. Finally, linear programming is employed to determine the optimal assortment $A^{l}$, such that\n",
    "\\begin{equation}\n",
    "    A^{l} = arg max_{a \\in \\mathcal{A}} E(R_t(a) \\mid\\tilde{\\boldsymbol{v}})=argmax_{a \\in \\mathcal{A}} \\frac{\\sum_{i\\in a}\\eta_{i}\\tilde{v}_{i}}{1+\\sum_{j\\in a} \\tilde{v}_{j}},\n",
    "\\end{equation} where $t$ is the first round of epoch $l$.  \n",
    "\n",
    "It should be noted that the posterior updating step differs for different pairs of the prior distribution of $\\boldsymbol{\\gamma}$ and the reward distribution, and the code can be easily modified to different prior/reward distribution specifications if necessary.\n",
    "\n",
    "## Key Steps\n",
    "For epoch $l = 1,2,\\cdots$:\n",
    "1. Approximate $P(\\boldsymbol{\\gamma}|\\mathcal{H}^{l})$ by **Pymc3**;\n",
    "2. Sample $\\tilde{\\boldsymbol{\\gamma}} \\sim P(\\boldsymbol{\\gamma}|\\mathcal{H}^{l})$;\n",
    "3. Update $\\tilde{\\boldsymbol{\\theta}} = \\frac{logistic(\\boldsymbol{s}_{i,t}^T \\text{ }\\tilde{\\boldsymbol{\\gamma}})+ 1}{2}$\n",
    "4. Compute the utility $\\tilde{v}_{i} = \\frac{1}{\\tilde{\\theta}_{i}}-1$;\n",
    "5. Take the action $A^{l}$ w.r.t $\\{\\tilde{v}_{i}\\}_{i=1}^{N}$ such that $A^{l} = arg max_{a \\in \\mathcal{A}} E(R_t(a) \\mid\\tilde{\\boldsymbol{v}})=argmax_{a \\in \\mathcal{A}} \\frac{\\sum_{i\\in a}\\eta_{i}\\tilde{v}_{i}}{1+\\sum_{j\\in a} \\tilde{v}_{j}}$;\n",
    "6. Offer $A^{l}$ until no purchase appears;\n",
    "7. Receive reward $R^{l}$.\n",
    "\n",
    "*Notations can be found in either the inroduction of the chapter \"Structured Bandits\" or the introduction of the Multinomial Logit Bandit problems."
   ]
  },
  {
   "cell_type": "markdown",
   "metadata": {},
   "source": [
    "## Demo Code"
   ]
  },
  {
   "cell_type": "code",
   "execution_count": 1,
   "metadata": {},
   "outputs": [],
   "source": [
    "import os\n",
    "os.getcwd()\n",
    "os.chdir('D:\\GitHub\\CausalDM')"
   ]
  },
  {
   "cell_type": "markdown",
   "metadata": {},
   "source": [
    "### Import the learner."
   ]
  },
  {
   "cell_type": "code",
   "execution_count": 2,
   "metadata": {},
   "outputs": [
    {
     "ename": "ModuleNotFoundError",
     "evalue": "No module named 'causaldm.learners.Online'",
     "output_type": "error",
     "traceback": [
      "\u001b[1;31m---------------------------------------------------------------------------\u001b[0m",
      "\u001b[1;31mModuleNotFoundError\u001b[0m                       Traceback (most recent call last)",
      "Input \u001b[1;32mIn [2]\u001b[0m, in \u001b[0;36m<cell line: 2>\u001b[1;34m()\u001b[0m\n\u001b[0;32m      1\u001b[0m \u001b[38;5;28;01mimport\u001b[39;00m \u001b[38;5;21;01mnumpy\u001b[39;00m \u001b[38;5;28;01mas\u001b[39;00m \u001b[38;5;21;01mnp\u001b[39;00m\n\u001b[1;32m----> 2\u001b[0m \u001b[38;5;28;01mfrom\u001b[39;00m \u001b[38;5;21;01mcausaldm\u001b[39;00m\u001b[38;5;21;01m.\u001b[39;00m\u001b[38;5;21;01mlearners\u001b[39;00m\u001b[38;5;21;01m.\u001b[39;00m\u001b[38;5;21;01mOnline\u001b[39;00m\u001b[38;5;21;01m.\u001b[39;00m\u001b[38;5;21;01mStructured_Bandits\u001b[39;00m\u001b[38;5;21;01m.\u001b[39;00m\u001b[38;5;21;01mMNL\u001b[39;00m \u001b[38;5;28;01mimport\u001b[39;00m TS_Contextual_MNL\n",
      "\u001b[1;31mModuleNotFoundError\u001b[0m: No module named 'causaldm.learners.Online'"
     ]
    }
   ],
   "source": [
    "import numpy as np\n",
    "from causaldm.learners.Online.Structured_Bandits.MNL import TS_Contextual_MNL"
   ]
  },
  {
   "cell_type": "markdown",
   "metadata": {},
   "source": [
    "### Generate the Environment\n",
    "\n",
    "Here, we imitate an environment based on the MovieLens dataset."
   ]
  },
  {
   "cell_type": "code",
   "execution_count": 3,
   "metadata": {},
   "outputs": [],
   "source": [
    "from causaldm.learners.Online.Structured_Bandits.MNL import _env_realMNL as _env\n",
    "env = _env.MNL_env(seed = 0)"
   ]
  },
  {
   "cell_type": "markdown",
   "metadata": {},
   "source": [
    "### Specify Hyperparameters\n",
    "- K: number of itmes to be recommended at each round\n",
    "- L: total number of candidate items\n",
    "- Xs: feature informations $\\boldsymbol{S}$ (Note: if an intercept is considered, the $\\boldsymbol{S}$ should include a column of ones)\n",
    "- gamma_prior_mean: the mean of the prior distribution of $\\boldsymbol{\\gamma}$\n",
    "- gamma_prior_cov: the coveraince matrix of the prior distribution of $\\boldsymbol{\\gamma}$ \n",
    "- r: revenue of items\n",
    "- same_reward: indicate whether the revenue of each item is the same or not\n",
    "- n_init: determine the number of samples that pymc3 will draw when updating the posterior of $\\boldsymbol{\\gamma}$ \n",
    "- update_freq: frequency to update the posterior distribution of $\\boldsymbol{\\gamma}$ (i.e., update every update_freq steps)\n",
    "- seed: random seed"
   ]
  },
  {
   "cell_type": "code",
   "execution_count": 4,
   "metadata": {},
   "outputs": [],
   "source": [
    "L = env.L\n",
    "K = 5\n",
    "Xs = env.Phi\n",
    "gamma_prior_mean = np.ones(env.p)\n",
    "gamma_prior_cov = np.identity(env.p)\n",
    "r = env.r\n",
    "same_reward = False\n",
    "n_init = 1000\n",
    "update_freq = 100\n",
    "seed = 0\n",
    "\n",
    "LinTS_agent = TS_Contextual_MNL.MNL_TS_Contextual(L = L, K = K, Xs = Xs, gamma_prior_mean = gamma_prior_mean, \n",
    "                                                  gamma_prior_cov = gamma_prior_cov, r = r, same_reward = same_reward, \n",
    "                                                  n_init = n_init, update_freq=update_freq, seed = seed)"
   ]
  },
  {
   "cell_type": "markdown",
   "metadata": {},
   "source": [
    "### Recommendation and Interaction\n",
    "Starting from t = 0, for each step t, there are three steps:\n",
    "1. Recommend an action (a set of ordered restaturants)\n",
    "<code> A = LinTS_agent.take_action() </code>\n",
    "3. Get the item clicked and the corresponding revenue from the environment\n",
    "<code> c, _, R = env.get_reward(A) </code>\n",
    "4. Update the posterior distribution\n",
    "<code> LinTS_agent.receive_reward(A,c,R) </code>"
   ]
  },
  {
   "cell_type": "code",
   "execution_count": 5,
   "metadata": {},
   "outputs": [
    {
     "data": {
      "text/plain": [
       "(array([ 20, 298, 421, 448, 836]), 298, 0.9729194890231303)"
      ]
     },
     "execution_count": 5,
     "metadata": {},
     "output_type": "execute_result"
    }
   ],
   "source": [
    "t = 0\n",
    "A = LinTS_agent.take_action()\n",
    "c, _, R= env.get_reward(A)\n",
    "LinTS_agent.receive_reward(A, c, R)\n",
    "A, c, R"
   ]
  },
  {
   "cell_type": "markdown",
   "metadata": {},
   "source": [
    "**Interpretation**: For step 0, the agent recommends five movies to the customer, the ids of which are 20, 298, 421, 448, and 836. The customer finally clicks the movie 298 and the agent receives a revenue of .97."
   ]
  },
  {
   "cell_type": "markdown",
   "metadata": {},
   "source": [
    "## References\n",
    "\n",
    "[1] Ou, M., Li, N., Zhu, S., & Jin, R. (2018). Multinomial logit bandit with linear utility functions. arXiv preprint arXiv:1805.02971.\n",
    "\n",
    "[2] Agrawal, P., Avadhanula, V., & Tulabandhula, T. (2020). A tractable online learning algorithm for the multinomial logit contextual bandit. arXiv preprint arXiv:2011.14033.\n",
    "\n",
    "[3] Oh, M. H., & Iyengar, G. (2019). Thompson sampling for multinomial logit contextual bandits. Advances in Neural Information Processing Systems, 32.\n"
   ]
  },
  {
   "cell_type": "code",
   "execution_count": null,
   "metadata": {},
   "outputs": [],
   "source": []
  }
 ],
 "metadata": {
  "kernelspec": {
   "display_name": "Python 3 (ipykernel)",
   "language": "python",
   "name": "python3"
  },
  "language_info": {
   "codemirror_mode": {
    "name": "ipython",
    "version": 3
   },
   "file_extension": ".py",
   "mimetype": "text/x-python",
   "name": "python",
   "nbconvert_exporter": "python",
   "pygments_lexer": "ipython3",
   "version": "3.9.12"
  }
 },
 "nbformat": 4,
 "nbformat_minor": 4
}
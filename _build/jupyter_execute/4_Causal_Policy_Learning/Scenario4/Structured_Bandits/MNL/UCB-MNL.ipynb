{
 "cells": [
  {
   "cell_type": "markdown",
   "metadata": {},
   "source": [
    "# UCB_MNL\n",
    "\n",
    "## Main Idea\n",
    "UCB_MNL [1] is an UCB-based algorithm, using the epoch-type offering schedule to deal with dynamic assortment optimization problems. Adapted to the standard UCB-style framework, UCB_MNL estimates the upper confidence bound of $v_{i}$ at epoch $l$ by \n",
    "\\begin{equation}\n",
    "    v_{i,l}^{UCB}= \\hat{v_{i}^{l}}+\\sqrt{\\hat{v_{i}^{l}}\\frac{48log(\\sqrt{N}l+1)}{s_{i,l}}}+\\frac{48log(\\sqrt{N}l+1)}{s_{i,l}}.\n",
    "\\end{equation} Note that $s_{i,l}$ is the number of epochs offering an assortment including item $i$ before epoch $l$ and $\\hat{v_{i}^{l}}$ is the average sample weight of item $i$ (i.e.,$\\frac{\\text{\\# product $i$ was purchased}}{s_{i,l}}$). \n",
    "\n",
    "\n",
    "\n",
    "💥 Application Situation?\n",
    "\n",
    "## Algorithm Details / Key Steps\n",
    "Initialization: $v_{i,0}^{UCB}=0$ for all $i$.\n",
    "\n",
    "For epoch $l = 1,2,\\cdots$:\n",
    "1. Take the action $A^{l}$ w.r.t $\\{v_{i,l-1}^{UCB}\\}_{i=1}^{N}$ such that $A^{l} = argmax_{a \\in \\mathcal{A}} \\frac{\\sum_{i\\in a}\\eta_{i}v_{i,l-1}^{UCB}}{1+\\sum_{j\\in a} v_{j,l-1}^{UCB}}$;\n",
    "2. Offer $A^{l}$ until no purchase appears;\n",
    "3. Receive reward $R^{l}$;\n",
    "4. Update $v_{i,l}^{UCB}=0$ based on the observations as\n",
    "\\begin{equation}\n",
    "    v_{i,l}^{UCB}= \\hat{v_{i}^{l}}+\\sqrt{\\hat{v_{i}^{l}}\\frac{48log(\\sqrt{N}l+1)}{s_{i,l}}}+\\frac{48log(\\sqrt{N}l+1)}{s_{i,l}}\n",
    "\\end{equation}, with $\\hat{v_{i}^{l}}$ be the average sample weight of item $i$ (i.e.,$\\frac{\\text{\\# product $i$ was purchased}}{s_{i,l}}$).\n",
    "\n",
    "\n",
    "## Demo Code\n",
    "💥 In the following, we exhibit how to apply the learner on real data.\n",
    "\n",
    "*Notations can be found in the introduction of the combinatorial Semi-Bandit problems."
   ]
  },
  {
   "cell_type": "code",
   "execution_count": 1,
   "metadata": {},
   "outputs": [
    {
     "ename": "ImportError",
     "evalue": "cannot import name 'UCB_MNL' from 'causaldm.learners.CPL4.Structured_Bandits.MNL' (/Users/alinaxu/opt/anaconda3/lib/python3.9/site-packages/causaldm/learners/CPL4/Structured_Bandits/MNL/__init__.py)",
     "output_type": "error",
     "traceback": [
      "\u001b[0;31m---------------------------------------------------------------------------\u001b[0m",
      "\u001b[0;31mImportError\u001b[0m                               Traceback (most recent call last)",
      "\u001b[0;32m/var/folders/9j/vb5nb4rd5bx0gr1q5ytx9q600000gn/T/ipykernel_52227/3115157464.py\u001b[0m in \u001b[0;36m<module>\u001b[0;34m\u001b[0m\n\u001b[0;32m----> 1\u001b[0;31m \u001b[0;32mfrom\u001b[0m \u001b[0mcausaldm\u001b[0m\u001b[0;34m.\u001b[0m\u001b[0mlearners\u001b[0m\u001b[0;34m.\u001b[0m\u001b[0mCPL4\u001b[0m\u001b[0;34m.\u001b[0m\u001b[0mStructured_Bandits\u001b[0m\u001b[0;34m.\u001b[0m\u001b[0mMNL\u001b[0m \u001b[0;32mimport\u001b[0m \u001b[0mUCB_MNL\u001b[0m\u001b[0;34m\u001b[0m\u001b[0;34m\u001b[0m\u001b[0m\n\u001b[0m\u001b[1;32m      2\u001b[0m \u001b[0;32mfrom\u001b[0m \u001b[0mcausaldm\u001b[0m\u001b[0;34m.\u001b[0m\u001b[0mlearners\u001b[0m\u001b[0;34m.\u001b[0m\u001b[0mCPL4\u001b[0m\u001b[0;34m.\u001b[0m\u001b[0mStructured_Bandits\u001b[0m\u001b[0;34m.\u001b[0m\u001b[0mMNL\u001b[0m \u001b[0;32mimport\u001b[0m \u001b[0m_env_MNL\u001b[0m\u001b[0;34m\u001b[0m\u001b[0;34m\u001b[0m\u001b[0m\n\u001b[1;32m      3\u001b[0m \u001b[0;32mimport\u001b[0m \u001b[0mnumpy\u001b[0m \u001b[0;32mas\u001b[0m \u001b[0mnp\u001b[0m\u001b[0;34m\u001b[0m\u001b[0;34m\u001b[0m\u001b[0m\n",
      "\u001b[0;31mImportError\u001b[0m: cannot import name 'UCB_MNL' from 'causaldm.learners.CPL4.Structured_Bandits.MNL' (/Users/alinaxu/opt/anaconda3/lib/python3.9/site-packages/causaldm/learners/CPL4/Structured_Bandits/MNL/__init__.py)"
     ]
    }
   ],
   "source": [
    "from causaldm.learners.CPL4.Structured_Bandits.MNL import UCB_MNL\n",
    "from causaldm.learners.CPL4.Structured_Bandits.MNL import _env_MNL\n",
    "import numpy as np"
   ]
  },
  {
   "cell_type": "code",
   "execution_count": 14,
   "metadata": {},
   "outputs": [],
   "source": [
    "T = 20000\n",
    "L = 1000\n",
    "update_freq = 500\n",
    "update_freq_linear = 500\n",
    "\n",
    "phi_beta = 1/4\n",
    "n_init = 500\n",
    "with_intercept = True\n",
    "same_reward = False\n",
    "p=3\n",
    "K=5\n",
    "X_mu = np.zeros(p-1)\n",
    "X_sigma = np.identity(p-1)\n",
    "Sigma_gamma = sigma_gamma = np.identity(p)\n",
    "mu_gamma = np.zeros(p)\n",
    "seed = 0\n",
    "\n",
    "env = _env_MNL.MNL_env(L, K, T, mu_gamma, sigma_gamma, X_mu, X_sigma,                                       \n",
    "                        phi_beta, same_reward = same_reward, \n",
    "                        seed = seed, p = p, with_intercept = with_intercept)\n",
    "UCB_agent = UCB_MNL.UCB_MNL(L, env.r, K, seed = 0)\n",
    "S = UCB_agent.take_action()\n",
    "t = 1\n",
    "c, exp_R, R = env.get_reward(S)\n",
    "UCB_agent.receive_reward(S, c, R, exp_R)"
   ]
  },
  {
   "cell_type": "code",
   "execution_count": 20,
   "metadata": {},
   "outputs": [
    {
     "data": {
      "text/plain": [
       "array([109, 366, 519, 906, 960])"
      ]
     },
     "execution_count": 20,
     "metadata": {},
     "output_type": "execute_result"
    }
   ],
   "source": [
    "S"
   ]
  },
  {
   "cell_type": "markdown",
   "metadata": {},
   "source": [
    "## References\n",
    "\n",
    "[1] Agrawal, S., Avadhanula, V., Goyal, V., & Zeevi, A. (2019). Mnl-bandit: A dynamic learning approach to assortment selection. Operations Research, 67(5), 1453-1485."
   ]
  }
 ],
 "metadata": {
  "kernelspec": {
   "display_name": "Python 3 (ipykernel)",
   "language": "python",
   "name": "python3"
  },
  "language_info": {
   "codemirror_mode": {
    "name": "ipython",
    "version": 3
   },
   "file_extension": ".py",
   "mimetype": "text/x-python",
   "name": "python",
   "nbconvert_exporter": "python",
   "pygments_lexer": "ipython3",
   "version": "3.9.13"
  }
 },
 "nbformat": 4,
 "nbformat_minor": 4
}
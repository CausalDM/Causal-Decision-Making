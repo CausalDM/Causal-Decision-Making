{
 "cells": [
  {
   "cell_type": "markdown",
   "metadata": {
    "tags": []
   },
   "source": [
    "# TS_MNL\n",
    "\n",
    "## Overview\n",
    "- **Advantage**: In practice, it always outperforms algorithms that also do not use features but are based on other frameworks, such as UCB.\n",
    "- **Disadvantage**: When there are a large number of items, it is not scalable.\n",
    "- **Application Situation**: Useful when a list of items is presented, each with a matching price or income, and only one is chosen for each interaction. Binary responses from users include click/don't-click and buy/don't-buy.\n",
    "\n",
    "## Main Idea\n",
    "The first TS-based algorithm is developed by [1]. Noticing that direct inference under the standard multinomila logit model is intractable due to the complex dependency of the reward distribution on action slate $a$, an epoch-based algorithmic structure is introduced and is being more popular in recent bandit literature [1,2,3]. Under the epoch-type offering framework,  \n",
    "\\begin{align}\n",
    "    Y_{i}^l(a) &\\sim Geometric(\\theta_i), \\forall i \\in a,\\\\\n",
    "    R^l(a) &= \\sum_{i\\in a}Y_{i}^l(a)\\eta_{i}.\n",
    "\\end{align} \n",
    "Taking the advantage of the nice conjugate relationship between the geometric distribution and the Beta distribution, the TS-based algorithm **TS_MNL** [1] is tractable and computationally efficient. Assuming a Beta prior over parameters $\\theta_{i}$, at each epoch $l$, **TS_MNL** updates the posterior distribution of $\\theta_{i}$ according to the property of the Beta-Geometric conjugate pair, from which we then sample a $\\tilde{\\theta}_{i}^{l}$, and $\\tilde{v}_{i}^{l}$ is calculated directly as $\\tilde{v}_{i}^{l}=1/\\tilde{\\theta}_{i}^{l}-1$. Finally, the optimal assortment $A^{l}$ is determined efficiently through linear programming [1], such that\n",
    "\\begin{equation}\n",
    "    A^{l} = arg max_{a \\in \\mathcal{A}} E(R_t(a) \\mid\\tilde{\\boldsymbol{v}})=argmax_{a \\in \\mathcal{A}} \\frac{\\sum_{i\\in a}\\eta_{i}\\tilde{v}_{i}}{1+\\sum_{j\\in a} \\tilde{v}_{j}},\n",
    "\\end{equation} where $t$ is the first round of epoch $l$.  It should be noted that the posterior updating step differs for different pairs of the prior distribution of $\\theta_i$ and the reward distribution, and the code can be easily modified to different prior/reward distribution specifications if necessary.\n",
    "\n",
    "\n",
    "## Key Steps\n",
    "1. Specifying a prior distirbution of each $\\theta_i$, i.e., Beta(1,1).\n",
    "2. For l = $0, 1,\\cdots$:\n",
    "    - sample a $\\tilde{\\theta}^{l}$ from the posterior distribution of $\\theta$ or prior distribution if in epoch $0$\n",
    "    - compute the utility $\\tilde{v}_{i}^{l} = \\frac{1}{\\tilde{\\theta}_{i}^{l}}-1$;\n",
    "    - at the first round $t$ of epoch $l$ select top $K$ items by linear programming such that $A^{l} = A_t = arg max_{a \\in \\mathcal{A}} E(R_t(a) \\mid \\tilde{\\boldsymbol{v}}^{l})$\n",
    "    - keep offering $A^{l}$ untile no-purchase appears\n",
    "    - receive the rewad $R^l$, and update the posterior distirbution accordingly.\n",
    "    \n",
    "*Notations can be found in either the inroduction of the chapter \"Structured Bandits\" or the introduction of the Multinomial Logit Bandit problems.\n"
   ]
  },
  {
   "cell_type": "markdown",
   "metadata": {},
   "source": [
    "## Demo Code"
   ]
  },
  {
<<<<<<< Updated upstream
   "cell_type": "code",
   "execution_count": 1,
   "metadata": {},
   "outputs": [
    {
     "ename": "FileNotFoundError",
     "evalue": "[Errno 2] No such file or directory: 'D:\\\\GitHub\\\\CausalDM'",
     "output_type": "error",
     "traceback": [
      "\u001b[0;31m---------------------------------------------------------------------------\u001b[0m",
      "\u001b[0;31mFileNotFoundError\u001b[0m                         Traceback (most recent call last)",
      "Cell \u001b[0;32mIn[1], line 3\u001b[0m\n\u001b[1;32m      1\u001b[0m \u001b[38;5;28;01mimport\u001b[39;00m \u001b[38;5;21;01mos\u001b[39;00m\n\u001b[1;32m      2\u001b[0m os\u001b[38;5;241m.\u001b[39mgetcwd()\n\u001b[0;32m----> 3\u001b[0m os\u001b[38;5;241m.\u001b[39mchdir(\u001b[38;5;124m'\u001b[39m\u001b[38;5;124mD:\u001b[39m\u001b[38;5;124m\\\u001b[39m\u001b[38;5;124mGitHub\u001b[39m\u001b[38;5;124m\\\u001b[39m\u001b[38;5;124mCausalDM\u001b[39m\u001b[38;5;124m'\u001b[39m)\n",
      "\u001b[0;31mFileNotFoundError\u001b[0m: [Errno 2] No such file or directory: 'D:\\\\GitHub\\\\CausalDM'"
     ]
    }
   ],
   "source": [
    "import os\n",
    "os.getcwd()\n",
    "os.chdir('D:\\GitHub\\CausalDM')"
   ]
  },
  {
=======
>>>>>>> Stashed changes
   "cell_type": "markdown",
   "metadata": {},
   "source": [
    "### Import the learner."
   ]
  },
  {
   "cell_type": "code",
   "execution_count": 1,
   "metadata": {},
   "outputs": [
    {
     "name": "stderr",
     "output_type": "stream",
     "text": [
      "WARNING (theano.tensor.blas): Using NumPy C-API based implementation for BLAS functions.\n"
     ]
    }
   ],
   "source": [
    "import numpy as np\n",
    "from causaldm.learners.CPL4.Structured_Bandits.MNL import TS_MNL_Beta"
   ]
  },
  {
   "cell_type": "markdown",
   "metadata": {},
   "source": [
    "### Generate the Environment\n",
    "\n",
    "Here, we imitate an environment based on the MovieLens dataset."
   ]
  },
  {
   "cell_type": "code",
   "execution_count": 2,
   "metadata": {},
   "outputs": [
    {
     "ename": "FileNotFoundError",
     "evalue": "[Errno 2] No such file or directory: 'D:\\\\anaconda3\\\\lib\\\\site-packages\\\\causaldm\\\\learners\\\\CPL4\\\\Structured_Bandits\\\\MNL\\\\data\\\\MNL_realdata_d_5_X_transform_l2_with_intercept_1'",
     "output_type": "error",
     "traceback": [
      "\u001b[1;31m---------------------------------------------------------------------------\u001b[0m",
      "\u001b[1;31mFileNotFoundError\u001b[0m                         Traceback (most recent call last)",
      "Input \u001b[1;32mIn [2]\u001b[0m, in \u001b[0;36m<cell line: 2>\u001b[1;34m()\u001b[0m\n\u001b[0;32m      1\u001b[0m \u001b[38;5;28;01mfrom\u001b[39;00m \u001b[38;5;21;01mcausaldm\u001b[39;00m\u001b[38;5;21;01m.\u001b[39;00m\u001b[38;5;21;01mlearners\u001b[39;00m\u001b[38;5;21;01m.\u001b[39;00m\u001b[38;5;21;01mCPL4\u001b[39;00m\u001b[38;5;21;01m.\u001b[39;00m\u001b[38;5;21;01mStructured_Bandits\u001b[39;00m\u001b[38;5;21;01m.\u001b[39;00m\u001b[38;5;21;01mMNL\u001b[39;00m \u001b[38;5;28;01mimport\u001b[39;00m _env_realMNL \u001b[38;5;28;01mas\u001b[39;00m _env\n\u001b[1;32m----> 2\u001b[0m env \u001b[38;5;241m=\u001b[39m \u001b[43m_env\u001b[49m\u001b[38;5;241;43m.\u001b[39;49m\u001b[43mMNL_env\u001b[49m\u001b[43m(\u001b[49m\u001b[43mseed\u001b[49m\u001b[43m \u001b[49m\u001b[38;5;241;43m=\u001b[39;49m\u001b[43m \u001b[49m\u001b[38;5;241;43m0\u001b[39;49m\u001b[43m)\u001b[49m\n",
      "File \u001b[1;32mD:\\anaconda3\\lib\\site-packages\\causaldm\\learners\\CPL4\\_util_online.py:223\u001b[0m, in \u001b[0;36mautoargs.<locals>._autoargs.<locals>.wrapper\u001b[1;34m(self, *args, **kwargs)\u001b[0m\n\u001b[0;32m    221\u001b[0m         \u001b[38;5;28;01mif\u001b[39;00m sieve(attr):\n\u001b[0;32m    222\u001b[0m             \u001b[38;5;28msetattr\u001b[39m(\u001b[38;5;28mself\u001b[39m, attr, val)\n\u001b[1;32m--> 223\u001b[0m \u001b[38;5;28;01mreturn\u001b[39;00m func(\u001b[38;5;28mself\u001b[39m, \u001b[38;5;241m*\u001b[39margs, \u001b[38;5;241m*\u001b[39m\u001b[38;5;241m*\u001b[39mkwargs)\n",
      "File \u001b[1;32mD:\\anaconda3\\lib\\site-packages\\causaldm\\learners\\CPL4\\Structured_Bandits\\MNL\\_env_realMNL.py:14\u001b[0m, in \u001b[0;36mMNL_env.__init__\u001b[1;34m(self, seed)\u001b[0m\n\u001b[0;32m     12\u001b[0m np\u001b[38;5;241m.\u001b[39mrandom\u001b[38;5;241m.\u001b[39mseed(\u001b[38;5;28mself\u001b[39m\u001b[38;5;241m.\u001b[39mseed)\n\u001b[0;32m     13\u001b[0m random\u001b[38;5;241m.\u001b[39mseed(\u001b[38;5;28mself\u001b[39m\u001b[38;5;241m.\u001b[39mseed)\n\u001b[1;32m---> 14\u001b[0m \u001b[38;5;28mself\u001b[39m\u001b[38;5;241m.\u001b[39mPhi, \u001b[38;5;28mself\u001b[39m\u001b[38;5;241m.\u001b[39mp, \u001b[38;5;28mself\u001b[39m\u001b[38;5;241m.\u001b[39mwith_intercept, \u001b[38;5;28mself\u001b[39m\u001b[38;5;241m.\u001b[39mL, \u001b[38;5;28mself\u001b[39m\u001b[38;5;241m.\u001b[39mv \u001b[38;5;241m=\u001b[39m \u001b[43mget_MovieLens\u001b[49m\u001b[43m(\u001b[49m\u001b[43m)\u001b[49m\n\u001b[0;32m     15\u001b[0m \u001b[38;5;28mself\u001b[39m\u001b[38;5;241m.\u001b[39mtheta \u001b[38;5;241m=\u001b[39m \u001b[38;5;241m1\u001b[39m \u001b[38;5;241m/\u001b[39m (\u001b[38;5;28mself\u001b[39m\u001b[38;5;241m.\u001b[39mv \u001b[38;5;241m+\u001b[39m \u001b[38;5;241m1\u001b[39m) \n\u001b[0;32m     17\u001b[0m \u001b[38;5;28mself\u001b[39m\u001b[38;5;241m.\u001b[39mget_r(\u001b[38;5;28mself\u001b[39m\u001b[38;5;241m.\u001b[39mL)\n",
      "File \u001b[1;32mD:\\anaconda3\\lib\\site-packages\\causaldm\\learners\\CPL4\\Structured_Bandits\\MNL\\_env_realMNL.py:49\u001b[0m, in \u001b[0;36mget_MovieLens\u001b[1;34m()\u001b[0m\n\u001b[0;32m     47\u001b[0m \u001b[38;5;28;01mdef\u001b[39;00m \u001b[38;5;21mget_MovieLens\u001b[39m():\n\u001b[0;32m     48\u001b[0m     dataset_path \u001b[38;5;241m=\u001b[39m pkg_resources\u001b[38;5;241m.\u001b[39mresource_filename(\u001b[38;5;18m__name__\u001b[39m, \u001b[38;5;124m'\u001b[39m\u001b[38;5;124mdata/MNL_realdata_d_5_X_transform_l2_with_intercept_1\u001b[39m\u001b[38;5;124m'\u001b[39m)\n\u001b[1;32m---> 49\u001b[0m     \u001b[38;5;28;01mwith\u001b[39;00m \u001b[38;5;28;43mopen\u001b[39;49m\u001b[43m(\u001b[49m\u001b[43mdataset_path\u001b[49m\u001b[43m,\u001b[49m\u001b[43m \u001b[49m\u001b[38;5;124;43m\"\u001b[39;49m\u001b[38;5;124;43mrb\u001b[39;49m\u001b[38;5;124;43m\"\u001b[39;49m\u001b[43m)\u001b[49m \u001b[38;5;28;01mas\u001b[39;00m fp:\n\u001b[0;32m     50\u001b[0m         MovieLens \u001b[38;5;241m=\u001b[39m pickle\u001b[38;5;241m.\u001b[39mload(fp) \n\u001b[0;32m     51\u001b[0m     with_intercept \u001b[38;5;241m=\u001b[39m \u001b[38;5;28;01mTrue\u001b[39;00m\n",
      "\u001b[1;31mFileNotFoundError\u001b[0m: [Errno 2] No such file or directory: 'D:\\\\anaconda3\\\\lib\\\\site-packages\\\\causaldm\\\\learners\\\\CPL4\\\\Structured_Bandits\\\\MNL\\\\data\\\\MNL_realdata_d_5_X_transform_l2_with_intercept_1'"
     ]
    }
   ],
   "source": [
    "from causaldm.learners.CPL4.Structured_Bandits.MNL import _env_realMNL as _env\n",
    "env = _env.MNL_env(seed = 0)"
   ]
  },
  {
   "cell_type": "markdown",
   "metadata": {},
   "source": [
    "### Specify Hyperparameters\n",
    "- K: number of itmes to be recommended at each round\n",
    "- L: total number of candidate items\n",
    "- u_prior_alpha: Alpha of the prior Beta distribution\n",
    "- u_prior_beta: Beta of the prior Beta distribution\n",
    "- r: revenue of items\n",
    "- same_reward: indicate whether the revenue of each item is the same or not\n",
    "- clip: indicate whether we clip the $\\boldsymbol{\\theta}$ to be between $.5$ and $.999$\n",
    "- seed: random seed"
   ]
  },
  {
   "cell_type": "code",
   "execution_count": 4,
   "metadata": {},
   "outputs": [],
   "source": [
    "L = env.L\n",
    "K = 5\n",
    "u_prior_alpha = np.ones(L)\n",
    "u_prior_beta = np.ones(L)\n",
    "r = env.r\n",
    "same_reward = False\n",
    "clip = True \n",
    "seed = 0\n",
    "\n",
    "TS_agent = TS_MNL_Beta.MNL_TS(L = L, K = K, u_prior_alpha = u_prior_alpha, u_prior_beta = u_prior_beta, \n",
    "                              r = r, same_reward = same_reward, clip = clip, seed = seed)"
   ]
  },
  {
   "cell_type": "markdown",
   "metadata": {},
   "source": [
    "### Recommendation and Interaction\n",
    "Starting from t = 0, for each step t, there are three steps:\n",
    "1. Recommend an action (a set of ordered restaturants)\n",
    "<code> A = TS_agent.take_action() </code>\n",
    "3. Get the item clicked and the corresponding revenue from the environment\n",
    "<code> c, _, R = env.get_reward(A) </code>\n",
    "4. Update the posterior distribution\n",
    "<code> TS_agent.receive_reward(A,c,R) </code>"
   ]
  },
  {
   "cell_type": "code",
   "execution_count": 5,
   "metadata": {},
   "outputs": [
    {
     "data": {
      "text/plain": [
       "(array([864, 394, 776, 911, 430]), 394, 0.03330462654669619)"
      ]
     },
     "execution_count": 5,
     "metadata": {},
     "output_type": "execute_result"
    }
   ],
   "source": [
    "t = 0\n",
    "A = TS_agent.take_action()\n",
    "c, _, R= env.get_reward(A)\n",
    "TS_agent.receive_reward(A, c, R)\n",
    "A, c, R"
   ]
  },
  {
   "cell_type": "markdown",
   "metadata": {},
   "source": [
    "**Interpretation**: For step 0, the agent recommends five movies to the customer, the ids of which are 864, 394, 776, 911, and 430. The customer finally clicks the movie 394 and the agent receives a revenue of .033."
   ]
  },
  {
   "cell_type": "markdown",
   "metadata": {},
   "source": [
    "## References\n",
    "\n",
    "[1] Agrawal, S., Avadhanula, V., Goyal, V., & Zeevi, A. (2017, June). Thompson sampling for the mnl-bandit. In Conference on Learning Theory (pp. 76-78). PMLR.\n",
    "\n",
    "[2] Agrawal, S., Avadhanula, V., Goyal, V., & Zeevi, A. (2019). Mnl-bandit: A dynamic learning approach to assortment selection. Operations Research, 67(5), 1453-1485.\n",
    "\n",
    "[3] Dong, K., Li, Y., Zhang, Q., & Zhou, Y. (2020, November). Multinomial logit bandit with low switching cost. In International Conference on Machine Learning (pp. 2607-2615). PMLR."
   ]
  },
  {
   "cell_type": "code",
   "execution_count": null,
   "metadata": {},
   "outputs": [],
   "source": []
  }
 ],
 "metadata": {
  "kernelspec": {
   "display_name": "Python 3 (ipykernel)",
   "language": "python",
   "name": "python3"
  },
  "language_info": {
   "codemirror_mode": {
    "name": "ipython",
    "version": 3
   },
   "file_extension": ".py",
   "mimetype": "text/x-python",
   "name": "python",
   "nbconvert_exporter": "python",
   "pygments_lexer": "ipython3",
<<<<<<< Updated upstream
   "version": "3.11.3"
=======
   "version": "3.9.12"
>>>>>>> Stashed changes
  }
 },
 "nbformat": 4,
 "nbformat_minor": 4
}
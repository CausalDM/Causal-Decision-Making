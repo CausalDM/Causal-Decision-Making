{
 "cells": [
  {
   "cell_type": "markdown",
   "id": "3c50dd25",
   "metadata": {},
   "source": [
    "# CombTS\n",
    "\n",
    "## Overview\n",
    "- **Advantage**: In practice, it always outperforms algorithms that also do not use features but are based on other frameworks, such as UCB.\n",
    "- **Disadvantage**: When there are a large number of items, it is not scalable.\n",
    "- **Application Situation**: Useful when presenting a list of items, each of which will generate a partial outcome (reward). The outcome is continuous.\n",
    "\n",
    "## Main Idea\n",
    "Recently, researchers began adapting the TS framework for combinatorial semi-bandits problems from a Bayesian perspective. **CombTS** [2] has been developed for the general family of sub-Gaussian outcomes $Y_{i,t}(a)$ by assuming a Gaussian prior for each $\\theta_i$ and then updating the posterior distribution using Bayes' rule. The optimal action can be obtained from a combinatorial optimization problem with estimates of the mean reward $\\theta_i$ of each item, which can be efficiently solved by corresponding combinatorial optimization algorithms in most real-world applications [1]. \n",
    "\n",
    "It should be noted that the posterior updating step differs for different pairs of the prior distribution of expected potential reward of each item and the reward distribution, and the code can be easily modified to different prior/reward distribution specifications if necessary. Further, for simplicity, we consider the most basic size constraint such that the action space includes all the possible subsets with size $K$. Therefore, the optimization process to find the optimal subset $A_{t}$ is equal to selecting a list of $K$ items with the highest attractiveness factors. Of course, users are welcome to modify the **optimization** function to satisfy more complex constraints.\n",
    "\n",
    "## Key Steps\n",
    "1. Specifying a prior distirbution of each $\\theta_i$, i.e., Normal(0,1).\n",
    "2. For t = $0, 1,\\cdots, T$:\n",
    "    - sample a $\\tilde{\\boldsymbol{\\theta}}^{t}$ from the posterior distribution of $\\boldsymbol{\\theta}$ or prior distribution if in round $0$\n",
    "    - take action $A_t$ such that $A_t = arg max_{a \\in \\mathcal{A}} E(R_t(a) \\mid \\tilde{\\boldsymbol{\\theta}}^{t})$ solving by appropriate combinatorial optimization algorithms\n",
    "    - receive the rewad $R_t$, and update the posterior distirbution accordingly.\n",
    "\n",
    "*Notations can be found in either the inroduction of the chapter \"Structured Bandits\" or the introduction of the combinatorial Semi-Bandit problems."
   ]
  },
  {
   "cell_type": "markdown",
   "id": "6aa0d14b",
   "metadata": {},
   "source": [
    "## Demo Code"
   ]
  },
  {
<<<<<<< Updated upstream
   "cell_type": "code",
   "execution_count": 1,
   "id": "728a9324",
   "metadata": {},
   "outputs": [
    {
     "ename": "FileNotFoundError",
     "evalue": "[Errno 2] No such file or directory: 'D:\\\\GitHub\\\\CausalDM'",
     "output_type": "error",
     "traceback": [
      "\u001b[0;31m---------------------------------------------------------------------------\u001b[0m",
      "\u001b[0;31mFileNotFoundError\u001b[0m                         Traceback (most recent call last)",
      "Cell \u001b[0;32mIn[1], line 3\u001b[0m\n\u001b[1;32m      1\u001b[0m \u001b[38;5;28;01mimport\u001b[39;00m \u001b[38;5;21;01mos\u001b[39;00m\n\u001b[1;32m      2\u001b[0m os\u001b[38;5;241m.\u001b[39mgetcwd()\n\u001b[0;32m----> 3\u001b[0m os\u001b[38;5;241m.\u001b[39mchdir(\u001b[38;5;124m'\u001b[39m\u001b[38;5;124mD:\u001b[39m\u001b[38;5;124m\\\u001b[39m\u001b[38;5;124mGitHub\u001b[39m\u001b[38;5;124m\\\u001b[39m\u001b[38;5;124mCausalDM\u001b[39m\u001b[38;5;124m'\u001b[39m)\n",
      "\u001b[0;31mFileNotFoundError\u001b[0m: [Errno 2] No such file or directory: 'D:\\\\GitHub\\\\CausalDM'"
     ]
    }
   ],
   "source": [
    "import os\n",
    "os.getcwd()\n",
    "os.chdir('D:\\GitHub\\CausalDM')"
   ]
  },
  {
=======
>>>>>>> Stashed changes
   "cell_type": "markdown",
   "id": "8879187f-020b-4dd0-8ddf-143f1aece16a",
   "metadata": {},
   "source": [
    "### Import the learner."
   ]
  },
  {
   "cell_type": "code",
   "execution_count": 1,
   "id": "074a9ca0",
   "metadata": {},
   "outputs": [
    {
     "name": "stderr",
     "output_type": "stream",
     "text": [
      "WARNING (theano.tensor.blas): Using NumPy C-API based implementation for BLAS functions.\n"
     ]
    }
   ],
   "source": [
    "import numpy as np\n",
    "from causaldm.learners.CPL4.Structured_Bandits.Combinatorial_Semi import CombTS"
   ]
  },
  {
   "cell_type": "markdown",
   "id": "c6f98d5d-3cfe-4c7c-a5ee-0df2a5eced87",
   "metadata": {},
   "source": [
    "### Generate the Environment\n",
    "\n",
    "Here, we imitate an environment based on the Adult dataset. The length of horizon, $T$, is specified as $500$."
   ]
  },
  {
   "cell_type": "code",
   "execution_count": 2,
   "id": "0d4c84e3-9eb1-4a37-8f10-157fc8eb64d4",
   "metadata": {},
   "outputs": [
    {
     "ename": "FileNotFoundError",
     "evalue": "[Errno 2] No such file or directory: 'D:\\\\anaconda3\\\\lib\\\\site-packages\\\\causaldm\\\\learners\\\\CPL4\\\\Structured_Bandits\\\\Combinatorial_Semi\\\\data\\\\Semi_realdata_d_4_X_transform_origin_with_intercept_0_L_3000'",
     "output_type": "error",
     "traceback": [
      "\u001b[1;31m---------------------------------------------------------------------------\u001b[0m",
      "\u001b[1;31mFileNotFoundError\u001b[0m                         Traceback (most recent call last)",
      "Input \u001b[1;32mIn [2]\u001b[0m, in \u001b[0;36m<cell line: 2>\u001b[1;34m()\u001b[0m\n\u001b[0;32m      1\u001b[0m \u001b[38;5;28;01mfrom\u001b[39;00m \u001b[38;5;21;01mcausaldm\u001b[39;00m\u001b[38;5;21;01m.\u001b[39;00m\u001b[38;5;21;01mlearners\u001b[39;00m\u001b[38;5;21;01m.\u001b[39;00m\u001b[38;5;21;01mCPL4\u001b[39;00m\u001b[38;5;21;01m.\u001b[39;00m\u001b[38;5;21;01mStructured_Bandits\u001b[39;00m\u001b[38;5;21;01m.\u001b[39;00m\u001b[38;5;21;01mCombinatorial_Semi\u001b[39;00m \u001b[38;5;28;01mimport\u001b[39;00m _env_realComb \u001b[38;5;28;01mas\u001b[39;00m _env\n\u001b[1;32m----> 2\u001b[0m env \u001b[38;5;241m=\u001b[39m \u001b[43m_env\u001b[49m\u001b[38;5;241;43m.\u001b[39;49m\u001b[43mCombSemi_env\u001b[49m\u001b[43m(\u001b[49m\u001b[43mT\u001b[49m\u001b[43m \u001b[49m\u001b[38;5;241;43m=\u001b[39;49m\u001b[43m \u001b[49m\u001b[38;5;241;43m500\u001b[39;49m\u001b[43m,\u001b[49m\u001b[43m \u001b[49m\u001b[43mseed\u001b[49m\u001b[43m \u001b[49m\u001b[38;5;241;43m=\u001b[39;49m\u001b[43m \u001b[49m\u001b[38;5;241;43m0\u001b[39;49m\u001b[43m)\u001b[49m\n",
      "File \u001b[1;32mD:\\anaconda3\\lib\\site-packages\\causaldm\\learners\\CPL4\\_util_online.py:223\u001b[0m, in \u001b[0;36mautoargs.<locals>._autoargs.<locals>.wrapper\u001b[1;34m(self, *args, **kwargs)\u001b[0m\n\u001b[0;32m    221\u001b[0m         \u001b[38;5;28;01mif\u001b[39;00m sieve(attr):\n\u001b[0;32m    222\u001b[0m             \u001b[38;5;28msetattr\u001b[39m(\u001b[38;5;28mself\u001b[39m, attr, val)\n\u001b[1;32m--> 223\u001b[0m \u001b[38;5;28;01mreturn\u001b[39;00m func(\u001b[38;5;28mself\u001b[39m, \u001b[38;5;241m*\u001b[39margs, \u001b[38;5;241m*\u001b[39m\u001b[38;5;241m*\u001b[39mkwargs)\n",
      "File \u001b[1;32mD:\\anaconda3\\lib\\site-packages\\causaldm\\learners\\CPL4\\Structured_Bandits\\Combinatorial_Semi\\_env_realComb.py:17\u001b[0m, in \u001b[0;36mCombSemi_env.__init__\u001b[1;34m(self, T, seed)\u001b[0m\n\u001b[0;32m     14\u001b[0m np\u001b[38;5;241m.\u001b[39mrandom\u001b[38;5;241m.\u001b[39mseed(\u001b[38;5;28mself\u001b[39m\u001b[38;5;241m.\u001b[39mseed)\n\u001b[0;32m     15\u001b[0m random\u001b[38;5;241m.\u001b[39mseed(\u001b[38;5;28mself\u001b[39m\u001b[38;5;241m.\u001b[39mseed)\n\u001b[1;32m---> 17\u001b[0m \u001b[38;5;28mself\u001b[39m\u001b[38;5;241m.\u001b[39mPhi, \u001b[38;5;28mself\u001b[39m\u001b[38;5;241m.\u001b[39mp, \u001b[38;5;28mself\u001b[39m\u001b[38;5;241m.\u001b[39mwith_intercept, \u001b[38;5;28mself\u001b[39m\u001b[38;5;241m.\u001b[39mL, \u001b[38;5;28mself\u001b[39m\u001b[38;5;241m.\u001b[39mtheta \u001b[38;5;241m=\u001b[39m \u001b[43mget_Adult\u001b[49m\u001b[43m(\u001b[49m\u001b[43m)\u001b[49m\n\u001b[0;32m     18\u001b[0m \u001b[38;5;28mself\u001b[39m\u001b[38;5;241m.\u001b[39msigma_2 \u001b[38;5;241m=\u001b[39m \u001b[38;5;241m1\u001b[39m\n\u001b[0;32m     19\u001b[0m \u001b[38;5;28mself\u001b[39m\u001b[38;5;241m.\u001b[39merrors \u001b[38;5;241m=\u001b[39m randn(T, \u001b[38;5;28mself\u001b[39m\u001b[38;5;241m.\u001b[39mL) \u001b[38;5;241m*\u001b[39m \u001b[38;5;28mself\u001b[39m\u001b[38;5;241m.\u001b[39msigma_2\n",
      "File \u001b[1;32mD:\\anaconda3\\lib\\site-packages\\causaldm\\learners\\CPL4\\Structured_Bandits\\Combinatorial_Semi\\_env_realComb.py:31\u001b[0m, in \u001b[0;36mget_Adult\u001b[1;34m()\u001b[0m\n\u001b[0;32m     29\u001b[0m \u001b[38;5;28;01mdef\u001b[39;00m \u001b[38;5;21mget_Adult\u001b[39m():\n\u001b[0;32m     30\u001b[0m     dataset_path \u001b[38;5;241m=\u001b[39m pkg_resources\u001b[38;5;241m.\u001b[39mresource_filename(\u001b[38;5;18m__name__\u001b[39m, \u001b[38;5;124m'\u001b[39m\u001b[38;5;124mdata/Semi_realdata_d_4_X_transform_origin_with_intercept_0_L_3000\u001b[39m\u001b[38;5;124m'\u001b[39m)\n\u001b[1;32m---> 31\u001b[0m     \u001b[38;5;28;01mwith\u001b[39;00m \u001b[38;5;28;43mopen\u001b[39;49m\u001b[43m(\u001b[49m\u001b[43mdataset_path\u001b[49m\u001b[43m,\u001b[49m\u001b[43m \u001b[49m\u001b[38;5;124;43m\"\u001b[39;49m\u001b[38;5;124;43mrb\u001b[39;49m\u001b[38;5;124;43m\"\u001b[39;49m\u001b[43m)\u001b[49m \u001b[38;5;28;01mas\u001b[39;00m fp:\n\u001b[0;32m     32\u001b[0m         Adult \u001b[38;5;241m=\u001b[39m pickle\u001b[38;5;241m.\u001b[39mload(fp) \n\u001b[0;32m     33\u001b[0m     with_intercept \u001b[38;5;241m=\u001b[39m \u001b[38;5;28;01mFalse\u001b[39;00m\n",
      "\u001b[1;31mFileNotFoundError\u001b[0m: [Errno 2] No such file or directory: 'D:\\\\anaconda3\\\\lib\\\\site-packages\\\\causaldm\\\\learners\\\\CPL4\\\\Structured_Bandits\\\\Combinatorial_Semi\\\\data\\\\Semi_realdata_d_4_X_transform_origin_with_intercept_0_L_3000'"
     ]
    }
   ],
   "source": [
    "from causaldm.learners.CPL4.Structured_Bandits.Combinatorial_Semi import _env_realComb as _env\n",
    "env = _env.CombSemi_env(T = 500, seed = 0)"
   ]
  },
  {
   "cell_type": "markdown",
   "id": "e14a0185-b352-4461-a4a5-bcef01fc3e6f",
   "metadata": {},
   "source": [
    "### Specify Hyperparameters\n",
    "- K: number of itmes to be recommended at each round\n",
    "- L: total number of candidate items\n",
    "- sigma: standard deviation of reward distribution (Note: we assume that the observed reward's random noise comes from the same distribution for all items.)\n",
    "- u_prior_mean: mean of the Gaussian prior of the mean rewards $\\boldsymbol{\\theta}$\n",
    "- u_prior_cov_diag: the diagonal of the covariance matrix of the Gaussian prior of the mean rewards $\\boldsymbol{\\theta}$\n",
    "- seed: random seed"
   ]
  },
  {
   "cell_type": "code",
   "execution_count": 4,
   "id": "14c2ed83",
   "metadata": {},
   "outputs": [],
   "source": [
    "L = env.L\n",
    "K = 10\n",
    "sigma = 1\n",
    "u_prior_mean = np.zeros(L)\n",
    "u_prior_cov_diag = np.ones(L)\n",
    "seed = 0\n",
    "TS_agent = CombTS.TS_Semi(L = L, K = K, sigma = sigma, u_prior_mean = u_prior_mean,\n",
    "                          u_prior_cov_diag = u_prior_cov_diag, seed = seed)"
   ]
  },
  {
   "cell_type": "markdown",
   "id": "7f8842e7-4e39-467c-983b-7ac3638d01a5",
   "metadata": {},
   "source": [
    "### Recommendation and Interaction\n",
    "\n",
    "Starting from t = 0, for each step t, there are four steps:\n",
    "1. Recommend an action (a set of ordered restaturants)\n",
    "<code> A = TS_agent.take_action() </code>\n",
    "2. Get the reward of each item recommended from the environment\n",
    "<code> R, _, tot_R = env.get_reward(A, t) </code>\n",
    "3. Update the posterior distribution\n",
    "<code> TS_agent.receive_reward(t, A, R) </code>"
   ]
  },
  {
   "cell_type": "code",
   "execution_count": 5,
   "id": "904494c5-51c8-4e52-98c8-4cf8081bcc21",
   "metadata": {},
   "outputs": [
    {
     "data": {
      "text/plain": [
       "(0,\n",
       " array([1054, 2060,  943,  494, 1488, 1351, 1816,  898, 1587, 1114]),\n",
       " array([3.321 , 3.0791, 2.8094, 2.8462, 2.8306, 2.6929, 2.6706, 2.6444,\n",
       "        2.5902, 2.5764]),\n",
       " 28.0607550383245)"
      ]
     },
     "execution_count": 5,
     "metadata": {},
     "output_type": "execute_result"
    }
   ],
   "source": [
    "t = 0\n",
    "A = TS_agent.take_action()\n",
    "R, _, tot_R = env.get_reward(A, t)\n",
    "TS_agent.receive_reward(t, A, R)\n",
    "t, A, R, tot_R"
   ]
  },
  {
   "cell_type": "markdown",
   "id": "54cf743e",
   "metadata": {},
   "source": [
    "**Interpretation**: For step 0, the agent decides to send the advertisement to 10 potential customers (1054, 2060,  943,  494, 1488, 1351, 1816,  898, 1587, 1114), and then receives a total reward of $28.06$."
   ]
  },
  {
   "cell_type": "markdown",
   "id": "c7723d78",
   "metadata": {},
   "source": [
    "## References\n",
    "[1] Chen, W., Wang, Y., & Yuan, Y. (2013, February). Combinatorial multi-armed bandit: General framework and applications. In International conference on machine learning (pp. 151-159). PMLR.\n",
    "\n",
    "[2] Perrault, P., Boursier, E., Valko, M., & Perchet, V. (2020). Statistical efficiency of thompson sampling for combinatorial semi-bandits. Advances in Neural Information Processing Systems, 33, 5429-5440."
   ]
  },
  {
   "cell_type": "code",
   "execution_count": null,
   "id": "4fa918a4",
   "metadata": {},
   "outputs": [],
   "source": []
  }
 ],
 "metadata": {
  "kernelspec": {
   "display_name": "Python 3 (ipykernel)",
   "language": "python",
   "name": "python3"
  },
  "language_info": {
   "codemirror_mode": {
    "name": "ipython",
    "version": 3
   },
   "file_extension": ".py",
   "mimetype": "text/x-python",
   "name": "python",
   "nbconvert_exporter": "python",
   "pygments_lexer": "ipython3",
<<<<<<< Updated upstream
   "version": "3.11.3"
=======
   "version": "3.9.12"
>>>>>>> Stashed changes
  }
 },
 "nbformat": 4,
 "nbformat_minor": 5
}
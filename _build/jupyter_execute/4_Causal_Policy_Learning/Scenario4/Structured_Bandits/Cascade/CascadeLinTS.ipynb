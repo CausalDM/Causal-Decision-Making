{
 "cells": [
  {
   "cell_type": "markdown",
   "metadata": {
    "tags": []
   },
   "source": [
    "# CascadeLinTS\n",
    "\n",
    "## Overview\n",
    "- **Advantage**: It is scalable when the features are used. It outperforms algorithms based on other frameworks, such as UCB, in practice.\n",
    "- **Disadvantage**: It is susceptible to model misspecification.\n",
    "- **Application Situation**: Useful when presenting a ranked list of items, with only one selected at each interaction. The outcome is binary.\n",
    "\n",
    "## Main Idea\n",
    "\n",
    "Motivated by observations in most real-world applications, which have a large number of candidate items, Zong et al. (2016) proposed using feature information that is widely available to improve learning efficiency. Utilizing the feature information of each item $i$, **CascadeLinTS** [1] characterize $\\theta_{i}=E[W_t(i)]$ by assuming that\n",
    "\\begin{equation}\n",
    "\\theta_{i} = logistic(\\boldsymbol{s}_{i,t}^T \\boldsymbol{\\gamma}),\n",
    "\\end{equation}where $logistic(s) \\equiv 1 / (1 + exp^{-1}(s))$. \n",
    "\n",
    "Similar to the Thompson Sampling algorithm with generalized linear bandits [2], we approximate the posterior distribution of $\\boldsymbol{\\gamma}$ by its Laplace approximation. Specifically, we approximate the posterior of $\\boldsymbol{\\gamma}$ as:\n",
    "\\begin{equation}\n",
    "    \\begin{split}\n",
    "    \\tilde{\\boldsymbol{\\gamma}}^{t} &\\sim \\mathcal{N}\\Big(\\hat{\\boldsymbol{\\gamma}}_{t}, \\alpha^2 \\boldsymbol{H}_{t}^{-1}\\Big),\\\\\n",
    "    \\boldsymbol{H}_{t} &= \\sum_{t}\\mu^{'}(\\boldsymbol{S}_{t}^{T}\\hat{\\boldsymbol{\\gamma}}^{t})\\boldsymbol{S}_{t}\\boldsymbol{S}_{t}^{T},\n",
    "    \\end{split}\n",
    "\\end{equation} where $\\alpha$ is a pre-specified constant to control the degree of exploration, and $\\mu^{'}(\\cdot)$ is the derivative of the mean function. It should be noted that the posterior updating step differs for different pairs of the prior distribution of $\\boldsymbol{\\gamma}$ and the reward distribution, and the code can be easily modified to different prior/reward distribution specifications if necessary.\n",
    "\n",
    "\n",
    "## Key Steps\n",
    "For round $t = 1,2,\\cdots$:\n",
    "1. Approximate $P(\\boldsymbol{\\gamma}|\\mathcal{H}_{t})$ by the Laplace approximation;\n",
    "2. Sample $\\tilde{\\boldsymbol{\\gamma}} \\sim P(\\boldsymbol{\\gamma}|\\mathcal{H}_{t})$;\n",
    "3. Update $\\tilde{\\boldsymbol{\\theta}}$ as $logistic(\\boldsymbol{s}_{i,t}^T \\tilde{\\boldsymbol{\\gamma}})$;\n",
    "5. Take the action $A_{t}$ w.r.t $\\tilde{\\boldsymbol{\\theta}}$ such that $A_t = arg max_{a \\in \\mathcal{A}} E(R_t(a) \\mid \\tilde{\\boldsymbol{\\theta}})$;\n",
    "6. Receive reward $R_{t}$.\n",
    "\n",
    "*Notations can be found in either the inroduction of the chapter \"Structured Bandits\" or the introduction of the cascading Bandit problems."
   ]
  },
  {
   "cell_type": "markdown",
   "metadata": {},
   "source": [
    "## Demo Code"
   ]
  },
  {
   "cell_type": "code",
   "execution_count": 1,
   "metadata": {},
   "outputs": [
    {
     "ename": "FileNotFoundError",
     "evalue": "[Errno 2] No such file or directory: 'D:\\\\GitHub\\\\CausalDM'",
     "output_type": "error",
     "traceback": [
      "\u001b[0;31m---------------------------------------------------------------------------\u001b[0m",
      "\u001b[0;31mFileNotFoundError\u001b[0m                         Traceback (most recent call last)",
      "\u001b[0;32m/var/folders/9j/vb5nb4rd5bx0gr1q5ytx9q600000gn/T/ipykernel_21339/836241344.py\u001b[0m in \u001b[0;36m<module>\u001b[0;34m\u001b[0m\n\u001b[1;32m      1\u001b[0m \u001b[0;32mimport\u001b[0m \u001b[0mos\u001b[0m\u001b[0;34m\u001b[0m\u001b[0;34m\u001b[0m\u001b[0m\n\u001b[1;32m      2\u001b[0m \u001b[0mos\u001b[0m\u001b[0;34m.\u001b[0m\u001b[0mgetcwd\u001b[0m\u001b[0;34m(\u001b[0m\u001b[0;34m)\u001b[0m\u001b[0;34m\u001b[0m\u001b[0;34m\u001b[0m\u001b[0m\n\u001b[0;32m----> 3\u001b[0;31m \u001b[0mos\u001b[0m\u001b[0;34m.\u001b[0m\u001b[0mchdir\u001b[0m\u001b[0;34m(\u001b[0m\u001b[0;34m'D:\\GitHub\\CausalDM'\u001b[0m\u001b[0;34m)\u001b[0m\u001b[0;34m\u001b[0m\u001b[0;34m\u001b[0m\u001b[0m\n\u001b[0m",
      "\u001b[0;31mFileNotFoundError\u001b[0m: [Errno 2] No such file or directory: 'D:\\\\GitHub\\\\CausalDM'"
     ]
    }
   ],
   "source": [
    "import os\n",
    "os.getcwd()\n",
    "os.chdir('D:\\GitHub\\CausalDM')"
   ]
  },
  {
   "cell_type": "markdown",
   "metadata": {},
   "source": [
    "### Import the learner."
   ]
  },
  {
   "cell_type": "code",
   "execution_count": 2,
   "metadata": {},
   "outputs": [],
   "source": [
    "import numpy as np\n",
    "from causaldm.learners.Online.Structured_Bandits.Cascade import CascadeLinTS"
   ]
  },
  {
   "cell_type": "markdown",
   "metadata": {},
   "source": [
    "### Generate the Environment\n",
    "\n",
    "Here, we imitate an environment based on the Yelp dataset. The number of items recommended at each round, $K$, is specified as $3$."
   ]
  },
  {
   "cell_type": "code",
   "execution_count": 3,
   "metadata": {},
   "outputs": [],
   "source": [
    "from causaldm.learners.Online.Structured_Bandits.Cascade import _env_realCascade as _env\n",
    "env = _env.Cascading_env(K = 3, seed = 0)"
   ]
  },
  {
   "cell_type": "markdown",
   "metadata": {},
   "source": [
    "### Specify Hyperparameters\n",
    "- K: number of itmes to be recommended at each round\n",
    "- L: total number of candidate items\n",
    "- p: number of features (If the intercept is considerd, p includes the intercept as well.)\n",
    "- alpha: degree of exploration (default = 1)\n",
    "- retrain_freq: frequency to train the generalized linear model (i.e., update every retrain_freq steps)\n",
    "- seed: random seed"
   ]
  },
  {
   "cell_type": "code",
   "execution_count": 4,
   "metadata": {},
   "outputs": [],
   "source": [
    "K = env.K\n",
    "L = env.L\n",
    "p = env.p\n",
    "alpha = 1\n",
    "retrain_freq = 1\n",
    "seed = 0\n",
    "LinTS_agent = CascadeLinTS.CascadeLinTS(K = K, L = L, p = p, alpha = alpha, \n",
    "                                        retrain_freq = retrain_freq, seed = seed)"
   ]
  },
  {
   "cell_type": "markdown",
   "metadata": {},
   "source": [
    "### Recommendation and Interaction\n",
    "We fisrt observe the feature information $X$ by\n",
    "<code> X = env.Phi </code>. (Note: if an intercept is considered, the X should include a column of ones). Starting from t = 0, for each step t, there are three steps:\n",
    "1. Recommend an action (a set of ordered restaturants)\n",
    "<code> A = LinTS_agent.take_action(X) </code>\n",
    "2. Get the reward from the environment (i.e., $W$, $E$, and $R$)\n",
    "<code> W,E,R = env.get_reward(A) </code>\n",
    "3. Update the posterior distribution\n",
    "<code> LinTS_agent.receive_reward(A,W,E,t,X) </code>"
   ]
  },
  {
   "cell_type": "code",
   "execution_count": 5,
   "metadata": {},
   "outputs": [
    {
     "data": {
      "text/plain": [
       "(array([1301, 2087, 1123]), array([0., 0., 0.]), array([1., 1., 1.]), 0.0)"
      ]
     },
     "execution_count": 5,
     "metadata": {},
     "output_type": "execute_result"
    }
   ],
   "source": [
    "t = 0\n",
    "X = env.Phi\n",
    "A = LinTS_agent.take_action(X)\n",
    "W,E,R = env.get_reward(A)\n",
    "LinTS_agent.receive_reward(A,W,E,t,X)\n",
    "A, W, E, R"
   ]
  },
  {
   "cell_type": "markdown",
   "metadata": {},
   "source": [
    "**Interpretation**: For step 0, the agent decides to display three top restaurants, the first of which is restaurant 1301, the second is restaurant 2087, and the third is restaurant 1123. Unfortunately, the customer does not show any interest in any of the recommended restaurants. As a result, the agent receives a zero reward at round $0$."
   ]
  },
  {
   "cell_type": "markdown",
   "metadata": {},
   "source": [
    "## References\n",
    "\n",
    "[1] Zong, S., Ni, H., Sung, K., Ke, N. R., Wen, Z., & Kveton, B. (2016). Cascading bandits for large-scale recommendation problems. arXiv preprint arXiv:1603.05359.\n",
    "\n",
    "[2] Kveton, B., Zaheer, M., Szepesvari, C., Li, L., Ghavamzadeh, M., & Boutilier, C. (2020, June). Randomized exploration in generalized linear bandits. In International Conference on Artificial Intelligence and Statistics (pp. 2066-2076). PMLR."
   ]
  }
 ],
 "metadata": {
  "kernelspec": {
   "display_name": "Python 3 (ipykernel)",
   "language": "python",
   "name": "python3"
  },
  "language_info": {
   "codemirror_mode": {
    "name": "ipython",
    "version": 3
   },
   "file_extension": ".py",
   "mimetype": "text/x-python",
   "name": "python",
   "nbconvert_exporter": "python",
   "pygments_lexer": "ipython3",
   "version": "3.9.13"
  }
 },
 "nbformat": 4,
 "nbformat_minor": 4
}
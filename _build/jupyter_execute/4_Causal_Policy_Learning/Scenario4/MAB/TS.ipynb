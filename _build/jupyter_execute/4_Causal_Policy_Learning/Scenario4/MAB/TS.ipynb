{
 "cells": [
  {
   "cell_type": "markdown",
   "id": "d5e46f9d",
   "metadata": {},
   "source": [
    "# TS\n",
    "\n",
    "## Overview\n",
    "- **Advantage**: Be able to incorporate prior knowledge about reward distribution, which is especially useful when the prior knowledge is informative. Taking uncertainty into account by updating the posterior distribution of the expectation of potential reward to achieve a good balance between exploration and exploitation.\n",
    "- **Disadvantage**: Inefficient if there is a large number of action items. \n",
    "- **Application Situation**: discrete action space, binary/Gaussian reward space\n",
    "\n",
    "## Main Idea\n",
    "\n",
    "Thompson Sampling (TS), also known as posterior sampling, solves the exploration-exploitation dilemma by selecting an action according to its posterior distribution [1].  At each round $t$, the agent sample the rewards from the corresponding posterior distributions of the expectation of the potential reward (i.e., $E[R_t(a)]$) and then select the action with the highest sampled reward greedily. It has been shown that, when the true reward distribution is known, a TS algorithm with the true reward distribution as the prior is nearly optimal [2]. However, such a distribution is always unknown in practice. Therefore, one of the major objectives of TS-based algorithms is to find an informative prior to guide the exploration. Note that the algorithm here supports bandit problem with either binary reward or continuous reward.\n",
    "\n",
    "## Algorithms Details\n",
    "Supposed there are $K$ options, and the action space is $\\mathcal{A} = \\{0,1,\\cdots, K-1\\}$. The TS algorithm starts with specifying a prior distribution of the potential reward, based on the domian knowledge. At each round $t$, the agent will samples a vector of $\\boldsymbol{\\theta}^{t}$ from the posterior distribution of the potential rewards. The action $a$ with the greatest $\\theta_{a}^{t}$ is then selected. Finally, the posterior distribution would be updated after receiving the realized reward at the end of each round. Note that the posterior updating step differs for different pairs of prior distribution of the mean reward and reward distribution. Here, we consider two classical examples of the TS algorithm, including\n",
    "\n",
    "- Gaussian Bandits\n",
    "\\begin{aligned}\n",
    "\\boldsymbol{\\theta} &\\sim Q(\\boldsymbol{\\theta}),\\\\\n",
    "R_t(a) &\\sim \\mathcal{N}(\\theta_a,\\sigma^2),\n",
    "\\end{aligned}\n",
    "- Bernoulli Bandits\n",
    "\\begin{aligned}\n",
    "\\boldsymbol{\\theta} &\\sim Q(\\boldsymbol{\\theta}),\\\\\n",
    "R_t(a) &\\sim Bernoulli(\\theta_a).\n",
    "\\end{aligned}\n",
    "\n",
    "Assuming a Gaussian prior for the Gaussian bandits and a Beta prior for the Bernoulli bandits, the posterior updating is straightforward with closed-form expression. In the Gaussian bandits, the variance of reward $\\sigma^2$ is assumed to be known, and need to be specified manually. Note that code can be easily modified to different specifications of the prior/potential reward distribution.\n",
    "\n",
    "## Key Steps\n",
    "\n",
    "1. Specifying a prior distirbution of $E[R_0(a)]$, $a \\in \\mathcal{A}$, and the variance of the reward distribution.\n",
    "2. For t = $0, 1,\\cdots, T$:\n",
    "    - sample a $\\boldsymbol{\\theta}^{t}$ from the posterior distribution of $E[R_t(a)]$ or prior distribution if in round $0$\n",
    "    - select action $A_t$ which has the greatest $\\theta^{t}_{a}$, i.e. $A_t = \\arg\\max_{a \\in \\mathcal{A}} \\theta_{a}^{t}$\n",
    "    - receive the rewad $R_t$, and update the posterior distirbution accordingly."
   ]
  },
  {
   "cell_type": "markdown",
   "id": "84b637b3",
   "metadata": {},
   "source": [
    "## Demo Code"
   ]
  },
  {
<<<<<<< Updated upstream
   "cell_type": "code",
   "execution_count": 1,
   "id": "235c1077",
   "metadata": {},
   "outputs": [
    {
     "ename": "FileNotFoundError",
     "evalue": "[Errno 2] No such file or directory: 'D:\\\\GitHub\\\\CausalDM'",
     "output_type": "error",
     "traceback": [
      "\u001b[0;31m---------------------------------------------------------------------------\u001b[0m",
      "\u001b[0;31mFileNotFoundError\u001b[0m                         Traceback (most recent call last)",
      "Cell \u001b[0;32mIn[1], line 3\u001b[0m\n\u001b[1;32m      1\u001b[0m \u001b[38;5;28;01mimport\u001b[39;00m \u001b[38;5;21;01mos\u001b[39;00m\n\u001b[1;32m      2\u001b[0m os\u001b[38;5;241m.\u001b[39mgetcwd()\n\u001b[0;32m----> 3\u001b[0m os\u001b[38;5;241m.\u001b[39mchdir(\u001b[38;5;124m'\u001b[39m\u001b[38;5;124mD:\u001b[39m\u001b[38;5;124m\\\u001b[39m\u001b[38;5;124mGitHub\u001b[39m\u001b[38;5;124m\\\u001b[39m\u001b[38;5;124mCausalDM\u001b[39m\u001b[38;5;124m'\u001b[39m)\n",
      "\u001b[0;31mFileNotFoundError\u001b[0m: [Errno 2] No such file or directory: 'D:\\\\GitHub\\\\CausalDM'"
     ]
    }
   ],
   "source": [
    "import os\n",
    "os.getcwd()\n",
    "os.chdir('D:\\GitHub\\CausalDM')"
   ]
  },
  {
=======
>>>>>>> Stashed changes
   "cell_type": "markdown",
   "id": "ccbe8587-c8be-4c6a-b5fc-ac13d6fe5dcf",
   "metadata": {},
   "source": [
    "### Import the learner."
   ]
  },
  {
   "cell_type": "code",
   "execution_count": 1,
   "id": "7e162a29",
   "metadata": {},
   "outputs": [
    {
     "name": "stderr",
     "output_type": "stream",
     "text": [
      "WARNING (theano.tensor.blas): Using NumPy C-API based implementation for BLAS functions.\n"
     ]
    }
   ],
   "source": [
    "import numpy as np\n",
    "from causaldm.learners.CPL4.MAB import TS"
   ]
  },
  {
   "cell_type": "markdown",
   "id": "9ca379a3-d2e5-41fe-b450-b4bf86de4684",
   "metadata": {},
   "source": [
    "### Generate the Environment\n",
    "\n",
    "Here, we imitate an environment based on the MovieLens data."
   ]
  },
  {
   "cell_type": "code",
   "execution_count": 2,
   "id": "45c9e511",
   "metadata": {},
   "outputs": [
    {
     "ename": "FileNotFoundError",
     "evalue": "[Errno 2] No such file or directory: 'D:\\\\anaconda3\\\\lib\\\\site-packages\\\\causaldm\\\\learners\\\\CPL4\\\\MAB\\\\data\\\\MovieLens_MTTS_1M.txt'",
     "output_type": "error",
     "traceback": [
      "\u001b[1;31m---------------------------------------------------------------------------\u001b[0m",
      "\u001b[1;31mFileNotFoundError\u001b[0m                         Traceback (most recent call last)",
      "Input \u001b[1;32mIn [2]\u001b[0m, in \u001b[0;36m<cell line: 2>\u001b[1;34m()\u001b[0m\n\u001b[0;32m      1\u001b[0m \u001b[38;5;28;01mfrom\u001b[39;00m \u001b[38;5;21;01mcausaldm\u001b[39;00m\u001b[38;5;21;01m.\u001b[39;00m\u001b[38;5;21;01mlearners\u001b[39;00m\u001b[38;5;21;01m.\u001b[39;00m\u001b[38;5;21;01mCPL4\u001b[39;00m\u001b[38;5;21;01m.\u001b[39;00m\u001b[38;5;21;01mMAB\u001b[39;00m \u001b[38;5;28;01mimport\u001b[39;00m _env_realMAB \u001b[38;5;28;01mas\u001b[39;00m _env\n\u001b[1;32m----> 2\u001b[0m env \u001b[38;5;241m=\u001b[39m \u001b[43m_env\u001b[49m\u001b[38;5;241;43m.\u001b[39;49m\u001b[43mSingle_Gaussian_Env\u001b[49m\u001b[43m(\u001b[49m\u001b[43mseed\u001b[49m\u001b[43m \u001b[49m\u001b[38;5;241;43m=\u001b[39;49m\u001b[43m \u001b[49m\u001b[38;5;241;43m42\u001b[39;49m\u001b[43m)\u001b[49m\n",
      "File \u001b[1;32mD:\\anaconda3\\lib\\site-packages\\causaldm\\learners\\CPL4\\_util_online.py:223\u001b[0m, in \u001b[0;36mautoargs.<locals>._autoargs.<locals>.wrapper\u001b[1;34m(self, *args, **kwargs)\u001b[0m\n\u001b[0;32m    221\u001b[0m         \u001b[38;5;28;01mif\u001b[39;00m sieve(attr):\n\u001b[0;32m    222\u001b[0m             \u001b[38;5;28msetattr\u001b[39m(\u001b[38;5;28mself\u001b[39m, attr, val)\n\u001b[1;32m--> 223\u001b[0m \u001b[38;5;28;01mreturn\u001b[39;00m func(\u001b[38;5;28mself\u001b[39m, \u001b[38;5;241m*\u001b[39margs, \u001b[38;5;241m*\u001b[39m\u001b[38;5;241m*\u001b[39mkwargs)\n",
      "File \u001b[1;32mD:\\anaconda3\\lib\\site-packages\\causaldm\\learners\\CPL4\\MAB\\_env_realMAB.py:35\u001b[0m, in \u001b[0;36mSingle_Gaussian_Env.__init__\u001b[1;34m(self, seed)\u001b[0m\n\u001b[0;32m     33\u001b[0m \u001b[38;5;28mself\u001b[39m\u001b[38;5;241m.\u001b[39mseed \u001b[38;5;241m=\u001b[39m seed\n\u001b[0;32m     34\u001b[0m np\u001b[38;5;241m.\u001b[39mrandom\u001b[38;5;241m.\u001b[39mseed(\u001b[38;5;28mself\u001b[39m\u001b[38;5;241m.\u001b[39mseed)\n\u001b[1;32m---> 35\u001b[0m \u001b[38;5;28;43mself\u001b[39;49m\u001b[38;5;241;43m.\u001b[39;49m\u001b[43mget_r\u001b[49m\u001b[43m(\u001b[49m\u001b[43m)\u001b[49m\n",
      "File \u001b[1;32mD:\\anaconda3\\lib\\site-packages\\causaldm\\learners\\CPL4\\MAB\\_env_realMAB.py:38\u001b[0m, in \u001b[0;36mSingle_Gaussian_Env.get_r\u001b[1;34m(self)\u001b[0m\n\u001b[0;32m     37\u001b[0m \u001b[38;5;28;01mdef\u001b[39;00m \u001b[38;5;21mget_r\u001b[39m(\u001b[38;5;28mself\u001b[39m):\n\u001b[1;32m---> 38\u001b[0m     true_r \u001b[38;5;241m=\u001b[39m \u001b[43mget_movielens\u001b[49m\u001b[43m(\u001b[49m\u001b[43mbinary\u001b[49m\u001b[38;5;241;43m=\u001b[39;49m\u001b[38;5;28;43;01mFalse\u001b[39;49;00m\u001b[43m)\u001b[49m\n\u001b[0;32m     39\u001b[0m     arm \u001b[38;5;241m=\u001b[39m \u001b[38;5;28mlist\u001b[39m(true_r\u001b[38;5;241m.\u001b[39mkeys())\n\u001b[0;32m     40\u001b[0m     \u001b[38;5;28mself\u001b[39m\u001b[38;5;241m.\u001b[39mK \u001b[38;5;241m=\u001b[39m \u001b[38;5;28mlen\u001b[39m(arm)\n",
      "File \u001b[1;32mD:\\anaconda3\\lib\\site-packages\\causaldm\\learners\\CPL4\\MAB\\_env_realMAB.py:51\u001b[0m, in \u001b[0;36mget_movielens\u001b[1;34m(binary)\u001b[0m\n\u001b[0;32m     49\u001b[0m \u001b[38;5;28;01mdef\u001b[39;00m \u001b[38;5;21mget_movielens\u001b[39m(binary\u001b[38;5;241m=\u001b[39m\u001b[38;5;28;01mFalse\u001b[39;00m):\n\u001b[0;32m     50\u001b[0m     dataset_path \u001b[38;5;241m=\u001b[39m pkg_resources\u001b[38;5;241m.\u001b[39mresource_filename(\u001b[38;5;18m__name__\u001b[39m, \u001b[38;5;124m'\u001b[39m\u001b[38;5;124mdata/MovieLens_MTTS_1M.txt\u001b[39m\u001b[38;5;124m'\u001b[39m)\n\u001b[1;32m---> 51\u001b[0m     \u001b[38;5;28;01mwith\u001b[39;00m \u001b[38;5;28;43mopen\u001b[39;49m\u001b[43m(\u001b[49m\u001b[43mdataset_path\u001b[49m\u001b[43m,\u001b[49m\u001b[43m \u001b[49m\u001b[38;5;124;43m\"\u001b[39;49m\u001b[38;5;124;43mrb\u001b[39;49m\u001b[38;5;124;43m\"\u001b[39;49m\u001b[43m)\u001b[49m \u001b[38;5;28;01mas\u001b[39;00m fp:\n\u001b[0;32m     52\u001b[0m         MovieLens \u001b[38;5;241m=\u001b[39m pickle\u001b[38;5;241m.\u001b[39mload(fp) \n\u001b[0;32m     53\u001b[0m     arm \u001b[38;5;241m=\u001b[39m \u001b[38;5;28mlist\u001b[39m(MovieLens[\u001b[38;5;124m'\u001b[39m\u001b[38;5;124mIndividual\u001b[39m\u001b[38;5;124m'\u001b[39m][\u001b[38;5;28mlist\u001b[39m(MovieLens[\u001b[38;5;124m'\u001b[39m\u001b[38;5;124mIndividual\u001b[39m\u001b[38;5;124m'\u001b[39m]\u001b[38;5;241m.\u001b[39mkeys())[\u001b[38;5;241m0\u001b[39m]]\u001b[38;5;241m.\u001b[39mkeys())[\u001b[38;5;241m1\u001b[39m:]\n",
      "\u001b[1;31mFileNotFoundError\u001b[0m: [Errno 2] No such file or directory: 'D:\\\\anaconda3\\\\lib\\\\site-packages\\\\causaldm\\\\learners\\\\CPL4\\\\MAB\\\\data\\\\MovieLens_MTTS_1M.txt'"
     ]
    }
   ],
   "source": [
    "from causaldm.learners.CPL4.MAB import _env_realMAB as _env\n",
    "env = _env.Single_Gaussian_Env(seed = 42)"
   ]
  },
  {
   "cell_type": "markdown",
   "id": "2d834aee-319a-404d-b833-d4928fa3356a",
   "metadata": {},
   "source": [
    "### Specify Hyperparameters\n",
    "\n",
    "- Reward_Type: the type of the MAB, i.e., \"Gaussian\"/\"Bernoulli\"\n",
    "- sigma: the standard deviation of the reward distributions\n",
    "- u_prior_mean: mean of the prior distribution of the mean reward\n",
    "- u_prior_cov: Covaraince matrix of the prior distribution of the mean reward\n",
    "- seed: random seed"
   ]
  },
  {
   "cell_type": "code",
   "execution_count": 7,
   "id": "f973e0e8-aaaf-4182-900d-e60d23ef6f2c",
   "metadata": {},
   "outputs": [],
   "source": [
    "Reward_Type = \"Gaussian\"\n",
    "sigma = 1\n",
    "K = env.K\n",
    "u_prior_mean = np.ones(K)\n",
    "u_prior_cov = 10000*np.identity(K)\n",
    "seed = 0\n",
    "TS_Gaussian_agent = TS.TS(Reward_Type = Reward_Type, sigma = sigma, \n",
    "                          u_prior_mean = u_prior_mean, u_prior_cov = u_prior_cov, \n",
    "                          seed = seed)"
   ]
  },
  {
   "cell_type": "markdown",
   "id": "198a4ca3-841f-4483-91b2-0ee4b0328df8",
   "metadata": {},
   "source": [
    "### Recommendation and Interaction\n",
    "\n",
    "Starting from t = 0, for each step t, there are three steps:\n",
    "1. Recommend an action \n",
    "<code> A = TS_Gaussian_agent.take_action() </code>\n",
    "2. Get the reward from the environment \n",
    "<code> R = env.get_reward(t,A) </code>\n",
    "3. Update the posterior distribution\n",
    "<code> TS_Gaussian_agent.receive_reward(t,A,R) </code>"
   ]
  },
  {
   "cell_type": "code",
   "execution_count": 8,
   "id": "bb3ae61e-bd27-4f9f-9460-683be01965eb",
   "metadata": {},
   "outputs": [
    {
     "data": {
      "text/plain": [
       "(0, 3, 2)"
      ]
     },
     "execution_count": 8,
     "metadata": {},
     "output_type": "execute_result"
    }
   ],
   "source": [
    "t = 0\n",
    "A = TS_Gaussian_agent.take_action()\n",
    "R = env.get_reward(A)\n",
    "TS_Gaussian_agent.receive_reward(t,A,R)\n",
    "t, A, R"
   ]
  },
  {
   "cell_type": "markdown",
   "id": "cd5ccf54-e7a1-40b3-851b-f0a4d1b2be05",
   "metadata": {},
   "source": [
    "**Interpretation**: For step 0, the TS agent recommend a Thriller (arm 3), and received a rate of 2 from the environment."
   ]
  },
  {
   "cell_type": "markdown",
   "id": "9fb23407-6f40-4925-9eb8-8f7207c70e29",
   "metadata": {},
   "source": [
    "### Demo Code for Bernoulli Bandit\n",
    "The steps are similar to those previously performed with a Gaussian Bandit. Note that, when specifying the prior distribution of the expected reward, the mean-precision form of the Beta distribution is used here, i.e., Beta($\\mu$, $\\phi$), where $\\mu$ is the mean reward of each arm and $\\phi$ is the precision of the Beta distribution. "
   ]
  },
  {
   "cell_type": "code",
   "execution_count": 13,
   "id": "710fd88b-3bb5-4b36-8240-bd2976376f1e",
   "metadata": {},
   "outputs": [
    {
     "data": {
      "text/plain": [
       "(0, 4, 0)"
      ]
     },
     "execution_count": 13,
     "metadata": {},
     "output_type": "execute_result"
    }
   ],
   "source": [
    "env = _env.Single_Bernoulli_Env(seed=42)\n",
    "\n",
    "K = env.K\n",
    "Reward_Type = \"Bernoulli\"\n",
    "## specify the mean of the prior beta distribution\n",
    "u_prior_mean = .5*np.ones(K)\n",
    "## specify the precision of the prior beta distribution\n",
    "prior_phi_beta = 1\n",
    "TS_Bernoulli_agent = TS.TS(Reward_Type = Reward_Type,\n",
    "                           u_prior_mean = u_prior_mean,\n",
    "                           prior_phi_beta = prior_phi_beta,\n",
    "                           seed = seed)\n",
    "t = 0\n",
    "A = TS_Bernoulli_agent.take_action()\n",
    "R = env.get_reward(A)\n",
    "TS_Bernoulli_agent.receive_reward(t,A,R)\n",
    "t, A, R"
   ]
  },
  {
   "cell_type": "markdown",
   "id": "0be50e39-8728-493e-b9fa-969f84aea99c",
   "metadata": {},
   "source": [
    "**Interpretation**: For step 0, the TS agent recommend a Sci-Fi (arm 4), and received a reward of 0 from the environment."
   ]
  },
  {
   "cell_type": "markdown",
   "id": "90d947e5",
   "metadata": {},
   "source": [
    "## References\n",
    "[1] Russo, D., Van Roy, B., Kazerouni, A., Osband, I., and Wen, Z. (2017). A tutorial on thompson sampling. arXiv preprint arXiv:1707.0203\n",
    "\n",
    "[2] Lattimore, T. and Szepesv´ari, C. (2020). Bandit algorithms. Cambridge University Press."
   ]
  }
 ],
 "metadata": {
  "kernelspec": {
   "display_name": "Python 3 (ipykernel)",
   "language": "python",
   "name": "python3"
  },
  "language_info": {
   "codemirror_mode": {
    "name": "ipython",
    "version": 3
   },
   "file_extension": ".py",
   "mimetype": "text/x-python",
   "name": "python",
   "nbconvert_exporter": "python",
   "pygments_lexer": "ipython3",
<<<<<<< Updated upstream
   "version": "3.11.3"
=======
   "version": "3.9.12"
>>>>>>> Stashed changes
  }
 },
 "nbformat": 4,
 "nbformat_minor": 5
}
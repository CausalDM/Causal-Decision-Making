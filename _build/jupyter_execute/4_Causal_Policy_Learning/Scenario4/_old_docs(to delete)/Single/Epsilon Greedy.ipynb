{
 "cells": [
  {
   "cell_type": "markdown",
   "id": "70da3935",
   "metadata": {},
   "source": [
    "# Epsilon_Greedy\n",
    "\n",
    "## Main Idea\n",
    "\n",
    "An intuitive algorithm to incorporate the exploration and exploitation is $\\epsilon$-Greedy, which is simple and widely used [6]. Specifically, at each round $t$, we will select a random action with probability $\\epsilon$, and select an action with the highest estimated mean reward based on the history so far with probability $1-\\epsilon$. Here the parameter $\\epsilon$ is pre-specified. A more adaptive variant is $\\epsilon_{t}$-greedy, where the probability of taking a random action is defined as a decreasing function of $t$. Auer et al. [7] showed that $\\epsilon_{t}$-greedy performs well in practice with $\\epsilon_{t}$ decreases to 0 at a rate of $\\frac{1}{t}$.\n",
    "\n",
    "## Algorithms Details\n",
    "Supposed there are $K$ options, and the action space is $\\mathcal{A} = \\{0,1,\\cdots, K-1\\}$. The $\\epsilon$-greedy algorithm start with initializing the estimated values $\\theta_a^0$ and the count of being pulled $C_a^0$ for each action $a$ as 0. At each round $t$, we either take an action with the maximum estimated value $\\theta_a$ with probability $1-\\epsilon_{t}$ or randomly select an action with probability $\\epsilon_t$. After observing the rewards corresponding to the selected action $A_t$, we updated the total number of being pulled for $A_t$, and estimated the $\\theta_{A_{t}}$ by with the sample average for $A_t$.\n",
    "\n",
    "Remark that both the time-adaptive and the time-fixed version of $\\epsilon$-greedy algorithm are provided. By setting **decrease_eps=True**, the $\\epsilon_{t}$ in round $t$ is calculated as $\\frac{K}{T}$. Otherwise, $\\epsilon_{t}$ is a fixed value specfied by users.\n",
    "\n",
    "## Key Steps\n",
    "\n",
    "1. Initializing the $\\boldsymbol{\\theta}^0$ and $\\boldsymbol{C}^0$ for $K$ items as 0\n",
    "2. For t = $0, 1,\\cdots, T$:\n",
    "\n",
    "    2.1. select action $A_t$ as the arm with the maximum $\\theta_a^t$ with probability $1-\\epsilon_t$, or randomly select an action $A_t$ with probability $\\epsilon_t$\n",
    "    \n",
    "    2.2. Received the reward R, and update $C$ and $Q$ with\n",
    "    \\begin{align}\n",
    "    C_{A_{t}}^{t+1} &= C_{A_{t}}^{t} + 1 \\\\\n",
    "    \\theta_{A_{t}}^{t+1} &=\\theta_{A_{t}}^{t} + 1/C_{A_{t+1}}^{t+1}*(R-\\theta_{A_{t}}^{t})\n",
    "    \\end{align}"
   ]
  },
  {
   "cell_type": "markdown",
   "id": "14b58513",
   "metadata": {},
   "source": [
    "## Demo Code"
   ]
  },
  {
   "cell_type": "code",
   "execution_count": 1,
   "id": "1c1812de",
   "metadata": {},
   "outputs": [
    {
     "ename": "FileNotFoundError",
     "evalue": "[Errno 2] No such file or directory: '/nas/longleaf/home/lge/CausalDM'",
     "output_type": "error",
     "traceback": [
      "\u001b[0;31m---------------------------------------------------------------------------\u001b[0m",
      "\u001b[0;31mFileNotFoundError\u001b[0m                         Traceback (most recent call last)",
      "\u001b[0;32m/var/folders/9j/vb5nb4rd5bx0gr1q5ytx9q600000gn/T/ipykernel_52247/3636065689.py\u001b[0m in \u001b[0;36m<module>\u001b[0;34m\u001b[0m\n\u001b[1;32m      4\u001b[0m \u001b[0;32mimport\u001b[0m \u001b[0mos\u001b[0m\u001b[0;34m\u001b[0m\u001b[0;34m\u001b[0m\u001b[0m\n\u001b[1;32m      5\u001b[0m \u001b[0mos\u001b[0m\u001b[0;34m.\u001b[0m\u001b[0mgetcwd\u001b[0m\u001b[0;34m(\u001b[0m\u001b[0;34m)\u001b[0m\u001b[0;34m\u001b[0m\u001b[0;34m\u001b[0m\u001b[0m\n\u001b[0;32m----> 6\u001b[0;31m \u001b[0mos\u001b[0m\u001b[0;34m.\u001b[0m\u001b[0mchdir\u001b[0m\u001b[0;34m(\u001b[0m\u001b[0;34m'/nas/longleaf/home/lge/CausalDM'\u001b[0m\u001b[0;34m)\u001b[0m\u001b[0;34m\u001b[0m\u001b[0;34m\u001b[0m\u001b[0m\n\u001b[0m\u001b[1;32m      7\u001b[0m \u001b[0;31m# code used to import the learner\u001b[0m\u001b[0;34m\u001b[0m\u001b[0;34m\u001b[0m\u001b[0m\n",
      "\u001b[0;31mFileNotFoundError\u001b[0m: [Errno 2] No such file or directory: '/nas/longleaf/home/lge/CausalDM'"
     ]
    }
   ],
   "source": [
    "# After we publish the pack age, we can directly import it\n",
    "# TODO: explore more efficient way\n",
    "# we can hide this cell later\n",
    "import os\n",
    "os.getcwd()\n",
    "os.chdir('/nas/longleaf/home/lge/CausalDM')\n",
    "# code used to import the learner"
   ]
  },
  {
   "cell_type": "code",
   "execution_count": 2,
   "id": "d6d980ec",
   "metadata": {},
   "outputs": [],
   "source": [
    "from causaldm.learners.Online.Single import Epsilon_Greedy\n",
    "from causaldm.learners.Online.Single import Env\n",
    "import numpy as np"
   ]
  },
  {
   "cell_type": "code",
   "execution_count": 3,
   "id": "62d2627c",
   "metadata": {},
   "outputs": [],
   "source": [
    "T = 2000\n",
    "K = 5\n",
    "\n",
    "phi_beta = 1/4\n",
    "with_intercept = True\n",
    "p=3\n",
    "X_mu = np.zeros(p-1)\n",
    "X_sigma = np.identity(p-1)\n",
    "Sigma_theta = sigma_gamma = np.identity(p)\n",
    "mu_theta = np.zeros(p)\n",
    "seed = 0\n",
    "\n",
    "env = Env.Single_Gaussian_Env(T, K, p, phi_beta\n",
    "                         , mu_theta, Sigma_theta\n",
    "                        , seed = 42, with_intercept = True\n",
    "                         , X_mu = X_mu, X_Sigma = X_sigma)\n",
    "#time-adaptive. for time-fixed version, specifiying epsilon and setting decrease_eps=False\n",
    "greedy_agent = Epsilon_Greedy.Epsilon_Greedy(K, epsilon = None, decrease_eps = True)\n",
    "A = greedy_agent.take_action()\n",
    "t = 0\n",
    "R = env.get_reward(t,A)\n",
    "greedy_agent.receive_reward(t,A,R)"
   ]
  },
  {
   "cell_type": "code",
   "execution_count": 9,
   "id": "51227462",
   "metadata": {},
   "outputs": [
    {
     "data": {
      "text/plain": [
       "array([0., 1., 0., 0., 0.])"
      ]
     },
     "execution_count": 9,
     "metadata": {},
     "output_type": "execute_result"
    }
   ],
   "source": [
    "greedy_agent.cnts"
   ]
  },
  {
   "cell_type": "markdown",
   "id": "c4ed16cd",
   "metadata": {},
   "source": [
    "**Interpretation:** A sentence to include the analysis result: the estimated optimal regime is..."
   ]
  },
  {
   "cell_type": "markdown",
   "id": "c515391b",
   "metadata": {},
   "source": [
    "## References\n",
    "\n",
    "[1] Sutton, R. S., & Barto, A. G. (2018). Reinforcement learning: An introduction. MIT press.\n",
    "\n",
    "[2] Auer, P., Cesa-Bianchi, N., & Fischer, P. (2002). Finite-time analysis of the multiarmed bandit problem. Machine learning, 47(2), 235-256."
   ]
  }
 ],
 "metadata": {
  "kernelspec": {
   "display_name": "Python 3 (ipykernel)",
   "language": "python",
   "name": "python3"
  },
  "language_info": {
   "codemirror_mode": {
    "name": "ipython",
    "version": 3
   },
   "file_extension": ".py",
   "mimetype": "text/x-python",
   "name": "python",
   "nbconvert_exporter": "python",
   "pygments_lexer": "ipython3",
   "version": "3.9.13"
  }
 },
 "nbformat": 4,
 "nbformat_minor": 5
}
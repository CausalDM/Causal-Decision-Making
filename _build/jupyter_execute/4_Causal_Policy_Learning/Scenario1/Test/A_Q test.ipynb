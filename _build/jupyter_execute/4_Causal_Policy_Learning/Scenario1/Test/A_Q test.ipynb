{
 "cells": [
  {
   "cell_type": "code",
   "execution_count": 1,
   "metadata": {},
   "outputs": [],
   "source": [
    "import numpy as np\n",
    "def generate_test_case(setup, N, seed = 0, phi1=None, phi2=None,psi1=None,psi2=None):\n",
    "    if setup == 'random_binary':\n",
    "        np.random.seed(seed)\n",
    "        s1 = np.random.normal(450,150, N)\n",
    "        A1 = np.random.binomial(1,np.exp(phi1[0]+phi1[1]*s1)/(1+np.exp(phi1[0]+phi1[1]*s1)),size = N)\n",
    "        s2 = np.random.normal(1.25*s1,60, N)\n",
    "        A2 = np.random.binomial(1,np.exp(phi2[0]+phi2[1]*s2)/(1+np.exp(phi2[0]+phi2[1]*s2)),size = N)\n",
    "        A = {}\n",
    "        A[0] = A1\n",
    "        A[1] = A2\n",
    "        mu1 = (psi1[0]+psi1[1]*s1)*((psi1[0]+psi1[1]*s1 >0).astype(int)-A1)\n",
    "        mu2 = (psi2[0]+psi2[1]*s2)*((psi2[0]+psi2[1]*s2 >0).astype(int)-A2)\n",
    "        Y_opt = np.random.normal(400+1.6*s1,60)\n",
    "        Y = Y_opt - mu1 - mu2\n",
    "        opt_true = {}\n",
    "        opt_true[0] = (psi1[0]+psi1[1]*s1 >0).astype(int)\n",
    "        opt_true[1] = (psi2[0]+psi2[1]*s2 >0).astype(int)\n",
    "        X = np.hstack([np.ones(N)[:, np.newaxis], s1[:, np.newaxis], A1[:, np.newaxis], (s1*A1)[:, np.newaxis], s2[:, np.newaxis]])\n",
    "        \n",
    "        instance = {\n",
    "            'X' : X, \n",
    "            'A' : A, \n",
    "            'Y' : Y, \n",
    "            'optimal_A' : opt_true, \n",
    "            'optimal_V' : np.mean(Y_opt),\n",
    "            'XAY' : [X, A, Y]\n",
    "        }\n",
    "        return instance"
   ]
  },
  {
   "cell_type": "code",
   "execution_count": 2,
   "metadata": {},
   "outputs": [],
   "source": [
    "instance = generate_test_case('random_binary', 1000, seed = 0,  phi1=[2,-.006],phi2=[.8,-.004],psi1=[250,-1],psi2=[720,-2])\n",
    "X,A,Y = instance['XAY']"
   ]
  },
  {
   "cell_type": "code",
   "execution_count": 3,
   "metadata": {},
   "outputs": [
    {
     "data": {
      "text/plain": [
       "95"
      ]
     },
     "execution_count": 3,
     "metadata": {},
     "output_type": "execute_result"
    }
   ],
   "source": [
    "instance['optimal_A'][0].sum()"
   ]
  },
  {
   "cell_type": "code",
   "execution_count": 4,
   "metadata": {},
   "outputs": [
    {
     "data": {
      "text/plain": [
       "1108.575955081366"
      ]
     },
     "execution_count": 4,
     "metadata": {},
     "output_type": "execute_result"
    }
   ],
   "source": [
    "instance['optimal_V']"
   ]
  },
  {
   "cell_type": "code",
   "execution_count": 5,
   "metadata": {},
   "outputs": [
    {
     "ename": "ImportError",
     "evalue": "cannot import name 'ALearning' from 'causaldm.learners' (/Users/alinaxu/opt/anaconda3/lib/python3.9/site-packages/causaldm/learners/__init__.py)",
     "output_type": "error",
     "traceback": [
      "\u001b[0;31m---------------------------------------------------------------------------\u001b[0m",
      "\u001b[0;31mImportError\u001b[0m                               Traceback (most recent call last)",
      "\u001b[0;32m/var/folders/9j/vb5nb4rd5bx0gr1q5ytx9q600000gn/T/ipykernel_51131/1171830641.py\u001b[0m in \u001b[0;36m<module>\u001b[0;34m\u001b[0m\n\u001b[1;32m      2\u001b[0m \u001b[0;34m\u001b[0m\u001b[0m\n\u001b[1;32m      3\u001b[0m \u001b[0;31m# A demo with code on how to use the package\u001b[0m\u001b[0;34m\u001b[0m\u001b[0;34m\u001b[0m\u001b[0m\n\u001b[0;32m----> 4\u001b[0;31m \u001b[0;32mfrom\u001b[0m \u001b[0mcausaldm\u001b[0m\u001b[0;34m.\u001b[0m\u001b[0mlearners\u001b[0m \u001b[0;32mimport\u001b[0m \u001b[0mALearning\u001b[0m\u001b[0;34m\u001b[0m\u001b[0;34m\u001b[0m\u001b[0m\n\u001b[0m\u001b[1;32m      5\u001b[0m \u001b[0;32mfrom\u001b[0m \u001b[0mcausaldm\u001b[0m\u001b[0;34m.\u001b[0m\u001b[0mtest\u001b[0m \u001b[0;32mimport\u001b[0m \u001b[0mshared_simulation\u001b[0m\u001b[0;34m\u001b[0m\u001b[0;34m\u001b[0m\u001b[0m\n\u001b[1;32m      6\u001b[0m \u001b[0;32mimport\u001b[0m \u001b[0mnumpy\u001b[0m \u001b[0;32mas\u001b[0m \u001b[0mnp\u001b[0m\u001b[0;34m\u001b[0m\u001b[0;34m\u001b[0m\u001b[0m\n",
      "\u001b[0;31mImportError\u001b[0m: cannot import name 'ALearning' from 'causaldm.learners' (/Users/alinaxu/opt/anaconda3/lib/python3.9/site-packages/causaldm/learners/__init__.py)"
     ]
    }
   ],
   "source": [
    "# TODO: there might be something wrong with the multiple step as the difference between A-learning and Q-learning is large\n",
    "\n",
    "# A demo with code on how to use the package\n",
    "from causaldm.learners import ALearning\n",
    "from causaldm.test import shared_simulation\n",
    "import numpy as np\n",
    "\n",
    "ALearn = ALearning.ALearning()\n",
    "model_info = [{'X_prop': list(range(2)),\n",
    "              'X_q0': list(range(2)),\n",
    "               'X_C':{1:list(range(2))},\n",
    "              'action_space': [0,1]},\n",
    "             {'X_prop': [0,4],\n",
    "              'X_q0': list(range(5)),\n",
    "               'X_C':{1:[0,4]},\n",
    "              'action_space': [0,1]}]\n",
    "ALearn.train(X, A, Y, model_info, T=2, bootstrap = True, n_bs = 100)\n",
    "fitted_params,fitted_value,value_avg,value_std,params=ALearn.estimate_value_boots()\n",
    "print('Value_hat:',value_avg,'Value_std:',value_std)\n",
    "##estimated contrast model at t = 0\n",
    "print('estimated_contrast:',params[0]['contrast'])\n",
    "print('estimated_contrast:',params[1]['contrast'])\n",
    "print('estimated_prop:',params[0]['prop'])\n",
    "print('estimated_prop:',params[1]['prop'])\n",
    "\n",
    "# recommend action\n",
    "opt_d = ALearn.recommend().head()\n",
    "# get the estimated value of the optimal regime\n",
    "V_hat = ALearn.estimate_value()\n",
    "print(\"opt regime:\",opt_d)\n",
    "print(\"opt value:\",V_hat)"
   ]
  },
  {
   "cell_type": "code",
   "execution_count": 50,
   "metadata": {},
   "outputs": [
    {
     "data": {
      "text/plain": [
       "A1    153\n",
       "A0     85\n",
       "dtype: int64"
      ]
     },
     "execution_count": 50,
     "metadata": {},
     "output_type": "execute_result"
    }
   ],
   "source": [
    "ALearn.recommend().sum(axis=0)"
   ]
  },
  {
   "cell_type": "code",
   "execution_count": 51,
   "metadata": {},
   "outputs": [
    {
     "data": {
      "text/plain": [
       "array([232.8969,  -0.9788])"
      ]
     },
     "execution_count": 51,
     "metadata": {},
     "output_type": "execute_result"
    }
   ],
   "source": [
    "np.array(params[0]['contrast'][1]['Mean'])"
   ]
  },
  {
   "cell_type": "code",
   "execution_count": 52,
   "metadata": {},
   "outputs": [],
   "source": [
    "# TODO: feasible set\n",
    "from causaldm.learners import QLearning\n",
    "from causaldm.test import shared_simulation\n",
    "import numpy as np"
   ]
  },
  {
   "cell_type": "code",
   "execution_count": 53,
   "metadata": {},
   "outputs": [
    {
     "name": "stdout",
     "output_type": "stream",
     "text": [
      "Value_hat: 1102.524126394967 Value_std: 8.554474056899934\n",
      "{0:                  Mean        std\n",
      "Intercept  379.334892  15.318229\n",
      "S1           1.628596   0.027810\n",
      "A1         126.313279  23.716134\n",
      "A1:S1       -0.729627   0.050612, 1:                  Mean        std\n",
      "Intercept  335.294202  23.253088\n",
      "S1           1.460437   0.091607\n",
      "A1          -9.664498  40.409741\n",
      "A1:S1       -0.410791   0.090007\n",
      "S2           0.200070   0.071281\n",
      "A2         474.508450  48.375403\n",
      "A2:S2       -1.517774   0.092061}\n"
     ]
    }
   ],
   "source": [
    "import pandas as pd\n",
    "X = pd.DataFrame(X, columns=['intercept','S1','A1','S1A1','S2'])\n",
    "del X['A1']\n",
    "A = pd.DataFrame({'A1':A[0],'A2':A[1]})\n",
    "Y = pd.DataFrame(Y,columns=['Y'])\n",
    "\n",
    "# Optional: we also provide a bootstrap standard deviaiton of the optimal value estimation\n",
    "# Warning: results amay not be reliable\n",
    "QLearn = QLearning.QLearning()\n",
    "model_info = [{\"model\": \"Y~S1+A1+A1*S1\",\n",
    "              'action_space':{'A1':[0,1]}},\n",
    "             {\"model\": \"Y~S1+A1+A1*S1+S2+A2+A2*S2\",\n",
    "              'action_space':{'A2':[0,1]}}]\n",
    "QLearn.train(X, A, Y, model_info, T=2, bootstrap = True, n_bs = 200)\n",
    "fitted_params,fitted_value,value_avg,value_std,params=QLearn.estimate_value_boots()\n",
    "print('Value_hat:',value_avg,'Value_std:',value_std)\n",
    "print(params)"
   ]
  },
  {
   "cell_type": "code",
   "execution_count": 54,
   "metadata": {},
   "outputs": [
    {
     "data": {
      "text/plain": [
       "A2    114\n",
       "A1     33\n",
       "dtype: int64"
      ]
     },
     "execution_count": 54,
     "metadata": {},
     "output_type": "execute_result"
    }
   ],
   "source": [
    "QLearn.recommend().sum()"
   ]
  },
  {
   "cell_type": "code",
   "execution_count": 57,
   "metadata": {},
   "outputs": [
    {
     "name": "stdout",
     "output_type": "stream",
     "text": [
      "0\n",
      "1\n",
      "2\n",
      "3\n",
      "4\n",
      "5\n",
      "6\n",
      "7\n",
      "8\n",
      "9\n",
      "10\n",
      "11\n",
      "12\n",
      "13\n",
      "14\n",
      "15\n",
      "16\n",
      "17\n",
      "18\n",
      "19\n",
      "20\n",
      "21\n",
      "22\n",
      "23\n",
      "24\n",
      "25\n",
      "26\n",
      "27\n",
      "28\n",
      "29\n",
      "30\n",
      "31\n",
      "32\n",
      "33\n",
      "34\n",
      "35\n",
      "36\n",
      "37\n",
      "38\n",
      "39\n",
      "40\n",
      "41\n",
      "42\n",
      "43\n",
      "44\n",
      "45\n",
      "46\n",
      "47\n",
      "48\n",
      "49\n",
      "50\n",
      "51\n",
      "52\n",
      "53\n",
      "54\n",
      "55\n",
      "56\n",
      "57\n",
      "58\n",
      "59\n",
      "60\n",
      "61\n",
      "62\n",
      "63\n",
      "64\n",
      "65\n",
      "66\n",
      "67\n",
      "68\n",
      "69\n",
      "70\n",
      "71\n",
      "72\n",
      "73\n",
      "74\n",
      "75\n",
      "76\n",
      "77\n",
      "78\n",
      "79\n",
      "80\n",
      "81\n",
      "82\n",
      "83\n",
      "84\n",
      "85\n",
      "86\n",
      "87\n",
      "88\n",
      "89\n",
      "90\n",
      "91\n",
      "92\n",
      "93\n",
      "94\n",
      "95\n",
      "96\n",
      "97\n",
      "98\n",
      "99\n"
     ]
    }
   ],
   "source": [
    "A_est = {'C0':[],'C1':[],'Vhat':[]}\n",
    "Q_est = {'Q0':[],'Q1':[],'Vhat':[]}\n",
    "opt_V = []\n",
    "for rep in range(100):\n",
    "    instance = generate_test_case('random_binary', 1000, seed = rep,  phi1=[2,-.006],phi2=[.8,-.004],psi1=[250,-1],psi2=[720,-2])\n",
    "    X,A,Y = instance['XAY']\n",
    "    opt_V.append(instance['optimal_V'])\n",
    "    \n",
    "    ALearn = ALearning.ALearning()\n",
    "    model_info = [{'X_prop': list(range(2)),\n",
    "                  'X_q0': list(range(2)),\n",
    "                   'X_C':{1:list(range(2))},\n",
    "                  'action_space': [0,1]},\n",
    "                 {'X_prop': [0,4],\n",
    "                  'X_q0': list(range(5)),\n",
    "                   'X_C':{1:[0,4]},\n",
    "                  'action_space': [0,1]}]\n",
    "    ALearn.train(X, A, Y, model_info, T=2, bootstrap = True, n_bs = 100)\n",
    "    fitted_params,fitted_value,value_avg,value_std,params=ALearn.estimate_value_boots()\n",
    "    # recommend action\n",
    "    opt_d = ALearn.recommend().head()\n",
    "    # get the estimated value of the optimal regime\n",
    "    V_hat = ALearn.estimate_value()\n",
    "    A_est['C0'].append(np.array(params[0]['contrast'][1]['Mean']))\n",
    "    A_est['C1'].append(np.array(params[1]['contrast'][1]['Mean']))\n",
    "    A_est['Vhat'].append(V_hat)\n",
    "\n",
    "    X = pd.DataFrame(X, columns=['intercept','S1','A1','S1A1','S2'])\n",
    "    del X['A1']\n",
    "    A = pd.DataFrame({'A1':A[0],'A2':A[1]})\n",
    "    Y = pd.DataFrame(Y,columns=['Y'])\n",
    "\n",
    "    # Optional: we also provide a bootstrap standard deviaiton of the optimal value estimation\n",
    "    # Warning: results amay not be reliable\n",
    "    QLearn = QLearning.QLearning()\n",
    "    model_info = [{\"model\": \"Y~S1+A1+A1*S1\",\n",
    "                  'action_space':{'A1':[0,1]}},\n",
    "                 {\"model\": \"Y~S1+A1+A1*S1+S2+A2+A2*S2\",\n",
    "                  'action_space':{'A2':[0,1]}}]\n",
    "    QLearn.train(X, A, Y, model_info, T=2, bootstrap = True, n_bs = 200)\n",
    "    fitted_params,fitted_value,value_avg,value_std,params=QLearn.estimate_value_boots()\n",
    "\n",
    "    # recommend action\n",
    "    opt_d = QLearn.recommend().head()\n",
    "    # get the estimated value of the optimal regime\n",
    "    V_hat = QLearn.estimate_value()\n",
    "    \n",
    "    Q_est['Q0'].append(np.array(params[0]['Mean']))\n",
    "    Q_est['Q1'].append(np.array(params[1]['Mean']))\n",
    "    Q_est['Vhat'].append(V_hat)\n",
    "    print(rep)"
   ]
  },
  {
   "cell_type": "code",
   "execution_count": 58,
   "metadata": {},
   "outputs": [
    {
     "data": {
      "text/plain": [
       "array([248.2674,  -0.9966])"
      ]
     },
     "execution_count": 58,
     "metadata": {},
     "output_type": "execute_result"
    }
   ],
   "source": [
    "sum(A_est['C0'])/100"
   ]
  },
  {
   "cell_type": "code",
   "execution_count": 59,
   "metadata": {},
   "outputs": [
    {
     "data": {
      "text/plain": [
       "array([718.432 ,  -1.9964])"
      ]
     },
     "execution_count": 59,
     "metadata": {},
     "output_type": "execute_result"
    }
   ],
   "source": [
    "sum(A_est['C1'])/100"
   ]
  },
  {
   "cell_type": "code",
   "execution_count": 60,
   "metadata": {},
   "outputs": [
    {
     "data": {
      "text/plain": [
       "1119.7158350462053"
      ]
     },
     "execution_count": 60,
     "metadata": {},
     "output_type": "execute_result"
    }
   ],
   "source": [
    "sum(A_est['Vhat'])/100"
   ]
  },
  {
   "cell_type": "code",
   "execution_count": 61,
   "metadata": {},
   "outputs": [
    {
     "data": {
      "text/plain": [
       "array([366.5116,   1.65  , 157.1218,  -0.7812])"
      ]
     },
     "execution_count": 61,
     "metadata": {},
     "output_type": "execute_result"
    }
   ],
   "source": [
    "sum(Q_est['Q0'])/100"
   ]
  },
  {
   "cell_type": "code",
   "execution_count": 62,
   "metadata": {},
   "outputs": [
    {
     "data": {
      "text/plain": [
       "array([ 3.0755e+02,  1.4913e+00,  3.3333e+01, -4.8864e-01,  2.1197e-01,\n",
       "        5.0288e+02, -1.5741e+00])"
      ]
     },
     "execution_count": 62,
     "metadata": {},
     "output_type": "execute_result"
    }
   ],
   "source": [
    "sum(Q_est['Q1'])/100"
   ]
  },
  {
   "cell_type": "code",
   "execution_count": 63,
   "metadata": {},
   "outputs": [
    {
     "data": {
      "text/plain": [
       "1112.2353635304949"
      ]
     },
     "execution_count": 63,
     "metadata": {},
     "output_type": "execute_result"
    }
   ],
   "source": [
    "sum(Q_est['Vhat'])/100"
   ]
  },
  {
   "cell_type": "code",
   "execution_count": 64,
   "metadata": {},
   "outputs": [
    {
     "data": {
      "text/plain": [
       "1120.4987706735005"
      ]
     },
     "execution_count": 64,
     "metadata": {},
     "output_type": "execute_result"
    }
   ],
   "source": [
    "sum(opt_V)/100"
   ]
  },
  {
   "cell_type": "markdown",
   "metadata": {},
   "source": [
    "# Test A-Learning Single"
   ]
  },
  {
   "cell_type": "code",
   "execution_count": null,
   "metadata": {},
   "outputs": [],
   "source": [
    "def generate_test_case(setup, N, seed = 0):\n",
    "    if setup == 'random_binary':\n",
    "        np.random.seed(seed)\n",
    "        s1 = np.random.normal(0,1, N)\n",
    "        A1 = np.random.binomial(1,np.exp(-2*s1)/(1+np.exp(-2*s1)),size = N)\n",
    "        Y = np.random.normal(1+s1+A1*(1+.5*s1),3)\n",
    "        opt_true = (1+.5*s1 >0).astype(int)\n",
    "        X = np.hstack([np.ones(N)[:, np.newaxis], s1[:, np.newaxis]])\n",
    "        instance = {\n",
    "            'X' : X, \n",
    "            'A' : A1, \n",
    "            'Y' : Y, \n",
    "            'optimal_A' : opt_true, \n",
    "            'XAY' : [X, A1, Y]\n",
    "        }\n",
    "        return instance\n",
    "    \n",
    "instance = generate_test_case('random_binary', 10000, seed = 0)\n",
    "X,A1,Y = instance['XAY']\n",
    "A = {}\n",
    "A[0] = A1"
   ]
  },
  {
   "cell_type": "code",
   "execution_count": null,
   "metadata": {},
   "outputs": [],
   "source": [
    "# initialize the learner\n",
    "ALearn = ALearning.ALearning()\n",
    "p = X.shape[1]\n",
    "model_info = [{'X_prop': list(range(p)),\n",
    "              'X_q0': list(range(p)),\n",
    "               'X_C':{1:list(range(p))},\n",
    "              'action_space': [0,1]}] #A in [0,1,2]\n",
    "# train the policy\n",
    "ALearn.train(X, A, Y, model_info, T=1)\n",
    "# Fitted Model\n",
    "ALearn.fitted_model['prop'][0].params"
   ]
  }
 ],
 "metadata": {
  "kernelspec": {
   "display_name": "Python 3",
   "language": "python",
   "name": "python3"
  },
  "language_info": {
   "codemirror_mode": {
    "name": "ipython",
    "version": 3
   },
   "file_extension": ".py",
   "mimetype": "text/x-python",
   "name": "python",
   "nbconvert_exporter": "python",
   "pygments_lexer": "ipython3",
   "version": "3.9.13"
  }
 },
 "nbformat": 4,
 "nbformat_minor": 4
}
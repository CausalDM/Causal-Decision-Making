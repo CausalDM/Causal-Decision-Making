{
 "cells": [
  {
   "cell_type": "markdown",
   "metadata": {
    "id": "mHcFPAA_l4xE"
   },
   "source": [
    "# Quantile Optimal Treatment Regime\n",
    "\n",
    "\n",
    "##   Motivation\n",
    "\n",
    "Aside from evaluating the performance of a target policy or finding the optimal treatment regimes with respect to the **mean outcome**, it is natural to extendour goal to exploring the whole reward distribution. The easiest way to conduct policy evaluation and optimization is to estimate the quantiles with respect to some quantile levels in $[0,1]$. There are some cases when it is not satisfactory to only evaluate the mean outcome:\n",
    "\n",
    "\n",
    "\n",
    "1.   **The problem of our interest may not be limited to the mean reward**: For example, when evaluating the performance of a certain policy in prolonging customers watching time on a video platform, one may be interested in how well the policy is in stimulating the customers at the lower 25% tail, so as to improve the overall prevalence of this platform and attract more potential customers.\n",
    "\n",
    "2.   **Heavy tails**: In the case when the reward distribution is naturally heavy-tailed, the performance of directly estimating the mean outcome (or doing optimization) may be very unstable. In this case, we may want to know the whole picture of the outcome distribution in order to do further statistical inferences.\n",
    "3.   **Skewed distribution**: For example, in the cases when we would like to evaluate the survival time of patients, it may be desirable to consider the treatment regime that maximizes the median of the distribution of the potential outcome.\n",
    "\n",
    "\n",
    "Note: the recent work on discrete Q-learning in [Moodie et al. (2014) [2]](https://link.springer.com/article/10.1007/s12561-013-9103-z) can be applied to first estimate the probabilities and then invert them to estimate quantiles, but simply taking the inverse to the cummulative density function may cause a lot of potential problems to the qunatile estimation and optimization. \n",
    "\n",
    "\n",
    "\n",
    "\n"
   ]
  },
  {
   "cell_type": "markdown",
   "metadata": {},
   "source": [
    "\n",
    "## Main Idea\n",
    "\n",
    "In recent years, there are more work focusing on quantile estimating the optimal treatment regime in order to maximize the qunatile at level $\\tau$ given a class of feasible treatment regimes $\\mathbb{D}=\\{I(X^T\\beta>0:\\beta\\in \\mathbb{B})\\}$. That is, the objective function is to maximize\n",
    "   $$\\arg\\max_{d\\in \\mathbb{D}}Q_{\\tau}(Y^*(d)),$$\n",
    "where $Q_{\\tau}$ denotes the quantile value at level $\\tau$. \n",
    "\n",
    "\n",
    "There are multiple ways to estimate the quantile value at a given level $\\tau$: direct method, inverse probability estimator, and doubly robust estimator. Among all of the three methods, doubly robust estimator (or AIPW estimator) is the one that combines the advantages of both direct method and IPW estimator, which allows some part of the model to be misspecified while pretaining the consistency of the estimation. For an AIPW estimator, the quantile can be estimated by\n",
    "$$\n",
    "\\hat{Q}_{\\tau}(\\beta)=\\frac{1}{n}\\sum_{i=1}^n \\left[\\frac{C_i(\\beta)}{\\hat{\\pi}(X_i,\\beta)}\\rho_{\\tau}(Y_i-a)+\\left(1-\\frac{C_i(\\beta)}{\\hat{\\pi}(X_i,\\beta)}\\right)\\rho_{\\tau}(\\hat{Y}_i^{**}-a)\\right],\n",
    "$$\n",
    "where $\\hat{Y}_i^{**}$ is the pseudo outcome generated from the fitted model when following some policy $d(X_i,\\beta)$.\n",
    "Thus, the optimal policy to maximize a specific quantile of the outcome distribution can be obtained by\n",
    "$$\n",
    "\\arg\\max_{\\beta\\in\\mathbb{B}}\\hat{Q}_{\\tau}(\\beta)\n",
    "$$\n",
    "\n"
   ]
  },
  {
   "cell_type": "markdown",
   "metadata": {},
   "source": [
    "\n",
    "\n",
    "##  Algorithm\n",
    "\n",
    "The main steps of this algorithm can be summarized as follows:\n",
    "\n",
    "* **Step 1.**   Fit the following functions with any appropriate models you want: \n",
    "\n",
    "    (a). Propensity score $\\pi(X_i,\\beta)$. Usually the simplest way is to use Logistic regression.\n",
    "    \n",
    "    (b). Outcome regression model when treatment $A=1$. We estimate the conditional quantile $Q_{\\tau}(Y^*(1)|X)=g(X,\\beta_1(\\tau))$, for $\\tau$ in a fine grid of $(0,1)$. This yields $\\hat{\\beta}_1(\\tau)$, $\\tau\\in(0,1)$.\n",
    "    \n",
    "    (c). Outcome regression model when treatment $A=0$. We estimate the conditional quantile $Q_{\\tau}(Y^*(0)|X)=g(X,\\beta_0(\\tau))$, for $\\tau$ in a fine grid of $(0,1)$. This yields $\\hat{\\beta}_0(\\tau)$, $\\tau\\in(0,1)$.\n",
    "    \n",
    "* **Step 2.** Generate two independent random samples from the uniform distribution on the interval $(0,1)$: $\\{u_{11},\\dots,u_{1n}\\}$ and $\\{u_{01},\\dots,u_{0n}\\}$.\n",
    "\n",
    "* **Step 3.** Calculate $\\hat{Y}^{**}_i=g(X_i,\\hat{\\beta}_1(u_{1i}))d(X_i,\\beta)+g(X_i,\\hat{\\beta}_0(u_{0i}))(1-d(X_i,\\beta))$, $i=1,\\dots,n$.\n",
    "\n",
    "* **Step 4.** Using proper methods to find the optimal $\\beta$ for $\\hat{Q}_{\\tau}(\\beta)$. Nelder-mead method was implemented in the following algorithm.\n",
    "\n",
    "\n",
    "\n",
    "\n",
    "Next, we will use both simulation and real dataset to illustrate the performance of Quantile Optimal Treatment Regime in [Wang et al. (2018) [1]](https://www.ncbi.nlm.nih.gov/pmc/articles/PMC6223317/pdf/nihms915733.pdf).\n",
    "\n"
   ]
  },
  {
   "cell_type": "markdown",
   "metadata": {
    "id": "az8TSUUwViFa"
   },
   "source": [
    "\n",
    "## Demo on Simulation Data"
   ]
  },
  {
   "cell_type": "markdown",
   "metadata": {},
   "source": [
    "### Data Processing"
   ]
  },
  {
   "cell_type": "code",
   "execution_count": 1,
   "metadata": {
    "scrolled": false
   },
   "outputs": [
    {
     "data": {
      "text/html": [
       "<div>\n",
       "<style scoped>\n",
       "    .dataframe tbody tr th:only-of-type {\n",
       "        vertical-align: middle;\n",
       "    }\n",
       "\n",
       "    .dataframe tbody tr th {\n",
       "        vertical-align: top;\n",
       "    }\n",
       "\n",
       "    .dataframe thead th {\n",
       "        text-align: right;\n",
       "    }\n",
       "</style>\n",
       "<table border=\"1\" class=\"dataframe\">\n",
       "  <thead>\n",
       "    <tr style=\"text-align: right;\">\n",
       "      <th></th>\n",
       "      <th>S1</th>\n",
       "      <th>S2</th>\n",
       "      <th>A</th>\n",
       "      <th>R</th>\n",
       "    </tr>\n",
       "  </thead>\n",
       "  <tbody>\n",
       "    <tr>\n",
       "      <th>0</th>\n",
       "      <td>-1.473336</td>\n",
       "      <td>1.724067</td>\n",
       "      <td>1</td>\n",
       "      <td>4.736866</td>\n",
       "    </tr>\n",
       "    <tr>\n",
       "      <th>1</th>\n",
       "      <td>-1.005787</td>\n",
       "      <td>0.775420</td>\n",
       "      <td>0</td>\n",
       "      <td>3.489403</td>\n",
       "    </tr>\n",
       "    <tr>\n",
       "      <th>2</th>\n",
       "      <td>-3.160543</td>\n",
       "      <td>-0.284184</td>\n",
       "      <td>0</td>\n",
       "      <td>4.594114</td>\n",
       "    </tr>\n",
       "    <tr>\n",
       "      <th>3</th>\n",
       "      <td>-0.944133</td>\n",
       "      <td>0.750790</td>\n",
       "      <td>0</td>\n",
       "      <td>4.332135</td>\n",
       "    </tr>\n",
       "    <tr>\n",
       "      <th>4</th>\n",
       "      <td>-0.386872</td>\n",
       "      <td>-0.517143</td>\n",
       "      <td>0</td>\n",
       "      <td>0.399555</td>\n",
       "    </tr>\n",
       "    <tr>\n",
       "      <th>...</th>\n",
       "      <td>...</td>\n",
       "      <td>...</td>\n",
       "      <td>...</td>\n",
       "      <td>...</td>\n",
       "    </tr>\n",
       "    <tr>\n",
       "      <th>995</th>\n",
       "      <td>-1.457515</td>\n",
       "      <td>-1.406177</td>\n",
       "      <td>0</td>\n",
       "      <td>-0.361293</td>\n",
       "    </tr>\n",
       "    <tr>\n",
       "      <th>996</th>\n",
       "      <td>-0.175896</td>\n",
       "      <td>-1.419406</td>\n",
       "      <td>0</td>\n",
       "      <td>-1.918524</td>\n",
       "    </tr>\n",
       "    <tr>\n",
       "      <th>997</th>\n",
       "      <td>0.722485</td>\n",
       "      <td>1.409496</td>\n",
       "      <td>1</td>\n",
       "      <td>3.927478</td>\n",
       "    </tr>\n",
       "    <tr>\n",
       "      <th>998</th>\n",
       "      <td>-1.029262</td>\n",
       "      <td>-0.257666</td>\n",
       "      <td>0</td>\n",
       "      <td>1.326091</td>\n",
       "    </tr>\n",
       "    <tr>\n",
       "      <th>999</th>\n",
       "      <td>-1.463442</td>\n",
       "      <td>1.560685</td>\n",
       "      <td>0</td>\n",
       "      <td>6.461035</td>\n",
       "    </tr>\n",
       "  </tbody>\n",
       "</table>\n",
       "<p>1000 rows × 4 columns</p>\n",
       "</div>"
      ],
      "text/plain": [
       "           S1        S2  A         R\n",
       "0   -1.473336  1.724067  1  4.736866\n",
       "1   -1.005787  0.775420  0  3.489403\n",
       "2   -3.160543 -0.284184  0  4.594114\n",
       "3   -0.944133  0.750790  0  4.332135\n",
       "4   -0.386872 -0.517143  0  0.399555\n",
       "..        ...       ... ..       ...\n",
       "995 -1.457515 -1.406177  0 -0.361293\n",
       "996 -0.175896 -1.419406  0 -1.918524\n",
       "997  0.722485  1.409496  1  3.927478\n",
       "998 -1.029262 -0.257666  0  1.326091\n",
       "999 -1.463442  1.560685  0  6.461035\n",
       "\n",
       "[1000 rows x 4 columns]"
      ]
     },
     "execution_count": 1,
     "metadata": {},
     "output_type": "execute_result"
    }
   ],
   "source": [
    "from causaldm._util_causaldm import *\n",
    "\n",
    "n0 = (10**3)  # the number of samples used to estimate the true reward distribution by MC\n",
    "data_sim = get_data_simulation(n0 = n0, seed = 223, policy = \"behavior\")\n",
    "data_sim"
   ]
  },
  {
   "cell_type": "markdown",
   "metadata": {
    "id": "vq4Bm0fcQSwP"
   },
   "source": [
    "### Calculating the Quantile Optimal Treatment Regime"
   ]
  },
  {
   "cell_type": "code",
   "execution_count": 2,
   "metadata": {},
   "outputs": [
    {
     "ename": "NameError",
     "evalue": "name 'BasePolicyLearner' is not defined",
     "output_type": "error",
     "traceback": [
      "\u001b[0;31m---------------------------------------------------------------------------\u001b[0m",
      "\u001b[0;31mNameError\u001b[0m                                 Traceback (most recent call last)",
      "\u001b[0;32m/var/folders/9j/vb5nb4rd5bx0gr1q5ytx9q600000gn/T/ipykernel_51119/1796369087.py\u001b[0m in \u001b[0;36m<module>\u001b[0;34m\u001b[0m\n\u001b[1;32m      2\u001b[0m \u001b[0;32mimport\u001b[0m \u001b[0mos\u001b[0m\u001b[0;34m\u001b[0m\u001b[0;34m\u001b[0m\u001b[0m\n\u001b[1;32m      3\u001b[0m \u001b[0mos\u001b[0m\u001b[0;34m.\u001b[0m\u001b[0mchdir\u001b[0m\u001b[0;34m(\u001b[0m\u001b[0;34m'/Users/alinaxu/Documents/CDM/CausalDM'\u001b[0m\u001b[0;34m)\u001b[0m\u001b[0;34m\u001b[0m\u001b[0;34m\u001b[0m\u001b[0m\n\u001b[0;32m----> 4\u001b[0;31m \u001b[0;32mfrom\u001b[0m \u001b[0mcausaldm\u001b[0m\u001b[0;34m.\u001b[0m\u001b[0mlearners\u001b[0m\u001b[0;34m.\u001b[0m\u001b[0mCPL13\u001b[0m\u001b[0;34m.\u001b[0m\u001b[0mdisc\u001b[0m\u001b[0;34m.\u001b[0m\u001b[0mDR_QuantileOTR\u001b[0m \u001b[0;32mimport\u001b[0m \u001b[0;34m*\u001b[0m\u001b[0;34m\u001b[0m\u001b[0;34m\u001b[0m\u001b[0m\n\u001b[0m\u001b[1;32m      5\u001b[0m \u001b[0mQuantile_OTR\u001b[0m\u001b[0;34m=\u001b[0m\u001b[0mQuantileOTR\u001b[0m\u001b[0;34m(\u001b[0m\u001b[0;34m)\u001b[0m\u001b[0;34m\u001b[0m\u001b[0;34m\u001b[0m\u001b[0m\n\u001b[1;32m      6\u001b[0m \u001b[0;34m\u001b[0m\u001b[0m\n",
      "\u001b[0;32m~/opt/anaconda3/lib/python3.9/site-packages/causaldm/learners/CPL13/disc/DR_QuantileOTR.py\u001b[0m in \u001b[0;36m<module>\u001b[0;34m\u001b[0m\n\u001b[1;32m     16\u001b[0m \u001b[0;32mimport\u001b[0m \u001b[0mstatsmodels\u001b[0m\u001b[0;34m.\u001b[0m\u001b[0mformula\u001b[0m\u001b[0;34m.\u001b[0m\u001b[0mapi\u001b[0m \u001b[0;32mas\u001b[0m \u001b[0msmf\u001b[0m\u001b[0;34m\u001b[0m\u001b[0;34m\u001b[0m\u001b[0m\n\u001b[1;32m     17\u001b[0m \u001b[0;34m\u001b[0m\u001b[0m\n\u001b[0;32m---> 18\u001b[0;31m \u001b[0;32mclass\u001b[0m \u001b[0mQuantileOTR\u001b[0m\u001b[0;34m(\u001b[0m\u001b[0mBasePolicyLearner\u001b[0m\u001b[0;34m)\u001b[0m\u001b[0;34m:\u001b[0m\u001b[0;34m\u001b[0m\u001b[0;34m\u001b[0m\u001b[0m\n\u001b[0m\u001b[1;32m     19\u001b[0m     \"\"\"\n\u001b[1;32m     20\u001b[0m     \u001b[0mLiterature\u001b[0m\u001b[0;34m:\u001b[0m\u001b[0;34m\u001b[0m\u001b[0;34m\u001b[0m\u001b[0m\n",
      "\u001b[0;31mNameError\u001b[0m: name 'BasePolicyLearner' is not defined"
     ]
    }
   ],
   "source": [
    "# initialize the learner\n",
    "import os\n",
    "os.chdir('/Users/alinaxu/Documents/CDM/CausalDM')\n",
    "from causaldm.learners.CPL13.disc.DR_QuantileOTR import *\n",
    "Quantile_OTR=QuantileOTR()\n",
    "\n",
    "# when a=1, Y ~ 1+x1+2.5*x2\n",
    "# when a=0, Y ~ 1-x1+2*x2\n",
    "moCondQuant_0 = ['X_1', 'X_2']\n",
    "moCondQuant_1 = ['X_1', 'X_2']"
   ]
  },
  {
   "cell_type": "code",
   "execution_count": null,
   "metadata": {
    "colab": {
     "base_uri": "https://localhost:8080/"
    },
    "executionInfo": {
     "elapsed": 16315,
     "status": "ok",
     "timestamp": 1646881822374,
     "user": {
      "displayName": "Yang Xu",
      "photoUrl": "https://lh3.googleusercontent.com/a-/AOh14GiwmFvGwaija8HCAZKtLkFQJjRWaWko5tV_i1Zd=s64",
      "userId": "12270366590264264299"
     },
     "user_tz": 300
    },
    "id": "ER0eh6jfH0R0",
    "outputId": "c44ce9cb-1fe2-4d82-d9f6-d403f2797fed"
   },
   "outputs": [
    {
     "name": "stdout",
     "output_type": "stream",
     "text": [
      "Optimization terminated successfully.\n",
      "         Current function value: 0.129150\n",
      "         Iterations: 17\n",
      "         Function evaluations: 18\n",
      "         Gradient evaluations: 18\n",
      " final_simplex: (array([[ 3.0401e-04, -2.0062e-04, -5.3241e-05],\n",
      "       [ 2.9385e-04, -1.9699e-04, -4.9649e-05],\n",
      "       [ 2.9516e-04, -2.0098e-04, -4.7645e-05],\n",
      "       [ 2.9178e-04, -1.9988e-04, -4.6791e-05]]), array([-3.1197, -3.1197, -3.1197, -3.1197]))\n",
      "           fun: -3.119701027689532\n",
      "       message: 'Optimization terminated successfully.'\n",
      "          nfev: 53\n",
      "           nit: 21\n",
      "        status: 0\n",
      "       success: True\n",
      "             x: array([ 3.0401e-04, -2.0062e-04, -5.3241e-05])\n"
     ]
    }
   ],
   "source": [
    "coefficient, coef_original_scale, Q_est=Quantile_OTR.DR_Qopt(data=data_sim, tau=0.5, moCondQuant_0=moCondQuant_0, moCondQuant_1=moCondQuant_1,moPropen = \"NotBinaryRandom\")"
   ]
  },
  {
   "cell_type": "code",
   "execution_count": null,
   "metadata": {
    "colab": {
     "base_uri": "https://localhost:8080/"
    },
    "executionInfo": {
     "elapsed": 379,
     "status": "ok",
     "timestamp": 1646881835902,
     "user": {
      "displayName": "Yang Xu",
      "photoUrl": "https://lh3.googleusercontent.com/a-/AOh14GiwmFvGwaija8HCAZKtLkFQJjRWaWko5tV_i1Zd=s64",
      "userId": "12270366590264264299"
     },
     "user_tz": 300
    },
    "id": "mbsVGvdVBtZP",
    "outputId": "4eb0e274-725c-452a-b57d-a2032c326c7f"
   },
   "outputs": [
    {
     "data": {
      "text/plain": [
       "array([ 0.0000e+00, -3.3468e-05, -7.7854e-06])"
      ]
     },
     "execution_count": 281,
     "metadata": {},
     "output_type": "execute_result"
    }
   ],
   "source": [
    "# the coefficient that maximize the quantile\n",
    "coef_original_scale"
   ]
  },
  {
   "cell_type": "code",
   "execution_count": null,
   "metadata": {
    "colab": {
     "base_uri": "https://localhost:8080/"
    },
    "executionInfo": {
     "elapsed": 375,
     "status": "ok",
     "timestamp": 1646881843303,
     "user": {
      "displayName": "Yang Xu",
      "photoUrl": "https://lh3.googleusercontent.com/a-/AOh14GiwmFvGwaija8HCAZKtLkFQJjRWaWko5tV_i1Zd=s64",
      "userId": "12270366590264264299"
     },
     "user_tz": 300
    },
    "id": "haB3XPvrBugS",
    "outputId": "95e61ea4-2760-47f3-b190-415adc2327cc"
   },
   "outputs": [
    {
     "data": {
      "text/plain": [
       "3.119701027689532"
      ]
     },
     "execution_count": 282,
     "metadata": {},
     "output_type": "execute_result"
    }
   ],
   "source": [
    "# the estimated quantile that corresponds to the optimized coefficient\n",
    "Q_est"
   ]
  },
  {
   "cell_type": "markdown",
   "metadata": {
    "id": "tpiNRm0SFQfF"
   },
   "source": [
    "## Demo on Real dataset"
   ]
  },
  {
   "cell_type": "markdown",
   "metadata": {},
   "source": [
    "### Data Processing"
   ]
  },
  {
   "cell_type": "code",
   "execution_count": 52,
   "metadata": {
    "colab": {
     "base_uri": "https://localhost:8080/",
     "height": 49,
     "referenced_widgets": [
      "35d0b153a5724fac90b55ae561522410",
      "544c78f58a0c4099b7e0af8da82deac0",
      "0ecfa549f36048d29e15fa4ce5d1b6cb",
      "e23e3e20b7e24122b964e36a01292084",
      "038042491a644f518f4cd915ab69cf2a",
      "a58962c48e25465d9285f976ca1c558b",
      "460c5d27180c41d798a26b054752b0ff",
      "13fe448f6fe94de3bf898a3997004adb",
      "23bf1d3a28db44508546297d43989910",
      "539cf871c1634058a21429d073d82ed3",
      "689013bf883a4b7ab34287987a2d63f5"
     ]
    },
    "executionInfo": {
     "elapsed": 1534,
     "status": "ok",
     "timestamp": 1646881938253,
     "user": {
      "displayName": "Yang Xu",
      "photoUrl": "https://lh3.googleusercontent.com/a-/AOh14GiwmFvGwaija8HCAZKtLkFQJjRWaWko5tV_i1Zd=s64",
      "userId": "12270366590264264299"
     },
     "user_tz": 300
    },
    "id": "usmkNSUXL84D",
    "outputId": "a1bba740-8322-4683-fb27-7bd1be0cb766"
   },
   "outputs": [
    {
     "data": {
      "text/html": [
       "<div>\n",
       "<style scoped>\n",
       "    .dataframe tbody tr th:only-of-type {\n",
       "        vertical-align: middle;\n",
       "    }\n",
       "\n",
       "    .dataframe tbody tr th {\n",
       "        vertical-align: top;\n",
       "    }\n",
       "\n",
       "    .dataframe thead th {\n",
       "        text-align: right;\n",
       "    }\n",
       "</style>\n",
       "<table border=\"1\" class=\"dataframe\">\n",
       "  <thead>\n",
       "    <tr style=\"text-align: right;\">\n",
       "      <th></th>\n",
       "      <th>recency</th>\n",
       "      <th>history_segment</th>\n",
       "      <th>history</th>\n",
       "      <th>mens</th>\n",
       "      <th>womens</th>\n",
       "      <th>zip_code</th>\n",
       "      <th>newbie</th>\n",
       "      <th>channel</th>\n",
       "    </tr>\n",
       "  </thead>\n",
       "  <tbody>\n",
       "    <tr>\n",
       "      <th>0</th>\n",
       "      <td>10</td>\n",
       "      <td>2) $100 - $200</td>\n",
       "      <td>142.44</td>\n",
       "      <td>1</td>\n",
       "      <td>0</td>\n",
       "      <td>Surburban</td>\n",
       "      <td>0</td>\n",
       "      <td>Phone</td>\n",
       "    </tr>\n",
       "    <tr>\n",
       "      <th>1</th>\n",
       "      <td>6</td>\n",
       "      <td>3) $200 - $350</td>\n",
       "      <td>329.08</td>\n",
       "      <td>1</td>\n",
       "      <td>1</td>\n",
       "      <td>Rural</td>\n",
       "      <td>1</td>\n",
       "      <td>Web</td>\n",
       "    </tr>\n",
       "    <tr>\n",
       "      <th>2</th>\n",
       "      <td>7</td>\n",
       "      <td>2) $100 - $200</td>\n",
       "      <td>180.65</td>\n",
       "      <td>0</td>\n",
       "      <td>1</td>\n",
       "      <td>Surburban</td>\n",
       "      <td>1</td>\n",
       "      <td>Web</td>\n",
       "    </tr>\n",
       "    <tr>\n",
       "      <th>3</th>\n",
       "      <td>9</td>\n",
       "      <td>5) $500 - $750</td>\n",
       "      <td>675.83</td>\n",
       "      <td>1</td>\n",
       "      <td>0</td>\n",
       "      <td>Rural</td>\n",
       "      <td>1</td>\n",
       "      <td>Web</td>\n",
       "    </tr>\n",
       "    <tr>\n",
       "      <th>4</th>\n",
       "      <td>2</td>\n",
       "      <td>1) $0 - $100</td>\n",
       "      <td>45.34</td>\n",
       "      <td>1</td>\n",
       "      <td>0</td>\n",
       "      <td>Urban</td>\n",
       "      <td>0</td>\n",
       "      <td>Web</td>\n",
       "    </tr>\n",
       "    <tr>\n",
       "      <th>...</th>\n",
       "      <td>...</td>\n",
       "      <td>...</td>\n",
       "      <td>...</td>\n",
       "      <td>...</td>\n",
       "      <td>...</td>\n",
       "      <td>...</td>\n",
       "      <td>...</td>\n",
       "      <td>...</td>\n",
       "    </tr>\n",
       "    <tr>\n",
       "      <th>63995</th>\n",
       "      <td>10</td>\n",
       "      <td>2) $100 - $200</td>\n",
       "      <td>105.54</td>\n",
       "      <td>1</td>\n",
       "      <td>0</td>\n",
       "      <td>Urban</td>\n",
       "      <td>0</td>\n",
       "      <td>Web</td>\n",
       "    </tr>\n",
       "    <tr>\n",
       "      <th>63996</th>\n",
       "      <td>5</td>\n",
       "      <td>1) $0 - $100</td>\n",
       "      <td>38.91</td>\n",
       "      <td>0</td>\n",
       "      <td>1</td>\n",
       "      <td>Urban</td>\n",
       "      <td>1</td>\n",
       "      <td>Phone</td>\n",
       "    </tr>\n",
       "    <tr>\n",
       "      <th>63997</th>\n",
       "      <td>6</td>\n",
       "      <td>1) $0 - $100</td>\n",
       "      <td>29.99</td>\n",
       "      <td>1</td>\n",
       "      <td>0</td>\n",
       "      <td>Urban</td>\n",
       "      <td>1</td>\n",
       "      <td>Phone</td>\n",
       "    </tr>\n",
       "    <tr>\n",
       "      <th>63998</th>\n",
       "      <td>1</td>\n",
       "      <td>5) $500 - $750</td>\n",
       "      <td>552.94</td>\n",
       "      <td>1</td>\n",
       "      <td>0</td>\n",
       "      <td>Surburban</td>\n",
       "      <td>1</td>\n",
       "      <td>Multichannel</td>\n",
       "    </tr>\n",
       "    <tr>\n",
       "      <th>63999</th>\n",
       "      <td>1</td>\n",
       "      <td>4) $350 - $500</td>\n",
       "      <td>472.82</td>\n",
       "      <td>0</td>\n",
       "      <td>1</td>\n",
       "      <td>Surburban</td>\n",
       "      <td>0</td>\n",
       "      <td>Web</td>\n",
       "    </tr>\n",
       "  </tbody>\n",
       "</table>\n",
       "<p>64000 rows × 8 columns</p>\n",
       "</div>"
      ],
      "text/plain": [
       "       recency history_segment  history  mens  womens   zip_code  newbie  \\\n",
       "0           10  2) $100 - $200   142.44     1       0  Surburban       0   \n",
       "1            6  3) $200 - $350   329.08     1       1      Rural       1   \n",
       "2            7  2) $100 - $200   180.65     0       1  Surburban       1   \n",
       "3            9  5) $500 - $750   675.83     1       0      Rural       1   \n",
       "4            2    1) $0 - $100    45.34     1       0      Urban       0   \n",
       "...        ...             ...      ...   ...     ...        ...     ...   \n",
       "63995       10  2) $100 - $200   105.54     1       0      Urban       0   \n",
       "63996        5    1) $0 - $100    38.91     0       1      Urban       1   \n",
       "63997        6    1) $0 - $100    29.99     1       0      Urban       1   \n",
       "63998        1  5) $500 - $750   552.94     1       0  Surburban       1   \n",
       "63999        1  4) $350 - $500   472.82     0       1  Surburban       0   \n",
       "\n",
       "            channel  \n",
       "0             Phone  \n",
       "1               Web  \n",
       "2               Web  \n",
       "3               Web  \n",
       "4               Web  \n",
       "...             ...  \n",
       "63995           Web  \n",
       "63996         Phone  \n",
       "63997         Phone  \n",
       "63998  Multichannel  \n",
       "63999           Web  \n",
       "\n",
       "[64000 rows x 8 columns]"
      ]
     },
     "execution_count": 52,
     "metadata": {},
     "output_type": "execute_result"
    }
   ],
   "source": [
    "# !pip install scikit-uplift\n",
    "from sklift.datasets import fetch_hillstrom\n",
    "# continuous Y\n",
    "data, target, treatment = fetch_hillstrom(target_col='spend', return_X_y_t=True)\n",
    "data # the raw data"
   ]
  },
  {
   "cell_type": "code",
   "execution_count": 53,
   "metadata": {
    "colab": {
     "base_uri": "https://localhost:8080/"
    },
    "executionInfo": {
     "elapsed": 4,
     "status": "ok",
     "timestamp": 1646881942382,
     "user": {
      "displayName": "Yang Xu",
      "photoUrl": "https://lh3.googleusercontent.com/a-/AOh14GiwmFvGwaija8HCAZKtLkFQJjRWaWko5tV_i1Zd=s64",
      "userId": "12270366590264264299"
     },
     "user_tz": 300
    },
    "id": "tZ7FM7IUOBwy",
    "outputId": "f08b9049-6584-4193-82e0-3cab5da79b9b"
   },
   "outputs": [
    {
     "data": {
      "text/plain": [
       "578"
      ]
     },
     "execution_count": 53,
     "metadata": {},
     "output_type": "execute_result"
    }
   ],
   "source": [
    "np.sum(target!=0) # only 578 samples among a total of 64000 have non-zero spend"
   ]
  },
  {
   "cell_type": "code",
   "execution_count": 54,
   "metadata": {
    "colab": {
     "base_uri": "https://localhost:8080/",
     "height": 70
    },
    "executionInfo": {
     "elapsed": 481,
     "status": "ok",
     "timestamp": 1646881945324,
     "user": {
      "displayName": "Yang Xu",
      "photoUrl": "https://lh3.googleusercontent.com/a-/AOh14GiwmFvGwaija8HCAZKtLkFQJjRWaWko5tV_i1Zd=s64",
      "userId": "12270366590264264299"
     },
     "user_tz": 300
    },
    "id": "08owpE7_FVU6",
    "outputId": "255fcb34-e9b8-4481-8710-2b516abdb77e"
   },
   "outputs": [
    {
     "data": {
      "text/html": [
       "<div>\n",
       "<style scoped>\n",
       "    .dataframe tbody tr th:only-of-type {\n",
       "        vertical-align: middle;\n",
       "    }\n",
       "\n",
       "    .dataframe tbody tr th {\n",
       "        vertical-align: top;\n",
       "    }\n",
       "\n",
       "    .dataframe thead th {\n",
       "        text-align: right;\n",
       "    }\n",
       "</style>\n",
       "<table border=\"1\" class=\"dataframe\">\n",
       "  <thead>\n",
       "    <tr style=\"text-align: right;\">\n",
       "      <th></th>\n",
       "      <th>recency</th>\n",
       "      <th>history</th>\n",
       "      <th>mens</th>\n",
       "      <th>womens</th>\n",
       "      <th>newbie</th>\n",
       "      <th>zip_code_Surburban</th>\n",
       "      <th>zip_code_Urban</th>\n",
       "      <th>channel_Phone</th>\n",
       "      <th>channel_Web</th>\n",
       "      <th>A</th>\n",
       "      <th>Y</th>\n",
       "    </tr>\n",
       "  </thead>\n",
       "  <tbody>\n",
       "    <tr>\n",
       "      <th>217</th>\n",
       "      <td>10</td>\n",
       "      <td>88.37</td>\n",
       "      <td>0</td>\n",
       "      <td>1</td>\n",
       "      <td>0</td>\n",
       "      <td>0</td>\n",
       "      <td>1</td>\n",
       "      <td>1</td>\n",
       "      <td>0</td>\n",
       "      <td>1</td>\n",
       "      <td>29.99</td>\n",
       "    </tr>\n",
       "    <tr>\n",
       "      <th>267</th>\n",
       "      <td>4</td>\n",
       "      <td>297.80</td>\n",
       "      <td>1</td>\n",
       "      <td>1</td>\n",
       "      <td>0</td>\n",
       "      <td>0</td>\n",
       "      <td>1</td>\n",
       "      <td>1</td>\n",
       "      <td>0</td>\n",
       "      <td>1</td>\n",
       "      <td>264.66</td>\n",
       "    </tr>\n",
       "    <tr>\n",
       "      <th>332</th>\n",
       "      <td>10</td>\n",
       "      <td>29.99</td>\n",
       "      <td>0</td>\n",
       "      <td>1</td>\n",
       "      <td>0</td>\n",
       "      <td>1</td>\n",
       "      <td>0</td>\n",
       "      <td>0</td>\n",
       "      <td>1</td>\n",
       "      <td>0</td>\n",
       "      <td>149.28</td>\n",
       "    </tr>\n",
       "    <tr>\n",
       "      <th>451</th>\n",
       "      <td>6</td>\n",
       "      <td>265.61</td>\n",
       "      <td>0</td>\n",
       "      <td>1</td>\n",
       "      <td>1</td>\n",
       "      <td>1</td>\n",
       "      <td>0</td>\n",
       "      <td>0</td>\n",
       "      <td>0</td>\n",
       "      <td>1</td>\n",
       "      <td>42.66</td>\n",
       "    </tr>\n",
       "    <tr>\n",
       "      <th>459</th>\n",
       "      <td>1</td>\n",
       "      <td>101.99</td>\n",
       "      <td>0</td>\n",
       "      <td>1</td>\n",
       "      <td>0</td>\n",
       "      <td>1</td>\n",
       "      <td>0</td>\n",
       "      <td>0</td>\n",
       "      <td>1</td>\n",
       "      <td>1</td>\n",
       "      <td>29.99</td>\n",
       "    </tr>\n",
       "    <tr>\n",
       "      <th>...</th>\n",
       "      <td>...</td>\n",
       "      <td>...</td>\n",
       "      <td>...</td>\n",
       "      <td>...</td>\n",
       "      <td>...</td>\n",
       "      <td>...</td>\n",
       "      <td>...</td>\n",
       "      <td>...</td>\n",
       "      <td>...</td>\n",
       "      <td>...</td>\n",
       "      <td>...</td>\n",
       "    </tr>\n",
       "    <tr>\n",
       "      <th>63466</th>\n",
       "      <td>9</td>\n",
       "      <td>536.80</td>\n",
       "      <td>1</td>\n",
       "      <td>1</td>\n",
       "      <td>1</td>\n",
       "      <td>0</td>\n",
       "      <td>0</td>\n",
       "      <td>0</td>\n",
       "      <td>1</td>\n",
       "      <td>0</td>\n",
       "      <td>117.84</td>\n",
       "    </tr>\n",
       "    <tr>\n",
       "      <th>63552</th>\n",
       "      <td>2</td>\n",
       "      <td>980.39</td>\n",
       "      <td>1</td>\n",
       "      <td>0</td>\n",
       "      <td>1</td>\n",
       "      <td>0</td>\n",
       "      <td>1</td>\n",
       "      <td>1</td>\n",
       "      <td>0</td>\n",
       "      <td>0</td>\n",
       "      <td>90.57</td>\n",
       "    </tr>\n",
       "    <tr>\n",
       "      <th>63743</th>\n",
       "      <td>5</td>\n",
       "      <td>210.12</td>\n",
       "      <td>0</td>\n",
       "      <td>1</td>\n",
       "      <td>0</td>\n",
       "      <td>1</td>\n",
       "      <td>0</td>\n",
       "      <td>1</td>\n",
       "      <td>0</td>\n",
       "      <td>1</td>\n",
       "      <td>113.44</td>\n",
       "    </tr>\n",
       "    <tr>\n",
       "      <th>63876</th>\n",
       "      <td>2</td>\n",
       "      <td>215.61</td>\n",
       "      <td>1</td>\n",
       "      <td>0</td>\n",
       "      <td>0</td>\n",
       "      <td>0</td>\n",
       "      <td>0</td>\n",
       "      <td>0</td>\n",
       "      <td>1</td>\n",
       "      <td>1</td>\n",
       "      <td>99.49</td>\n",
       "    </tr>\n",
       "    <tr>\n",
       "      <th>63883</th>\n",
       "      <td>1</td>\n",
       "      <td>239.70</td>\n",
       "      <td>1</td>\n",
       "      <td>1</td>\n",
       "      <td>1</td>\n",
       "      <td>0</td>\n",
       "      <td>1</td>\n",
       "      <td>0</td>\n",
       "      <td>1</td>\n",
       "      <td>1</td>\n",
       "      <td>154.20</td>\n",
       "    </tr>\n",
       "  </tbody>\n",
       "</table>\n",
       "<p>578 rows × 11 columns</p>\n",
       "</div>"
      ],
      "text/plain": [
       "       recency  history  mens  womens  newbie  zip_code_Surburban  \\\n",
       "217         10    88.37     0       1       0                   0   \n",
       "267          4   297.80     1       1       0                   0   \n",
       "332         10    29.99     0       1       0                   1   \n",
       "451          6   265.61     0       1       1                   1   \n",
       "459          1   101.99     0       1       0                   1   \n",
       "...        ...      ...   ...     ...     ...                 ...   \n",
       "63466        9   536.80     1       1       1                   0   \n",
       "63552        2   980.39     1       0       1                   0   \n",
       "63743        5   210.12     0       1       0                   1   \n",
       "63876        2   215.61     1       0       0                   0   \n",
       "63883        1   239.70     1       1       1                   0   \n",
       "\n",
       "       zip_code_Urban  channel_Phone  channel_Web  A       Y  \n",
       "217                 1              1            0  1   29.99  \n",
       "267                 1              1            0  1  264.66  \n",
       "332                 0              0            1  0  149.28  \n",
       "451                 0              0            0  1   42.66  \n",
       "459                 0              0            1  1   29.99  \n",
       "...               ...            ...          ... ..     ...  \n",
       "63466               0              0            1  0  117.84  \n",
       "63552               1              1            0  0   90.57  \n",
       "63743               0              1            0  1  113.44  \n",
       "63876               0              0            1  1   99.49  \n",
       "63883               1              0            1  1  154.20  \n",
       "\n",
       "[578 rows x 11 columns]"
      ]
     },
     "execution_count": 54,
     "metadata": {},
     "output_type": "execute_result"
    }
   ],
   "source": [
    "treatment.replace(['Womens E-Mail', 'No E-Mail', 'Mens E-Mail'],[1, 0, 1], inplace=True) \n",
    "# use pd.concat to join the new columns with your original dataframe\n",
    "data = pd.concat([data,pd.get_dummies(data['zip_code'], prefix='zip_code')],axis=1)\n",
    "data = pd.concat([data,pd.get_dummies(data['channel'], prefix='channel')],axis=1)\n",
    "# now drop the original 'country' column (you don't need it anymore)\n",
    "data.drop(['zip_code'],axis=1, inplace=True)\n",
    "data.drop(['channel'],axis=1, inplace=True)\n",
    "data.drop(['history_segment'],axis=1, inplace=True)\n",
    "data.drop(['zip_code_Rural'],axis=1, inplace=True) # Rural as the reference group\n",
    "data.drop(['channel_Multichannel'],axis=1, inplace=True) # Multichannel as the reference group \n",
    "\n",
    "data_real=data[target>0].copy()\n",
    "#X['Intercept']=np.ones((len(data),1))\n",
    "data_real['A']=treatment[target>0]\n",
    "data_real['Y']=target[target>0]\n",
    "\n",
    "# The final data we will use\n",
    "data_real"
   ]
  },
  {
   "cell_type": "markdown",
   "metadata": {
    "id": "vq4Bm0fcQSwP"
   },
   "source": [
    "### Calculating the Quantile Optimal Treatment Regime"
   ]
  },
  {
   "cell_type": "code",
   "execution_count": null,
   "metadata": {
    "colab": {
     "base_uri": "https://localhost:8080/"
    },
    "executionInfo": {
     "elapsed": 47805,
     "status": "ok",
     "timestamp": 1646882000360,
     "user": {
      "displayName": "Yang Xu",
      "photoUrl": "https://lh3.googleusercontent.com/a-/AOh14GiwmFvGwaija8HCAZKtLkFQJjRWaWko5tV_i1Zd=s64",
      "userId": "12270366590264264299"
     },
     "user_tz": 300
    },
    "id": "YB-SHaTDQYnb",
    "outputId": "1255c60b-a984-4336-da65-e53dfadf9443"
   },
   "outputs": [
    {
     "name": "stdout",
     "output_type": "stream",
     "text": [
      "Warning: Maximum number of iterations has been exceeded.\n",
      "         Current function value: 0.502953\n",
      "         Iterations: 35\n",
      "         Function evaluations: 45\n",
      "         Gradient evaluations: 40\n",
      " final_simplex: (array([[-1.1895e-04,  1.7227e-04,  1.4110e-04, -3.8883e-05,  1.3248e-04,\n",
      "        -1.6189e-04,  1.4630e-06,  8.8951e-05, -1.8789e-05, -4.1688e-05],\n",
      "       [-1.1876e-04,  1.7185e-04,  1.4111e-04, -3.9113e-05,  1.3260e-04,\n",
      "        -1.6160e-04,  1.5493e-06,  8.8964e-05, -1.8975e-05, -4.1777e-05],\n",
      "       [-1.1816e-04,  1.7171e-04,  1.4095e-04, -3.8872e-05,  1.3259e-04,\n",
      "        -1.6174e-04,  1.7327e-06,  8.8731e-05, -1.9187e-05, -4.1762e-05],\n",
      "       [-1.1882e-04,  1.7222e-04,  1.4113e-04, -3.8993e-05,  1.3252e-04,\n",
      "        -1.6171e-04,  1.6759e-06,  8.9012e-05, -1.9038e-05, -4.1803e-05],\n",
      "       [-1.1924e-04,  1.7234e-04,  1.4088e-04, -3.8863e-05,  1.3250e-04,\n",
      "        -1.6158e-04,  1.4646e-06,  8.9095e-05, -1.8690e-05, -4.2013e-05],\n",
      "       [-1.1900e-04,  1.7211e-04,  1.4096e-04, -3.8999e-05,  1.3246e-04,\n",
      "        -1.6178e-04,  1.3607e-06,  8.9148e-05, -1.9045e-05, -4.1516e-05],\n",
      "       [-1.1880e-04,  1.7227e-04,  1.4096e-04, -3.9149e-05,  1.3250e-04,\n",
      "        -1.6187e-04,  1.4407e-06,  8.9451e-05, -1.8686e-05, -4.1759e-05],\n",
      "       [-1.1875e-04,  1.7196e-04,  1.4083e-04, -3.9025e-05,  1.3241e-04,\n",
      "        -1.6157e-04,  1.5918e-06,  8.9206e-05, -1.8949e-05, -4.1680e-05],\n",
      "       [-1.1872e-04,  1.7252e-04,  1.4081e-04, -3.8846e-05,  1.3243e-04,\n",
      "        -1.6168e-04,  1.4315e-06,  8.8960e-05, -1.8996e-05, -4.1701e-05],\n",
      "       [-1.1925e-04,  1.7192e-04,  1.4085e-04, -3.8711e-05,  1.3264e-04,\n",
      "        -1.6172e-04,  1.5903e-06,  8.9406e-05, -1.8946e-05, -4.1745e-05],\n",
      "       [-1.1889e-04,  1.7195e-04,  1.4101e-04, -3.8838e-05,  1.3258e-04,\n",
      "        -1.6177e-04,  1.4543e-06,  8.9190e-05, -1.8917e-05, -4.1762e-05]]), array([-100.75, -100.75, -100.75, -100.75, -100.75, -100.75, -100.75,\n",
      "       -100.75, -100.75, -100.75, -100.75]))\n",
      "           fun: -100.75\n",
      "       message: 'Optimization terminated successfully.'\n",
      "          nfev: 181\n",
      "           nit: 63\n",
      "        status: 0\n",
      "       success: True\n",
      "             x: array([-1.1895e-04,  1.7227e-04,  1.4110e-04, -3.8883e-05,  1.3248e-04,\n",
      "       -1.6189e-04,  1.4630e-06,  8.8951e-05, -1.8789e-05, -4.1688e-05])\n"
     ]
    }
   ],
   "source": [
    "# initialize the learner\n",
    "Quantile_OTR=QuantileOTR()\n",
    "\n",
    "moCondQuant_0 = ['recency',\t'history',\t'mens',\t'womens',\t'newbie',\t'zip_code_Surburban',\t'zip_code_Urban',\t'channel_Phone',\t'channel_Web']\n",
    "moCondQuant_1 = ['recency',\t'history',\t'mens',\t'womens',\t'newbie',\t'zip_code_Surburban',\t'zip_code_Urban',\t'channel_Phone',\t'channel_Web']\n",
    "\n",
    "coefficient, coef_original_scale, Q_est=Quantile_OTR.DR_Qopt(data=data_real, tau=0.5, moCondQuant_0=moCondQuant_0, moCondQuant_1=moCondQuant_1,moPropen = \"NotBinaryRandom\")"
   ]
  },
  {
   "cell_type": "code",
   "execution_count": null,
   "metadata": {
    "colab": {
     "base_uri": "https://localhost:8080/"
    },
    "executionInfo": {
     "elapsed": 390,
     "status": "ok",
     "timestamp": 1646882014437,
     "user": {
      "displayName": "Yang Xu",
      "photoUrl": "https://lh3.googleusercontent.com/a-/AOh14GiwmFvGwaija8HCAZKtLkFQJjRWaWko5tV_i1Zd=s64",
      "userId": "12270366590264264299"
     },
     "user_tz": 300
    },
    "id": "WCjvgzk8x_A-",
    "outputId": "dca49e8e-a7a1-4316-85a8-e8ca17441b84"
   },
   "outputs": [
    {
     "data": {
      "text/plain": [
       "array([ 0.0000e+00,  1.5661e-05,  6.6834e-08, -3.8883e-05,  1.3248e-04,\n",
       "       -1.6189e-04,  1.4630e-06,  8.8951e-05, -1.8789e-05, -4.1688e-05])"
      ]
     },
     "execution_count": 292,
     "metadata": {},
     "output_type": "execute_result"
    }
   ],
   "source": [
    "# the coefficient that maximize the quantile\n",
    "coef_original_scale"
   ]
  },
  {
   "cell_type": "code",
   "execution_count": null,
   "metadata": {
    "colab": {
     "base_uri": "https://localhost:8080/"
    },
    "executionInfo": {
     "elapsed": 379,
     "status": "ok",
     "timestamp": 1646882019124,
     "user": {
      "displayName": "Yang Xu",
      "photoUrl": "https://lh3.googleusercontent.com/a-/AOh14GiwmFvGwaija8HCAZKtLkFQJjRWaWko5tV_i1Zd=s64",
      "userId": "12270366590264264299"
     },
     "user_tz": 300
    },
    "id": "QSt1XIQpzFLd",
    "outputId": "c2c8b481-0f06-4148-9d95-e92227a0d0fa"
   },
   "outputs": [
    {
     "data": {
      "text/plain": [
       "100.75"
      ]
     },
     "execution_count": 293,
     "metadata": {},
     "output_type": "execute_result"
    }
   ],
   "source": [
    "# the estimated quantile that corresponds to the optimized coefficient\n",
    "Q_est"
   ]
  },
  {
   "cell_type": "code",
   "execution_count": null,
   "metadata": {
    "colab": {
     "base_uri": "https://localhost:8080/",
     "height": 295
    },
    "executionInfo": {
     "elapsed": 502,
     "status": "ok",
     "timestamp": 1646882029528,
     "user": {
      "displayName": "Yang Xu",
      "photoUrl": "https://lh3.googleusercontent.com/a-/AOh14GiwmFvGwaija8HCAZKtLkFQJjRWaWko5tV_i1Zd=s64",
      "userId": "12270366590264264299"
     },
     "user_tz": 300
    },
    "id": "UEGQMb8xzH6M",
    "outputId": "3583da90-14a0-41e8-bcf7-f7a557d4f97c"
   },
   "outputs": [
    {
     "data": {
      "image/png": "[encoded data removed]",
      "text/plain": [
       "<Figure size 432x288 with 1 Axes>"
      ]
     },
     "metadata": {
      "needs_background": "light"
     },
     "output_type": "display_data"
    }
   ],
   "source": [
    "n, bins, patches = plt.hist(Data['Y'], bins=100,density=True, facecolor = \"blue\",alpha=0.75)\n",
    "\n",
    "\n",
    "plt.xlabel('R1')\n",
    "plt.ylabel('Probability')\n",
    "plt.title('Histogram of Target')\n",
    "plt.xlim(np.min(Data['Y']-2), np.max(Data['Y']))\n",
    "plt.ylim(0, 0.2)\n",
    "plt.grid(True)\n",
    "plt.show()"
   ]
  },
  {
   "cell_type": "markdown",
   "metadata": {
    "id": "YPP9ck3kD5Tp"
   },
   "source": [
    "#  Quantile Off Policy Evaluation\n",
    "\n",
    "When facing sequential decision-making problems, it is of particular interest to evaluate the performance of applying a given policy on the agent. In real settings, we are interested in evaluating the outcome of some fixed policy $\\pi$, i.e. the target policy, while the data we have is often offline and collected from another potentially different policy $b$, i.e. the behavior policy. \n",
    "\n",
    "[Xu et al. 2022 [3]](https://arxiv.org/abs/2212.14466) proposed a doubly-robust inference procedure for quantile off-policy evaluation (OPE) in sequential decision making and study its asymptotic properties. In particular, the state-of-the-art deep conditional generative learning methods were conducted to handle parameter-dependent nuisance function estimation. \n",
    "\n"
   ]
  },
  {
   "cell_type": "markdown",
   "metadata": {},
   "source": [
    "##  Main idea\n",
    "The doubly robust estimator of quantile estimation is\n",
    "\\begin{equation}\n",
    "    \\hat{\\eta}_n=\\arg\\min_{\\eta} \\frac{1}{n}\\sum_{i=1}^n\\left[\\frac{C(A_i,X_i)}{\\hat{K}_C(X_i)}\\rho_{\\tau}(Y_i-\\eta)+\\left(1-\\frac{C(A_i,X_i)}{\\hat{K}_C(X_i)}\\right)\\hat{\\mathbb{E}}[\\rho_{\\tau}(\\hat{Y}-\\eta)|X=X_i,A=\\pi(X_i)]\\right],\n",
    "\\end{equation}\n",
    "where $\\hat{K}_C(X)=\\hat{b}(X)\\pi(X)+(1-\\hat{b}(X))(1-\\pi(X))$, and \n",
    "\\begin{equation*}\n",
    "    \\hat{\\mathbb{E}}[\\rho_{\\tau}(\\hat{Y}-\\eta)|A=\\pi(X_i),X=X_i]=\\frac{1}{M}\\sum_{j=1}^M \\rho(\\hat{Y}_j-\\eta),\n",
    "\\end{equation*}\n",
    "in which $\\{\\hat{Y}_j\\}_{j=1}^M$ are the random outcomes we generated from some estimated data generating model given $X_i$ and policy $\\pi$.\n",
    "\n",
    "In function QDR_QOPE(), $\\hat{Y}$ is estimated by Mixture Density Network (MDN), and the propensity score is estimated by Gradient Boosting Decision Tree (GBDT). To futher reduce the bias of the quanatile estimator, 5-folds cross fitting was also implemented by default.\n",
    "\n"
   ]
  },
  {
   "cell_type": "markdown",
   "metadata": {},
   "source": [
    "\n",
    "Next, we will use both the simulation data and a real dataset to illustrate the performance of Quantile Off Policy Evaluation.\n",
    "\n"
   ]
  },
  {
   "cell_type": "markdown",
   "metadata": {
    "id": "fg1qgLinBO_w"
   },
   "source": [
    "## Demo on Simulation data"
   ]
  },
  {
   "cell_type": "code",
   "execution_count": null,
   "metadata": {
    "colab": {
     "base_uri": "https://localhost:8080/"
    },
    "executionInfo": {
     "elapsed": 27088,
     "status": "ok",
     "timestamp": 1647473123986,
     "user": {
      "displayName": "Yang Xu",
      "photoUrl": "https://lh3.googleusercontent.com/a-/AOh14GiwmFvGwaija8HCAZKtLkFQJjRWaWko5tV_i1Zd=s64",
      "userId": "12270366590264264299"
     },
     "user_tz": 240
    },
    "id": "MEVBN5vFBoR9",
    "outputId": "ee2c1a3d-19fe-4165-f67e-04658b86e754"
   },
   "outputs": [
    {
     "name": "stdout",
     "output_type": "stream",
     "text": [
      "fold:  0\n",
      "fold:  1\n",
      "fold:  2\n",
      "fold:  3\n",
      "fold:  4\n"
     ]
    }
   ],
   "source": [
    "from causaldm.learners.CPL13.disc.DR_QuantileOPE import *\n",
    "Quantile_OTR=QuantileOPE()\n",
    "QOPE_est=Quantile_OTR.QDR_QOPE(data=data_sim,tau=0.5)"
   ]
  },
  {
   "cell_type": "code",
   "execution_count": null,
   "metadata": {
    "colab": {
     "base_uri": "https://localhost:8080/"
    },
    "executionInfo": {
     "elapsed": 20,
     "status": "ok",
     "timestamp": 1647473123988,
     "user": {
      "displayName": "Yang Xu",
      "photoUrl": "https://lh3.googleusercontent.com/a-/AOh14GiwmFvGwaija8HCAZKtLkFQJjRWaWko5tV_i1Zd=s64",
      "userId": "12270366590264264299"
     },
     "user_tz": 240
    },
    "id": "_d1BPed1BoR-",
    "outputId": "abbd2785-3ed2-40bb-e167-9ea754b4a4a8"
   },
   "outputs": [
    {
     "data": {
      "text/plain": [
       "2.927600463556344"
      ]
     },
     "execution_count": 243,
     "metadata": {},
     "output_type": "execute_result"
    }
   ],
   "source": [
    "QOPE_est # estimated quantile value at level tau for a given target policy pi"
   ]
  },
  {
   "cell_type": "markdown",
   "metadata": {
    "id": "5fCiYcfeBO_1"
   },
   "source": [
    "## Demo on Real dataset"
   ]
  },
  {
   "cell_type": "code",
   "execution_count": 1,
   "metadata": {
    "colab": {
     "base_uri": "https://localhost:8080/"
    },
    "executionInfo": {
     "elapsed": 131689,
     "status": "ok",
     "timestamp": 1647473269595,
     "user": {
      "displayName": "Yang Xu",
      "photoUrl": "https://lh3.googleusercontent.com/a-/AOh14GiwmFvGwaija8HCAZKtLkFQJjRWaWko5tV_i1Zd=s64",
      "userId": "12270366590264264299"
     },
     "user_tz": 240
    },
    "id": "_1JTwpWkByMP",
    "outputId": "67883631-4244-45da-ca2b-0f2374340b23"
   },
   "outputs": [
    {
     "ename": "NameError",
     "evalue": "name 'QuantileOPE' is not defined",
     "output_type": "error",
     "traceback": [
      "\u001b[1;31m---------------------------------------------------------------------------\u001b[0m",
      "\u001b[1;31mNameError\u001b[0m                                 Traceback (most recent call last)",
      "Input \u001b[1;32mIn [1]\u001b[0m, in \u001b[0;36m<cell line: 2>\u001b[1;34m()\u001b[0m\n\u001b[0;32m      1\u001b[0m \u001b[38;5;66;03m# initialize the learner\u001b[39;00m\n\u001b[1;32m----> 2\u001b[0m Quantile_OTR\u001b[38;5;241m=\u001b[39m\u001b[43mQuantileOPE\u001b[49m()\n\u001b[0;32m      4\u001b[0m QOPE_est\u001b[38;5;241m=\u001b[39mQuantile_OTR\u001b[38;5;241m.\u001b[39mQDR_QOPE(data\u001b[38;5;241m=\u001b[39mdata_real,tau\u001b[38;5;241m=\u001b[39m\u001b[38;5;241m0.5\u001b[39m)\n",
      "\u001b[1;31mNameError\u001b[0m: name 'QuantileOPE' is not defined"
     ]
    }
   ],
   "source": [
    "# initialize the learner\n",
    "Quantile_OTR=QuantileOPE()\n",
    "\n",
    "QOPE_est=Quantile_OTR.QDR_QOPE(data=data_real,tau=0.5)"
   ]
  },
  {
   "cell_type": "code",
   "execution_count": null,
   "metadata": {
    "colab": {
     "base_uri": "https://localhost:8080/"
    },
    "executionInfo": {
     "elapsed": 29,
     "status": "ok",
     "timestamp": 1647473269596,
     "user": {
      "displayName": "Yang Xu",
      "photoUrl": "https://lh3.googleusercontent.com/a-/AOh14GiwmFvGwaija8HCAZKtLkFQJjRWaWko5tV_i1Zd=s64",
      "userId": "12270366590264264299"
     },
     "user_tz": 240
    },
    "id": "vEIlAGZFByMQ",
    "outputId": "4567b667-2329-43b8-d726-8501ecc92fef",
    "scrolled": true
   },
   "outputs": [
    {
     "data": {
      "text/plain": [
       "77.5961404868027"
      ]
     },
     "execution_count": 245,
     "metadata": {},
     "output_type": "execute_result"
    }
   ],
   "source": [
    "QOPE_est # estimated quantile value at level tau for a given target policy $\\pi$"
   ]
  },
  {
   "cell_type": "markdown",
   "metadata": {
    "id": "Imj47BToIycE"
   },
   "source": [
    "### Reference\n",
    "\n",
    "\n",
    "    [1] Lan Wang, Yu Zhou, Rui Song and Ben Sherwood. \"Quantile-Optimal Treatment Regimes.\" Journal of the American Statistical Association 2018; 113(523): 1243–1254.\n",
    "\n",
    "    [2] Moodie, Erica EM, Nema Dean, and Yue Ru Sun. \"Q-learning: Flexible learning about useful utilities.\" Statistics in Biosciences 6 (2014): 223-243.\n",
    "    \n",
    "    [3] Xu, Y., Shi, C., Luo, S., Wang, L., & Song, R. (2022). Quantile Off-Policy Evaluation via Deep Conditional Generative Learning. arXiv preprint arXiv:2212.14466.\n"
   ]
  },
  {
   "cell_type": "code",
   "execution_count": null,
   "metadata": {},
   "outputs": [],
   "source": []
  }
 ],
 "metadata": {
  "colab": {
   "authorship_tag": "ABX9TyPuy68o4GS6+fRQY9Q3sc6V",
   "collapsed_sections": [
    "fg1qgLinBO_w"
   ],
   "name": "QuantileOTR_test.ipynb",
   "provenance": []
  },
  "kernelspec": {
   "display_name": "Python 3 (ipykernel)",
   "language": "python",
   "name": "python3"
  },
  "language_info": {
   "codemirror_mode": {
    "name": "ipython",
    "version": 3
   },
   "file_extension": ".py",
   "mimetype": "text/x-python",
   "name": "python",
   "nbconvert_exporter": "python",
   "pygments_lexer": "ipython3",
   "version": "3.9.13"
  }
 },
 "nbformat": 4,
 "nbformat_minor": 1
}
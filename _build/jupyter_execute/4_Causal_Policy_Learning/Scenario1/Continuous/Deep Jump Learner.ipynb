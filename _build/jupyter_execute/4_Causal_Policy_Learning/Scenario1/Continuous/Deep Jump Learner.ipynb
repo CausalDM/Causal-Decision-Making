{
 "cells": [
  {
   "cell_type": "markdown",
   "id": "1a50dfb4",
   "metadata": {},
   "source": [
    "# Deep Jump Learner for Continuous Actions\n",
    "\n",
    "\n",
    "Despite the popularity of developing methods for policy optimization and evaluation with discrete treatments, less attention has been paid to continuous action domains such as personalized dose-finding and dynamic pricing. We review the classical solutions for continous domains and detail the **deep jump learner** for continuous actions. \n",
    "\n",
    "***Application situations***: \n",
    "    \n",
    "1. Continuous treatment settings\n",
    "2. Discontinuous or continuous value function \n",
    "\n",
    "***Advantage of the learner***:\n",
    "\n",
    "1. Policy optimization: \n",
    "    - Return an individualized interval-valued decision rule that recommends an interval of treatment options for each individual;\n",
    "    - More flexible to implement in practice.\n",
    "    \n",
    "2. Policy evaluation:\n",
    "    - A faster convergence rate than the kernel-based methods for discontinuous value function;\n",
    "    - No need to select kernel bandwidth.\n",
    "\n",
    "## Main Idea\n",
    "\n",
    "### Overview\n",
    "\n",
    "To handle **continuous treatment settings**, we detail the jump interval-learning to develop an individualized interval-valued decision rule (I2DR) that maximizes the expected outcome. Unlike individualized decision rules (IDRs) that recommend a single treatment, the newly proposed I2DR yields an interval of treatment options for each individual, making it more flexible to implement in practice. On the other hand, for off-policy evaluation, we review the deep jump learning, of which the key ingredient lies in adaptively discretizing the treatment space using deep discretization, by leveraging deep learning and multi-scale change point detection. This allows us to apply existing off-policy evaluation methods in discrete treatments to handle continuous treatments, and overcome the limitations of kernel-based methods in the literature and handle both **continuous/discontinuous value function**. \n",
    " \n",
    "### Difficulties in Continuous Actions\n",
    "\n",
    "Let the observed offline datasets as $\\{(X_i,A_i,Y_i)\\}_{1\\le i\\le n}$ and $n$ as the total sample size. A decision rule or policy $d: \\mathcal{X} \\to \\mathcal{A}$. We use $b$ to denote the propensity score and $p(\\bullet|x)$ denotes the probability density function of $A$ given $X=x$. Define the $Q$-function as $Q(x, a) = E(Y|X=x,A=a).$ The doubly robust (DR) estimator of value $V(d) = E [Q\\{X, d(X)\\}]$ for discrete treatments is\n",
    "\\begin{eqnarray}\\label{eqn:DR}\n",
    "\\frac{1}{n}\\sum_{i=1}^n \\psi(O_i,d,\\widehat{Q},\\widehat{p})=\\frac{1}{n}\\sum_{i=1}^n \\left[\\widehat{Q}\\{X_i,d(X_i)\\}+\\frac{\\mathbb{I}\\{A_i=d(X_i)\\}}{\\widehat{p}(A_i|X_i)}\\{Y_i-\\widehat{Q}(X_i,A_i)\\}\\right],\n",
    "\\end{eqnarray} \n",
    "where $\\mathbb{I}(\\bullet)$ denotes the indicator function, $\\widehat{Q}$ and $\\widehat{p}(a|x)$ denote some estimators for the conditional mean function $Q$ and the propensity score $b$, respectively. In continuous treatment domains, the indicator function $\\mathbb{I}\\{A_i=d(X_i)\\}$ equals zero almost surely. Consequently, naively applying the DR method yields a plug-in estimator $\\sum_{i=1}^n \\widehat{Q}\\{X_i,d(X_i)\\}/n$. To address this concern, the kernel-based methods proposed to replace the indicator function with a kernel function $K[\\{A_i-d(X_i)\\}/h]$, i.e.,\n",
    "\\begin{eqnarray}\\label{eqn:kernel}\n",
    "\t\\frac{1}{n}\\sum_{i=1}^n \\psi_h(O_i,d,\\widehat{Q},\\widehat{p})=\\frac{1}{n}\\sum_{i=1}^n \\left[\\widehat{Q}\\{X_i,d(X_i)\\}+\\frac{K\\{{A_i-d(X_i)\\over h}\\}}{\\widehat{p}(A_i|X_i)}\\{Y_i-\\widehat{Q}(X_i,A_i)\\}\\right].\n",
    "\\end{eqnarray}\n",
    "Here, the bandwidth $h$ represents a trade-off. The variance of the resulting value estimator decays with $h$. Yet, its bias increases with $h$. This method requires the expected second derivative of the function $Q(x,a)$ exists, and thus $Q(x,a)$ needs to be a **smooth** function of $a$.  \n",
    "\n",
    "\n",
    "### Details of Deep Jump Learner \n",
    "To overcome these difficulties, the deep jump learner proposes to adaptively discretizing the treatment space. We define $\\mathcal{B}(m)$ as the set of discretizations $\\mathcal{D}$ such that each interval $\\mathcal{I}\\in \\mathcal{D}$ corresponds to a union of some of the $m$ initial intervals.  Each discretization $\\mathcal{D}\\in \\mathcal{B}(m)$ is associated with a set of functions $\\{q_{\\mathcal{I}}\\}_{\\mathcal{I}\\in \\mathcal{D}}$. We model these $q_{\\mathcal{I}}$ using deep neural networks (DNNs), to capture the complex dependence between the outcome and features.  Thus, $\\widehat{\\mathcal{D}}$ can be estimated by solving \n",
    "\\begin{eqnarray}\\label{eqn:optimize}\n",
    " \\left(\\widehat{\\mathcal{D}},\\{\\widehat{q}_{\\mathcal{I}}:\\mathcal{I}\\in \\widehat{\\mathcal{D}} \\}\\right)=argmin_{\\left(\\substack{\\mathcal{D}\\in \\mathcal{B}(m),\\\\ \\{q_{\\mathcal{I}}\\in \\mathcal{Q}_{\\mathcal{I}}: \\mathcal{I}\\in \\mathcal{D} \\} }\\right)}\\left(\\sum_{\\mathcal{I}\\in \\mathcal{D}} \\left[ {1\\over n} \\sum_{i=1}^{n} \\mathbb{I}(A_i\\in \\mathcal{I})  \\big\\{Y_i - q_{\\mathcal{I}}(X_i) \\big\\}^2\\right]+\\gamma_n |\\mathcal{D}| \\right),\n",
    "\\end{eqnarray}\n",
    "for some regularization parameter $\\gamma_n$ and some function class of DNNs $\\mathcal{Q}_{\\mathcal{I}}$.\n",
    "\n",
    "***Policy Optimization***:\n",
    "\n",
    "Given $\\widehat{\\mathcal{D}}$ and $\\{\\widehat{q}_{\\mathcal{I}}:\\mathcal{I}\\in \\widehat{\\mathcal{D}} \\}$, to maximize the expected outcome of interest, our proposed I2DR is then given by\n",
    "\\begin{eqnarray}\\label{I2DR}\n",
    "\t\\widehat{d}(x)=argmax_{\\mathcal{I}\\in \\widehat{\\mathcal{D}}}  \\widehat{q}_{\\mathcal{I}}(x),\\,\\,\\,\\,\\,\\,\\,\\,\\forall x\\in \\mathbb{X}.\n",
    "\\end{eqnarray}\n",
    "When the argmax in the above equation is not unique, $\\widehat{d}(\\cdot)$ outputs the interval that contains the smallest treatment.  \n",
    "\n",
    "***Policy Evaluation***:\n",
    "\n",
    "Given $\\widehat{\\mathcal{D}}$ and $\\{\\widehat{q}_{\\mathcal{I}}:\\mathcal{I}\\in \\widehat{\\mathcal{D}} \\}$, we apply the DR estimator to derive the value estimate for any target policy of interest $d$, i.e., \n",
    "\\begin{eqnarray}\\label{value_djqe}\n",
    "\t\\widehat{V}^{DR}(d)={1\\over n} \\sum_{\\mathcal{I}\\in \\widehat{\\mathcal{D}}}  \\sum_{i=1}^{n} \\left( \\mathbb{I}\\{d(X_i)\\in \\mathcal{I}\\}  \\left[  {\\mathbb{I}(A_i\\in \\mathcal{I})\\over  \\widehat{p}_\\mathcal{I}(X_i)}\\big\\{Y_i - \\widehat{q}_\\mathcal{I}(X_i) \\big\\} + \\widehat{q}_\\mathcal{I}(X_i) \\right]\\right),\n",
    "\\end{eqnarray} \n",
    "where $\\widehat{p}_{\\mathcal{I}}(x)$ is some estimator of the generalized propensity score function $p(A\\in \\mathcal{I}|X=x)$. \n",
    "\n",
    "\n",
    "## Demo Code\n",
    "In the following, we exhibit how to apply the learner on real data to do policy learning and policy evaluation, respectively."
   ]
  },
  {
   "cell_type": "markdown",
   "id": "04691ea7",
   "metadata": {},
   "source": [
    "### 1. Policy Learning"
   ]
  },
  {
   "cell_type": "code",
   "execution_count": 1,
   "id": "a576d939",
   "metadata": {},
   "outputs": [
    {
     "ename": "ModuleNotFoundError",
     "evalue": "No module named 'data_generator'",
     "output_type": "error",
     "traceback": [
      "\u001b[0;31m---------------------------------------------------------------------------\u001b[0m",
      "\u001b[0;31mModuleNotFoundError\u001b[0m                       Traceback (most recent call last)",
      "\u001b[0;32m/var/folders/9j/vb5nb4rd5bx0gr1q5ytx9q600000gn/T/ipykernel_51076/799946913.py\u001b[0m in \u001b[0;36m<module>\u001b[0;34m\u001b[0m\n\u001b[1;32m      3\u001b[0m \u001b[0;34m\u001b[0m\u001b[0m\n\u001b[1;32m      4\u001b[0m \u001b[0;31m# code used to import the learner\u001b[0m\u001b[0;34m\u001b[0m\u001b[0;34m\u001b[0m\u001b[0m\n\u001b[0;32m----> 5\u001b[0;31m \u001b[0;32mfrom\u001b[0m \u001b[0mcausaldm\u001b[0m\u001b[0;34m.\u001b[0m\u001b[0mlearners\u001b[0m\u001b[0;34m.\u001b[0m\u001b[0mCPL13\u001b[0m\u001b[0;34m.\u001b[0m\u001b[0mcont\u001b[0m\u001b[0;34m.\u001b[0m\u001b[0mDeep_Jump_Learner\u001b[0m\u001b[0;34m.\u001b[0m\u001b[0mDJL_opt\u001b[0m \u001b[0;32mimport\u001b[0m \u001b[0;34m*\u001b[0m\u001b[0;34m\u001b[0m\u001b[0;34m\u001b[0m\u001b[0m\n\u001b[0m\u001b[1;32m      6\u001b[0m \u001b[0;34m\u001b[0m\u001b[0m\n\u001b[1;32m      7\u001b[0m \u001b[0;31m# real data generator\u001b[0m\u001b[0;34m\u001b[0m\u001b[0;34m\u001b[0m\u001b[0m\n",
      "\u001b[0;32m~/opt/anaconda3/lib/python3.9/site-packages/causaldm/learners/CPL13/cont/Deep_Jump_Learner/DJL_opt.py\u001b[0m in \u001b[0;36m<module>\u001b[0;34m\u001b[0m\n\u001b[1;32m     14\u001b[0m \u001b[0;32mfrom\u001b[0m \u001b[0mdatetime\u001b[0m \u001b[0;32mimport\u001b[0m \u001b[0mdatetime\u001b[0m\u001b[0;34m\u001b[0m\u001b[0;34m\u001b[0m\u001b[0m\n\u001b[1;32m     15\u001b[0m \u001b[0;34m\u001b[0m\u001b[0m\n\u001b[0;32m---> 16\u001b[0;31m \u001b[0;32mimport\u001b[0m \u001b[0mdata_generator\u001b[0m\u001b[0;34m\u001b[0m\u001b[0;34m\u001b[0m\u001b[0m\n\u001b[0m\u001b[1;32m     17\u001b[0m \u001b[0;32mimport\u001b[0m \u001b[0mDJL\u001b[0m\u001b[0;34m\u001b[0m\u001b[0;34m\u001b[0m\u001b[0m\n\u001b[1;32m     18\u001b[0m \u001b[0;34m\u001b[0m\u001b[0m\n",
      "\u001b[0;31mModuleNotFoundError\u001b[0m: No module named 'data_generator'"
     ]
    }
   ],
   "source": [
    "# To find the optimal I2DR by the deep jump learner on the Real Data \n",
    "# of Warfarin Dosing (20 features)\n",
    "\n",
    "# code used to import the learner  \n",
    "from causaldm.learners.CPL13.cont.Deep_Jump_Learner.DJL_opt import *\n",
    "\n",
    "# real data generator\n",
    "data_gen = data_generator.RealDataGenerator(file_name='real_envir.pickle') \n",
    "  \n",
    "n = 300 # total number of visit \n",
    "\n",
    "# deep jump learner\n",
    "\n",
    "DJL_partition, DJL_agent = DJLearn_opt(data_gen, n, seed=2333, mlp_max_iter=50)\n"
   ]
  },
  {
   "cell_type": "markdown",
   "id": "8e31ca9a",
   "metadata": {},
   "source": [
    "**Interpretation:** The estimated best partition of the continuous action space is [0.0, 0.033, 0.067, 0.1, 0.133, 0.167, 0.333, 1], with spent time 0.5 minute. "
   ]
  },
  {
   "cell_type": "code",
   "execution_count": 9,
   "id": "a1ecdf65",
   "metadata": {},
   "outputs": [
    {
     "data": {
      "text/plain": [
       "[0.3333333333333333, 1.0]"
      ]
     },
     "execution_count": 9,
     "metadata": {},
     "output_type": "execute_result"
    }
   ],
   "source": [
    "#Demo code to find an optimal regime\n",
    "DJL_agent.opt_policy(DJL_partition, np.array(DJL_agent.train_data['xt'][0]).reshape(1,-1))\n"
   ]
  },
  {
   "cell_type": "markdown",
   "id": "02f96d0b",
   "metadata": {},
   "source": [
    "**Interpretation:** The estimated optimal regime (I2DR) for 0th patient is [0.333, 1.0]."
   ]
  },
  {
   "cell_type": "markdown",
   "id": "4c00ad9e",
   "metadata": {},
   "source": [
    "### 2. Policy Evaluation"
   ]
  },
  {
   "cell_type": "code",
   "execution_count": 6,
   "id": "a9c85a07",
   "metadata": {},
   "outputs": [
    {
     "ename": "ModuleNotFoundError",
     "evalue": "No module named 'DJL'",
     "output_type": "error",
     "traceback": [
      "\u001b[1;31m---------------------------------------------------------------------------\u001b[0m",
      "\u001b[1;31mModuleNotFoundError\u001b[0m                       Traceback (most recent call last)",
      "Input \u001b[1;32mIn [6]\u001b[0m, in \u001b[0;36m<cell line: 4>\u001b[1;34m()\u001b[0m\n\u001b[0;32m      1\u001b[0m \u001b[38;5;66;03m# To evaluate the deep jump learner on the Real Data of Warfarin Dosing (20 features)\u001b[39;00m\n\u001b[0;32m      2\u001b[0m \n\u001b[0;32m      3\u001b[0m \u001b[38;5;66;03m# code used to import the learner  \u001b[39;00m\n\u001b[1;32m----> 4\u001b[0m \u001b[38;5;28;01mfrom\u001b[39;00m \u001b[38;5;21;01mcausaldm\u001b[39;00m\u001b[38;5;21;01m.\u001b[39;00m\u001b[38;5;21;01mlearners\u001b[39;00m\u001b[38;5;21;01m.\u001b[39;00m\u001b[38;5;21;01mCPL13\u001b[39;00m\u001b[38;5;21;01m.\u001b[39;00m\u001b[38;5;21;01mcont\u001b[39;00m\u001b[38;5;21;01m.\u001b[39;00m\u001b[38;5;21;01mDeep_Jump_Learner\u001b[39;00m\u001b[38;5;21;01m.\u001b[39;00m\u001b[38;5;21;01mDJL_eval\u001b[39;00m \u001b[38;5;28;01mimport\u001b[39;00m \u001b[38;5;241m*\u001b[39m\n\u001b[0;32m      6\u001b[0m \u001b[38;5;66;03m# real data generator\u001b[39;00m\n\u001b[0;32m      7\u001b[0m data_gen \u001b[38;5;241m=\u001b[39m data_generator\u001b[38;5;241m.\u001b[39mRealDataGenerator(file_name\u001b[38;5;241m=\u001b[39m\u001b[38;5;124m'\u001b[39m\u001b[38;5;124mreal_envir.pickle\u001b[39m\u001b[38;5;124m'\u001b[39m) \n",
      "File \u001b[1;32mD:\\anaconda3\\lib\\site-packages\\causaldm\\learners\\CPL13\\cont\\Deep_Jump_Learner\\DJL_eval.py:17\u001b[0m, in \u001b[0;36m<module>\u001b[1;34m\u001b[0m\n\u001b[0;32m     14\u001b[0m \u001b[38;5;28;01mfrom\u001b[39;00m \u001b[38;5;21;01mdatetime\u001b[39;00m \u001b[38;5;28;01mimport\u001b[39;00m datetime\n\u001b[0;32m     16\u001b[0m \u001b[38;5;28;01mimport\u001b[39;00m \u001b[38;5;21;01mdata_generator\u001b[39;00m\n\u001b[1;32m---> 17\u001b[0m \u001b[38;5;28;01mimport\u001b[39;00m \u001b[38;5;21;01mDJL\u001b[39;00m\n\u001b[0;32m     19\u001b[0m os\u001b[38;5;241m.\u001b[39menviron[\u001b[38;5;124m\"\u001b[39m\u001b[38;5;124mOMP_NUM_THREADS\u001b[39m\u001b[38;5;124m\"\u001b[39m] \u001b[38;5;241m=\u001b[39m \u001b[38;5;124m\"\u001b[39m\u001b[38;5;124m1\u001b[39m\u001b[38;5;124m\"\u001b[39m\n\u001b[0;32m     20\u001b[0m \u001b[38;5;28;01mimport\u001b[39;00m \u001b[38;5;21;01mwarnings\u001b[39;00m\n",
      "\u001b[1;31mModuleNotFoundError\u001b[0m: No module named 'DJL'"
     ]
    }
   ],
   "source": [
    "# To evaluate the deep jump learner on the Real Data of Warfarin Dosing (20 features)\n",
    "\n",
    "# code used to import the learner  \n",
    "from causaldm.learners.CPL13.cont.Deep_Jump_Learner.DJL_eval import *\n",
    "\n",
    "# real data generator\n",
    "data_gen = data_generator.RealDataGenerator(file_name='real_envir.pickle') \n",
    "\n",
    "# policy to be evaluate\n",
    "def pi_evaluate(context):\n",
    "    act_list = np.linspace(0, 1, 100)\n",
    "    x_max = np.max(np.array([data_gen.org_data.iloc[i]['xt'] for i in range(len(data_gen.org_data))]), 0)\n",
    "    x_min = np.min(np.array([data_gen.org_data.iloc[i]['xt'] for i in range(len(data_gen.org_data))]), 0)\n",
    "    val = []\n",
    "    for act in act_list:\n",
    "        val.append(data_gen.regr_mean.predict(np.append(np.array(context),np.array(act)).reshape(1, len(context)+1))[0])\n",
    "    return act_list[val.index(max(val))] \n",
    "\n",
    "n = 100 # total number of visit \n",
    "\n",
    "# policy evaluation\n",
    "\n",
    "DJLearn_eval(data_gen, n, pi_evaluate, seed=2333, mlp_max_iter=10)\n"
   ]
  },
  {
   "cell_type": "markdown",
   "id": "283346ae",
   "metadata": {},
   "source": [
    "**Interpretation:** The analysis result: the estimated value of the calibrated optimal policy under sample size $n=100$ and $p=20$ features is -0.1."
   ]
  },
  {
   "cell_type": "markdown",
   "id": "38388982",
   "metadata": {},
   "source": [
    "## References\n",
    "\n",
    "[1] Cai, H., Shi, C., Song, R., & Lu, W. (2021). Deep jump learning for off-policy evaluation in continuous treatment settings. Advances in Neural Information Processing Systems, 34.\n",
    "\n",
    "[2] Cai, H., Shi, C., Song, R., & Lu, W. (2021). Jump Interval-Learning for Individualized Decision Making. arXiv preprint arXiv:2111.08885.\n",
    "\n",
    "[3] Zhu, L., Lu, W., Kosorok, M. R., & Song, R. (2020, August). Kernel assisted learning for personalized dose finding. In Proceedings of the 26th ACM SIGKDD International Conference on Knowledge Discovery & Data Mining (pp. 56-65).\n",
    "\n",
    "[4] Kallus, N., & Zhou, A. (2018, March). Policy evaluation and optimization with continuous treatments. In International conference on artificial intelligence and statistics (pp. 1243-1251). PMLR."
   ]
  }
 ],
 "metadata": {
  "kernelspec": {
   "display_name": "Python 3 (ipykernel)",
   "language": "python",
   "name": "python3"
  },
  "language_info": {
   "codemirror_mode": {
    "name": "ipython",
    "version": 3
   },
   "file_extension": ".py",
   "mimetype": "text/x-python",
   "name": "python",
   "nbconvert_exporter": "python",
   "pygments_lexer": "ipython3",
   "version": "3.9.13"
  }
 },
 "nbformat": 4,
 "nbformat_minor": 5
}
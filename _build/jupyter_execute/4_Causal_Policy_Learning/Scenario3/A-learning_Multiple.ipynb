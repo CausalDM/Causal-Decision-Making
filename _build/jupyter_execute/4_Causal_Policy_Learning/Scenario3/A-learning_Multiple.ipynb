{
 "cells": [
  {
   "cell_type": "markdown",
   "id": "b0eb9f3f",
   "metadata": {},
   "source": [
    "# A-Learning\n",
    "\n",
    "## Main Idea\n",
    "A-Learning, also known as Advantage Learning, is one of the main approaches to learning the optimal regime and works similarly to Q-learning. However, while Q-learning requires positing regression models to fit the expected outcome, A-learning models the contrasts between treatments and control, directly informing the optimal decision. For example, in the case of **Personalized Incentives**, A-learning aims to find the optimal incentive ($A$) for each user by modeling the difference in expected return-on-investment ($R$) between treatments. A detailed comparison between Q-learning and A-learning can be found in [1]. While [1] mainly focus on the case with binary treatment options, a complete review of A-learning with multiple treatment options can be found in [2]. Here, following the algorithm in [1], we consider contrast-based A-learning. However, there is an alternative regret-based A-learning introduced in [3]. Some recent extensions to conventional A-learning, such as deep A-learning [4] and high-dimensional A-Learning [5], will be added soon. Overall, A-learning is doubly-robust. In other words, it is less sensitive and more robust to model misspecification. \n",
    "\n",
    "Note that, we assume the action space is either **binary** (i.e., 0,1) or **multinomial** (i.e., 0,1,2,3,4, where 0 stands for the control group by convention), and the outcome of interest R is **continuous** and **non-negative**, where the larger the $R$ the better. \n",
    "\n",
    "## Algorithm Details\n",
    "Suppose there are $m_t$ number of options at decision point $t$, and the corresponding action space $\\mathcal{A}_t=\\{0,1,\\dots,m_t-1\\}$. At each decision point $t$, contrast-based A-learning aims to learn and estimate the constrast function, $C_{tj}(h_{t}), j=1,2,\\dots,m_t-1$. Here, $h_{t}=\\{\\boldsymbol{S}_{1i},A_{1i},\\cdots,\\boldsymbol{S}_{ti}\\})$ includes all the information observed till step t. Furthermore, we also need to posit a model for the conditional expected outcome for the control option (treatment $0$), $Q_t(h_t,0)$, and the propensity function $\\omega(h_{t},a_{t})$. Detailed definitions are provided in the following:\n",
    "*   Q-function:\n",
    "    For the final step $T$, \n",
    "    \\begin{align}\n",
    "    Q_T(h_T,a_{T})=E[R|H_{T}=h_{T}, A_{T}=a_{T}],\n",
    "    \\end{align}\n",
    "    \n",
    "    If there is a multi-stage case with total step $T>1$, for the step $t=1,\\cdots,T-1$,\n",
    "    \\begin{align}\n",
    "    Q_t(h_t,a_{t})=E[V_{t+1}|H_{t}=h_{t}, A_{t}=a_{t}],\n",
    "    \\end{align}\n",
    "    where \n",
    "    \\begin{align}\n",
    "    V_{t}(h_{t}) = \\max_{j\\in\\mathcal{A}_t}Q_{t}(h_t,j)\n",
    "    \\end{align}\n",
    "    Alternatively, with the contrast function $C_{tj}(h_t)$, which will be defined later,\n",
    "    \\begin{align}\n",
    "    Q_t(h_t,j) = Q_t(h_t,0) + C_{tj}(h_t),\\quad j=0,\\dots,m_t-1,\\quad t=1,\\dots,T.\n",
    "    \\end{align}\n",
    "*   Contrast functions (optimal blip to zero functions)\n",
    "    \\begin{align}\n",
    "    C_{tj}(h_t)=Q_t(h_t,j)-Q_t(h_t,0),\\quad j=0,\\dots,m_t-1,\\quad t=1,\\dots,T,\n",
    "    \\end{align}\n",
    "    where $C_{t0}(h_t) = 0$.\n",
    "*   Propensity score\n",
    "    \\begin{align}\n",
    "    \\omega_{t}(h_t,a_t)=P(A_t=a_t|H_t=h_t)\n",
    "    \\end{align}\n",
    "*   Optimal regime\n",
    "    \\begin{align}\n",
    "    d_t^{opt}(h_t)=\\arg\\max_{j\\in\\mathcal{A}_t}C_{tj}(h_t)\n",
    "    \\end{align}\n",
    "\n",
    "A backward approach was proposed to find the optimized treatment regime at each decision point. \n",
    "\n",
    "At Decision $T$, similar as what we did previously with single decision point, we estimate the $\\boldsymbol{\\psi}_{Tj}$, $\\boldsymbol{\\phi}_T$ and $\\boldsymbol{\\gamma}_T$ by solving the eqautions in A.1 jointly, and the optimal decision at time $T$ is calculated accordingly. \n",
    "\n",
    "Then, at Decision $t=T-1,\\dots,1$, we use similar trick as decision $T$, except for changing $R$ in the estimating eqautions to some pseudo outcome $\\tilde{R}_{t+1,i}$, such that:\n",
    "\\begin{align}\n",
    "\\tilde{R}_{ti}=\\tilde{R}_{t+1,i}+\\max_{j=0,\\dots,m_t-1}C_{tj}(h_{ti},\\hat{\\boldsymbol{\\psi}}_{tj})-\\sum_{j=1}^{m_k-1}\\mathbb{I}\\{A_{ti}=j\\}C_{tj}(h_{ti},\\hat{\\boldsymbol{\\psi}}_{tj}),\n",
    "\\end{align}\n",
    "where $\\tilde{R}_{T+1,i} = R_{i}$.\n",
    "    \n",
    "Estimating $\\boldsymbol{\\psi}_{tj}$, $\\boldsymbol{\\phi}_t$ and $\\boldsymbol{\\gamma}_t$ iteratively for $t=T-1,\\cdots,1$, we calculated the optimal decision at time $t$, $d^{opt}_{t}(h_{ti})$ as\n",
    "\\begin{align}\n",
    "d^{opt}_{t}(h_{ti})=\\arg\\max_{j=0,\\dots,m_t-1} C_{tj}(h_{ti};\\hat{\\boldsymbol{\\psi}}_{tj}).\n",
    "\\end{align}\n",
    "\n",
    "\n",
    "## Key Steps\n",
    "**Policy Learning:**\n",
    "1. At the final decision point $t=T$, fitted a model $\\omega_{T}(h_{T},a,\\hat{\\boldsymbol{\\gamma}}_{T})$, and estimating $\\boldsymbol{\\psi}_{Tj}$, $\\boldsymbol{\\phi}_{T}$ by solving the equations in A.2 jointly;\n",
    "2. For each individual $i$, calculated the pseudo-outcome $\\tilde{R}_{Ti}$, and the optimal action $a_{Ti}$;\n",
    "3. For decision point $t = T-1,\\cdots, 1$,\n",
    "    1. fitted a model $\\omega_{t}(h_{t},a,\\hat{\\boldsymbol{\\gamma}}_{t})$, and estimating $\\boldsymbol{\\psi}_{tj}$, $\\boldsymbol{\\phi}_{t}$ by solving the equations in A.2 jointly with the pseudo-outcome $\\tilde{R}_{t+1}$\n",
    "    2. For each individual $i$, calculated the pseudo-outcome $\\tilde{R}_{ti}$, and the optimal action $d_t^{opt}(h_ti)$;\n",
    "\n",
    "**Policy Evaluation:**    \n",
    "We use the backward iteration as what we did in policy learning. However, here for each round, the pseudo outcome is not the maximum of Q values. Instead, the pseudo outcome at decision point t is defined as below:\n",
    "\\begin{align}\n",
    "\\tilde{R}_{ti}=\\tilde{R}_{t+1,i}+C_{tj*}(h_{ti},\\hat{\\boldsymbol{\\psi}}_{tj*})-\\sum_{j=1}^{m_k-1}\\mathbb{I}\\{A_{ti}=j\\}C_{tj}(h_{ti},\\hat{\\boldsymbol{\\psi}}_{tj}),\n",
    "\\end{align}\n",
    "where $j*=d(H_{ti})$, and $d$ is the fixed regime that we want to evaluate.\n",
    "The estimated value of the policy is then the average of $\\tilde{R}_{1}$.\n",
    "\n",
    "**Note** we also provide an option for bootstrapping. Particularly, for a given policy, we utilze the boostrap resampling to get the estimated value of the regime and the corresponding estimated standard error. \n",
    "\n",
    "## Demo Code\n",
    "In the following, we exhibit how to apply the learner on real data to do policy learning and policy evaluation, respectively."
   ]
  },
  {
   "cell_type": "markdown",
   "id": "e814c777",
   "metadata": {},
   "source": [
    "### 1. Policy Learning"
   ]
  },
  {
   "cell_type": "code",
   "execution_count": 1,
   "id": "3d478e6a",
   "metadata": {},
   "outputs": [],
   "source": [
    "# A demo with code on how to use the package\n",
    "from causaldm.learners.CPL13.disc import ALearning\n",
    "from causaldm.test import shared_simulation\n",
    "import numpy as np"
   ]
  },
  {
   "cell_type": "code",
   "execution_count": 2,
   "id": "50d2962d",
   "metadata": {},
   "outputs": [],
   "source": [
    "import numpy as np\n",
    "import pandas as pd\n",
    "dataMDP = pd.read_csv(\"dataMDP_feasible.txt\", sep=',')\n",
    "R = np.array(dataMDP['Y'])\n",
    "S = np.hstack([np.ones((len(R),1)),np.array(dataMDP[['CD4_0','CD4_6','CD4_12']])])\n",
    "A = np.array(dataMDP[['A1','A2','A3']])"
   ]
  },
  {
   "cell_type": "code",
   "execution_count": 3,
   "id": "1a042ce2",
   "metadata": {},
   "outputs": [
    {
     "data": {
      "text/plain": [
       "{'prop': {2: <statsmodels.discrete.discrete_model.MultinomialResultsWrapper at 0x1ec1a44ce20>,\n",
       "  1: <statsmodels.discrete.discrete_model.MultinomialResultsWrapper at 0x1ec1a48b130>,\n",
       "  0: <statsmodels.discrete.discrete_model.MultinomialResultsWrapper at 0x1ec1a48b970>},\n",
       " 'Q0': {2: array([40.8924,  3.1455, -0.5109, -0.1229]),\n",
       "  1: array([158.0503,   2.9351,  -0.595 ]),\n",
       "  0: array([241.7725,   2.0474])},\n",
       " 'contrast': {2: {1: array([ 3.5872e+02, -1.0493e+00,  4.9347e-03, -5.2010e-02])},\n",
       "  1: {1: array([-214.568 ,    1.1057,   -0.62  ])},\n",
       "  0: {1: array([-9.8412e+01,  9.2479e-02])}}}"
      ]
     },
     "execution_count": 3,
     "metadata": {},
     "output_type": "execute_result"
    }
   ],
   "source": [
    "ALearn = ALearning.ALearning()\n",
    "model_info = [{'X_prop': list(range(2)),\n",
    "              'X_q0': list(range(2)),\n",
    "               'X_C':{1:list(range(2))},\n",
    "              'action_space': {'A1':[0,1]}},\n",
    "             {'X_prop': list(range(3)),\n",
    "              'X_q0': list(range(3)),\n",
    "               'X_C':{1:list(range(3))},\n",
    "              'action_space': {'A2':[0,1]}},\n",
    "             {'X_prop': list(range(4)),\n",
    "              'X_q0': list(range(4)),\n",
    "               'X_C':{1:list(range(4))},\n",
    "              'action_space': {'A3':[0,1]}}]\n",
    "# train the policy\n",
    "ALearn.train(S, A, R, model_info, T=3)"
   ]
  },
  {
   "cell_type": "code",
   "execution_count": 4,
   "id": "37ec43f6",
   "metadata": {},
   "outputs": [
    {
     "name": "stdout",
     "output_type": "stream",
     "text": [
      "fitted contrast model: {2: {1: array([ 3.5872e+02, -1.0493e+00,  4.9347e-03, -5.2010e-02])}, 1: {1: array([-214.568 ,    1.1057,   -0.62  ])}, 0: {1: array([-9.8412e+01,  9.2479e-02])}}\n",
      "opt regime:    A3  A2  A1\n",
      "0   0   0   0\n",
      "1   0   0   0\n",
      "2   0   0   0\n",
      "3   0   0   0\n",
      "4   0   0   0\n",
      "opt value: 1162.4662578531563\n"
     ]
    }
   ],
   "source": [
    "# recommend action\n",
    "opt_d = ALearn.recommend_action(S).head()\n",
    "# get the estimated value of the optimal regime\n",
    "V_hat = ALearn.predict_value(S)\n",
    "print(\"fitted contrast model:\",ALearn.fitted_model['contrast'])\n",
    "print(\"opt regime:\",opt_d)\n",
    "print(\"opt value:\",V_hat)"
   ]
  },
  {
   "cell_type": "code",
   "execution_count": 5,
   "id": "6a21fa68",
   "metadata": {},
   "outputs": [
    {
     "name": "stdout",
     "output_type": "stream",
     "text": [
      "Value_hat: 1162.3729840746125 Value_std: 5.03188949564685\n",
      "estimated_contrast: {1:          Mean         std\n",
      "0 -104.255934  198.589098\n",
      "1    0.108011    0.439428}\n"
     ]
    }
   ],
   "source": [
    "# Optional: we also provide a bootstrap standard deviaiton of the optimal value estimation\n",
    "# Warning: results amay not be reliable\n",
    "ALearn = ALearning.ALearning()\n",
    "model_info = [{'X_prop': list(range(2)),\n",
    "              'X_q0': list(range(2)),\n",
    "               'X_C':{1:list(range(2))},\n",
    "              'action_space': {'A1':[0,1]}},\n",
    "             {'X_prop': list(range(3)),\n",
    "              'X_q0': list(range(3)),\n",
    "               'X_C':{1:list(range(3))},\n",
    "              'action_space': {'A2':[0,1]}},\n",
    "             {'X_prop': list(range(4)),\n",
    "              'X_q0': list(range(4)),\n",
    "               'X_C':{1:list(range(4))},\n",
    "              'action_space': {'A3':[0,1]}}]\n",
    "ALearn.train(S, A, R, model_info, T=3, bootstrap = True, n_bs = 100)\n",
    "fitted_params,fitted_value,value_avg,value_std,params=ALearn.predict_value_boots(S)\n",
    "print('Value_hat:',value_avg,'Value_std:',value_std)\n",
    "##estimated contrast model at t = 0\n",
    "print('estimated_contrast:',params[0]['contrast'])"
   ]
  },
  {
   "cell_type": "markdown",
   "id": "da16089d",
   "metadata": {},
   "source": [
    "### 2. Policy Evaluation"
   ]
  },
  {
   "cell_type": "code",
   "execution_count": 6,
   "id": "5e7ee851",
   "metadata": {},
   "outputs": [
    {
     "data": {
      "text/plain": [
       "1162.4662578531563"
      ]
     },
     "execution_count": 6,
     "metadata": {},
     "output_type": "execute_result"
    }
   ],
   "source": [
    "#specify the fixed regime to be tested\n",
    "# For example, regime d = 0 for all subjects\n",
    "N, p = S.shape\n",
    "ALearn = ALearning.ALearning()\n",
    "# regime should be in the same format as A, which is a dict\n",
    "regime = pd.DataFrame({'A1':np.array([0]*N),'A2':np.array([0]*N),'A3':np.array([0]*N)})\n",
    "model_info = [{'X_prop': list(range(2)),\n",
    "              'X_q0': list(range(2)),\n",
    "               'X_C':{1:list(range(2))},\n",
    "              'action_space': {'A1':[0,1]}},\n",
    "             {'X_prop': list(range(3)),\n",
    "              'X_q0': list(range(3)),\n",
    "               'X_C':{1:list(range(3))},\n",
    "              'action_space': {'A2':[0,1]}},\n",
    "             {'X_prop': list(range(4)),\n",
    "              'X_q0': list(range(4)),\n",
    "               'X_C':{1:list(range(4))},\n",
    "              'action_space': {'A3':[0,1]}}]\n",
    "ALearn.train(S, A, R, model_info, T=3, regime = regime, evaluate = True)\n",
    "ALearn.predict_value(S)"
   ]
  },
  {
   "cell_type": "code",
   "execution_count": 7,
   "id": "f4185390",
   "metadata": {},
   "outputs": [
    {
     "ename": "KeyboardInterrupt",
     "evalue": "",
     "output_type": "error",
     "traceback": [
      "\u001b[1;31m---------------------------------------------------------------------------\u001b[0m",
      "\u001b[1;31mKeyboardInterrupt\u001b[0m                         Traceback (most recent call last)",
      "Input \u001b[1;32mIn [7]\u001b[0m, in \u001b[0;36m<cell line: 2>\u001b[1;34m()\u001b[0m\n\u001b[0;32m      1\u001b[0m \u001b[38;5;66;03m# bootstrap average and the std of estimate value\u001b[39;00m\n\u001b[1;32m----> 2\u001b[0m \u001b[43mALearn\u001b[49m\u001b[38;5;241;43m.\u001b[39;49m\u001b[43mtrain\u001b[49m\u001b[43m(\u001b[49m\u001b[43mS\u001b[49m\u001b[43m,\u001b[49m\u001b[43m \u001b[49m\u001b[43mA\u001b[49m\u001b[43m,\u001b[49m\u001b[43m \u001b[49m\u001b[43mR\u001b[49m\u001b[43m,\u001b[49m\u001b[43m \u001b[49m\u001b[43mmodel_info\u001b[49m\u001b[43m,\u001b[49m\u001b[43m \u001b[49m\u001b[43mT\u001b[49m\u001b[38;5;241;43m=\u001b[39;49m\u001b[38;5;241;43m3\u001b[39;49m\u001b[43m,\u001b[49m\u001b[43m \u001b[49m\u001b[43mregime\u001b[49m\u001b[43m \u001b[49m\u001b[38;5;241;43m=\u001b[39;49m\u001b[43m \u001b[49m\u001b[43mregime\u001b[49m\u001b[43m,\u001b[49m\u001b[43m \u001b[49m\u001b[43mevaluate\u001b[49m\u001b[43m \u001b[49m\u001b[38;5;241;43m=\u001b[39;49m\u001b[43m \u001b[49m\u001b[38;5;28;43;01mTrue\u001b[39;49;00m\u001b[43m,\u001b[49m\u001b[43m \u001b[49m\u001b[43mbootstrap\u001b[49m\u001b[43m \u001b[49m\u001b[38;5;241;43m=\u001b[39;49m\u001b[43m \u001b[49m\u001b[38;5;28;43;01mTrue\u001b[39;49;00m\u001b[43m,\u001b[49m\u001b[43m \u001b[49m\u001b[43mn_bs\u001b[49m\u001b[43m \u001b[49m\u001b[38;5;241;43m=\u001b[39;49m\u001b[43m \u001b[49m\u001b[38;5;241;43m200\u001b[39;49m\u001b[43m)\u001b[49m\n\u001b[0;32m      3\u001b[0m fitted_params,fitted_value,value_avg,value_std,params\u001b[38;5;241m=\u001b[39mALearn\u001b[38;5;241m.\u001b[39mpredict_value_boots(S)\n\u001b[0;32m      4\u001b[0m \u001b[38;5;28mprint\u001b[39m(\u001b[38;5;124m'\u001b[39m\u001b[38;5;124mValue_hat:\u001b[39m\u001b[38;5;124m'\u001b[39m,value_avg,\u001b[38;5;124m'\u001b[39m\u001b[38;5;124mValue_std:\u001b[39m\u001b[38;5;124m'\u001b[39m,value_std)\n",
      "File \u001b[1;32mD:\\anaconda3\\lib\\site-packages\\causaldm\\learners\\CPL13\\disc\\ALearning.py:88\u001b[0m, in \u001b[0;36mALearning.train\u001b[1;34m(self, X, A, Y, model_info, T, true_prop, regime, evaluate, bootstrap, n_bs)\u001b[0m\n\u001b[0;32m     86\u001b[0m \u001b[38;5;28;01melse\u001b[39;00m:\n\u001b[0;32m     87\u001b[0m     regime_sample \u001b[38;5;241m=\u001b[39m \u001b[38;5;28;01mNone\u001b[39;00m\n\u001b[1;32m---> 88\u001b[0m \u001b[38;5;28;43mself\u001b[39;49m\u001b[38;5;241;43m.\u001b[39;49m\u001b[43m_fit\u001b[49m\u001b[43m(\u001b[49m\u001b[43mX_sample\u001b[49m\u001b[43m,\u001b[49m\u001b[43m \u001b[49m\u001b[43mA_sample\u001b[49m\u001b[43m,\u001b[49m\u001b[43m \u001b[49m\u001b[43mY_sample\u001b[49m\u001b[43m,\u001b[49m\u001b[43m \u001b[49m\u001b[43mT\u001b[49m\u001b[43m,\u001b[49m\u001b[43m \u001b[49m\u001b[43mregime\u001b[49m\u001b[43m \u001b[49m\u001b[38;5;241;43m=\u001b[39;49m\u001b[43m \u001b[49m\u001b[43mregime_sample\u001b[49m\u001b[43m)\u001b[49m\n\u001b[0;32m     89\u001b[0m \u001b[38;5;28mself\u001b[39m\u001b[38;5;241m.\u001b[39mboots\u001b[38;5;241m.\u001b[39mappend(\u001b[38;5;28mself\u001b[39m\u001b[38;5;241m.\u001b[39mestimate_V0)\n\u001b[0;32m     90\u001b[0m \u001b[38;5;28;01mfor\u001b[39;00m t \u001b[38;5;129;01min\u001b[39;00m \u001b[38;5;28mrange\u001b[39m(T):\n",
      "File \u001b[1;32mD:\\anaconda3\\lib\\site-packages\\causaldm\\learners\\CPL13\\disc\\ALearning.py:106\u001b[0m, in \u001b[0;36mALearning._fit\u001b[1;34m(self, X, A, Y, T, regime)\u001b[0m\n\u001b[0;32m    104\u001b[0m     pseudo_Y_prev \u001b[38;5;241m=\u001b[39m \u001b[38;5;28mself\u001b[39m\u001b[38;5;241m.\u001b[39m_get_pseudo_Y(X, A, Y, t, regime)\n\u001b[0;32m    105\u001b[0m \u001b[38;5;28;01melse\u001b[39;00m:\n\u001b[1;32m--> 106\u001b[0m     \u001b[38;5;28;43mself\u001b[39;49m\u001b[38;5;241;43m.\u001b[39;49m\u001b[43m_fit_model\u001b[49m\u001b[43m(\u001b[49m\u001b[43mA\u001b[49m\u001b[43m,\u001b[49m\u001b[43mX\u001b[49m\u001b[43m,\u001b[49m\u001b[43mpseudo_Y_prev\u001b[49m\u001b[43m,\u001b[49m\u001b[43mt\u001b[49m\u001b[43m,\u001b[49m\u001b[43m)\u001b[49m\n\u001b[0;32m    107\u001b[0m     pseudo_Y_prev \u001b[38;5;241m=\u001b[39m \u001b[38;5;28mself\u001b[39m\u001b[38;5;241m.\u001b[39m_get_pseudo_Y(X, A, pseudo_Y_prev, t,regime)\n\u001b[0;32m    108\u001b[0m \u001b[38;5;28;01mif\u001b[39;00m t \u001b[38;5;241m==\u001b[39m \u001b[38;5;241m0\u001b[39m:\n",
      "File \u001b[1;32mD:\\anaconda3\\lib\\site-packages\\causaldm\\learners\\CPL13\\disc\\ALearning.py:177\u001b[0m, in \u001b[0;36mALearning._fit_model\u001b[1;34m(self, A, X, Y, t)\u001b[0m\n\u001b[0;32m    175\u001b[0m tmp_mul \u001b[38;5;241m=\u001b[39m np\u001b[38;5;241m.\u001b[39mdot(X[:,\u001b[38;5;28mself\u001b[39m\u001b[38;5;241m.\u001b[39mcontrast_model[t][j]]\u001b[38;5;241m.\u001b[39mT, np\u001b[38;5;241m.\u001b[39mdiag((A[:,t]\u001b[38;5;241m==\u001b[39mj)\u001b[38;5;241m.\u001b[39mastype(\u001b[38;5;28mint\u001b[39m)\u001b[38;5;241m-\u001b[39mfitted_prop[:,j]))\n\u001b[0;32m    176\u001b[0m right \u001b[38;5;241m=\u001b[39m np\u001b[38;5;241m.\u001b[39mdot(tmp_mul,right)\n\u001b[1;32m--> 177\u001b[0m left \u001b[38;5;241m=\u001b[39m np\u001b[38;5;241m.\u001b[39mdot(tmp_mul,np\u001b[38;5;241m.\u001b[39mdot(\u001b[43mnp\u001b[49m\u001b[38;5;241;43m.\u001b[39;49m\u001b[43mdiag\u001b[49m\u001b[43m(\u001b[49m\u001b[43m(\u001b[49m\u001b[43mA\u001b[49m\u001b[43m[\u001b[49m\u001b[43m:\u001b[49m\u001b[43m,\u001b[49m\u001b[43mt\u001b[49m\u001b[43m]\u001b[49m\u001b[38;5;241;43m==\u001b[39;49m\u001b[43mj\u001b[49m\u001b[43m)\u001b[49m\u001b[38;5;241;43m.\u001b[39;49m\u001b[43mastype\u001b[49m\u001b[43m(\u001b[49m\u001b[38;5;28;43mint\u001b[39;49m\u001b[43m)\u001b[49m\u001b[43m)\u001b[49m,X[:,\u001b[38;5;28mself\u001b[39m\u001b[38;5;241m.\u001b[39mcontrast_model[t][j]]))\n\u001b[0;32m    178\u001b[0m new_psi[j] \u001b[38;5;241m=\u001b[39m np\u001b[38;5;241m.\u001b[39mdot(np\u001b[38;5;241m.\u001b[39mlinalg\u001b[38;5;241m.\u001b[39minv(left),right)\n\u001b[0;32m    179\u001b[0m delta \u001b[38;5;241m+\u001b[39m\u001b[38;5;241m=\u001b[39m \u001b[38;5;28mabs\u001b[39m(new_psi[j]\u001b[38;5;241m-\u001b[39mold_psi[j])\u001b[38;5;241m.\u001b[39mmean()\n",
      "File \u001b[1;32m<__array_function__ internals>:5\u001b[0m, in \u001b[0;36mdiag\u001b[1;34m(*args, **kwargs)\u001b[0m\n",
      "File \u001b[1;32mD:\\anaconda3\\lib\\site-packages\\numpy\\lib\\twodim_base.py:293\u001b[0m, in \u001b[0;36mdiag\u001b[1;34m(v, k)\u001b[0m\n\u001b[0;32m    291\u001b[0m \u001b[38;5;28;01mif\u001b[39;00m \u001b[38;5;28mlen\u001b[39m(s) \u001b[38;5;241m==\u001b[39m \u001b[38;5;241m1\u001b[39m:\n\u001b[0;32m    292\u001b[0m     n \u001b[38;5;241m=\u001b[39m s[\u001b[38;5;241m0\u001b[39m]\u001b[38;5;241m+\u001b[39m\u001b[38;5;28mabs\u001b[39m(k)\n\u001b[1;32m--> 293\u001b[0m     res \u001b[38;5;241m=\u001b[39m \u001b[43mzeros\u001b[49m\u001b[43m(\u001b[49m\u001b[43m(\u001b[49m\u001b[43mn\u001b[49m\u001b[43m,\u001b[49m\u001b[43m \u001b[49m\u001b[43mn\u001b[49m\u001b[43m)\u001b[49m\u001b[43m,\u001b[49m\u001b[43m \u001b[49m\u001b[43mv\u001b[49m\u001b[38;5;241;43m.\u001b[39;49m\u001b[43mdtype\u001b[49m\u001b[43m)\u001b[49m\n\u001b[0;32m    294\u001b[0m     \u001b[38;5;28;01mif\u001b[39;00m k \u001b[38;5;241m>\u001b[39m\u001b[38;5;241m=\u001b[39m \u001b[38;5;241m0\u001b[39m:\n\u001b[0;32m    295\u001b[0m         i \u001b[38;5;241m=\u001b[39m k\n",
      "\u001b[1;31mKeyboardInterrupt\u001b[0m: "
     ]
    }
   ],
   "source": [
    "# bootstrap average and the std of estimate value\n",
    "ALearn.train(S, A, R, model_info, T=3, regime = regime, evaluate = True, bootstrap = True, n_bs = 200)\n",
    "fitted_params,fitted_value,value_avg,value_std,params=ALearn.predict_value_boots(S)\n",
    "print('Value_hat:',value_avg,'Value_std:',value_std)"
   ]
  },
  {
   "cell_type": "markdown",
   "id": "d2f80240",
   "metadata": {},
   "source": [
    "💥 Placeholder for C.I."
   ]
  },
  {
   "cell_type": "markdown",
   "id": "a7174878",
   "metadata": {},
   "source": [
    "## References\n",
    "1. Schulte, P. J., Tsiatis, A. A., Laber, E. B., & Davidian, M. (2014). Q-and A-learning methods for estimating optimal dynamic treatment regimes. Statistical science: a review journal of the Institute of Mathematical Statistics, 29(4), 640.\n",
    "2. Robins, J. M. (2004). Optimal structural nested models for optimal sequential decisions. In Proceedings of the second seattle Symposium in Biostatistics (pp. 189-326). Springer, New York, NY.\n",
    "3. Murphy, S. A. (2003). Optimal dynamic treatment regimes. Journal of the Royal Statistical Society: Series B (Statistical Methodology), 65(2), 331-355.\n",
    "4. Liang, S., Lu, W., & Song, R. (2018). Deep advantage learning for optimal dynamic treatment regime. Statistical theory and related fields, 2(1), 80-88.\n",
    "5. Shi, C., Fan, A., Song, R., & Lu, W. (2018). High-dimensional A-learning for optimal dynamic treatment regimes. Annals of statistics, 46(3), 925."
   ]
  },
  {
   "cell_type": "markdown",
   "id": "c34f61f4",
   "metadata": {},
   "source": [
    "## A.1\n",
    "$$\n",
    "\\begin{aligned}\n",
    "&\\sum_{i=1}^n \\left[\\frac{\\partial C_{Tj}(H_{Ti};\\boldsymbol{\\psi}_{Tj})}{\\partial \\psi_{Tj}}\\{\\mathbb{I}\\{A_{Ti}=j\\}-\\omega_T(H_{Ti},j;\\boldsymbol{\\gamma}_T)\\}\\times \\Big\\{R_i-\\sum_{j'=1}^{m_T-1} \\mathbb{I}\\{A_{Ti}=j'\\}C_{Tj'}(H_{Ti};\\boldsymbol{\\psi}_{Tj'})-Q_T(H_{Ti},0;\\boldsymbol{\\phi}_{T})\\Big\\}\\right]=0\\\\\n",
    "&\\sum_{i=1}^n \\left[\\frac{\\partial Q_T(H_{Ti},0;\\boldsymbol{\\phi}_T)}{\\partial \\boldsymbol{\\phi}_T}\\Big\\{R_i-\\sum_{j'=1}^{m_T-1} \\mathbb{I}\\{A_{Ti}=j'\\}C_{Tj'}(H_{Ti};\\boldsymbol{\\psi}_{Tj'})-Q_T(H_{Ti},0;\\boldsymbol{\\phi}_T)\\Big\\}\\right]=0\\\\\n",
    "&\\sum_{i=1}^n \\left[\\frac{\\partial \\omega_T(H_{Ti},j;\\boldsymbol{\\gamma}_T)}{\\partial \\boldsymbol{\\gamma}_T}\\Big\\{R_i-\\sum_{j'=1}^{m_T-1} \\mathbb{I}\\{A_{Ti}=j'\\}C_{Tj'}(H_{Ti};\\boldsymbol{\\psi}_{Tj'})-Q_T(H_{Ti},0;\\boldsymbol{\\phi}_T)\\Big\\}\\right]=0\n",
    "\\end{aligned}\n",
    "$$\n",
    "\n",
    "## A.2\n",
    "$$\n",
    "\\begin{aligned}\n",
    "&\\sum_{i=1}^n \\left[\\frac{\\partial C_{tj}(H_{ti};\\boldsymbol{\\psi}_{tj})}{\\partial \\boldsymbol{\\psi}_{tj}}\\{\\mathbb{I}\\{A_{ti}=j\\}-\\omega_T(H_{ti},j;\\boldsymbol{\\gamma}_t)\\}\\times \\Big\\{\\tilde{R}_{t+1,i}-\\sum_{j'=1}^{m_t-1} \\mathbb{I}\\{A_{ti}=j'\\}C_{tj'}(H_{ti};\\boldsymbol{\\psi}_{tj'})-Q_t(H_{ti},0;\\boldsymbol{\\phi}_{t})\\Big\\}\\right]=0\\\\\n",
    "&\\sum_{i=1}^n \\left[\\frac{\\partial Q_t(H_{ti},0;\\boldsymbol{\\phi}_t)}{\\partial \\boldsymbol{\\phi}_t}\\Big\\{\\tilde{R}_{t+1,i}-\\sum_{j'=1}^{m_t-1} \\mathbb{I}\\{A_{ti}=j'\\}C_{tj'}(H_{ti};\\boldsymbol{\\psi}_{tj'})-Q_t(H_{ti},0;\\boldsymbol{\\phi}_t)\\Big\\}\\right]=0\\\\\n",
    "&\\sum_{i=1}^n \\left[\\frac{\\partial \\omega_t(H_{ti},j;\\boldsymbol{\\gamma}_t)}{\\partial \\boldsymbol{\\gamma}_t}\\Big\\{\\tilde{R}_{t+1,i}-\\sum_{j'=1}^{m_t-1} \\mathbb{I}\\{A_{ti}=j'\\}C_{tj'}(H_{ti};\\boldsymbol{\\psi}_{tj'})-Q_t(H_{ti},0;\\boldsymbol{\\phi}_t)\\Big\\}\\right]=0\n",
    "\\end{aligned}\n",
    "$$\n"
   ]
  },
  {
   "cell_type": "code",
   "execution_count": null,
   "id": "e351027f-872b-4774-8c44-b9539e588c1f",
   "metadata": {},
   "outputs": [],
   "source": []
  }
 ],
 "metadata": {
  "kernelspec": {
   "display_name": "Python 3 (ipykernel)",
   "language": "python",
   "name": "python3"
  },
  "language_info": {
   "codemirror_mode": {
    "name": "ipython",
    "version": 3
   },
   "file_extension": ".py",
   "mimetype": "text/x-python",
   "name": "python",
   "nbconvert_exporter": "python",
   "pygments_lexer": "ipython3",
   "version": "3.9.12"
  }
 },
 "nbformat": 4,
 "nbformat_minor": 5
}
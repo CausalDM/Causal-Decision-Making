{
 "cells": [
  {
   "cell_type": "markdown",
   "id": "31f6d7fc",
   "metadata": {},
   "source": [
    "# MediatedQ-Learning (Multiple Stages)\n",
    "\n"
   ]
  },
  {
   "cell_type": "markdown",
   "id": "11b18cf4",
   "metadata": {},
   "source": [
    "## References\n",
    "1. Zheng, W., & van der Laan, M. (2017). Longitudinal mediation analysis with time-varying mediators and exposures, with application to survival outcomes. Journal of causal inference, 5(2)."
   ]
  },
  {
   "cell_type": "code",
   "execution_count": null,
   "id": "b8e93457-1541-41ac-99fa-affd3931fc8e",
   "metadata": {},
   "outputs": [],
   "source": []
  }
 ],
 "metadata": {
  "kernelspec": {
   "display_name": "Python 3 (ipykernel)",
   "language": "python",
   "name": "python3"
  },
  "language_info": {
   "codemirror_mode": {
    "name": "ipython",
    "version": 3
   },
   "file_extension": ".py",
   "mimetype": "text/x-python",
   "name": "python",
   "nbconvert_exporter": "python",
   "pygments_lexer": "ipython3",
   "version": "3.9.13"
  }
 },
 "nbformat": 4,
 "nbformat_minor": 5
}
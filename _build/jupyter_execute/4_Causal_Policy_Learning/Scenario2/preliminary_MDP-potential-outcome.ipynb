{
 "cells": [
  {
   "cell_type": "markdown",
   "id": "7fef41c9",
   "metadata": {},
   "source": [
    "# Preliminary: Off-policy Evaluation and Optimization in Markov Decision Processes\n",
    "In this section, we introduce the formulation of the Markov Decision Process and a few related concepts which will be used repeatedly in this chapter. \n",
    "We will proceed under the potential outcome framework, which provides a unique causal perspectiy, is different from the conventional notations {cite:p}`sutton2018reinforcement`, and is largely based on {cite:t}`shi2020reinforcement`. \n",
    "Some of the assumptions to be discussed (such as the sequential randomization assumption) are imposed implicitly in the RL literature. \n",
    "By writting these assumptions out, we aim to provide a more formal theoretical ground as well as to connect RL to the causal inference literautre. "
   ]
  },
  {
   "cell_type": "markdown",
   "id": "02b4609f",
   "metadata": {},
   "source": [
    "### Markov Decision Process under a Potential Outcome Framework \n",
    "As the underlying data generation model for RL, we consider an infinite-horizon discounted Markov Decision Process (MDP) {cite:p}`puterman2014markov`. \n",
    "For any $t\\ge 0$, let $\\bar{a}_t=(a_0,a_1,\\cdots,a_t)^\\top\\in \\mathcal{A}^{t+1}$ denote a treatment history vector up to time $t$. Let $\\mathbb{S} \\subset \\mathbb{R}^d$ denote the support of state variables and $S_0$ denote the initial state variable. \n",
    "For any $(\\bar{a}_{t-1},\\bar{a}_{t})$, let $S_{t}^*(\\bar{a}_{t-1})$ and $Y_t^*(\\bar{a}_t)$ be the counterfactual state and counterfactual outcome, respectively,  that would occur at time $t$ had the agent followed the treatment history $\\bar{a}_{t}$. \n",
    "The set of potential outcomes up to time $t$ is given by\n",
    "\\begin{eqnarray*}\n",
    "\tW_t^*(\\bar{a}_t)=\\{S_0,Y_0^*(a_0),S_1^*(a_0),\\cdots,S_{t}^*(\\bar{a}_{t-1}),Y_t^*(\\bar{a}_t)\\}.\n",
    "\\end{eqnarray*}\n",
    "Let $W^*=\\cup_{t\\ge 0,\\bar{a}_t\\in \\{0,1\\}^{t+1}} W_t^*(\\bar{a}_t)$ be the set of all potential outcomes.\n",
    "\n",
    "A deterministic policy $\\pi$ is a time-homogeneous function that maps the space of state variables to the set of available actions. \n",
    "Following $\\pi$, the agent will assign actions according to $\\pi$ at each time.  We use $S_t^*(\\pi)$ and $Y_t^*(\\pi)$ to denote the associated potential state and outcome that would occur at time $t$ had the agent followed $\\pi$. \n",
    "\n",
    "The goodness of  a policy $\\pi$ is measured by its (state) value function, \n",
    "\\begin{eqnarray*}\n",
    "\tV^{\\pi}(s)=\\sum_{t\\ge 0} \\gamma^t \\mathbb{E} \\{Y_t^*(\\pi)|S_0=s\\},\n",
    "\\end{eqnarray*}\n",
    "where $0<\\gamma<1$ is a discount factor that reflects the trade-off between immediate and future outcomes. The value function measures the discounted cumulative outcome that the agent would receive had they followed $\\pi$. Note that our definition of the value function is slightly different from those in the existing literature {cite:p}`sutton2018reinforcement`. Specifically, $V(\\pi;s)$ is defined through potential outcomes rather than the observed data. \n",
    "\n",
    "Similarly, we define the Q function by\n",
    "\\begin{eqnarray*}\n",
    "\tQ^{\\pi}(a,s)=\\sum_{t\\ge 0} \\gamma^t \\mathbb{E} \\{Y_t^*(\\pi)|S_0=s, A_0 = a\\}. \n",
    "\\end{eqnarray*}\n",
    "\n",
    "The optimal policy is defined as $\\pi^* = \\arg \\max_{\\pi} V^\\pi(s), \\forall s \\in \\mathcal{S}$. \n",
    "\n",
    "\n",
    "The following two assumptions are central to and also unique in the reinforcement learning setting.\n",
    "\n",
    "**(MA) Markov assumption**:  there exists a Markov transition kernel $\\mathcal{P}$ such that  for any $t\\ge 0$, $\\bar{a}_{t}\\in \\{0,1\\}^{t+1}$ and $\\mathcal{S}\\subseteq \\mathbb{R}^d$, we have \n",
    "$\\mathbb{P}\\{S_{t+1}^*(\\bar{a}_{t})\\in \\mathcal{S}|W_t^*(\\bar{a}_t)\\}=\\mathcal{P}(\\mathcal{S};a_t,S_t^*(\\bar{a}_{t-1})).$\n",
    "\n",
    "**(CMIA) Conditional mean independence assumption**: there exists a function $r$ such that  for any $t\\ge 0, \\bar{a}_{t}\\in \\{0,1\\}^{t+1}$, we have \n",
    "$\\mathbb{E} \\{Y_t^*(\\bar{a}_t)|S_t^*(\\bar{a}_{t-1}),W_{t-1}^*(\\bar{a}_{t-1})\\}=r(a_t,S_t^*(\\bar{a}_{t-1}))$.\n",
    "\n",
    "They assume (i) the process is statioanry, and (ii) the state variables shall be chosen to include those that serve as important mediators between past treatments and current outcomes. \n",
    "These two conditions are central to the empirical validity of most RL algorithms. \n",
    "Specifically, under these two conditions, one can show that there exists an optimal time-homogenous stationary policy whose value is no worse than any history-dependent policy {cite:p}`puterman2014markov`. "
   ]
  },
  {
   "cell_type": "markdown",
   "id": "ba494199",
   "metadata": {},
   "source": [
    "## Off-policy Evaluation and Optimization\n",
    "\n",
    "In the off-policy setting, the observed data consists of $n$ i.i.d. trajectories $\\{(S_{i,t},A_{i,t},R_{i,t},S_{i,t+1})\\}_{0\\le t<T_i,1\\le i\\le n}$, where $T_i$ denotes the length of the $i$th trajectory. Without loss of generality, we assume $T_1=\\cdots=T_n=T$ and the immediate rewards are uniformly bounded. \n",
    "The dataset is collected by following a stationary policy $b$, known as the *behavior policy*. \n",
    "\n",
    "**Off-Policy Evaluation(OPE).** The goal of OPE is to estimate the value of a given *target policy* $\\pi$ with respect to the initial state distribution $\\mathbb{G}$, defined as \n",
    "\\begin{eqnarray}\\label{eqn:def_value}\n",
    "\t\\eta^{\\pi} =  \\mathbb{E}_{s \\sim \\mathbb{G}} V^{\\pi}(s). \n",
    "\\end{eqnarray} \n",
    "By definition, we directly have $\\eta^{\\pi} = \\mathbb{E}_{s \\sim \\mathbb{G}, a \\sim \\pi(\\cdot|s)} Q^{\\pi}(a, s)$. \n",
    "\n",
    "In addition to a point estimator, many applications would benefit from having a CI for $\\eta^{\\pi}$. \n",
    "We refer to an interval $[\\hat{\\eta}^{\\pi}_l, \\hat{\\eta}^{\\pi}_u]$ as an $(1-\\alpha)$-CI for $\\eta^{\\pi}$ if and only if $P(\\hat{\\eta}^{\\pi}_l \\le \\eta^{\\pi} \\le \\hat{\\eta}^{\\pi}_u) \\ge 1 - \\alpha$, for any $\\alpha \\in (0, 1)$.  \n",
    "\n",
    "**Off-Policy Optimization(OPO).** The goal of OPO is to solve the optimal policy $\\pi^*$, or in other words, to learn a policy $\\hat{\\pi}$ so as to minimize the regret $\\eta^{\\pi^*} - \\eta^{\\hat{\\pi}}$. \n",
    "\n",
    "\n",
    "## Causal Identifiability \n",
    "In general, the set $W^*$ cannot be observed, whereas at time $t$, we observe the state-action-outcome triplet $(S_t,A_t,Y_t)$. \n",
    "For any $t\\ge 0$, let $\\bar{A}_t=(A_0,A_1,\\cdots,A_t)^\\top$ denote the observed treatment history. \n",
    "Similar to our discussions in previous chapters, \n",
    "the off-policy evaluation/optimization tasks requires certain assumptions to ensure the causal identifiability. \n",
    "The two critical assumptions are: \n",
    "\n",
    "**(CA) Consistency assumption**: $S_{t+1}=S_{t+1}^*(\\bar{A}_{t})$ and $Y_t=Y_t^*(\\bar{A}_t)$ for all $t\\ge 0$, almost surely.\n",
    "\n",
    "**(SRA) Sequential randomization assumption**: $A_t\\perp W^*| S_{t}, \\{S_j,A_j,Y_j\\}_{0\\le j<t}$.\n",
    "\n",
    "The CA requires that the observed state and outcome correspond to the potential state and outcome whose treatments are assigned according to the observed treatment history. \n",
    "It generalizes SUTVA to our setting, allowing the potential outcomes to depend on past treatments. \n",
    "The SRA implies that  there are no unmeasured confounders and it automatically holds in online randomized experiments (or when all trajectories are collected by following policies that depend on the same set of state variables), in which the treatment assignment mechanism is pre-specified. \n",
    "In SRA, we allow $A_t$ to depend on the observed data history $S_{t}, \\{S_j,A_j,Y_j\\}_{0\\le j<t}$ and thus, the treatments can be adaptively chosen.  \n",
    "\n",
    "\n",
    "In addition, these two conditions guarantee that MA and CMIA hold on the observed dataset as well.\n",
    "\\begin{eqnarray}\\label{eqn:Markovobserve}\n",
    "\tP(S_{t+1}\\in \\mathcal{S}|A_t,S_t,\\{S_j,A_j,Y_j\\}_{0\\le j<t})&=&\\mathcal{P}(\\mathcal{S};A_t,S_t),\\\\\\label{eqn:robserve}\n",
    "\t\\mathbb{E}(Y_t|A_t,S_t,\\{S_j,A_j,Y_j\\}_{0\\le j<t})&=&r(A_t,S_t).\n",
    "\\end{eqnarray}\n",
    "As such, $\\mathcal{P}$ corresponds to the transition function that defines the next state distribution conditional on the current state-action pair and $r$ corresponds to the conditional expectation of the immediate reward as a function of the state-action pair. \n",
    "In this chapter, we may use both the potential outcomes and the observed variables interchangeably. "
   ]
  },
  {
   "cell_type": "markdown",
   "id": "d4871ef2-de01-4755-bd15-b8353e8f0dda",
   "metadata": {
    "jp-MarkdownHeadingCollapsed": true,
    "tags": []
   },
   "source": [
    "## References\n",
    "\n",
    "```{bibliography}\n",
    ":filter: docname in docnames\n",
    "```"
   ]
  }
 ],
 "metadata": {
  "kernelspec": {
   "display_name": "Python 3 (ipykernel)",
   "language": "python",
   "name": "python3"
  },
  "language_info": {
   "codemirror_mode": {
    "name": "ipython",
    "version": 3
   },
   "file_extension": ".py",
   "mimetype": "text/x-python",
   "name": "python",
   "nbconvert_exporter": "python",
   "pygments_lexer": "ipython3",
   "version": "3.9.12"
  }
 },
 "nbformat": 4,
 "nbformat_minor": 5
}
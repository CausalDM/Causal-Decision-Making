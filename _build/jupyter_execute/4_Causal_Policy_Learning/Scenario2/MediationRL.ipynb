{
 "cells": [
  {
   "cell_type": "markdown",
   "id": "1a0f865c-10e4-440e-a970-2a1bd566881c",
   "metadata": {},
   "source": [
    "# Dynamic Mediation Analysis in Reinforcement Learning"
   ]
  },
  {
   "cell_type": "markdown",
   "id": "df8a6f6e-0223-44ba-be1d-4f7d761aa3b3",
   "metadata": {},
   "source": [
    "While the majority of existing works concentrate on mediation analysis with a single exposure or a limited number of treatments, there are a growing number of applications (e.g., mobile health) in which treatments are sequentially assigned over time, resulting in a large number of decision times. To learn the mediation effects in such settings with an infinite horizon, [1] proposed to construct the mediation analysis with a reinforcement learning framework. Based on a newly introduced Mediated MDP data structure as illustrated below, [1] devised a novel four-way decomposition of the average treatment effect, encompassing both long-term and short-term direct/indirect effects. A direct estimator, an IPW estimator, and a multiply-robust estimator are provided for each effect component, in accordance with the standard methodologies used in literature of off-policy evaluation (OPE).\n",
    "\n",
    "![Proposed_MDP.jpg](Proposed_MDP.jpg)\n",
    "\n",
    "## Main Idea\n",
    "The core of [1] is a **four-way effect decomposition** of the average treatment effect. Let $\\pi_e$ denote the treatment policy of interest, where $\\pi_e(a|S_t = s) = P^{\\pi_e}(A_t=a|S_t=s)$, and $\\pi_0$ denote the control policy. Let $E^{\\pi}[\\cdot]$ dentoe the expectation of a random variable under a policy $\\pi$. Then the average treatment effect can be defined as \n",
    "\\begin{align}\n",
    "\\textrm{ATE($\\pi_e,\\pi_0$)}=\\lim_{T\\to \\infty} \\frac{1}{T}\\sum_{t=0}^{T-1} \\textrm{TE$_t$($\\pi_e,\\pi_0$)},\n",
    "\\end{align}\n",
    "where $\\textrm{TE}_t(\\pi_e,\\pi_0) = E^{\\pi_e}[R_t] - E^{\\pi_0}[R_t]$. We first decompose the $\\textrm{TE}_t(\\pi_e,\\pi_0)$ into four effect components, such that\n",
    "$\\textrm{TE}_t(\\pi_e,\\pi_0) = \\textrm{IDE}_t(\\pi_e,\\pi_0)+\\textrm{IME}_t(\\pi_e,\\pi_0)+\\textrm{DDE}_t(\\pi_e,\\pi_0)+\\textrm{DME}_t(\\pi_e,\\pi_0),$\n",
    "where i) the $\\textrm{IDE}_t$ quantifies the direct treatment effect on the proximal outcome $R_t$; ii) the $\\textrm{IME}_t$ evaluates the indirect effect mediated by $M_t$; iii) the $\\textrm{DDE}_t$ quantifies how past actions directly impact the current outcome; and iv) the $\\textrm{DME}_t$ measures the indirect past treatment effects mediated by past mediators. \n",
    "\n",
    "Averaging over $t$, we obtain a four-way decomposition of ATE as \n",
    "$\\textrm{ATE}(\\pi_e,\\pi_0) = \\textrm{IDE}(\\pi_e,\\pi_0) + \\textrm{IME}(\\pi_e,\\pi_0) + \\textrm{DDE}(\\pi_e,\\pi_0) + \\textrm{DME}(\\pi_e,\\pi_0).$\n",
    "As an illustration, let's consider $t=1$. The complete causal graph from actions to $R_1$ is depicted as follows.\n",
    "![2-stage.png](2-stage.png)\n",
    "\n",
    "  - $\\textrm{IDE}_1$ measures the causal effect along the path $A_1\\to R_1$;\n",
    "  - $\\textrm{IME}_1$ corresponds to the effect along the path $A_1\\to M_1 \\to R_1$;\n",
    "  - $\\textrm{DDE}_1$ captures the causal effect along the path $A_0\\to S_1\\to\\{A_1, M_1\\}\\to R_1$;\n",
    "  - $\\textrm{DME}_1$ considers the path $A_0\\to M_0 \\to S_1 \\to \\{A_1, M_1\\} \\to R_1$.\n",
    "  \n",
    "Each effect component is identifiable under the three standard assumptions, including consistency, sequential randomization, and positivity. Following the standard methodology used in OPE and under the assumptions, Direct estimator, IPW estimator, and multiply robust estimator for each effect component are provided in [1] and also supported by our package. "
   ]
  },
  {
   "cell_type": "markdown",
   "id": "705de882-5e40-41fa-aa5f-c0a5ec004113",
   "metadata": {},
   "source": [
    "## Demo Code"
   ]
  },
  {
   "cell_type": "markdown",
   "id": "666e8a73-f355-481a-9d58-331981024aed",
   "metadata": {},
   "source": [
    "### Load the observational data."
   ]
  },
  {
   "cell_type": "code",
   "execution_count": 1,
   "id": "71dbbccf-f1f4-4526-92f6-ad2e5f99cafc",
   "metadata": {},
   "outputs": [
    {
     "data": {
      "text/html": [
       "<div>\n",
       "<style scoped>\n",
       "    .dataframe tbody tr th:only-of-type {\n",
       "        vertical-align: middle;\n",
       "    }\n",
       "\n",
       "    .dataframe tbody tr th {\n",
       "        vertical-align: top;\n",
       "    }\n",
       "\n",
       "    .dataframe thead th {\n",
       "        text-align: right;\n",
       "    }\n",
       "</style>\n",
       "<table border=\"1\" class=\"dataframe\">\n",
       "  <thead>\n",
       "    <tr style=\"text-align: right;\">\n",
       "      <th></th>\n",
       "      <th>icustayid</th>\n",
       "      <th>bloc</th>\n",
       "      <th>Glucose</th>\n",
       "      <th>PaO2_FiO2</th>\n",
       "      <th>IV_Input</th>\n",
       "      <th>SOFA</th>\n",
       "      <th>next_Glucose</th>\n",
       "      <th>next_PaO2_FiO2</th>\n",
       "      <th>Died_within_48H</th>\n",
       "    </tr>\n",
       "  </thead>\n",
       "  <tbody>\n",
       "    <tr>\n",
       "      <th>682</th>\n",
       "      <td>1006</td>\n",
       "      <td>1</td>\n",
       "      <td>91.0</td>\n",
       "      <td>206.000000</td>\n",
       "      <td>0</td>\n",
       "      <td>8</td>\n",
       "      <td>91.0</td>\n",
       "      <td>206.000000</td>\n",
       "      <td>1</td>\n",
       "    </tr>\n",
       "    <tr>\n",
       "      <th>683</th>\n",
       "      <td>1006</td>\n",
       "      <td>3</td>\n",
       "      <td>91.0</td>\n",
       "      <td>206.000000</td>\n",
       "      <td>0</td>\n",
       "      <td>8</td>\n",
       "      <td>91.0</td>\n",
       "      <td>206.000000</td>\n",
       "      <td>1</td>\n",
       "    </tr>\n",
       "    <tr>\n",
       "      <th>684</th>\n",
       "      <td>1006</td>\n",
       "      <td>6</td>\n",
       "      <td>175.0</td>\n",
       "      <td>100.173913</td>\n",
       "      <td>1</td>\n",
       "      <td>3</td>\n",
       "      <td>175.0</td>\n",
       "      <td>100.173913</td>\n",
       "      <td>1</td>\n",
       "    </tr>\n",
       "    <tr>\n",
       "      <th>685</th>\n",
       "      <td>1006</td>\n",
       "      <td>7</td>\n",
       "      <td>175.0</td>\n",
       "      <td>96.000000</td>\n",
       "      <td>1</td>\n",
       "      <td>10</td>\n",
       "      <td>175.0</td>\n",
       "      <td>96.000000</td>\n",
       "      <td>1</td>\n",
       "    </tr>\n",
       "    <tr>\n",
       "      <th>686</th>\n",
       "      <td>1006</td>\n",
       "      <td>8</td>\n",
       "      <td>175.0</td>\n",
       "      <td>96.000000</td>\n",
       "      <td>1</td>\n",
       "      <td>9</td>\n",
       "      <td>175.0</td>\n",
       "      <td>96.000000</td>\n",
       "      <td>1</td>\n",
       "    </tr>\n",
       "    <tr>\n",
       "      <th>687</th>\n",
       "      <td>1006</td>\n",
       "      <td>10</td>\n",
       "      <td>144.0</td>\n",
       "      <td>187.234036</td>\n",
       "      <td>1</td>\n",
       "      <td>12</td>\n",
       "      <td>144.0</td>\n",
       "      <td>187.234036</td>\n",
       "      <td>0</td>\n",
       "    </tr>\n",
       "  </tbody>\n",
       "</table>\n",
       "</div>"
      ],
      "text/plain": [
       "     icustayid  bloc  Glucose   PaO2_FiO2  IV_Input  SOFA  next_Glucose  \\\n",
       "682       1006     1     91.0  206.000000         0     8          91.0   \n",
       "683       1006     3     91.0  206.000000         0     8          91.0   \n",
       "684       1006     6    175.0  100.173913         1     3         175.0   \n",
       "685       1006     7    175.0   96.000000         1    10         175.0   \n",
       "686       1006     8    175.0   96.000000         1     9         175.0   \n",
       "687       1006    10    144.0  187.234036         1    12         144.0   \n",
       "\n",
       "     next_PaO2_FiO2  Died_within_48H  \n",
       "682      206.000000                1  \n",
       "683      206.000000                1  \n",
       "684      100.173913                1  \n",
       "685       96.000000                1  \n",
       "686       96.000000                1  \n",
       "687      187.234036                0  "
      ]
     },
     "execution_count": 1,
     "metadata": {},
     "output_type": "execute_result"
    }
   ],
   "source": [
    "import pandas as pd\n",
    "import numpy as np\n",
    "import pickle\n",
    "file = open('mimic3_MRL_data_dict_V2.pickle', 'rb')\n",
    "mimic3_MRL = pickle.load(file)\n",
    "mimic3_MRL['reward'] = [1 if r == 0 else r for r in mimic3_MRL['reward']]\n",
    "mimic3_MRL['reward'] = [0 if r == -1 else r for r in mimic3_MRL['reward']]\n",
    "MRL_df = pd.read_csv('mimic3_MRL_df_V2.csv')\n",
    "MRL_df.iloc[np.where(MRL_df['Died_within_48H']==0)[0],-1]=1\n",
    "MRL_df.iloc[np.where(MRL_df['Died_within_48H']==-1)[0],-1]=0\n",
    "MRL_df[MRL_df.icustayid==1006]"
   ]
  },
  {
   "cell_type": "markdown",
   "id": "b0dee2fa-8735-4cbf-9686-e5de66ce0e57",
   "metadata": {},
   "source": [
    "### Import the learner."
   ]
  },
  {
   "cell_type": "code",
   "execution_count": 2,
   "id": "7c1b2734-70e4-4c78-a011-971b5f93c27d",
   "metadata": {},
   "outputs": [],
   "source": [
    "from causaldm.learners.CEL.MA import ME_MDP"
   ]
  },
  {
   "cell_type": "markdown",
   "id": "3cbcbdc2-a851-4c41-85bf-30e0ad4f57dd",
   "metadata": {},
   "source": [
    "### Specify the control policy and the target policy"
   ]
  },
  {
   "cell_type": "code",
   "execution_count": 3,
   "id": "f486c185-da52-44a9-af91-383dc84e74e3",
   "metadata": {},
   "outputs": [],
   "source": [
    "# Control Policy\n",
    "def control_policy(state = None, dim_state=None, action=None, get_a = False):\n",
    "    # fixed policy with fixed action 0\n",
    "    if get_a:\n",
    "        action_value = np.array([0])\n",
    "    else:\n",
    "        state = np.copy(state).reshape(-1,dim_state)\n",
    "        NT = state.shape[0]\n",
    "        if action is None:\n",
    "            action_value = np.array([0]*NT)\n",
    "        else:\n",
    "            action = np.copy(action).flatten()\n",
    "            if len(action) == 1 and NT>1:\n",
    "                action = action * np.ones(NT)\n",
    "            action_value = 1-action\n",
    "    return action_value\n",
    "def target_policy(state, dim_state = 1, action=None):\n",
    "    state = np.copy(state).reshape((-1, dim_state))\n",
    "    NT = state.shape[0]\n",
    "    pa = 1 * np.ones(NT)\n",
    "    if action is None:\n",
    "        if NT == 1:\n",
    "            pa = pa[0]\n",
    "            prob_arr = np.array([1-pa, pa])\n",
    "            action_value = np.random.choice([0, 1], 1, p=prob_arr)\n",
    "        else:\n",
    "            raise ValueError('No random for matrix input')\n",
    "    else:\n",
    "        action = np.copy(action).flatten()\n",
    "        action_value = pa * action + (1-pa) * (1-action)\n",
    "    return action_value"
   ]
  },
  {
   "cell_type": "markdown",
   "id": "f19a2f22-33f7-48ef-8fc9-eed0ced54fbd",
   "metadata": {},
   "source": [
    "### Specify Hyperparameters"
   ]
  },
  {
   "cell_type": "code",
   "execution_count": 4,
   "id": "fbff1643-c7f9-492f-bc17-358b6612f553",
   "metadata": {},
   "outputs": [],
   "source": [
    "dim_state=2\n",
    "dim_mediator = 1\n",
    "MCMC = 50\n",
    "truncate = 50\n",
    "problearner_parameters = {\"splitter\":[\"best\",\"random\"], \"max_depth\" : range(1,50)},\n",
    "ratio_ndim = 10\n",
    "scaler = 'Identity'\n",
    "method = \"Robust\"\n",
    "seed = 0\n",
    "r_model = \"OLS\"\n",
    "Q_settings = {'scaler': 'Identity','product_tensor': False, 'beta': 3/7, \n",
    "              'include_intercept': False, \n",
    "              'penalty': 10**(-4),'d': 2, 'min_L': 5, 't_dependent_Q': False}"
   ]
  },
  {
   "cell_type": "markdown",
   "id": "5ef46807-4b36-4c5a-9f8c-de51263f00e6",
   "metadata": {},
   "source": [
    "### Define the estimation function"
   ]
  },
  {
   "cell_type": "code",
   "execution_count": 5,
   "id": "686377e0-4c75-49b1-859d-8f9c632e104f",
   "metadata": {},
   "outputs": [
    {
     "name": "stdout",
     "output_type": "stream",
     "text": [
      "Building 0-th basis spline (total 3 state-mediator dimemsion) which has 3 basis, in total 3 features \n",
      "Building 1-th basis spline (total 3 state-mediator dimemsion) which has 3 basis, in total 6 features \n",
      "Building 2-th basis spline (total 3 state-mediator dimemsion) which has 3 basis, in total 9 features \n"
     ]
    }
   ],
   "source": [
    "Robust_est = ME_MDP.evaluator(mimic3_MRL, r_model = r_model,\n",
    "                     problearner_parameters = problearner_parameters,\n",
    "                     ratio_ndim = ratio_ndim, truncate = truncate, l2penalty = 10**(-4),\n",
    "                     target_policy=target_policy, control_policy = control_policy, \n",
    "                     dim_state = dim_state, dim_mediator = dim_mediator, \n",
    "                     Q_settings = Q_settings,\n",
    "                     MCMC = MCMC,\n",
    "                     seed = seed, nature_decomp = True, method = method)\n",
    "Robust_est.estimate_DE_ME()"
   ]
  },
  {
   "cell_type": "markdown",
   "id": "e7e49a34-e16e-47be-b88d-00db8fb89af6",
   "metadata": {},
   "source": [
    "### Obtain the estimation of each effect component"
   ]
  },
  {
   "cell_type": "code",
   "execution_count": 12,
   "id": "d51ec829-e482-43e4-9dc1-55cc829d1d48",
   "metadata": {},
   "outputs": [
    {
     "data": {
      "text/plain": [
       "(-0.01810020554867914,\n",
       " 0.006066387156687134,\n",
       " -0.004866328022066192,\n",
       " -0.00018158807389352197,\n",
       " -0.017081734487951722)"
      ]
     },
     "execution_count": 12,
     "metadata": {},
     "output_type": "execute_result"
    }
   ],
   "source": [
    "Robust_est.est_IDE, Robust_est.IME, Robust_est.DDE, Robust_est.DME, Robust_est.TE"
   ]
  },
  {
   "cell_type": "markdown",
   "id": "2569aa7e-8e1a-41c6-8761-297ef9923859",
   "metadata": {},
   "source": [
    "### Obtain the standard error of each effect component"
   ]
  },
  {
   "cell_type": "code",
   "execution_count": 13,
   "id": "9c7887c0-06a5-45c2-beca-60e6c88ebf06",
   "metadata": {},
   "outputs": [
    {
     "data": {
      "text/plain": [
       "(0.0058689011135968135,\n",
       " 0.002110278954293422,\n",
       " 0.002770561709572756,\n",
       " 0.0010678186846614852,\n",
       " 0.005821662648181514)"
      ]
     },
     "execution_count": 13,
     "metadata": {},
     "output_type": "execute_result"
    }
   ],
   "source": [
    "Robust_est.IDE_se, Robust_est.IME_se, Robust_est.DDE_se, Robust_est.DME_se, Robust_est.TE_se"
   ]
  },
  {
   "cell_type": "markdown",
   "id": "8702a0d2-0776-4e0a-b033-a0d17f3e7f07",
   "metadata": {},
   "source": [
    "**Interpretation**: We analyze the average treatment effect (ATE) of a target policy that provides IV input all of the time compared to a control policy that provides no IV input at all. Using the multiply-robust estimator proposed in [1], we decomposed the ATE into four components, including immediate nature dierct effect (INDE), Immediate nature mediator effect (INME), delayed nature direct effect (DNDE), and delayed nature mediator effect (NDDNME), and estimated each of the effect component. The estimation results are summarized in the table below.\n",
    "\n",
    "| INDE           | INME | DNDE           | DNME           | ATE           |\n",
    "|---------------|-----|---------------|---------------|---------------|\n",
    "| -.0181(.0059) | .0061(.0021)   | -.0049(.0028) | -.0002(.0011) | -.0171(.0058) |\n",
    "\n",
    "Specifically, the ATE of the target policy is significantly negative, with an effect size of .0171. Diving deep, we find that the DNME and DNDE are insignificant, whereas the INDE and INME are all statistically significant. Further, taking the effect size into account, we can conclude that the majority of the average treatment effect is directly due to the actions derived from the target treatment policy, while the part of the effect that can be attributed to the mediators is negligible."
   ]
  },
  {
   "cell_type": "markdown",
   "id": "bec636bb-9385-48da-a18a-a8f731414750",
   "metadata": {},
   "source": [
    "## References\n",
    "\n",
    "[1] Ge, L., Wang, J., Shi, C., Wu, Z., & Song, R. (2023). A Reinforcement Learning Framework for Dynamic Mediation Analysis. arXiv preprint arXiv:2301.13348."
   ]
  }
 ],
 "metadata": {
  "kernelspec": {
   "display_name": "Python 3 (ipykernel)",
   "language": "python",
   "name": "python3"
  },
  "language_info": {
   "codemirror_mode": {
    "name": "ipython",
    "version": 3
   },
   "file_extension": ".py",
   "mimetype": "text/x-python",
   "name": "python",
   "nbconvert_exporter": "python",
   "pygments_lexer": "ipython3",
   "version": "3.9.12"
  }
 },
 "nbformat": 4,
 "nbformat_minor": 5
}
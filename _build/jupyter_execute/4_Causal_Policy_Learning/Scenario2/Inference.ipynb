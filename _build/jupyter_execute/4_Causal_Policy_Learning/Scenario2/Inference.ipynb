{
 "cells": [
  {
   "cell_type": "markdown",
   "id": "fb4b0ffb",
   "metadata": {},
   "source": [
    "# Confidence Interval in OPE\n"
   ]
  },
  {
   "cell_type": "markdown",
   "id": "b605f90e",
   "metadata": {},
   "source": [
    "\n",
    "***Advantages***:\n",
    "\n",
    "## Main Idea\n",
    "\n",
    "\n",
    "### Asymptotic distribution based CI for DRL\n",
    "\n",
    "In addition to the approaches reviewed in Section \\ref{sec:CI},  another commonly adopted CI construction  approach in statistics is to utilize the asymptotic distribution of a point estimator. \n",
    "Although such a CI is typically only asymptotically valid, it is generally more computationally efficient than Bootstrap-based methods and tighter than concentration inequality-based CIs. \n",
    "However, this kind of CIs for OPE is rare in the literature, due to the challenge of deriving the   asymptotic distribution for OPE point estimators. \n",
    "\n",
    "We begin our proposal by constructing a CI based on DRL introduced in Section \\ref{sec:curse_horizon}. \n",
    "Although the CI has not been explicitly proposed and evaluated in  \\citet{kallus2019efficiently}, \n",
    "given the derived asymptotic normal distribution for $\\widehat{\\eta}_{\\textrm{DRL}}$, \n",
    "a Wald-type CI for $\\eta^{\\pi}$ can be constructed following the standard procedure. \n",
    "Specifically, recall that $\\widehat{\\eta}_{\\textrm{DRL}}$ is defined as the average of $\\{\\psi_{i,t}\\}$, an estimator of the asymptotic variance \\eqref{lower_bound} can be derived as the sampling variance $\\widehat{\\sigma}^2=(nT-1)^{-1} \\sum_{i,t} (\\psi_{i,t}-\\widehat{\\eta}_{\\textrm{DRL}})^2$ and we can prove it is consistent.  \n",
    "Then, an asymptotic $(1 - \\alpha)$-CI is given by\n",
    "\\begin{equation}\\label{eqn:CI_DRL}\n",
    "    [\\widehat{\\eta}_{\\textrm{DRL}} - z_{\\alpha/2} (nT)^{-1/2}\t\\widehat{\\sigma} \\; , \\; \\widehat{\\eta}_{\\textrm{DRL}}+z_{\\alpha/2} (nT)^{-1/2}\t\\widehat{\\sigma}], \n",
    "\\end{equation}\n",
    "where $z_{\\alpha}$ corresponds to the upper $\\alpha$th quantile of a standard normal random variable.\n",
    "\n"
   ]
  },
  {
   "cell_type": "markdown",
   "id": "1dce0ff0",
   "metadata": {},
   "source": [
    "## Demo [TODO]"
   ]
  },
  {
   "cell_type": "code",
   "execution_count": 1,
   "id": "49d50553",
   "metadata": {},
   "outputs": [
    {
     "ename": "FileNotFoundError",
     "evalue": "[Errno 2] No such file or directory: '../CausalDM'",
     "output_type": "error",
     "traceback": [
      "\u001b[0;31m---------------------------------------------------------------------------\u001b[0m",
      "\u001b[0;31mFileNotFoundError\u001b[0m                         Traceback (most recent call last)",
      "\u001b[0;32m/var/folders/9j/vb5nb4rd5bx0gr1q5ytx9q600000gn/T/ipykernel_51170/3779975037.py\u001b[0m in \u001b[0;36m<module>\u001b[0;34m\u001b[0m\n\u001b[1;32m      5\u001b[0m \u001b[0mos\u001b[0m\u001b[0;34m.\u001b[0m\u001b[0mgetcwd\u001b[0m\u001b[0;34m(\u001b[0m\u001b[0;34m)\u001b[0m\u001b[0;34m\u001b[0m\u001b[0;34m\u001b[0m\u001b[0m\n\u001b[1;32m      6\u001b[0m \u001b[0mos\u001b[0m\u001b[0;34m.\u001b[0m\u001b[0mchdir\u001b[0m\u001b[0;34m(\u001b[0m\u001b[0;34m'..'\u001b[0m\u001b[0;34m)\u001b[0m\u001b[0;34m\u001b[0m\u001b[0;34m\u001b[0m\u001b[0m\n\u001b[0;32m----> 7\u001b[0;31m \u001b[0mos\u001b[0m\u001b[0;34m.\u001b[0m\u001b[0mchdir\u001b[0m\u001b[0;34m(\u001b[0m\u001b[0;34m'../CausalDM'\u001b[0m\u001b[0;34m)\u001b[0m\u001b[0;34m\u001b[0m\u001b[0;34m\u001b[0m\u001b[0m\n\u001b[0m\u001b[1;32m      8\u001b[0m \u001b[0;34m\u001b[0m\u001b[0m\n",
      "\u001b[0;31mFileNotFoundError\u001b[0m: [Errno 2] No such file or directory: '../CausalDM'"
     ]
    }
   ],
   "source": [
    "# After we publish the pack age, we can directly import it\n",
    "# TODO: explore more efficient way\n",
    "# we can hide this cell later\n",
    "import os\n",
    "os.getcwd()\n",
    "os.chdir('..')\n",
    "os.chdir('../CausalDM')\n",
    "\n"
   ]
  },
  {
   "cell_type": "markdown",
   "id": "f229c7ce",
   "metadata": {},
   "source": [
    "## References\n",
    "1. Shi C, Wan R, Chernozhukov V, et al. Deeply-debiased off-policy interval estimation[C]//International Conference on Machine Learning. PMLR, 2021: 9580-9591."
   ]
  },
  {
   "cell_type": "markdown",
   "id": "acd8de07",
   "metadata": {},
   "source": [
    "## Note\n"
   ]
  },
  {
   "cell_type": "code",
   "execution_count": null,
   "id": "5f37c4f4",
   "metadata": {},
   "outputs": [],
   "source": []
  }
 ],
 "metadata": {
  "kernelspec": {
   "display_name": "Python 3 (ipykernel)",
   "language": "python",
   "name": "python3"
  },
  "language_info": {
   "codemirror_mode": {
    "name": "ipython",
    "version": 3
   },
   "file_extension": ".py",
   "mimetype": "text/x-python",
   "name": "python",
   "nbconvert_exporter": "python",
   "pygments_lexer": "ipython3",
   "version": "3.9.13"
  }
 },
 "nbformat": 4,
 "nbformat_minor": 5
}
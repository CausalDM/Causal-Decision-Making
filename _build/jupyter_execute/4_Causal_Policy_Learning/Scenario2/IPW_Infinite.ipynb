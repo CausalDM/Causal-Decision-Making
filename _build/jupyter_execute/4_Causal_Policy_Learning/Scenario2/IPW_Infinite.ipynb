{
 "cells": [
  {
   "cell_type": "markdown",
   "id": "aae549d6",
   "metadata": {},
   "source": [
    "# Importance Sampling for Policy Evaluation (Infinite Horizon)"
   ]
  },
  {
   "cell_type": "markdown",
   "id": "13cac138",
   "metadata": {},
   "source": [
    "Another important approach is importance sampling (IS), also known as inverse propensity score or inverse propensity weighting methods. \n",
    "IS has been widely used in statistics, and the idea can be extended to OPE after appropriately handling the temporal dependency. \n",
    "\n",
    "***Advantages***:\n",
    "\n",
    "1. Conceptually simple and easy to implement\n",
    "2. Low bias. Specifically, with known propensity scores, the vanilla version is unbiased.\n",
    "\n",
    "***Appropriate application situations***:\n",
    "\n",
    "Due to the large variance and the curse of horizon, IS generally performs well in problems with\n",
    "\n",
    "1. Short horizon\n",
    "2. Sufficient policy match between the behaviour policy and the target policy. \n",
    "\n",
    "\n",
    "(section:IPW_RL_main_idea)=\n",
    "## Main Idea\n",
    "IS estimates the value by reweighting the observed rewards with importance ratios between the target and behavior policy {cite:p}`precup2000eligibility`. For simplicity, we assume the behaviour policy $b$ is known. \n",
    "\n",
    "To begin with, for every trajectory index $i$ and any $t \\in \\{0, 1, \\dots, T - 1\\}$, we define the $t$-step cumulative **importance ratio** between the target policy $\\pi$ and the behaviour policy $b$ as \n",
    "\\begin{align*}\n",
    "    \\rho^i_t = \\prod_{t'=0}^{t} \\frac{\\pi(A_{i,t'}|S_{i,t'})}{b(A_{i,t'}|S_{i,t'})}. \n",
    "\\end{align*}\n",
    "Since the transition and reward generation probabilities are shared  between both policies, this ratio is equal to the probability ratio of observing the $i$th trajectory until time point $t$. \n",
    "\n",
    "The standard **(trajectory-wise) IS** estimator {cite:p}`thomas2015safe`\n",
    " regards each trajectory (and the corresponding observed cumulative reward, $\\sum_{t=0}^{T-1} \\gamma^t R_{i,t}$) as one realization, and it estimates $\\eta^{\\pi}$ by \n",
    "\\begin{align}\\label{eqn:IS}\n",
    "    \\hat{\\eta}^{\\pi}_{IS} = \\frac{1}{n} \\sum_{i=1}^n \\rho^i_T (\\sum_{t=0}^{T-1} \\gamma^t R_{i,t}). \n",
    "\\end{align}\n",
    "\n",
    "In contrast, the **step-wise IS** {cite:p}`thomas2015safe`\n",
    "  focuses on reweighting each immediate reward $R_{i,t}$ and typically yields a lower variance than the trajectory-wise IS. It is defined as \n",
    "\\begin{align}\\label{eqn:stepIS}\n",
    "    \\hat{\\eta}^{\\pi}_{StepIS} = \\frac{1}{n} \\sum_{i=1}^n \\Big[ \\sum_{t=0}^{T-1} \\rho^i_t  \\gamma^t R_{i,t} \\Big]. \n",
    "\\end{align}\n",
    "\n",
    "In addition to these two IS-type estimators, their **self-normalized variants** are also commonly considered {cite:p}`jiang2016doubly`. \n",
    "Specifically, we can define the normalization factor $\\bar{\\rho}_t = N^{-1} \\sum_{i=1}^N \\rho^i_t$, and replace the $\\rho^i_t$ term by $\\rho^i_t / \\bar{\\rho}_t$. \n",
    "The resulting estimators are biased but consistent, and they generally yield lower variance than their counterparts. \n",
    "This comparison reflects the bias-variance trade-off. "
   ]
  },
  {
   "cell_type": "markdown",
   "id": "6b13ad84",
   "metadata": {},
   "source": [
    "## Breaking the curse of horizon with stationary distribution\n",
    "\n",
    "Traditional IS methods (and related DR methods) have exponential variance with the number of steps and hence will soon become unstable when the trajectory is long.  To avoid this issue,  {cite:t}`liu2018breaking`\n",
    " made an important step forward by proposing to utilize the stationary distributions of the Markov process to marginalize the importance ratio. We need to assume the stationarity assumption (SA), that the state process $\\{S_{i,t}\\}_{t \\ge 0}$ is strictly stationary. \n",
    "\n",
    "\n",
    "Let $p_b(s)$ and  $p_b(s, a)$ denote the stationary density function of the state and the state-action pair under the policy $b$, respectively.\n",
    "The key observation is that, under the stationary assumption and when the data is weakly dependent, we can consider the importance ratios computed on each state-action pair rather than on each  trajectory, and hence break the curse of horizon. \n",
    "We introduce the average visitation distribution under a policy $\\pi$ as $d^{\\pi}(s)= (1 - \\gamma)^{-1} \\sum_{t=0}^{+\\infty} \\gamma^{t} p_t^{\\pi}(s)$, where $p_t^{\\pi}(s)$ denotes the probability of $\\{S_t = s\\}$ following policy $\\pi$ with  $S_{0}\\sim \\mathbb{G}$. \n",
    "Define $\\widetilde{\\omega}^{\\pi}(s) = d^{\\pi}(s) / d^{b}(s)$. \n",
    "Therefore, $\\widetilde{\\omega}^{\\pi}(s)$ can be understood as a marginalized version of the importance ratio. With a similar change-of-measure trick as in IS, we can obtain the relationship that \n",
    "\\begin{equation}\\label{eqn:breaking}\n",
    "    \\eta^{\\pi} =  \\mathbb{E}_{(s,a) \\sim p_b(s, a), r \\sim \\mathcal{R}(\\cdot; s, a)} \\widetilde{\\omega}^{\\pi}(s) \\frac{\\pi(a|s)}{b(a|s)} r. \n",
    "\\end{equation}\n",
    "According to this relationship, we can construct an estimator by replacing the nuisance functions  with their estimates and then approximating the expectation by its empirical mean over $\\{(S_{i,t},A_{i,t},R_{i,t},S_{i,t+1})\\}$. \n",
    "The nuisance function $\\widetilde{\\omega}^{\\pi}(s)$ is typically learned by solving an optimization problem, which we will omit to save space. \n",
    "The optimization is similar to a relevant task that we will discuss in the next section, which is more related with our proposal. "
   ]
  },
  {
   "cell_type": "markdown",
   "id": "82b7259c",
   "metadata": {},
   "source": [
    "## Demo [TODO]"
   ]
  },
  {
   "cell_type": "code",
   "execution_count": 1,
   "id": "433a8320",
   "metadata": {},
   "outputs": [
    {
     "ename": "FileNotFoundError",
     "evalue": "[WinError 2] 系统找不到指定的文件。: '../CausalDM'",
     "output_type": "error",
     "traceback": [
      "\u001b[1;31m---------------------------------------------------------------------------\u001b[0m",
      "\u001b[1;31mFileNotFoundError\u001b[0m                         Traceback (most recent call last)",
      "Input \u001b[1;32mIn [1]\u001b[0m, in \u001b[0;36m<cell line: 7>\u001b[1;34m()\u001b[0m\n\u001b[0;32m      5\u001b[0m os\u001b[38;5;241m.\u001b[39mgetcwd()\n\u001b[0;32m      6\u001b[0m os\u001b[38;5;241m.\u001b[39mchdir(\u001b[38;5;124m'\u001b[39m\u001b[38;5;124m..\u001b[39m\u001b[38;5;124m'\u001b[39m)\n\u001b[1;32m----> 7\u001b[0m \u001b[43mos\u001b[49m\u001b[38;5;241;43m.\u001b[39;49m\u001b[43mchdir\u001b[49m\u001b[43m(\u001b[49m\u001b[38;5;124;43m'\u001b[39;49m\u001b[38;5;124;43m../CausalDM\u001b[39;49m\u001b[38;5;124;43m'\u001b[39;49m\u001b[43m)\u001b[49m\n",
      "\u001b[1;31mFileNotFoundError\u001b[0m: [WinError 2] 系统找不到指定的文件。: '../CausalDM'"
     ]
    }
   ],
   "source": [
    "# After we publish the pack age, we can directly import it\n",
    "# TODO: explore more efficient way\n",
    "# we can hide this cell later\n",
    "import os\n",
    "os.getcwd()\n",
    "os.chdir('..')\n",
    "os.chdir('../CausalDM')\n",
    "\n"
   ]
  },
  {
   "cell_type": "markdown",
   "id": "05969245-e857-481c-b741-83ebb175cdba",
   "metadata": {
    "tags": []
   },
   "source": [
    "## References\n",
    "\n",
    "```{bibliography}\n",
    ":filter: docname in docnames\n",
    "```"
   ]
  },
  {
   "cell_type": "markdown",
   "id": "745add0c",
   "metadata": {},
   "source": [
    "## Note\n",
    "1. When the behaviour policy is unknown, we can estimate it from data by regarding the task as a classification problem and using methods such as logistic regression. \n",
    "2. We note that, in principle, IS-based methods (and doubly robust methods to be reviewed in the next section) only apply to the finite-horizon setting, where the  trajectory is truncated at a finite time step $T$. \n",
    "The estimand is \n",
    "$\\mathbb{E}^{\\pi}_{s \\sim \\mathbb{G}} (\\sum_{t=0}^{T-1} \\gamma^t R_{t}|S_{0}=s)$ instead of \n",
    "$\\mathbb{E}^{\\pi}_{s \\sim \\mathbb{G}} (\\sum_{t=0}^{+\\infty} \\gamma^t R_{t}|S_{0}=s)$. \n",
    "However, when $T$ is relatively large and $\\gamma$ is not quite close to $1$, the difference between $\\sum_{t=0}^{T-1} \\gamma^t$ and $\\sum_{t=0}^{\\infty} \\gamma^t$ is negligible and is usually ignored, and they are still commonly used as baselines. \n",
    "3. We note that (SA) is not a strong assumption. Recall that $\\{S_{i,t}\\}_{t \\ge 0}$ is generated by following the stationary policy $b$. (SA) is automatically  satisfied when the initial distribution equals the stationary distribution. Besides, When the MDP is a Harris ergodic chain , the process will eventually mix well and we can replace the stationary distribution with its limiting assumption and the following discussions will continue to hold. "
   ]
  },
  {
   "cell_type": "code",
   "execution_count": null,
   "id": "4cb77dcf",
   "metadata": {},
   "outputs": [],
   "source": []
  }
 ],
 "metadata": {
  "kernelspec": {
   "display_name": "Python 3 (ipykernel)",
   "language": "python",
   "name": "python3"
  },
  "language_info": {
   "codemirror_mode": {
    "name": "ipython",
    "version": 3
   },
   "file_extension": ".py",
   "mimetype": "text/x-python",
   "name": "python",
   "nbconvert_exporter": "python",
   "pygments_lexer": "ipython3",
   "version": "3.9.12"
  }
 },
 "nbformat": 4,
 "nbformat_minor": 5
}
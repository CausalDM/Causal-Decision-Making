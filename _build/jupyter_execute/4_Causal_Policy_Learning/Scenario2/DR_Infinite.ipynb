{
 "cells": [
  {
   "cell_type": "markdown",
   "id": "d739e446",
   "metadata": {},
   "source": [
    "# Doubly Robust Estimator for Policy Evaluation (Infinite Horizon)"
   ]
  },
  {
   "cell_type": "markdown",
   "id": "14036142",
   "metadata": {},
   "source": [
    "The third category, the doubly robust (DR) approach, combines DM and IS to achieve low variance and bias. The DR technique has also been widely studied in statistics. \n",
    "\n",
    "***Advantages***:\n",
    "\n",
    "1. Doubly robustness: consistent when either component is\n",
    "2. Fast convergence rate when both components have decent convergence rates. \n",
    "\n",
    "***Appropriate application situations***:\n",
    "\n",
    "In the MDP setup, due to the large variance and curse of horizon introduced by the IS component, it is observed that DR {cite:p}`voloshin2019empirical` generally performs better than DM when \n",
    "\n",
    "1. Horizon is short \n",
    "2. Policy match is sufficient\n",
    "3. The Q-function model might exist significant bias. \n",
    "\n",
    "## Main Idea\n",
    "\n",
    "In OPE, a DR estimator first requires a Q-function estimator, denoted as $\\widehat{Q}$, which can be learned by various methods in the literature, such as [FQE](section:FQE). \n",
    "Denote the corresponding plug-in V-function estimator as $\\widehat{V}$. \n",
    "These estimators will then be integrated with importance ratios in a form typically motivated by the Bellman equation \n",
    "\\begin{equation}\\label{eqn:bellman_Q}\n",
    "    Q^\\pi(a, s) = \\mathbb{E}^\\pi \\Big(R_t + \\gamma Q^\\pi(A_{t + 1}, S_{t+1})  | A_t = a, S_t = s \\Big).  \\;\\;\\;\\;\\; \\text{(1)} \n",
    "\\end{equation}\n",
    "\n",
    "For example, based on the [step-wise IS](section:IPW_RL_main_idea), {cite:t}`thomas2016data` proposes to construct the estimator as \n",
    "\\begin{align*}%\\label{eqn:stepIS}\n",
    "    \\hat{\\eta}^{\\pi}_{StepDR} = \\frac{1}{n} \\sum_{i=1}^n  \\widehat{V}(S_{i,0}) + \n",
    "    \\frac{1}{n} \\sum_{i=1}^n \\sum_{t=0}^{T - 1} \\rho^i_t  \\gamma^t \\Big[\n",
    "    R_{i,t} - \\widehat{Q}(A_{i,t}, S_{i,t}) + \\gamma \\widehat{V}(S_{i,t + 1})\n",
    "    \\Big]. \n",
    "\\end{align*}\n",
    "The self-normalized version can be similarly constructed {cite:p}`thomas2016data`. \n",
    "\n",
    "Besides directly applying the DR technique to the value estimator, we can utilize the recursive form \n",
    "to debias the Q- or V-function recursively. \n",
    "For example, {cite:t}`jiang2016doubly` considered the following estimator. \n",
    "Let $\\widehat{V}_{DR}^T = 0$. \n",
    "For $t = T - 1, \\dots, 0$, we recursively define \n",
    "\\begin{equation*}\n",
    "    \\widehat{V}_{DR}^t = \\frac{1}{n} \\sum_{i=1}^n \\Big\\{ \\widehat{V}(S_{i,t}) + \\rho^i_t \\big[R_{i,t} + \\gamma \\widehat{V}_{DR}^{t+1}(S_{i,t + 1}) - \\widehat{Q}(A_{i,t}, S_{i,t})\n",
    "    \\big] \\Big\\}. \n",
    "\\end{equation*}\n",
    "The final value estimator is then defined as $\\widehat{V}_{DR}^0$. \n",
    "\n",
    "The name, doubly robust, reflects the fact that the DR estimators are typically consistent as long as one of the two components is consistent, and hence the estimator is doubly robust to model mis-specifications. \n",
    "Besides, a DR estimator typically has lower (or comparable) bias and variance than its components, in the asymptotic sense. However, similar with the standard IS methods, standard DR estimators also rely on per-step importance ratios  and hence will suffer from huge variance when the horizon is long. \n",
    "\n",
    "## Double Reinforcement Learning with Stationary Distribution\n",
    "To avoid the curse of horizon, a few extensions of the stationary distribution-based approach have been proposed in the literature. \n",
    "For example, {cite:t}`tang2019doubly` designs a DR version, and {cite:t}`uehara2019minimax` proposes to learn a single nuisance function $\\widetilde{\\xi}^{\\pi}(s,a) \\equiv \\widetilde{\\omega}^{\\pi}(s) [\\pi(a|s) / b(a|s)]$ instead of learning $\\widetilde{\\omega}^{\\pi}(s)$ and $b$ separately. \n",
    "\n",
    "In particular, following this line of research, {cite:t}`kallus2019efficiently` recently proposes a state-of-the-art method named double reinforcement learning (DRL) that achieves the semiparametric efficiency bound for OPE. DRL is a doubly robust-type method. \n",
    "\n",
    "To begin with, we first define the marginalized density ratio under the target policy $\\pi$ as  \n",
    "\\begin{eqnarray}\\label{eqn:omega}\n",
    "\t\\omega^{\\pi}(a,s)=\\frac{(1-\\gamma)\\sum_{t=0}^{+\\infty} \\gamma^{t} p_t^{\\pi}(a,s)}{p_b(a, s)}, \n",
    "\\end{eqnarray}\n",
    "where $p_t^{\\pi}(a, s)$ denotes the probability of $\\{S_t = s, A_t = a\\}$ following policy $\\pi$ with  $S_{0}\\sim \\mathbb{G}$. \n",
    "Recall that $p_b(s, a)$ is the stationary density function of the state-action pair under the policy $b$. \n",
    "\n",
    "\n",
    "\n",
    "Let $\\widehat{Q}$ and $\\widehat{\\omega}$ be some estimates of  $Q^{\\pi}$ and $\\omega^{\\pi}$,  respectively. \n",
    "DRL first constructs the following estimator for every $(i,t)$ in a doubly robust manner: \n",
    "\\begin{eqnarray}\\label{term}\n",
    "\\begin{split}\n",
    "\t\\psi_{i,t}\n",
    "\t\\equiv\n",
    "\t\\frac{1}{1-\\gamma}\\widehat{\\omega}(A_{i,t},S_{i,t})\\{R_{i,t} \n",
    "\t-\\widehat{Q}(A_{i,t},S_{i,t})\n",
    "    &+\n",
    "\t\\gamma \n",
    "\t\\mathbb{E}_{a \\sim \\pi(\\cdot| S_{i,t+1})}\\widehat{Q}(a, S_{i,t+1})\\}\\\\\n",
    "\t&+ \\mathbb{E}_{s \\sim \\mathbb{G}, a \\sim \\pi(\\cdot| s)}\\widehat{Q}(a, s). \n",
    "\\end{split}\t\n",
    "\\end{eqnarray}\n",
    "The resulting value estimator is then given by\n",
    "\\begin{eqnarray*}\n",
    "\t\\widehat{\\eta}_{\\tiny{\\textrm{DRL}}}=\\frac{1}{nT}\\sum_{i=1}^n\\sum_{t=0}^{T-1} \\psi_{i,t}.\n",
    "\\end{eqnarray*}\n",
    "One can show that \n",
    "$\\widehat{\\eta}_{\\tiny{\\textrm{DRL}}}$ is consistent when either $\\widehat{Q}$ or $\\widehat{\\omega}$ is consistent, and hence is doubly robust. \n",
    "In addition, under mild conditions, we can prove that $\\sqrt{nT} (\\widehat{\\eta}_{\\tiny{\\textrm{DRL}}} - \\eta^{\\pi})$ converges weakly to a normal distribution with mean zero and variance $\\sigma^2$ as \n",
    "\\begin{eqnarray}\\label{lower_bound}\n",
    "    \\sigma^2 = \n",
    "    \\frac{1}{(1-\\gamma)^2}\\mathbb{E} \\left[ \n",
    "    \\omega^{\\pi}(A, S) \\{R + \\gamma V^{\\pi}(S') -  Q^{\\pi}(A,S)\\}\n",
    "    \\right]^2,\n",
    "\\end{eqnarray}\n",
    "where the expectation is over tuples following \n",
    "the stationary distribution of the process $\\{(S_t,A_t,R_t,S_{t+1})\\}_{t\\ge 0}$, generated by $b$. Moreover, this asymptotic variance is proven to be the semiparametric efficiency bound for  infinite-horizon OPE {cite:t}`kallus2019efficiently`. \n",
    "Roughly speaking, this implies the algorithm is statistically most efficient. "
   ]
  },
  {
   "cell_type": "markdown",
   "id": "e4fa1371",
   "metadata": {},
   "source": [
    "## Demo [TODO]"
   ]
  },
  {
   "cell_type": "code",
   "execution_count": 1,
   "id": "09c1eb2e",
   "metadata": {},
   "outputs": [
    {
     "ename": "FileNotFoundError",
     "evalue": "[Errno 2] No such file or directory: '../CausalDM'",
     "output_type": "error",
     "traceback": [
      "\u001b[0;31m---------------------------------------------------------------------------\u001b[0m",
      "\u001b[0;31mFileNotFoundError\u001b[0m                         Traceback (most recent call last)",
      "\u001b[0;32m/var/folders/9j/vb5nb4rd5bx0gr1q5ytx9q600000gn/T/ipykernel_51137/2982377520.py\u001b[0m in \u001b[0;36m<module>\u001b[0;34m\u001b[0m\n\u001b[1;32m      5\u001b[0m \u001b[0mos\u001b[0m\u001b[0;34m.\u001b[0m\u001b[0mgetcwd\u001b[0m\u001b[0;34m(\u001b[0m\u001b[0;34m)\u001b[0m\u001b[0;34m\u001b[0m\u001b[0;34m\u001b[0m\u001b[0m\n\u001b[1;32m      6\u001b[0m \u001b[0mos\u001b[0m\u001b[0;34m.\u001b[0m\u001b[0mchdir\u001b[0m\u001b[0;34m(\u001b[0m\u001b[0;34m'..'\u001b[0m\u001b[0;34m)\u001b[0m\u001b[0;34m\u001b[0m\u001b[0;34m\u001b[0m\u001b[0m\n\u001b[0;32m----> 7\u001b[0;31m \u001b[0mos\u001b[0m\u001b[0;34m.\u001b[0m\u001b[0mchdir\u001b[0m\u001b[0;34m(\u001b[0m\u001b[0;34m'../CausalDM'\u001b[0m\u001b[0;34m)\u001b[0m\u001b[0;34m\u001b[0m\u001b[0;34m\u001b[0m\u001b[0m\n\u001b[0m",
      "\u001b[0;31mFileNotFoundError\u001b[0m: [Errno 2] No such file or directory: '../CausalDM'"
     ]
    }
   ],
   "source": [
    "# After we publish the pack age, we can directly import it\n",
    "# TODO: explore more efficient way\n",
    "# we can hide this cell later\n",
    "import os\n",
    "os.getcwd()\n",
    "os.chdir('..')\n",
    "os.chdir('../CausalDM')"
   ]
  },
  {
   "cell_type": "markdown",
   "id": "03da8b8e-b22f-457b-982a-1f73d947c8dd",
   "metadata": {
    "jp-MarkdownHeadingCollapsed": true,
    "tags": []
   },
   "source": [
    "## References\n",
    "\n",
    "```{bibliography}\n",
    ":filter: docname in docnames\n",
    "```"
   ]
  },
  {
   "cell_type": "markdown",
   "id": "17499aa4",
   "metadata": {},
   "source": [
    "## Note\n",
    "1. One critical question is how to estimate the nuisance function $\\omega^{\\pi}$. \n",
    "The following observation forms the basis: $\\omega^{\\pi}$ is the only function that satisfies the equation $\\mathbb{E} L(\\omega^{\\pi},f)=0$ for any function $f$, where $L(\\omega^{\\pi},f)$ equals \n",
    "\\begin{eqnarray}\\label{eqn_omega}\n",
    "\\begin{split}\n",
    "\t\\Big[\\mathbb{E}_{a \\sim \\pi(\\cdot|S_{t+1})} \\{\\omega^{\\pi}(A_{t},S_{t})\n",
    "\t(\\gamma f(a, S_{t+1})- f(A_{t},S_{t}) ) \\}\n",
    "\t+ (1-\\gamma) \\mathbb{E}_{s \\sim \\mathbb{G}, a \\sim \\pi(\\cdot|s)} f(a, s). \n",
    "\\end{split}\n",
    "\\end{eqnarray} \n",
    "As such, $\\omega^{\\pi}$ can be learned by solving the following mini-max problem, \n",
    "\\begin{eqnarray}\\label{eqn:solveL}\n",
    "\\arg \\min_{\\omega\\in \\Omega} \\sup_{f\\in \\mathcal{F}} \\{\\mathbb{E} L(\\omega, f)\\}^2, \n",
    "\\end{eqnarray}\n",
    "for some function classes $\\Omega$ and $\\mathcal{F}$. \n",
    "To simplify the calculation, we can choose $\\mathcal{F}$ to be a reproducing kernel Hilbert space (RKHS). \n",
    "This yields a closed-form expression for $\\sup_{f\\in \\mathcal{F}} \\{\\mathbb{E} L(\\omega,f)\\}^2$, for any $\\omega$. Consequently, $\\omega^{\\pi}$ can be learned by solving the outer minimization via optimization methods such as stochastic gradient descent, \n",
    "with the expectation approximated by the sample mean. \n",
    "$\\widetilde{\\omega}^{\\pi}(s)$ can be learned in a similar manner. "
   ]
  },
  {
   "cell_type": "code",
   "execution_count": null,
   "id": "8c009000",
   "metadata": {},
   "outputs": [],
   "source": []
  }
 ],
 "metadata": {
  "kernelspec": {
   "display_name": "Python 3 (ipykernel)",
   "language": "python",
   "name": "python3"
  },
  "language_info": {
   "codemirror_mode": {
    "name": "ipython",
    "version": 3
   },
   "file_extension": ".py",
   "mimetype": "text/x-python",
   "name": "python",
   "nbconvert_exporter": "python",
   "pygments_lexer": "ipython3",
   "version": "3.9.13"
  }
 },
 "nbformat": 4,
 "nbformat_minor": 5
}
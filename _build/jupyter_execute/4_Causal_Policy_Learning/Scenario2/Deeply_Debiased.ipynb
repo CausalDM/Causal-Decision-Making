{
 "cells": [
  {
   "cell_type": "markdown",
   "id": "e942b44d",
   "metadata": {},
   "source": [
    "# Deeply-Debiased Off-Policy Evaluation\n",
    "\n",
    "The doubly robust utilizes the importance weighting method to reduce the bias of the direct methods. However, in the complicated RL problems, it is still challenging to satisfy the required rate conditions to yield valid inference. In this part, we introduce a deeply-debiasing procedure {cite:p}`shi2021deeply` to provide valid inference under minimal conditions. \n",
    "We present the method in the stationary and infinite-horizon setting, and extensions to other RL setups are straightforward. "
   ]
  },
  {
   "cell_type": "markdown",
   "id": "2a2839ce",
   "metadata": {},
   "source": [
    "\n",
    "***Advantages***:\n",
    "* Theoretically valid with dependent data\n",
    "* Statistically efficient as it can avoid the curse of horizon and can achieve the semiparametric efficiency bound\n",
    "* Robust to model mis-specifications and slow convergence rates of nuisance estimators\n",
    "\n",
    "\n",
    "## Main Idea\n",
    "\n",
    "The validity of the asymptotic distribution of the doubly robust estimator such as DRL and its Wald-type CI requires the two nuisance function estimators, $\\widehat{Q}$ and $\\widehat{\\omega}$, to both converge at a rate faster than $(nT)^{-1/4}$. \n",
    "When this assumption is violated, the resulting CI cannot achieve the nominal coverage. \n",
    "These requirements are likely to be violated in complicated RL tasks, given the dimensionality and the complexity of modeling the Q-function and the design function. \n",
    "See {cite:t}`shi2021deeply` for illustrative examples.\n",
    "\n",
    "\n",
    "The limitation of DRL motivates us to consider constructing a valid CI under weaker and practically more feasible conditions. \n",
    "To achieve this goal, we first take a deeper look at DRL. First recall that $\\widehat{\\eta}_{\\tiny{\\textrm{DRL}}}= (nT)^{-1}\n",
    "\\sum_{i=1}^n\\sum_{t=0}^{T-1} \\psi_{i,t}$, where \n",
    "\\begin{eqnarray}\\label{new_DRL_term}\n",
    "\\begin{split}\n",
    "\t\\psi_{i,t}\n",
    "\t\\equiv\n",
    "\t\\frac{1}{1-\\gamma}\\widehat{\\omega}(A_{i,t},S_{i,t})\\{R_{i,t} \n",
    "\t-\\widehat{Q}(A_{i,t},S_{i,t})+\n",
    "\t\\gamma \n",
    "\t\\mathbb{E}_{a \\sim \\pi(\\cdot| S_{i,t+1})}\\widehat{Q}(a, S_{i,t+1})\\}\n",
    "\t+ \\mathbb{E}_{s \\sim \\mathbb{G}, a \\sim \\pi(\\cdot| s)}\\widehat{Q}(a, s).  (1)\n",
    "\\end{split}\t\n",
    "\\end{eqnarray}\n",
    "Here, the second term on is a plug-in estimator of the value based on the initial Q-estimator, \n",
    "and the first term corresponds to an augmentation term used to de-bias the plug-in value estimator $\\mathbb{E}_{s \\sim \\mathbb{G}, a \\sim \\pi(\\cdot|s)}\\widehat{Q}(a, s)$. \n",
    "\n",
    "**Conditional density ratio.**\n",
    "Similarly, we can debias the initial Q-estimator $\\widehat{Q}(a_0,s_0)$ for any $(a_0,s_0)$. Towards that end, we introduce the conditional density ratio. \n",
    "Specifically, by replacing $\\mathbb{G}(\\bullet)$ with a Dirac measure $\\mathbb{I}(\\bullet=s_0)$ and further conditioning on an initial action $a_0$, the marginalized density ratio $\\omega(a, s)$ becomes a conditional density ratio, defined as \n",
    "\\begin{align*}\n",
    "\\tau^{\\pi}(a,s,a_0,s_0) = \\frac{(1-\\gamma)\\sum_{t=0}^{+\\infty}\\gamma^t p_t^{\\pi}(a,s|a_0,s_0) }{p_{\\infty}(a,s)},\n",
    "\\end{align*}\n",
    "where $p_t^{\\pi}(a,s|a_0,s_0)$ denotes the probability of $(A_t,S_t)=(a,s)$ following policy $\\pi$ conditional on the event that $\\{A_0=a_0, S_0=s_0\\}$. By definition, the numerator corresponds to the discounted conditional visitation probability following $\\pi$ given that the initial state-action pair equals $(s_0,a_0)$. \n",
    "\n",
    "**Debias the Q-function.**\n",
    "By replacing $\\widehat{\\omega}$ in (1) with some estimated conditional density ratio $\\widehat{\\tau}$, we obtain the following estimation function for any $Q$-function estimate $\\tilde{Q}$: \n",
    "\\begin{eqnarray}\\label{eqn:debiasterm}\n",
    "\\begin{split}\n",
    "\\mathcal{D}^{(i,t)}\\tilde{Q}(a,s) =\n",
    "\\tilde{Q}(a,s)\n",
    "& + \\frac{1}{1-\\gamma}\\widehat{\\tau}(A_{i,t},S_{i,t},a,s)\\\\\n",
    "&\\times\n",
    "\\{R_{i,t} +\\gamma\n",
    "\\mathbb{E}_{a' \\sim \\pi(\\cdot|S_{i,t+1})}\n",
    "\\tilde{Q}(a',S_{i,t+1})- \\tilde{Q}(A_{i,t},S_{i,t})\\}. \n",
    "\\end{split}\n",
    "\\end{eqnarray}\n",
    "Here, we refer to $\\mathcal{D}^{(i,t)}$ as the *individual debiasing operator*, since it debiases any $\\tilde{Q}$ based on an individual data tuple $(S_{i,t},A_{i,t},R_{i,t},S_{i,t+1})$. \n",
    "Similarly, the augmentation term here is to offer protection against potential model misspecification of the Q-function, and as such, \n",
    "$\\mathcal{D}^{(i,t)}Q(a,s)$ is a doubly robust estimator of $Q^{\\pi}(a,s)$. \n",
    "A debiased version of the Q-estimator is given by averaging $\\mathcal{D}^{(i,t)} \\widehat{Q}$ over the data tuples, i.e.,  $\\widehat{Q}^{(2)}=\\frac{1}{nT}\\sum_{i \\le n}\\sum_{0\\le t<T}\\mathcal{D}^{(i,t)} \\widehat{Q}.$\n",
    "We can prove the bias of $\\widehat{Q}^{(2)}$ will decay at a faster rate than the initial Q-estimator $\\widehat{Q}$. \n",
    "\n",
    "**The two-step debias iteration.**\n",
    "Similar with DRL, we can construct an estimating function $\\psi_{i,t}^{(2)}$ for any $(i,t)$ by replacing $\\widehat{Q}$ in (1) with $\\widehat{Q}^{(2)}$. \n",
    "This yields our second-order estimator \n",
    "\n",
    "\\begin{eqnarray}\n",
    "\\begin{split}\n",
    "\\widehat{\\eta}^{(2)}_{\\tiny{\\textrm{TR}}}=(nT)^{-1} \\sum_{i,t} \\psi_{i,t}^{(2)}.\n",
    "\\end{split}\n",
    "\\end{eqnarray}\n",
    "\n",
    "\n",
    "We can establish that the bias of $\\widehat{\\eta}^{(2)}_{\\tiny{\\textrm{TR}}}$ decays at a  faster rate than the DRL estimator. \n",
    "Moreover, based on the structure of this estimator, we can establish that $\\widehat{\\eta}^{(2)}_{\\tiny{\\textrm{TR}}}$ converges to the true value when one model for $Q^{\\pi}$, $\\omega^{\\pi}$ or $\\tau^{\\pi}$ is correctly specified. As such, it is *triply-robust*. \n",
    "Finally, let $\\widehat{\\sigma}^{(2)} = \\Big[(nT-1)^{-1} \\sum_{i,t} (\\psi_{i,t}^{(2)}-\\widehat{\\eta}_{\\textrm{TR}}^{(2)})^2\\Big]^{1/2}$, an asymptotic $(1 - \\alpha)$-CI is given by\n",
    "\\begin{equation}\\label{eqn:CI_TR}\n",
    "    [\\widehat{\\eta}_{\\textrm{TR}}^{(2)} - z_{\\alpha/2} (nT)^{-1/2}\t\\widehat{\\sigma}^{(2)} \\; , \\; \\widehat{\\eta}_{\\textrm{TR}}^{(2)} +z_{\\alpha/2} (nT)^{-1/2}\t\\widehat{\\sigma}^{(2)}], \n",
    "\\end{equation}\n",
    "and roughly speaking, its validity only requires the nuisanses to converge at a rate faster than $(nT)^{-1/6}$. \n",
    "\n",
    "**The $m$-step debias iteration.**\n",
    "To further relax the convergence rate requirement, we can iteratively debias the Q-estimator to construct higher-order value estimates. Specifically, for any order $m\\ge 2$, we iteratively apply the debiasing operator to the initial Q-estimator $m-1$ times and average over all individual tuples, leading to the following estimator,  \n",
    "\\begin{eqnarray*}\n",
    "\t\\widehat{Q}^{(m)}={{nT \\choose (m-1)}}^{-1}\\sum \\mathcal{D}^{(i_1,t_1)}\\cdots \\mathcal{D}^{(i_{m-1},t_{m-1})} \\widehat{Q},  \n",
    "\\end{eqnarray*}\n",
    "where the sum is taken over all possible combinations of disjoint tuples $(i_1,t_1),(i_2,t_2),\\cdots,(i_{m-1},t_{m-1})$ in the set $\\{(i,t):i \\le n, 0\\le t<T\\}$. \n",
    "The resulting value estimator $\\widehat{\\eta}^{(m)}_{\\tiny{\\textrm{TR}}}$ and its CI can be similarly constructed as their second-order counterparts. \n",
    "By similar arguments, we can establish that the bias of the Q-estimator and that of the resulting value decrease as the order $m$ increases.\n",
    "This yields the flexibility and robustness of our estimator as it allows the nuisance function estimator to converge at an arbitrary rate, with large enough $m$. \n",
    "The efficiency of this method follows from the fact that the estimator can achieve the semiparametric efficiency bound. \n",
    "\n",
    "\n",
    "\n",
    "\n",
    "\n",
    "```{image} d2ope.png\n",
    ":alt: d2ope\n",
    ":width: 500px\n",
    ":align: center\n",
    "```\n"
   ]
  },
  {
   "cell_type": "markdown",
   "id": "bbe66a89",
   "metadata": {},
   "source": [
    "## Demo [TODO]"
   ]
  },
  {
   "cell_type": "code",
   "execution_count": 1,
   "id": "0ef3c151",
   "metadata": {},
   "outputs": [
    {
     "ename": "FileNotFoundError",
     "evalue": "[Errno 2] No such file or directory: '../CausalDM'",
     "output_type": "error",
     "traceback": [
      "\u001b[0;31m---------------------------------------------------------------------------\u001b[0m",
      "\u001b[0;31mFileNotFoundError\u001b[0m                         Traceback (most recent call last)",
      "\u001b[0;32m/var/folders/9j/vb5nb4rd5bx0gr1q5ytx9q600000gn/T/ipykernel_51145/3779975037.py\u001b[0m in \u001b[0;36m<module>\u001b[0;34m\u001b[0m\n\u001b[1;32m      5\u001b[0m \u001b[0mos\u001b[0m\u001b[0;34m.\u001b[0m\u001b[0mgetcwd\u001b[0m\u001b[0;34m(\u001b[0m\u001b[0;34m)\u001b[0m\u001b[0;34m\u001b[0m\u001b[0;34m\u001b[0m\u001b[0m\n\u001b[1;32m      6\u001b[0m \u001b[0mos\u001b[0m\u001b[0;34m.\u001b[0m\u001b[0mchdir\u001b[0m\u001b[0;34m(\u001b[0m\u001b[0;34m'..'\u001b[0m\u001b[0;34m)\u001b[0m\u001b[0;34m\u001b[0m\u001b[0;34m\u001b[0m\u001b[0m\n\u001b[0;32m----> 7\u001b[0;31m \u001b[0mos\u001b[0m\u001b[0;34m.\u001b[0m\u001b[0mchdir\u001b[0m\u001b[0;34m(\u001b[0m\u001b[0;34m'../CausalDM'\u001b[0m\u001b[0;34m)\u001b[0m\u001b[0;34m\u001b[0m\u001b[0;34m\u001b[0m\u001b[0m\n\u001b[0m\u001b[1;32m      8\u001b[0m \u001b[0;34m\u001b[0m\u001b[0m\n",
      "\u001b[0;31mFileNotFoundError\u001b[0m: [Errno 2] No such file or directory: '../CausalDM'"
     ]
    }
   ],
   "source": [
    "# After we publish the pack age, we can directly import it\n",
    "# TODO: explore more efficient way\n",
    "# we can hide this cell later\n",
    "import os\n",
    "os.getcwd()\n",
    "os.chdir('..')\n",
    "os.chdir('../CausalDM')\n",
    "\n"
   ]
  },
  {
   "cell_type": "markdown",
   "id": "a9efbf69",
   "metadata": {
    "tags": []
   },
   "source": [
    "## References\n",
    "\n",
    "```{bibliography}\n",
    ":filter: docname in docnames\n",
    "```"
   ]
  },
  {
   "cell_type": "markdown",
   "id": "3ffa8c6c",
   "metadata": {},
   "source": [
    "## Note\n",
    "* DRL is designed by following the standard approach in semiparametric theory, via first deriving the first-order efficient influence function of $\\eta^{\\pi}$ and then constructing the corresponding first-order U-statistic. Our proposal is motivated by the recent breakthroughs on higher-order U-statistics. Specifically, a higher-order U-statistic can be obtained by deriving the higher-order influence functions of $\\eta^{\\pi}$, and for a large class of problems, the estimator yields the same asymptotic distribution with the first-order U-statistic under milder conditions. When $T = 1$, our proposal shares similar spirits to the works on minimax optimal estimation for average treatment effects. \n",
    "* $\\tau^{\\pi}$ can be learned from the observed data by solving a minimax problem. See {cite:t}`shi2021deeply` for more details. \n",
    "* Although the proposed estimator is as efficient as DRL in the asymptotic sense, in  finite sample, the variance of our estimator will always be larger than DRL. This is due to the fact that, our estimator, as a higher-order U-statistic, can be decomposed into the sum of some asymptotically uncorrelated terms as $\\eta^{\\pi}+\\sum_{j=1}^m \\widehat{\\eta}_j$,  according to the Hoeffding decomposition. Here, the DRL estimator is asymptotically equivalent to $\\eta^{\\pi}+\\widehat{\\eta}_1$ and $\\widehat{\\eta}_j$ corresponds to a $j$th order degenerate U-statistic for any $j\\ge 2$. Therefore, the proposed estimator has additional higher order terms. This fact can be regarded as a bias-variance tradeoff. "
   ]
  }
 ],
 "metadata": {
  "kernelspec": {
   "display_name": "Python 3 (ipykernel)",
   "language": "python",
   "name": "python3"
  },
  "language_info": {
   "codemirror_mode": {
    "name": "ipython",
    "version": 3
   },
   "file_extension": ".py",
   "mimetype": "text/x-python",
   "name": "python",
   "nbconvert_exporter": "python",
   "pygments_lexer": "ipython3",
   "version": "3.9.13"
  }
 },
 "nbformat": 4,
 "nbformat_minor": 5
}
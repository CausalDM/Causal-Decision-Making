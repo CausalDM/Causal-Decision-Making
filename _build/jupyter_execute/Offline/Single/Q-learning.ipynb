{
 "cells": [
  {
   "cell_type": "markdown",
   "id": "a260371a",
   "metadata": {},
   "source": [
    "# Q-Learning"
   ]
  },
  {
   "cell_type": "code",
   "execution_count": 1,
   "id": "9c6efefd",
   "metadata": {},
   "outputs": [
    {
     "ename": "FileNotFoundError",
     "evalue": "[WinError 2] 系统找不到指定的文件。: '../CausalDM'",
     "output_type": "error",
     "traceback": [
      "\u001b[1;31m---------------------------------------------------------------------------\u001b[0m",
      "\u001b[1;31mFileNotFoundError\u001b[0m                         Traceback (most recent call last)",
      "\u001b[1;32m~\\AppData\\Local\\Temp\\ipykernel_76488\\2982377520.py\u001b[0m in \u001b[0;36m<module>\u001b[1;34m\u001b[0m\n\u001b[0;32m      5\u001b[0m \u001b[0mos\u001b[0m\u001b[1;33m.\u001b[0m\u001b[0mgetcwd\u001b[0m\u001b[1;33m(\u001b[0m\u001b[1;33m)\u001b[0m\u001b[1;33m\u001b[0m\u001b[1;33m\u001b[0m\u001b[0m\n\u001b[0;32m      6\u001b[0m \u001b[0mos\u001b[0m\u001b[1;33m.\u001b[0m\u001b[0mchdir\u001b[0m\u001b[1;33m(\u001b[0m\u001b[1;34m'..'\u001b[0m\u001b[1;33m)\u001b[0m\u001b[1;33m\u001b[0m\u001b[1;33m\u001b[0m\u001b[0m\n\u001b[1;32m----> 7\u001b[1;33m \u001b[0mos\u001b[0m\u001b[1;33m.\u001b[0m\u001b[0mchdir\u001b[0m\u001b[1;33m(\u001b[0m\u001b[1;34m'../CausalDM'\u001b[0m\u001b[1;33m)\u001b[0m\u001b[1;33m\u001b[0m\u001b[1;33m\u001b[0m\u001b[0m\n\u001b[0m",
      "\u001b[1;31mFileNotFoundError\u001b[0m: [WinError 2] 系统找不到指定的文件。: '../CausalDM'"
     ]
    }
   ],
   "source": [
    "# After we publish the pack age, we can directly import it\n",
    "# TODO: explore more efficient way\n",
    "# we can hide this cell later\n",
    "import os\n",
    "os.getcwd()\n",
    "os.chdir('..')\n",
    "os.chdir('../CausalDM')"
   ]
  },
  {
   "cell_type": "markdown",
   "id": "86e84b94",
   "metadata": {},
   "source": [
    "## Main Idea\n",
    "\n",
    "Q-learning is a classic method of Reinforcement Learning. Early in 2000, it was adapted to decision-making problems[1] and kept evolving with various extensions, such as penalized Q-learning [2]. In the following, we would start from a simple case having only one decision point and then introduce the multistage case with multiple decision points. Note that, we assume the action space is either **binary** (i.e., 0,1) or **multinomial** (i.e., A,B,C,D), and the outcome of interest Y is **continuous** and **non-negative**, where the larger the $Y$ the better. \n"
   ]
  },
  {
   "cell_type": "markdown",
   "id": "795fee74",
   "metadata": {},
   "source": [
    "## 1. Single Decision Point\n",
    "\n",
    "- **Application Situation**: Suppose we have a dataset containing observations from $N$ individuals. For each individual $i$, we have $\\{\\mathbf{X}_{i},A_{i},Y_{i}\\}$, $i=1,\\cdots,N$. $\\mathbf{X}_{i}$ includes the feature information, $A_{i}$ is the action taken, and $Y_{i}$ is the observed reward received. The target of Q-learning is to find an optimal policy $\\pi$ that can maximize the expected reward received. In other words, by training a model with the observed dataset, we want to find an optimal policy that can help us determine the optimal action for each individual to optimize the reward.\n",
    "\n",
    "- **Basic Logic**: Q-learning with a single decision point is mainly a regression modeling problem, as the major component is to find the relationship between $Y$ and $\\{X,A\\}$. Let's first define a Q-function, such that\n",
    "\\begin{align}\n",
    "    Q(x,a) = E(Y|X=x, A=a).\n",
    "\\end{align} Then, to find the optimal policy is equivalent to solve\n",
    "\\begin{align}\n",
    "    \\text{arg max}_{\\pi}Q(x_{i},\\pi(x_{i})).\n",
    "\\end{align} \n",
    "\n",
    "- **Key Steps**:\n",
    "    1. Fitted a model $\\hat{Q}(x,a,\\hat{\\beta})$, which can be solved directly by existing approaches (i.e., OLS, .etc),\n",
    "    2. For each individual find the optimal action $a_{i}$ such that $a_{i} = \\text{arg max}_{a}\\hat{Q}(x_{i},a,\\hat{\\beta})$."
   ]
  },
  {
   "cell_type": "markdown",
   "id": "118d78c6",
   "metadata": {},
   "source": [
    "### 1.1 Optimal Decision"
   ]
  },
  {
   "cell_type": "markdown",
   "id": "911353df",
   "metadata": {},
   "source": [
    "#### import the learner"
   ]
  },
  {
   "cell_type": "code",
   "execution_count": 19,
   "id": "cff767c8",
   "metadata": {},
   "outputs": [],
   "source": [
    "# A demo with code on how to use the package\n",
    "from causaldm.learners import ALearning\n",
    "import pandas as pd\n",
    "import numpy as np\n",
    "from sklift.datasets import fetch_hillstrom"
   ]
  },
  {
   "cell_type": "markdown",
   "id": "be9d5846",
   "metadata": {},
   "source": [
    "#### prepare the dataset (dataset from the DTR book)"
   ]
  },
  {
   "cell_type": "code",
   "execution_count": 29,
   "id": "90afd838",
   "metadata": {},
   "outputs": [
    {
     "data": {
      "text/plain": [
       "Index(['recency', 'history', 'mens', 'womens', 'newbie', 'zip_code_Surburban',\n",
       "       'zip_code_Urban', 'channel_Phone', 'channel_Web'],\n",
       "      dtype='object')"
      ]
     },
     "execution_count": 29,
     "metadata": {},
     "output_type": "execute_result"
    }
   ],
   "source": [
    "# continuous Y\n",
    "data, target, treatment = fetch_hillstrom(target_col='spend', return_X_y_t=True)\n",
    "# use pd.concat to join the new columns with your original dataframe\n",
    "data = pd.concat([data,pd.get_dummies(data['zip_code'], prefix='zip_code')],axis=1)\n",
    "data = pd.concat([data,pd.get_dummies(data['channel'], prefix='channel')],axis=1)\n",
    "# now drop the original 'country' column (you don't need it anymore)\n",
    "data.drop(['zip_code'],axis=1, inplace=True)\n",
    "data.drop(['channel'],axis=1, inplace=True)\n",
    "data.drop(['history_segment'],axis=1, inplace=True)\n",
    "data.drop(['zip_code_Rural'],axis=1, inplace=True) # Rural as the reference group\n",
    "data.drop(['channel_Multichannel'],axis=1, inplace=True) # Multichannel as the reference group \n",
    "\n",
    "Y = target\n",
    "Y.name = 'Y'\n",
    "X = data# add an intercept column\n",
    "A = treatment\n",
    "A.name = 'A'\n",
    "#get the subset which has Y>0 == n=578\n",
    "X = X[Y>0]\n",
    "A = A[Y>0]\n",
    "Y = Y[Y>0]\n",
    "X.columns"
   ]
  },
  {
   "cell_type": "code",
   "execution_count": 30,
   "id": "3cab7eab",
   "metadata": {},
   "outputs": [
    {
     "data": {
      "text/html": [
       "<div>\n",
       "<style scoped>\n",
       "    .dataframe tbody tr th:only-of-type {\n",
       "        vertical-align: middle;\n",
       "    }\n",
       "\n",
       "    .dataframe tbody tr th {\n",
       "        vertical-align: top;\n",
       "    }\n",
       "\n",
       "    .dataframe thead th {\n",
       "        text-align: right;\n",
       "    }\n",
       "</style>\n",
       "<table border=\"1\" class=\"dataframe\">\n",
       "  <thead>\n",
       "    <tr style=\"text-align: right;\">\n",
       "      <th></th>\n",
       "      <th>recency</th>\n",
       "      <th>history</th>\n",
       "      <th>mens</th>\n",
       "      <th>womens</th>\n",
       "      <th>newbie</th>\n",
       "      <th>zip_code_Surburban</th>\n",
       "      <th>zip_code_Urban</th>\n",
       "      <th>channel_Phone</th>\n",
       "      <th>channel_Web</th>\n",
       "    </tr>\n",
       "  </thead>\n",
       "  <tbody>\n",
       "    <tr>\n",
       "      <th>217</th>\n",
       "      <td>10</td>\n",
       "      <td>88.37</td>\n",
       "      <td>0</td>\n",
       "      <td>1</td>\n",
       "      <td>0</td>\n",
       "      <td>0</td>\n",
       "      <td>1</td>\n",
       "      <td>1</td>\n",
       "      <td>0</td>\n",
       "    </tr>\n",
       "    <tr>\n",
       "      <th>267</th>\n",
       "      <td>4</td>\n",
       "      <td>297.80</td>\n",
       "      <td>1</td>\n",
       "      <td>1</td>\n",
       "      <td>0</td>\n",
       "      <td>0</td>\n",
       "      <td>1</td>\n",
       "      <td>1</td>\n",
       "      <td>0</td>\n",
       "    </tr>\n",
       "    <tr>\n",
       "      <th>332</th>\n",
       "      <td>10</td>\n",
       "      <td>29.99</td>\n",
       "      <td>0</td>\n",
       "      <td>1</td>\n",
       "      <td>0</td>\n",
       "      <td>1</td>\n",
       "      <td>0</td>\n",
       "      <td>0</td>\n",
       "      <td>1</td>\n",
       "    </tr>\n",
       "    <tr>\n",
       "      <th>451</th>\n",
       "      <td>6</td>\n",
       "      <td>265.61</td>\n",
       "      <td>0</td>\n",
       "      <td>1</td>\n",
       "      <td>1</td>\n",
       "      <td>1</td>\n",
       "      <td>0</td>\n",
       "      <td>0</td>\n",
       "      <td>0</td>\n",
       "    </tr>\n",
       "    <tr>\n",
       "      <th>459</th>\n",
       "      <td>1</td>\n",
       "      <td>101.99</td>\n",
       "      <td>0</td>\n",
       "      <td>1</td>\n",
       "      <td>0</td>\n",
       "      <td>1</td>\n",
       "      <td>0</td>\n",
       "      <td>0</td>\n",
       "      <td>1</td>\n",
       "    </tr>\n",
       "    <tr>\n",
       "      <th>...</th>\n",
       "      <td>...</td>\n",
       "      <td>...</td>\n",
       "      <td>...</td>\n",
       "      <td>...</td>\n",
       "      <td>...</td>\n",
       "      <td>...</td>\n",
       "      <td>...</td>\n",
       "      <td>...</td>\n",
       "      <td>...</td>\n",
       "    </tr>\n",
       "    <tr>\n",
       "      <th>63466</th>\n",
       "      <td>9</td>\n",
       "      <td>536.80</td>\n",
       "      <td>1</td>\n",
       "      <td>1</td>\n",
       "      <td>1</td>\n",
       "      <td>0</td>\n",
       "      <td>0</td>\n",
       "      <td>0</td>\n",
       "      <td>1</td>\n",
       "    </tr>\n",
       "    <tr>\n",
       "      <th>63552</th>\n",
       "      <td>2</td>\n",
       "      <td>980.39</td>\n",
       "      <td>1</td>\n",
       "      <td>0</td>\n",
       "      <td>1</td>\n",
       "      <td>0</td>\n",
       "      <td>1</td>\n",
       "      <td>1</td>\n",
       "      <td>0</td>\n",
       "    </tr>\n",
       "    <tr>\n",
       "      <th>63743</th>\n",
       "      <td>5</td>\n",
       "      <td>210.12</td>\n",
       "      <td>0</td>\n",
       "      <td>1</td>\n",
       "      <td>0</td>\n",
       "      <td>1</td>\n",
       "      <td>0</td>\n",
       "      <td>1</td>\n",
       "      <td>0</td>\n",
       "    </tr>\n",
       "    <tr>\n",
       "      <th>63876</th>\n",
       "      <td>2</td>\n",
       "      <td>215.61</td>\n",
       "      <td>1</td>\n",
       "      <td>0</td>\n",
       "      <td>0</td>\n",
       "      <td>0</td>\n",
       "      <td>0</td>\n",
       "      <td>0</td>\n",
       "      <td>1</td>\n",
       "    </tr>\n",
       "    <tr>\n",
       "      <th>63883</th>\n",
       "      <td>1</td>\n",
       "      <td>239.70</td>\n",
       "      <td>1</td>\n",
       "      <td>1</td>\n",
       "      <td>1</td>\n",
       "      <td>0</td>\n",
       "      <td>1</td>\n",
       "      <td>0</td>\n",
       "      <td>1</td>\n",
       "    </tr>\n",
       "  </tbody>\n",
       "</table>\n",
       "<p>578 rows × 9 columns</p>\n",
       "</div>"
      ],
      "text/plain": [
       "       recency  history  mens  womens  newbie  zip_code_Surburban  \\\n",
       "217         10    88.37     0       1       0                   0   \n",
       "267          4   297.80     1       1       0                   0   \n",
       "332         10    29.99     0       1       0                   1   \n",
       "451          6   265.61     0       1       1                   1   \n",
       "459          1   101.99     0       1       0                   1   \n",
       "...        ...      ...   ...     ...     ...                 ...   \n",
       "63466        9   536.80     1       1       1                   0   \n",
       "63552        2   980.39     1       0       1                   0   \n",
       "63743        5   210.12     0       1       0                   1   \n",
       "63876        2   215.61     1       0       0                   0   \n",
       "63883        1   239.70     1       1       1                   0   \n",
       "\n",
       "       zip_code_Urban  channel_Phone  channel_Web  \n",
       "217                 1              1            0  \n",
       "267                 1              1            0  \n",
       "332                 0              0            1  \n",
       "451                 0              0            0  \n",
       "459                 0              0            1  \n",
       "...               ...            ...          ...  \n",
       "63466               0              0            1  \n",
       "63552               1              1            0  \n",
       "63743               0              1            0  \n",
       "63876               0              0            1  \n",
       "63883               1              0            1  \n",
       "\n",
       "[578 rows x 9 columns]"
      ]
     },
     "execution_count": 30,
     "metadata": {},
     "output_type": "execute_result"
    }
   ],
   "source": [
    "X"
   ]
  },
  {
   "cell_type": "markdown",
   "id": "6d02bc9e",
   "metadata": {},
   "source": [
    "#### train model"
   ]
  },
  {
   "cell_type": "code",
   "execution_count": 34,
   "id": "86fa503e",
   "metadata": {},
   "outputs": [
    {
     "data": {
      "text/plain": [
       "Intercept                                   86.340116\n",
       "C(A)[T.No E-Mail]                          -72.636541\n",
       "C(A)[T.Womens E-Mail]                       80.298265\n",
       "recency                                     -0.535940\n",
       "C(A)[T.No E-Mail]:recency                    3.667566\n",
       "C(A)[T.Womens E-Mail]:recency                0.938664\n",
       "history                                     -0.005399\n",
       "C(A)[T.No E-Mail]:history                   -0.006813\n",
       "C(A)[T.Womens E-Mail]:history                0.027592\n",
       "mens                                        25.143276\n",
       "C(A)[T.No E-Mail]:mens                      33.137982\n",
       "C(A)[T.Womens E-Mail]:mens                 -56.033031\n",
       "womens                                       6.923481\n",
       "C(A)[T.No E-Mail]:womens                    21.021383\n",
       "C(A)[T.Womens E-Mail]:womens               -85.180182\n",
       "newbie                                       9.657639\n",
       "C(A)[T.No E-Mail]:newbie                   -33.554932\n",
       "C(A)[T.Womens E-Mail]:newbie               -10.708279\n",
       "zip_code_Surburban                           4.722924\n",
       "C(A)[T.No E-Mail]:zip_code_Surburban        48.520623\n",
       "C(A)[T.Womens E-Mail]:zip_code_Surburban     7.496915\n",
       "zip_code_Urban                              -7.171190\n",
       "C(A)[T.No E-Mail]:zip_code_Urban            32.114015\n",
       "C(A)[T.Womens E-Mail]:zip_code_Urban        41.838176\n",
       "channel_Phone                                6.212860\n",
       "C(A)[T.No E-Mail]:channel_Phone             12.531739\n",
       "C(A)[T.Womens E-Mail]:channel_Phone         -8.744767\n",
       "channel_Web                                 13.713458\n",
       "C(A)[T.No E-Mail]:channel_Web                7.319584\n",
       "C(A)[T.Womens E-Mail]:channel_Web          -20.474710\n",
       "dtype: float64"
      ]
     },
     "execution_count": 34,
     "metadata": {},
     "output_type": "execute_result"
    }
   ],
   "source": [
    "# initialize the learner\n",
    "QLearn = QLearning.QLearning()\n",
    "# specify the model you would like to use\n",
    "# If want to include all the variable in X and A with no specific model structure, then use \"Y~.\"\n",
    "# Otherwise, specify the model structure by hand\n",
    "# Note: if the action space is not binary, use C(A) in the model instead of A\n",
    "model_info = [{\"model\": \"Y~C(A)*(recency+history+mens+womens+newbie+zip_code_Surburban+zip_code_Urban+channel_Phone+channel_Web)\", #default is add an intercept!!!\n",
    "              'action_space':{'A':['Womens E-Mail', 'No E-Mail', 'Mens E-Mail']}}]\n",
    "# train the policy\n",
    "QLearn.train(X, A, Y, model_info, T=1)\n",
    "# Fitted Model\n",
    "QLearn.fitted_model[0].params"
   ]
  },
  {
   "cell_type": "markdown",
   "id": "5adf6943",
   "metadata": {},
   "source": [
    "#### get the optimal regime and the optimal value"
   ]
  },
  {
   "cell_type": "code",
   "execution_count": 35,
   "id": "450d0694",
   "metadata": {},
   "outputs": [
    {
     "name": "stdout",
     "output_type": "stream",
     "text": [
      "opt regime:                  A\n",
      "217  Womens E-Mail\n",
      "267      No E-Mail\n",
      "332      No E-Mail\n",
      "451  Womens E-Mail\n",
      "459      No E-Mail\n",
      "opt value: 140.06857615909965\n"
     ]
    }
   ],
   "source": [
    "# recommend action\n",
    "opt_d = QLearn.recommend(X, A, Y, T=1).head()\n",
    "# get the estimated value of the optimal regime\n",
    "V_hat = QLearn.estimate_value(X,A)\n",
    "print(\"opt regime:\",opt_d)\n",
    "print(\"opt value:\",V_hat)"
   ]
  },
  {
   "cell_type": "markdown",
   "id": "64245392",
   "metadata": {},
   "source": [
    "### 1.2 Policy Evaluation"
   ]
  },
  {
   "cell_type": "code",
   "execution_count": null,
   "id": "b4c28b7c",
   "metadata": {},
   "outputs": [],
   "source": [
    "#input a polivy of interest\n",
    "#estimate the corresponding estimated value and the related statistical inferences"
   ]
  },
  {
   "cell_type": "markdown",
   "id": "34f123df",
   "metadata": {},
   "source": [
    "## 2. Multiple Decision Points\n",
    "\n",
    "- **Application Situation**: Suppose we have a dataset containning observations from $N$ individuals. For each individual $i$, the observed data is structured as follows\n",
    "\\begin{align}\n",
    "(X_{1i},A_{1i},\\cdots,X_{Ti},A_{Ti},Y), i=1,\\cdots, N.\n",
    "\\end{align} Let $h_{ti}=\\{X_{1i},A_{1i},\\cdots,X_{ti}\\})$ includes all the information observed till step t. The target of Q-learning is to find an optimal policy $\\pi$ that can maximize the expected reward received at the end of the final decision point $T$. In other words, by training a model with the observed dataset, we want to find an optimal policy that can help us determine the optimal sequence of actions for each individual to optimize the reward.\n",
    "\n",
    "- **Basic Logic**: For multistage cases, we apply a backward iterative approach, which means that we start from the final decision point T and work our way backward to the initial decision point. At the final step $T$, it is again a standard regression modeling problem that is the same as what we did for the single decision point case. Particularly, we posit a model $Q_{T}(h_{T},a_{T})$ for the observed outcome $Y$, and then the optimal policy at step $T$ is derived as $\\text{arg max}_{\\pi_{T}}Q_{T}(h_{T},\\pi_{T}(h_{T}))$. For the decision point $T-1$ till the decision point $1$, a new term is introduced, which is the pseudo-outcome $\\tilde{Y}_{t}$.\n",
    "\\begin{align}\n",
    "\\tilde{Y}_{t} = \\text{max}_{\\pi_{t}}\\hat{Q}_{t}(h_{t},\\pi_{t}(h_{t}),\\hat{\\beta}_{t})\n",
    "\\end{align} By doing so, the pseudo-outcome taking the **delayed effect** into account to help explore the optimal policy. Then, for each decision point $t<T$, with the $\\tilde{Y}_{t+1}$ calculated, we repeat the regression modeling step for $\\tilde{Y}_{t+1}$. After obtaining the fitted model $\\hat{Q}_{t}(h_{t},a_{t},\\hat{\\beta}_{t})$, the optimal policy is obtained as $\\text{arg max}_{\\pi_{t}}Q_{t}(h_{t},\\pi_{t}(h_{t}))$.\n",
    "\n",
    "- **Key Steps**: \n",
    "    1. At the final decision point $t=T$, fitted a model $\\hat{Q}_{T}(h_{T},a_{T},\\hat{\\beta}_{T})$ for the observed outcome $Y$;\n",
    "    2. For each individual $i$, calculated the pseudo-outcome $\\tilde{Y}_{Ti}=\\text{max}_{\\pi}\\hat{Q}_{T}(h_{Ti},\\pi(h_{Ti}),\\hat{\\beta}_{T})$, and the optimal action $a_{Ti}=\\text{arg max}_{a}\\hat{Q}_{T}(h_{Ti},a,\\hat{\\beta}_{T})$;\n",
    "    3. For decision point $t = T-1,\\cdots, 1$,\n",
    "        1. fitted a model $\\hat{Q}_{t}(h_{t},a_{t},\\hat{\\beta}_{t})$ for the pseudo-outcome $\\tilde{Y}_{t+1}$\n",
    "        2. For each individual $i$, calculated the pseudo-outcome $\\tilde{Y}_{ti}=\\text{max}_{\\pi}\\hat{Q}_{t}(h_{ti},\\pi(h_{ti}),\\hat{\\beta}_{t})$, and the optimal action $a_{ti}=\\text{arg max}_{a}\\hat{Q}_{t}(h_{ti},a,\\hat{\\beta}_{t})$;"
   ]
  },
  {
   "cell_type": "markdown",
   "id": "8c17a08c",
   "metadata": {},
   "source": [
    "### 2.1 Optimal Decision"
   ]
  },
  {
   "cell_type": "markdown",
   "id": "555ef19d",
   "metadata": {},
   "source": [
    "#### import package"
   ]
  },
  {
   "cell_type": "code",
   "execution_count": 36,
   "id": "d540d5ac",
   "metadata": {},
   "outputs": [],
   "source": [
    "# TODO: test the function & feasible set\n",
    "from causaldm.learners import QLearning\n",
    "from causaldm.test import shared_simulation\n",
    "import numpy as np"
   ]
  },
  {
   "cell_type": "markdown",
   "id": "1cbacc80",
   "metadata": {},
   "source": [
    "#### prepare the dataset"
   ]
  },
  {
   "cell_type": "code",
   "execution_count": 37,
   "id": "edfcd3b3",
   "metadata": {},
   "outputs": [],
   "source": [
    "#prepare the dataset (dataset from the DTR book)\n",
    "import pandas as pd\n",
    "dataMDP = pd.read_csv(\"dataMDP_feasible.txt\", sep=',')\n",
    "Y = dataMDP['Y']\n",
    "X = dataMDP[['CD4_0','CD4_6','CD4_12']]\n",
    "A = dataMDP[['A1','A2','A3']]"
   ]
  },
  {
   "cell_type": "markdown",
   "id": "59487149",
   "metadata": {},
   "source": [
    "#### train policy"
   ]
  },
  {
   "cell_type": "code",
   "execution_count": 57,
   "id": "c6d42e87",
   "metadata": {},
   "outputs": [],
   "source": [
    "# initialize the learner\n",
    "QLearn = QLearning.QLearning()\n",
    "# specify the model you would like to use\n",
    "# If want to include all the variable in X and A with no specific model structure, then use \"Y~.\"\n",
    "# Otherwise, specify the model structure by hand\n",
    "# Note: if the action space is not binary, use C(A) in the model instead of A\n",
    "model_info = [{\"model\": \"Y~CD4_0+A1+CD4_0*A1\",\n",
    "              'action_space':{'A1':[0,1]}},\n",
    "             {\"model\": \"Y~CD4_0+CD4_6+A2+CD4_0*A2+CD4_6*A2\",\n",
    "              'action_space':{'A2':[0,1]}},\n",
    "             {\"model\": \"Y~CD4_0+CD4_6+CD4_12+A3+CD4_0*A3+CD4_6*A3+CD4_12*A3\",\n",
    "              'action_space':{'A3':[0,1]}}]\n",
    "\n",
    "# train the policy\n",
    "QLearn.train(X, A, Y, model_info, T=3)"
   ]
  },
  {
   "cell_type": "code",
   "execution_count": 58,
   "id": "2529a1ff",
   "metadata": {},
   "outputs": [
    {
     "data": {
      "text/plain": [
       "Intercept    3.991670\n",
       "CD4_0        3.169780\n",
       "CD4_6       -0.563066\n",
       "A2           3.507539\n",
       "CD4_0:A2     0.015887\n",
       "CD4_6:A2    -0.018986\n",
       "dtype: float64"
      ]
     },
     "execution_count": 58,
     "metadata": {},
     "output_type": "execute_result"
    }
   ],
   "source": [
    "QLearn.fitted_model[1].params"
   ]
  },
  {
   "cell_type": "markdown",
   "id": "bc2a90d2",
   "metadata": {},
   "source": [
    "#### get the recommend actions and optimal value"
   ]
  },
  {
   "cell_type": "code",
   "execution_count": 59,
   "id": "d8ee9ef3",
   "metadata": {},
   "outputs": [
    {
     "name": "stdout",
     "output_type": "stream",
     "text": [
      "opt regime:    A3  A2  A1\n",
      "0   0   0   1\n",
      "1   0   1   1\n",
      "2   0   0   1\n",
      "3   0   1   1\n",
      "4   0   0   1\n",
      "opt value: 1113.0798249862894\n"
     ]
    }
   ],
   "source": [
    "# recommend action\n",
    "opt_d = QLearn.recommend(X, A, Y, T=2).head()\n",
    "# get the estimated value of the optimal regime\n",
    "V_hat = QLearn.estimate_value(X,A)\n",
    "print(\"opt regime:\",opt_d)\n",
    "print(\"opt value:\",V_hat)"
   ]
  },
  {
   "cell_type": "markdown",
   "id": "77cba5af",
   "metadata": {},
   "source": [
    "### 2.2 Policy Evaluation"
   ]
  },
  {
   "cell_type": "code",
   "execution_count": null,
   "id": "f5210b62",
   "metadata": {},
   "outputs": [],
   "source": [
    "#input a polivy of interest\n",
    "#estimate the corresponding estimated value and the related statistical inferences"
   ]
  },
  {
   "cell_type": "markdown",
   "id": "e2edf23e",
   "metadata": {},
   "source": [
    "## 3. Infite Horizon"
   ]
  },
  {
   "cell_type": "markdown",
   "id": "24323fd1",
   "metadata": {},
   "source": [
    "### 3.1 Optimal Decision"
   ]
  },
  {
   "cell_type": "markdown",
   "id": "3840a171",
   "metadata": {},
   "source": [
    "### 3.2 Optimal Decision"
   ]
  },
  {
   "cell_type": "markdown",
   "id": "49706aae",
   "metadata": {},
   "source": [
    "## References\n",
    "1. Murphy, S. A. (2005). A generalization error for Q-learning.\n",
    "2. Song, R., Wang, W., Zeng, D., & Kosorok, M. R. (2015). Penalized q-learning for dynamic treatment regimens. Statistica Sinica, 25(3), 901."
   ]
  }
 ],
 "metadata": {
  "kernelspec": {
   "display_name": "Python 3",
   "language": "python",
   "name": "python3"
  },
  "language_info": {
   "codemirror_mode": {
    "name": "ipython",
    "version": 3
   },
   "file_extension": ".py",
   "mimetype": "text/x-python",
   "name": "python",
   "nbconvert_exporter": "python",
   "pygments_lexer": "ipython3",
   "version": "3.7.11"
  }
 },
 "nbformat": 4,
 "nbformat_minor": 5
}
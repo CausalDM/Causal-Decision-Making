{
 "cells": [
  {
   "cell_type": "markdown",
   "metadata": {
    "id": "mHcFPAA_l4xE"
   },
   "source": [
    "# **Quantile Optimal Treatment Regime**\n",
    "---\n",
    "\n",
    "###    **Motivation:**  \n",
    "Aside from evaluating the performance of a target policy or finding the optimal treatment regimes with respect to the **mean outcome**, it is natural to extend the mean outcome to exploring the whole reward distribution. The easiest way to conduct policy evaluation and optimization is to estimate the quantiles with respect to some quantile levels in $[0,1]$. There are some cases when it is not satisfactory to only evaluate the mean outcome:\n",
    "\n",
    "\n",
    "\n",
    "1.   **The problem of our interest may not be limited to the mean outcome**: For example, when evaluating the performance of a certain policy in prolonging customers watching time on a video platform, one may be interested in how well the policy is in stimulating the customers at the lower 25% tail, so as to improve the overall prevalence of this platform and attract more potential customers.\n",
    "\n",
    "2.   **Heavy tails**: In the case when the reward distribution is naturally heavy-tailed, the performance of directly estimating the mean outcome (or doing optimization) may be very unstable. In this case, we may want to know the whole picture of the outcome distribution in order to do further statistical inferences.\n",
    "3.   **Skewed distribution**: For example, in the cases when we would like to evaluate the survival time of patients, it may be desirable to consider the treatment regime that maximizes the median of the distribution of the potential outcome.\n",
    "\n",
    "\n",
    "Note: the recent work on discrete Q-learning in Moodie et al. (2014)[2] can be\n",
    "applied to \u001c",
    "first estimate the probabilities and then invert them to estimate quantiles, but simply taking the inverse to the cummulative density function may cause a lot of potential problems to the qunatile estimation and optimization. \n",
    "\n",
    "\n",
    "---\n",
    "\n",
    "\n",
    "### **Main Idea:** \n",
    "In recent years, there are more work focusing on quantile estimating the optimal treatment regime in order to maximize the qunatile at level $\\tau$ given a class of feasible treatment regimes $\\mathbb{D}=\\{I(X^T\\beta>0:\\beta\\in \\mathbb{B})\\}$. That is, the objective function is to maximize\n",
    "   $$\\arg\\max_{d\\in \\mathbb{D}}Q_{\\tau}(Y^*(d)),$$\n",
    "where $Q_{\\tau}$ denotes the quantile value at level $\\tau$. \\\\\n",
    "\n",
    "\n",
    "There are multiple ways to estimate the quantile value at a given level $\\tau$: direct method, inverse probability estimator, and doubly robust estimator. Among all of the three methods, doubly robust estimator (or AIPW estimator) is the one that combines the advantages of both direct method and IPW estimator, which allows some part of the model to be misspecified while pretaining the consistency of the estimation. For an AIPW estimator, the quantile can be estimated by\n",
    "$$\n",
    "\\hat{Q}_{\\tau}(\\beta)=\\frac{1}{n}\\sum_{i=1}^n \\left[\\frac{C_i(\\beta)}{\\hat{\\pi}(X_i,\\beta)}\\rho_{\\tau}(Y_i-a)+\\left(1-\\frac{C_i(\\beta)}{\\hat{\\pi}(X_i,\\beta)}\\right)\\rho_{\\tau}(\\hat{Y}_i^{**}-a)\\right],\n",
    "$$\n",
    "where $\\hat{Y}_i^{**}$ is the pseudo outcome generated from the fitted model when following some policy $d(X_i,\\beta)$.\n",
    "Thus, the optimal policy to maximize a specific quantile of the outcome distribution can be obtained by\n",
    "$$\n",
    "\\arg\\max_{\\beta\\in\\mathbb{B}}\\hat{Q}_{\\tau}(\\beta)\n",
    "$$\n",
    "\n",
    "\n",
    "---\n",
    "\n",
    "\n",
    "### **Algorithm:** \n",
    "The main steps of this algorithm can be summarized as follows:\n",
    "\n",
    "\n",
    "1.   Fit the following models by any appropriate method you want: \\\\\n",
    "(a). Propensity score $\\pi(X_i,\\beta)$. Usually the simplest way is to use Logistic regression.\\\\\n",
    "(b). Outcome regression model when treatment $A=1$. We estimate the conditional quantile $Q_{\\tau}(Y^*(1)|X)=g(X,\\beta_1(\\tau))$, for $\\tau$ in a fine grid of $(0,1)$. This yields $\\hat{\\beta}_1(\\tau)$, $\\tau\\in(0,1)$.\\\\\n",
    "(c). Outcome regression model when treatment $A=0$. We estimate the conditional quantile $Q_{\\tau}(Y^*(0)|X)=g(X,\\beta_0(\\tau))$, for $\\tau$ in a fine grid of $(0,1)$. This yields $\\hat{\\beta}_0(\\tau)$, $\\tau\\in(0,1)$.\n",
    "2.  Generate two independent random samples from the uniform distribution on the interval $(0,1)$: $\\{u_{11},\\dots,u_{1n}\\}$ and $\\{u_{01},\\dots,u_{0n}\\}$.\n",
    "3.  Calculate $\\hat{Y}^{**}_i=g(X_i,\\hat{\\beta}_1(u_{1i}))d(X_i,\\beta)+g(X_i,\\hat{\\beta}_0(u_{0i}))(1-d(X_i,\\beta))$, $i=1,\\dots,n$.\n",
    "4.  Using proper methods to find the optimal $\\beta$ for $\\hat{Q}_{\\tau}(\\beta)$. Nelder-mead method was implemented in the following algorithm.\n",
    "\n",
    "\n",
    "\n",
    "---\n",
    "\n",
    "\n",
    "\n",
    "### **Demo:** \n",
    "Next, we will use both the simulation data and a real dataset to illustrate the performance of Quantile Optimal Treatment Regime in Wang et al. (2018) [1].\n",
    "\n",
    "---"
   ]
  },
  {
   "cell_type": "markdown",
   "metadata": {
    "id": "az8TSUUwViFa"
   },
   "source": [
    "## **Single stage setting**"
   ]
  },
  {
   "cell_type": "markdown",
   "metadata": {
    "id": "SDntAIqKCuyv"
   },
   "source": [
    "### **Demo on Simulation data**"
   ]
  },
  {
   "cell_type": "code",
   "execution_count": 1,
   "metadata": {
    "id": "zptaK7DMpIoz"
   },
   "outputs": [],
   "source": [
    "# define some functions to generate the original data\n",
    "\n",
    "# definition of behavior policy (or original treatment function)\n",
    "def b(x1,x2):\n",
    "    if np.shape(x1) == ():\n",
    "      x1 = np.array([x1])\n",
    "    if np.shape(x2) == ():\n",
    "      x2 = np.array([x2])\n",
    "    n = len(x1)\n",
    "    epsilon = 0.25 * np.random.normal(size=n)\n",
    "    return ((x1+x2 + epsilon > 0) + 0)\n",
    "\n",
    "# definition of target policy (or the treatment of our interest)\n",
    "def pi(x1,x2):\n",
    "    if np.shape(x1) == ():\n",
    "      x1 = np.array([x1])\n",
    "    if np.shape(x2) == ():\n",
    "      x2 = np.array([x2])\n",
    "    n = len(x1)\n",
    "    return ((x1+x2 > 0) + 0)\n",
    "\n",
    "# definition of reward function r(x,a), where x denotes states and a denotes actions(treatments)\n",
    "def r(x1, x2, a):\n",
    "    if np.shape(x1) == ():\n",
    "      x1 = np.array([x1])\n",
    "    if np.shape(x2) == ():\n",
    "      x2 = np.array([x2])\n",
    "    if np.shape(a) == ():\n",
    "      a = np.array([a])\n",
    "    n = len(x1)\n",
    "    epsilon = 0.25 * np.random.normal(size=n)\n",
    "    return (np.ones(n) - x1 + 2*a*x1 +2*x2 +0.5*a*x2) * (np.ones(n) + epsilon)"
   ]
  },
  {
   "cell_type": "code",
   "execution_count": 2,
   "metadata": {
    "colab": {
     "base_uri": "https://localhost:8080/",
     "height": 423
    },
    "executionInfo": {
     "elapsed": 240,
     "status": "ok",
     "timestamp": 1646186724584,
     "user": {
      "displayName": "Yang Xu",
      "photoUrl": "https://lh3.googleusercontent.com/a-/AOh14GiwmFvGwaija8HCAZKtLkFQJjRWaWko5tV_i1Zd=s64",
      "userId": "12270366590264264299"
     },
     "user_tz": 300
    },
    "id": "3X-hR0Y8pIo0",
    "outputId": "afa6c8c4-01f4-4ca5-bea5-d6d4a2a3e91e"
   },
   "outputs": [
    {
     "ename": "NameError",
     "evalue": "name 'np' is not defined",
     "output_type": "error",
     "traceback": [
      "\u001b[1;31m---------------------------------------------------------------------------\u001b[0m",
      "\u001b[1;31mNameError\u001b[0m                                 Traceback (most recent call last)",
      "\u001b[1;32m~\\AppData\\Local\\Temp\\ipykernel_28228\\478063769.py\u001b[0m in \u001b[0;36m<module>\u001b[1;34m\u001b[0m\n\u001b[0;32m      1\u001b[0m \u001b[0mn0\u001b[0m \u001b[1;33m=\u001b[0m \u001b[1;33m(\u001b[0m\u001b[1;36m10\u001b[0m\u001b[1;33m**\u001b[0m\u001b[1;36m3\u001b[0m\u001b[1;33m)\u001b[0m  \u001b[1;31m# the number of samples used to estimate the true reward distribution by MC\u001b[0m\u001b[1;33m\u001b[0m\u001b[1;33m\u001b[0m\u001b[0m\n\u001b[0;32m      2\u001b[0m \u001b[1;33m\u001b[0m\u001b[0m\n\u001b[1;32m----> 3\u001b[1;33m \u001b[0mnp\u001b[0m\u001b[1;33m.\u001b[0m\u001b[0mrandom\u001b[0m\u001b[1;33m.\u001b[0m\u001b[0mseed\u001b[0m\u001b[1;33m(\u001b[0m\u001b[0mseed\u001b[0m\u001b[1;33m=\u001b[0m\u001b[1;36m223\u001b[0m\u001b[1;33m)\u001b[0m\u001b[1;33m\u001b[0m\u001b[1;33m\u001b[0m\u001b[0m\n\u001b[0m\u001b[0;32m      4\u001b[0m \u001b[1;32mimport\u001b[0m \u001b[0mpandas\u001b[0m \u001b[1;32mas\u001b[0m \u001b[0mpd\u001b[0m\u001b[1;33m\u001b[0m\u001b[1;33m\u001b[0m\u001b[0m\n\u001b[0;32m      5\u001b[0m \u001b[1;32mimport\u001b[0m \u001b[0mnumpy\u001b[0m \u001b[1;32mas\u001b[0m \u001b[0mnp\u001b[0m\u001b[1;33m\u001b[0m\u001b[1;33m\u001b[0m\u001b[0m\n",
      "\u001b[1;31mNameError\u001b[0m: name 'np' is not defined"
     ]
    }
   ],
   "source": [
    "n0 = (10**3)  # the number of samples used to estimate the true reward distribution by MC\n",
    "\n",
    "np.random.seed(seed=223)\n",
    "import pandas as pd\n",
    "import numpy as np\n",
    "tau=0.5\n",
    "X_1=np.random.normal(loc=-0.5,size=n0)\n",
    "X_2=np.random.normal(loc=0.6,size=n0)\n",
    "A=b(X_1,X_2)\n",
    "Y=r(X_1, X_2, A) \n",
    "data={'X_1':X_1,'X_2':X_2,'A':A,'Y':Y}\n",
    "data=pd.DataFrame(data)\n",
    "(data)"
   ]
  },
  {
   "cell_type": "code",
   "execution_count": null,
   "metadata": {
    "colab": {
     "base_uri": "https://localhost:8080/"
    },
    "executionInfo": {
     "elapsed": 82206,
     "status": "ok",
     "timestamp": 1646186808496,
     "user": {
      "displayName": "Yang Xu",
      "photoUrl": "https://lh3.googleusercontent.com/a-/AOh14GiwmFvGwaija8HCAZKtLkFQJjRWaWko5tV_i1Zd=s64",
      "userId": "12270366590264264299"
     },
     "user_tz": 300
    },
    "id": "y_Jn5v3Jr-Od",
    "outputId": "00b6cff5-876c-40df-8070-39ea2ea178fc"
   },
   "outputs": [
    {
     "name": "stdout",
     "output_type": "stream",
     "text": [
      "Optimization terminated successfully.\n",
      "         Current function value: 0.129150\n",
      "         Iterations: 17\n",
      "         Function evaluations: 18\n",
      "         Gradient evaluations: 18\n"
     ]
    }
   ],
   "source": [
    "# initialize the learner\n",
    "Quantile_OTR=QuantileOTR()\n",
    "\n",
    "# when a=1, Y ~ 1+x1+2.5*x2\n",
    "# when a=0, Y ~ 1-x1+2*x2\n",
    "moCondQuant_0 = ['X_1', 'X_2']\n",
    "moCondQuant_1 = ['X_1', 'X_2']\n",
    "\n",
    "coefficient, coef_original_scale, Q_est=Quantile_OTR.DR_Qopt(data=data, tau=0.5, moCondQuant_0=moCondQuant_0, moCondQuant_1=moCondQuant_1,moPropen = \"NotBinaryRandom\")"
   ]
  },
  {
   "cell_type": "code",
   "execution_count": null,
   "metadata": {
    "colab": {
     "base_uri": "https://localhost:8080/"
    },
    "executionInfo": {
     "elapsed": 240,
     "status": "ok",
     "timestamp": 1646186838552,
     "user": {
      "displayName": "Yang Xu",
      "photoUrl": "https://lh3.googleusercontent.com/a-/AOh14GiwmFvGwaija8HCAZKtLkFQJjRWaWko5tV_i1Zd=s64",
      "userId": "12270366590264264299"
     },
     "user_tz": 300
    },
    "id": "mbsVGvdVBtZP",
    "outputId": "575ab21a-7d05-4bb3-f50a-b3750c1493e1"
   },
   "outputs": [
    {
     "data": {
      "text/plain": [
       "array([0.1668, 0.1462, 2.0194])"
      ]
     },
     "execution_count": 73,
     "metadata": {},
     "output_type": "execute_result"
    }
   ],
   "source": [
    "# the coefficient that maximize the quantile\n",
    "coef_original_scale"
   ]
  },
  {
   "cell_type": "code",
   "execution_count": null,
   "metadata": {
    "colab": {
     "base_uri": "https://localhost:8080/"
    },
    "executionInfo": {
     "elapsed": 7,
     "status": "ok",
     "timestamp": 1646186839583,
     "user": {
      "displayName": "Yang Xu",
      "photoUrl": "https://lh3.googleusercontent.com/a-/AOh14GiwmFvGwaija8HCAZKtLkFQJjRWaWko5tV_i1Zd=s64",
      "userId": "12270366590264264299"
     },
     "user_tz": 300
    },
    "id": "haB3XPvrBugS",
    "outputId": "6fe80c52-3509-4d67-a5b9-01d67a6b7bbc"
   },
   "outputs": [
    {
     "data": {
      "text/plain": [
       "1.8429162304108773"
      ]
     },
     "execution_count": 74,
     "metadata": {},
     "output_type": "execute_result"
    }
   ],
   "source": [
    "# the estimated quantile that corresponds to the optimized coefficient\n",
    "Q_est"
   ]
  },
  {
   "cell_type": "markdown",
   "metadata": {
    "id": "tpiNRm0SFQfF"
   },
   "source": [
    "### **Demo on Real dataset**"
   ]
  },
  {
   "cell_type": "markdown",
   "metadata": {
    "id": "Zv1_l99PQKRK"
   },
   "source": [
    "#### Data pre-processing"
   ]
  },
  {
   "cell_type": "code",
   "execution_count": null,
   "metadata": {
    "colab": {
     "base_uri": "https://localhost:8080/"
    },
    "executionInfo": {
     "elapsed": 4754,
     "status": "ok",
     "timestamp": 1646287145494,
     "user": {
      "displayName": "Yang Xu",
      "photoUrl": "https://lh3.googleusercontent.com/a-/AOh14GiwmFvGwaija8HCAZKtLkFQJjRWaWko5tV_i1Zd=s64",
      "userId": "12270366590264264299"
     },
     "user_tz": 300
    },
    "id": "1Qpbz_njMwfa",
    "outputId": "eefb4314-9be8-4cd9-8df8-5bca0391b1db"
   },
   "outputs": [
    {
     "name": "stdout",
     "output_type": "stream",
     "text": [
      "Collecting scikit-uplift\n",
      "  Downloading scikit_uplift-0.4.0-py3-none-any.whl (38 kB)\n",
      "Requirement already satisfied: pandas in /usr/local/lib/python3.7/dist-packages (from scikit-uplift) (1.3.5)\n",
      "Requirement already satisfied: numpy>=1.16 in /usr/local/lib/python3.7/dist-packages (from scikit-uplift) (1.21.5)\n",
      "Requirement already satisfied: tqdm in /usr/local/lib/python3.7/dist-packages (from scikit-uplift) (4.62.3)\n",
      "Requirement already satisfied: scikit-learn>=0.21.0 in /usr/local/lib/python3.7/dist-packages (from scikit-uplift) (1.0.2)\n",
      "Requirement already satisfied: matplotlib in /usr/local/lib/python3.7/dist-packages (from scikit-uplift) (3.2.2)\n",
      "Requirement already satisfied: requests in /usr/local/lib/python3.7/dist-packages (from scikit-uplift) (2.23.0)\n",
      "Requirement already satisfied: scipy>=1.1.0 in /usr/local/lib/python3.7/dist-packages (from scikit-learn>=0.21.0->scikit-uplift) (1.4.1)\n",
      "Requirement already satisfied: threadpoolctl>=2.0.0 in /usr/local/lib/python3.7/dist-packages (from scikit-learn>=0.21.0->scikit-uplift) (3.1.0)\n",
      "Requirement already satisfied: joblib>=0.11 in /usr/local/lib/python3.7/dist-packages (from scikit-learn>=0.21.0->scikit-uplift) (1.1.0)\n",
      "Requirement already satisfied: kiwisolver>=1.0.1 in /usr/local/lib/python3.7/dist-packages (from matplotlib->scikit-uplift) (1.3.2)\n",
      "Requirement already satisfied: cycler>=0.10 in /usr/local/lib/python3.7/dist-packages (from matplotlib->scikit-uplift) (0.11.0)\n",
      "Requirement already satisfied: python-dateutil>=2.1 in /usr/local/lib/python3.7/dist-packages (from matplotlib->scikit-uplift) (2.8.2)\n",
      "Requirement already satisfied: pyparsing!=2.0.4,!=2.1.2,!=2.1.6,>=2.0.1 in /usr/local/lib/python3.7/dist-packages (from matplotlib->scikit-uplift) (3.0.7)\n",
      "Requirement already satisfied: six>=1.5 in /usr/local/lib/python3.7/dist-packages (from python-dateutil>=2.1->matplotlib->scikit-uplift) (1.15.0)\n",
      "Requirement already satisfied: pytz>=2017.3 in /usr/local/lib/python3.7/dist-packages (from pandas->scikit-uplift) (2018.9)\n",
      "Requirement already satisfied: idna<3,>=2.5 in /usr/local/lib/python3.7/dist-packages (from requests->scikit-uplift) (2.10)\n",
      "Requirement already satisfied: urllib3!=1.25.0,!=1.25.1,<1.26,>=1.21.1 in /usr/local/lib/python3.7/dist-packages (from requests->scikit-uplift) (1.24.3)\n",
      "Requirement already satisfied: certifi>=2017.4.17 in /usr/local/lib/python3.7/dist-packages (from requests->scikit-uplift) (2021.10.8)\n",
      "Requirement already satisfied: chardet<4,>=3.0.2 in /usr/local/lib/python3.7/dist-packages (from requests->scikit-uplift) (3.0.4)\n",
      "Installing collected packages: scikit-uplift\n",
      "Successfully installed scikit-uplift-0.4.0\n"
     ]
    }
   ],
   "source": [
    "!pip install scikit-uplift"
   ]
  },
  {
   "cell_type": "code",
   "execution_count": null,
   "metadata": {
    "colab": {
     "base_uri": "https://localhost:8080/",
     "height": 49,
     "referenced_widgets": [
      "bdf98c9393bf4ae7ad063abbcaf5e97c",
      "0edad8df80734d38b4cd2ae7db228c7c",
      "1649bd7769734961887f19620176eddc",
      "e8f1d07cc61a4eed9bda16b5a665377e",
      "669e181b49b445fa847c0d7356022ba1",
      "d4aa1c6a93a84fb68f8f1cc9dfee32c6",
      "7367a804ac874871905e1af889dbdf69",
      "fe88e3be83c3429a8391072ae104f75a",
      "c84e80e0dfe94c4faccb965115d93b24",
      "3ece95cd496f465b93511722e7a46a15",
      "d9769a4322614de09d6cea0bb85bc2ad"
     ]
    },
    "executionInfo": {
     "elapsed": 788,
     "status": "ok",
     "timestamp": 1646287146278,
     "user": {
      "displayName": "Yang Xu",
      "photoUrl": "https://lh3.googleusercontent.com/a-/AOh14GiwmFvGwaija8HCAZKtLkFQJjRWaWko5tV_i1Zd=s64",
      "userId": "12270366590264264299"
     },
     "user_tz": 300
    },
    "id": "usmkNSUXL84D",
    "outputId": "b9cb47e0-c98d-4588-dbb4-16546cf115b1"
   },
   "outputs": [
    {
     "data": {
      "application/vnd.jupyter.widget-view+json": {
       "model_id": "bdf98c9393bf4ae7ad063abbcaf5e97c",
       "version_major": 2,
       "version_minor": 0
      },
      "text/plain": [
       "  0%|          | 0.00/443k [00:00<?, ?iB/s]"
      ]
     },
     "metadata": {},
     "output_type": "display_data"
    }
   ],
   "source": [
    "from sklift.datasets import fetch_hillstrom\n",
    "# continuous Y\n",
    "data, target, treatment = fetch_hillstrom(target_col='spend', return_X_y_t=True)"
   ]
  },
  {
   "cell_type": "code",
   "execution_count": null,
   "metadata": {
    "colab": {
     "base_uri": "https://localhost:8080/",
     "height": 423
    },
    "executionInfo": {
     "elapsed": 9,
     "status": "ok",
     "timestamp": 1646287146279,
     "user": {
      "displayName": "Yang Xu",
      "photoUrl": "https://lh3.googleusercontent.com/a-/AOh14GiwmFvGwaija8HCAZKtLkFQJjRWaWko5tV_i1Zd=s64",
      "userId": "12270366590264264299"
     },
     "user_tz": 300
    },
    "id": "wGFxbcyFNFtT",
    "outputId": "37ca5ed9-25d0-4df8-cb40-605ed10f1bc6"
   },
   "outputs": [
    {
     "data": {
      "text/html": [
       "\n",
       "  <div id=\"df-eb635698-6eeb-4532-97da-0a6be6827fc0\">\n",
       "    <div class=\"colab-df-container\">\n",
       "      <div>\n",
       "<style scoped>\n",
       "    .dataframe tbody tr th:only-of-type {\n",
       "        vertical-align: middle;\n",
       "    }\n",
       "\n",
       "    .dataframe tbody tr th {\n",
       "        vertical-align: top;\n",
       "    }\n",
       "\n",
       "    .dataframe thead th {\n",
       "        text-align: right;\n",
       "    }\n",
       "</style>\n",
       "<table border=\"1\" class=\"dataframe\">\n",
       "  <thead>\n",
       "    <tr style=\"text-align: right;\">\n",
       "      <th></th>\n",
       "      <th>recency</th>\n",
       "      <th>history_segment</th>\n",
       "      <th>history</th>\n",
       "      <th>mens</th>\n",
       "      <th>womens</th>\n",
       "      <th>zip_code</th>\n",
       "      <th>newbie</th>\n",
       "      <th>channel</th>\n",
       "    </tr>\n",
       "  </thead>\n",
       "  <tbody>\n",
       "    <tr>\n",
       "      <th>0</th>\n",
       "      <td>10</td>\n",
       "      <td>2) $100 - $200</td>\n",
       "      <td>142.44</td>\n",
       "      <td>1</td>\n",
       "      <td>0</td>\n",
       "      <td>Surburban</td>\n",
       "      <td>0</td>\n",
       "      <td>Phone</td>\n",
       "    </tr>\n",
       "    <tr>\n",
       "      <th>1</th>\n",
       "      <td>6</td>\n",
       "      <td>3) $200 - $350</td>\n",
       "      <td>329.08</td>\n",
       "      <td>1</td>\n",
       "      <td>1</td>\n",
       "      <td>Rural</td>\n",
       "      <td>1</td>\n",
       "      <td>Web</td>\n",
       "    </tr>\n",
       "    <tr>\n",
       "      <th>2</th>\n",
       "      <td>7</td>\n",
       "      <td>2) $100 - $200</td>\n",
       "      <td>180.65</td>\n",
       "      <td>0</td>\n",
       "      <td>1</td>\n",
       "      <td>Surburban</td>\n",
       "      <td>1</td>\n",
       "      <td>Web</td>\n",
       "    </tr>\n",
       "    <tr>\n",
       "      <th>3</th>\n",
       "      <td>9</td>\n",
       "      <td>5) $500 - $750</td>\n",
       "      <td>675.83</td>\n",
       "      <td>1</td>\n",
       "      <td>0</td>\n",
       "      <td>Rural</td>\n",
       "      <td>1</td>\n",
       "      <td>Web</td>\n",
       "    </tr>\n",
       "    <tr>\n",
       "      <th>4</th>\n",
       "      <td>2</td>\n",
       "      <td>1) $0 - $100</td>\n",
       "      <td>45.34</td>\n",
       "      <td>1</td>\n",
       "      <td>0</td>\n",
       "      <td>Urban</td>\n",
       "      <td>0</td>\n",
       "      <td>Web</td>\n",
       "    </tr>\n",
       "    <tr>\n",
       "      <th>...</th>\n",
       "      <td>...</td>\n",
       "      <td>...</td>\n",
       "      <td>...</td>\n",
       "      <td>...</td>\n",
       "      <td>...</td>\n",
       "      <td>...</td>\n",
       "      <td>...</td>\n",
       "      <td>...</td>\n",
       "    </tr>\n",
       "    <tr>\n",
       "      <th>63995</th>\n",
       "      <td>10</td>\n",
       "      <td>2) $100 - $200</td>\n",
       "      <td>105.54</td>\n",
       "      <td>1</td>\n",
       "      <td>0</td>\n",
       "      <td>Urban</td>\n",
       "      <td>0</td>\n",
       "      <td>Web</td>\n",
       "    </tr>\n",
       "    <tr>\n",
       "      <th>63996</th>\n",
       "      <td>5</td>\n",
       "      <td>1) $0 - $100</td>\n",
       "      <td>38.91</td>\n",
       "      <td>0</td>\n",
       "      <td>1</td>\n",
       "      <td>Urban</td>\n",
       "      <td>1</td>\n",
       "      <td>Phone</td>\n",
       "    </tr>\n",
       "    <tr>\n",
       "      <th>63997</th>\n",
       "      <td>6</td>\n",
       "      <td>1) $0 - $100</td>\n",
       "      <td>29.99</td>\n",
       "      <td>1</td>\n",
       "      <td>0</td>\n",
       "      <td>Urban</td>\n",
       "      <td>1</td>\n",
       "      <td>Phone</td>\n",
       "    </tr>\n",
       "    <tr>\n",
       "      <th>63998</th>\n",
       "      <td>1</td>\n",
       "      <td>5) $500 - $750</td>\n",
       "      <td>552.94</td>\n",
       "      <td>1</td>\n",
       "      <td>0</td>\n",
       "      <td>Surburban</td>\n",
       "      <td>1</td>\n",
       "      <td>Multichannel</td>\n",
       "    </tr>\n",
       "    <tr>\n",
       "      <th>63999</th>\n",
       "      <td>1</td>\n",
       "      <td>4) $350 - $500</td>\n",
       "      <td>472.82</td>\n",
       "      <td>0</td>\n",
       "      <td>1</td>\n",
       "      <td>Surburban</td>\n",
       "      <td>0</td>\n",
       "      <td>Web</td>\n",
       "    </tr>\n",
       "  </tbody>\n",
       "</table>\n",
       "<p>64000 rows × 8 columns</p>\n",
       "</div>\n",
       "      <button class=\"colab-df-convert\" onclick=\"convertToInteractive('df-eb635698-6eeb-4532-97da-0a6be6827fc0')\"\n",
       "              title=\"Convert this dataframe to an interactive table.\"\n",
       "              style=\"display:none;\">\n",
       "\n",
       "  <svg xmlns=\"http://www.w3.org/2000/svg\" height=\"24px\"viewBox=\"0 0 24 24\"\n",
       "       width=\"24px\">\n",
       "    <path d=\"M0 0h24v24H0V0z\" fill=\"none\"/>\n",
       "    <path d=\"M18.56 5.44l.94 2.06.94-2.06 2.06-.94-2.06-.94-.94-2.06-.94 2.06-2.06.94zm-11 1L8.5 8.5l.94-2.06 2.06-.94-2.06-.94L8.5 2.5l-.94 2.06-2.06.94zm10 10l.94 2.06.94-2.06 2.06-.94-2.06-.94-.94-2.06-.94 2.06-2.06.94z\"/><path d=\"M17.41 7.96l-1.37-1.37c-.4-.4-.92-.59-1.43-.59-.52 0-1.04.2-1.43.59L10.3 9.45l-7.72 7.72c-.78.78-.78 2.05 0 2.83L4 21.41c.39.39.9.59 1.41.59.51 0 1.02-.2 1.41-.59l7.78-7.78 2.81-2.81c.8-.78.8-2.07 0-2.86zM5.41 20L4 18.59l7.72-7.72 1.47 1.35L5.41 20z\"/>\n",
       "  </svg>\n",
       "      </button>\n",
       "\n",
       "  <style>\n",
       "    .colab-df-container {\n",
       "      display:flex;\n",
       "      flex-wrap:wrap;\n",
       "      gap: 12px;\n",
       "    }\n",
       "\n",
       "    .colab-df-convert {\n",
       "      background-color: #E8F0FE;\n",
       "      border: none;\n",
       "      border-radius: 50%;\n",
       "      cursor: pointer;\n",
       "      display: none;\n",
       "      fill: #1967D2;\n",
       "      height: 32px;\n",
       "      padding: 0 0 0 0;\n",
       "      width: 32px;\n",
       "    }\n",
       "\n",
       "    .colab-df-convert:hover {\n",
       "      background-color: #E2EBFA;\n",
       "      box-shadow: 0px 1px 2px rgba(60, 64, 67, 0.3), 0px 1px 3px 1px rgba(60, 64, 67, 0.15);\n",
       "      fill: #174EA6;\n",
       "    }\n",
       "\n",
       "    [theme=dark] .colab-df-convert {\n",
       "      background-color: #3B4455;\n",
       "      fill: #D2E3FC;\n",
       "    }\n",
       "\n",
       "    [theme=dark] .colab-df-convert:hover {\n",
       "      background-color: #434B5C;\n",
       "      box-shadow: 0px 1px 3px 1px rgba(0, 0, 0, 0.15);\n",
       "      filter: drop-shadow(0px 1px 2px rgba(0, 0, 0, 0.3));\n",
       "      fill: #FFFFFF;\n",
       "    }\n",
       "  </style>\n",
       "\n",
       "      <script>\n",
       "        const buttonEl =\n",
       "          document.querySelector('#df-eb635698-6eeb-4532-97da-0a6be6827fc0 button.colab-df-convert');\n",
       "        buttonEl.style.display =\n",
       "          google.colab.kernel.accessAllowed ? 'block' : 'none';\n",
       "\n",
       "        async function convertToInteractive(key) {\n",
       "          const element = document.querySelector('#df-eb635698-6eeb-4532-97da-0a6be6827fc0');\n",
       "          const dataTable =\n",
       "            await google.colab.kernel.invokeFunction('convertToInteractive',\n",
       "                                                     [key], {});\n",
       "          if (!dataTable) return;\n",
       "\n",
       "          const docLinkHtml = 'Like what you see? Visit the ' +\n",
       "            '<a target=\"_blank\" href=https://colab.research.google.com/notebooks/data_table.ipynb>data table notebook</a>'\n",
       "            + ' to learn more about interactive tables.';\n",
       "          element.innerHTML = '';\n",
       "          dataTable['output_type'] = 'display_data';\n",
       "          await google.colab.output.renderOutput(dataTable, element);\n",
       "          const docLink = document.createElement('div');\n",
       "          docLink.innerHTML = docLinkHtml;\n",
       "          element.appendChild(docLink);\n",
       "        }\n",
       "      </script>\n",
       "    </div>\n",
       "  </div>\n"
      ],
      "text/plain": [
       "       recency history_segment  history  ...   zip_code  newbie       channel\n",
       "0           10  2) $100 - $200   142.44  ...  Surburban       0         Phone\n",
       "1            6  3) $200 - $350   329.08  ...      Rural       1           Web\n",
       "2            7  2) $100 - $200   180.65  ...  Surburban       1           Web\n",
       "3            9  5) $500 - $750   675.83  ...      Rural       1           Web\n",
       "4            2    1) $0 - $100    45.34  ...      Urban       0           Web\n",
       "...        ...             ...      ...  ...        ...     ...           ...\n",
       "63995       10  2) $100 - $200   105.54  ...      Urban       0           Web\n",
       "63996        5    1) $0 - $100    38.91  ...      Urban       1         Phone\n",
       "63997        6    1) $0 - $100    29.99  ...      Urban       1         Phone\n",
       "63998        1  5) $500 - $750   552.94  ...  Surburban       1  Multichannel\n",
       "63999        1  4) $350 - $500   472.82  ...  Surburban       0           Web\n",
       "\n",
       "[64000 rows x 8 columns]"
      ]
     },
     "execution_count": 6,
     "metadata": {},
     "output_type": "execute_result"
    }
   ],
   "source": [
    "data"
   ]
  },
  {
   "cell_type": "code",
   "execution_count": null,
   "metadata": {
    "colab": {
     "base_uri": "https://localhost:8080/"
    },
    "executionInfo": {
     "elapsed": 250,
     "status": "ok",
     "timestamp": 1646287150226,
     "user": {
      "displayName": "Yang Xu",
      "photoUrl": "https://lh3.googleusercontent.com/a-/AOh14GiwmFvGwaija8HCAZKtLkFQJjRWaWko5tV_i1Zd=s64",
      "userId": "12270366590264264299"
     },
     "user_tz": 300
    },
    "id": "tZ7FM7IUOBwy",
    "outputId": "a2a20d00-6306-43d6-f5f3-6c779852e14f"
   },
   "outputs": [
    {
     "data": {
      "text/plain": [
       "578"
      ]
     },
     "execution_count": 7,
     "metadata": {},
     "output_type": "execute_result"
    }
   ],
   "source": [
    "np.sum(target!=0) # only 578 samples among a total of 64000 have non-zero spend"
   ]
  },
  {
   "cell_type": "code",
   "execution_count": null,
   "metadata": {
    "colab": {
     "base_uri": "https://localhost:8080/"
    },
    "executionInfo": {
     "elapsed": 213,
     "status": "ok",
     "timestamp": 1646287152030,
     "user": {
      "displayName": "Yang Xu",
      "photoUrl": "https://lh3.googleusercontent.com/a-/AOh14GiwmFvGwaija8HCAZKtLkFQJjRWaWko5tV_i1Zd=s64",
      "userId": "12270366590264264299"
     },
     "user_tz": 300
    },
    "id": "V4AYP4wfOZcu",
    "outputId": "fa7687c5-d7db-441d-9a70-c33bfe02b9f1"
   },
   "outputs": [
    {
     "data": {
      "text/plain": [
       "217      1\n",
       "267      1\n",
       "332      0\n",
       "451      1\n",
       "459      1\n",
       "        ..\n",
       "63466    0\n",
       "63552    0\n",
       "63743    1\n",
       "63876    1\n",
       "63883    1\n",
       "Name: segment, Length: 578, dtype: int64"
      ]
     },
     "execution_count": 8,
     "metadata": {},
     "output_type": "execute_result"
    }
   ],
   "source": [
    "treatment.replace(['Womens E-Mail', 'No E-Mail', 'Mens E-Mail'],[1, 0, 1], inplace=True) \n",
    "treatment[target>0]"
   ]
  },
  {
   "cell_type": "code",
   "execution_count": null,
   "metadata": {
    "colab": {
     "base_uri": "https://localhost:8080/",
     "height": 70
    },
    "executionInfo": {
     "elapsed": 281,
     "status": "ok",
     "timestamp": 1646287154030,
     "user": {
      "displayName": "Yang Xu",
      "photoUrl": "https://lh3.googleusercontent.com/a-/AOh14GiwmFvGwaija8HCAZKtLkFQJjRWaWko5tV_i1Zd=s64",
      "userId": "12270366590264264299"
     },
     "user_tz": 300
    },
    "id": "08owpE7_FVU6",
    "outputId": "acb13919-3bd1-46d7-f803-0c7c64b049a4"
   },
   "outputs": [
    {
     "data": {
      "application/vnd.google.colaboratory.intrinsic+json": {
       "type": "string"
      },
      "text/plain": [
       "\"\\nY = np.array(target)\\nX = np.hstack([np.ones((len(data),1)),np.array(data)])# add an intercept column\\n# convert the categorical variable into integers with treatment 0 = No emails\\ntreatment.replace(['Womens E-Mail', 'No E-Mail', 'Mens E-Mail'],[1, 0, 2], inplace=True) \\ntreatment = np.array(treatment)\\n#get the subset which has Y>0 == n=578\\nX = X[Y>0]\\nA = {}\\nA[0] = treatment[Y>0]\\nY = Y[Y>0]\\n\""
      ]
     },
     "execution_count": 9,
     "metadata": {},
     "output_type": "execute_result"
    }
   ],
   "source": [
    "# use pd.concat to join the new columns with your original dataframe\n",
    "data = pd.concat([data,pd.get_dummies(data['zip_code'], prefix='zip_code')],axis=1)\n",
    "data = pd.concat([data,pd.get_dummies(data['channel'], prefix='channel')],axis=1)\n",
    "# now drop the original 'country' column (you don't need it anymore)\n",
    "data.drop(['zip_code'],axis=1, inplace=True)\n",
    "data.drop(['channel'],axis=1, inplace=True)\n",
    "data.drop(['history_segment'],axis=1, inplace=True)\n",
    "data.drop(['zip_code_Rural'],axis=1, inplace=True) # Rural as the reference group\n",
    "data.drop(['channel_Multichannel'],axis=1, inplace=True) # Multichannel as the reference group \n",
    "\n",
    "'''\n",
    "Y = np.array(target)\n",
    "X = np.hstack([np.ones((len(data),1)),np.array(data)])# add an intercept column\n",
    "# convert the categorical variable into integers with treatment 0 = No emails\n",
    "treatment.replace(['Womens E-Mail', 'No E-Mail', 'Mens E-Mail'],[1, 0, 2], inplace=True) \n",
    "treatment = np.array(treatment)\n",
    "#get the subset which has Y>0 == n=578\n",
    "X = X[Y>0]\n",
    "A = {}\n",
    "A[0] = treatment[Y>0]\n",
    "Y = Y[Y>0]\n",
    "'''"
   ]
  },
  {
   "cell_type": "code",
   "execution_count": null,
   "metadata": {
    "colab": {
     "base_uri": "https://localhost:8080/",
     "height": 423
    },
    "executionInfo": {
     "elapsed": 282,
     "status": "ok",
     "timestamp": 1646287154882,
     "user": {
      "displayName": "Yang Xu",
      "photoUrl": "https://lh3.googleusercontent.com/a-/AOh14GiwmFvGwaija8HCAZKtLkFQJjRWaWko5tV_i1Zd=s64",
      "userId": "12270366590264264299"
     },
     "user_tz": 300
    },
    "id": "5-9157fiSJN_",
    "outputId": "d8dada94-c0ab-4fb0-b7a8-4215270d46d5"
   },
   "outputs": [
    {
     "data": {
      "text/html": [
       "\n",
       "  <div id=\"df-c0b27461-069c-46f3-b363-7b1bd3c32307\">\n",
       "    <div class=\"colab-df-container\">\n",
       "      <div>\n",
       "<style scoped>\n",
       "    .dataframe tbody tr th:only-of-type {\n",
       "        vertical-align: middle;\n",
       "    }\n",
       "\n",
       "    .dataframe tbody tr th {\n",
       "        vertical-align: top;\n",
       "    }\n",
       "\n",
       "    .dataframe thead th {\n",
       "        text-align: right;\n",
       "    }\n",
       "</style>\n",
       "<table border=\"1\" class=\"dataframe\">\n",
       "  <thead>\n",
       "    <tr style=\"text-align: right;\">\n",
       "      <th></th>\n",
       "      <th>recency</th>\n",
       "      <th>history</th>\n",
       "      <th>mens</th>\n",
       "      <th>womens</th>\n",
       "      <th>newbie</th>\n",
       "      <th>zip_code_Surburban</th>\n",
       "      <th>zip_code_Urban</th>\n",
       "      <th>channel_Phone</th>\n",
       "      <th>channel_Web</th>\n",
       "    </tr>\n",
       "  </thead>\n",
       "  <tbody>\n",
       "    <tr>\n",
       "      <th>0</th>\n",
       "      <td>10</td>\n",
       "      <td>142.44</td>\n",
       "      <td>1</td>\n",
       "      <td>0</td>\n",
       "      <td>0</td>\n",
       "      <td>1</td>\n",
       "      <td>0</td>\n",
       "      <td>1</td>\n",
       "      <td>0</td>\n",
       "    </tr>\n",
       "    <tr>\n",
       "      <th>1</th>\n",
       "      <td>6</td>\n",
       "      <td>329.08</td>\n",
       "      <td>1</td>\n",
       "      <td>1</td>\n",
       "      <td>1</td>\n",
       "      <td>0</td>\n",
       "      <td>0</td>\n",
       "      <td>0</td>\n",
       "      <td>1</td>\n",
       "    </tr>\n",
       "    <tr>\n",
       "      <th>2</th>\n",
       "      <td>7</td>\n",
       "      <td>180.65</td>\n",
       "      <td>0</td>\n",
       "      <td>1</td>\n",
       "      <td>1</td>\n",
       "      <td>1</td>\n",
       "      <td>0</td>\n",
       "      <td>0</td>\n",
       "      <td>1</td>\n",
       "    </tr>\n",
       "    <tr>\n",
       "      <th>3</th>\n",
       "      <td>9</td>\n",
       "      <td>675.83</td>\n",
       "      <td>1</td>\n",
       "      <td>0</td>\n",
       "      <td>1</td>\n",
       "      <td>0</td>\n",
       "      <td>0</td>\n",
       "      <td>0</td>\n",
       "      <td>1</td>\n",
       "    </tr>\n",
       "    <tr>\n",
       "      <th>4</th>\n",
       "      <td>2</td>\n",
       "      <td>45.34</td>\n",
       "      <td>1</td>\n",
       "      <td>0</td>\n",
       "      <td>0</td>\n",
       "      <td>0</td>\n",
       "      <td>1</td>\n",
       "      <td>0</td>\n",
       "      <td>1</td>\n",
       "    </tr>\n",
       "    <tr>\n",
       "      <th>...</th>\n",
       "      <td>...</td>\n",
       "      <td>...</td>\n",
       "      <td>...</td>\n",
       "      <td>...</td>\n",
       "      <td>...</td>\n",
       "      <td>...</td>\n",
       "      <td>...</td>\n",
       "      <td>...</td>\n",
       "      <td>...</td>\n",
       "    </tr>\n",
       "    <tr>\n",
       "      <th>63995</th>\n",
       "      <td>10</td>\n",
       "      <td>105.54</td>\n",
       "      <td>1</td>\n",
       "      <td>0</td>\n",
       "      <td>0</td>\n",
       "      <td>0</td>\n",
       "      <td>1</td>\n",
       "      <td>0</td>\n",
       "      <td>1</td>\n",
       "    </tr>\n",
       "    <tr>\n",
       "      <th>63996</th>\n",
       "      <td>5</td>\n",
       "      <td>38.91</td>\n",
       "      <td>0</td>\n",
       "      <td>1</td>\n",
       "      <td>1</td>\n",
       "      <td>0</td>\n",
       "      <td>1</td>\n",
       "      <td>1</td>\n",
       "      <td>0</td>\n",
       "    </tr>\n",
       "    <tr>\n",
       "      <th>63997</th>\n",
       "      <td>6</td>\n",
       "      <td>29.99</td>\n",
       "      <td>1</td>\n",
       "      <td>0</td>\n",
       "      <td>1</td>\n",
       "      <td>0</td>\n",
       "      <td>1</td>\n",
       "      <td>1</td>\n",
       "      <td>0</td>\n",
       "    </tr>\n",
       "    <tr>\n",
       "      <th>63998</th>\n",
       "      <td>1</td>\n",
       "      <td>552.94</td>\n",
       "      <td>1</td>\n",
       "      <td>0</td>\n",
       "      <td>1</td>\n",
       "      <td>1</td>\n",
       "      <td>0</td>\n",
       "      <td>0</td>\n",
       "      <td>0</td>\n",
       "    </tr>\n",
       "    <tr>\n",
       "      <th>63999</th>\n",
       "      <td>1</td>\n",
       "      <td>472.82</td>\n",
       "      <td>0</td>\n",
       "      <td>1</td>\n",
       "      <td>0</td>\n",
       "      <td>1</td>\n",
       "      <td>0</td>\n",
       "      <td>0</td>\n",
       "      <td>1</td>\n",
       "    </tr>\n",
       "  </tbody>\n",
       "</table>\n",
       "<p>64000 rows × 9 columns</p>\n",
       "</div>\n",
       "      <button class=\"colab-df-convert\" onclick=\"convertToInteractive('df-c0b27461-069c-46f3-b363-7b1bd3c32307')\"\n",
       "              title=\"Convert this dataframe to an interactive table.\"\n",
       "              style=\"display:none;\">\n",
       "\n",
       "  <svg xmlns=\"http://www.w3.org/2000/svg\" height=\"24px\"viewBox=\"0 0 24 24\"\n",
       "       width=\"24px\">\n",
       "    <path d=\"M0 0h24v24H0V0z\" fill=\"none\"/>\n",
       "    <path d=\"M18.56 5.44l.94 2.06.94-2.06 2.06-.94-2.06-.94-.94-2.06-.94 2.06-2.06.94zm-11 1L8.5 8.5l.94-2.06 2.06-.94-2.06-.94L8.5 2.5l-.94 2.06-2.06.94zm10 10l.94 2.06.94-2.06 2.06-.94-2.06-.94-.94-2.06-.94 2.06-2.06.94z\"/><path d=\"M17.41 7.96l-1.37-1.37c-.4-.4-.92-.59-1.43-.59-.52 0-1.04.2-1.43.59L10.3 9.45l-7.72 7.72c-.78.78-.78 2.05 0 2.83L4 21.41c.39.39.9.59 1.41.59.51 0 1.02-.2 1.41-.59l7.78-7.78 2.81-2.81c.8-.78.8-2.07 0-2.86zM5.41 20L4 18.59l7.72-7.72 1.47 1.35L5.41 20z\"/>\n",
       "  </svg>\n",
       "      </button>\n",
       "\n",
       "  <style>\n",
       "    .colab-df-container {\n",
       "      display:flex;\n",
       "      flex-wrap:wrap;\n",
       "      gap: 12px;\n",
       "    }\n",
       "\n",
       "    .colab-df-convert {\n",
       "      background-color: #E8F0FE;\n",
       "      border: none;\n",
       "      border-radius: 50%;\n",
       "      cursor: pointer;\n",
       "      display: none;\n",
       "      fill: #1967D2;\n",
       "      height: 32px;\n",
       "      padding: 0 0 0 0;\n",
       "      width: 32px;\n",
       "    }\n",
       "\n",
       "    .colab-df-convert:hover {\n",
       "      background-color: #E2EBFA;\n",
       "      box-shadow: 0px 1px 2px rgba(60, 64, 67, 0.3), 0px 1px 3px 1px rgba(60, 64, 67, 0.15);\n",
       "      fill: #174EA6;\n",
       "    }\n",
       "\n",
       "    [theme=dark] .colab-df-convert {\n",
       "      background-color: #3B4455;\n",
       "      fill: #D2E3FC;\n",
       "    }\n",
       "\n",
       "    [theme=dark] .colab-df-convert:hover {\n",
       "      background-color: #434B5C;\n",
       "      box-shadow: 0px 1px 3px 1px rgba(0, 0, 0, 0.15);\n",
       "      filter: drop-shadow(0px 1px 2px rgba(0, 0, 0, 0.3));\n",
       "      fill: #FFFFFF;\n",
       "    }\n",
       "  </style>\n",
       "\n",
       "      <script>\n",
       "        const buttonEl =\n",
       "          document.querySelector('#df-c0b27461-069c-46f3-b363-7b1bd3c32307 button.colab-df-convert');\n",
       "        buttonEl.style.display =\n",
       "          google.colab.kernel.accessAllowed ? 'block' : 'none';\n",
       "\n",
       "        async function convertToInteractive(key) {\n",
       "          const element = document.querySelector('#df-c0b27461-069c-46f3-b363-7b1bd3c32307');\n",
       "          const dataTable =\n",
       "            await google.colab.kernel.invokeFunction('convertToInteractive',\n",
       "                                                     [key], {});\n",
       "          if (!dataTable) return;\n",
       "\n",
       "          const docLinkHtml = 'Like what you see? Visit the ' +\n",
       "            '<a target=\"_blank\" href=https://colab.research.google.com/notebooks/data_table.ipynb>data table notebook</a>'\n",
       "            + ' to learn more about interactive tables.';\n",
       "          element.innerHTML = '';\n",
       "          dataTable['output_type'] = 'display_data';\n",
       "          await google.colab.output.renderOutput(dataTable, element);\n",
       "          const docLink = document.createElement('div');\n",
       "          docLink.innerHTML = docLinkHtml;\n",
       "          element.appendChild(docLink);\n",
       "        }\n",
       "      </script>\n",
       "    </div>\n",
       "  </div>\n"
      ],
      "text/plain": [
       "       recency  history  mens  ...  zip_code_Urban  channel_Phone  channel_Web\n",
       "0           10   142.44     1  ...               0              1            0\n",
       "1            6   329.08     1  ...               0              0            1\n",
       "2            7   180.65     0  ...               0              0            1\n",
       "3            9   675.83     1  ...               0              0            1\n",
       "4            2    45.34     1  ...               1              0            1\n",
       "...        ...      ...   ...  ...             ...            ...          ...\n",
       "63995       10   105.54     1  ...               1              0            1\n",
       "63996        5    38.91     0  ...               1              1            0\n",
       "63997        6    29.99     1  ...               1              1            0\n",
       "63998        1   552.94     1  ...               0              0            0\n",
       "63999        1   472.82     0  ...               0              0            1\n",
       "\n",
       "[64000 rows x 9 columns]"
      ]
     },
     "execution_count": 10,
     "metadata": {},
     "output_type": "execute_result"
    }
   ],
   "source": [
    "data"
   ]
  },
  {
   "cell_type": "code",
   "execution_count": null,
   "metadata": {
    "colab": {
     "base_uri": "https://localhost:8080/",
     "height": 423
    },
    "executionInfo": {
     "elapsed": 306,
     "status": "ok",
     "timestamp": 1646287157644,
     "user": {
      "displayName": "Yang Xu",
      "photoUrl": "https://lh3.googleusercontent.com/a-/AOh14GiwmFvGwaija8HCAZKtLkFQJjRWaWko5tV_i1Zd=s64",
      "userId": "12270366590264264299"
     },
     "user_tz": 300
    },
    "id": "9VpcqGDPR5h1",
    "outputId": "32c34f89-ce1b-403e-9155-76778e6dc410"
   },
   "outputs": [
    {
     "data": {
      "text/html": [
       "\n",
       "  <div id=\"df-e5f076d0-9ab5-4e88-9b48-cb07cbffcf17\">\n",
       "    <div class=\"colab-df-container\">\n",
       "      <div>\n",
       "<style scoped>\n",
       "    .dataframe tbody tr th:only-of-type {\n",
       "        vertical-align: middle;\n",
       "    }\n",
       "\n",
       "    .dataframe tbody tr th {\n",
       "        vertical-align: top;\n",
       "    }\n",
       "\n",
       "    .dataframe thead th {\n",
       "        text-align: right;\n",
       "    }\n",
       "</style>\n",
       "<table border=\"1\" class=\"dataframe\">\n",
       "  <thead>\n",
       "    <tr style=\"text-align: right;\">\n",
       "      <th></th>\n",
       "      <th>recency</th>\n",
       "      <th>history</th>\n",
       "      <th>mens</th>\n",
       "      <th>womens</th>\n",
       "      <th>newbie</th>\n",
       "      <th>zip_code_Surburban</th>\n",
       "      <th>zip_code_Urban</th>\n",
       "      <th>channel_Phone</th>\n",
       "      <th>channel_Web</th>\n",
       "      <th>A</th>\n",
       "      <th>Y</th>\n",
       "    </tr>\n",
       "  </thead>\n",
       "  <tbody>\n",
       "    <tr>\n",
       "      <th>217</th>\n",
       "      <td>10</td>\n",
       "      <td>88.37</td>\n",
       "      <td>0</td>\n",
       "      <td>1</td>\n",
       "      <td>0</td>\n",
       "      <td>0</td>\n",
       "      <td>1</td>\n",
       "      <td>1</td>\n",
       "      <td>0</td>\n",
       "      <td>1</td>\n",
       "      <td>29.99</td>\n",
       "    </tr>\n",
       "    <tr>\n",
       "      <th>267</th>\n",
       "      <td>4</td>\n",
       "      <td>297.80</td>\n",
       "      <td>1</td>\n",
       "      <td>1</td>\n",
       "      <td>0</td>\n",
       "      <td>0</td>\n",
       "      <td>1</td>\n",
       "      <td>1</td>\n",
       "      <td>0</td>\n",
       "      <td>1</td>\n",
       "      <td>264.66</td>\n",
       "    </tr>\n",
       "    <tr>\n",
       "      <th>332</th>\n",
       "      <td>10</td>\n",
       "      <td>29.99</td>\n",
       "      <td>0</td>\n",
       "      <td>1</td>\n",
       "      <td>0</td>\n",
       "      <td>1</td>\n",
       "      <td>0</td>\n",
       "      <td>0</td>\n",
       "      <td>1</td>\n",
       "      <td>0</td>\n",
       "      <td>149.28</td>\n",
       "    </tr>\n",
       "    <tr>\n",
       "      <th>451</th>\n",
       "      <td>6</td>\n",
       "      <td>265.61</td>\n",
       "      <td>0</td>\n",
       "      <td>1</td>\n",
       "      <td>1</td>\n",
       "      <td>1</td>\n",
       "      <td>0</td>\n",
       "      <td>0</td>\n",
       "      <td>0</td>\n",
       "      <td>1</td>\n",
       "      <td>42.66</td>\n",
       "    </tr>\n",
       "    <tr>\n",
       "      <th>459</th>\n",
       "      <td>1</td>\n",
       "      <td>101.99</td>\n",
       "      <td>0</td>\n",
       "      <td>1</td>\n",
       "      <td>0</td>\n",
       "      <td>1</td>\n",
       "      <td>0</td>\n",
       "      <td>0</td>\n",
       "      <td>1</td>\n",
       "      <td>1</td>\n",
       "      <td>29.99</td>\n",
       "    </tr>\n",
       "    <tr>\n",
       "      <th>...</th>\n",
       "      <td>...</td>\n",
       "      <td>...</td>\n",
       "      <td>...</td>\n",
       "      <td>...</td>\n",
       "      <td>...</td>\n",
       "      <td>...</td>\n",
       "      <td>...</td>\n",
       "      <td>...</td>\n",
       "      <td>...</td>\n",
       "      <td>...</td>\n",
       "      <td>...</td>\n",
       "    </tr>\n",
       "    <tr>\n",
       "      <th>63466</th>\n",
       "      <td>9</td>\n",
       "      <td>536.80</td>\n",
       "      <td>1</td>\n",
       "      <td>1</td>\n",
       "      <td>1</td>\n",
       "      <td>0</td>\n",
       "      <td>0</td>\n",
       "      <td>0</td>\n",
       "      <td>1</td>\n",
       "      <td>0</td>\n",
       "      <td>117.84</td>\n",
       "    </tr>\n",
       "    <tr>\n",
       "      <th>63552</th>\n",
       "      <td>2</td>\n",
       "      <td>980.39</td>\n",
       "      <td>1</td>\n",
       "      <td>0</td>\n",
       "      <td>1</td>\n",
       "      <td>0</td>\n",
       "      <td>1</td>\n",
       "      <td>1</td>\n",
       "      <td>0</td>\n",
       "      <td>0</td>\n",
       "      <td>90.57</td>\n",
       "    </tr>\n",
       "    <tr>\n",
       "      <th>63743</th>\n",
       "      <td>5</td>\n",
       "      <td>210.12</td>\n",
       "      <td>0</td>\n",
       "      <td>1</td>\n",
       "      <td>0</td>\n",
       "      <td>1</td>\n",
       "      <td>0</td>\n",
       "      <td>1</td>\n",
       "      <td>0</td>\n",
       "      <td>1</td>\n",
       "      <td>113.44</td>\n",
       "    </tr>\n",
       "    <tr>\n",
       "      <th>63876</th>\n",
       "      <td>2</td>\n",
       "      <td>215.61</td>\n",
       "      <td>1</td>\n",
       "      <td>0</td>\n",
       "      <td>0</td>\n",
       "      <td>0</td>\n",
       "      <td>0</td>\n",
       "      <td>0</td>\n",
       "      <td>1</td>\n",
       "      <td>1</td>\n",
       "      <td>99.49</td>\n",
       "    </tr>\n",
       "    <tr>\n",
       "      <th>63883</th>\n",
       "      <td>1</td>\n",
       "      <td>239.70</td>\n",
       "      <td>1</td>\n",
       "      <td>1</td>\n",
       "      <td>1</td>\n",
       "      <td>0</td>\n",
       "      <td>1</td>\n",
       "      <td>0</td>\n",
       "      <td>1</td>\n",
       "      <td>1</td>\n",
       "      <td>154.20</td>\n",
       "    </tr>\n",
       "  </tbody>\n",
       "</table>\n",
       "<p>578 rows × 11 columns</p>\n",
       "</div>\n",
       "      <button class=\"colab-df-convert\" onclick=\"convertToInteractive('df-e5f076d0-9ab5-4e88-9b48-cb07cbffcf17')\"\n",
       "              title=\"Convert this dataframe to an interactive table.\"\n",
       "              style=\"display:none;\">\n",
       "\n",
       "  <svg xmlns=\"http://www.w3.org/2000/svg\" height=\"24px\"viewBox=\"0 0 24 24\"\n",
       "       width=\"24px\">\n",
       "    <path d=\"M0 0h24v24H0V0z\" fill=\"none\"/>\n",
       "    <path d=\"M18.56 5.44l.94 2.06.94-2.06 2.06-.94-2.06-.94-.94-2.06-.94 2.06-2.06.94zm-11 1L8.5 8.5l.94-2.06 2.06-.94-2.06-.94L8.5 2.5l-.94 2.06-2.06.94zm10 10l.94 2.06.94-2.06 2.06-.94-2.06-.94-.94-2.06-.94 2.06-2.06.94z\"/><path d=\"M17.41 7.96l-1.37-1.37c-.4-.4-.92-.59-1.43-.59-.52 0-1.04.2-1.43.59L10.3 9.45l-7.72 7.72c-.78.78-.78 2.05 0 2.83L4 21.41c.39.39.9.59 1.41.59.51 0 1.02-.2 1.41-.59l7.78-7.78 2.81-2.81c.8-.78.8-2.07 0-2.86zM5.41 20L4 18.59l7.72-7.72 1.47 1.35L5.41 20z\"/>\n",
       "  </svg>\n",
       "      </button>\n",
       "\n",
       "  <style>\n",
       "    .colab-df-container {\n",
       "      display:flex;\n",
       "      flex-wrap:wrap;\n",
       "      gap: 12px;\n",
       "    }\n",
       "\n",
       "    .colab-df-convert {\n",
       "      background-color: #E8F0FE;\n",
       "      border: none;\n",
       "      border-radius: 50%;\n",
       "      cursor: pointer;\n",
       "      display: none;\n",
       "      fill: #1967D2;\n",
       "      height: 32px;\n",
       "      padding: 0 0 0 0;\n",
       "      width: 32px;\n",
       "    }\n",
       "\n",
       "    .colab-df-convert:hover {\n",
       "      background-color: #E2EBFA;\n",
       "      box-shadow: 0px 1px 2px rgba(60, 64, 67, 0.3), 0px 1px 3px 1px rgba(60, 64, 67, 0.15);\n",
       "      fill: #174EA6;\n",
       "    }\n",
       "\n",
       "    [theme=dark] .colab-df-convert {\n",
       "      background-color: #3B4455;\n",
       "      fill: #D2E3FC;\n",
       "    }\n",
       "\n",
       "    [theme=dark] .colab-df-convert:hover {\n",
       "      background-color: #434B5C;\n",
       "      box-shadow: 0px 1px 3px 1px rgba(0, 0, 0, 0.15);\n",
       "      filter: drop-shadow(0px 1px 2px rgba(0, 0, 0, 0.3));\n",
       "      fill: #FFFFFF;\n",
       "    }\n",
       "  </style>\n",
       "\n",
       "      <script>\n",
       "        const buttonEl =\n",
       "          document.querySelector('#df-e5f076d0-9ab5-4e88-9b48-cb07cbffcf17 button.colab-df-convert');\n",
       "        buttonEl.style.display =\n",
       "          google.colab.kernel.accessAllowed ? 'block' : 'none';\n",
       "\n",
       "        async function convertToInteractive(key) {\n",
       "          const element = document.querySelector('#df-e5f076d0-9ab5-4e88-9b48-cb07cbffcf17');\n",
       "          const dataTable =\n",
       "            await google.colab.kernel.invokeFunction('convertToInteractive',\n",
       "                                                     [key], {});\n",
       "          if (!dataTable) return;\n",
       "\n",
       "          const docLinkHtml = 'Like what you see? Visit the ' +\n",
       "            '<a target=\"_blank\" href=https://colab.research.google.com/notebooks/data_table.ipynb>data table notebook</a>'\n",
       "            + ' to learn more about interactive tables.';\n",
       "          element.innerHTML = '';\n",
       "          dataTable['output_type'] = 'display_data';\n",
       "          await google.colab.output.renderOutput(dataTable, element);\n",
       "          const docLink = document.createElement('div');\n",
       "          docLink.innerHTML = docLinkHtml;\n",
       "          element.appendChild(docLink);\n",
       "        }\n",
       "      </script>\n",
       "    </div>\n",
       "  </div>\n"
      ],
      "text/plain": [
       "       recency  history  mens  womens  ...  channel_Phone  channel_Web  A       Y\n",
       "217         10    88.37     0       1  ...              1            0  1   29.99\n",
       "267          4   297.80     1       1  ...              1            0  1  264.66\n",
       "332         10    29.99     0       1  ...              0            1  0  149.28\n",
       "451          6   265.61     0       1  ...              0            0  1   42.66\n",
       "459          1   101.99     0       1  ...              0            1  1   29.99\n",
       "...        ...      ...   ...     ...  ...            ...          ... ..     ...\n",
       "63466        9   536.80     1       1  ...              0            1  0  117.84\n",
       "63552        2   980.39     1       0  ...              1            0  0   90.57\n",
       "63743        5   210.12     0       1  ...              1            0  1  113.44\n",
       "63876        2   215.61     1       0  ...              0            1  1   99.49\n",
       "63883        1   239.70     1       1  ...              0            1  1  154.20\n",
       "\n",
       "[578 rows x 11 columns]"
      ]
     },
     "execution_count": 11,
     "metadata": {},
     "output_type": "execute_result"
    }
   ],
   "source": [
    "Data=data[target>0].copy()\n",
    "#X['Intercept']=np.ones((len(data),1))\n",
    "Data['A']=treatment[target>0]\n",
    "Data['Y']=target[target>0]\n",
    "\n",
    "# The final data we will use\n",
    "Data"
   ]
  },
  {
   "cell_type": "markdown",
   "metadata": {
    "id": "vq4Bm0fcQSwP"
   },
   "source": [
    "#### Quantile Optimal Treatment Regime"
   ]
  },
  {
   "cell_type": "code",
   "execution_count": null,
   "metadata": {
    "colab": {
     "base_uri": "https://localhost:8080/"
    },
    "executionInfo": {
     "elapsed": 135690,
     "status": "ok",
     "timestamp": 1646277554074,
     "user": {
      "displayName": "Yang Xu",
      "photoUrl": "https://lh3.googleusercontent.com/a-/AOh14GiwmFvGwaija8HCAZKtLkFQJjRWaWko5tV_i1Zd=s64",
      "userId": "12270366590264264299"
     },
     "user_tz": 300
    },
    "id": "YB-SHaTDQYnb",
    "outputId": "61e6cb76-506f-4344-bf52-08d82fc6d9f4"
   },
   "outputs": [
    {
     "name": "stdout",
     "output_type": "stream",
     "text": [
      "Warning: Maximum number of iterations has been exceeded.\n",
      "         Current function value: 0.502953\n",
      "         Iterations: 35\n",
      "         Function evaluations: 45\n",
      "         Gradient evaluations: 40\n"
     ]
    }
   ],
   "source": [
    "# initialize the learner\n",
    "Quantile_OTR=QuantileOTR()\n",
    "\n",
    "moCondQuant_0 = ['recency',\t'history',\t'mens',\t'womens',\t'newbie',\t'zip_code_Surburban',\t'zip_code_Urban',\t'channel_Phone',\t'channel_Web']\n",
    "moCondQuant_1 = ['recency',\t'history',\t'mens',\t'womens',\t'newbie',\t'zip_code_Surburban',\t'zip_code_Urban',\t'channel_Phone',\t'channel_Web']\n",
    "\n",
    "coefficient, coef_original_scale, Q_est=Quantile_OTR.DR_Qopt(data=Data, tau=0.5, moCondQuant_0=moCondQuant_0, moCondQuant_1=moCondQuant_1,moPropen = \"NotBinaryRandom\")"
   ]
  },
  {
   "cell_type": "code",
   "execution_count": null,
   "metadata": {
    "colab": {
     "base_uri": "https://localhost:8080/"
    },
    "executionInfo": {
     "elapsed": 247,
     "status": "ok",
     "timestamp": 1646277697940,
     "user": {
      "displayName": "Yang Xu",
      "photoUrl": "https://lh3.googleusercontent.com/a-/AOh14GiwmFvGwaija8HCAZKtLkFQJjRWaWko5tV_i1Zd=s64",
      "userId": "12270366590264264299"
     },
     "user_tz": 300
    },
    "id": "WCjvgzk8x_A-",
    "outputId": "ca1175d8-57a1-49bd-92f4-065043b8fbe1"
   },
   "outputs": [
    {
     "data": {
      "text/plain": [
       "array([9.0909e-02, 4.7368e-04, 1.0000e+00, 1.0000e+00, 1.0000e+00,\n",
       "       1.0000e+00, 1.0000e+00, 1.0000e+00, 1.0000e+00, 8.9489e-01])"
      ]
     },
     "execution_count": 19,
     "metadata": {},
     "output_type": "execute_result"
    }
   ],
   "source": [
    "# the coefficient that maximize the quantile\n",
    "coef_original_scale"
   ]
  },
  {
   "cell_type": "code",
   "execution_count": null,
   "metadata": {
    "colab": {
     "base_uri": "https://localhost:8080/"
    },
    "executionInfo": {
     "elapsed": 266,
     "status": "ok",
     "timestamp": 1646277711830,
     "user": {
      "displayName": "Yang Xu",
      "photoUrl": "https://lh3.googleusercontent.com/a-/AOh14GiwmFvGwaija8HCAZKtLkFQJjRWaWko5tV_i1Zd=s64",
      "userId": "12270366590264264299"
     },
     "user_tz": 300
    },
    "id": "QSt1XIQpzFLd",
    "outputId": "02fcc323-7f1e-44cc-9a7b-013ca3fa5579"
   },
   "outputs": [
    {
     "data": {
      "text/plain": [
       "81.64"
      ]
     },
     "execution_count": 20,
     "metadata": {},
     "output_type": "execute_result"
    }
   ],
   "source": [
    "# the estimated quantile that corresponds to the optimized coefficient\n",
    "Q_est"
   ]
  },
  {
   "cell_type": "code",
   "execution_count": null,
   "metadata": {
    "colab": {
     "base_uri": "https://localhost:8080/",
     "height": 295
    },
    "executionInfo": {
     "elapsed": 874,
     "status": "ok",
     "timestamp": 1646277906849,
     "user": {
      "displayName": "Yang Xu",
      "photoUrl": "https://lh3.googleusercontent.com/a-/AOh14GiwmFvGwaija8HCAZKtLkFQJjRWaWko5tV_i1Zd=s64",
      "userId": "12270366590264264299"
     },
     "user_tz": 300
    },
    "id": "UEGQMb8xzH6M",
    "outputId": "23cc2740-21aa-4253-950d-52bc3cafa41a"
   },
   "outputs": [
    {
     "data": {
      "image/png": "[encoded data removed]",
      "text/plain": [
       "<Figure size 432x288 with 1 Axes>"
      ]
     },
     "metadata": {
      "filenames": {
       "image/png": "D:\\GitHub\\Causal-Decision-Making\\_build\\jupyter_execute\\Offline\\Single\\QuantileOTR_test_22_0.png"
      },
      "needs_background": "light"
     },
     "output_type": "display_data"
    }
   ],
   "source": [
    "n, bins, patches = plt.hist(Data['Y'], bins=100,density=True, facecolor = \"blue\",alpha=0.75)\n",
    "\n",
    "\n",
    "plt.xlabel('R1')\n",
    "plt.ylabel('Probability')\n",
    "plt.title('Histogram of Target')\n",
    "plt.xlim(np.min(Data['Y']-2), np.max(Data['Y']))\n",
    "plt.ylim(0, 0.2)\n",
    "plt.grid(True)\n",
    "plt.show()"
   ]
  },
  {
   "cell_type": "code",
   "execution_count": null,
   "metadata": {
    "colab": {
     "base_uri": "https://localhost:8080/"
    },
    "executionInfo": {
     "elapsed": 255,
     "status": "ok",
     "timestamp": 1646278043240,
     "user": {
      "displayName": "Yang Xu",
      "photoUrl": "https://lh3.googleusercontent.com/a-/AOh14GiwmFvGwaija8HCAZKtLkFQJjRWaWko5tV_i1Zd=s64",
      "userId": "12270366590264264299"
     },
     "user_tz": 300
    },
    "id": "VyD3-h_H0QaV",
    "outputId": "c51e3da6-a322-4c68-d98f-44d06636814c"
   },
   "outputs": [
    {
     "data": {
      "text/plain": [
       "80.795"
      ]
     },
     "execution_count": 30,
     "metadata": {},
     "output_type": "execute_result"
    }
   ],
   "source": [
    "np.percentile(Data['Y'], 0.5*100)"
   ]
  }
 ],
 "metadata": {
  "colab": {
   "authorship_tag": "ABX9TyMtCerK/KxgyBPciMFuZ19g",
   "collapsed_sections": [
    "SDntAIqKCuyv",
    "Zv1_l99PQKRK"
   ],
   "name": "QuantileOTR_test.ipynb",
   "provenance": []
  },
  "kernelspec": {
   "display_name": "Python 3",
   "name": "python3"
  },
  "language_info": {
   "codemirror_mode": {
    "name": "ipython",
    "version": 3
   },
   "file_extension": ".py",
   "mimetype": "text/x-python",
   "name": "python",
   "nbconvert_exporter": "python",
   "pygments_lexer": "ipython3",
   "version": "3.7.11"
  }
 },
 "nbformat": 4,
 "nbformat_minor": 0
}
{
 "cells": [
  {
   "cell_type": "code",
   "execution_count": 1,
   "id": "26582117",
   "metadata": {},
   "outputs": [
    {
     "name": "stdout",
     "output_type": "stream",
     "text": [
      "Looking in indexes: https://test.pypi.org/simple/\r\n",
      "Requirement already satisfied: causaldm in /Users/alinaxu/opt/anaconda3/lib/python3.9/site-packages (0.0.9)\r\n"
     ]
    },
    {
     "name": "stdout",
     "output_type": "stream",
     "text": [
      "Note: you may need to restart the kernel to use updated packages.\n"
     ]
    }
   ],
   "source": [
    "pip install -i https://test.pypi.org/simple/ causaldm"
   ]
  },
  {
   "cell_type": "code",
   "execution_count": 2,
   "id": "7d70ba78",
   "metadata": {},
   "outputs": [
    {
     "name": "stdout",
     "output_type": "stream",
     "text": [
      "Looking in indexes: https://test.pypi.org/simple/\r\n",
      "Requirement already satisfied: causaldm==0.0.9 in /Users/alinaxu/opt/anaconda3/lib/python3.9/site-packages (0.0.9)\r\n"
     ]
    },
    {
     "name": "stdout",
     "output_type": "stream",
     "text": [
      "Note: you may need to restart the kernel to use updated packages.\n"
     ]
    }
   ],
   "source": [
    "pip install -i https://test.pypi.org/simple/ causaldm==0.0.9"
   ]
  },
  {
   "cell_type": "code",
   "execution_count": 3,
   "id": "e7362981",
   "metadata": {},
   "outputs": [],
   "source": [
    "from causaldm.learners.CEL.Single_Stage import DRlearner"
   ]
  },
  {
   "cell_type": "code",
   "execution_count": 4,
   "id": "c90efb90",
   "metadata": {},
   "outputs": [],
   "source": [
    "import causaldm.learners"
   ]
  },
  {
   "cell_type": "code",
   "execution_count": 5,
   "id": "a93716f9",
   "metadata": {},
   "outputs": [],
   "source": [
    "from causaldm.data import *"
   ]
  },
  {
   "cell_type": "code",
   "execution_count": 6,
   "id": "63e690d8",
   "metadata": {},
   "outputs": [
    {
     "ename": "NameError",
     "evalue": "name 'MovieLens_CEL' is not defined",
     "output_type": "error",
     "traceback": [
      "\u001b[0;31m---------------------------------------------------------------------------\u001b[0m",
      "\u001b[0;31mNameError\u001b[0m                                 Traceback (most recent call last)",
      "\u001b[0;32m/var/folders/9j/vb5nb4rd5bx0gr1q5ytx9q600000gn/T/ipykernel_52516/3830966291.py\u001b[0m in \u001b[0;36m<module>\u001b[0;34m\u001b[0m\n\u001b[0;32m----> 1\u001b[0;31m \u001b[0mMovieLens_CEL\u001b[0m\u001b[0;34m.\u001b[0m\u001b[0mcsv\u001b[0m\u001b[0;34m\u001b[0m\u001b[0;34m\u001b[0m\u001b[0m\n\u001b[0m",
      "\u001b[0;31mNameError\u001b[0m: name 'MovieLens_CEL' is not defined"
     ]
    }
   ],
   "source": [
    "MovieLens_CEL.csv"
   ]
  },
  {
   "cell_type": "code",
   "execution_count": 7,
   "id": "65d044a8",
   "metadata": {},
   "outputs": [
    {
     "name": "stdout",
     "output_type": "stream",
     "text": [
      "/Users/alinaxu/Documents/CDM/Causal-Decision-Making/data/MovieLens_CEL.csv\n"
     ]
    }
   ],
   "source": [
    "from pathlib import Path\n",
    "\n",
    "data_folder_path = (Path('causaldm') / '../data' ).resolve()\n",
    "csv_file_path = data_folder_path / 'MovieLens_CEL.csv'\n",
    "print(csv_file_path)  # -> 'Project_Folder/data/Pers1_fb.csv'"
   ]
  },
  {
   "cell_type": "code",
   "execution_count": 8,
   "id": "3cb9758b",
   "metadata": {},
   "outputs": [
    {
     "data": {
      "text/plain": [
       "PosixPath('causaldm')"
      ]
     },
     "execution_count": 8,
     "metadata": {},
     "output_type": "execute_result"
    }
   ],
   "source": [
    "Path('causaldm')"
   ]
  },
  {
   "cell_type": "code",
   "execution_count": 10,
   "id": "d1238bc3",
   "metadata": {},
   "outputs": [
    {
     "data": {
      "text/plain": [
       "PosixPath('causaldm/../data')"
      ]
     },
     "execution_count": 10,
     "metadata": {},
     "output_type": "execute_result"
    }
   ],
   "source": [
    " (Path('causaldm') / '../data' )"
   ]
  },
  {
   "cell_type": "code",
   "execution_count": 11,
   "id": "21e368fb",
   "metadata": {},
   "outputs": [
    {
     "data": {
      "text/plain": [
       "PosixPath('/Users/alinaxu/Documents/CDM/Causal-Decision-Making/data')"
      ]
     },
     "execution_count": 11,
     "metadata": {},
     "output_type": "execute_result"
    }
   ],
   "source": [
    "(Path('causaldm') / '../data' ).resolve()"
   ]
  },
  {
   "cell_type": "code",
   "execution_count": 13,
   "id": "c3d3cbef",
   "metadata": {},
   "outputs": [
    {
     "ename": "NameError",
     "evalue": "name '__file__' is not defined",
     "output_type": "error",
     "traceback": [
      "\u001b[0;31m---------------------------------------------------------------------------\u001b[0m",
      "\u001b[0;31mNameError\u001b[0m                                 Traceback (most recent call last)",
      "\u001b[0;32m/var/folders/9j/vb5nb4rd5bx0gr1q5ytx9q600000gn/T/ipykernel_66398/1270737390.py\u001b[0m in \u001b[0;36m<module>\u001b[0;34m\u001b[0m\n\u001b[1;32m      1\u001b[0m \u001b[0;32mimport\u001b[0m \u001b[0mos\u001b[0m\u001b[0;34m\u001b[0m\u001b[0;34m\u001b[0m\u001b[0m\n\u001b[0;32m----> 2\u001b[0;31m \u001b[0mcurrent_script_dir\u001b[0m \u001b[0;34m=\u001b[0m \u001b[0mos\u001b[0m\u001b[0;34m.\u001b[0m\u001b[0mpath\u001b[0m\u001b[0;34m.\u001b[0m\u001b[0mdirname\u001b[0m\u001b[0;34m(\u001b[0m\u001b[0mos\u001b[0m\u001b[0;34m.\u001b[0m\u001b[0mpath\u001b[0m\u001b[0;34m.\u001b[0m\u001b[0mabspath\u001b[0m\u001b[0;34m(\u001b[0m\u001b[0m__file__\u001b[0m\u001b[0;34m)\u001b[0m\u001b[0;34m)\u001b[0m\u001b[0;34m\u001b[0m\u001b[0;34m\u001b[0m\u001b[0m\n\u001b[0m",
      "\u001b[0;31mNameError\u001b[0m: name '__file__' is not defined"
     ]
    }
   ],
   "source": [
    "import os\n",
    "current_script_dir = os.path.dirname(os.path.abspath(__file__))\n"
   ]
  },
  {
   "cell_type": "code",
   "execution_count": 28,
   "id": "ca77f748",
   "metadata": {},
   "outputs": [
    {
     "data": {
      "text/plain": [
       "'/Users/alinaxu/Documents/CDM/CausalDM/causaldm/data/MovieLens_CEL.csv'"
      ]
     },
     "execution_count": 28,
     "metadata": {},
     "output_type": "execute_result"
    }
   ],
   "source": [
    "import pickle\n",
    "import pandas as pd\n",
    "data_dir = os.path.join('/Users/alinaxu/Documents/CDM/CausalDM/causaldm/data', 'MovieLens_CEL.csv')\n",
    "data_dir"
   ]
  },
  {
   "cell_type": "code",
   "execution_count": 29,
   "id": "9cdb35fa",
   "metadata": {},
   "outputs": [],
   "source": [
    "MovieLens_CEL = pd.read_csv(data_dir)"
   ]
  },
  {
   "cell_type": "code",
   "execution_count": null,
   "id": "037b3066",
   "metadata": {},
   "outputs": [],
   "source": [
    "MovieLens_CEL"
   ]
  }
 ],
 "metadata": {
  "kernelspec": {
   "display_name": "Python 3 (ipykernel)",
   "language": "python",
   "name": "python3"
  },
  "language_info": {
   "codemirror_mode": {
    "name": "ipython",
    "version": 3
   },
   "file_extension": ".py",
   "mimetype": "text/x-python",
   "name": "python",
   "nbconvert_exporter": "python",
   "pygments_lexer": "ipython3",
   "version": "3.9.13"
  }
 },
 "nbformat": 4,
 "nbformat_minor": 5
}
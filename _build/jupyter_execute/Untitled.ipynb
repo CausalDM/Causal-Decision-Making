{
 "cells": [
  {
   "cell_type": "code",
   "execution_count": 1,
   "id": "26582117",
   "metadata": {},
   "outputs": [
    {
     "name": "stdout",
     "output_type": "stream",
     "text": [
      "Looking in indexes: https://test.pypi.org/simple/\r\n",
      "Requirement already satisfied: causaldm in /Users/alinaxu/opt/anaconda3/lib/python3.9/site-packages (0.0.9)\r\n"
     ]
    },
    {
     "name": "stdout",
     "output_type": "stream",
     "text": [
      "Note: you may need to restart the kernel to use updated packages.\n"
     ]
    }
   ],
   "source": [
    "pip install -i https://test.pypi.org/simple/ causaldm"
   ]
  },
  {
   "cell_type": "code",
   "execution_count": 2,
   "id": "7d70ba78",
   "metadata": {},
   "outputs": [
    {
     "name": "stdout",
     "output_type": "stream",
     "text": [
      "Looking in indexes: https://test.pypi.org/simple/\r\n",
      "Requirement already satisfied: causaldm==0.0.9 in /Users/alinaxu/opt/anaconda3/lib/python3.9/site-packages (0.0.9)\r\n"
     ]
    },
    {
     "name": "stdout",
     "output_type": "stream",
     "text": [
      "Note: you may need to restart the kernel to use updated packages.\n"
     ]
    }
   ],
   "source": [
    "pip install -i https://test.pypi.org/simple/ causaldm==0.0.9"
   ]
  },
  {
   "cell_type": "code",
   "execution_count": 3,
   "id": "e7362981",
   "metadata": {},
   "outputs": [],
   "source": [
    "from causaldm.learners.CEL.Single_Stage import DRlearner"
   ]
  },
  {
   "cell_type": "code",
   "execution_count": 4,
   "id": "c90efb90",
   "metadata": {},
   "outputs": [],
   "source": [
    "import causaldm.learners"
   ]
  },
  {
   "cell_type": "code",
   "execution_count": 5,
   "id": "a93716f9",
   "metadata": {},
   "outputs": [],
   "source": [
    "import causaldm.data"
   ]
  },
  {
   "cell_type": "code",
   "execution_count": null,
   "id": "63e690d8",
   "metadata": {},
   "outputs": [],
   "source": []
  }
 ],
 "metadata": {
  "kernelspec": {
   "display_name": "Python 3 (ipykernel)",
   "language": "python",
   "name": "python3"
  },
  "language_info": {
   "codemirror_mode": {
    "name": "ipython",
    "version": 3
   },
   "file_extension": ".py",
   "mimetype": "text/x-python",
   "name": "python",
   "nbconvert_exporter": "python",
   "pygments_lexer": "ipython3",
   "version": "3.9.13"
  }
 },
 "nbformat": 4,
 "nbformat_minor": 5
}
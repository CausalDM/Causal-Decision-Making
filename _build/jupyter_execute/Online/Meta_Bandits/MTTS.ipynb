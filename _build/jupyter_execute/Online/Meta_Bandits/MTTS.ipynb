{
 "cells": [
  {
   "cell_type": "markdown",
   "id": "1f17c8f1-4560-4d7a-90b3-86a9d9cc810d",
   "metadata": {},
   "source": [
    "# Multi-Task Thompson Sampling (MTTS)\n",
    "\n",
    "## Main Idea\n",
    "While most existing algorithms (e.g., \\textbf{meta-TS} \\citep{kveton2021meta}) fail to leverage feature information, our proposal is more closely related to \\textbf{MTTS} \\citep{wan2021metadata}, which constructs a Bayesian hierarchical model to share information efficiently. Specifically, \n",
    "\\begin{equation}\\label{eqn:hierachical_model}\n",
    "  \\begin{alignedat}{2}\n",
    "&\\text{(Prior)} \\quad\n",
    "\\quad\\quad\\quad    \\vgamma &&\\sim Q(\\vgamma), \\\\\n",
    "&\\text{(Inter-task)} \\quad\n",
    "\\;    \\vmu_j | \\vx_j, \\vgamma &&\\sim g(\\vmu_j | \\vx_j, \\vgamma) = \\vx_j^{T}\\vgamma + \\vdelta_{j}, \\\\\n",
    "&\\text{(Intra-task)} \\quad\n",
    "\\;    R_{j,t} = Y_{j,t} &&= \\sum\\nolimits_{a \\in [K]} \\I(A_{j,t} = a) \\mu_{j,a} + \\epsilon_{j,t}, \n",
    "      \\end{alignedat}\n",
    "\\end{equation} where $\\vdelta_{j} \\stackrel{i.i.d.}{\\sim} \\mathcal{N}(\\vzero, \\Cov)$, and $\\epsilon_{j,t} \\stackrel{i.i.d.}{\\sim} \\mathcal{N}(\\vzero, \\sigma^{2})$. Under the TS framework, at each round $t$ with task $j$, the agent will sample a $\\tilde{\\vmu}_{j}$ from its posterior distribution updated according to the hierarchical model, then the action $a$ with the maximum sampled $\\tilde{\\mu}_{j,a}$ will be pulled.\n",
    "\n",
    "%\\begin{equation}\n",
    "%    \\vthe_i | \\vx_i, \\vgamma \\sim f(\\vthe_i | \\vx_i, \\vgamma) = \\vx_i^{T}\\vgamma + \\vdelta_{i},\n",
    "%\\end{equation} \n",
    "%Additionally, \\textbf{MTTS} assumes a prior distribution of $\\vgamma$, \n",
    "Essentially, \\textbf{MTTS} assumes that the mean reward $\\vmu_{j}$ is sampled from model $g$ parameterized by unknown parameter $\\vgamma$ and conditional on task feature $\\vx_{j}$. Instead of assuming that $\\vmu_j$ is fully determined by its features through a deterministic function, \\textbf{MTTS} adds an item-specific noise term to account for the inter-task heterogeneity. Simultaneously modeling heterogeneity and sharing information across tasks via $g$, \\textbf{MTTS} is able to provide an informative prior distribution to guide the exploration. Appropriately addressing the heterogeneity between tasks, the MTTS has been shown to have a lower regret bound than both the feature-agnostic and feature-determined MAB algorithms \\citep{wan2021metadata}.\n",
    "\n",
    "However, it is only applicable to MAB tasks, while we consider CBB, which involves more complex reward structures. Besides, existing meta Bandits algorithms are designed to share information across multiple bandit tasks, and none of them can be applied to our problem of one single large-scale bandit task.\n",
    "\n",
    "## Algorithm Details\n",
    "\n",
    "## Key Steps"
   ]
  },
  {
   "cell_type": "code",
   "execution_count": null,
   "id": "3f643f94-3d6c-44e4-87fa-1bba3fa1e269",
   "metadata": {},
   "outputs": [],
   "source": []
  }
 ],
 "metadata": {
  "kernelspec": {
   "display_name": "Python 3 (ipykernel)",
   "language": "python",
   "name": "python3"
  },
  "language_info": {
   "codemirror_mode": {
    "name": "ipython",
    "version": 3
   },
   "file_extension": ".py",
   "mimetype": "text/x-python",
   "name": "python",
   "nbconvert_exporter": "python",
   "pygments_lexer": "ipython3",
   "version": "3.9.12"
  }
 },
 "nbformat": 4,
 "nbformat_minor": 5
}
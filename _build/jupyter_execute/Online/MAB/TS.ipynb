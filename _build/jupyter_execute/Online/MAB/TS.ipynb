{
 "cells": [
  {
   "cell_type": "markdown",
   "id": "d5e46f9d",
   "metadata": {},
   "source": [
    "# TS\n",
    "\n",
    "## Overview\n",
    "- **Advantage**: Be able to incorporate prior knowledge about reward distribution, which is especially useful when the prior knowledge is informative. Taking uncertainty into account by updating the posterior distribution of the expectation of potential reward to achieve a good balance between exploration and exploitation.\n",
    "- **Disadvantage**: Inefficient if there is a large number of action items. \n",
    "- **Application Situation**: discrete action space, binary/Gaussian reward space\n",
    "\n",
    "## Main Idea\n",
    "\n",
    "Thompson Sampling (TS), also known as posterior sampling, solves the exploration-exploitation dilemma by selecting an action according to its posterior distribution [1].  At each round $t$, the agent sample the rewards from the corresponding posterior distributions of the expectation of the potential reward (i.e., $E[R_t(a)]$) and then select the action with the highest sampled reward greedily. It has been shown that, when the true reward distribution is known, a TS algorithm with the true reward distribution as the prior is nearly optimal [2]. However, such a distribution is always unknown in practice. Therefore, one of the major objectives of TS-based algorithms is to find an informative prior to guide the exploration. Note that the algorithm here supports bandit problem with either binary reward or continuous reward.\n",
    "\n",
    "## Algorithms Details\n",
    "Supposed there are $K$ options, and the action space is $\\mathcal{A} = \\{0,1,\\cdots, K-1\\}$. The TS algorithm starts with specifying a prior distribution of the potential reward, based on the domian knowledge. At each round $t$, the agent will samples a vector of $\\theta^{t}$ from the posterior distribution of the potential rewards. The action $a$ with the greatest $\\theta_{a}^{t}$ is then selected. Finally, the posterior distribution would be updated after receiving the realized reward at the end of each round. Note that the posterior updating step differs for different pairs of prior distribution of the mean reward and reward distribution. Here, we consider two classical examples of the TS algorithm, including Gaussian reward with Gaussian prior and Bernoulli reward with Beta prior. The posterior updating is straightforward for both cases, since the nice conjugate property. In both cases, the variance of reward is assumed to be known, and need to be specified manually. Note that code can be easily modified to different specifications of the prior/potential reward distribution.\n",
    "\n",
    "## Key Steps\n",
    "\n",
    "1. Specifying a prior distirbution of $E[R_0(a)]$, $a \\in \\mathcal{A}$, and the variance of the reward distribution.\n",
    "2. For t = $0, 1,\\cdots, T$:\n",
    "    - sample a $\\theta^{t}$ from the posterior distribution of $E[R_t(a)]$ or prior distribution if in round $0$\n",
    "    - select action $A_t$ which has the greatest $\\theta^{t}_{a}$, i.e. $A_t = argmax_{a \\in \\mathcal{A}} \\theta_{a}^{t}$\n",
    "    - receive the rewad $R_t$, and update the posterior distirbution accordingly."
   ]
  },
  {
   "cell_type": "markdown",
   "id": "84b637b3",
   "metadata": {},
   "source": [
    "## Demo Code"
   ]
  },
  {
   "cell_type": "markdown",
   "id": "7e6d35c5-3f15-43b8-a0ba-cdec0eedfa65",
   "metadata": {},
   "source": [
    "### Specify the path where the package code is."
   ]
  },
  {
   "cell_type": "code",
   "execution_count": 1,
   "id": "235c1077",
   "metadata": {},
   "outputs": [],
   "source": [
    "import os\n",
    "os.getcwd()\n",
    "os.chdir('D:\\GitHub\\CausalDM')"
   ]
  },
  {
   "cell_type": "markdown",
   "id": "ccbe8587-c8be-4c6a-b5fc-ac13d6fe5dcf",
   "metadata": {},
   "source": [
    "### Import the learner."
   ]
  },
  {
   "cell_type": "code",
   "execution_count": 2,
   "id": "7e162a29",
   "metadata": {},
   "outputs": [
    {
     "name": "stderr",
     "output_type": "stream",
     "text": [
      "WARNING (theano.tensor.blas): Using NumPy C-API based implementation for BLAS functions.\n"
     ]
    }
   ],
   "source": [
    "import numpy as np\n",
    "from causaldm.learners.Online.MAB import TS"
   ]
  },
  {
   "cell_type": "markdown",
   "id": "9ca379a3-d2e5-41fe-b450-b4bf86de4684",
   "metadata": {},
   "source": [
    "### Generate the Environment\n",
    "\n",
    "Here, we imitate an environment with K=5 arms, T=2000 time steps. The true mean reward is [2,4,5,2,3], and the standard deviation of each arm's reward distribution is 1. For real-world applications, users must define the actual operating environment."
   ]
  },
  {
   "cell_type": "code",
   "execution_count": 3,
   "id": "45c9e511",
   "metadata": {},
   "outputs": [],
   "source": [
    "from causaldm.learners.Online.MAB import _env\n",
    "T = 20000\n",
    "K = 5\n",
    "sigma = 1\n",
    "r_mean = [2,4,5,2,3]\n",
    "env = _env.Single_Gaussian_Env(T, K, sigma, r_mean, seed = 42)"
   ]
  },
  {
   "cell_type": "markdown",
   "id": "2d834aee-319a-404d-b833-d4928fa3356a",
   "metadata": {},
   "source": [
    "### Specify Hyperparameters\n",
    "\n",
    "- Reward_Type: the type of the MAB, i.e., \"Gaussian\"/\"Bernoulli\"\n",
    "- sigma: the standard deviation of the reward distributions\n",
    "- u_prior_mean: mean of the prior distribution of the mean reward\n",
    "- u_prior_cov: Covaraince matrix of the prior distribution of the mean reward\n",
    "- seed: random seed"
   ]
  },
  {
   "cell_type": "code",
   "execution_count": 4,
   "id": "f973e0e8-aaaf-4182-900d-e60d23ef6f2c",
   "metadata": {},
   "outputs": [],
   "source": [
    "Reward_Type = \"Gaussian\"\n",
    "sigma = sigma\n",
    "u_prior_mean = np.ones(K)\n",
    "u_prior_cov = 10000*np.identity(K)\n",
    "seed = 0\n",
    "TS_Gaussian_agent = TS.TS(Reward_Type = Reward_Type, sigma = sigma, \n",
    "                          u_prior_mean = u_prior_mean, u_prior_cov = u_prior_cov, \n",
    "                          seed = seed)"
   ]
  },
  {
   "cell_type": "markdown",
   "id": "198a4ca3-841f-4483-91b2-0ee4b0328df8",
   "metadata": {},
   "source": [
    "### Recommendation and Interaction\n",
    "\n",
    "Starting from t = 0, for each step t, there are three steps:\n",
    "1. Recommend an action \n",
    "<code> A = TS_Gaussian_agent.take_action() </code>\n",
    "2. Get the reward from the environment \n",
    "<code> R = env.get_reward(t,A) </code>\n",
    "3. Update the posterior distribution\n",
    "<code> TS_Gaussian_agent.receive_reward(t,A,R) </code>"
   ]
  },
  {
   "cell_type": "code",
   "execution_count": 5,
   "id": "bb3ae61e-bd27-4f9f-9460-683be01965eb",
   "metadata": {},
   "outputs": [
    {
     "data": {
      "text/plain": [
       "(0, 3, 3.5230298564080256)"
      ]
     },
     "execution_count": 5,
     "metadata": {},
     "output_type": "execute_result"
    }
   ],
   "source": [
    "t = 0\n",
    "A = TS_Gaussian_agent.take_action()\n",
    "R = env.get_reward(t,A)\n",
    "TS_Gaussian_agent.receive_reward(t,A,R)\n",
    "t, A, R"
   ]
  },
  {
   "cell_type": "markdown",
   "id": "cd5ccf54-e7a1-40b3-851b-f0a4d1b2be05",
   "metadata": {},
   "source": [
    "**Interpretation**: For step 0, the TS agent recommend to play arm 3, and received a reward of 3.523 from the environment."
   ]
  },
  {
   "cell_type": "markdown",
   "id": "9fb23407-6f40-4925-9eb8-8f7207c70e29",
   "metadata": {},
   "source": [
    "### Demo Code for Bernoulli Bandit\n",
    "The steps are similar to those previously performed with a Gaussian Bandit. Note that, when specifying the prior distribution of the expected reward, the mean-precision form of the Beta distribution is used here, i.e., Beta($\\mu$, $\\phi$), where $\\mu$ is the mean reward of each arm and $\\phi$ is the precision of the Beta distribution. "
   ]
  },
  {
   "cell_type": "code",
   "execution_count": 6,
   "id": "348fd7ab",
   "metadata": {},
   "outputs": [],
   "source": [
    "T = 2000\n",
    "K = 5\n",
    "r_mean = [.2,.5,.6,.8,.1]\n",
    "seed = 0\n",
    "env = _env.Single_Bernoulli_Env(T, K, r_mean, seed)"
   ]
  },
  {
   "cell_type": "code",
   "execution_count": 7,
   "id": "2a4387d9-5df2-43ce-a551-6ad68021d4d1",
   "metadata": {},
   "outputs": [],
   "source": [
    "Reward_Type = \"Bernoulli\"\n",
    "## specify the mean of the prior beta distribution\n",
    "u_prior_mean = .5*np.ones(K)\n",
    "## specify the precision of the prior beta distribution\n",
    "prior_phi_beta = 1\n",
    "TS_Bernoulli_agent = TS.TS(Reward_Type = Reward_Type,\n",
    "                           u_prior_mean = u_prior_mean,\n",
    "                           prior_phi_beta = prior_phi_beta,\n",
    "                           seed = seed)"
   ]
  },
  {
   "cell_type": "code",
   "execution_count": 8,
   "id": "5580efa9-d019-4549-9240-a7879bbc00de",
   "metadata": {},
   "outputs": [
    {
     "data": {
      "text/plain": [
       "(0, 4, 0)"
      ]
     },
     "execution_count": 8,
     "metadata": {},
     "output_type": "execute_result"
    }
   ],
   "source": [
    "t = 0\n",
    "A = TS_Bernoulli_agent.take_action()\n",
    "R = env.get_reward(t,A)\n",
    "TS_Bernoulli_agent.receive_reward(t,A,R)\n",
    "t,A,R"
   ]
  },
  {
   "cell_type": "markdown",
   "id": "0be50e39-8728-493e-b9fa-969f84aea99c",
   "metadata": {},
   "source": [
    "**Interpretation**: For step 0, the TS agent recommend to play arm 4, and received a reward of 0 from the environment."
   ]
  },
  {
   "cell_type": "markdown",
   "id": "90d947e5",
   "metadata": {},
   "source": [
    "## References\n",
    "[1] Russo, D., Van Roy, B., Kazerouni, A., Osband, I., and Wen, Z. (2017). A tutorial on thompson sampling. arXiv preprint arXiv:1707.0203\n",
    "\n",
    "[2] Lattimore, T. and Szepesv´ari, C. (2020). Bandit algorithms. Cambridge University Press."
   ]
  }
 ],
 "metadata": {
  "kernelspec": {
   "display_name": "Python 3 (ipykernel)",
   "language": "python",
   "name": "python3"
  },
  "language_info": {
   "codemirror_mode": {
    "name": "ipython",
    "version": 3
   },
   "file_extension": ".py",
   "mimetype": "text/x-python",
   "name": "python",
   "nbconvert_exporter": "python",
   "pygments_lexer": "ipython3",
   "version": "3.9.12"
  }
 },
 "nbformat": 4,
 "nbformat_minor": 5
}
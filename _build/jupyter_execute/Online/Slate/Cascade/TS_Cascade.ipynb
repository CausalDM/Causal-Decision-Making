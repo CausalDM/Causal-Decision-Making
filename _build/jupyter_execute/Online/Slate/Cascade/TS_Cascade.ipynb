{
 "cells": [
  {
   "cell_type": "markdown",
   "metadata": {
    "tags": []
   },
   "source": [
    "# TS_Cascade\n",
    "\n",
    "## Overview\n",
    "- **Advantage**: In practice, it always outperforms algorithms that also do not use features but are based on other frameworks, such as UCB.\n",
    "- **Disadvantage**: When there are a large number of items, it is not scalable.\n",
    "- **Application Situation**: It is useful when you want to present a ranked list of items, with only one selected at each interaction. Binary outcome.\n",
    "\n",
    "## Main Idea\n",
    "Recently, from a Bayesian perspective, [1] deals with the trade-off between exploration and exploitation by adapting the TS algorithm to the cascading bandits. Specifically, noticing that the potential observation $W(a)$ follows a Bernoulli distribution, **TS_Cascade** adapted the standard TS algorithms directly by assuming a prior distribution of $\\theta_{i}=E[W_t(i)]$ to be Beta-distributed and use the Beta-Bernoulli conjugate update accordingly. For each round $t$, after updating the posterior distribution of $\\theta_{i}$, we select the top $K$ items with the highest estimated attractiveness factors. It should be noted that the posterior updating step differs for different pairs of the prior distribution of expected potential reward and the reward distribution, and the code can be easily modified to different prior/reward distribution specifications if necessary.\n",
    "\n",
    "## Key Steps\n",
    "1. Specifying a prior distirbution of each $\\theta_i$, i.e., Beta(1,1).\n",
    "2. For t = $0, 1,\\cdots, T$:\n",
    "    - sample a $\\tilde{\\theta}^{t}$ from the posterior distribution of $\\theta$ or prior distribution if in round $0$\n",
    "    - select top $K$ items with the greatest $\\tilde{\\theta}_{a}$, i.e. $A_t = arg max_{a \\in \\mathcal{A}} E(R_t(a) \\mid \\tilde{\\boldsymbol{\\theta}}^{t})$\n",
    "    - receive the rewad $R_t$, and update the posterior distirbution accordingly.\n",
    "    \n",
    "*Notations can be found in either the inroduction of the chapter \"Structured Bandits\" or the introduction of the cascading Bandit problems."
   ]
  },
  {
   "cell_type": "markdown",
   "metadata": {},
   "source": [
    "## Demo Code"
   ]
  },
  {
   "cell_type": "code",
   "execution_count": 1,
   "metadata": {},
   "outputs": [
    {
     "ename": "FileNotFoundError",
     "evalue": "[Errno 2] No such file or directory: '/nas/longleaf/home/lge/CausalDM'",
     "output_type": "error",
     "traceback": [
      "\u001b[0;31m---------------------------------------------------------------------------\u001b[0m",
      "\u001b[0;31mFileNotFoundError\u001b[0m                         Traceback (most recent call last)",
      "Input \u001b[0;32mIn [1]\u001b[0m, in \u001b[0;36m<cell line: 6>\u001b[0;34m()\u001b[0m\n\u001b[1;32m      4\u001b[0m \u001b[38;5;28;01mimport\u001b[39;00m \u001b[38;5;21;01mos\u001b[39;00m\n\u001b[1;32m      5\u001b[0m os\u001b[38;5;241m.\u001b[39mgetcwd()\n\u001b[0;32m----> 6\u001b[0m \u001b[43mos\u001b[49m\u001b[38;5;241;43m.\u001b[39;49m\u001b[43mchdir\u001b[49m\u001b[43m(\u001b[49m\u001b[38;5;124;43m'\u001b[39;49m\u001b[38;5;124;43m/nas/longleaf/home/lge/CausalDM\u001b[39;49m\u001b[38;5;124;43m'\u001b[39;49m\u001b[43m)\u001b[49m\n",
      "\u001b[0;31mFileNotFoundError\u001b[0m: [Errno 2] No such file or directory: '/nas/longleaf/home/lge/CausalDM'"
     ]
    }
   ],
   "source": [
    "# After we publish the package, we can directly import it\n",
    "# TODO: explore more efficient way\n",
    "# we can hide this cell later\n",
    "import os\n",
    "os.getcwd()\n",
    "os.chdir('/nas/longleaf/home/lge/CausalDM')\n",
    "# code used to import the learner"
   ]
  },
  {
   "cell_type": "code",
   "execution_count": 2,
   "metadata": {},
   "outputs": [],
   "source": [
    "from causaldm.learners.Online.Slate.Cascade import TS_Cascade\n",
    "from causaldm.learners.Online.Slate.Cascade import _env_Cascade\n",
    "import numpy as np"
   ]
  },
  {
   "cell_type": "code",
   "execution_count": 3,
   "metadata": {},
   "outputs": [],
   "source": [
    "L, T, K, p = 250, 10000, 3, 5\n",
    "update_freq = 500\n",
    "update_freq_linear = 500\n",
    "\n",
    "phi_beta = 1/4\n",
    "n_init = 500\n",
    "with_intercept = True\n",
    "same_reward = True\n",
    "X_mu = np.zeros(p-1)\n",
    "X_sigma = np.identity(p-1)\n",
    "Sigma_gamma = sigma_gamma = np.identity(p)\n",
    "mu_gamma = np.zeros(p)\n",
    "seed = 0\n",
    "\n",
    "env = _env_Cascade.Cascading_env(L, K, T, mu_gamma, sigma_gamma,                                   \n",
    "                                    X_mu, X_sigma,                                       \n",
    "                                    phi_beta, same_reward = same_reward, \n",
    "                                    seed = seed, p = p, with_intercept = with_intercept)\n",
    "TS_agent = TS_Cascade.TS_Cascade(K = K, L = L)\n",
    "S = TS_agent.take_action(env.Phi)\n",
    "t = 1\n",
    "W, E, exp_R, R = env.get_reward(S)\n",
    "TS_agent.receive_reward(S, W, E, exp_R, R, t, env.Phi)"
   ]
  },
  {
   "cell_type": "code",
   "execution_count": 4,
   "metadata": {},
   "outputs": [
    {
     "data": {
      "text/plain": [
       "array([214,  58,  49])"
      ]
     },
     "execution_count": 4,
     "metadata": {},
     "output_type": "execute_result"
    }
   ],
   "source": [
    "S"
   ]
  },
  {
   "cell_type": "markdown",
   "metadata": {},
   "source": [
    "## References\n",
    "\n",
    "[1] Cheung, W. C., Tan, V., & Zhong, Z. (2019, April). A Thompson sampling algorithm for cascading bandits. In The 22nd International Conference on Artificial Intelligence and Statistics (pp. 438-447). PMLR."
   ]
  }
 ],
 "metadata": {
  "kernelspec": {
   "display_name": "Python 3 (ipykernel)",
   "language": "python",
   "name": "python3"
  },
  "language_info": {
   "codemirror_mode": {
    "name": "ipython",
    "version": 3
   },
   "file_extension": ".py",
   "mimetype": "text/x-python",
   "name": "python",
   "nbconvert_exporter": "python",
   "pygments_lexer": "ipython3",
   "version": "3.9.12"
  }
 },
 "nbformat": 4,
 "nbformat_minor": 4
}
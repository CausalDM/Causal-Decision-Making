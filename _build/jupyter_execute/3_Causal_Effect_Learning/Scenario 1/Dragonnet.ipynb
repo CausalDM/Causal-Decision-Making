{
 "cells": [
  {
   "cell_type": "markdown",
   "id": "XUdcqLkabYny",
   "metadata": {
    "id": "XUdcqLkabYny"
   },
   "source": [
    "### **8. Dragon Net**\n",
    "\n",
    "\n",
    "\n"
   ]
  },
  {
   "cell_type": "code",
   "execution_count": 1,
   "id": "q5rFuX3UZt2l",
   "metadata": {
    "id": "q5rFuX3UZt2l"
   },
   "outputs": [],
   "source": [
    "# The code is available at https://github.com/claudiashi57/dragonnet"
   ]
  },
  {
   "cell_type": "code",
   "execution_count": 2,
   "id": "YAVk_ctHZsDK",
   "metadata": {
    "colab": {
     "base_uri": "https://localhost:8080/"
    },
    "executionInfo": {
     "elapsed": 4826,
     "status": "ok",
     "timestamp": 1675479965923,
     "user": {
      "displayName": "Yang Xu",
      "userId": "12270366590264264299"
     },
     "user_tz": 300
    },
    "id": "YAVk_ctHZsDK",
    "outputId": "7f2cb5c6-26e0-4d5a-9033-608d15f576e7"
   },
   "outputs": [
    {
     "name": "stdout",
     "output_type": "stream",
     "text": [
      "Requirement already satisfied: scikit-uplift in /Users/alinaxu/opt/anaconda3/lib/python3.9/site-packages (0.5.1)\r\n",
      "Requirement already satisfied: requests in /Users/alinaxu/opt/anaconda3/lib/python3.9/site-packages (from scikit-uplift) (2.28.1)\r\n",
      "Requirement already satisfied: scikit-learn>=0.21.0 in /Users/alinaxu/opt/anaconda3/lib/python3.9/site-packages (from scikit-uplift) (1.0.2)\r\n",
      "Requirement already satisfied: tqdm in /Users/alinaxu/opt/anaconda3/lib/python3.9/site-packages (from scikit-uplift) (4.64.1)\r\n",
      "Requirement already satisfied: pandas in /Users/alinaxu/opt/anaconda3/lib/python3.9/site-packages (from scikit-uplift) (1.4.4)\r\n",
      "Requirement already satisfied: matplotlib in /Users/alinaxu/opt/anaconda3/lib/python3.9/site-packages (from scikit-uplift) (3.5.2)\r\n",
      "Requirement already satisfied: numpy>=1.16 in /Users/alinaxu/opt/anaconda3/lib/python3.9/site-packages (from scikit-uplift) (1.21.5)\r\n",
      "Requirement already satisfied: scipy>=1.1.0 in /Users/alinaxu/opt/anaconda3/lib/python3.9/site-packages (from scikit-learn>=0.21.0->scikit-uplift) (1.7.3)\r\n",
      "Requirement already satisfied: threadpoolctl>=2.0.0 in /Users/alinaxu/opt/anaconda3/lib/python3.9/site-packages (from scikit-learn>=0.21.0->scikit-uplift) (2.2.0)\r\n",
      "Requirement already satisfied: joblib>=0.11 in /Users/alinaxu/opt/anaconda3/lib/python3.9/site-packages (from scikit-learn>=0.21.0->scikit-uplift) (1.1.0)\r\n",
      "Requirement already satisfied: kiwisolver>=1.0.1 in /Users/alinaxu/opt/anaconda3/lib/python3.9/site-packages (from matplotlib->scikit-uplift) (1.4.2)\r\n",
      "Requirement already satisfied: pillow>=6.2.0 in /Users/alinaxu/opt/anaconda3/lib/python3.9/site-packages (from matplotlib->scikit-uplift) (9.2.0)\r\n",
      "Requirement already satisfied: python-dateutil>=2.7 in /Users/alinaxu/opt/anaconda3/lib/python3.9/site-packages (from matplotlib->scikit-uplift) (2.8.2)\r\n",
      "Requirement already satisfied: cycler>=0.10 in /Users/alinaxu/opt/anaconda3/lib/python3.9/site-packages (from matplotlib->scikit-uplift) (0.11.0)\r\n",
      "Requirement already satisfied: fonttools>=4.22.0 in /Users/alinaxu/opt/anaconda3/lib/python3.9/site-packages (from matplotlib->scikit-uplift) (4.25.0)\r\n",
      "Requirement already satisfied: pyparsing>=2.2.1 in /Users/alinaxu/opt/anaconda3/lib/python3.9/site-packages (from matplotlib->scikit-uplift) (3.0.9)\r\n",
      "Requirement already satisfied: packaging>=20.0 in /Users/alinaxu/opt/anaconda3/lib/python3.9/site-packages (from matplotlib->scikit-uplift) (21.3)\r\n"
     ]
    },
    {
     "name": "stdout",
     "output_type": "stream",
     "text": [
      "Requirement already satisfied: pytz>=2020.1 in /Users/alinaxu/opt/anaconda3/lib/python3.9/site-packages (from pandas->scikit-uplift) (2022.1)\r\n",
      "Requirement already satisfied: charset-normalizer<3,>=2 in /Users/alinaxu/opt/anaconda3/lib/python3.9/site-packages (from requests->scikit-uplift) (2.0.4)\r\n",
      "Requirement already satisfied: urllib3<1.27,>=1.21.1 in /Users/alinaxu/opt/anaconda3/lib/python3.9/site-packages (from requests->scikit-uplift) (1.26.11)\r\n",
      "Requirement already satisfied: idna<4,>=2.5 in /Users/alinaxu/opt/anaconda3/lib/python3.9/site-packages (from requests->scikit-uplift) (3.3)\r\n",
      "Requirement already satisfied: certifi>=2017.4.17 in /Users/alinaxu/opt/anaconda3/lib/python3.9/site-packages (from requests->scikit-uplift) (2022.9.24)\r\n",
      "Requirement already satisfied: six>=1.5 in /Users/alinaxu/opt/anaconda3/lib/python3.9/site-packages (from python-dateutil>=2.7->matplotlib->scikit-uplift) (1.16.0)\r\n"
     ]
    }
   ],
   "source": [
    "import sys\n",
    "!{sys.executable} -m pip install scikit-uplift"
   ]
  },
  {
   "cell_type": "code",
   "execution_count": 3,
   "id": "w0_Dz_6ZZsDN",
   "metadata": {
    "id": "w0_Dz_6ZZsDN"
   },
   "outputs": [],
   "source": [
    "# import related packages\n",
    "from causaldm._util_causaldm import *"
   ]
  },
  {
   "cell_type": "code",
   "execution_count": 4,
   "id": "w7llBSLvZsDN",
   "metadata": {
    "id": "w7llBSLvZsDN"
   },
   "outputs": [],
   "source": [
    "n = 10**3  # sample size in observed data\n",
    "n0 = 10**5 # the number of samples used to estimate the true reward distribution by MC\n",
    "seed=223"
   ]
  },
  {
   "cell_type": "code",
   "execution_count": 5,
   "id": "gpZPieaBZsDN",
   "metadata": {
    "id": "gpZPieaBZsDN"
   },
   "outputs": [
    {
     "ename": "UnboundLocalError",
     "evalue": "local variable 'data' referenced before assignment",
     "output_type": "error",
     "traceback": [
      "\u001b[0;31m---------------------------------------------------------------------------\u001b[0m",
      "\u001b[0;31mUnboundLocalError\u001b[0m                         Traceback (most recent call last)",
      "\u001b[0;32m/var/folders/9j/vb5nb4rd5bx0gr1q5ytx9q600000gn/T/ipykernel_54635/2180662469.py\u001b[0m in \u001b[0;36m<module>\u001b[0;34m\u001b[0m\n\u001b[1;32m      4\u001b[0m \u001b[0;34m\u001b[0m\u001b[0m\n\u001b[1;32m      5\u001b[0m \u001b[0;31m# The true expected heterogeneous treatment effect\u001b[0m\u001b[0;34m\u001b[0m\u001b[0;34m\u001b[0m\u001b[0m\n\u001b[0;32m----> 6\u001b[0;31m \u001b[0mHTE_true\u001b[0m \u001b[0;34m=\u001b[0m \u001b[0mget_data_simulation\u001b[0m\u001b[0;34m(\u001b[0m\u001b[0mn\u001b[0m\u001b[0;34m,\u001b[0m \u001b[0mseed\u001b[0m\u001b[0;34m,\u001b[0m \u001b[0mpolicy\u001b[0m\u001b[0;34m=\u001b[0m\u001b[0;34m\"1\"\u001b[0m\u001b[0;34m)\u001b[0m\u001b[0;34m[\u001b[0m\u001b[0;34m'R'\u001b[0m\u001b[0;34m]\u001b[0m\u001b[0;34m-\u001b[0m\u001b[0mget_data_simulation\u001b[0m\u001b[0;34m(\u001b[0m\u001b[0mn\u001b[0m\u001b[0;34m,\u001b[0m \u001b[0mseed\u001b[0m\u001b[0;34m,\u001b[0m \u001b[0mpolicy\u001b[0m\u001b[0;34m=\u001b[0m\u001b[0;34m\"0\"\u001b[0m\u001b[0;34m)\u001b[0m\u001b[0;34m[\u001b[0m\u001b[0;34m'R'\u001b[0m\u001b[0;34m]\u001b[0m\u001b[0;34m\u001b[0m\u001b[0;34m\u001b[0m\u001b[0m\n\u001b[0m\u001b[1;32m      7\u001b[0m \u001b[0;34m\u001b[0m\u001b[0m\n",
      "\u001b[0;32m~/opt/anaconda3/lib/python3.9/site-packages/causaldm/_util_causaldm.py\u001b[0m in \u001b[0;36mget_data_simulation\u001b[0;34m(n0, seed, policy)\u001b[0m\n\u001b[1;32m    227\u001b[0m         \u001b[0mdata\u001b[0m\u001b[0;34m=\u001b[0m\u001b[0mpd\u001b[0m\u001b[0;34m.\u001b[0m\u001b[0mDataFrame\u001b[0m\u001b[0;34m(\u001b[0m\u001b[0mdata\u001b[0m\u001b[0;34m)\u001b[0m\u001b[0;34m\u001b[0m\u001b[0;34m\u001b[0m\u001b[0m\n\u001b[1;32m    228\u001b[0m \u001b[0;34m\u001b[0m\u001b[0m\n\u001b[0;32m--> 229\u001b[0;31m     \u001b[0;32mreturn\u001b[0m \u001b[0mdata\u001b[0m\u001b[0;34m\u001b[0m\u001b[0;34m\u001b[0m\u001b[0m\n\u001b[0m",
      "\u001b[0;31mUnboundLocalError\u001b[0m: local variable 'data' referenced before assignment"
     ]
    }
   ],
   "source": [
    "# Get data\n",
    "data_behavior = get_data_simulation(n, seed, policy=\"behavior\")\n",
    "#data_target = get_data_simulation(n0, seed, policy=\"target\")\n",
    "\n",
    "# The true expected heterogeneous treatment effect\n",
    "HTE_true = get_data_simulation(n, seed, policy=\"1\")['R']-get_data_simulation(n, seed, policy=\"0\")['R']\n",
    "\n"
   ]
  },
  {
   "cell_type": "code",
   "execution_count": null,
   "id": "LAtbTkgLbcZU",
   "metadata": {
    "id": "LAtbTkgLbcZU"
   },
   "outputs": [],
   "source": []
  },
  {
   "cell_type": "markdown",
   "id": "1098b550",
   "metadata": {
    "id": "1098b550"
   },
   "source": [
    "## References\n",
    "\n",
    "8. Susan Athey, Julie Tibshirani, and Stefan Wager. Generalized random forests. The Annals of Statistics, 47(2):1148–1178, 2019."
   ]
  }
 ],
 "metadata": {
  "colab": {
   "collapsed_sections": [
    "1098b550"
   ],
   "provenance": []
  },
  "kernelspec": {
   "display_name": "Python 3 (ipykernel)",
   "language": "python",
   "name": "python3"
  },
  "language_info": {
   "codemirror_mode": {
    "name": "ipython",
    "version": 3
   },
   "file_extension": ".py",
   "mimetype": "text/x-python",
   "name": "python",
   "nbconvert_exporter": "python",
   "pygments_lexer": "ipython3",
   "version": "3.9.13"
  }
 },
 "nbformat": 4,
 "nbformat_minor": 5
}
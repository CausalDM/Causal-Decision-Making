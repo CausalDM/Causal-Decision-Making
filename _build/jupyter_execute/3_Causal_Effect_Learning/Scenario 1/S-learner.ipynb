{
 "cells": [
  {
   "cell_type": "markdown",
   "id": "yfiI-lSZRuOP",
   "metadata": {
    "id": "yfiI-lSZRuOP"
   },
   "source": [
    "### **1. S-learner**\n",
    "\n",
    "\n",
    "The first estimator we would like to introduce is the S-learner, also known as a ``single learner\". This is one of the most foundamental learners in HTE esitmation, and is very easy to implement.\n",
    "\n",
    "Under three common assumptions in causal inference, i.e. (1) consistency, (2) no unmeasured confounders (NUC), (3) positivity assumption, the heterogeneous treatment effect can be identified by the observed data, where\n",
    "\\begin{equation*}\n",
    "\\tau(s)=\\mathbb{E}[R|S,A=1]-\\mathbb{E}[R|S,A=0].\n",
    "\\end{equation*}\n",
    "\n",
    "The basic idea of S-learner is to fit a model for $\\mathbb{E}[R|S,A]$, and then construct a plug-in estimator for it. Specifically, the algorithm can be summarized as below:\n",
    "\n",
    "**Step 1:**  Estimate the response function $\\mu(s,a):=\\mathbb{E}[R|S=s,A=a]$ with any supervised machine learning algorithm;\n",
    "\n",
    "**Step 2:**  The estimated HTE of S-learner is given by \n",
    "\\begin{equation*}\n",
    "\\hat{\\tau}_{\\text{S-learner}}(s)=\\hat\\mu(s,1)-\\hat\\mu(s,0).\n",
    "\\end{equation*}\n",
    "\n",
    "\n"
   ]
  },
  {
   "cell_type": "code",
   "execution_count": 1,
   "id": "eRpP5k9MBtzO",
   "metadata": {
    "id": "eRpP5k9MBtzO"
   },
   "outputs": [],
   "source": [
    "# import related packages\n",
    "import numpy as np\n",
    "import pandas as pd\n",
    "from matplotlib import pyplot as plt;\n",
    "from sklearn.ensemble import GradientBoostingRegressor\n",
    "from sklearn.linear_model import LinearRegression"
   ]
  },
  {
   "cell_type": "markdown",
   "id": "XUu695Qrf61-",
   "metadata": {
    "id": "XUu695Qrf61-"
   },
   "source": [
    "### MovieLens Data"
   ]
  },
  {
   "cell_type": "code",
   "execution_count": 2,
   "id": "JhfJntzcVVy2",
   "metadata": {
    "colab": {
     "base_uri": "https://localhost:8080/",
     "height": 424
    },
    "executionInfo": {
     "elapsed": 288,
     "status": "ok",
     "timestamp": 1676750101543,
     "user": {
      "displayName": "Yang Xu",
      "userId": "12270366590264264299"
     },
     "user_tz": 300
    },
    "id": "JhfJntzcVVy2",
    "outputId": "7fab8a7a-7cd9-445c-a005-9a6d1994a071"
   },
   "outputs": [
    {
     "ename": "FileNotFoundError",
     "evalue": "[Errno 2] No such file or directory: '/Users/alinaxu/Documents/CDM/CausalDM'",
     "output_type": "error",
     "traceback": [
      "\u001b[0;31m---------------------------------------------------------------------------\u001b[0m",
      "\u001b[0;31mFileNotFoundError\u001b[0m                         Traceback (most recent call last)",
      "Cell \u001b[0;32mIn[2], line 3\u001b[0m\n\u001b[1;32m      1\u001b[0m \u001b[38;5;66;03m# Get the MovieLens data\u001b[39;00m\n\u001b[1;32m      2\u001b[0m \u001b[38;5;28;01mimport\u001b[39;00m \u001b[38;5;21;01mos\u001b[39;00m\n\u001b[0;32m----> 3\u001b[0m os\u001b[38;5;241m.\u001b[39mchdir(\u001b[38;5;124m'\u001b[39m\u001b[38;5;124m/Users/alinaxu/Documents/CDM/CausalDM\u001b[39m\u001b[38;5;124m'\u001b[39m)\n\u001b[1;32m      4\u001b[0m MovieLens_CEL \u001b[38;5;241m=\u001b[39m pd\u001b[38;5;241m.\u001b[39mread_csv(\u001b[38;5;124m\"\u001b[39m\u001b[38;5;124m./causaldm/data/MovieLens_CEL.csv\u001b[39m\u001b[38;5;124m\"\u001b[39m)\n\u001b[1;32m      5\u001b[0m MovieLens_CEL\u001b[38;5;241m.\u001b[39mpop(MovieLens_CEL\u001b[38;5;241m.\u001b[39mcolumns[\u001b[38;5;241m0\u001b[39m])\n",
      "\u001b[0;31mFileNotFoundError\u001b[0m: [Errno 2] No such file or directory: '/Users/alinaxu/Documents/CDM/CausalDM'"
     ]
    }
   ],
   "source": [
    "# Get the MovieLens data\n",
    "import os\n",
    "os.chdir('/Users/alinaxu/Documents/CDM/CausalDM')\n",
    "MovieLens_CEL = pd.read_csv(\"./causaldm/data/MovieLens_CEL.csv\")\n",
    "MovieLens_CEL.pop(MovieLens_CEL.columns[0])\n",
    "cc\n",
    "MovieLens_CEL"
   ]
  },
  {
   "cell_type": "markdown",
   "id": "5dfc86fd",
   "metadata": {},
   "source": [
    "In this selected dataset, we only consider two movie genres for comparison: `Drama` and `Sci-Fi`. That is, the users not watching `Drama` movies are exposed to `Sci-Fi` movies instead."
   ]
  },
  {
   "cell_type": "code",
   "execution_count": 40,
   "id": "J__3Ozs7Uxxs",
   "metadata": {
    "id": "J__3Ozs7Uxxs"
   },
   "outputs": [],
   "source": [
    "n = len(MovieLens_CEL)\n",
    "userinfo_index = np.array([3,6,7,8,9,10,11])\n",
    "SandA = MovieLens_CEL.iloc[:, np.array([3,4,6,7,8,9,10,11])]"
   ]
  },
  {
   "cell_type": "code",
   "execution_count": 41,
   "id": "h5G8dAwM-PGO",
   "metadata": {
    "colab": {
     "base_uri": "https://localhost:8080/"
    },
    "executionInfo": {
     "elapsed": 837,
     "status": "ok",
     "timestamp": 1676750134359,
     "user": {
      "displayName": "Yang Xu",
      "userId": "12270366590264264299"
     },
     "user_tz": 300
    },
    "id": "h5G8dAwM-PGO",
    "outputId": "affb7b39-83cd-4d7e-8572-02cbce6be447"
   },
   "outputs": [
    {
     "data": {
      "text/plain": [
       "GradientBoostingRegressor(max_depth=5)"
      ]
     },
     "execution_count": 41,
     "metadata": {},
     "output_type": "execute_result"
    }
   ],
   "source": [
    "# S-learner\n",
    "np.random.seed(0)\n",
    "S_learner = GradientBoostingRegressor(max_depth=5)\n",
    "#S_learner = LinearRegression()\n",
    "#SandA = np.hstack((S.to_numpy(),A.to_numpy().reshape(-1,1)))\n",
    "S_learner.fit(SandA, MovieLens_CEL['rating'])"
   ]
  },
  {
   "cell_type": "code",
   "execution_count": 42,
   "id": "Vqsb5wLTaR0q",
   "metadata": {
    "id": "Vqsb5wLTaR0q"
   },
   "outputs": [],
   "source": [
    "SandA_all1 = SandA.copy()\n",
    "SandA_all0 = SandA.copy()\n",
    "SandA_all1.iloc[:,4]=np.ones(n)\n",
    "SandA_all0.iloc[:,4]=np.zeros(n)\n",
    "\n",
    "HTE_S_learner = S_learner.predict(SandA_all1) - S_learner.predict(SandA_all0)\n"
   ]
  },
  {
   "cell_type": "markdown",
   "id": "FA-F8Jc_T5Lz",
   "metadata": {
    "id": "FA-F8Jc_T5Lz"
   },
   "source": [
    "Let's focus on the estimated HTEs for three randomly chosen users:"
   ]
  },
  {
   "cell_type": "code",
   "execution_count": 43,
   "id": "GvHnTOxmT5Lz",
   "metadata": {
    "colab": {
     "base_uri": "https://localhost:8080/"
    },
    "executionInfo": {
     "elapsed": 318,
     "status": "ok",
     "timestamp": 1676750150517,
     "user": {
      "displayName": "Yang Xu",
      "userId": "12270366590264264299"
     },
     "user_tz": 300
    },
    "id": "GvHnTOxmT5Lz",
    "outputId": "7b0b76fd-f5ac-4ab8-a3c0-188e15484fe7"
   },
   "outputs": [
    {
     "name": "stdout",
     "output_type": "stream",
     "text": [
      "S-learner:   [-0.13686218  0.52931381 -0.10841595]\n"
     ]
    }
   ],
   "source": [
    "print(\"S-learner:  \",HTE_S_learner[np.array([0,1000,5000])])"
   ]
  },
  {
   "cell_type": "code",
   "execution_count": 44,
   "id": "651e4f8a",
   "metadata": {},
   "outputs": [
    {
     "name": "stdout",
     "output_type": "stream",
     "text": [
      "Choosing Drama instead of Sci-Fi is expected to improve the rating of all users by 0.1453 out of 5 points.\n"
     ]
    }
   ],
   "source": [
    "ATE_S_learner = np.sum(HTE_S_learner)/n\n",
    "print(\"Choosing Drama instead of Sci-Fi is expected to improve the rating of all users by\",round(ATE_S_learner,4), \"out of 5 points.\")"
   ]
  },
  {
   "cell_type": "markdown",
   "id": "mVAZTZYTUKJ6",
   "metadata": {
    "id": "mVAZTZYTUKJ6"
   },
   "source": [
    "**Conclusion:** As we can see from the estimated ATE by S-learner, people are more inclined to give higher ratings to drama than science fictions. "
   ]
  },
  {
   "cell_type": "markdown",
   "id": "nyirbjS5JdGh",
   "metadata": {
    "id": "nyirbjS5JdGh"
   },
   "source": [
    "## References\n",
    "1. Kunzel, S. R., Sekhon, J. S., Bickel, P. J., and Yu, B. (2019). Metalearners for estimating heterogeneous treatment effects using machine learning. Proceedings of the national academy of sciences 116, 4156–4165.\n"
   ]
  }
 ],
 "metadata": {
  "colab": {
   "provenance": []
  },
  "kernelspec": {
   "display_name": "Python 3 (ipykernel)",
   "language": "python",
   "name": "python3"
  },
  "language_info": {
   "codemirror_mode": {
    "name": "ipython",
    "version": 3
   },
   "file_extension": ".py",
   "mimetype": "text/x-python",
   "name": "python",
   "nbconvert_exporter": "python",
   "pygments_lexer": "ipython3",
   "version": "3.11.3"
  }
 },
 "nbformat": 4,
 "nbformat_minor": 5
}
{
 "cells": [
  {
   "cell_type": "markdown",
   "id": "XUdcqLkabYny",
   "metadata": {
    "id": "XUdcqLkabYny"
   },
   "source": [
    "## **Difference in Difference**\n",
    "\n",
    "### Background\n",
    "The difference-in-difference approach, or DiD, is a quasi-experimental method to measure the changes of the outcome over time between the treatment and control groups. Over the past decades, DiD has been widely researched in economics and statistics. \n",
    "\n",
    "Consider an example in marketing where decision makers are interested in evaluating the effect of an advertising intervention on incremental overall product sales. Traditional DiD method supposes that the data is split into two groups, treatment group and control group, where only the consumers in the treatment group are potentially able to get intervention. \n",
    "\n",
    "In the pre-treatment period, all consumers are not exposed to the intervention. While in the post-treatment period, only the consumers in the treatment group are intervened.\n"
   ]
  },
  {
   "cell_type": "code",
   "execution_count": 1,
   "id": "8467be97",
   "metadata": {},
   "outputs": [
    {
     "ename": "FileNotFoundError",
     "evalue": "[WinError 3] 系统找不到指定的路径。: '/Users/alinaxu/Documents/CDM/CausalDM'",
     "output_type": "error",
     "traceback": [
      "\u001b[1;31m---------------------------------------------------------------------------\u001b[0m",
      "\u001b[1;31mFileNotFoundError\u001b[0m                         Traceback (most recent call last)",
      "Input \u001b[1;32mIn [1]\u001b[0m, in \u001b[0;36m<cell line: 3>\u001b[1;34m()\u001b[0m\n\u001b[0;32m      1\u001b[0m \u001b[38;5;28;01mfrom\u001b[39;00m \u001b[38;5;21;01mIPython\u001b[39;00m \u001b[38;5;28;01mimport\u001b[39;00m display\n\u001b[0;32m      2\u001b[0m \u001b[38;5;28;01mimport\u001b[39;00m \u001b[38;5;21;01mos\u001b[39;00m\n\u001b[1;32m----> 3\u001b[0m \u001b[43mos\u001b[49m\u001b[38;5;241;43m.\u001b[39;49m\u001b[43mchdir\u001b[49m\u001b[43m(\u001b[49m\u001b[38;5;124;43m'\u001b[39;49m\u001b[38;5;124;43m/Users/alinaxu/Documents/CDM/CausalDM\u001b[39;49m\u001b[38;5;124;43m'\u001b[39;49m\u001b[43m)\u001b[49m\n\u001b[0;32m      4\u001b[0m display\u001b[38;5;241m.\u001b[39mImage(\u001b[38;5;124m\"\u001b[39m\u001b[38;5;124m./images/CEL-DiD.png\u001b[39m\u001b[38;5;124m\"\u001b[39m)\n",
      "\u001b[1;31mFileNotFoundError\u001b[0m: [WinError 3] 系统找不到指定的路径。: '/Users/alinaxu/Documents/CDM/CausalDM'"
     ]
    }
   ],
   "source": [
    "from IPython import display\n",
    "import os\n",
    "os.chdir('/Users/alinaxu/Documents/CDM/CausalDM')\n",
    "display.Image(\"./images/CEL-DiD.png\")"
   ]
  },
  {
   "cell_type": "markdown",
   "id": "3baf1541",
   "metadata": {},
   "source": [
    "In the above figure, the green real line denotes the observed outcome in the control group, and the purple real line (along with the orange dashed line in the pre-treatment period) denotes the observed outcome in the treatment group. The essense of DiD method is based on the `parallel trend assumption`: i.e. if the data in treatment group remain untreated all the time, the outcome trend (shown by the orange line above) will be the same as the control group.\n",
    "\n",
    "The purpose of DiD is to estimate the treatment effect of an intervention over time."
   ]
  },
  {
   "cell_type": "markdown",
   "id": "f48c5f0d",
   "metadata": {},
   "source": [
    "### Definitions"
   ]
  },
  {
   "cell_type": "markdown",
   "id": "f0ab1e52",
   "metadata": {},
   "source": [
    "In the context of panel data, we define $Y_t(d)$ as the potential outcome one would observe under treatment $D=d$ at stage $T=t$.\n",
    "\n",
    "\n",
    "Our problem of interest is to identify and estimate the average treatment effect of intervention $D$ on the treated, which is defined as\n",
    "\\begin{equation}\n",
    "ATT_t = \\mathbb{E}[Y_t(1)-Y_t(0)|D=1].\n",
    "\\end{equation}\n",
    "The heterogeneous treatment effect on the treated can be similarly defined by\n",
    "\\begin{equation}\n",
    "\\tau_t(s) = \\mathbb{E}[Y_t(1)-Y_t(0)|D=1,S=s],\n",
    "\\end{equation}\n",
    "where we also condition on the covariates $S=s$ to denote the individualized treatment effect.\n",
    "\n",
    "For the units in treated group, we can estimate the potential outcome $\\mathbb{E}[Y_t(1)|D=1]$ from observational data after they received treatment (under SUTVA assumption that we are going to introduce very shortly). The tricky part of estimating ATT lies in the estimation of the counterfactual, $\\mathbb{E}[Y_t(0)|D=1]$. That is, we need to answer the question ``What's the potential outcome for a treated unit if it was untreated?\"\n",
    "\n",
    "The key idea of diff-in-diff approach is that we can utilize the information in the control unit group, i.e. finding similar units who have never been treated before and after treatment time to construct an estimator for $\\mathbb{E}[Y_t(0)|D=1]$. To achieve this, we need some further assumptions aside from SUTVA to guarantee that the similarity between treated and control groups can be ``transfered\".\n"
   ]
  },
  {
   "cell_type": "markdown",
   "id": "f64b5978",
   "metadata": {
    "id": "LAtbTkgLbcZU"
   },
   "source": [
    "### Assumptions \n",
    "\n",
    "* `SUTVA`: $Y_t=dY_t(1) + (1-d) Y_t(0)$, $\\forall d\\in \\{0,1\\}$\n",
    "* `exogeneity`: the covariates $S$ won't be affected by the treatment assigned to the subject, i.e. $S(d)=S$ for any $d\\in\\{0,1\\}$.\n",
    "* `NEPT`: the treatment has No Effect on the Pre-Treated population (NEPT), i.e. $\\tau_0(s)=0,$ $\\forall s\\in\\mathcal{S}$.\n",
    "* `parallel trend`: the outcomes in treatment and control groups follow the same trend. That is,\n",
    "\\begin{equation}\n",
    "\\begin{aligned}\n",
    "\\mathbb{E}[Y_1(0)|S_i=s,D=1]- \\mathbb{E}[Y_1(0)|S_i=s,D=0]=\\mathbb{E}[Y_0(0)|S_i=s,D=1]- \\mathbb{E}[Y_0(0)|S_i=s,D=0]\n",
    "\\end{aligned}\n",
    "\\end{equation}\n",
    "\n",
    "\n",
    "### Estimation\n",
    "The heterogeneous treatment effect on the treated group can be estimated by\n",
    "\\begin{equation}\n",
    "\\tau_1(s) = \\mathbb{E}[Y_1|S=s,D=1]-\\mathbb{E}[Y_1|S=s,D=0]-\\mathbb{E}[Y_0|S=s,D=1]+\\mathbb{E}[Y_0|S=s,D=0]\n",
    "\\end{equation}\n",
    "\n",
    "The name ``difference-in-difference\" comes from the expression above, where we are taking the difference of the post-treatment effect and pre-treatment effect between treated group and control group."
   ]
  },
  {
   "cell_type": "markdown",
   "id": "ed6c839b",
   "metadata": {},
   "source": [
    "### Demo\n",
    "\n",
    "In this section, we estimate the individualized treatment effect over time through a simple dataset. This data is available in [Card and Krueger (1994)](https://davidcard.berkeley.edu/papers/njmin-aer.pdf), which aims to investigate the effect of raising the in-state minimum wage on employment. \n"
   ]
  },
  {
   "cell_type": "code",
   "execution_count": 1,
   "id": "54f2dba0",
   "metadata": {},
   "outputs": [],
   "source": [
    "# this is the demo for panel data\n",
    "# https://www.kaggle.com/code/harrywang/difference-in-differences-in-python/input\n",
    "# https://www.kaggle.com/datasets/parulpandey/covid19-clinical-trials-dataset\n",
    "# https://www.kaggle.com/code/sandhyakrishnan02/econometric-analysis-of-panel-data-using-r/input\n",
    "# employment: https://www.kaggle.com/datasets/harrywang/propensity-score-matching?resource=downloa\n"
   ]
  },
  {
   "cell_type": "markdown",
   "id": "56995de6",
   "metadata": {},
   "source": [
    "The dataset contains 384 rows in total, where each row denotes a specific fast-food restaurant in New Jersey or Pennsylvania. On April 1, 1992, New Jersey raised the state minimum wage from $\\$$4.25 to $\\$$5.05 while the minimum wage in Pennsylvania stays the same at $\\$$4.25. For each company, we record the total number of employees in Febuarary (i.e. before executing new policy) and the number of employees in November (i.e. after executing the new policy)."
   ]
  },
  {
   "cell_type": "code",
   "execution_count": 2,
   "id": "6fd6c42a",
   "metadata": {
    "scrolled": true
   },
   "outputs": [
    {
     "data": {
      "text/html": [
       "<div>\n",
       "<style scoped>\n",
       "    .dataframe tbody tr th:only-of-type {\n",
       "        vertical-align: middle;\n",
       "    }\n",
       "\n",
       "    .dataframe tbody tr th {\n",
       "        vertical-align: top;\n",
       "    }\n",
       "\n",
       "    .dataframe thead th {\n",
       "        text-align: right;\n",
       "    }\n",
       "</style>\n",
       "<table border=\"1\" class=\"dataframe\">\n",
       "  <thead>\n",
       "    <tr style=\"text-align: right;\">\n",
       "      <th></th>\n",
       "      <th>state</th>\n",
       "      <th>total_emp_feb</th>\n",
       "      <th>total_emp_nov</th>\n",
       "    </tr>\n",
       "  </thead>\n",
       "  <tbody>\n",
       "    <tr>\n",
       "      <th>0</th>\n",
       "      <td>0</td>\n",
       "      <td>40.50</td>\n",
       "      <td>24.0</td>\n",
       "    </tr>\n",
       "    <tr>\n",
       "      <th>1</th>\n",
       "      <td>0</td>\n",
       "      <td>13.75</td>\n",
       "      <td>11.5</td>\n",
       "    </tr>\n",
       "    <tr>\n",
       "      <th>2</th>\n",
       "      <td>0</td>\n",
       "      <td>8.50</td>\n",
       "      <td>10.5</td>\n",
       "    </tr>\n",
       "    <tr>\n",
       "      <th>3</th>\n",
       "      <td>0</td>\n",
       "      <td>34.00</td>\n",
       "      <td>20.0</td>\n",
       "    </tr>\n",
       "    <tr>\n",
       "      <th>4</th>\n",
       "      <td>0</td>\n",
       "      <td>24.00</td>\n",
       "      <td>35.5</td>\n",
       "    </tr>\n",
       "  </tbody>\n",
       "</table>\n",
       "</div>"
      ],
      "text/plain": [
       "   state  total_emp_feb  total_emp_nov\n",
       "0      0          40.50           24.0\n",
       "1      0          13.75           11.5\n",
       "2      0           8.50           10.5\n",
       "3      0          34.00           20.0\n",
       "4      0          24.00           35.5"
      ]
     },
     "execution_count": 2,
     "metadata": {},
     "output_type": "execute_result"
    }
   ],
   "source": [
    "# load the data\n",
    "import numpy as np\n",
    "import pandas as pd\n",
    "import os\n",
    "os.chdir('/Users/alinaxu/Documents/CDM/CausalDM')\n",
    "data_employment = pd.read_csv('./causaldm/data/employment.csv')\n",
    "data_employment.head()"
   ]
  },
  {
   "cell_type": "code",
   "execution_count": 20,
   "id": "56893f23",
   "metadata": {},
   "outputs": [
    {
     "data": {
      "text/plain": [
       "(75, 309)"
      ]
     },
     "execution_count": 20,
     "metadata": {},
     "output_type": "execute_result"
    }
   ],
   "source": [
    "n_PA = len(data_employment[data_employment.state == 0])\n",
    "n_NJ = len(data_employment[data_employment.state == 1])\n",
    "n_PA, n_NJ"
   ]
  },
  {
   "cell_type": "code",
   "execution_count": 24,
   "id": "11a87ec5",
   "metadata": {},
   "outputs": [
    {
     "data": {
      "text/plain": [
       "(23.38, 21.1, 20.43, 20.9)"
      ]
     },
     "execution_count": 24,
     "metadata": {},
     "output_type": "execute_result"
    }
   ],
   "source": [
    "# calculate the estimated \n",
    "Y_PA_feb = round(data_employment[data_employment.state == 0].total_emp_feb.sum()/n_PA,2)\n",
    "Y_PA_nov = round(data_employment[data_employment.state == 0].total_emp_nov.sum()/n_PA,2)\n",
    "Y_NJ_feb = round(data_employment[data_employment.state == 1].total_emp_feb.sum()/n_NJ,2)\n",
    "Y_NJ_nov = round(data_employment[data_employment.state == 1].total_emp_nov.sum()/n_NJ,2)\n",
    "Y_PA_feb, Y_PA_nov, Y_NJ_feb, Y_NJ_nov"
   ]
  },
  {
   "cell_type": "markdown",
   "id": "766ffae8",
   "metadata": {},
   "source": [
    "Definition of three columns:\n",
    "*  ``State\": PA(0) and NJ(1)\n",
    "*  ``total_emp_feb\": Total number of employees in Febuarary, 1992.\n",
    "*  ``total_emp_nov\": Total number of employees in November, 1992.\n",
    "\n",
    "In this example, we define the treated group as the restaurants in NJ, and control group as the restaurants in PA. \n",
    "First, if we look at the control group (i.e. restaurants in PA), the average number of employees is 23.38 in Feb and changes to 21.1 in Nov, yielding \n",
    "\\begin{equation}\n",
    "    \\hat{\\mathbb{E}}[Y_1|D=0]-\\hat{\\mathbb{E}}[Y_0|D=0] = 21.1 - 23.38 = -2.28.\n",
    "\\end{equation}\n",
    "Similarly, for treated group (i.e. restaurants in NJ), the average number of employees is 20.43 in Feb and changes to 20.9 in Nov, yielding \n",
    "\\begin{equation}\n",
    "    \\hat{\\mathbb{E}}[Y_1|D=0]-\\hat{\\mathbb{E}}[Y_0|D=0] = 20.9 - 20.43 = 0.47.\n",
    "\\end{equation}\n",
    "According to the diff-in-diff expression, raising minimum wage in state has a positive impact on the employment. The average treatment effect is estimated by\n",
    "\\begin{equation}\n",
    "\\hat{\\tau} = \\hat{\\mathbb{E}}[Y_1|D=1]-\\hat{\\mathbb{E}}[Y_1|D=0]-\\hat{\\mathbb{E}}[Y_0|D=1]+\\hat{\\mathbb{E}}[Y_0|D=0] =  0.47 - (-2.28) = 2.75.\n",
    "\\end{equation}"
   ]
  },
  {
   "cell_type": "code",
   "execution_count": null,
   "id": "24952499",
   "metadata": {},
   "outputs": [],
   "source": []
  },
  {
   "cell_type": "markdown",
   "id": "b40f8757",
   "metadata": {},
   "source": [
    "### Time-Varying ATT\n",
    "\n"
   ]
  },
  {
   "cell_type": "markdown",
   "id": "9541b3ea",
   "metadata": {},
   "source": [
    "\n",
    "Notations:\n",
    "* $G_i\\in\\{0,1\\}$: State indicator denoting whether unit $i$ is in the control or treated group;\n",
    "* $T_i\\in\\{0,1\\}$: Time of the observation. $T_i=0$ if $0\\leq t\\leq T_0$, and $T_i=1$ if $T_0+1\\leq T_i\\leq T_0+T_1$.\n",
    "\n",
    "\n",
    "$G_i=1$ if unit $i$ comes from the treatment group, and $G_i=0$ if it is in control group. Similarly, define $T_i=1$ if the unit is in the post-treatment period, and $T_i=0$ if it's in pre-treatment period. The observed outcome is given by\n",
    "\\begin{equation}\n",
    "    Y_i = (1-G_iT_i)\\cdot Y_i(0) + G_iT_i\\cdot Y_i(1),\n",
    "\\end{equation}\n",
    "where $Y_i(a)$ denotes the potential outcome one would observe under action $A=a$.\n",
    "\n",
    "\n",
    "The difference of average outcomes for the $m$ treated units after and before the treatment time point is given by\n",
    "\\begin{equation}\n",
    "D_{\\text{tr}} = \\frac{1}{m} \\sum_{i=1}^m\\Big[\\frac{1}{T_1}\\sum_{t=T_0+1}^{T_0+T_1} Y_{i,t}-\\frac{1}{T_0} \\sum_{t=1}^{T_0} Y_{i,t}\\Big]\n",
    "\\end{equation}\n",
    "\n",
    "\n",
    "Similarly, the difference of average outcomes for the $n$ control units after and before the treatment time point is given by\n",
    "\\begin{equation}\n",
    "D_{\\text{co}} = \\frac{1}{n} \\sum_{i=m+1}^{m+n}\\Big[\\frac{1}{T_1}\\sum_{t=T_0+1}^{T_0+T_1} Y_{i,t}-\\frac{1}{T_0}\\sum_{t=1}^{T_0} Y_{i,t}\\Big]\n",
    "\\end{equation}\n",
    "\n",
    "Under the parallel trend assumption, we are able to subtract the effect that's not caused by treatment intervention:\n",
    "\\begin{equation}\n",
    "\\hat{\\Delta} = D_{\\text{tr}} - D_{\\text{co}} = \\frac{1}{m} \\sum_{i=1}^m\\Big[\\frac{1}{T_1}\\sum_{t=T_0+1}^{T_0+T_1} Y_{i,t}-\\frac{1}{T_0} \\sum_{t=1}^{T_0} Y_{i,t}\\Big] - \\frac{1}{n} \\sum_{i=m+1}^{m+n}\\Big[\\frac{1}{T_1}\\sum_{t=T_0+1}^{T_0+T_1} Y_{i,t}-\\frac{1}{T_0}\\sum_{t=1}^{T_0} Y_{i,t}\\Big].\n",
    "\\end{equation}"
   ]
  },
  {
   "cell_type": "markdown",
   "id": "1098b550",
   "metadata": {
    "id": "1098b550"
   },
   "source": [
    "## References\n",
    "\n",
    "1. Lechner, Michael. \"The estimation of causal effects by difference-in-difference methods.\" Foundations and Trends® in Econometrics 4.3 (2011): 165-224.\n",
    "\n",
    "2. Goodman-Bacon, Andrew. \"Difference-in-differences with variation in treatment timing.\" Journal of Econometrics 225.2 (2021): 254-277."
   ]
  },
  {
   "cell_type": "code",
   "execution_count": null,
   "id": "a12dcfc1",
   "metadata": {},
   "outputs": [],
   "source": []
  }
 ],
 "metadata": {
  "colab": {
   "collapsed_sections": [
    "1098b550"
   ],
   "provenance": []
  },
  "kernelspec": {
   "display_name": "Python 3 (ipykernel)",
   "language": "python",
   "name": "python3"
  },
  "language_info": {
   "codemirror_mode": {
    "name": "ipython",
    "version": 3
   },
   "file_extension": ".py",
   "mimetype": "text/x-python",
   "name": "python",
   "nbconvert_exporter": "python",
   "pygments_lexer": "ipython3",
   "version": "3.9.12"
  }
 },
 "nbformat": 4,
 "nbformat_minor": 5
}
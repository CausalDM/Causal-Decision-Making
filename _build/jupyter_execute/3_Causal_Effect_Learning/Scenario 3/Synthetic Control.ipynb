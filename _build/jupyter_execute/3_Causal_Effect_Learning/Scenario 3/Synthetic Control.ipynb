{
 "cells": [
  {
   "cell_type": "markdown",
   "id": "XUdcqLkabYny",
   "metadata": {
    "id": "XUdcqLkabYny"
   },
   "source": [
    "### **Synthetic Control**\n",
    "\n",
    "\n",
    "### Background\n",
    "Unlike the Difference-in-Differences (DiD) method, synthetic control is a frequently employed technique when dealing with datasets where there is a significant imbalance between the number of control units and treated units. DiD methods typically demand a high degree of comparability between the treated and control groups to establish the critical \"parallel trend\" assumption. However, this assumption becomes challenging to fulfill when the dataset contains only a limited number, or even just a single, treated unit, often due to issues related to data collection or funding constraints. In this situation, synthetic control aims to reweight the substantial information in control group to provide another perspective to learn the conterfactuals for treated unit(s).\n",
    "\n",
    "To illustrate the basic idea of synthetic control, we suppose that there are $N$ units and $T$ time periods in total, and denote $Y_{it}$ as the outcome for unit $i$ in period $t$. Without the loss of generality, suppose the first $N_{\\text{tr}}$ units are in the treated group, which will receive treatment starting from period $T_0+1$. The rest $N_{\\text{co}} := N-N_{\\text{tr}}$ units belong to the control group, which have no possibility to be exposed to treatment at any time.\n",
    "\n",
    "\n",
    "### Algorithm \n",
    "\n",
    "There are two main steps in synthetic control methods: \n",
    "\n",
    "**Step 1:** Calculate the weights $\\hat{\\omega}_i^{\\text{sdid}}$ that align pre-exposure trends in the outcome of control units for treated units；\n",
    "\n",
    "\\begin{equation}\n",
    "    \\hat{Y}_{it} = \\hat{\\omega}_{i0} + \\sum_{j=N_{\\text{co}}+1}^{N}\\hat{\\omega}_{ij} Y_{jt}, \\qquad \\forall i\\in\\{1,\\dots, N_{\\text{tr}}\\}, \\forall t\\in \\{1,\\dots,T\\},\n",
    "\\end{equation}\n",
    "where \n",
    "\\begin{equation}\n",
    "\\hat{\\omega}_i = \\arg\\min_{\\omega} \\sum_{1\\leq t\\leq T_0} \\bigg(Y_{it} - \\omega_{i0} -\\sum_{j=1}^{N_{\\text{co}}} \\omega_{ij} Y_{jt}\\bigg)^2\n",
    "\\end{equation}\n",
    "\n",
    "\n",
    "**Step 2:** Use the weights to estimate the post-exposure conterfactuals in causal effect estimation.\n",
    "\n",
    "\n"
   ]
  },
  {
   "cell_type": "markdown",
   "id": "2f85b822",
   "metadata": {},
   "source": [
    "### Demo\n",
    "In the following part, we use the [Abadie-Diamond-Hainmueller California smoking data](https://www.tandfonline.com/doi/abs/10.1198/jasa.2009.ap08746?casa_token=aNT_5z3JHO0AAAAA:vyxa3Kh7WQsLZ0w5CzcvyiV-YvIJHO8kJOgYkfM14zIipcgSLxEJXN2Fr0BCpJax3xihcqbCt9S1) to illustrate how we can calculate the treatment effect on the treated via synthetic control.\n",
    "\n",
    "In this dataset, our goal aims to study the effects of Proposition 99, a large-scale tobacco\n",
    "control program that California implemented in 1988. Typically, the annual tobacco consumption was evaluated from 1970 to 2000 for a total of $N=39$ states (including California). Therefore, this dataset contains $N = 39$ units with $N_{\\text{co}} = 38$ states in the control group, and only one unit ($N_{\\text{tr}} = 1$, corresponding to the California state) starting from the $19$th period.\n"
   ]
  },
  {
   "cell_type": "code",
   "execution_count": 1,
   "id": "33d37227",
   "metadata": {},
   "outputs": [
    {
     "data": {
      "text/html": [
       "<div>\n",
       "<style scoped>\n",
       "    .dataframe tbody tr th:only-of-type {\n",
       "        vertical-align: middle;\n",
       "    }\n",
       "\n",
       "    .dataframe tbody tr th {\n",
       "        vertical-align: top;\n",
       "    }\n",
       "\n",
       "    .dataframe thead th {\n",
       "        text-align: right;\n",
       "    }\n",
       "</style>\n",
       "<table border=\"1\" class=\"dataframe\">\n",
       "  <thead>\n",
       "    <tr style=\"text-align: right;\">\n",
       "      <th></th>\n",
       "      <th>California</th>\n",
       "      <th>1</th>\n",
       "      <th>2</th>\n",
       "      <th>3</th>\n",
       "      <th>4</th>\n",
       "      <th>5</th>\n",
       "      <th>6</th>\n",
       "      <th>7</th>\n",
       "      <th>8</th>\n",
       "      <th>9</th>\n",
       "      <th>...</th>\n",
       "      <th>29</th>\n",
       "      <th>30</th>\n",
       "      <th>31</th>\n",
       "      <th>32</th>\n",
       "      <th>33</th>\n",
       "      <th>34</th>\n",
       "      <th>35</th>\n",
       "      <th>36</th>\n",
       "      <th>37</th>\n",
       "      <th>38</th>\n",
       "    </tr>\n",
       "  </thead>\n",
       "  <tbody>\n",
       "    <tr>\n",
       "      <th>1970</th>\n",
       "      <td>123.0</td>\n",
       "      <td>89.8</td>\n",
       "      <td>100.3</td>\n",
       "      <td>124.8</td>\n",
       "      <td>120.0</td>\n",
       "      <td>155.0</td>\n",
       "      <td>109.9</td>\n",
       "      <td>102.4</td>\n",
       "      <td>124.8</td>\n",
       "      <td>134.6</td>\n",
       "      <td>...</td>\n",
       "      <td>103.6</td>\n",
       "      <td>92.7</td>\n",
       "      <td>99.8</td>\n",
       "      <td>106.4</td>\n",
       "      <td>65.5</td>\n",
       "      <td>122.6</td>\n",
       "      <td>124.3</td>\n",
       "      <td>114.5</td>\n",
       "      <td>106.4</td>\n",
       "      <td>132.2</td>\n",
       "    </tr>\n",
       "    <tr>\n",
       "      <th>1971</th>\n",
       "      <td>121.0</td>\n",
       "      <td>95.4</td>\n",
       "      <td>104.1</td>\n",
       "      <td>125.5</td>\n",
       "      <td>117.6</td>\n",
       "      <td>161.1</td>\n",
       "      <td>115.7</td>\n",
       "      <td>108.5</td>\n",
       "      <td>125.6</td>\n",
       "      <td>139.3</td>\n",
       "      <td>...</td>\n",
       "      <td>115.0</td>\n",
       "      <td>96.7</td>\n",
       "      <td>106.3</td>\n",
       "      <td>108.9</td>\n",
       "      <td>67.7</td>\n",
       "      <td>124.4</td>\n",
       "      <td>128.4</td>\n",
       "      <td>111.5</td>\n",
       "      <td>105.4</td>\n",
       "      <td>131.7</td>\n",
       "    </tr>\n",
       "    <tr>\n",
       "      <th>1972</th>\n",
       "      <td>123.5</td>\n",
       "      <td>101.1</td>\n",
       "      <td>103.9</td>\n",
       "      <td>134.3</td>\n",
       "      <td>110.8</td>\n",
       "      <td>156.3</td>\n",
       "      <td>117.0</td>\n",
       "      <td>126.1</td>\n",
       "      <td>126.6</td>\n",
       "      <td>149.2</td>\n",
       "      <td>...</td>\n",
       "      <td>118.7</td>\n",
       "      <td>103.0</td>\n",
       "      <td>111.5</td>\n",
       "      <td>108.6</td>\n",
       "      <td>71.3</td>\n",
       "      <td>138.0</td>\n",
       "      <td>137.0</td>\n",
       "      <td>117.5</td>\n",
       "      <td>108.8</td>\n",
       "      <td>140.0</td>\n",
       "    </tr>\n",
       "    <tr>\n",
       "      <th>1973</th>\n",
       "      <td>124.4</td>\n",
       "      <td>102.9</td>\n",
       "      <td>108.0</td>\n",
       "      <td>137.9</td>\n",
       "      <td>109.3</td>\n",
       "      <td>154.7</td>\n",
       "      <td>119.8</td>\n",
       "      <td>121.8</td>\n",
       "      <td>124.4</td>\n",
       "      <td>156.0</td>\n",
       "      <td>...</td>\n",
       "      <td>125.5</td>\n",
       "      <td>103.5</td>\n",
       "      <td>109.7</td>\n",
       "      <td>110.4</td>\n",
       "      <td>72.7</td>\n",
       "      <td>146.8</td>\n",
       "      <td>143.1</td>\n",
       "      <td>116.6</td>\n",
       "      <td>109.5</td>\n",
       "      <td>141.2</td>\n",
       "    </tr>\n",
       "    <tr>\n",
       "      <th>1974</th>\n",
       "      <td>126.7</td>\n",
       "      <td>108.2</td>\n",
       "      <td>109.7</td>\n",
       "      <td>132.8</td>\n",
       "      <td>112.4</td>\n",
       "      <td>151.3</td>\n",
       "      <td>123.7</td>\n",
       "      <td>125.6</td>\n",
       "      <td>131.9</td>\n",
       "      <td>159.6</td>\n",
       "      <td>...</td>\n",
       "      <td>129.7</td>\n",
       "      <td>108.4</td>\n",
       "      <td>114.8</td>\n",
       "      <td>114.7</td>\n",
       "      <td>75.6</td>\n",
       "      <td>151.8</td>\n",
       "      <td>149.6</td>\n",
       "      <td>119.9</td>\n",
       "      <td>111.8</td>\n",
       "      <td>145.8</td>\n",
       "    </tr>\n",
       "  </tbody>\n",
       "</table>\n",
       "<p>5 rows × 39 columns</p>\n",
       "</div>"
      ],
      "text/plain": [
       "      California      1      2      3      4      5      6      7      8  \\\n",
       "1970       123.0   89.8  100.3  124.8  120.0  155.0  109.9  102.4  124.8   \n",
       "1971       121.0   95.4  104.1  125.5  117.6  161.1  115.7  108.5  125.6   \n",
       "1972       123.5  101.1  103.9  134.3  110.8  156.3  117.0  126.1  126.6   \n",
       "1973       124.4  102.9  108.0  137.9  109.3  154.7  119.8  121.8  124.4   \n",
       "1974       126.7  108.2  109.7  132.8  112.4  151.3  123.7  125.6  131.9   \n",
       "\n",
       "          9  ...     29     30     31     32    33     34     35     36  \\\n",
       "1970  134.6  ...  103.6   92.7   99.8  106.4  65.5  122.6  124.3  114.5   \n",
       "1971  139.3  ...  115.0   96.7  106.3  108.9  67.7  124.4  128.4  111.5   \n",
       "1972  149.2  ...  118.7  103.0  111.5  108.6  71.3  138.0  137.0  117.5   \n",
       "1973  156.0  ...  125.5  103.5  109.7  110.4  72.7  146.8  143.1  116.6   \n",
       "1974  159.6  ...  129.7  108.4  114.8  114.7  75.6  151.8  149.6  119.9   \n",
       "\n",
       "         37     38  \n",
       "1970  106.4  132.2  \n",
       "1971  105.4  131.7  \n",
       "1972  108.8  140.0  \n",
       "1973  109.5  141.2  \n",
       "1974  111.8  145.8  \n",
       "\n",
       "[5 rows x 39 columns]"
      ]
     },
     "execution_count": 1,
     "metadata": {},
     "output_type": "execute_result"
    }
   ],
   "source": [
    "# load the data\n",
    "# california smoking data: https://github.com/susanathey/MCPanel/blob/master/tests/examples_from_paper/california/smok_outcome.csv\n",
    "import numpy as np\n",
    "import pandas as pd\n",
    "smoke_X = pd.read_csv('smoke_covariates.csv', header = None)\n",
    "smoke_A = pd.read_csv('smoke_treatment.csv', header = None)\n",
    "smoke_R = pd.read_csv('smoke_outcome.csv', header = None)\n",
    "\n",
    "smoke_R.index = list(np.linspace(1970,2000,31).astype(int).astype(str))\n",
    "smoke_A.index = list(np.linspace(1970,2000,31).astype(int).astype(str))\n",
    "smoke_R = smoke_R.rename(columns={0: \"California\"})\n",
    "smoke_A = smoke_A.rename(columns={0: \"California\"})\n",
    "\n",
    "smoke_R.head()"
   ]
  },
  {
   "cell_type": "markdown",
   "id": "0fb7bdbd",
   "metadata": {
    "id": "LAtbTkgLbcZU"
   },
   "source": [
    "Details about the dataset:\n",
    "\n",
    "*  `smoke_X`: a $7\\times 39$ dimensional matrix where each column denotes the contextual information of a specific state. The first column corresponds to California, i.e. the treated unit.\n",
    "*  `smoke_A`: a $31\\times 39$ dimensional matrix with each column denoting a specific unit trajectory among all periods. In this example, the total number of periods is $T = 31$, and the number of pre-treatment preriods is $T_0 = 18$. It is worth noting that except for the first column (which corresponds to the treated unit - California), the treatment of all other units at all periods are $0$.\n",
    "\n",
    "*  `smoke_R`: a $31\\times 39$ dimensional matrix where the $(t,i)$th element denotes the observed reward for state $i$ in time period $t$.\n",
    "\n"
   ]
  },
  {
   "cell_type": "code",
   "execution_count": 2,
   "id": "7380afc9",
   "metadata": {},
   "outputs": [],
   "source": [
    "N = np.shape(smoke_R)[1]\n",
    "T = np.shape(smoke_R)[0]\n",
    "T0 = 18"
   ]
  },
  {
   "cell_type": "code",
   "execution_count": 3,
   "id": "ca2e2dc9",
   "metadata": {
    "scrolled": true
   },
   "outputs": [
    {
     "name": "stdout",
     "output_type": "stream",
     "text": [
      "[-0.         -0.          0.03980357  0.07157998  0.         -0.\n",
      "  0.          0.22667637 -0.          0.          0.02990258  0.\n",
      "  0.          0.          0.00037257 -0.02313041 -0.          0.09714507\n",
      "  0.16905554  0.19878875  0.06427401  0.          0.         -0.\n",
      " -0.          0.          0.         -0.         -0.          0.\n",
      " -0.09209638  0.          0.05463154 -0.          0.          0.\n",
      "  0.          0.        ]\n",
      "38\n"
     ]
    }
   ],
   "source": [
    "# Step 1: calculate the weights to quantify the pre-exposure relationship between the treated unit and control units\n",
    "\n",
    "from sklearn import linear_model\n",
    "pre_expo_R_ctl = smoke_R.iloc[0:T0+1,1:N]\n",
    "pre_expo_R_trt = smoke_R.iloc[0:T0+1,0]\n",
    "post_expo_R_ctl = smoke_R.iloc[T0+1:T,1:N]\n",
    "post_expo_R_trt = smoke_R.iloc[T0+1:T,0]\n",
    "# fit a lasso regression to select the top units that have higher influence on the treated unit California\n",
    "\n",
    "clf = linear_model.Lasso(alpha=1)\n",
    "clf.fit(pre_expo_R_ctl, pre_expo_R_trt)\n",
    "\n",
    "print(clf.coef_)\n",
    "print(len(clf.coef_))\n",
    "#print(clf.intercept_)"
   ]
  },
  {
   "cell_type": "code",
   "execution_count": 4,
   "id": "f1c6d492",
   "metadata": {},
   "outputs": [
    {
     "data": {
      "image/png": "[encoded data removed]",
      "text/plain": [
       "<Figure size 1080x432 with 1 Axes>"
      ]
     },
     "metadata": {
      "needs_background": "light"
     },
     "output_type": "display_data"
    }
   ],
   "source": [
    "# Step 2: using the weights estimated in Step 1 to estimate the counterfactual of treated unit (California) in post-exposure period\n",
    "post_expo_R_trt_counterfactual = clf.predict(post_expo_R_ctl)\n",
    "\n",
    "# now we use a plot to show the estimated post-treatment effect in California.\n",
    "import matplotlib.pyplot as plt\n",
    "plt.figure(figsize=(15,6))\n",
    "plt.plot(smoke_R.iloc[:,0], label = \"California (observed value)\")\n",
    "plt.plot(clf.predict(smoke_R.iloc[:,1:N]), label = \"Synthetic Control (predicted value for counterfactual)\")\n",
    "plt.vlines(x=\"1988\", ymin=40, ymax=130, linestyle=\":\", label=\"treatment starting time\")\n",
    "plt.ylabel(\"per-capita cigarette sales (in packs)\")\n",
    "plt.legend();"
   ]
  },
  {
   "cell_type": "markdown",
   "id": "a1b74027",
   "metadata": {},
   "source": [
    "As we can see from the figure above, the execution of Proposition 99 can effectly reduce the pre-capita cigarette sales in California. The longer time after treatment time, the larger the treatment effect tends to be."
   ]
  },
  {
   "cell_type": "markdown",
   "id": "1098b550",
   "metadata": {
    "id": "1098b550"
   },
   "source": [
    "## References\n",
    "\n",
    "    [1] Abadie, A., Diamond, A., and Hainmueller, J. (2010), “Synthetic Control Methods for Comparative Case Studies: Estimating the Effect of California’s Tobacco Control Program,” Journal of the American Statistical Association, 105, 493–505. [2068,2069,2070,2071]\n",
    "\n",
    "    [2] Li, K. T. (2020), “Statistical Inference for Average Treatment Effects Esti-mated by Synthetic Control Methods,”Journal of the American StatisticalAssociation, 115, 2068–2083. [1716]"
   ]
  },
  {
   "cell_type": "code",
   "execution_count": null,
   "id": "fc5ed54c",
   "metadata": {},
   "outputs": [],
   "source": []
  }
 ],
 "metadata": {
  "colab": {
   "collapsed_sections": [
    "1098b550"
   ],
   "provenance": []
  },
  "kernelspec": {
   "display_name": "Python 3 (ipykernel)",
   "language": "python",
   "name": "python3"
  },
  "language_info": {
   "codemirror_mode": {
    "name": "ipython",
    "version": 3
   },
   "file_extension": ".py",
   "mimetype": "text/x-python",
   "name": "python",
   "nbconvert_exporter": "python",
   "pygments_lexer": "ipython3",
   "version": "3.9.12"
  }
 },
 "nbformat": 4,
 "nbformat_minor": 5
}